{
 "cells": [
  {
   "cell_type": "markdown",
   "metadata": {},
   "source": [
    "# New Raster Mask\n",
    "\n",
    "Created 2019-01-15\n",
    "This program takes the code from Raster Mask and cleans it up for use to do two things:\n",
    "\n",
    "1. Create new rasters with a simple mask applied\n",
    "2. Complete connected components of two masks\n",
    "\n",
    "Check crs of raster\n",
    "'EPSG:4326' ... or EPSG: 54009"
   ]
  },
  {
   "cell_type": "code",
   "execution_count": 1,
   "metadata": {},
   "outputs": [],
   "source": [
    "import rasterio\n",
    "from rasterio.mask import mask\n",
    "import pandas as pd\n",
    "import geopandas as gpd\n",
    "from shapely.geometry import Polygon\n",
    "import numpy as np\n",
    "import matplotlib.pyplot as plt"
   ]
  },
  {
   "cell_type": "markdown",
   "metadata": {},
   "source": [
    "### Inputs"
   ]
  },
  {
   "cell_type": "code",
   "execution_count": 2,
   "metadata": {},
   "outputs": [],
   "source": [
    "temp_data = '../../temp_data/'\n",
    "raster_interim = '../../data/interim/'\n",
    "raster_raw = '../../data/'"
   ]
  },
  {
   "cell_type": "markdown",
   "metadata": {},
   "source": [
    "### Functions"
   ]
  },
  {
   "cell_type": "code",
   "execution_count": 3,
   "metadata": {},
   "outputs": [],
   "source": [
    "# Let's try to make the mask directy with rasterio\n",
    "\n",
    "def raster_mask_poly(raster, band, density, crs):\n",
    "    \"\"\"Fucntion makes numpy array for of raster then applies mask.\n",
    "    requires rasterio object, band number, and density as float on int and crs of raster\n",
    "    returns dict of polygons and numpy mask\n",
    "    \"\"\"\n",
    "\n",
    "    mask = raster.read(band)\n",
    "    mask[mask < density] = 0 # mask as zeros \n",
    "    mask[mask >= density] = 1 \n",
    "    \n",
    "    # Extract feature shapes and values from the array.\n",
    "    for geom, val in rasterio.features.shapes(mask, transform=raster.transform):\n",
    "        \n",
    "        # Transform shapes from the dataset's own coordinate\n",
    "        # reference system to CRS84 (EPSG:4326) removed 2019-01-15\n",
    "        geom = rasterio.warp.transform_geom(raster.crs, crs, geom, precision=6) # WGS84 (EPSG 4326)\n",
    "    \n",
    "    # turn geom into Polygon object from shapely    \n",
    "    # Polygon(geom['coordinates'][0])\n",
    "    poly_gdf = gpd.GeoDataFrame()\n",
    "    for i, poly in enumerate(geom['coordinates']):\n",
    "        poly_gdf.loc[i,'geometry']= Polygon(poly)\n",
    "\n",
    "    return mask, geom, poly_gdf"
   ]
  },
  {
   "cell_type": "code",
   "execution_count": 4,
   "metadata": {},
   "outputs": [],
   "source": [
    "def raster_mask(raster, band, density):\n",
    "    \"Function returns raster mask\"\n",
    "    \n",
    "    mask = raster.read(band)\n",
    "    mask[mask < density] = 0 # mask as zeros and ones\n",
    "    mask[mask >= density] = 1\n",
    "    \n",
    "    return mask"
   ]
  },
  {
   "cell_type": "code",
   "execution_count": 5,
   "metadata": {},
   "outputs": [],
   "source": [
    "# Let's try to make polygons\n",
    "\n",
    "def raster_poly(raster, band, crs):\n",
    "    \"\"\"Fucntion makes ploygons for of raster returns dict of polygons\"\"\"\n",
    "\n",
    "    mask = raster.read(band)\n",
    "    \n",
    "    # Extract feature shapes and values from the array.\n",
    "    for geom, val in rasterio.features.shapes(mask, transform=raster.transform):\n",
    "        \n",
    "        # Transform shapes from the dataset's own coordinate\n",
    "        # reference system to CRS84 (EPSG:4326).\n",
    "        geom = rasterio.warp.transform_geom(raster.crs, crs, geom, precision=6) # WGS84 (EPSG 4326)\n",
    "    \n",
    "    # turn geom into Polygon object from shapely    \n",
    "    # Polygon(geom['coordinates'][0])\n",
    "    poly_gdf = gpd.GeoDataFrame()\n",
    "    for i, poly in enumerate(geom['coordinates']):\n",
    "        poly_gdf.loc[i,'geometry']= Polygon(poly)\n",
    "\n",
    "    return poly_gdf"
   ]
  },
  {
   "cell_type": "code",
   "execution_count": 6,
   "metadata": {},
   "outputs": [],
   "source": [
    "def raster_gpd(array, raster, crs):\n",
    "    \"\"\" \n",
    "    function takes an np array, raster\n",
    "    and returns polygons from the np array in the raster CRS\n",
    "    \"\"\"\n",
    "    for geom, val in rasterio.features.shapes(array, transform = raster.transform):\n",
    "\n",
    "        # Transform shapes from the dataset's own coordinate\n",
    "        # reference system to CRS84 (EPSG:4326). Removed # WGS84 (EPSG 4326) \n",
    "        geom = rasterio.warp.transform_geom(raster.crs, crs, geom, precision=6) \n",
    "\n",
    "    # turn geom into Polygon object from shapely    \n",
    "    # Polygon(geom['coordinates'][0])\n",
    "    poly_gdf = gpd.GeoDataFrame()\n",
    "    for i, poly in enumerate(geom['coordinates']):\n",
    "        poly_gdf.loc[i,'geometry']= Polygon(poly)\n",
    "    \n",
    "    return poly_gdf"
   ]
  },
  {
   "cell_type": "code",
   "execution_count": 7,
   "metadata": {},
   "outputs": [],
   "source": [
    "def raster_write(meta, array, file_out):\n",
    "    \"\"\" function to write out a raster file with an np array\n",
    "    requires meta data for raster, np array & file out path and name\n",
    "    \"\"\"\n",
    "    \n",
    "    kwargs = meta\n",
    "\n",
    "    # Update kwargs (change in data type)\n",
    "    kwargs.update(dtype=rasterio.float32, count = 1)\n",
    "\n",
    "    with rasterio.open(file_out, 'w', **kwargs) as dst:\n",
    "        dst.write_band(1, array.astype(rasterio.float32))"
   ]
  },
  {
   "cell_type": "markdown",
   "metadata": {},
   "source": [
    "### Polygons for >1500 ppl per km2"
   ]
  },
  {
   "cell_type": "code",
   "execution_count": 10,
   "metadata": {},
   "outputs": [],
   "source": [
    "file = 'AFR_PPP_2015_adj_v2_S_Sudan.tif'\n",
    "raster = rasterio.open(raster_interim+file)\n",
    "crs = raster.crs"
   ]
  },
  {
   "cell_type": "code",
   "execution_count": 11,
   "metadata": {},
   "outputs": [
    {
     "data": {
      "text/plain": [
       "{'driver': 'GTiff',\n",
       " 'dtype': 'float32',\n",
       " 'nodata': -3.4028234663852886e+38,\n",
       " 'width': 1803,\n",
       " 'height': 1578,\n",
       " 'count': 1,\n",
       " 'crs': CRS({'init': 'epsg:4326'}),\n",
       " 'transform': Affine(0.00833333329999305, 0.0, 22.182915824431404,\n",
       "        0.0, -0.00833333329999305, 13.749583647628462)}"
      ]
     },
     "execution_count": 11,
     "metadata": {},
     "output_type": "execute_result"
    }
   ],
   "source": [
    "raster.meta"
   ]
  },
  {
   "cell_type": "code",
   "execution_count": 12,
   "metadata": {},
   "outputs": [],
   "source": [
    "mask300m, geom300, poly_gdf300 = raster_mask_poly(raster, 1, 300, crs)"
   ]
  },
  {
   "cell_type": "code",
   "execution_count": null,
   "metadata": {},
   "outputs": [],
   "source": [
    "print(poly_gdf300.head(6))\n",
    "print(len(poly_gdf300))"
   ]
  },
  {
   "cell_type": "code",
   "execution_count": null,
   "metadata": {},
   "outputs": [],
   "source": [
    "# drop first row, which is bounding box of Africa and the write \n",
    "poly_gdf300 = poly_gdf300.drop(poly_gdf300.index[0], axis = 0)\n",
    "print(poly_gdf300.head(6))\n",
    "print(len(poly_gdf300))"
   ]
  },
  {
   "cell_type": "code",
   "execution_count": null,
   "metadata": {},
   "outputs": [],
   "source": [
    "#write out polygons \n",
    "# poly_gdf300.to_file(temp_data+'AFR_PPP_2015_adj_v2_300.shp', driver='ESRI Shapefile')"
   ]
  },
  {
   "cell_type": "markdown",
   "metadata": {},
   "source": [
    "### Connected Pixels 1500 - 300"
   ]
  },
  {
   "cell_type": "code",
   "execution_count": 16,
   "metadata": {},
   "outputs": [],
   "source": [
    "import os\n",
    "\n",
    "os.getcwd()\n",
    "os.chdir('/Users/cascade/Github/NTL/')\n",
    "os.getcwd()\n",
    "\n",
    "from src import raster_funcs"
   ]
  },
  {
   "cell_type": "code",
   "execution_count": 90,
   "metadata": {},
   "outputs": [],
   "source": [
    "file = 'GHS_POP_GPW42015_GLOBE_R2015A_54009_1k_v1_0_Clip_S_Sudan'\n",
    "raster = rasterio.open('data/interim/'+file+'.tif')\n",
    "crs = raster.crs"
   ]
  },
  {
   "cell_type": "code",
   "execution_count": 91,
   "metadata": {},
   "outputs": [],
   "source": [
    "mask300 = raster_mask(raster, 1, 300)\n",
    "mask1500 = raster_mask(raster, 1, 1500)"
   ]
  },
  {
   "cell_type": "code",
   "execution_count": 92,
   "metadata": {},
   "outputs": [],
   "source": [
    "mask1500c300 = raster_funcs.remove_isolated_pixels(mask1500, mask300)"
   ]
  },
  {
   "cell_type": "code",
   "execution_count": 93,
   "metadata": {},
   "outputs": [],
   "source": [
    "poly_gdf_1500c300 = raster_gpd(mask1500c300, raster, crs)"
   ]
  },
  {
   "cell_type": "code",
   "execution_count": 94,
   "metadata": {},
   "outputs": [
    {
     "name": "stdout",
     "output_type": "stream",
     "text": [
      "                                            geometry\n",
      "0  POLYGON ((3628405.452556 81029.461868, 3628405...\n",
      "1\n"
     ]
    }
   ],
   "source": [
    "print((poly_gdf_1500c300.head(6)))\n",
    "print(len(poly_gdf_1500c300))"
   ]
  },
  {
   "cell_type": "code",
   "execution_count": 88,
   "metadata": {},
   "outputs": [
    {
     "name": "stdout",
     "output_type": "stream",
     "text": [
      "                                            geometry\n",
      "1  POLYGON ((3548405.452556 87029.461868, 3549405...\n",
      "2  POLYGON ((2496405.452556 1683029.461868, 24964...\n",
      "3  POLYGON ((3473405.452556 89029.461868, 3474405...\n",
      "4  POLYGON ((3505405.452556 87029.461868, 3506405...\n",
      "5  POLYGON ((3463405.452556 89029.461868, 3465405...\n",
      "6  POLYGON ((3517405.452556 89029.461868, 3517405...\n",
      "2657\n"
     ]
    }
   ],
   "source": [
    "# drop first row, which is bounding box of Africa\n",
    "poly_gdf_1500c300_drop = poly_gdf_1500c300.drop(poly_gdf_1500c300.index[0], axis = 0)\n",
    "print((poly_gdf_1500c300_drop.head(6)))\n",
    "print(len(poly_gdf_1500c300_drop))"
   ]
  },
  {
   "cell_type": "code",
   "execution_count": 89,
   "metadata": {},
   "outputs": [],
   "source": [
    "poly_gdf_1500c300_drop.to_file('temp_data/'+file+'_1500c300.shp', driver='ESRI Shapefile')"
   ]
  }
 ],
 "metadata": {
  "kernelspec": {
   "display_name": "Python 3",
   "language": "python",
   "name": "python3"
  },
  "language_info": {
   "codemirror_mode": {
    "name": "ipython",
    "version": 3
   },
   "file_extension": ".py",
   "mimetype": "text/x-python",
   "name": "python",
   "nbconvert_exporter": "python",
   "pygments_lexer": "ipython3",
   "version": "3.7.0"
  }
 },
 "nbformat": 4,
 "nbformat_minor": 2
}
