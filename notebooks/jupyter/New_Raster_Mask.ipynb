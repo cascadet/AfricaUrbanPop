{
 "cells": [
  {
   "cell_type": "markdown",
   "metadata": {},
   "source": [
    "# New Raster Mask\n",
    "\n",
    "Created 2019-01-15\n",
    "This program takes the code from Raster Mask and cleans it up for use to do two things:\n",
    "\n",
    "1. Create new rasters with a simple mask applied\n",
    "2. Complete connected components of two masks\n",
    "\n",
    "Check crs of raster\n",
    "'EPSG:4326' ... or "
   ]
  },
  {
   "cell_type": "code",
   "execution_count": 25,
   "metadata": {},
   "outputs": [],
   "source": [
    "import rasterio\n",
    "from rasterio.mask import mask\n",
    "import pandas as pd\n",
    "import geopandas as gpd\n",
    "from shapely.geometry import Polygon"
   ]
  },
  {
   "cell_type": "markdown",
   "metadata": {},
   "source": [
    "### Inputs"
   ]
  },
  {
   "cell_type": "code",
   "execution_count": 20,
   "metadata": {},
   "outputs": [],
   "source": [
    "temp_data = '../../temp_data/'\n",
    "raster_interim = '../../data/interim/'\n",
    "raster_raw = '../../data/raw/'"
   ]
  },
  {
   "cell_type": "markdown",
   "metadata": {},
   "source": [
    "### Mask Functions"
   ]
  },
  {
   "cell_type": "code",
   "execution_count": 24,
   "metadata": {},
   "outputs": [],
   "source": [
    "# Let's try to make the mask directy with rasterio\n",
    "\n",
    "def raster_mask_poly(raster, band, density, crs):\n",
    "    \"\"\"Fucntion makes numpy array for of raster then applies mask.\n",
    "    requires rasterio object, band number, and density as float on int and crs of raster\n",
    "    returns dict of polygons and numpy mask\n",
    "    \"\"\"\n",
    "\n",
    "    mask = raster.read(band)\n",
    "    mask[mask < density] = 0 # mask as zeros \n",
    "    mask[mask >= density] = 1 \n",
    "    \n",
    "    # Extract feature shapes and values from the array.\n",
    "    for geom, val in rasterio.features.shapes(mask, transform=raster.transform):\n",
    "        \n",
    "        # Transform shapes from the dataset's own coordinate\n",
    "        # reference system to CRS84 (EPSG:4326) removed 2019-01-15\n",
    "        geom = rasterio.warp.transform_geom(raster.crs, crs, geom, precision=6) # WGS84 (EPSG 4326)\n",
    "    \n",
    "    # turn geom into Polygon object from shapely    \n",
    "    # Polygon(geom['coordinates'][0])\n",
    "    poly_gdf = gpd.GeoDataFrame()\n",
    "    for i, poly in enumerate(geom['coordinates']):\n",
    "        poly_gdf.loc[i,'geometry']= Polygon(poly)\n",
    "\n",
    "    return mask, geom, poly_gdf"
   ]
  },
  {
   "cell_type": "code",
   "execution_count": 13,
   "metadata": {},
   "outputs": [],
   "source": [
    "def raster_mask(raster, band, density):\n",
    "    \"Function returns raster mask\"\n",
    "    \n",
    "    mask = raster.read(band)\n",
    "    mask[mask < density] = 0 # mask as zeros and ones\n",
    "    mask[mask >= density] = 1\n",
    "    \n",
    "    return mask"
   ]
  },
  {
   "cell_type": "markdown",
   "metadata": {},
   "source": [
    "### Polygons for >1500 ppl per km2"
   ]
  },
  {
   "cell_type": "code",
   "execution_count": 34,
   "metadata": {},
   "outputs": [],
   "source": [
    "file = rasterio.open(raster_interim+'LandScan2015_w001001_Clip.tif')\n",
    "crs = file.crs"
   ]
  },
  {
   "cell_type": "code",
   "execution_count": 35,
   "metadata": {},
   "outputs": [],
   "source": [
    "mask1500m, geom1500, poly_gdf1500 = raster_mask_poly(file, 1, 1500, crs)"
   ]
  },
  {
   "cell_type": "code",
   "execution_count": 37,
   "metadata": {},
   "outputs": [
    {
     "name": "stdout",
     "output_type": "stream",
     "text": [
      "                                            geometry\n",
      "0  POLYGON ((-25.466667 37.441667, -25.466667 -34...\n",
      "1  POLYGON ((20.258333 -34.566667, 20.266667 -34....\n",
      "2  POLYGON ((9.824999999999999 37.3, 9.8249999999...\n",
      "3  POLYGON ((20.225 -34.558333, 20.233333 -34.558...\n",
      "4  POLYGON ((9.85 37.3, 9.85 37.283333, 9.8416669...\n",
      "5  POLYGON ((22.033333 -34.191667, 22.033333 -34....\n",
      "36174\n"
     ]
    }
   ],
   "source": [
    "print(poly_gdf1500.head(6))\n",
    "print(len(poly_gdf1500))"
   ]
  },
  {
   "cell_type": "code",
   "execution_count": 38,
   "metadata": {},
   "outputs": [
    {
     "data": {
      "text/html": [
       "<div>\n",
       "<style scoped>\n",
       "    .dataframe tbody tr th:only-of-type {\n",
       "        vertical-align: middle;\n",
       "    }\n",
       "\n",
       "    .dataframe tbody tr th {\n",
       "        vertical-align: top;\n",
       "    }\n",
       "\n",
       "    .dataframe thead th {\n",
       "        text-align: right;\n",
       "    }\n",
       "</style>\n",
       "<table border=\"1\" class=\"dataframe\">\n",
       "  <thead>\n",
       "    <tr style=\"text-align: right;\">\n",
       "      <th></th>\n",
       "      <th>geometry</th>\n",
       "    </tr>\n",
       "  </thead>\n",
       "  <tbody>\n",
       "    <tr>\n",
       "      <th>1</th>\n",
       "      <td>POLYGON ((20.258333 -34.566667, 20.266667 -34....</td>\n",
       "    </tr>\n",
       "    <tr>\n",
       "      <th>2</th>\n",
       "      <td>POLYGON ((9.824999999999999 37.3, 9.8249999999...</td>\n",
       "    </tr>\n",
       "    <tr>\n",
       "      <th>3</th>\n",
       "      <td>POLYGON ((20.225 -34.558333, 20.233333 -34.558...</td>\n",
       "    </tr>\n",
       "    <tr>\n",
       "      <th>4</th>\n",
       "      <td>POLYGON ((9.85 37.3, 9.85 37.283333, 9.8416669...</td>\n",
       "    </tr>\n",
       "    <tr>\n",
       "      <th>5</th>\n",
       "      <td>POLYGON ((22.033333 -34.191667, 22.033333 -34....</td>\n",
       "    </tr>\n",
       "    <tr>\n",
       "      <th>6</th>\n",
       "      <td>POLYGON ((19.225 -34.416667, 19.233333 -34.416...</td>\n",
       "    </tr>\n",
       "  </tbody>\n",
       "</table>\n",
       "</div>"
      ],
      "text/plain": [
       "                                            geometry\n",
       "1  POLYGON ((20.258333 -34.566667, 20.266667 -34....\n",
       "2  POLYGON ((9.824999999999999 37.3, 9.8249999999...\n",
       "3  POLYGON ((20.225 -34.558333, 20.233333 -34.558...\n",
       "4  POLYGON ((9.85 37.3, 9.85 37.283333, 9.8416669...\n",
       "5  POLYGON ((22.033333 -34.191667, 22.033333 -34....\n",
       "6  POLYGON ((19.225 -34.416667, 19.233333 -34.416..."
      ]
     },
     "execution_count": 38,
     "metadata": {},
     "output_type": "execute_result"
    }
   ],
   "source": [
    "# drop first row, which is bounding box of Africa and the write \n",
    "poly_gdf1500 = poly_gdf1500.drop(poly_gdf1500.index[0], axis = 0)\n",
    "poly_gdf1500.head(6)"
   ]
  },
  {
   "cell_type": "code",
   "execution_count": 39,
   "metadata": {},
   "outputs": [],
   "source": [
    "# write out polygons \n",
    "\n",
    "poly_gdf1500.to_file(temp_data+'LandScan2015_w001001_Clip.tif_1500.shp', driver='ESRI Shapefile')"
   ]
  }
 ],
 "metadata": {
  "kernelspec": {
   "display_name": "Python 3",
   "language": "python",
   "name": "python3"
  },
  "language_info": {
   "codemirror_mode": {
    "name": "ipython",
    "version": 3
   },
   "file_extension": ".py",
   "mimetype": "text/x-python",
   "name": "python",
   "nbconvert_exporter": "python",
   "pygments_lexer": "ipython3",
   "version": "3.7.0"
  }
 },
 "nbformat": 4,
 "nbformat_minor": 2
}
