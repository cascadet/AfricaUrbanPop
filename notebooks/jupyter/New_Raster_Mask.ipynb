{
 "cells": [
  {
   "cell_type": "markdown",
   "metadata": {},
   "source": [
    "# New Raster Mask\n",
    "\n",
    "Created 2019-01-15\n",
    "This program takes the code from Raster Mask and cleans it up for use to do two things:\n",
    "\n",
    "1. Create new rasters with a simple mask applied\n",
    "2. Complete connected components of two masks\n",
    "\n",
    "Check crs of raster\n",
    "'EPSG:4326' ... or EPSG: 54009"
   ]
  },
  {
   "cell_type": "code",
   "execution_count": 15,
   "metadata": {},
   "outputs": [],
   "source": [
    "import rasterio\n",
    "from rasterio.mask import mask\n",
    "import pandas as pd\n",
    "import geopandas as gpd\n",
    "from shapely.geometry import Polygon\n",
    "import numpy as np\n",
    "import matplotlib.pyplot as plt"
   ]
  },
  {
   "cell_type": "markdown",
   "metadata": {},
   "source": [
    "### Inputs"
   ]
  },
  {
   "cell_type": "code",
   "execution_count": 2,
   "metadata": {},
   "outputs": [],
   "source": [
    "temp_data = '../../temp_data/'\n",
    "raster_interim = '../../data/interim/'\n",
    "raster_raw = '../../data/'"
   ]
  },
  {
   "cell_type": "markdown",
   "metadata": {},
   "source": [
    "### Functions"
   ]
  },
  {
   "cell_type": "code",
   "execution_count": 3,
   "metadata": {},
   "outputs": [],
   "source": [
    "# Let's try to make the mask directy with rasterio\n",
    "\n",
    "def raster_mask_poly(raster, band, density, crs):\n",
    "    \"\"\"Fucntion makes numpy array for of raster then applies mask.\n",
    "    requires rasterio object, band number, and density as float on int and crs of raster\n",
    "    returns dict of polygons and numpy mask\n",
    "    \"\"\"\n",
    "\n",
    "    mask = raster.read(band)\n",
    "    mask[mask < density] = 0 # mask as zeros \n",
    "    mask[mask >= density] = 1 \n",
    "    \n",
    "    # Extract feature shapes and values from the array.\n",
    "    for geom, val in rasterio.features.shapes(mask, transform=raster.transform):\n",
    "        \n",
    "        # Transform shapes from the dataset's own coordinate\n",
    "        # reference system to CRS84 (EPSG:4326) removed 2019-01-15\n",
    "        geom = rasterio.warp.transform_geom(raster.crs, crs, geom, precision=6) # WGS84 (EPSG 4326)\n",
    "    \n",
    "    # turn geom into Polygon object from shapely    \n",
    "    # Polygon(geom['coordinates'][0])\n",
    "    poly_gdf = gpd.GeoDataFrame()\n",
    "    for i, poly in enumerate(geom['coordinates']):\n",
    "        poly_gdf.loc[i,'geometry']= Polygon(poly)\n",
    "\n",
    "    return mask, geom, poly_gdf"
   ]
  },
  {
   "cell_type": "code",
   "execution_count": 4,
   "metadata": {},
   "outputs": [],
   "source": [
    "def raster_mask(raster, band, density):\n",
    "    \"Function returns raster mask\"\n",
    "    \n",
    "    mask = raster.read(band)\n",
    "    mask[mask < density] = 0 # mask as zeros and ones\n",
    "    mask[mask >= density] = 1\n",
    "    \n",
    "    return mask"
   ]
  },
  {
   "cell_type": "code",
   "execution_count": 5,
   "metadata": {},
   "outputs": [],
   "source": [
    "# Let's try to make polygons\n",
    "\n",
    "def raster_poly(raster, band, crs):\n",
    "    \"\"\"Fucntion makes ploygons for of raster returns dict of polygons\"\"\"\n",
    "\n",
    "    mask = raster.read(band)\n",
    "    \n",
    "    # Extract feature shapes and values from the array.\n",
    "    for geom, val in rasterio.features.shapes(mask, transform=raster.transform):\n",
    "        \n",
    "        # Transform shapes from the dataset's own coordinate\n",
    "        # reference system to CRS84 (EPSG:4326).\n",
    "        geom = rasterio.warp.transform_geom(raster.crs, crs, geom, precision=6) # WGS84 (EPSG 4326)\n",
    "    \n",
    "    # turn geom into Polygon object from shapely    \n",
    "    # Polygon(geom['coordinates'][0])\n",
    "    poly_gdf = gpd.GeoDataFrame()\n",
    "    for i, poly in enumerate(geom['coordinates']):\n",
    "        poly_gdf.loc[i,'geometry']= Polygon(poly)\n",
    "\n",
    "    return poly_gdf"
   ]
  },
  {
   "cell_type": "code",
   "execution_count": 6,
   "metadata": {},
   "outputs": [],
   "source": [
    "# By Ryan Avery \n",
    "\n",
    "import numpy as np\n",
    "import scipy.ndimage as ndimage\n",
    "\n",
    "def remove_isolated_pixels(mask1, mask2, struct=np.ones((3,3))):\n",
    "    \"\"\"\n",
    "    Unions two binary numpy arrays of the same shape.\n",
    "    Takes this unioned array and removes solitary pixels.\n",
    "    Struct should be a binary 3x3 numpy array to define\n",
    "    connectivity rule. Binary mask arrays should be the \n",
    "    shape.\n",
    "    \"\"\"\n",
    "    union_arr = np.logical_or(mask1, mask2)*1\n",
    "    id_regions, num_ids = ndimage.label(union_arr, structure=struct)\n",
    "    id_sizes = np.array(ndimage.sum(union_arr, id_regions, range(num_ids + 1)))\n",
    "    area_mask = (id_sizes == 1)\n",
    "    union_arr[area_mask[id_regions]] = 0\n",
    "    return union_arr"
   ]
  },
  {
   "cell_type": "markdown",
   "metadata": {},
   "source": [
    "### Polygons for >1500 ppl per km2"
   ]
  },
  {
   "cell_type": "code",
   "execution_count": 19,
   "metadata": {},
   "outputs": [],
   "source": [
    "file = 'GHS_POP_GPW42015_GLOBE_R2015A_54009_1k_v1_0_Clip.tif'\n",
    "raster = rasterio.open(raster_raw+file)\n",
    "crs = raster.crs"
   ]
  },
  {
   "cell_type": "code",
   "execution_count": null,
   "metadata": {},
   "outputs": [],
   "source": [
    "# mask1500m, geom1500, poly_gdf1500 = raster_mask_poly(raster, 1, 1500, crs)"
   ]
  },
  {
   "cell_type": "code",
   "execution_count": 20,
   "metadata": {},
   "outputs": [],
   "source": [
    "maskGHS2015 = raster_mask(raster, 1, 1500)"
   ]
  },
  {
   "cell_type": "code",
   "execution_count": 21,
   "metadata": {},
   "outputs": [
    {
     "data": {
      "text/plain": [
       "(8716, 8623)"
      ]
     },
     "execution_count": 21,
     "metadata": {},
     "output_type": "execute_result"
    }
   ],
   "source": [
    "maskGHS2015.shape"
   ]
  },
  {
   "cell_type": "code",
   "execution_count": 22,
   "metadata": {},
   "outputs": [
    {
     "data": {
      "image/png": "[encoded data removed]",
      "text/plain": [
       "<Figure size 432x288 with 1 Axes>"
      ]
     },
     "metadata": {},
     "output_type": "display_data"
    }
   ],
   "source": [
    "plt.plot(maskGHS2015)\n",
    "plt.show()"
   ]
  },
  {
   "cell_type": "code",
   "execution_count": null,
   "metadata": {},
   "outputs": [],
   "source": [
    "print(poly_gdf1500.head(6))\n",
    "print(len(poly_gdf1500))"
   ]
  },
  {
   "cell_type": "code",
   "execution_count": null,
   "metadata": {},
   "outputs": [],
   "source": [
    "# drop first row, which is bounding box of Africa and the write \n",
    "poly_gdf1500 = poly_gdf1500.drop(poly_gdf1500.index[0], axis = 0)\n",
    "poly_gdf1500.head(6)"
   ]
  },
  {
   "cell_type": "code",
   "execution_count": null,
   "metadata": {},
   "outputs": [],
   "source": [
    "# write out polygons \n",
    "\n",
    "poly_gdf1500.to_file(temp_data+'GHS_POP_GPW42000_GLOBE_R2015A_54009_1k_v1_0_Clip_1500.shp', driver='ESRI Shapefile')"
   ]
  },
  {
   "cell_type": "markdown",
   "metadata": {},
   "source": [
    "### Connected Pixels 1500 - 300"
   ]
  },
  {
   "cell_type": "code",
   "execution_count": null,
   "metadata": {},
   "outputs": [],
   "source": [
    "# By Ryan Avery \n",
    "\n",
    "import numpy as np\n",
    "import scipy.ndimage as ndimage\n",
    "\n",
    "def remove_isolated_pixels(mask1, mask2, struct=np.ones((3,3))):\n",
    "    \"\"\"\n",
    "    Unions two binary numpy arrays of the same shape.\n",
    "    Takes this unioned array and removes solitary pixels.\n",
    "    Struct should be a binary 3x3 numpy array to define\n",
    "    connectivity rule. Binary mask arrays should be the \n",
    "    shape.\n",
    "    \"\"\"\n",
    "    union_arr = np.logical_or(mask1, mask2)*1\n",
    "    id_regions, num_ids = ndimage.label(union_arr, structure=struct)\n",
    "    id_sizes = np.array(ndimage.sum(union_arr, id_regions, range(num_ids + 1)))\n",
    "    area_mask = (id_sizes == 1)\n",
    "    union_arr[area_mask[id_regions]] = 0\n",
    "    return union_arr"
   ]
  },
  {
   "cell_type": "code",
   "execution_count": null,
   "metadata": {},
   "outputs": [],
   "source": [
    "# Let's try to make polygons\n",
    "\n",
    "def raster_poly(raster, band, crs):\n",
    "    \"\"\"Fucntion makes ploygons for of raster returns dict of polygons\"\"\"\n",
    "\n",
    "    mask = raster.read(band)\n",
    "    \n",
    "    # Extract feature shapes and values from the array.\n",
    "    for geom, val in rasterio.features.shapes(mask, transform=raster.transform):\n",
    "        \n",
    "        # Transform shapes from the dataset's own coordinate\n",
    "        # reference system to CRS84 (EPSG:4326).\n",
    "        geom = rasterio.warp.transform_geom(raster.crs, crs, geom, precision=6) # WGS84 (EPSG 4326)\n",
    "    \n",
    "    # turn geom into Polygon object from shapely    \n",
    "    # Polygon(geom['coordinates'][0])\n",
    "    poly_gdf = gpd.GeoDataFrame()\n",
    "    for i, poly in enumerate(geom['coordinates']):\n",
    "        poly_gdf.loc[i,'geometry']= Polygon(poly)\n",
    "\n",
    "    return poly_gdf"
   ]
  },
  {
   "cell_type": "code",
   "execution_count": null,
   "metadata": {},
   "outputs": [],
   "source": [
    "file = rasterio.open(raster_raw+'XXX')\n",
    "crs = file.crs"
   ]
  },
  {
   "cell_type": "code",
   "execution_count": null,
   "metadata": {},
   "outputs": [],
   "source": [
    "mask300 = raster_mask(file, 1, 300)\n",
    "mask1500 = raster_mask(file, 1, 1500)"
   ]
  },
  {
   "cell_type": "code",
   "execution_count": null,
   "metadata": {},
   "outputs": [],
   "source": [
    "mask1000c600 = raster_funcs.remove_isolated_pixels(mask1500, mask300)"
   ]
  },
  {
   "cell_type": "code",
   "execution_count": null,
   "metadata": {},
   "outputs": [],
   "source": [
    "poly_gdf_1000c600 = raster_poly(mask1000c600, 1, crs)\n",
    "print((poly_gdf_1000c600.head(6)))\n",
    "print(len(poly_gdf_1000c600))"
   ]
  },
  {
   "cell_type": "code",
   "execution_count": null,
   "metadata": {},
   "outputs": [],
   "source": [
    "# drop first row, which is bounding box of Africa\n",
    "poly_gdf_1000c600_drop = test_poly.drop(test_poly.index[0], axis = 0)\n",
    "print((poly_gdf_1000c600_drop.head(6)))\n",
    "print(len(poly_gdf_1000c600_drop))"
   ]
  },
  {
   "cell_type": "code",
   "execution_count": null,
   "metadata": {},
   "outputs": [],
   "source": [
    "# poly_gdf_1000c600_drop.to_file(temp_data+'.shp', driver='ESRI Shapefile')"
   ]
  }
 ],
 "metadata": {
  "kernelspec": {
   "display_name": "Python [default]",
   "language": "python",
   "name": "python3"
  },
  "language_info": {
   "codemirror_mode": {
    "name": "ipython",
    "version": 3
   },
   "file_extension": ".py",
   "mimetype": "text/x-python",
   "name": "python",
   "nbconvert_exporter": "python",
   "pygments_lexer": "ipython3",
   "version": "3.6.4"
  }
 },
 "nbformat": 4,
 "nbformat_minor": 2
}
