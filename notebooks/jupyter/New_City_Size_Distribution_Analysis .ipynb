{
 "cells": [
  {
   "cell_type": "markdown",
   "metadata": {},
   "source": [
    "# City Size Distribution Analysis\n",
    "\n",
    "This note book produces Lorenz Curves and Zipf Law Estimations, along with gini coefficents.\n",
    "\n",
    "Code adapted for Lorzen curves from: https://zhiyzuo.github.io/Plot-Lorenz/\n",
    "\n",
    "-Cascade 2019-02-04"
   ]
  },
  {
   "cell_type": "code",
   "execution_count": 1,
   "metadata": {},
   "outputs": [],
   "source": [
    "import geopandas as gpd\n",
    "import pandas as pd\n",
    "import numpy as np\n",
    "from matplotlib import pyplot as plt\n",
    "import seaborn as sns\n",
    "from matplotlib.legend_handler import HandlerLine2D\n",
    "from scipy import stats as ss"
   ]
  },
  {
   "cell_type": "markdown",
   "metadata": {},
   "source": [
    "## Data In"
   ]
  },
  {
   "cell_type": "code",
   "execution_count": 2,
   "metadata": {},
   "outputs": [],
   "source": [
    "# File paths\n",
    "\n",
    "data_raw = '../../data/raw/'\n",
    "data_temp = '../../temp_data/'\n",
    "data_interim = '../../interim/'\n",
    "data_analysis = '../../temp_data/ERL_data/Data20190222/'\n",
    "erl_data = '../../temp_data/ERL_data/'\n",
    "downloads = '/Users/cascade/Downloads/'"
   ]
  },
  {
   "cell_type": "code",
   "execution_count": 3,
   "metadata": {},
   "outputs": [],
   "source": [
    "# Data\n",
    "\n",
    "# GHS2000 = gpd.read_file(erl_data+'Data20190222/GHS_POP_GPW42000_final20190122.shp')\n",
    "# GHS2015 = gpd.read_file(erl_data+'Data20190222/GHS_POP_GPW42015_final20190122.shp')\n",
    "# WP2000 = gpd.read_file(erl_data+'Data20190222/AFR_PPP_2000_adj_v2_final20190122.shp')\n",
    "# WP2015 = gpd.read_file(erl_data+'Data20190222/AFR_PPP_2015_adj_v2_final20190122.shp')\n",
    "# LS2015 = gpd.read_file(erl_data+'Data20190222/WPE_1KM_2016_final20190122.shp')\n",
    "# WPE2016 = gpd.read_file(erl_data+'Data20190222/LS15_final20190122.shp')\n",
    "\n",
    "# Data with Rain Zones & Regions & FIDs Dropped (2019-02-13)\n",
    "\n",
    "# GHS2000 = gpd.read_file(erl_data+'GHS_POP_GPW42000_20190213.shp')\n",
    "# GHS2015 = gpd.read_file(erl_data+'GHS_POP_GPW42015_20190213.shp')\n",
    "# WP2000 = gpd.read_file(erl_data+'AFR_PPP_2000_adj_v2_20190213.shp')\n",
    "# WP2015 = gpd.read_file(erl_data+'AFR_PPP_2015_adj_v2_20190213.shp')\n",
    "# LS2015 = gpd.read_file(erl_data+'WPE_1KM_2016_20190213.shp')\n",
    "# WPE2016 = gpd.read_file(erl_data+'LS15_20190213.shp')\n",
    "\n",
    "# Load data: ...20190222.shp files have FIDs removed, S Sudan added, rainfall zones, and regions\n",
    "\n",
    "GHS2000 = gpd.read_file(data_analysis+'GHS_POP_GPW42000_20190222.shp', driver = 'ESRI Shapefile')\n",
    "GHS2015 = gpd.read_file(data_analysis+'GHS_POP_GPW42015_20190222.shp', driver = 'ESRI Shapefile')\n",
    "WP2000 = gpd.read_file(data_analysis+'AFR_PPP_2000_adj_v2_20190222.shp', driver = 'ESRI Shapefile')\n",
    "WP2015 = gpd.read_file(data_analysis+'AFR_PPP_2015_adj_v2_20190222.shp', driver = 'ESRI Shapefile')\n",
    "LS2015 = gpd.read_file(data_analysis+'WPE_1KM_2016_20190222.shp', driver = 'ESRI Shapefile')\n",
    "WPE2016 = gpd.read_file(data_analysis+'LS15_20190222.shp', driver = 'ESRI Shapefile')"
   ]
  },
  {
   "cell_type": "code",
   "execution_count": 4,
   "metadata": {},
   "outputs": [],
   "source": [
    "# List of datasets\n",
    "\n",
    "datasets_in = [GHS2000, GHS2015, WP2000, WP2015, LS2015, WPE2016]\n",
    "datasets_in15 = [GHS2015, WP2015, LS2015, WPE2016]"
   ]
  },
  {
   "cell_type": "code",
   "execution_count": 11,
   "metadata": {},
   "outputs": [
    {
     "name": "stdout",
     "output_type": "stream",
     "text": [
      "0.8273862622658341\n",
      "0.7796540362438221\n",
      "0.8502415458937198\n",
      "0.8001027749229188\n"
     ]
    }
   ],
   "source": [
    "for dataset in datasets_in15:\n",
    "    print(len(dataset[dataset.PopTot < 10**5])/ len(dataset))"
   ]
  },
  {
   "cell_type": "code",
   "execution_count": 14,
   "metadata": {},
   "outputs": [
    {
     "data": {
      "text/plain": [
       "0.8143461548315736"
      ]
     },
     "execution_count": 14,
     "metadata": {},
     "output_type": "execute_result"
    }
   ],
   "source": [
    "ans = 0.8273862622658341 + 0.7796540362438221 + 0.8502415458937198 + 0.8001027749229188 \n",
    "ans/4"
   ]
  },
  {
   "cell_type": "markdown",
   "metadata": {},
   "source": [
    "## Functions"
   ]
  },
  {
   "cell_type": "code",
   "execution_count": 26,
   "metadata": {},
   "outputs": [],
   "source": [
    "def gini(series):\n",
    "    \n",
    "    \"Function calculates gini coefficent based on https://zhiyzuo.github.io/Plot-Lorenz/\"\n",
    "    ## series to array\n",
    "    arr = series.values\n",
    "    \n",
    "    ## first sort\n",
    "    sorted_arr = arr.copy(np.array)\n",
    "    sorted_arr.sort()\n",
    "    n = arr.size\n",
    "    coef_ = 2. / n\n",
    "    const_ = (n + 1.) / n\n",
    "    weighted_sum = sum([(i+1)*yi for i, yi in enumerate(sorted_arr)])\n",
    "    return coef_*weighted_sum/(sorted_arr.sum()) - const_"
   ]
  },
  {
   "cell_type": "code",
   "execution_count": null,
   "metadata": {},
   "outputs": [],
   "source": [
    "def lorenz_curve(X):\n",
    "    \n",
    "    \"Function plots Lorenz curves based on https://zhiyzuo.github.io/Plot-Lorenz/\"\n",
    "    X_lorenz = X.cumsum() / X.sum()\n",
    "    X_lorenz = np.insert(X_lorenz, 0, 0) \n",
    "    X_lorenz[0], X_lorenz[-1]\n",
    "    fig, ax = plt.subplots(figsize=[6,6])\n",
    "    ## scatter plot of Lorenz curve\n",
    "    ax.scatter(np.arange(X_lorenz.size)/(X_lorenz.size-1), X_lorenz, \n",
    "               marker='x', color='darkgreen', s=100)\n",
    "    ## line plot of equality\n",
    "    ax.plot([0,1], [0,1], color='k')"
   ]
  },
  {
   "cell_type": "code",
   "execution_count": null,
   "metadata": {},
   "outputs": [],
   "source": [
    "def gini_group(gpd_df, group, value, outcol):\n",
    "    \"Function calculates gini coef. for by groups for a pandas data frame. Returns data frame\"\n",
    "    \n",
    "    gini = test.groupby(group).value.agg(gini)\n",
    "    df = pd.DataFrame()\n",
    "    df[group] = out.keys()\n",
    "    df[outcol] = out.values\n",
    "\n",
    "    return df"
   ]
  },
  {
   "cell_type": "code",
   "execution_count": null,
   "metadata": {},
   "outputs": [],
   "source": [
    "def gini_alt(series):\n",
    "    \n",
    "    \"Function calculates gini coefficent based on https://www.jstor.org/stable/pdf/177185.pdf \"\n",
    "    \n",
    "    arr = series.values\n",
    "    \n",
    "    # first sort\n",
    "    sorted_arr = arr.copy(np.array)\n",
    "    sorted_arr.sort()\n",
    "    \n",
    "    # parameters\n",
    "    n = arr.size\n",
    "    est_ = (n**2)*sorted_arr.mean()\n",
    "    \n",
    "    # equation\n",
    "    sum([ (i+1) *yi  for i, yi in enumerate(sorted_arr)])\n",
    "    \n",
    "    weighted_sum = sum([(((2.* (i+1)) - (n) - 1) * yi) for i, yi in enumerate(sorted_arr)])\n",
    "    \n",
    "    # for unbiased estimator use\n",
    "    # const_ = (n / (n - 1.))\n",
    "    # return weighted_sum / est_ * const_\n",
    "    \n",
    "    return weighted_sum / est_"
   ]
  },
  {
   "cell_type": "markdown",
   "metadata": {},
   "source": [
    "## Plots"
   ]
  },
  {
   "cell_type": "code",
   "execution_count": null,
   "metadata": {},
   "outputs": [],
   "source": [
    "# Select Data for Lorenz\n",
    "\n",
    "# All Africa\n",
    "\n",
    "#area = 'Africa'\n",
    "# X = np.sort(np.array(GHS2000.PopTot))\n",
    "# Y = np.sort(np.array(GHS2015.PopTot))\n",
    "\n",
    "# # By group\n",
    "col = 'rain_zone' # column\n",
    "area = 'Humid' # geography to distribut \n",
    "\n",
    "X = np.sort(np.array(GHS2000[GHS2000[col] == area].PopTot))\n",
    "Y = np.sort(np.array(GHS2015[GHS2015[col] == area].PopTot))\n",
    "\n",
    "\n",
    "print(len(X))\n",
    "print(len(Y))\n",
    "\n",
    "# Set Limits\n",
    "X = X[(X < 5*10**6)]\n",
    "Y = Y[(Y < 5*10**6)]\n",
    "\n",
    "print(len(X))\n",
    "print(len(Y))\n",
    "\n",
    "# Data for curve one\n",
    "X_lorenz = X.cumsum() / X.sum()\n",
    "X_lorenz = np.insert(X_lorenz, 0, 0)\n",
    "X_lorenz[0], X_lorenz[-1]\n",
    "\n",
    "# Data for curve two \n",
    "Y_lorenz = Y.cumsum() / Y.sum()\n",
    "Y_lorenz = np.insert(Y_lorenz, 0, 0)\n",
    "Y_lorenz[0], Y_lorenz[-1]"
   ]
  },
  {
   "cell_type": "code",
   "execution_count": null,
   "metadata": {},
   "outputs": [],
   "source": [
    "df = pd.DataFrame()\n",
    "df['pop'] = np.insert(Y, 0,0)\n",
    "df['pct'] = Y_lorenz\n",
    "df['rank'] = np.arange(Y_lorenz.size)/(Y_lorenz.size-1)\n",
    "df.iloc[560:]"
   ]
  },
  {
   "cell_type": "code",
   "execution_count": null,
   "metadata": {},
   "outputs": [],
   "source": [
    "# Lorenz Curve Plot\n",
    "\n",
    "%matplotlib inline\n",
    "\n",
    "## Size & number\n",
    "sns.set(font_scale=3)\n",
    "fig, ax1 = plt.subplots(nrows=1, ncols=1,  figsize=(10, 10))\n",
    "\n",
    "\n",
    "# Curve Plots\n",
    "# Alpha for Botswana and S. Leone is 0.7, else 0.5\n",
    "ax1.scatter(np.arange(X_lorenz.size)/(X_lorenz.size-1), X_lorenz, \n",
    "           marker='.', color='Green', s=100, alpha = 0.7)\n",
    "\n",
    "ax1.scatter(np.arange(Y_lorenz.size)/(Y_lorenz.size-1), Y_lorenz, \n",
    "           marker='.', color='#ff01bc', s=100, alpha = 0.7)\n",
    "\n",
    "# Title\n",
    "plt.title(area)\n",
    "\n",
    "\n",
    "# Legend\n",
    "leg = ['GHS-Pop 2000', 'GHS-Pop 2015']\n",
    "plt.legend(leg,loc=2, markerscale=3)\n",
    "\n",
    "## line plot of of 90% 40% \n",
    "# ax1.plot([0.9,0.9], [0,1] , color='k', alpha = 0.25)\n",
    "# ax1.plot([0,1], [0.3,0.3] , color='k', alpha = 0.25)\n",
    "\n",
    "#remove ticks\n",
    "# ax.set_xticks([])\n",
    "# ax.set_yticks([])\n",
    "\n",
    "# Set Color\n",
    "plt.grid(b=True, color = 'k', alpha = 0.5, marker = '.')\n",
    "\n",
    "# plt.setp(ax1.xaxis.get_gridlines(), clip_path = [0,1])\n",
    "# plt.setp(ax1.yaxis.get_gridlines(), clip_path = [[0,0], [1,1]])\n",
    "plt.figure.frameon = True\n",
    "ax1.set_facecolor('White')\n",
    "\n",
    "\n",
    "fig.savefig('/Users/cascade/Desktop/'+area+'_Lorenz.png', dpi=700)\n",
    "\n"
   ]
  },
  {
   "cell_type": "code",
   "execution_count": null,
   "metadata": {},
   "outputs": [],
   "source": [
    "# Select Data Zipf's law\n",
    "\n",
    "# All Africa\n",
    "# area = 'Africa'\n",
    "# data1 = np.sort(np.array(GHS2000.PopTot))\n",
    "# data2 = np.sort(np.array(GHS2015.PopTot))\n",
    "\n",
    "# By country \n",
    "col = 'country' # column\n",
    "area = 'Ethiopia' # geography to distribut \n",
    "\n",
    "data1 = np.sort(np.array(GHS2000[GHS2000[col] == area].PopTot))\n",
    "data2 = np.sort(np.array(GHS2015[GHS2015[col] == area].PopTot))\n",
    "\n",
    "print(len(data1))\n",
    "print(len(data2))\n",
    "\n",
    "# Set Limits\n",
    "data1 = data1[(data1 < 5*10**6)]\n",
    "data2 = data2[(data2 < 5*10**6)]\n",
    "\n",
    "print(len(data1))\n",
    "print(len(data2))\n",
    "\n",
    "X1_zipf = data1 #sort the values\n",
    "Y1_zipf = list(range(1, len(X1_zipf)+1)) # make a range\n",
    "Y1_zipf = Y1_zipf[::-1] # Re order range\n",
    "\n",
    "X1_zipf_log = np.log(X1_zipf)\n",
    "Y1_zipf_log = np.log(Y1_zipf)\n",
    "\n",
    "X2_zipf = data2\n",
    "Y2_zipf = list(range(1, len(X2_zipf)+1))\n",
    "Y2_zipf = Y2_zipf[::-1]\n",
    "\n",
    "X2_zipf_log = np.log(X2_zipf)\n",
    "Y2_zipf_log = np.log(Y2_zipf)"
   ]
  },
  {
   "cell_type": "code",
   "execution_count": null,
   "metadata": {
    "scrolled": false
   },
   "outputs": [],
   "source": [
    "# Zipf's law\n",
    "\n",
    "## Size & number\n",
    "sns.set(font_scale=3)\n",
    "fig, ax1 = plt.subplots(nrows=1, ncols=1,  figsize=(10, 10))\n",
    "\n",
    "# Plot\n",
    "plt.scatter(X1_zipf_log, Y1_zipf_log , marker='.', color='purple', s=100, alpha = 0.7)\n",
    "plt.scatter(X2_zipf_log, Y2_zipf_log , marker='.', color='orange', s=100, alpha = 0.7)\n",
    "\n",
    "# Legend\n",
    "# leg = ['GHS-Pop 2000', 'GHS-Pop 2015']\n",
    "# plt.legend(leg,loc=1, markerscale=3, facecolor = 'white', edgecolor = 'white')\n",
    "\n",
    "# Fit Lines\n",
    "sns.regplot(X1_zipf_log, Y1_zipf_log, color = 'purple')\n",
    "sns.regplot(X2_zipf_log, Y2_zipf_log, color = 'orange')\n",
    "\n",
    "# Title\n",
    "plt.title(area)\n",
    "\n",
    "# Labels\n",
    "plt.xlabel('')\n",
    "plt.ylabel('')\n",
    "\n",
    "# Set Ticks\n",
    "plt.xticks([np.log(10**4), np.log(10**5), np.log(10**6), np.log(10**7)], \n",
    "           ['$10^4$', '$10^5$', '$10^6$', '$10^7$'])\n",
    "\n",
    "plt.yticks([np.log(10), np.log(100), np.log(1000), np.log(10000),  np.log(100000)], \n",
    "           ['10', '$10^2$', '$10^3$', '$10^4$', '$10^5$'])\n",
    "\n",
    "# Set Background Color\n",
    "ax1.set_facecolor('White')\n",
    "\n",
    "axes = plt.gca()\n",
    "axes.set_xlim([7,16])\n",
    "#axes.set_xlim([min(X2_zipf_log), max(X2_zipf_log)])\n",
    "axes.set_ylim([1,8])\n",
    "\n",
    "fig.savefig('/Users/cascade/Desktop/'+area+'_Zipf.png', dpi=700)"
   ]
  },
  {
   "cell_type": "markdown",
   "metadata": {},
   "source": [
    "## Analysis"
   ]
  },
  {
   "cell_type": "code",
   "execution_count": 56,
   "metadata": {},
   "outputs": [
    {
     "data": {
      "text/plain": [
       "['Algeria',\n",
       " 'Angola',\n",
       " 'Benin',\n",
       " 'Botswana',\n",
       " 'Burkina Faso',\n",
       " 'Burundi',\n",
       " 'Cameroon',\n",
       " 'Cape Verde',\n",
       " 'Central African Republic',\n",
       " 'Chad',\n",
       " 'Comoros',\n",
       " 'Congo-Brazzaville',\n",
       " \"Côte d'Ivoire\",\n",
       " 'Djibouti',\n",
       " 'Egypt',\n",
       " 'Equatorial Guinea',\n",
       " 'Eritrea',\n",
       " 'Ethiopia',\n",
       " 'Gabon',\n",
       " 'Gambia',\n",
       " 'Ghana',\n",
       " 'Guinea',\n",
       " 'Guinea-Bissau',\n",
       " 'Kenya',\n",
       " 'Lesotho',\n",
       " 'Liberia',\n",
       " 'Libya',\n",
       " 'Madagascar',\n",
       " 'Malawi',\n",
       " 'Mali',\n",
       " 'Mauritania',\n",
       " 'Mauritius',\n",
       " 'Morocco',\n",
       " 'Mozambique',\n",
       " 'Namibia',\n",
       " 'Niger',\n",
       " 'Nigeria',\n",
       " 'Rwanda',\n",
       " 'Réunion',\n",
       " 'Senegal',\n",
       " 'Sierra Leone',\n",
       " 'Somalia',\n",
       " 'South Africa',\n",
       " 'South Sudan',\n",
       " 'Sudan',\n",
       " 'Tanzania',\n",
       " 'Togo',\n",
       " 'Tunisia',\n",
       " 'Uganda',\n",
       " 'Zambia',\n",
       " 'Zimbabwe']"
      ]
     },
     "execution_count": 56,
     "metadata": {},
     "output_type": "execute_result"
    }
   ],
   "source": [
    "# Subset of Countries \n",
    "# countries = ['Morocco', 'Mali', 'Senegal', 'Sierra Leone', 'Ghana',\n",
    "#             'Nigeria', 'Central African Republic', 'South Sudan',\n",
    "#             'Uganda', 'Kenya', 'Ethiopia', 'Angola', 'Botswana',\n",
    "#             'Zambia', 'South Africa']\n",
    "\n",
    "# countries = ['Mali', 'Ghana', 'Nigeria', 'Kenya', 'Ethiopia', 'Botswana',\n",
    "#             'Zambia', 'South Africa']\n",
    "\n",
    "# All countries\n",
    "\n",
    "countries = pd.Series(GHS2015.country, dtype=\"category\")\n",
    "\n",
    "countries = countries.cat.categories.tolist()\n",
    "countries"
   ]
  },
  {
   "cell_type": "code",
   "execution_count": 60,
   "metadata": {},
   "outputs": [
    {
     "name": "stderr",
     "output_type": "stream",
     "text": [
      "/anaconda3/lib/python3.7/site-packages/ipykernel_launcher.py:8: DeprecationWarning: Non-string object detected for the array ordering. Please pass in 'C', 'F', 'A', or 'K' instead\n",
      "  \n",
      "/anaconda3/lib/python3.7/site-packages/scipy/stats/_stats_mstats_common.py:107: RuntimeWarning: invalid value encountered in double_scalars\n",
      "  slope = r_num / ssxm\n",
      "/anaconda3/lib/python3.7/site-packages/scipy/stats/_stats_mstats_common.py:117: RuntimeWarning: invalid value encountered in sqrt\n",
      "  t = r * np.sqrt(df / ((1.0 - r + TINY)*(1.0 + r + TINY)))\n",
      "/anaconda3/lib/python3.7/site-packages/scipy/stats/_stats_mstats_common.py:119: RuntimeWarning: invalid value encountered in double_scalars\n",
      "  sterrest = np.sqrt((1 - r**2) * ssym / ssxm / df)\n"
     ]
    }
   ],
   "source": [
    "data1 = GHS2000[GHS2000.PopTot < 5*10**6]\n",
    "data2 = GHS2015[GHS2015.PopTot < 5*10**6]\n",
    "\n",
    "\n",
    "# all countires\n",
    "\n",
    "df = pd.DataFrame()\n",
    "\n",
    "arr = []\n",
    "\n",
    "\n",
    "for country in countries: \n",
    "    \n",
    "    test1 = data1[data1['country'] == country]\n",
    "    test2 = data2[data2['country'] == country]\n",
    "    \n",
    "    # counts\n",
    "    num2000= test1.PopTot.count()\n",
    "    num2015= test2.PopTot.count()\n",
    "    \n",
    "    #Median\n",
    "    m2000= test1.PopTot.median()\n",
    "    m2015= test2.PopTot.median()\n",
    "    \n",
    "    #gini\n",
    " \n",
    "    g2000 = gini(test1.PopTot)\n",
    "    g2015 = gini(test2.PopTot)\n",
    "\n",
    "    #zipf\n",
    "    X1_zipf = test1.PopTot\n",
    "    Y1_zipf = list(range(1, len(X1_zipf)+1)) # make a range\n",
    "    Y1_zipf = Y1_zipf[::-1] # Re order range\n",
    "\n",
    "    X1_zipf_log = np.log(X1_zipf)\n",
    "    Y1_zipf_log = np.log(Y1_zipf)\n",
    "\n",
    "    X2_zipf = test2.PopTot\n",
    "    Y2_zipf = list(range(1, len(X2_zipf)+1))\n",
    "    Y2_zipf = Y2_zipf[::-1]\n",
    "\n",
    "    X2_zipf_log = np.log(X2_zipf)\n",
    "    Y2_zipf_log = np.log(Y2_zipf)\n",
    "    \n",
    "    fit1 = ss.linregress(X1_zipf_log, Y1_zipf_log)\n",
    "    fit2 = ss.linregress(X2_zipf_log, Y2_zipf_log)\n",
    "\n",
    "    #Fit\n",
    "\n",
    "    s2000 = fit1[0] # Slope 2000\n",
    "    p2000 = fit1[4] # p val 2000\n",
    "    \n",
    "    s2015 = fit2[0] # Slope 2015\n",
    "    p2015 = fit2[4] # p val 2015\n",
    "    \n",
    "    df[country] = (num2000, num2015, m2000, m2015, g2000, g2015, s2000, p2000, s2015, p2015)"
   ]
  },
  {
   "cell_type": "code",
   "execution_count": 61,
   "metadata": {},
   "outputs": [],
   "source": [
    "df.to_csv(data_temp+'ALLCOUNTRIES_TABLE2_ERL20190218.csv')"
   ]
  },
  {
   "cell_type": "code",
   "execution_count": null,
   "metadata": {},
   "outputs": [],
   "source": [
    "# Decriptives\n",
    "\n",
    "for country in countries: \n",
    "    \n",
    "    print(country)\n",
    "\n",
    "    test1 = GHS2000[GHS2000['country'] == country]\n",
    "    test1 = test1[test1.PopTot <5*10**6]\n",
    "    test2 = GHS2015[GHS2015['country'] == country]\n",
    "    test2 = test2[test2.PopTot <5*10**6]\n",
    "    \n",
    "    print(test1.PopTot.count())\n",
    "    print(test2.PopTot.count())\n",
    "    print(test1.PopTot.median())\n",
    "    print(test2.PopTot.median())\n",
    "    \n",
    "    # gini coef. \n",
    "    print(gini((test1.PopTot)))\n",
    "    print(gini((test2.PopTot)))"
   ]
  },
  {
   "cell_type": "code",
   "execution_count": 27,
   "metadata": {},
   "outputs": [
    {
     "name": "stdout",
     "output_type": "stream",
     "text": [
      "Mali\n",
      "-1.1576880009061385\n",
      "-0.985646308676832\n",
      "0.015927122880549618\n",
      "-0.9942876338676249\n",
      "-0.9864385850988008\n",
      "0.012196160970054973\n",
      "Ghana\n",
      "-0.8905044486821306\n",
      "-0.9705554962029499\n",
      "0.014734008502443881\n",
      "-0.8181063857298773\n",
      "-0.9712868349863866\n",
      "0.013634865207040088\n",
      "Nigeria\n",
      "-0.7157451424470835\n",
      "-0.9535781884989043\n",
      "0.01281735304379978\n",
      "-0.6190849944196499\n",
      "-0.9510156069953659\n",
      "0.011448342951896817\n",
      "Kenya\n",
      "-0.7220487907607783\n",
      "-0.9948459100520003\n",
      "0.006803751911797741\n",
      "-0.6538601668808498\n",
      "-0.989991321619025\n",
      "0.008370600383722466\n",
      "Ethiopia\n",
      "-0.9615909514238148\n",
      "-0.9201097466065093\n",
      "0.022330118281020352\n",
      "-0.865144294667185\n",
      "-0.9252927248421565\n",
      "0.017887224528347404\n",
      "Botswana\n",
      "-0.6202027235118525\n",
      "-0.8623606115687809\n",
      "0.08831277927169089\n",
      "-0.9707267568202914\n",
      "-0.9146785305542778\n",
      "0.11464142990681016\n",
      "Zambia\n",
      "-0.7178956799289022\n",
      "-0.9230460602277777\n",
      "0.04149029931484246\n",
      "-0.6996878012291149\n",
      "-0.9254379372901237\n",
      "0.03934982341327347\n",
      "South Africa\n",
      "-0.813046463539664\n",
      "-0.9941776636668245\n",
      "0.005062448494539336\n",
      "-0.7784001477723509\n",
      "-0.9921235401802273\n",
      "0.005418297800927348\n"
     ]
    }
   ],
   "source": [
    "for country in countries: \n",
    "    data1 = np.sort(np.array(GHS2000[GHS2000['country'] == country].PopTot))\n",
    "    data2 = np.sort(np.array(GHS2015[GHS2015['country'] == country].PopTot))\n",
    "    \n",
    "    # Order the data for Zipf's law\n",
    "    X1_zipf = data1 #sort the values\n",
    "    Y1_zipf = list(range(1, len(X1_zipf)+1)) # make a range\n",
    "    Y1_zipf = Y1_zipf[::-1] # Re order range\n",
    "\n",
    "    X1_zipf_log = np.log(X1_zipf)\n",
    "    Y1_zipf_log = np.log(Y1_zipf)\n",
    "\n",
    "    X2_zipf = data2\n",
    "    Y2_zipf = list(range(1, len(X2_zipf)+1))\n",
    "    Y2_zipf = Y2_zipf[::-1]\n",
    "\n",
    "    X2_zipf_log = np.log(X2_zipf)\n",
    "    Y2_zipf_log = np.log(Y2_zipf)\n",
    "    \n",
    "    fit1 = ss.linregress(X1_zipf_log, Y1_zipf_log)\n",
    "    fit2 = ss.linregress(X2_zipf_log, Y2_zipf_log)\n",
    "\n",
    "    print(country)\n",
    "    print(fit1[0]) # Slope 2000\n",
    "    print(fit1[2]) # R2 2000\n",
    "    print(fit1[4]) # p val 2000\n",
    "    print(fit2[0]) # Slope 2015\n",
    "    print(fit2[2]) # R2 2000\n",
    "    print(fit2[4]) # p val 2015"
   ]
  },
  {
   "cell_type": "code",
   "execution_count": null,
   "metadata": {
    "scrolled": false
   },
   "outputs": [],
   "source": [
    "bigcity = GHS2015[GHS2015.PopTot >= 5*10**6]\n",
    "\n",
    "city = GHS2000[GHS2000['country'] == 'Tanzania']\n",
    "city.sort_values('PopTot', ascending = False)"
   ]
  },
  {
   "cell_type": "code",
   "execution_count": null,
   "metadata": {},
   "outputs": [],
   "source": [
    "# All Africa\n",
    "\n",
    "test1 = GHS2000\n",
    "test2 = GHS2015\n",
    "\n",
    "print(test1.PopTot.count())\n",
    "print(test2.PopTot.count())\n",
    "print(test1.PopTot.median())\n",
    "print(test2.PopTot.median())\n",
    "\n",
    "# gini coef. \n",
    "print(gini((test1.PopTot)))\n",
    "print(gini((test2.PopTot)))"
   ]
  },
  {
   "cell_type": "code",
   "execution_count": null,
   "metadata": {},
   "outputs": [],
   "source": [
    "# All Africa \n",
    "\n",
    "data1 = np.sort(np.array(GHS2000.PopTot))\n",
    "data2 = np.sort(np.array(GHS2015.PopTot))\n",
    "\n",
    "# Order the data for Zipf's law\n",
    "X1_zipf = data1 #sort the values\n",
    "Y1_zipf = list(range(1, len(X1_zipf)+1)) # make a range\n",
    "Y1_zipf = Y1_zipf[::-1] # Re order range\n",
    "\n",
    "X1_zipf_log = np.log(X1_zipf)\n",
    "Y1_zipf_log = np.log(Y1_zipf)\n",
    "\n",
    "X2_zipf = data2\n",
    "Y2_zipf = list(range(1, len(X2_zipf)+1))\n",
    "Y2_zipf = Y2_zipf[::-1]\n",
    "\n",
    "X2_zipf_log = np.log(X2_zipf)\n",
    "Y2_zipf_log = np.log(Y2_zipf)\n",
    "\n",
    "fit1 = ss.linregress(X1_zipf_log, Y1_zipf_log)\n",
    "fit2 = ss.linregress(X2_zipf_log, Y2_zipf_log)\n",
    "\n",
    "print('Africa')\n",
    "print(fit1[0]) # Slope 2000\n",
    "print(fit1[2]) # R2 2000\n",
    "print(fit1[4]) # p val 2000\n",
    "print(fit2[0]) # Slope 2015\n",
    "print(fit2[2]) # R2 2000\n",
    "print(fit2[4]) # p val 2015"
   ]
  },
  {
   "cell_type": "code",
   "execution_count": null,
   "metadata": {},
   "outputs": [],
   "source": [
    "fit1"
   ]
  },
  {
   "cell_type": "code",
   "execution_count": null,
   "metadata": {},
   "outputs": [],
   "source": [
    "\n",
    "\n",
    "rain = GHS2015[GHS2015['rain_zone'] == 'Arid']\n",
    "rain = rain[rain.PopTot < 5*10**6]\n",
    "\n",
    "gini(rain.PopTot)"
   ]
  },
  {
   "cell_type": "markdown",
   "metadata": {},
   "source": [
    "# Old Code"
   ]
  },
  {
   "cell_type": "code",
   "execution_count": null,
   "metadata": {},
   "outputs": [],
   "source": [
    "# test = GHS2000[GHS2000['PopTot'] < 5*10**6]\n",
    "# out = test.groupby('country').PopTot.agg(gini)\n",
    "# gini2015_df['gini-00'] = out.values"
   ]
  },
  {
   "cell_type": "code",
   "execution_count": null,
   "metadata": {},
   "outputs": [],
   "source": [
    "# gini2015_df = pd.DataFrame()\n",
    "# gini2015_df['country'] = out.keys()\n",
    "# gini2015_df['gini-15'] = out.values"
   ]
  },
  {
   "cell_type": "code",
   "execution_count": null,
   "metadata": {
    "scrolled": true
   },
   "outputs": [],
   "source": [
    "# out.keys()"
   ]
  },
  {
   "cell_type": "code",
   "execution_count": null,
   "metadata": {},
   "outputs": [],
   "source": [
    "# gini2015_df['gini-dif'] = gini2015_df['gini-15'] - gini2015_df['gini-00']"
   ]
  },
  {
   "cell_type": "code",
   "execution_count": null,
   "metadata": {},
   "outputs": [],
   "source": [
    "# gini2015_df"
   ]
  },
  {
   "cell_type": "code",
   "execution_count": null,
   "metadata": {},
   "outputs": [],
   "source": [
    "# fao_ag = pd.read_csv(data_temp+'Macro-Statistics_Key_Indicators_E_Africa.csv')"
   ]
  },
  {
   "cell_type": "code",
   "execution_count": null,
   "metadata": {},
   "outputs": [],
   "source": [
    "# Value added as share gpd 2010 prices\n",
    "\n",
    "# value = fao_ag.loc[(fao_ag['Item Code'] == 22016) & (fao_ag['Element Code'] == 6169)]"
   ]
  },
  {
   "cell_type": "code",
   "execution_count": null,
   "metadata": {},
   "outputs": [],
   "source": [
    "# ag2000_df = value.filter(['Area', 'Y2000'])\n",
    "# ag2000_df.columns = ag_df.columns.str.replace('Area', 'country')"
   ]
  },
  {
   "cell_type": "code",
   "execution_count": null,
   "metadata": {},
   "outputs": [],
   "source": [
    "# ag_result = pd.merge(ag2000_df, ag2015_df, on='country', how='inner')\n",
    "# ag_result"
   ]
  },
  {
   "cell_type": "code",
   "execution_count": null,
   "metadata": {},
   "outputs": [],
   "source": [
    "# result = pd.merge(gini_df, ag_df, on='country', how='inner')"
   ]
  },
  {
   "cell_type": "code",
   "execution_count": null,
   "metadata": {},
   "outputs": [],
   "source": [
    "# plt.scatter(result.gini, result.Y2015, marker='.', color='Red', s=100, alpha = 0.5)\n",
    "# plt.xlabel('Urban Settlement Gini Coeff by Country 2015')\n",
    "# plt.ylabel('Value added by Agriculture as Share of GDP')"
   ]
  }
 ],
 "metadata": {
  "kernelspec": {
   "display_name": "Python 3",
   "language": "python",
   "name": "python3"
  },
  "language_info": {
   "codemirror_mode": {
    "name": "ipython",
    "version": 3
   },
   "file_extension": ".py",
   "mimetype": "text/x-python",
   "name": "python",
   "nbconvert_exporter": "python",
   "pygments_lexer": "ipython3",
   "version": "3.7.0"
  }
 },
 "nbformat": 4,
 "nbformat_minor": 2
}
