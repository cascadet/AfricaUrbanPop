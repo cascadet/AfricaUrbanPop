{
 "cells": [
  {
   "cell_type": "markdown",
   "metadata": {},
   "source": [
    "### Program to clip rasters"
   ]
  },
  {
   "cell_type": "code",
   "execution_count": 1,
   "metadata": {},
   "outputs": [],
   "source": [
    "import rasterio\n",
    "import fiona\n",
    "from rasterio.mask import mask"
   ]
  },
  {
   "cell_type": "code",
   "execution_count": 14,
   "metadata": {},
   "outputs": [],
   "source": [
    "# data folder git will ignore\n",
    "# data = \"/home/cascade/tana-crunch-cascade/projects/NTL/data/\" # git will ignore\n",
    "# temp_data = \"/home/cascade/tana-crunch-cascade/projects/NTL/temp_data/\" # git will not ignore - NO BIG FILES \n",
    "\n",
    "# Local computer \n",
    "# infilepath = '/Users/cascade/Github/NTL/data/raw/worldpop/Africa-1km-Population/'\n",
    "# outfilepath = '/Users/cascade/Github/NTL/temp_data/'\n",
    "\n",
    "temp_data = '../../temp_data/'\n",
    "raster_out = '../../data/interim/'\n",
    "raster_in = '../../data/raw/'"
   ]
  },
  {
   "cell_type": "code",
   "execution_count": 30,
   "metadata": {},
   "outputs": [],
   "source": [
    "def raster_clip(raster, shape, file):\n",
    "    with fiona.open(shape, \"r\") as shapefile:\n",
    "        geoms = [feature[\"geometry\"] for feature in shapefile]\n",
    "\n",
    "    with rasterio.open(raster) as src:\n",
    "        out_image, out_transform = mask(src, geoms, crop=True)\n",
    "        out_meta = src.meta.copy()\n",
    "\n",
    "    out_meta.update({\"driver\": \"GTiff\",\n",
    "                     \"height\": out_image.shape[1],\n",
    "                     \"width\": out_image.shape[2],\n",
    "                     \"transform\": out_transform})\n",
    "\n",
    "    with rasterio.open(file, \"w\", **out_meta) as dest:\n",
    "        dest.write(out_image)"
   ]
  },
  {
   "cell_type": "code",
   "execution_count": 63,
   "metadata": {},
   "outputs": [],
   "source": [
    "raster = raster_in+'LandScan-Global-2015/lspop2015/w001001.adf'\n",
    "shape = temp_data+'20190114_Africabase.shp'\n",
    "file = raster_out+'LandScan2015_w001001_Clip.tif'"
   ]
  },
  {
   "cell_type": "code",
   "execution_count": 64,
   "metadata": {},
   "outputs": [],
   "source": [
    "raster_clip(raster, shape, file)"
   ]
  },
  {
   "cell_type": "code",
   "execution_count": 65,
   "metadata": {},
   "outputs": [
    {
     "data": {
      "text/plain": [
       "{'driver': 'GTiff',\n",
       " 'dtype': 'int32',\n",
       " 'nodata': -2147483647.0,\n",
       " 'width': 10688,\n",
       " 'height': 8684,\n",
       " 'count': 1,\n",
       " 'crs': CRS({'init': 'epsg:4326'}),\n",
       " 'transform': Affine(0.0083333333333333, 0.0, -25.466666666667294,\n",
       "        0.0, -0.0083333333333333, 37.441666666666165)}"
      ]
     },
     "execution_count": 65,
     "metadata": {},
     "output_type": "execute_result"
    }
   ],
   "source": [
    "test = rasterio.open(file)\n",
    "test.meta"
   ]
  },
  {
   "cell_type": "code",
   "execution_count": 48,
   "metadata": {},
   "outputs": [],
   "source": [
    "GHS2000 = rasterio.open(raster)"
   ]
  },
  {
   "cell_type": "code",
   "execution_count": 49,
   "metadata": {},
   "outputs": [
    {
     "data": {
      "text/plain": [
       "{'driver': 'GTiff',\n",
       " 'dtype': 'float32',\n",
       " 'nodata': 3.4028234663852886e+38,\n",
       " 'width': 35336,\n",
       " 'height': 17071,\n",
       " 'count': 1,\n",
       " 'crs': CRS({'init': 'epsg:4326'}),\n",
       " 'transform': Affine(0.010152911316938011, 0.0, -179.73259215057786,\n",
       "        0.0, -0.008179005658007374, 83.63964763391378)}"
      ]
     },
     "execution_count": 49,
     "metadata": {},
     "output_type": "execute_result"
    }
   ],
   "source": [
    "GHS2000.meta"
   ]
  },
  {
   "cell_type": "code",
   "execution_count": 39,
   "metadata": {},
   "outputs": [],
   "source": [
    "ESRI2016 = rasterio.open(data_in+'ESRI_WPE_2016_Pop/WPE_1KM_2016_Pop.tif')"
   ]
  },
  {
   "cell_type": "code",
   "execution_count": 40,
   "metadata": {},
   "outputs": [
    {
     "data": {
      "text/plain": [
       "{'driver': 'GTiff',\n",
       " 'dtype': 'int32',\n",
       " 'nodata': -2147483647.0,\n",
       " 'width': 40074,\n",
       " 'height': 14285,\n",
       " 'count': 1,\n",
       " 'crs': CRS({'init': 'epsg:4326'}),\n",
       " 'transform': Affine(0.008983196, 0.0, -179.99191516916386,\n",
       "        0.0, -0.008983196, 73.32432599999953)}"
      ]
     },
     "execution_count": 40,
     "metadata": {},
     "output_type": "execute_result"
    }
   ],
   "source": [
    "ESRI2016.meta"
   ]
  }
 ],
 "metadata": {
  "kernelspec": {
   "display_name": "Python [default]",
   "language": "python",
   "name": "python3"
  },
  "language_info": {
   "codemirror_mode": {
    "name": "ipython",
    "version": 3
   },
   "file_extension": ".py",
   "mimetype": "text/x-python",
   "name": "python",
   "nbconvert_exporter": "python",
   "pygments_lexer": "ipython3",
   "version": "3.6.4"
  }
 },
 "nbformat": 4,
 "nbformat_minor": 2
}
