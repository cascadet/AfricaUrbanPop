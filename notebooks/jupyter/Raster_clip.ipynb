{
 "cells": [
  {
   "cell_type": "markdown",
   "metadata": {},
   "source": [
    "### Program to clip rasters"
   ]
  },
  {
   "cell_type": "code",
   "execution_count": 2,
   "metadata": {},
   "outputs": [],
   "source": [
    "import rasterio\n",
    "import fiona\n",
    "from rasterio.mask import mask"
   ]
  },
  {
   "cell_type": "code",
   "execution_count": 1,
   "metadata": {},
   "outputs": [],
   "source": [
    "# data folder git will ignore\n",
    "data = \"/home/cascade/tana-crunch-cascade/projects/NTL/data/\" # git will ignore\n",
    "temp_data = \"/home/cascade/tana-crunch-cascade/projects/NTL/temp_data/\" # git will not ignore - NO BIG FILES \n",
    "\n",
    "# Local computer \n",
    "# infilepath = '/Users/cascade/Github/NTL/data/raw/worldpop/Africa-1km-Population/'\n",
    "# outfilepath = '/Users/cascade/Github/NTL/temp_data/'"
   ]
  },
  {
   "cell_type": "code",
   "execution_count": 8,
   "metadata": {},
   "outputs": [],
   "source": [
    "def raster_clip(raster, shape, file):\n",
    "    with fiona.open(shape, \"r\") as shapefile:\n",
    "        geoms = [feature[\"geometry\"] for feature in shapefile]\n",
    "\n",
    "    with rasterio.open(raster) as src:\n",
    "        out_image, out_transform = mask(src, geoms, crop=True)\n",
    "        out_meta = src.meta.copy()\n",
    "\n",
    "    out_meta.update({\"driver\": \"GTiff\",\n",
    "                     \"height\": out_image.shape[1],\n",
    "                     \"width\": out_image.shape[2],\n",
    "                     \"transform\": out_transform})\n",
    "\n",
    "    with rasterio.open(file, \"w\", **out_meta) as dest:\n",
    "        dest.write(out_image)"
   ]
  },
  {
   "cell_type": "code",
   "execution_count": 9,
   "metadata": {},
   "outputs": [],
   "source": [
    "raster = data+'gpw_v4_population_count_adjusted_to_2015_unwpp_country_totals_rev10_2000_30_sec.tif'\n",
    "shape = temp_data+'20181205_AfricaBase_buffered.shp'\n",
    "file = data+'test.tif'"
   ]
  },
  {
   "cell_type": "code",
   "execution_count": 10,
   "metadata": {},
   "outputs": [
    {
     "data": {
      "text/plain": [
       "{'count': 1,\n",
       " 'crs': CRS({'init': 'epsg:4326'}),\n",
       " 'driver': 'GTiff',\n",
       " 'dtype': 'float32',\n",
       " 'height': 8684,\n",
       " 'nodata': -3.4028230607370965e+38,\n",
       " 'transform': Affine(0.00833333333333387, 0.0, -25.46666666665672,\n",
       "       0.0, -0.00833333333333387, 37.44166666667293),\n",
       " 'width': 10687}"
      ]
     },
     "execution_count": 10,
     "metadata": {},
     "output_type": "execute_result"
    }
   ],
   "source": [
    "# raster_clip(raster, shape, file)\n",
    "# test = rasterio.open(data+'test.tif')\n",
    "# test.meta"
   ]
  }
 ],
 "metadata": {
  "kernelspec": {
   "display_name": "Python [default]",
   "language": "python",
   "name": "python3"
  },
  "language_info": {
   "codemirror_mode": {
    "name": "ipython",
    "version": 3
   },
   "file_extension": ".py",
   "mimetype": "text/x-python",
   "name": "python",
   "nbconvert_exporter": "python",
   "pygments_lexer": "ipython3",
   "version": "3.6.4"
  }
 },
 "nbformat": 4,
 "nbformat_minor": 2
}
