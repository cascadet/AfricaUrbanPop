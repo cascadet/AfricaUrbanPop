{
 "cells": [
  {
   "cell_type": "markdown",
   "metadata": {},
   "source": [
    "### Program to clip rasters"
   ]
  },
  {
   "cell_type": "code",
   "execution_count": 13,
   "metadata": {},
   "outputs": [],
   "source": [
    "# Local computer \n",
    "infilepath = '/Users/cascade/Github/NTL/data/raw/'\n",
    "outfilepath = '/Users/cascade/Github/NTL/temp_data/'\n",
    "otherfilepath = '/Users/cascade/Desktop/'"
   ]
  },
  {
   "cell_type": "code",
   "execution_count": 2,
   "metadata": {},
   "outputs": [],
   "source": [
    "import rasterio\n",
    "import numpy as np\n",
    "from shapely.geometry import Polygon"
   ]
  },
  {
   "cell_type": "code",
   "execution_count": 14,
   "metadata": {},
   "outputs": [],
   "source": [
    "test = rasterio.open(otherfilepath+'test.tif')\n",
    "grump_2000 = rasterio.open(infilepath+\"\"\"grumpdata/Raster/gpw-v4-population-count-adjusted-to-2015-unwpp-country-totals-rev10_2000_30_sec_tif/gpw_v4_population_count_adjusted_to_2015_unwpp_country_totals_rev10_2000_30_sec.tif\"\"\")"
   ]
  },
  {
   "cell_type": "code",
   "execution_count": 24,
   "metadata": {},
   "outputs": [],
   "source": [
    "from rasterio import plot\n",
    "band = test.read(1)\n",
    "\n",
    "band[band < 0] = -4"
   ]
  },
  {
   "cell_type": "code",
   "execution_count": 26,
   "metadata": {},
   "outputs": [],
   "source": [
    "kwargs = africa1k_2000.meta\n",
    "kwargs.update(dtype=rasterio.float32, count = 1)\n",
    "\n",
    "with rasterio.open(otherfilepath+'africa1k_footprint_test.tif', 'w', **kwargs) as dst:\n",
    "         dst.write_band(1, band.astype(rasterio.float32))"
   ]
  },
  {
   "cell_type": "code",
   "execution_count": null,
   "metadata": {},
   "outputs": [],
   "source": [
    "poly_gdf.to_file(outfilepath+'WorldPop_Africa_footprint.shp', driver='ESRI Shapefile')\n"
   ]
  },
  {
   "cell_type": "code",
   "execution_count": null,
   "metadata": {},
   "outputs": [],
   "source": [
    "# pull a basemap of Africa\n",
    "import geopandas as gpd\n",
    "\n",
    "outfilepath = '/Users/cascade/Github/NTL/temp_data/'\n",
    "\n",
    "africa = gpd.read_file(outfilepath+'Africa.shp')\n",
    "africa.plot();a"
   ]
  },
  {
   "cell_type": "code",
   "execution_count": null,
   "metadata": {},
   "outputs": [],
   "source": [
    "africa['continent'] = 'Africa'\n",
    "africa.head(6)"
   ]
  },
  {
   "cell_type": "code",
   "execution_count": null,
   "metadata": {},
   "outputs": [],
   "source": [
    "continent = africa.dissolve(by='continent')\n",
    "continent.plot();"
   ]
  },
  {
   "cell_type": "code",
   "execution_count": null,
   "metadata": {},
   "outputs": [],
   "source": [
    "# write it out locally\n",
    "import fiona\n",
    "outfilepath = '/Users/cascade/Github/NTL/temp_data/'\n",
    "\n",
    "africa.to_file(outfilepath+'africa_gpd.shp', driver='ESRI Shapefile')\n"
   ]
  },
  {
   "cell_type": "code",
   "execution_count": null,
   "metadata": {},
   "outputs": [],
   "source": [
    "def raster_clip(src_poly)\n",
    "    \"\"\" This funciton uploads a shape file, disolved boundaries \n",
    "    \"\"\"\n",
    "    \n",
    "    poly\n",
    "\n",
    "\n",
    "zambia_dist = gpd.read_file(\"zmb_popa_adm1_census2010f_ISCGM_CSO_OCHA_.shp\")\n",
    "zambia_dist.plot()\n",
    "\n",
    "zambia = zambia_dist[['COUNTRY', 'geometry']]\n",
    "zambia = zambia.dissolve(by = \"COUNTRY\")\n",
    "zambia.plot()\n",
    "\n",
    "with fiona.open(\"zambia.shp\", \"r\") as shapefile:                                #<--- Need to figure out how to get the geometry from shp file directly \n",
    "    features = [feature[\"geometry\"] for feature in shapefile]\n",
    "\n",
    "with rasterio.open(\"F182013.v4c.pct_lights.tif\") as src:                        #<--- Need to figure out how to get it not to write to a file, but just store in memory at this point\n",
    "    out_image, out_transform = rasterio.mask.mask(src, features, crop=True)\n",
    "    out_meta = src.meta.copy()\n",
    "\n",
    "out_meta.update({\"driver\": \"GTiff\",\n",
    "                 \"height\": out_image.shape[1],\n",
    "                 \"width\": out_image.shape[2],\n",
    "                 \"transform\": out_transform})\n",
    "with rasterio.open(\"dmsp13_zambia.tif\", \"w\", **out_meta) as dest:\n",
    "    dest.write(out_image)  "
   ]
  }
 ],
 "metadata": {
  "kernelspec": {
   "display_name": "Python 3",
   "language": "python",
   "name": "python3"
  },
  "language_info": {
   "codemirror_mode": {
    "name": "ipython",
    "version": 3
   },
   "file_extension": ".py",
   "mimetype": "text/x-python",
   "name": "python",
   "nbconvert_exporter": "python",
   "pygments_lexer": "ipython3",
   "version": "3.7.0"
  }
 },
 "nbformat": 4,
 "nbformat_minor": 2
}
