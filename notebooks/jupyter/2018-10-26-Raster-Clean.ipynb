{
 "cells": [
  {
   "cell_type": "markdown",
   "metadata": {},
   "source": [
    "### Raster Data to Explore\n",
    "    Landscan\n",
    "    Worldpop\n",
    "    NTL - DMSP & VIIRS\n",
    "    Africapolic \n",
    "    EU Human Settlement Layer\n",
    "    MODIS built layer\n",
    "    Facebook Human Settlement\n",
    "    GRUMP\n",
    "    \n",
    "### Define Urban Density\n",
    "    Go w/ former US Census threshold of >= 1000 ppl per sq mile\n",
    "    https://www2.census.gov/geo/pdfs/reference/GARM/Ch12GARM.pdf\n",
    "    \n",
    "    http://blogs.worldbank.org/sustainablecities/what-does-urban-mean"
   ]
  },
  {
   "cell_type": "code",
   "execution_count": 4,
   "metadata": {},
   "outputs": [],
   "source": [
    "import os\n",
    "import matplotlib.pyplot as plt\n",
    "import rasterio\n",
    "from rasterio import plot\n",
    "from rasterio.mask import mask\n",
    "import pandas as pd\n",
    "import geopandas as gpd\n",
    "import fiona\n",
    "import rasterio\n",
    "import numpy as np\n",
    "import skimage.io as skio\n",
    "import time\n",
    "import copy"
   ]
  },
  {
   "cell_type": "code",
   "execution_count": null,
   "metadata": {},
   "outputs": [],
   "source": [
    "# will build out folders later\n",
    "\n",
    "# data folder git will ignore\n",
    "infilepath = \"/home/cascade/tana-crunch-cascade/projects/NTL/data/\" \n",
    "\n",
    "# data folder git will not ignore - NO BIG FILES \n",
    "outfilepath = \"/home/cascade/tana-crunch-cascade/projects/NTL/temp_data/\""
   ]
  },
  {
   "cell_type": "code",
   "execution_count": 6,
   "metadata": {},
   "outputs": [],
   "source": [
    "# when work on local computer\n",
    "\n",
    "infilepath = '/Users/cascade/Github/NTL/data/raw/worldpop/Africa-1km-Population/'\n",
    "outfilepath = '/Users/cascade/Github/NTL/temp_data/'"
   ]
  },
  {
   "cell_type": "markdown",
   "metadata": {},
   "source": [
    "# Step 1 - Input file\n",
    "\n",
    "    Becomes a rasterio object, check meta data \n",
    "    Bands are numpy arrays"
   ]
  },
  {
   "cell_type": "code",
   "execution_count": null,
   "metadata": {},
   "outputs": [],
   "source": [
    "africa1k_2000 = rasterio.open(infilepath+\"AFR_PPP_2020_adj_v2.tif\") #<----- changes to 2020 18/13/11 @ 2pm \n",
    "africa1k_2000.meta"
   ]
  },
  {
   "cell_type": "markdown",
   "metadata": {},
   "source": [
    "# Step 2 - Make a mask\n",
    "\n",
    "    Becomes a rasterio object, check meta data \n",
    "    Bands are numpy arrays"
   ]
  },
  {
   "cell_type": "code",
   "execution_count": null,
   "metadata": {},
   "outputs": [],
   "source": [
    "# https://www2.census.gov/geo/pdfs/reference/ua/Defining_Rural.pdf\n",
    "\n",
    "density = 1000/ 2.59 #density per sq km from sq mi\n",
    "print(density)"
   ]
  },
  {
   "cell_type": "code",
   "execution_count": null,
   "metadata": {
    "scrolled": true
   },
   "outputs": [],
   "source": [
    "# Let's try to make the mask directy with rasterio\n",
    "checkpoint = time.time()\n",
    "\n",
    "new_mask = africa1k_2000.read(1)\n",
    "new_mask[new_mask < 600] = 0 #18-11-12 set w/ 600 people\n",
    "new_mask[new_mask > 600] = 1 #18-11-12 set w/ 600 people\n",
    "print(np.unique(new_mask)) # ensure that it's zeros and ones\n",
    "\n",
    "# plot.show(new_mask) # Sanity check \n",
    "print('elasped time to do the quary:{}'.format(time.time() - checkpoint))"
   ]
  },
  {
   "cell_type": "code",
   "execution_count": null,
   "metadata": {},
   "outputs": [],
   "source": [
    "# Write out 600 ppl/km2 for QGIS\n",
    "kwargs = africa1k_2000.meta\n",
    "kwargs.update(dtype=rasterio.float32, count = 1)\n",
    "\n",
    "with rasterio.open(infilepath+'africa1k_2020_mask600.tif', 'w', **kwargs) as dst:\n",
    "        dst.write_band(1, new_mask.astype(rasterio.float32))\n"
   ]
  },
  {
   "cell_type": "markdown",
   "metadata": {},
   "source": [
    "### Dilate and Erode \n",
    "With 3x3 kernal ... must be odd number to stay centered "
   ]
  },
  {
   "cell_type": "code",
   "execution_count": null,
   "metadata": {
    "scrolled": true
   },
   "outputs": [],
   "source": [
    "# With 3x3 kernal ... must be odd number to stay centered  \n",
    "# try dilate, erode, open and close\n",
    "\n",
    "import cv2\n",
    "\n",
    "kernal = np.ones((3,3), np.uint8)\n",
    "mask_dilated_close = cv2.morphologyEx(new_mask, cv2.MORPH_CLOSE, kernal)\n",
    "mask_dilated_open = cv2.morphologyEx(new_mask, cv2.MORPH_OPEN, kernal)\n",
    "mask_erode = cv2.erode(new_mask, kernal, iterations = 1)\n",
    "mask_dilate = cv2.dilate(new_mask, kernal, iterations = 1)\n",
    "\n",
    "# write them out and check in QGIS\n",
    "# ----------------> Need to do this without writing files <-----\n",
    "kwargs = africa1k_2000.meta\n",
    "\n",
    "# Update kwargs (change in data type)\n",
    "kwargs.update(dtype=rasterio.float32, count = 1)\n",
    "\n",
    "# Let's see what is in there\n",
    "print(kwargs)\n",
    "\n",
    "# erode check\n",
    "# with rasterio.open(infilepath+'africa1k_2020_maskErode.tif', 'w', **kwargs) as dst:\n",
    "#         dst.write_band(1, mask_erode.astype(rasterio.float32))\n",
    "\n",
    "# dilate check \n",
    "# with rasterio.open(infilepath+'africa1k_2020_maskDilate.tif', 'w', **kwargs) as dst:\n",
    "#         dst.write_band(1, mask_dilate.astype(rasterio.float32)) \n",
    "        \n",
    "# close raster check\n",
    "# with rasterio.open(infilepath+'africa1k_2020_maskClose.tif', 'w', **kwargs) as dst:\n",
    "#         dst.write_band(1, mask_dilated_close.astype(rasterio.float32))\n",
    "\n",
    "# open raster check        \n",
    "# with rasterio.open(infilepath+'africa1k_2020_maskOpen.tif', 'w', **kwargs) as dst:\n",
    "#         dst.write_band(1, mask_dilated_open.astype(rasterio.float32))\n",
    "\n",
    "#plot.show(mask_dilated)"
   ]
  },
  {
   "cell_type": "markdown",
   "metadata": {},
   "source": [
    "#### Notes\n",
    "- Dilate alone connects too many cites\n",
    "- Erode alone may make too few cities\n",
    "- Open greatly reduces the number of polygons but may be best for a conservitive estimate\n",
    "- Close connects them and may make it difficult to attach the correct label with correct political boundaries"
   ]
  },
  {
   "cell_type": "markdown",
   "metadata": {},
   "source": [
    "# Step 3 - ShapeFiles"
   ]
  },
  {
   "cell_type": "code",
   "execution_count": null,
   "metadata": {},
   "outputs": [],
   "source": [
    "# open dialated mask and make some polygons\n",
    "checkpoint = time.time()\n",
    "\n",
    "from rasterio import features as features\n",
    "\n",
    "with rasterio.open(infilepath+'africa1k_2020_mask600.tif') as dataset:\n",
    "\n",
    "    # Read the dataset's valid data mask as a ndarray.\n",
    "    mask = dataset.read(1)\n",
    "\n",
    "    # Extract feature shapes and values from the array.\n",
    "    for geom, val in rasterio.features.shapes(\n",
    "            mask, transform=dataset.transform):\n",
    "\n",
    "        # Transform shapes from the dataset's own coordinate\n",
    "        # reference system to CRS84 (EPSG:4326).\n",
    "        geom = rasterio.warp.transform_geom(\n",
    "            dataset.crs, 'EPSG:4326', geom, precision=6) # WGS84 (EPSG 4326)\n",
    "\n",
    "print(\"elapsed time is: {}s\".format(time.time()-checkpoint))"
   ]
  },
  {
   "cell_type": "markdown",
   "metadata": {},
   "source": [
    "Don't need to write outfile as shapes ... can do is-inside script without making shape\n",
    "But write it out so you don't have to keep rerunning the above code block"
   ]
  },
  {
   "cell_type": "code",
   "execution_count": null,
   "metadata": {},
   "outputs": [],
   "source": [
    "# import json\n",
    "\n",
    "# with open(outfilepath+'WP2000_mask600_poly.json', 'w') as fp:\n",
    "#      json.dump(geom, fp)"
   ]
  },
  {
   "cell_type": "code",
   "execution_count": null,
   "metadata": {},
   "outputs": [],
   "source": [
    "# Sanity check\n",
    "print(len(geom['coordinates']))\n",
    "print(geom.keys())"
   ]
  },
  {
   "cell_type": "code",
   "execution_count": null,
   "metadata": {},
   "outputs": [],
   "source": [
    "# Turn rasterio geom dict into a polygon\n",
    "\n",
    "from shapely.geometry import Polygon\n",
    "\n",
    "def build_poly_df(geom):\n",
    "    \"\"\"\n",
    "    This function makes polygons from rasterio geom dict\n",
    "    \"\"\"\n",
    "    \n",
    "    # turn dict into normal data frame\n",
    "    Polygon(geom['coordinates'][0])\n",
    "    geo_df = gpd.GeoDataFrame()\n",
    "    for i, poly in enumerate(geom['coordinates']):\n",
    "        geo_df.loc[i,'geometry']= Polygon(poly)\n",
    "    return geo_df"
   ]
  },
  {
   "cell_type": "code",
   "execution_count": null,
   "metadata": {},
   "outputs": [],
   "source": [
    "poly_geo_df = build_poly_df(geom)"
   ]
  },
  {
   "cell_type": "code",
   "execution_count": null,
   "metadata": {},
   "outputs": [],
   "source": [
    "poly_geo_df.head(6)"
   ]
  },
  {
   "cell_type": "code",
   "execution_count": null,
   "metadata": {},
   "outputs": [],
   "source": [
    "poly_geo_df.shape"
   ]
  },
  {
   "cell_type": "markdown",
   "metadata": {},
   "source": [
    "#### I think I need to drop the first row because it's the footprint of the raster"
   ]
  },
  {
   "cell_type": "code",
   "execution_count": null,
   "metadata": {},
   "outputs": [],
   "source": [
    "poly_geo_df_copy = copy.deepcopy(poly_geo_df)"
   ]
  },
  {
   "cell_type": "code",
   "execution_count": null,
   "metadata": {},
   "outputs": [],
   "source": [
    "# I think I need to drop the first row because it's the footprint of the raster\n",
    "poly_geo_df_copy = poly_geo_df_copy.drop(poly_geo_df_copy.index[0], axis = 0)"
   ]
  },
  {
   "cell_type": "code",
   "execution_count": null,
   "metadata": {},
   "outputs": [],
   "source": [
    "poly_geo_df_copy.shape"
   ]
  },
  {
   "cell_type": "code",
   "execution_count": null,
   "metadata": {},
   "outputs": [],
   "source": [
    "# write out polygons from mask 600 on WorldPop Africa 1km year 2000 \n",
    "\n",
    "poly_geo_df_copy.to_csv(outfilepath+\"20181113_poly_cities_africa2020mask600.csv\")"
   ]
  },
  {
   "cell_type": "markdown",
   "metadata": {},
   "source": [
    "### Pull in OSM cities and turn into geo data frame"
   ]
  },
  {
   "cell_type": "code",
   "execution_count": null,
   "metadata": {},
   "outputs": [],
   "source": [
    "import pandas as pd\n",
    "from shapely.geometry import Point\n",
    "\n",
    "osm_df = pd.read_csv(outfilepath+'africa_cities.csv')\n",
    "\n",
    "# creating a geometry column \n",
    "geometry = [Point(xy) for xy in zip(osm_df['lon'], osm_df['lat'])]\n",
    "\n",
    "# Coordinate reference system : WGS84\n",
    "crs = {'init': 'epsg:4326'}\n",
    "\n",
    "# Creating a Geographic data frame \n",
    "osm_gdf = gpd.GeoDataFrame(osm_df, crs=crs, geometry=geometry)"
   ]
  },
  {
   "cell_type": "code",
   "execution_count": null,
   "metadata": {},
   "outputs": [],
   "source": [
    "# building a function to check if points are in poly for lists of poly and points\n",
    "# needs geopandas data frame with point and poly geometry \n",
    "\n",
    "from shapely.geometry import mapping\n",
    "\n",
    "def poly_point (poly, point):\n",
    "    \"\"\"\n",
    "    This function will check if points are inside polygons if given two gpds with points and polygons\n",
    "    Returns city names or no list \n",
    "    \"\"\"\n",
    "    \n",
    "    out_arr = [] #return an array <<< ---------------- ASK RYAN IF BETTER DO USE DICT \n",
    "    \n",
    "    for index_point, row_point in point.iterrows():\n",
    "        for index_poly, row_poly in poly.iterrows():\n",
    "            if row_point['geometry'].within(row_poly['geometry']):\n",
    "                country = row_point['Country']\n",
    "                city = row_point['City']\n",
    "                point_id = row_point['Id']\n",
    "                point_geom = mapping(row_point['geometry']) # makes a dict w/ keys : type and cood\n",
    "                poly_id = index_poly\n",
    "                poly_geom = mapping(row_poly['geometry']) # makes a dict w/ keys : type and cood\n",
    "                \n",
    "                out_arr.append((country, \n",
    "                                city, \n",
    "                                point_id, \n",
    "                                point_geom, \n",
    "                                poly_id, \n",
    "                                poly_geom))\n",
    "#             else:\n",
    "#                 test.append('no')\n",
    "    return out_arr"
   ]
  },
  {
   "cell_type": "code",
   "execution_count": null,
   "metadata": {},
   "outputs": [],
   "source": [
    "# 863 total cities in osm, 26974 polygons took 1578 seconds for 2000\n",
    "# 863 total cities in osm, 42241 polygons took XXXX seconds for 2020\n",
    "\n",
    "sub_point = osm_gdf.iloc[0:4]\n",
    "sub_poly = poly_geo_df_copy.iloc[0:1000] #<----- With copy, drop raster foot print polygon\n",
    "\n",
    "# print(sub_point.shape)\n",
    "# print(sub_poly.shape)\n",
    "# print(sub_point)\n",
    "# print(sub_poly)"
   ]
  },
  {
   "cell_type": "code",
   "execution_count": null,
   "metadata": {},
   "outputs": [],
   "source": [
    "osm_gdf.shape"
   ]
  },
  {
   "cell_type": "code",
   "execution_count": null,
   "metadata": {},
   "outputs": [],
   "source": [
    "check_point = time.time()\n",
    "\n",
    "# (poly then points)\n",
    "test = poly_point(poly_geo_df_copy, osm_gdf)\n",
    "print(len(test))\n",
    "\n",
    "print(\"elapsed time is: {}s\".format(time.time()-check_point))\n",
    "\n"
   ]
  },
  {
   "cell_type": "code",
   "execution_count": null,
   "metadata": {},
   "outputs": [],
   "source": [
    "# Can convert back to dataframe if needed ... \n",
    "\n",
    "coords_arr = np.array(test)\n",
    "coords_arr\n",
    "\n",
    "# Try to make it into a dataframe\n",
    "test_df = pd.DataFrame(data=coords_arr)\n",
    "test_df"
   ]
  },
  {
   "cell_type": "code",
   "execution_count": null,
   "metadata": {},
   "outputs": [],
   "source": [
    "test_df.to_csv(outfilepath+\"20181113_polypoints_WP2020_africa.csv\")"
   ]
  },
  {
   "cell_type": "markdown",
   "metadata": {},
   "source": [
    "# When working on home computer not Tana start here 18.11.13\n",
    "\n",
    "    tasks\n",
    "    - suck in .csv with cities for 2000 and 2020\n",
    "    - turn polygons into shape files\n",
    "    - turn shape files into masks\n",
    "    - use masks to return raster stats for the polygons"
   ]
  },
  {
   "cell_type": "code",
   "execution_count": 25,
   "metadata": {},
   "outputs": [
    {
     "name": "stdout",
     "output_type": "stream",
     "text": [
      "   Unnamed: 0        0            1         2  \\\n",
      "0           0  Algeria  Constantine  27564946   \n",
      "\n",
      "                                                   3     4  \\\n",
      "0  {'type': 'Point', 'coordinates': (6.6082600000...  1085   \n",
      "\n",
      "                                                   5  \n",
      "0  {'type': 'Polygon', 'coordinates': (((6.616249...  \n"
     ]
    }
   ],
   "source": [
    "# open polypoints csvs\n",
    "\n",
    "polypoints_2000_df =  pd.read_csv(outfilepath+'20181113_polypoints_WP2000_africa.csv')\n",
    "polypoints_2020_df =  pd.read_csv(outfilepath+'20181113_polypoints_WP2020_africa.csv')\n",
    "\n",
    "print(polypoints_2000_df.head(1))\n",
    "#print(polypoints_2020_df.head(1))"
   ]
  },
  {
   "cell_type": "code",
   "execution_count": 26,
   "metadata": {},
   "outputs": [
    {
     "name": "stdout",
     "output_type": "stream",
     "text": [
      "   i_val  country         city    osm_id  \\\n",
      "0      0  Algeria  Constantine  27564946   \n",
      "\n",
      "                                          point_geom  poly_id  \\\n",
      "0  {'type': 'Point', 'coordinates': (6.6082600000...     1085   \n",
      "\n",
      "                                           poly_geom  \n",
      "0  {'type': 'Polygon', 'coordinates': (((6.616249...  \n"
     ]
    }
   ],
   "source": [
    "polypoints_2000_df.columns = ['i_val','country','city','osm_id',\n",
    "                             'point_geom','poly_id','poly_geom']\n",
    "\n",
    "polypoints_2020_df.columns = ['i_val','country','city','osm_id',\n",
    "                             'point_geom','poly_id','poly_geom']\n",
    "print(polypoints_2000_df.head(1))"
   ]
  },
  {
   "cell_type": "code",
   "execution_count": 39,
   "metadata": {},
   "outputs": [],
   "source": [
    "from shapely.geometry import shape\n",
    "import ast\n",
    "\n",
    "test_1 = []\n",
    "test_2 = []\n",
    "\n",
    "for i in polypoints_2020_df['poly_geom']:\n",
    "    i = (ast.literal_eval(i))\n",
    "    test_1.append((i))\n",
    "    \n",
    "for j in test_1:\n",
    "    j = shape(j)\n",
    "    test_2.append((j))\n",
    "    \n",
    "# for poly in polypoints_2000_df.iloc[:,6]:\n",
    "#     poly = shape(ast.literal_eval(poly))\n",
    "#     test.append = (poly)\n",
    "\n",
    "#polypoints_2020_df['poly_geom'] = polypoints_2020_df['poly_geom'].apply(ast.literal_eval())\n",
    "polypoints_2020_df['geometry'] = test_2"
   ]
  },
  {
   "cell_type": "code",
   "execution_count": 42,
   "metadata": {},
   "outputs": [],
   "source": [
    "polypoints_2020_gdf = gpd.GeoDataFrame(polypoints_2020_df, geometry='geometry')\n",
    "polypoints_2000_gdf = gpd.GeoDataFrame(polypoints_2000_df, geometry='geometry')"
   ]
  },
  {
   "cell_type": "code",
   "execution_count": 45,
   "metadata": {},
   "outputs": [],
   "source": [
    "# polypoints_2000_gdf.to_file(outfilepath+'20181113_shape_WP2000_africa.shp', driver='ESRI Shapefile')\n",
    "# polypoints_2020_gdf.to_file(outfilepath+'20181113_shape_WP2020_africa.shp', driver='ESRI Shapefile')"
   ]
  },
  {
   "cell_type": "markdown",
   "metadata": {},
   "source": [
    "### THE CODE BELOW WILL TURN YOUR CSV BACK INTO SHAPELY OBJECTS :-)\n",
    "- Next step is to put into a gpdf and then make it into shape files ... write it as a loop. "
   ]
  },
  {
   "cell_type": "code",
   "execution_count": 41,
   "metadata": {},
   "outputs": [
    {
     "name": "stdout",
     "output_type": "stream",
     "text": [
      "<class 'dict'>\n"
     ]
    },
    {
     "data": {
      "image/svg+xml": [
       "<svg xmlns=\"http://www.w3.org/2000/svg\" xmlns:xlink=\"http://www.w3.org/1999/xlink\" width=\"100.0\" height=\"100.0\" viewBox=\"6.54824936 36.21491736 0.22766628000000022 0.26099928000000006\" preserveAspectRatio=\"xMinYMin meet\"><g transform=\"matrix(1,0,0,-1,0,72.690834)\"><path fill-rule=\"evenodd\" fill=\"#66cc99\" stroke=\"#555555\" stroke-width=\"0.005219985600000001\" opacity=\"0.6\" d=\"M 6.616249,36.46625 L 6.616249,36.449584 L 6.607916,36.449584 L 6.607916,36.44125 L 6.599583,36.44125 L 6.599583,36.432917 L 6.591249,36.432917 L 6.574583,36.432917 L 6.574583,36.41625 L 6.566249,36.41625 L 6.557916,36.41625 L 6.557916,36.407917 L 6.566249,36.407917 L 6.566249,36.374584 L 6.574583,36.374584 L 6.574583,36.36625 L 6.566249,36.36625 L 6.566249,36.357917 L 6.574583,36.357917 L 6.574583,36.349584 L 6.566249,36.349584 L 6.566249,36.31625 L 6.574583,36.31625 L 6.574583,36.307917 L 6.591249,36.307917 L 6.591249,36.299584 L 6.599583,36.299584 L 6.599583,36.274584 L 6.591249,36.274584 L 6.574583,36.274584 L 6.574583,36.249584 L 6.591249,36.249584 L 6.591249,36.24125 L 6.607916,36.24125 L 6.607916,36.232917 L 6.616249,36.232917 L 6.616249,36.249584 L 6.624583,36.249584 L 6.632916,36.249584 L 6.632916,36.26625 L 6.616249,36.26625 L 6.616249,36.274584 L 6.624583,36.274584 L 6.632916,36.274584 L 6.632916,36.299584 L 6.641249,36.299584 L 6.641249,36.31625 L 6.649583,36.31625 L 6.649583,36.307917 L 6.657916,36.307917 L 6.657916,36.299584 L 6.666249,36.299584 L 6.666249,36.29125 L 6.674583,36.29125 L 6.674583,36.26625 L 6.666249,36.26625 L 6.657916,36.26625 L 6.657916,36.257917 L 6.666249,36.257917 L 6.666249,36.249584 L 6.674583,36.249584 L 6.674583,36.232917 L 6.716249,36.232917 L 6.716249,36.24125 L 6.732916,36.24125 L 6.732916,36.232917 L 6.741249,36.232917 L 6.741249,36.224584 L 6.757916,36.224584 L 6.757916,36.232917 L 6.766249,36.232917 L 6.766249,36.24125 L 6.757916,36.24125 L 6.757916,36.26625 L 6.741249,36.26625 L 6.741249,36.257917 L 6.732916,36.257917 L 6.732916,36.274584 L 6.724583,36.274584 L 6.724583,36.282917 L 6.732916,36.282917 L 6.732916,36.29125 L 6.724583,36.29125 L 6.724583,36.299584 L 6.716249,36.299584 L 6.716249,36.282917 L 6.707916,36.282917 L 6.707916,36.307917 L 6.699583,36.307917 L 6.699583,36.31625 L 6.682916,36.31625 L 6.682916,36.324584 L 6.674583,36.324584 L 6.674583,36.349584 L 6.682916,36.349584 L 6.682916,36.36625 L 6.666249,36.36625 L 6.666249,36.374584 L 6.657916,36.374584 L 6.657916,36.382917 L 6.666249,36.382917 L 6.666249,36.399584 L 6.657916,36.399584 L 6.657916,36.407917 L 6.624583,36.407917 L 6.624583,36.41625 L 6.649583,36.41625 L 6.657916,36.41625 L 6.657916,36.44125 L 6.666249,36.44125 L 6.666249,36.449584 L 6.657916,36.449584 L 6.657916,36.457917 L 6.649583,36.457917 L 6.649583,36.46625 L 6.616249,36.46625 z\" /></g></svg>"
      ],
      "text/plain": [
       "<shapely.geometry.polygon.Polygon at 0x82a031898>"
      ]
     },
     "execution_count": 41,
     "metadata": {},
     "output_type": "execute_result"
    }
   ],
   "source": [
    "from shapely.geometry import shape\n",
    "import ast\n",
    "\n",
    "test_poly = ast.literal_eval(polypoints_2000_df.iloc[0,6])\n",
    "print(type(test_poly))\n",
    "\n",
    "test = shape(test_poly)\n",
    "test"
   ]
  },
  {
   "cell_type": "markdown",
   "metadata": {},
   "source": [
    "### The cell below this works ... makes a shapefile "
   ]
  },
  {
   "cell_type": "code",
   "execution_count": null,
   "metadata": {},
   "outputs": [],
   "source": [
    "# Explort it as a shape file\n",
    "# careful with the file path ... this is going to my notebooks folder right now\n",
    "# newer_pdf.to_file('worldpop_2000_test.shp', driver='ESRI Shapefile')"
   ]
  },
  {
   "cell_type": "code",
   "execution_count": null,
   "metadata": {},
   "outputs": [],
   "source": [
    "# Let's see if I can find zonal stats"
   ]
  },
  {
   "cell_type": "code",
   "execution_count": null,
   "metadata": {},
   "outputs": [],
   "source": [
    "# https://automating-gis-processes.github.io/CSC18/lessons/L6/zonal-statistics.html\n",
    "\n",
    "from rasterstats import zonal_stats"
   ]
  },
  {
   "cell_type": "code",
   "execution_count": null,
   "metadata": {},
   "outputs": [],
   "source": [
    "# Need to figure out how to turn geo pandas back into a geojson dict\n",
    "with fiona.open(\"worldpop_2000_test.shp\", \"r\") as shapefile:                                #<--- Need to figure out how to get the geometry from shp file directly \n",
    "    features = [feature[\"geometry\"] for feature in shapefile]\n",
    "\n",
    "with rasterio.open(filepath+\"AFR_PPP_2000_adj_v2.tif\") as src:                        #<--- Need to figure out how to get it not to write to a file, but just store in memory at this point\n",
    "    out_image, out_transform = rasterio.mask.mask(src, features, crop=True)\n",
    "    out_meta = src.meta.copy()\n",
    "\n",
    "out_meta.update({\"driver\": \"GTiff\",\n",
    "                 \"height\": out_image.shape[1],\n",
    "                 \"width\": out_image.shape[2],\n",
    "                 \"transform\": out_transform})\n",
    "with rasterio.open(filepath+\"AFR_PPP_2000_adj_MASK.tif\", \"w\", **out_meta) as dest:\n",
    "    dest.write(out_image) \n"
   ]
  },
  {
   "cell_type": "code",
   "execution_count": null,
   "metadata": {},
   "outputs": [],
   "source": [
    "mask_test_2000 = rasterio.open(filepath+'AFR_PPP_2000_adj_MASK.tif')\n",
    "plot.show(mask_test_2000)"
   ]
  },
  {
   "cell_type": "code",
   "execution_count": null,
   "metadata": {},
   "outputs": [],
   "source": [
    "np.unique(mask_test_2000.read(1))"
   ]
  },
  {
   "cell_type": "code",
   "execution_count": null,
   "metadata": {},
   "outputs": [],
   "source": []
  },
  {
   "cell_type": "code",
   "execution_count": null,
   "metadata": {},
   "outputs": [],
   "source": []
  },
  {
   "cell_type": "code",
   "execution_count": null,
   "metadata": {},
   "outputs": [],
   "source": []
  },
  {
   "cell_type": "code",
   "execution_count": null,
   "metadata": {},
   "outputs": [],
   "source": []
  },
  {
   "cell_type": "code",
   "execution_count": null,
   "metadata": {},
   "outputs": [],
   "source": []
  },
  {
   "cell_type": "code",
   "execution_count": null,
   "metadata": {},
   "outputs": [],
   "source": []
  },
  {
   "cell_type": "code",
   "execution_count": null,
   "metadata": {},
   "outputs": [],
   "source": []
  },
  {
   "cell_type": "code",
   "execution_count": null,
   "metadata": {},
   "outputs": [],
   "source": []
  },
  {
   "cell_type": "code",
   "execution_count": null,
   "metadata": {},
   "outputs": [],
   "source": []
  },
  {
   "cell_type": "code",
   "execution_count": null,
   "metadata": {},
   "outputs": [],
   "source": []
  },
  {
   "cell_type": "code",
   "execution_count": null,
   "metadata": {},
   "outputs": [],
   "source": []
  },
  {
   "cell_type": "code",
   "execution_count": null,
   "metadata": {},
   "outputs": [],
   "source": []
  },
  {
   "cell_type": "code",
   "execution_count": null,
   "metadata": {},
   "outputs": [],
   "source": [
    "# from shapely.geometry import shape\n",
    "\n",
    "# test = shape(geom)\n",
    "# type(test)"
   ]
  },
  {
   "cell_type": "code",
   "execution_count": null,
   "metadata": {},
   "outputs": [],
   "source": [
    "# get it into a geopandas DF for explore\n",
    "import geopandas as gp\n",
    "geom_gdf = gp.GeoDataFrame.from_records(geom)\n",
    "type(geom_gdf)"
   ]
  },
  {
   "cell_type": "code",
   "execution_count": null,
   "metadata": {},
   "outputs": [],
   "source": [
    "# check it \n",
    "geom_gdf.head(2)"
   ]
  },
  {
   "cell_type": "code",
   "execution_count": null,
   "metadata": {},
   "outputs": [],
   "source": [
    "geom_gdf[type=='Polygon'] = 'POLYGON '\n",
    "geom_gdf.head(2)"
   ]
  },
  {
   "cell_type": "code",
   "execution_count": null,
   "metadata": {},
   "outputs": [],
   "source": [
    "geom_gdf['geometry']=geom_gdf['False'].astype(str)+geom_gdf['coordinates'].astype(str)"
   ]
  },
  {
   "cell_type": "code",
   "execution_count": null,
   "metadata": {},
   "outputs": [],
   "source": [
    "geom_gdf.head(6)"
   ]
  },
  {
   "cell_type": "code",
   "execution_count": null,
   "metadata": {},
   "outputs": [],
   "source": []
  },
  {
   "cell_type": "code",
   "execution_count": null,
   "metadata": {},
   "outputs": [],
   "source": [
    "test = gp.GeoDataFrame(geom_gdf['geometry'])\n",
    "test.head(6)"
   ]
  },
  {
   "cell_type": "code",
   "execution_count": null,
   "metadata": {},
   "outputs": [],
   "source": [
    "# try to write it as a shape file\n",
    "test.to_file('worldpop_2000_test.shp', driver='ESRI Shapefile')"
   ]
  },
  {
   "cell_type": "code",
   "execution_count": null,
   "metadata": {},
   "outputs": [],
   "source": [
    "type(dst)"
   ]
  },
  {
   "cell_type": "code",
   "execution_count": null,
   "metadata": {},
   "outputs": [],
   "source": [
    "dir(africa1k_2000_poly)"
   ]
  },
  {
   "cell_type": "code",
   "execution_count": null,
   "metadata": {},
   "outputs": [],
   "source": [
    "test = rasterio.features.dataset_features(africa1k_2000_poly)\n",
    "\n",
    "\n",
    "\n",
    "\n",
    "\n"
   ]
  },
  {
   "cell_type": "code",
   "execution_count": null,
   "metadata": {},
   "outputs": [],
   "source": [
    "type(test)"
   ]
  },
  {
   "cell_type": "code",
   "execution_count": null,
   "metadata": {},
   "outputs": [],
   "source": []
  },
  {
   "cell_type": "code",
   "execution_count": null,
   "metadata": {},
   "outputs": [],
   "source": []
  },
  {
   "cell_type": "code",
   "execution_count": null,
   "metadata": {},
   "outputs": [],
   "source": []
  },
  {
   "cell_type": "code",
   "execution_count": null,
   "metadata": {},
   "outputs": [],
   "source": []
  },
  {
   "cell_type": "code",
   "execution_count": null,
   "metadata": {},
   "outputs": [],
   "source": []
  },
  {
   "cell_type": "code",
   "execution_count": null,
   "metadata": {},
   "outputs": [],
   "source": []
  },
  {
   "cell_type": "code",
   "execution_count": null,
   "metadata": {},
   "outputs": [],
   "source": []
  },
  {
   "cell_type": "code",
   "execution_count": null,
   "metadata": {},
   "outputs": [],
   "source": []
  },
  {
   "cell_type": "code",
   "execution_count": null,
   "metadata": {},
   "outputs": [],
   "source": []
  },
  {
   "cell_type": "code",
   "execution_count": null,
   "metadata": {},
   "outputs": [],
   "source": []
  },
  {
   "cell_type": "code",
   "execution_count": null,
   "metadata": {},
   "outputs": [],
   "source": []
  },
  {
   "cell_type": "code",
   "execution_count": null,
   "metadata": {},
   "outputs": [],
   "source": []
  },
  {
   "cell_type": "code",
   "execution_count": null,
   "metadata": {},
   "outputs": [],
   "source": []
  },
  {
   "cell_type": "code",
   "execution_count": null,
   "metadata": {},
   "outputs": [],
   "source": []
  },
  {
   "cell_type": "code",
   "execution_count": null,
   "metadata": {},
   "outputs": [],
   "source": []
  },
  {
   "cell_type": "code",
   "execution_count": null,
   "metadata": {},
   "outputs": [],
   "source": []
  },
  {
   "cell_type": "code",
   "execution_count": null,
   "metadata": {},
   "outputs": [],
   "source": [
    "# ask Kelly about what to do with the nodata values messing everything up \n",
    "ghana100m_2010 = rasterio.open(filepath+\"GHA10_040213.tif\")\n",
    "ghana100m_2010.meta"
   ]
  },
  {
   "cell_type": "code",
   "execution_count": null,
   "metadata": {},
   "outputs": [],
   "source": [
    "plot.show(ghana100m_2010)"
   ]
  },
  {
   "cell_type": "code",
   "execution_count": null,
   "metadata": {},
   "outputs": [],
   "source": [
    "ghana100m_2010_arr = ghana100m_2010.read_band(1)"
   ]
  },
  {
   "cell_type": "code",
   "execution_count": null,
   "metadata": {},
   "outputs": [],
   "source": [
    "# check data range\n",
    "np.unique(ghana100m_2010_arr)"
   ]
  },
  {
   "cell_type": "code",
   "execution_count": null,
   "metadata": {},
   "outputs": [],
   "source": [
    "# Zoom into a subset\n",
    "#window = rasterio.windows.Window(1024, 1024, 1280, 2560)\n",
    "\n",
    "subset = ghana100m_2010.read(1, window=((7000, 7200), (2700, 3300)))\n",
    "\n",
    "plt.figure(figsize=(6,8.5))\n",
    "plt.imshow(subset)\n",
    "plt.colorbar(shrink=0.5)\n",
    "#plt.title(f'Band 4 Subset\\n{window}')\n",
    "plt.xlabel('Column #')\n",
    "plt.ylabel('Row #')"
   ]
  },
  {
   "cell_type": "code",
   "execution_count": null,
   "metadata": {},
   "outputs": [],
   "source": [
    "type(subset)"
   ]
  },
  {
   "cell_type": "code",
   "execution_count": null,
   "metadata": {},
   "outputs": [],
   "source": [
    "plt.hist(subset, range = [0,100])\n",
    "plt.show()"
   ]
  },
  {
   "cell_type": "code",
   "execution_count": null,
   "metadata": {},
   "outputs": [],
   "source": [
    "import copy\n",
    "\n",
    "subset_copy = copy.copy(subset)\n",
    "subset_copy[subset<1] = 0"
   ]
  },
  {
   "cell_type": "code",
   "execution_count": null,
   "metadata": {},
   "outputs": [],
   "source": [
    "plt.figure(figsize=(6,8.5))\n",
    "plt.imshow(subset_copy)\n",
    "plt.colorbar(shrink=0.5)\n",
    "plt.xlabel('Column #')\n",
    "plt.ylabel('Row #')"
   ]
  },
  {
   "cell_type": "code",
   "execution_count": null,
   "metadata": {},
   "outputs": [],
   "source": [
    "plt.hist(subset_copy)\n",
    "plt.show()"
   ]
  },
  {
   "cell_type": "code",
   "execution_count": null,
   "metadata": {},
   "outputs": [],
   "source": [
    "test = rasterio.open(filepath+\"GHA10_040213.tif\")"
   ]
  },
  {
   "cell_type": "code",
   "execution_count": null,
   "metadata": {},
   "outputs": [],
   "source": [
    "test.mask"
   ]
  },
  {
   "cell_type": "code",
   "execution_count": null,
   "metadata": {},
   "outputs": [],
   "source": [
    "type(test_band)"
   ]
  },
  {
   "cell_type": "code",
   "execution_count": null,
   "metadata": {},
   "outputs": [],
   "source": [
    "from rasterio.features import shapes\n",
    "mask = None\n",
    "with rasterio.drivers():\n",
    "    with rasterio.open(filepath+\"GHA10_040213.tif\", window = ((7000, 7200), (2700, 3300))) as src:\n",
    "        image = src.read(1) # first band\n",
    "        results = (\n",
    "        {'properties': {'raster_val': v}, 'geometry': s}\n",
    "        for i, (s, v) \n",
    "        in enumerate(\n",
    "            shapes(image, mask=mask, transform=src.affine)))"
   ]
  },
  {
   "cell_type": "code",
   "execution_count": null,
   "metadata": {},
   "outputs": [],
   "source": [
    "geoms = list(results)"
   ]
  },
  {
   "cell_type": "code",
   "execution_count": null,
   "metadata": {},
   "outputs": [],
   "source": [
    "print(geoms[4])"
   ]
  },
  {
   "cell_type": "code",
   "execution_count": null,
   "metadata": {},
   "outputs": [],
   "source": [
    "import geopandas as gp\n",
    "gpd_polygonized_raster  = gp.GeoDataFrame.from_features(geoms)"
   ]
  },
  {
   "cell_type": "code",
   "execution_count": null,
   "metadata": {},
   "outputs": [],
   "source": [
    "gpd_polygonized_raster"
   ]
  },
  {
   "cell_type": "markdown",
   "metadata": {},
   "source": [
    "# OLD CODE"
   ]
  },
  {
   "cell_type": "code",
   "execution_count": null,
   "metadata": {},
   "outputs": [],
   "source": [
    "# Sanity check on number of polygons \n",
    "# from skimage import measvure\n",
    "# label_test = measure.label(mask_dilated, background=0, return_num=True)\n",
    "# label_test_arr = label_test[0]\n",
    "# label_test_num = label_test[1] # 96 polygons\n",
    "# label_test_num"
   ]
  },
  {
   "cell_type": "code",
   "execution_count": null,
   "metadata": {},
   "outputs": [],
   "source": [
    "# test_point = osm_gdf.iloc[4]['geometry']\n",
    "# test_poly = poly_geo_df.iloc[0]['geometry']\n",
    "# print(test_poly.contains(test_point))\n",
    "# print(test_point.within(test_poly))"
   ]
  },
  {
   "cell_type": "code",
   "execution_count": null,
   "metadata": {},
   "outputs": [],
   "source": [
    "# test if point is inside poly\n",
    "checkpoint = time.time()\n",
    "\n",
    "test_point = osm_gdf.iloc[30]['geometry']\n",
    "test_poly = poly_geo_df.iloc[2]['geometry']\n",
    "print(test_poly.contains(test_point))\n",
    "print(test_point.within(test_poly))\n",
    "print(test_poly)\n",
    "print(test_point)`"
   ]
  },
  {
   "cell_type": "code",
   "execution_count": null,
   "metadata": {},
   "outputs": [],
   "source": [
    "# Sanity check on number of polygons \n",
    "from skimage import measure\n",
    "label_test = measure.label(new_mask, background=0, \n",
    "                           connectivity = 2, # diagonal connect\n",
    "                           #neighbors = 8,\n",
    "                           return_num=True)\n",
    "label_test_arr = label_test[0]\n",
    "label_test_num = label_test[1] # 96 polygons\n",
    "\n",
    "# no connectivity change 38377"
   ]
  }
 ],
 "metadata": {
  "kernelspec": {
   "display_name": "Python 3",
   "language": "python",
   "name": "python3"
  },
  "language_info": {
   "codemirror_mode": {
    "name": "ipython",
    "version": 3
   },
   "file_extension": ".py",
   "mimetype": "text/x-python",
   "name": "python",
   "nbconvert_exporter": "python",
   "pygments_lexer": "ipython3",
   "version": "3.7.0"
  }
 },
 "nbformat": 4,
 "nbformat_minor": 2
}
