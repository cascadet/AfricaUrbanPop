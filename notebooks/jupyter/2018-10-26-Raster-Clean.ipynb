{
 "cells": [
  {
   "cell_type": "markdown",
   "metadata": {},
   "source": [
    "### Raster Data to Explore\n",
    "    Landscan\n",
    "    Worldpop\n",
    "    NTL - DMSP & VIIRS\n",
    "    Africapolic \n",
    "    EU Human Settlement Layer\n",
    "    MODIS built layer\n",
    "    Facebook Human Settlement\n",
    "    GRUMP\n",
    "    \n",
    "### Define Urban Density\n",
    "    Go w/ former US Census threshold of >= 1000 ppl per sq mile\n",
    "    https://www2.census.gov/geo/pdfs/reference/GARM/Ch12GARM.pdf\n",
    "    \n",
    "    http://blogs.worldbank.org/sustainablecities/what-does-urban-mean"
   ]
  },
  {
   "cell_type": "code",
   "execution_count": 2,
   "metadata": {},
   "outputs": [],
   "source": [
    "import os\n",
    "import matplotlib.pyplot as plt\n",
    "import rasterio\n",
    "from rasterio import plot\n",
    "from rasterio.mask import mask\n",
    "import pandas as pd\n",
    "import geopandas as gpd\n",
    "import fiona\n",
    "import rasterio\n",
    "import numpy as np\n",
    "import skimage.io as skio\n",
    "import time\n",
    "import copy"
   ]
  },
  {
   "cell_type": "code",
   "execution_count": 3,
   "metadata": {},
   "outputs": [],
   "source": [
    "# will build out folders later\n",
    "\n",
    "# data folder git will ignore\n",
    "infilepath = \"/home/cascade/tana-crunch-cascade/projects/NTL/data/\" \n",
    "\n",
    "# data folder git will not ignore - NO BIG FILES \n",
    "outfilepath = \"/home/cascade/tana-crunch-cascade/projects/NTL/temp_data/\""
   ]
  },
  {
   "cell_type": "markdown",
   "metadata": {},
   "source": [
    "# Step 1 - Input file\n",
    "\n",
    "    Becomes a rasterio object, check meta data \n",
    "    Bands are numpy arrays"
   ]
  },
  {
   "cell_type": "code",
   "execution_count": 45,
   "metadata": {},
   "outputs": [
    {
     "data": {
      "text/plain": [
       "{'count': 1,\n",
       " 'crs': CRS({'init': 'epsg:4326'}),\n",
       " 'driver': 'GTiff',\n",
       " 'dtype': 'float32',\n",
       " 'height': 11161,\n",
       " 'nodata': -3.4028234663852886e+38,\n",
       " 'transform': Affine(0.00833333329999305, 0.0, -33.3254172868223,\n",
       "       0.0, -0.00833333329999305, 41.791250202105076),\n",
       " 'width': 12575}"
      ]
     },
     "execution_count": 45,
     "metadata": {},
     "output_type": "execute_result"
    }
   ],
   "source": [
    "africa1k_2000 = rasterio.open(infilepath+\"AFR_PPP_2020_adj_v2.tif\") #<----- changes to 2020 18/13/11 @ 2pm \n",
    "africa1k_2000.meta"
   ]
  },
  {
   "cell_type": "markdown",
   "metadata": {},
   "source": [
    "# Step 2 - Make a mask\n",
    "\n",
    "    Becomes a rasterio object, check meta data \n",
    "    Bands are numpy arrays"
   ]
  },
  {
   "cell_type": "code",
   "execution_count": null,
   "metadata": {},
   "outputs": [],
   "source": [
    "# https://www2.census.gov/geo/pdfs/reference/ua/Defining_Rural.pdf\n",
    "\n",
    "density = 1000/ 2.59 #density per sq km from sq mi\n",
    "print(density)"
   ]
  },
  {
   "cell_type": "code",
   "execution_count": 46,
   "metadata": {
    "scrolled": true
   },
   "outputs": [
    {
     "name": "stdout",
     "output_type": "stream",
     "text": [
      "[0. 1.]\n",
      "elasped time to do the quary:4.741482257843018\n"
     ]
    }
   ],
   "source": [
    "# Let's try to make the mask directy with rasterio\n",
    "checkpoint = time.time()\n",
    "\n",
    "new_mask = africa1k_2000.read(1)\n",
    "new_mask[new_mask < 600] = 0 #18-11-12 set w/ 600 people\n",
    "new_mask[new_mask > 600] = 1 #18-11-12 set w/ 600 people\n",
    "print(np.unique(new_mask)) # ensure that it's zeros and ones\n",
    "\n",
    "# plot.show(new_mask) # Sanity check \n",
    "print('elasped time to do the quary:{}'.format(time.time() - checkpoint))"
   ]
  },
  {
   "cell_type": "code",
   "execution_count": 47,
   "metadata": {},
   "outputs": [],
   "source": [
    "# Write out 600 ppl/km2 for QGIS\n",
    "kwargs = africa1k_2000.meta\n",
    "kwargs.update(dtype=rasterio.float32, count = 1)\n",
    "\n",
    "with rasterio.open(infilepath+'africa1k_2020_mask600.tif', 'w', **kwargs) as dst:\n",
    "        dst.write_band(1, new_mask.astype(rasterio.float32))\n"
   ]
  },
  {
   "cell_type": "markdown",
   "metadata": {},
   "source": [
    "### Dilate and Erode \n",
    "With 3x3 kernal ... must be odd number to stay centered "
   ]
  },
  {
   "cell_type": "code",
   "execution_count": null,
   "metadata": {
    "scrolled": true
   },
   "outputs": [],
   "source": [
    "# With 3x3 kernal ... must be odd number to stay centered  \n",
    "# try dilate, erode, open and close\n",
    "\n",
    "import cv2\n",
    "\n",
    "kernal = np.ones((3,3), np.uint8)\n",
    "mask_dilated_close = cv2.morphologyEx(new_mask, cv2.MORPH_CLOSE, kernal)\n",
    "mask_dilated_open = cv2.morphologyEx(new_mask, cv2.MORPH_OPEN, kernal)\n",
    "mask_erode = cv2.erode(new_mask, kernal, iterations = 1)\n",
    "mask_dilate = cv2.dilate(new_mask, kernal, iterations = 1)\n",
    "\n",
    "# write them out and check in QGIS\n",
    "# ----------------> Need to do this without writing files <-----\n",
    "kwargs = africa1k_2000.meta\n",
    "\n",
    "# Update kwargs (change in data type)\n",
    "kwargs.update(dtype=rasterio.float32, count = 1)\n",
    "\n",
    "# Let's see what is in there\n",
    "print(kwargs)\n",
    "\n",
    "# erode check\n",
    "# with rasterio.open(infilepath+'africa1k_2020_maskErode.tif', 'w', **kwargs) as dst:\n",
    "#         dst.write_band(1, mask_erode.astype(rasterio.float32))\n",
    "\n",
    "# dilate check \n",
    "# with rasterio.open(infilepath+'africa1k_2020_maskDilate.tif', 'w', **kwargs) as dst:\n",
    "#         dst.write_band(1, mask_dilate.astype(rasterio.float32)) \n",
    "        \n",
    "# close raster check\n",
    "# with rasterio.open(infilepath+'africa1k_2020_maskClose.tif', 'w', **kwargs) as dst:\n",
    "#         dst.write_band(1, mask_dilated_close.astype(rasterio.float32))\n",
    "\n",
    "# open raster check        \n",
    "# with rasterio.open(infilepath+'africa1k_2020_maskOpen.tif', 'w', **kwargs) as dst:\n",
    "#         dst.write_band(1, mask_dilated_open.astype(rasterio.float32))\n",
    "\n",
    "#plot.show(mask_dilated)"
   ]
  },
  {
   "cell_type": "markdown",
   "metadata": {},
   "source": [
    "#### Notes\n",
    "- Dilate alone connects too many cites\n",
    "- Erode alone may make too few cities\n",
    "- Open greatly reduces the number of polygons but may be best for a conservitive estimate\n",
    "- Close connects them and may make it difficult to attach the correct label with correct political boundaries"
   ]
  },
  {
   "cell_type": "markdown",
   "metadata": {},
   "source": [
    "# Step 3 - ShapeFiles"
   ]
  },
  {
   "cell_type": "code",
   "execution_count": 49,
   "metadata": {},
   "outputs": [
    {
     "name": "stdout",
     "output_type": "stream",
     "text": [
      "elapsed time is: 240.14623737335205s\n"
     ]
    }
   ],
   "source": [
    "# open dialated mask and make some polygons\n",
    "checkpoint = time.time()\n",
    "\n",
    "from rasterio import features as features\n",
    "\n",
    "with rasterio.open(infilepath+'africa1k_2020_mask600.tif') as dataset:\n",
    "\n",
    "    # Read the dataset's valid data mask as a ndarray.\n",
    "    mask = dataset.read(1)\n",
    "\n",
    "    # Extract feature shapes and values from the array.\n",
    "    for geom, val in rasterio.features.shapes(\n",
    "            mask, transform=dataset.transform):\n",
    "\n",
    "        # Transform shapes from the dataset's own coordinate\n",
    "        # reference system to CRS84 (EPSG:4326).\n",
    "        geom = rasterio.warp.transform_geom(\n",
    "            dataset.crs, 'EPSG:4326', geom, precision=6) # WGS84 (EPSG 4326)\n",
    "\n",
    "print(\"elapsed time is: {}s\".format(time.time()-checkpoint))"
   ]
  },
  {
   "cell_type": "markdown",
   "metadata": {},
   "source": [
    "Don't need to write outfile as shapes ... can do is-inside script without making shape\n",
    "But write it out so you don't have to keep rerunning the above code block"
   ]
  },
  {
   "cell_type": "code",
   "execution_count": null,
   "metadata": {},
   "outputs": [],
   "source": [
    "# import json\n",
    "\n",
    "# with open(outfilepath+'WP2000_mask600_poly.json', 'w') as fp:\n",
    "#      json.dump(geom, fp)"
   ]
  },
  {
   "cell_type": "code",
   "execution_count": null,
   "metadata": {},
   "outputs": [],
   "source": [
    "# Sanity check\n",
    "print(len(geom['coordinates']))\n",
    "print(geom.keys())"
   ]
  },
  {
   "cell_type": "code",
   "execution_count": 50,
   "metadata": {},
   "outputs": [],
   "source": [
    "# Turn rasterio geom dict into a polygon\n",
    "\n",
    "from shapely.geometry import Polygon\n",
    "\n",
    "def build_poly_df(geom):\n",
    "    \"\"\"\n",
    "    This function makes polygons from rasterio geom dict\n",
    "    \"\"\"\n",
    "    \n",
    "    # turn dict into normal data frame\n",
    "    Polygon(geom['coordinates'][0])\n",
    "    geo_df = gpd.GeoDataFrame()\n",
    "    for i, poly in enumerate(geom['coordinates']):\n",
    "        geo_df.loc[i,'geometry']= Polygon(poly)\n",
    "    return geo_df"
   ]
  },
  {
   "cell_type": "code",
   "execution_count": 51,
   "metadata": {},
   "outputs": [],
   "source": [
    "poly_geo_df = build_poly_df(geom)"
   ]
  },
  {
   "cell_type": "code",
   "execution_count": 52,
   "metadata": {},
   "outputs": [
    {
     "data": {
      "text/html": [
       "<div>\n",
       "<style scoped>\n",
       "    .dataframe tbody tr th:only-of-type {\n",
       "        vertical-align: middle;\n",
       "    }\n",
       "\n",
       "    .dataframe tbody tr th {\n",
       "        vertical-align: top;\n",
       "    }\n",
       "\n",
       "    .dataframe thead th {\n",
       "        text-align: right;\n",
       "    }\n",
       "</style>\n",
       "<table border=\"1\" class=\"dataframe\">\n",
       "  <thead>\n",
       "    <tr style=\"text-align: right;\">\n",
       "      <th></th>\n",
       "      <th>geometry</th>\n",
       "    </tr>\n",
       "  </thead>\n",
       "  <tbody>\n",
       "    <tr>\n",
       "      <th>0</th>\n",
       "      <td>POLYGON ((-33.325417 41.79125, -33.325417 -51....</td>\n",
       "    </tr>\n",
       "    <tr>\n",
       "      <th>1</th>\n",
       "      <td>POLYGON ((20.057916 -34.533749, 20.057916 -34....</td>\n",
       "    </tr>\n",
       "    <tr>\n",
       "      <th>2</th>\n",
       "      <td>POLYGON ((9.849583000000001 37.332917, 9.84958...</td>\n",
       "    </tr>\n",
       "    <tr>\n",
       "      <th>3</th>\n",
       "      <td>POLYGON ((18.866249 -34.250416, 18.866249 -34....</td>\n",
       "    </tr>\n",
       "    <tr>\n",
       "      <th>4</th>\n",
       "      <td>POLYGON ((9.774583 37.324584, 9.774583 37.3079...</td>\n",
       "    </tr>\n",
       "    <tr>\n",
       "      <th>5</th>\n",
       "      <td>POLYGON ((22.241249 -34.050416, 22.249582 -34....</td>\n",
       "    </tr>\n",
       "  </tbody>\n",
       "</table>\n",
       "</div>"
      ],
      "text/plain": [
       "                                            geometry\n",
       "0  POLYGON ((-33.325417 41.79125, -33.325417 -51....\n",
       "1  POLYGON ((20.057916 -34.533749, 20.057916 -34....\n",
       "2  POLYGON ((9.849583000000001 37.332917, 9.84958...\n",
       "3  POLYGON ((18.866249 -34.250416, 18.866249 -34....\n",
       "4  POLYGON ((9.774583 37.324584, 9.774583 37.3079...\n",
       "5  POLYGON ((22.241249 -34.050416, 22.249582 -34...."
      ]
     },
     "execution_count": 52,
     "metadata": {},
     "output_type": "execute_result"
    }
   ],
   "source": [
    "poly_geo_df.head(6)"
   ]
  },
  {
   "cell_type": "code",
   "execution_count": 53,
   "metadata": {},
   "outputs": [
    {
     "data": {
      "text/plain": [
       "(42241, 1)"
      ]
     },
     "execution_count": 53,
     "metadata": {},
     "output_type": "execute_result"
    }
   ],
   "source": [
    "poly_geo_df.shape"
   ]
  },
  {
   "cell_type": "markdown",
   "metadata": {},
   "source": [
    "#### I think I need to drop the first row because it's the footprint of the raster"
   ]
  },
  {
   "cell_type": "code",
   "execution_count": 54,
   "metadata": {},
   "outputs": [],
   "source": [
    "poly_geo_df_copy = copy.deepcopy(poly_geo_df)"
   ]
  },
  {
   "cell_type": "code",
   "execution_count": 55,
   "metadata": {},
   "outputs": [],
   "source": [
    "# I think I need to drop the first row because it's the footprint of the raster\n",
    "poly_geo_df_copy = poly_geo_df_copy.drop(poly_geo_df_copy.index[0], axis = 0)"
   ]
  },
  {
   "cell_type": "code",
   "execution_count": 56,
   "metadata": {},
   "outputs": [
    {
     "data": {
      "text/plain": [
       "(42240, 1)"
      ]
     },
     "execution_count": 56,
     "metadata": {},
     "output_type": "execute_result"
    }
   ],
   "source": [
    "poly_geo_df_copy.shape"
   ]
  },
  {
   "cell_type": "code",
   "execution_count": 57,
   "metadata": {},
   "outputs": [],
   "source": [
    "# write out polygons from mask 600 on WorldPop Africa 1km year 2000 \n",
    "\n",
    "poly_geo_df_copy.to_csv(outfilepath+\"20181113_poly_cities_africa2020mask600.csv\")"
   ]
  },
  {
   "cell_type": "markdown",
   "metadata": {},
   "source": [
    "### Pull in OSM cities and turn into geo data frame"
   ]
  },
  {
   "cell_type": "code",
   "execution_count": 10,
   "metadata": {},
   "outputs": [],
   "source": [
    "import pandas as pd\n",
    "from shapely.geometry import Point\n",
    "\n",
    "osm_df = pd.read_csv(outfilepath+'africa_cities.csv')\n",
    "\n",
    "# creating a geometry column \n",
    "geometry = [Point(xy) for xy in zip(osm_df['lon'], osm_df['lat'])]\n",
    "\n",
    "# Coordinate reference system : WGS84\n",
    "crs = {'init': 'epsg:4326'}\n",
    "\n",
    "# Creating a Geographic data frame \n",
    "osm_gdf = gpd.GeoDataFrame(osm_df, crs=crs, geometry=geometry)"
   ]
  },
  {
   "cell_type": "code",
   "execution_count": 11,
   "metadata": {},
   "outputs": [],
   "source": [
    "# building a function to check if points are in poly for lists of poly and points\n",
    "# needs geopandas data frame with point and poly geometry \n",
    "\n",
    "from shapely.geometry import mapping\n",
    "\n",
    "def poly_point (poly, point):\n",
    "    \"\"\"\n",
    "    This function will check if points are inside polygons if given two gpds with points and polygons\n",
    "    Returns city names or no list \n",
    "    \"\"\"\n",
    "    \n",
    "    out_arr = [] #return an array <<< ---------------- ASK RYAN IF BETTER DO USE DICT \n",
    "    \n",
    "    for index_point, row_point in point.iterrows():\n",
    "        for index_poly, row_poly in poly.iterrows():\n",
    "            if row_point['geometry'].within(row_poly['geometry']):\n",
    "                country = row_point['Country']\n",
    "                city = row_point['City']\n",
    "                point_id = row_point['Id']\n",
    "                point_geom = mapping(row_point['geometry']) # makes a dict w/ keys : type and cood\n",
    "                poly_id = index_poly\n",
    "                poly_geom = mapping(row_poly['geometry']) # makes a dict w/ keys : type and cood\n",
    "                \n",
    "                out_arr.append((country, \n",
    "                                city, \n",
    "                                point_id, \n",
    "                                point_geom, \n",
    "                                poly_id, \n",
    "                                poly_geom))\n",
    "#             else:\n",
    "#                 test.append('no')\n",
    "    return out_arr"
   ]
  },
  {
   "cell_type": "code",
   "execution_count": 58,
   "metadata": {},
   "outputs": [],
   "source": [
    "# 863 total cities in osm, 26974 polygons took 1578 seconds for 2000\n",
    "# 863 total cities in osm, 42241 polygons took XXXX seconds for 2020\n",
    "\n",
    "sub_point = osm_gdf.iloc[0:4]\n",
    "sub_poly = poly_geo_df_copy.iloc[0:1000] #<----- With copy, drop raster foot print polygon\n",
    "\n",
    "# print(sub_point.shape)\n",
    "# print(sub_poly.shape)\n",
    "# print(sub_point)\n",
    "# print(sub_poly)"
   ]
  },
  {
   "cell_type": "code",
   "execution_count": 22,
   "metadata": {},
   "outputs": [
    {
     "data": {
      "text/plain": [
       "(863, 6)"
      ]
     },
     "execution_count": 22,
     "metadata": {},
     "output_type": "execute_result"
    }
   ],
   "source": [
    "osm_gdf.shape"
   ]
  },
  {
   "cell_type": "code",
   "execution_count": 62,
   "metadata": {},
   "outputs": [
    {
     "name": "stdout",
     "output_type": "stream",
     "text": [
      "745\n",
      "elapsed time is: 2497.7031383514404s\n"
     ]
    }
   ],
   "source": [
    "check_point = time.time()\n",
    "\n",
    "# (poly then points)\n",
    "test = poly_point(poly_geo_df_copy, osm_gdf)\n",
    "print(len(test))\n",
    "\n",
    "print(\"elapsed time is: {}s\".format(time.time()-check_point))\n",
    "\n"
   ]
  },
  {
   "cell_type": "code",
   "execution_count": 63,
   "metadata": {},
   "outputs": [
    {
     "data": {
      "text/html": [
       "<div>\n",
       "<style scoped>\n",
       "    .dataframe tbody tr th:only-of-type {\n",
       "        vertical-align: middle;\n",
       "    }\n",
       "\n",
       "    .dataframe tbody tr th {\n",
       "        vertical-align: top;\n",
       "    }\n",
       "\n",
       "    .dataframe thead th {\n",
       "        text-align: right;\n",
       "    }\n",
       "</style>\n",
       "<table border=\"1\" class=\"dataframe\">\n",
       "  <thead>\n",
       "    <tr style=\"text-align: right;\">\n",
       "      <th></th>\n",
       "      <th>0</th>\n",
       "      <th>1</th>\n",
       "      <th>2</th>\n",
       "      <th>3</th>\n",
       "      <th>4</th>\n",
       "      <th>5</th>\n",
       "    </tr>\n",
       "  </thead>\n",
       "  <tbody>\n",
       "    <tr>\n",
       "      <th>0</th>\n",
       "      <td>Algeria</td>\n",
       "      <td>Constantine</td>\n",
       "      <td>27564946</td>\n",
       "      <td>{'type': 'Point', 'coordinates': (6.6082600000...</td>\n",
       "      <td>1274</td>\n",
       "      <td>{'type': 'Polygon', 'coordinates': (((6.624583...</td>\n",
       "    </tr>\n",
       "    <tr>\n",
       "      <th>1</th>\n",
       "      <td>Algeria</td>\n",
       "      <td>Oran</td>\n",
       "      <td>27565103</td>\n",
       "      <td>{'type': 'Point', 'coordinates': (-0.649297599...</td>\n",
       "      <td>2547</td>\n",
       "      <td>{'type': 'Polygon', 'coordinates': (((-0.80875...</td>\n",
       "    </tr>\n",
       "    <tr>\n",
       "      <th>2</th>\n",
       "      <td>Algeria</td>\n",
       "      <td>Tizi Ouzou</td>\n",
       "      <td>253292160</td>\n",
       "      <td>{'type': 'Point', 'coordinates': (4.0493919, 3...</td>\n",
       "      <td>469</td>\n",
       "      <td>{'type': 'Polygon', 'coordinates': (((3.966249...</td>\n",
       "    </tr>\n",
       "    <tr>\n",
       "      <th>3</th>\n",
       "      <td>Algeria</td>\n",
       "      <td>El Oued</td>\n",
       "      <td>262963217</td>\n",
       "      <td>{'type': 'Point', 'coordinates': (6.8603492, 3...</td>\n",
       "      <td>5139</td>\n",
       "      <td>{'type': 'Polygon', 'coordinates': (((6.816249...</td>\n",
       "    </tr>\n",
       "    <tr>\n",
       "      <th>4</th>\n",
       "      <td>Algeria</td>\n",
       "      <td>Touggourt</td>\n",
       "      <td>262964638</td>\n",
       "      <td>{'type': 'Point', 'coordinates': (6.066102, 33...</td>\n",
       "      <td>5264</td>\n",
       "      <td>{'type': 'Polygon', 'coordinates': (((6.066249...</td>\n",
       "    </tr>\n",
       "    <tr>\n",
       "      <th>5</th>\n",
       "      <td>Algeria</td>\n",
       "      <td>Laghouat</td>\n",
       "      <td>264573224</td>\n",
       "      <td>{'type': 'Point', 'coordinates': (2.8808616000...</td>\n",
       "      <td>4759</td>\n",
       "      <td>{'type': 'Polygon', 'coordinates': (((2.849583...</td>\n",
       "    </tr>\n",
       "    <tr>\n",
       "      <th>6</th>\n",
       "      <td>Algeria</td>\n",
       "      <td>Bou Saâda</td>\n",
       "      <td>274946937</td>\n",
       "      <td>{'type': 'Point', 'coordinates': (4.1809702000...</td>\n",
       "      <td>3469</td>\n",
       "      <td>{'type': 'Polygon', 'coordinates': (((4.166249...</td>\n",
       "    </tr>\n",
       "    <tr>\n",
       "      <th>7</th>\n",
       "      <td>Algeria</td>\n",
       "      <td>Kouba</td>\n",
       "      <td>288387133</td>\n",
       "      <td>{'type': 'Point', 'coordinates': (3.0861789, 3...</td>\n",
       "      <td>303</td>\n",
       "      <td>{'type': 'Polygon', 'coordinates': (((3.007916...</td>\n",
       "    </tr>\n",
       "    <tr>\n",
       "      <th>8</th>\n",
       "      <td>Algeria</td>\n",
       "      <td>Médéa</td>\n",
       "      <td>288417925</td>\n",
       "      <td>{'type': 'Point', 'coordinates': (2.766957, 36...</td>\n",
       "      <td>1658</td>\n",
       "      <td>{'type': 'Polygon', 'coordinates': (((2.716249...</td>\n",
       "    </tr>\n",
       "    <tr>\n",
       "      <th>9</th>\n",
       "      <td>Algeria</td>\n",
       "      <td>Blida</td>\n",
       "      <td>288418022</td>\n",
       "      <td>{'type': 'Point', 'coordinates': (2.8287985, 3...</td>\n",
       "      <td>303</td>\n",
       "      <td>{'type': 'Polygon', 'coordinates': (((3.007916...</td>\n",
       "    </tr>\n",
       "    <tr>\n",
       "      <th>10</th>\n",
       "      <td>Algeria</td>\n",
       "      <td>Bordj Bou Arreridj</td>\n",
       "      <td>291964008</td>\n",
       "      <td>{'type': 'Point', 'coordinates': (4.760492, 36...</td>\n",
       "      <td>2099</td>\n",
       "      <td>{'type': 'Polygon', 'coordinates': (((4.716249...</td>\n",
       "    </tr>\n",
       "    <tr>\n",
       "      <th>11</th>\n",
       "      <td>Algeria</td>\n",
       "      <td>Béjaïa</td>\n",
       "      <td>291964314</td>\n",
       "      <td>{'type': 'Point', 'coordinates': (5.0647, 36.7...</td>\n",
       "      <td>416</td>\n",
       "      <td>{'type': 'Polygon', 'coordinates': (((5.016249...</td>\n",
       "    </tr>\n",
       "    <tr>\n",
       "      <th>12</th>\n",
       "      <td>Algeria</td>\n",
       "      <td>Alger</td>\n",
       "      <td>299617915</td>\n",
       "      <td>{'type': 'Point', 'coordinates': (3.0600650000...</td>\n",
       "      <td>303</td>\n",
       "      <td>{'type': 'Polygon', 'coordinates': (((3.007916...</td>\n",
       "    </tr>\n",
       "    <tr>\n",
       "      <th>13</th>\n",
       "      <td>Algeria</td>\n",
       "      <td>Annaba</td>\n",
       "      <td>299618513</td>\n",
       "      <td>{'type': 'Point', 'coordinates': (7.7549272, 3...</td>\n",
       "      <td>91</td>\n",
       "      <td>{'type': 'Polygon', 'coordinates': (((7.774583...</td>\n",
       "    </tr>\n",
       "    <tr>\n",
       "      <th>14</th>\n",
       "      <td>Algeria</td>\n",
       "      <td>Batna</td>\n",
       "      <td>299619085</td>\n",
       "      <td>{'type': 'Point', 'coordinates': (6.1767453, 3...</td>\n",
       "      <td>2849</td>\n",
       "      <td>{'type': 'Polygon', 'coordinates': (((6.274583...</td>\n",
       "    </tr>\n",
       "    <tr>\n",
       "      <th>15</th>\n",
       "      <td>Algeria</td>\n",
       "      <td>Chlef</td>\n",
       "      <td>299680100</td>\n",
       "      <td>{'type': 'Point', 'coordinates': (1.331499, 36...</td>\n",
       "      <td>1796</td>\n",
       "      <td>{'type': 'Polygon', 'coordinates': (((1.232916...</td>\n",
       "    </tr>\n",
       "    <tr>\n",
       "      <th>16</th>\n",
       "      <td>Algeria</td>\n",
       "      <td>Djelfa</td>\n",
       "      <td>299681006</td>\n",
       "      <td>{'type': 'Point', 'coordinates': (3.254037, 34...</td>\n",
       "      <td>4148</td>\n",
       "      <td>{'type': 'Polygon', 'coordinates': (((3.232916...</td>\n",
       "    </tr>\n",
       "    <tr>\n",
       "      <th>17</th>\n",
       "      <td>Algeria</td>\n",
       "      <td>Sidi Bel Abbes</td>\n",
       "      <td>299682062</td>\n",
       "      <td>{'type': 'Point', 'coordinates': (-0.634632, 3...</td>\n",
       "      <td>3508</td>\n",
       "      <td>{'type': 'Polygon', 'coordinates': (((-0.65041...</td>\n",
       "    </tr>\n",
       "    <tr>\n",
       "      <th>18</th>\n",
       "      <td>Algeria</td>\n",
       "      <td>Biskra</td>\n",
       "      <td>299682811</td>\n",
       "      <td>{'type': 'Point', 'coordinates': (5.7286877999...</td>\n",
       "      <td>3939</td>\n",
       "      <td>{'type': 'Polygon', 'coordinates': (((5.707916...</td>\n",
       "    </tr>\n",
       "    <tr>\n",
       "      <th>19</th>\n",
       "      <td>Algeria</td>\n",
       "      <td>Tébessa</td>\n",
       "      <td>299683227</td>\n",
       "      <td>{'type': 'Point', 'coordinates': (8.1212322, 3...</td>\n",
       "      <td>3209</td>\n",
       "      <td>{'type': 'Polygon', 'coordinates': (((8.016249...</td>\n",
       "    </tr>\n",
       "    <tr>\n",
       "      <th>20</th>\n",
       "      <td>Algeria</td>\n",
       "      <td>Tiaret</td>\n",
       "      <td>299684626</td>\n",
       "      <td>{'type': 'Point', 'coordinates': (1.3194687, 3...</td>\n",
       "      <td>3259</td>\n",
       "      <td>{'type': 'Polygon', 'coordinates': (((1.307916...</td>\n",
       "    </tr>\n",
       "    <tr>\n",
       "      <th>21</th>\n",
       "      <td>Algeria</td>\n",
       "      <td>Skikda</td>\n",
       "      <td>299692217</td>\n",
       "      <td>{'type': 'Point', 'coordinates': (6.907485, 36...</td>\n",
       "      <td>146</td>\n",
       "      <td>{'type': 'Polygon', 'coordinates': (((6.874583...</td>\n",
       "    </tr>\n",
       "    <tr>\n",
       "      <th>22</th>\n",
       "      <td>Algeria</td>\n",
       "      <td>Béchar</td>\n",
       "      <td>299695849</td>\n",
       "      <td>{'type': 'Point', 'coordinates': (-2.2171276, ...</td>\n",
       "      <td>6650</td>\n",
       "      <td>{'type': 'Polygon', 'coordinates': (((-2.22541...</td>\n",
       "    </tr>\n",
       "    <tr>\n",
       "      <th>23</th>\n",
       "      <td>Algeria</td>\n",
       "      <td>Souk Ahras</td>\n",
       "      <td>299698224</td>\n",
       "      <td>{'type': 'Point', 'coordinates': (7.9515466, 3...</td>\n",
       "      <td>1633</td>\n",
       "      <td>{'type': 'Polygon', 'coordinates': (((7.932916...</td>\n",
       "    </tr>\n",
       "    <tr>\n",
       "      <th>24</th>\n",
       "      <td>Algeria</td>\n",
       "      <td>Mostaganem</td>\n",
       "      <td>299699468</td>\n",
       "      <td>{'type': 'Point', 'coordinates': (0.089978, 35...</td>\n",
       "      <td>2214</td>\n",
       "      <td>{'type': 'Polygon', 'coordinates': (((0.107916...</td>\n",
       "    </tr>\n",
       "    <tr>\n",
       "      <th>25</th>\n",
       "      <td>Algeria</td>\n",
       "      <td>M'Sila</td>\n",
       "      <td>299700319</td>\n",
       "      <td>{'type': 'Point', 'coordinates': (4.5371552, 3...</td>\n",
       "      <td>2593</td>\n",
       "      <td>{'type': 'Polygon', 'coordinates': (((4.541249...</td>\n",
       "    </tr>\n",
       "    <tr>\n",
       "      <th>26</th>\n",
       "      <td>Algeria</td>\n",
       "      <td>El Eulma</td>\n",
       "      <td>299701636</td>\n",
       "      <td>{'type': 'Point', 'coordinates': (5.6911587999...</td>\n",
       "      <td>1860</td>\n",
       "      <td>{'type': 'Polygon', 'coordinates': (((5.674583...</td>\n",
       "    </tr>\n",
       "    <tr>\n",
       "      <th>27</th>\n",
       "      <td>Algeria</td>\n",
       "      <td>Khenchela</td>\n",
       "      <td>299702563</td>\n",
       "      <td>{'type': 'Point', 'coordinates': (7.145711, 35...</td>\n",
       "      <td>3165</td>\n",
       "      <td>{'type': 'Polygon', 'coordinates': (((7.066249...</td>\n",
       "    </tr>\n",
       "    <tr>\n",
       "      <th>28</th>\n",
       "      <td>Algeria</td>\n",
       "      <td>Saïda</td>\n",
       "      <td>299822267</td>\n",
       "      <td>{'type': 'Point', 'coordinates': (0.1509912, 3...</td>\n",
       "      <td>3901</td>\n",
       "      <td>{'type': 'Polygon', 'coordinates': (((0.141249...</td>\n",
       "    </tr>\n",
       "    <tr>\n",
       "      <th>29</th>\n",
       "      <td>Algeria</td>\n",
       "      <td>Guelma</td>\n",
       "      <td>299824735</td>\n",
       "      <td>{'type': 'Point', 'coordinates': (7.4306470000...</td>\n",
       "      <td>1157</td>\n",
       "      <td>{'type': 'Polygon', 'coordinates': (((7.382916...</td>\n",
       "    </tr>\n",
       "    <tr>\n",
       "      <th>...</th>\n",
       "      <td>...</td>\n",
       "      <td>...</td>\n",
       "      <td>...</td>\n",
       "      <td>...</td>\n",
       "      <td>...</td>\n",
       "      <td>...</td>\n",
       "    </tr>\n",
       "    <tr>\n",
       "      <th>715</th>\n",
       "      <td>Senegal</td>\n",
       "      <td>Saint-Louis</td>\n",
       "      <td>249167293</td>\n",
       "      <td>{'type': 'Point', 'coordinates': (-16.5048686,...</td>\n",
       "      <td>16086</td>\n",
       "      <td>{'type': 'Polygon', 'coordinates': (((-16.4337...</td>\n",
       "    </tr>\n",
       "    <tr>\n",
       "      <th>716</th>\n",
       "      <td>Senegal</td>\n",
       "      <td>Diourbel</td>\n",
       "      <td>249742121</td>\n",
       "      <td>{'type': 'Point', 'coordinates': (-16.227822, ...</td>\n",
       "      <td>18754</td>\n",
       "      <td>{'type': 'Polygon', 'coordinates': (((-16.2504...</td>\n",
       "    </tr>\n",
       "    <tr>\n",
       "      <th>717</th>\n",
       "      <td>Senegal</td>\n",
       "      <td>Fatick</td>\n",
       "      <td>249742347</td>\n",
       "      <td>{'type': 'Point', 'coordinates': (-16.404219, ...</td>\n",
       "      <td>19904</td>\n",
       "      <td>{'type': 'Polygon', 'coordinates': (((-16.4254...</td>\n",
       "    </tr>\n",
       "    <tr>\n",
       "      <th>718</th>\n",
       "      <td>Senegal</td>\n",
       "      <td>Louga</td>\n",
       "      <td>249743823</td>\n",
       "      <td>{'type': 'Point', 'coordinates': (-16.2230683,...</td>\n",
       "      <td>16465</td>\n",
       "      <td>{'type': 'Polygon', 'coordinates': (((-16.2420...</td>\n",
       "    </tr>\n",
       "    <tr>\n",
       "      <th>719</th>\n",
       "      <td>Senegal</td>\n",
       "      <td>Rufisque</td>\n",
       "      <td>281170836</td>\n",
       "      <td>{'type': 'Point', 'coordinates': (-17.273844, ...</td>\n",
       "      <td>18374</td>\n",
       "      <td>{'type': 'Polygon', 'coordinates': (((-17.3254...</td>\n",
       "    </tr>\n",
       "    <tr>\n",
       "      <th>720</th>\n",
       "      <td>Senegal</td>\n",
       "      <td>Pikine</td>\n",
       "      <td>281171041</td>\n",
       "      <td>{'type': 'Point', 'coordinates': (-17.396413, ...</td>\n",
       "      <td>18374</td>\n",
       "      <td>{'type': 'Polygon', 'coordinates': (((-17.3254...</td>\n",
       "    </tr>\n",
       "    <tr>\n",
       "      <th>721</th>\n",
       "      <td>Senegal</td>\n",
       "      <td>MBour</td>\n",
       "      <td>286752859</td>\n",
       "      <td>{'type': 'Point', 'coordinates': (-16.96571239...</td>\n",
       "      <td>19339</td>\n",
       "      <td>{'type': 'Polygon', 'coordinates': (((-17.0837...</td>\n",
       "    </tr>\n",
       "    <tr>\n",
       "      <th>722</th>\n",
       "      <td>Senegal</td>\n",
       "      <td>Touba</td>\n",
       "      <td>293437934</td>\n",
       "      <td>{'type': 'Point', 'coordinates': (-15.876047, ...</td>\n",
       "      <td>18068</td>\n",
       "      <td>{'type': 'Polygon', 'coordinates': (((-15.8754...</td>\n",
       "    </tr>\n",
       "    <tr>\n",
       "      <th>723</th>\n",
       "      <td>Senegal</td>\n",
       "      <td>Thiès</td>\n",
       "      <td>671824694</td>\n",
       "      <td>{'type': 'Point', 'coordinates': (-16.92560499...</td>\n",
       "      <td>18317</td>\n",
       "      <td>{'type': 'Polygon', 'coordinates': (((-16.9337...</td>\n",
       "    </tr>\n",
       "    <tr>\n",
       "      <th>724</th>\n",
       "      <td>Senegal</td>\n",
       "      <td>Guédiawaye</td>\n",
       "      <td>1158142391</td>\n",
       "      <td>{'type': 'Point', 'coordinates': (-17.390071, ...</td>\n",
       "      <td>18374</td>\n",
       "      <td>{'type': 'Polygon', 'coordinates': (((-17.3254...</td>\n",
       "    </tr>\n",
       "    <tr>\n",
       "      <th>725</th>\n",
       "      <td>Senegal</td>\n",
       "      <td>Bignona</td>\n",
       "      <td>1917652469</td>\n",
       "      <td>{'type': 'Point', 'coordinates': (-16.22897, 1...</td>\n",
       "      <td>30440</td>\n",
       "      <td>{'type': 'Polygon', 'coordinates': (((-16.2337...</td>\n",
       "    </tr>\n",
       "    <tr>\n",
       "      <th>726</th>\n",
       "      <td>Senegal</td>\n",
       "      <td>Koungheul</td>\n",
       "      <td>2251183429</td>\n",
       "      <td>{'type': 'Point', 'coordinates': (-14.803538, ...</td>\n",
       "      <td>21653</td>\n",
       "      <td>{'type': 'Polygon', 'coordinates': (((-14.8087...</td>\n",
       "    </tr>\n",
       "    <tr>\n",
       "      <th>727</th>\n",
       "      <td>Senegal</td>\n",
       "      <td>Kaolack</td>\n",
       "      <td>3329033430</td>\n",
       "      <td>{'type': 'Point', 'coordinates': (-16.076391, ...</td>\n",
       "      <td>20666</td>\n",
       "      <td>{'type': 'Polygon', 'coordinates': (((-16.1587...</td>\n",
       "    </tr>\n",
       "    <tr>\n",
       "      <th>728</th>\n",
       "      <td>Senegal</td>\n",
       "      <td>Parcelles Assainies</td>\n",
       "      <td>4271813664</td>\n",
       "      <td>{'type': 'Point', 'coordinates': (-17.4384546,...</td>\n",
       "      <td>18374</td>\n",
       "      <td>{'type': 'Polygon', 'coordinates': (((-17.3254...</td>\n",
       "    </tr>\n",
       "    <tr>\n",
       "      <th>729</th>\n",
       "      <td>Senegal</td>\n",
       "      <td>Dakar</td>\n",
       "      <td>5903953012</td>\n",
       "      <td>{'type': 'Point', 'coordinates': (-17.447938, ...</td>\n",
       "      <td>18374</td>\n",
       "      <td>{'type': 'Polygon', 'coordinates': (((-17.3254...</td>\n",
       "    </tr>\n",
       "    <tr>\n",
       "      <th>730</th>\n",
       "      <td>Sierra Leone</td>\n",
       "      <td>Freetown</td>\n",
       "      <td>27565056</td>\n",
       "      <td>{'type': 'Point', 'coordinates': (-13.26795, 8...</td>\n",
       "      <td>29499</td>\n",
       "      <td>{'type': 'Polygon', 'coordinates': (((-13.2754...</td>\n",
       "    </tr>\n",
       "    <tr>\n",
       "      <th>731</th>\n",
       "      <td>Sierra Leone</td>\n",
       "      <td>Bo</td>\n",
       "      <td>314001434</td>\n",
       "      <td>{'type': 'Point', 'coordinates': (-11.73665, 7...</td>\n",
       "      <td>27743</td>\n",
       "      <td>{'type': 'Polygon', 'coordinates': (((-11.7587...</td>\n",
       "    </tr>\n",
       "    <tr>\n",
       "      <th>732</th>\n",
       "      <td>Sierra Leone</td>\n",
       "      <td>Kenema</td>\n",
       "      <td>314005602</td>\n",
       "      <td>{'type': 'Point', 'coordinates': (-11.18639, 7...</td>\n",
       "      <td>27285</td>\n",
       "      <td>{'type': 'Polygon', 'coordinates': (((-11.1920...</td>\n",
       "    </tr>\n",
       "    <tr>\n",
       "      <th>733</th>\n",
       "      <td>Sierra Leone</td>\n",
       "      <td>Koidu</td>\n",
       "      <td>314007819</td>\n",
       "      <td>{'type': 'Point', 'coordinates': (-10.971631, ...</td>\n",
       "      <td>30290</td>\n",
       "      <td>{'type': 'Polygon', 'coordinates': (((-10.9837...</td>\n",
       "    </tr>\n",
       "    <tr>\n",
       "      <th>734</th>\n",
       "      <td>Sierra Leone</td>\n",
       "      <td>Kambia</td>\n",
       "      <td>320058940</td>\n",
       "      <td>{'type': 'Point', 'coordinates': (-12.91933699...</td>\n",
       "      <td>32632</td>\n",
       "      <td>{'type': 'Polygon', 'coordinates': (((-12.9337...</td>\n",
       "    </tr>\n",
       "    <tr>\n",
       "      <th>735</th>\n",
       "      <td>Sierra Leone</td>\n",
       "      <td>Makeni</td>\n",
       "      <td>437337175</td>\n",
       "      <td>{'type': 'Point', 'coordinates': (-12.04912, 8...</td>\n",
       "      <td>31447</td>\n",
       "      <td>{'type': 'Polygon', 'coordinates': (((-12.0504...</td>\n",
       "    </tr>\n",
       "    <tr>\n",
       "      <th>736</th>\n",
       "      <td>Sierra Leone</td>\n",
       "      <td>Waterloo</td>\n",
       "      <td>2132436578</td>\n",
       "      <td>{'type': 'Point', 'coordinates': (-13.069573, ...</td>\n",
       "      <td>29189</td>\n",
       "      <td>{'type': 'Polygon', 'coordinates': (((-13.0587...</td>\n",
       "    </tr>\n",
       "    <tr>\n",
       "      <th>737</th>\n",
       "      <td>Togo</td>\n",
       "      <td>Dapaong</td>\n",
       "      <td>279670201</td>\n",
       "      <td>{'type': 'Point', 'coordinates': (0.2043122, 1...</td>\n",
       "      <td>40022</td>\n",
       "      <td>{'type': 'Polygon', 'coordinates': (((0.191249...</td>\n",
       "    </tr>\n",
       "    <tr>\n",
       "      <th>738</th>\n",
       "      <td>Togo</td>\n",
       "      <td>Sansanné-Mango</td>\n",
       "      <td>279670448</td>\n",
       "      <td>{'type': 'Point', 'coordinates': (0.4768865, 1...</td>\n",
       "      <td>38365</td>\n",
       "      <td>{'type': 'Polygon', 'coordinates': (((0.466249...</td>\n",
       "    </tr>\n",
       "    <tr>\n",
       "      <th>739</th>\n",
       "      <td>Togo</td>\n",
       "      <td>Tsévié</td>\n",
       "      <td>1919282943</td>\n",
       "      <td>{'type': 'Point', 'coordinates': (1.2104692, 6...</td>\n",
       "      <td>18658</td>\n",
       "      <td>{'type': 'Polygon', 'coordinates': (((1.199583...</td>\n",
       "    </tr>\n",
       "    <tr>\n",
       "      <th>740</th>\n",
       "      <td>Togo</td>\n",
       "      <td>Kpalimé</td>\n",
       "      <td>1947278732</td>\n",
       "      <td>{'type': 'Point', 'coordinates': (0.632037, 6....</td>\n",
       "      <td>21282</td>\n",
       "      <td>{'type': 'Polygon', 'coordinates': (((0.649583...</td>\n",
       "    </tr>\n",
       "    <tr>\n",
       "      <th>741</th>\n",
       "      <td>Togo</td>\n",
       "      <td>Sokodé</td>\n",
       "      <td>1952227085</td>\n",
       "      <td>{'type': 'Point', 'coordinates': (1.1438149, 8...</td>\n",
       "      <td>31737</td>\n",
       "      <td>{'type': 'Polygon', 'coordinates': (((1.149583...</td>\n",
       "    </tr>\n",
       "    <tr>\n",
       "      <th>742</th>\n",
       "      <td>Togo</td>\n",
       "      <td>Lomé</td>\n",
       "      <td>2195276463</td>\n",
       "      <td>{'type': 'Point', 'coordinates': (1.215829, 6....</td>\n",
       "      <td>16431</td>\n",
       "      <td>{'type': 'Polygon', 'coordinates': (((1.099583...</td>\n",
       "    </tr>\n",
       "    <tr>\n",
       "      <th>743</th>\n",
       "      <td>Togo</td>\n",
       "      <td>Kara</td>\n",
       "      <td>2516231661</td>\n",
       "      <td>{'type': 'Point', 'coordinates': (1.1980859, 9...</td>\n",
       "      <td>35094</td>\n",
       "      <td>{'type': 'Polygon', 'coordinates': (((1.207916...</td>\n",
       "    </tr>\n",
       "    <tr>\n",
       "      <th>744</th>\n",
       "      <td>Togo</td>\n",
       "      <td>Atakpamé</td>\n",
       "      <td>4409324516</td>\n",
       "      <td>{'type': 'Point', 'coordinates': (1.1219478999...</td>\n",
       "      <td>25527</td>\n",
       "      <td>{'type': 'Polygon', 'coordinates': (((1.157916...</td>\n",
       "    </tr>\n",
       "  </tbody>\n",
       "</table>\n",
       "<p>745 rows × 6 columns</p>\n",
       "</div>"
      ],
      "text/plain": [
       "                0                    1           2  \\\n",
       "0         Algeria          Constantine    27564946   \n",
       "1         Algeria                 Oran    27565103   \n",
       "2         Algeria           Tizi Ouzou   253292160   \n",
       "3         Algeria              El Oued   262963217   \n",
       "4         Algeria            Touggourt   262964638   \n",
       "5         Algeria             Laghouat   264573224   \n",
       "6         Algeria            Bou Saâda   274946937   \n",
       "7         Algeria                Kouba   288387133   \n",
       "8         Algeria                Médéa   288417925   \n",
       "9         Algeria                Blida   288418022   \n",
       "10        Algeria   Bordj Bou Arreridj   291964008   \n",
       "11        Algeria               Béjaïa   291964314   \n",
       "12        Algeria                Alger   299617915   \n",
       "13        Algeria               Annaba   299618513   \n",
       "14        Algeria                Batna   299619085   \n",
       "15        Algeria                Chlef   299680100   \n",
       "16        Algeria               Djelfa   299681006   \n",
       "17        Algeria       Sidi Bel Abbes   299682062   \n",
       "18        Algeria               Biskra   299682811   \n",
       "19        Algeria              Tébessa   299683227   \n",
       "20        Algeria               Tiaret   299684626   \n",
       "21        Algeria               Skikda   299692217   \n",
       "22        Algeria               Béchar   299695849   \n",
       "23        Algeria           Souk Ahras   299698224   \n",
       "24        Algeria           Mostaganem   299699468   \n",
       "25        Algeria               M'Sila   299700319   \n",
       "26        Algeria             El Eulma   299701636   \n",
       "27        Algeria            Khenchela   299702563   \n",
       "28        Algeria                Saïda   299822267   \n",
       "29        Algeria               Guelma   299824735   \n",
       "..            ...                  ...         ...   \n",
       "715       Senegal          Saint-Louis   249167293   \n",
       "716       Senegal             Diourbel   249742121   \n",
       "717       Senegal               Fatick   249742347   \n",
       "718       Senegal                Louga   249743823   \n",
       "719       Senegal             Rufisque   281170836   \n",
       "720       Senegal               Pikine   281171041   \n",
       "721       Senegal                MBour   286752859   \n",
       "722       Senegal                Touba   293437934   \n",
       "723       Senegal                Thiès   671824694   \n",
       "724       Senegal           Guédiawaye  1158142391   \n",
       "725       Senegal              Bignona  1917652469   \n",
       "726       Senegal            Koungheul  2251183429   \n",
       "727       Senegal              Kaolack  3329033430   \n",
       "728       Senegal  Parcelles Assainies  4271813664   \n",
       "729       Senegal                Dakar  5903953012   \n",
       "730  Sierra Leone             Freetown    27565056   \n",
       "731  Sierra Leone                   Bo   314001434   \n",
       "732  Sierra Leone               Kenema   314005602   \n",
       "733  Sierra Leone                Koidu   314007819   \n",
       "734  Sierra Leone               Kambia   320058940   \n",
       "735  Sierra Leone               Makeni   437337175   \n",
       "736  Sierra Leone             Waterloo  2132436578   \n",
       "737          Togo              Dapaong   279670201   \n",
       "738          Togo       Sansanné-Mango   279670448   \n",
       "739          Togo               Tsévié  1919282943   \n",
       "740          Togo              Kpalimé  1947278732   \n",
       "741          Togo               Sokodé  1952227085   \n",
       "742          Togo                 Lomé  2195276463   \n",
       "743          Togo                 Kara  2516231661   \n",
       "744          Togo             Atakpamé  4409324516   \n",
       "\n",
       "                                                     3      4  \\\n",
       "0    {'type': 'Point', 'coordinates': (6.6082600000...   1274   \n",
       "1    {'type': 'Point', 'coordinates': (-0.649297599...   2547   \n",
       "2    {'type': 'Point', 'coordinates': (4.0493919, 3...    469   \n",
       "3    {'type': 'Point', 'coordinates': (6.8603492, 3...   5139   \n",
       "4    {'type': 'Point', 'coordinates': (6.066102, 33...   5264   \n",
       "5    {'type': 'Point', 'coordinates': (2.8808616000...   4759   \n",
       "6    {'type': 'Point', 'coordinates': (4.1809702000...   3469   \n",
       "7    {'type': 'Point', 'coordinates': (3.0861789, 3...    303   \n",
       "8    {'type': 'Point', 'coordinates': (2.766957, 36...   1658   \n",
       "9    {'type': 'Point', 'coordinates': (2.8287985, 3...    303   \n",
       "10   {'type': 'Point', 'coordinates': (4.760492, 36...   2099   \n",
       "11   {'type': 'Point', 'coordinates': (5.0647, 36.7...    416   \n",
       "12   {'type': 'Point', 'coordinates': (3.0600650000...    303   \n",
       "13   {'type': 'Point', 'coordinates': (7.7549272, 3...     91   \n",
       "14   {'type': 'Point', 'coordinates': (6.1767453, 3...   2849   \n",
       "15   {'type': 'Point', 'coordinates': (1.331499, 36...   1796   \n",
       "16   {'type': 'Point', 'coordinates': (3.254037, 34...   4148   \n",
       "17   {'type': 'Point', 'coordinates': (-0.634632, 3...   3508   \n",
       "18   {'type': 'Point', 'coordinates': (5.7286877999...   3939   \n",
       "19   {'type': 'Point', 'coordinates': (8.1212322, 3...   3209   \n",
       "20   {'type': 'Point', 'coordinates': (1.3194687, 3...   3259   \n",
       "21   {'type': 'Point', 'coordinates': (6.907485, 36...    146   \n",
       "22   {'type': 'Point', 'coordinates': (-2.2171276, ...   6650   \n",
       "23   {'type': 'Point', 'coordinates': (7.9515466, 3...   1633   \n",
       "24   {'type': 'Point', 'coordinates': (0.089978, 35...   2214   \n",
       "25   {'type': 'Point', 'coordinates': (4.5371552, 3...   2593   \n",
       "26   {'type': 'Point', 'coordinates': (5.6911587999...   1860   \n",
       "27   {'type': 'Point', 'coordinates': (7.145711, 35...   3165   \n",
       "28   {'type': 'Point', 'coordinates': (0.1509912, 3...   3901   \n",
       "29   {'type': 'Point', 'coordinates': (7.4306470000...   1157   \n",
       "..                                                 ...    ...   \n",
       "715  {'type': 'Point', 'coordinates': (-16.5048686,...  16086   \n",
       "716  {'type': 'Point', 'coordinates': (-16.227822, ...  18754   \n",
       "717  {'type': 'Point', 'coordinates': (-16.404219, ...  19904   \n",
       "718  {'type': 'Point', 'coordinates': (-16.2230683,...  16465   \n",
       "719  {'type': 'Point', 'coordinates': (-17.273844, ...  18374   \n",
       "720  {'type': 'Point', 'coordinates': (-17.396413, ...  18374   \n",
       "721  {'type': 'Point', 'coordinates': (-16.96571239...  19339   \n",
       "722  {'type': 'Point', 'coordinates': (-15.876047, ...  18068   \n",
       "723  {'type': 'Point', 'coordinates': (-16.92560499...  18317   \n",
       "724  {'type': 'Point', 'coordinates': (-17.390071, ...  18374   \n",
       "725  {'type': 'Point', 'coordinates': (-16.22897, 1...  30440   \n",
       "726  {'type': 'Point', 'coordinates': (-14.803538, ...  21653   \n",
       "727  {'type': 'Point', 'coordinates': (-16.076391, ...  20666   \n",
       "728  {'type': 'Point', 'coordinates': (-17.4384546,...  18374   \n",
       "729  {'type': 'Point', 'coordinates': (-17.447938, ...  18374   \n",
       "730  {'type': 'Point', 'coordinates': (-13.26795, 8...  29499   \n",
       "731  {'type': 'Point', 'coordinates': (-11.73665, 7...  27743   \n",
       "732  {'type': 'Point', 'coordinates': (-11.18639, 7...  27285   \n",
       "733  {'type': 'Point', 'coordinates': (-10.971631, ...  30290   \n",
       "734  {'type': 'Point', 'coordinates': (-12.91933699...  32632   \n",
       "735  {'type': 'Point', 'coordinates': (-12.04912, 8...  31447   \n",
       "736  {'type': 'Point', 'coordinates': (-13.069573, ...  29189   \n",
       "737  {'type': 'Point', 'coordinates': (0.2043122, 1...  40022   \n",
       "738  {'type': 'Point', 'coordinates': (0.4768865, 1...  38365   \n",
       "739  {'type': 'Point', 'coordinates': (1.2104692, 6...  18658   \n",
       "740  {'type': 'Point', 'coordinates': (0.632037, 6....  21282   \n",
       "741  {'type': 'Point', 'coordinates': (1.1438149, 8...  31737   \n",
       "742  {'type': 'Point', 'coordinates': (1.215829, 6....  16431   \n",
       "743  {'type': 'Point', 'coordinates': (1.1980859, 9...  35094   \n",
       "744  {'type': 'Point', 'coordinates': (1.1219478999...  25527   \n",
       "\n",
       "                                                     5  \n",
       "0    {'type': 'Polygon', 'coordinates': (((6.624583...  \n",
       "1    {'type': 'Polygon', 'coordinates': (((-0.80875...  \n",
       "2    {'type': 'Polygon', 'coordinates': (((3.966249...  \n",
       "3    {'type': 'Polygon', 'coordinates': (((6.816249...  \n",
       "4    {'type': 'Polygon', 'coordinates': (((6.066249...  \n",
       "5    {'type': 'Polygon', 'coordinates': (((2.849583...  \n",
       "6    {'type': 'Polygon', 'coordinates': (((4.166249...  \n",
       "7    {'type': 'Polygon', 'coordinates': (((3.007916...  \n",
       "8    {'type': 'Polygon', 'coordinates': (((2.716249...  \n",
       "9    {'type': 'Polygon', 'coordinates': (((3.007916...  \n",
       "10   {'type': 'Polygon', 'coordinates': (((4.716249...  \n",
       "11   {'type': 'Polygon', 'coordinates': (((5.016249...  \n",
       "12   {'type': 'Polygon', 'coordinates': (((3.007916...  \n",
       "13   {'type': 'Polygon', 'coordinates': (((7.774583...  \n",
       "14   {'type': 'Polygon', 'coordinates': (((6.274583...  \n",
       "15   {'type': 'Polygon', 'coordinates': (((1.232916...  \n",
       "16   {'type': 'Polygon', 'coordinates': (((3.232916...  \n",
       "17   {'type': 'Polygon', 'coordinates': (((-0.65041...  \n",
       "18   {'type': 'Polygon', 'coordinates': (((5.707916...  \n",
       "19   {'type': 'Polygon', 'coordinates': (((8.016249...  \n",
       "20   {'type': 'Polygon', 'coordinates': (((1.307916...  \n",
       "21   {'type': 'Polygon', 'coordinates': (((6.874583...  \n",
       "22   {'type': 'Polygon', 'coordinates': (((-2.22541...  \n",
       "23   {'type': 'Polygon', 'coordinates': (((7.932916...  \n",
       "24   {'type': 'Polygon', 'coordinates': (((0.107916...  \n",
       "25   {'type': 'Polygon', 'coordinates': (((4.541249...  \n",
       "26   {'type': 'Polygon', 'coordinates': (((5.674583...  \n",
       "27   {'type': 'Polygon', 'coordinates': (((7.066249...  \n",
       "28   {'type': 'Polygon', 'coordinates': (((0.141249...  \n",
       "29   {'type': 'Polygon', 'coordinates': (((7.382916...  \n",
       "..                                                 ...  \n",
       "715  {'type': 'Polygon', 'coordinates': (((-16.4337...  \n",
       "716  {'type': 'Polygon', 'coordinates': (((-16.2504...  \n",
       "717  {'type': 'Polygon', 'coordinates': (((-16.4254...  \n",
       "718  {'type': 'Polygon', 'coordinates': (((-16.2420...  \n",
       "719  {'type': 'Polygon', 'coordinates': (((-17.3254...  \n",
       "720  {'type': 'Polygon', 'coordinates': (((-17.3254...  \n",
       "721  {'type': 'Polygon', 'coordinates': (((-17.0837...  \n",
       "722  {'type': 'Polygon', 'coordinates': (((-15.8754...  \n",
       "723  {'type': 'Polygon', 'coordinates': (((-16.9337...  \n",
       "724  {'type': 'Polygon', 'coordinates': (((-17.3254...  \n",
       "725  {'type': 'Polygon', 'coordinates': (((-16.2337...  \n",
       "726  {'type': 'Polygon', 'coordinates': (((-14.8087...  \n",
       "727  {'type': 'Polygon', 'coordinates': (((-16.1587...  \n",
       "728  {'type': 'Polygon', 'coordinates': (((-17.3254...  \n",
       "729  {'type': 'Polygon', 'coordinates': (((-17.3254...  \n",
       "730  {'type': 'Polygon', 'coordinates': (((-13.2754...  \n",
       "731  {'type': 'Polygon', 'coordinates': (((-11.7587...  \n",
       "732  {'type': 'Polygon', 'coordinates': (((-11.1920...  \n",
       "733  {'type': 'Polygon', 'coordinates': (((-10.9837...  \n",
       "734  {'type': 'Polygon', 'coordinates': (((-12.9337...  \n",
       "735  {'type': 'Polygon', 'coordinates': (((-12.0504...  \n",
       "736  {'type': 'Polygon', 'coordinates': (((-13.0587...  \n",
       "737  {'type': 'Polygon', 'coordinates': (((0.191249...  \n",
       "738  {'type': 'Polygon', 'coordinates': (((0.466249...  \n",
       "739  {'type': 'Polygon', 'coordinates': (((1.199583...  \n",
       "740  {'type': 'Polygon', 'coordinates': (((0.649583...  \n",
       "741  {'type': 'Polygon', 'coordinates': (((1.149583...  \n",
       "742  {'type': 'Polygon', 'coordinates': (((1.099583...  \n",
       "743  {'type': 'Polygon', 'coordinates': (((1.207916...  \n",
       "744  {'type': 'Polygon', 'coordinates': (((1.157916...  \n",
       "\n",
       "[745 rows x 6 columns]"
      ]
     },
     "execution_count": 63,
     "metadata": {},
     "output_type": "execute_result"
    }
   ],
   "source": [
    "# Can convert back to dataframe if needed ... \n",
    "\n",
    "coords_arr = np.array(test)\n",
    "coords_arr\n",
    "\n",
    "# Try to make it into a dataframe\n",
    "test_df = pd.DataFrame(data=coords_arr)\n",
    "test_df"
   ]
  },
  {
   "cell_type": "code",
   "execution_count": 42,
   "metadata": {},
   "outputs": [],
   "source": [
    "test_df.to_csv(outfilepath+\"20181113_polypoints_WP2020_africa.csv\")"
   ]
  },
  {
   "cell_type": "markdown",
   "metadata": {},
   "source": [
    "### The cell below this works ... makes a shapefile "
   ]
  },
  {
   "cell_type": "code",
   "execution_count": null,
   "metadata": {},
   "outputs": [],
   "source": [
    "# Explort it as a shape file\n",
    "# careful with the file path ... this is going to my notebooks folder right now\n",
    "# newer_pdf.to_file('worldpop_2000_test.shp', driver='ESRI Shapefile')"
   ]
  },
  {
   "cell_type": "code",
   "execution_count": null,
   "metadata": {},
   "outputs": [],
   "source": [
    "# Let's see if I can find zonal stats"
   ]
  },
  {
   "cell_type": "code",
   "execution_count": null,
   "metadata": {},
   "outputs": [],
   "source": [
    "# https://automating-gis-processes.github.io/CSC18/lessons/L6/zonal-statistics.html\n",
    "\n",
    "from rasterstats import zonal_stats"
   ]
  },
  {
   "cell_type": "code",
   "execution_count": null,
   "metadata": {},
   "outputs": [],
   "source": [
    "# Need to figure out how to turn geo pandas back into a geojson dict\n",
    "with fiona.open(\"worldpop_2000_test.shp\", \"r\") as shapefile:                                #<--- Need to figure out how to get the geometry from shp file directly \n",
    "    features = [feature[\"geometry\"] for feature in shapefile]\n",
    "\n",
    "with rasterio.open(filepath+\"AFR_PPP_2000_adj_v2.tif\") as src:                        #<--- Need to figure out how to get it not to write to a file, but just store in memory at this point\n",
    "    out_image, out_transform = rasterio.mask.mask(src, features, crop=True)\n",
    "    out_meta = src.meta.copy()\n",
    "\n",
    "out_meta.update({\"driver\": \"GTiff\",\n",
    "                 \"height\": out_image.shape[1],\n",
    "                 \"width\": out_image.shape[2],\n",
    "                 \"transform\": out_transform})\n",
    "with rasterio.open(filepath+\"AFR_PPP_2000_adj_MASK.tif\", \"w\", **out_meta) as dest:\n",
    "    dest.write(out_image) \n"
   ]
  },
  {
   "cell_type": "code",
   "execution_count": null,
   "metadata": {},
   "outputs": [],
   "source": [
    "mask_test_2000 = rasterio.open(filepath+'AFR_PPP_2000_adj_MASK.tif')\n",
    "plot.show(mask_test_2000)"
   ]
  },
  {
   "cell_type": "code",
   "execution_count": null,
   "metadata": {},
   "outputs": [],
   "source": [
    "np.unique(mask_test_2000.read(1))"
   ]
  },
  {
   "cell_type": "code",
   "execution_count": null,
   "metadata": {},
   "outputs": [],
   "source": []
  },
  {
   "cell_type": "code",
   "execution_count": null,
   "metadata": {},
   "outputs": [],
   "source": []
  },
  {
   "cell_type": "code",
   "execution_count": null,
   "metadata": {},
   "outputs": [],
   "source": []
  },
  {
   "cell_type": "code",
   "execution_count": null,
   "metadata": {},
   "outputs": [],
   "source": []
  },
  {
   "cell_type": "code",
   "execution_count": null,
   "metadata": {},
   "outputs": [],
   "source": []
  },
  {
   "cell_type": "code",
   "execution_count": null,
   "metadata": {},
   "outputs": [],
   "source": []
  },
  {
   "cell_type": "code",
   "execution_count": null,
   "metadata": {},
   "outputs": [],
   "source": []
  },
  {
   "cell_type": "code",
   "execution_count": null,
   "metadata": {},
   "outputs": [],
   "source": []
  },
  {
   "cell_type": "code",
   "execution_count": null,
   "metadata": {},
   "outputs": [],
   "source": []
  },
  {
   "cell_type": "code",
   "execution_count": null,
   "metadata": {},
   "outputs": [],
   "source": []
  },
  {
   "cell_type": "code",
   "execution_count": null,
   "metadata": {},
   "outputs": [],
   "source": []
  },
  {
   "cell_type": "code",
   "execution_count": null,
   "metadata": {},
   "outputs": [],
   "source": []
  },
  {
   "cell_type": "code",
   "execution_count": null,
   "metadata": {},
   "outputs": [],
   "source": [
    "# from shapely.geometry import shape\n",
    "\n",
    "# test = shape(geom)\n",
    "# type(test)"
   ]
  },
  {
   "cell_type": "code",
   "execution_count": null,
   "metadata": {},
   "outputs": [],
   "source": [
    "# get it into a geopandas DF for explore\n",
    "import geopandas as gp\n",
    "geom_gdf = gp.GeoDataFrame.from_records(geom)\n",
    "type(geom_gdf)"
   ]
  },
  {
   "cell_type": "code",
   "execution_count": null,
   "metadata": {},
   "outputs": [],
   "source": [
    "# check it \n",
    "geom_gdf.head(2)"
   ]
  },
  {
   "cell_type": "code",
   "execution_count": null,
   "metadata": {},
   "outputs": [],
   "source": [
    "geom_gdf[type=='Polygon'] = 'POLYGON '\n",
    "geom_gdf.head(2)"
   ]
  },
  {
   "cell_type": "code",
   "execution_count": null,
   "metadata": {},
   "outputs": [],
   "source": [
    "geom_gdf['geometry']=geom_gdf['False'].astype(str)+geom_gdf['coordinates'].astype(str)"
   ]
  },
  {
   "cell_type": "code",
   "execution_count": null,
   "metadata": {},
   "outputs": [],
   "source": [
    "geom_gdf.head(6)"
   ]
  },
  {
   "cell_type": "code",
   "execution_count": null,
   "metadata": {},
   "outputs": [],
   "source": []
  },
  {
   "cell_type": "code",
   "execution_count": null,
   "metadata": {},
   "outputs": [],
   "source": [
    "test = gp.GeoDataFrame(geom_gdf['geometry'])\n",
    "test.head(6)"
   ]
  },
  {
   "cell_type": "code",
   "execution_count": null,
   "metadata": {},
   "outputs": [],
   "source": [
    "# try to write it as a shape file\n",
    "test.to_file('worldpop_2000_test.shp', driver='ESRI Shapefile')"
   ]
  },
  {
   "cell_type": "code",
   "execution_count": null,
   "metadata": {},
   "outputs": [],
   "source": [
    "type(dst)"
   ]
  },
  {
   "cell_type": "code",
   "execution_count": null,
   "metadata": {},
   "outputs": [],
   "source": [
    "dir(africa1k_2000_poly)"
   ]
  },
  {
   "cell_type": "code",
   "execution_count": null,
   "metadata": {},
   "outputs": [],
   "source": [
    "test = rasterio.features.dataset_features(africa1k_2000_poly)\n",
    "\n",
    "\n",
    "\n",
    "\n",
    "\n"
   ]
  },
  {
   "cell_type": "code",
   "execution_count": null,
   "metadata": {},
   "outputs": [],
   "source": [
    "type(test)"
   ]
  },
  {
   "cell_type": "code",
   "execution_count": null,
   "metadata": {},
   "outputs": [],
   "source": []
  },
  {
   "cell_type": "code",
   "execution_count": null,
   "metadata": {},
   "outputs": [],
   "source": []
  },
  {
   "cell_type": "code",
   "execution_count": null,
   "metadata": {},
   "outputs": [],
   "source": []
  },
  {
   "cell_type": "code",
   "execution_count": null,
   "metadata": {},
   "outputs": [],
   "source": []
  },
  {
   "cell_type": "code",
   "execution_count": null,
   "metadata": {},
   "outputs": [],
   "source": []
  },
  {
   "cell_type": "code",
   "execution_count": null,
   "metadata": {},
   "outputs": [],
   "source": []
  },
  {
   "cell_type": "code",
   "execution_count": null,
   "metadata": {},
   "outputs": [],
   "source": []
  },
  {
   "cell_type": "code",
   "execution_count": null,
   "metadata": {},
   "outputs": [],
   "source": []
  },
  {
   "cell_type": "code",
   "execution_count": null,
   "metadata": {},
   "outputs": [],
   "source": []
  },
  {
   "cell_type": "code",
   "execution_count": null,
   "metadata": {},
   "outputs": [],
   "source": []
  },
  {
   "cell_type": "code",
   "execution_count": null,
   "metadata": {},
   "outputs": [],
   "source": []
  },
  {
   "cell_type": "code",
   "execution_count": null,
   "metadata": {},
   "outputs": [],
   "source": []
  },
  {
   "cell_type": "code",
   "execution_count": null,
   "metadata": {},
   "outputs": [],
   "source": []
  },
  {
   "cell_type": "code",
   "execution_count": null,
   "metadata": {},
   "outputs": [],
   "source": []
  },
  {
   "cell_type": "code",
   "execution_count": null,
   "metadata": {},
   "outputs": [],
   "source": []
  },
  {
   "cell_type": "code",
   "execution_count": null,
   "metadata": {},
   "outputs": [],
   "source": []
  },
  {
   "cell_type": "code",
   "execution_count": null,
   "metadata": {},
   "outputs": [],
   "source": [
    "# ask Kelly about what to do with the nodata values messing everything up \n",
    "ghana100m_2010 = rasterio.open(filepath+\"GHA10_040213.tif\")\n",
    "ghana100m_2010.meta"
   ]
  },
  {
   "cell_type": "code",
   "execution_count": null,
   "metadata": {},
   "outputs": [],
   "source": [
    "plot.show(ghana100m_2010)"
   ]
  },
  {
   "cell_type": "code",
   "execution_count": null,
   "metadata": {},
   "outputs": [],
   "source": [
    "ghana100m_2010_arr = ghana100m_2010.read_band(1)"
   ]
  },
  {
   "cell_type": "code",
   "execution_count": null,
   "metadata": {},
   "outputs": [],
   "source": [
    "# check data range\n",
    "np.unique(ghana100m_2010_arr)"
   ]
  },
  {
   "cell_type": "code",
   "execution_count": null,
   "metadata": {},
   "outputs": [],
   "source": [
    "# Zoom into a subset\n",
    "#window = rasterio.windows.Window(1024, 1024, 1280, 2560)\n",
    "\n",
    "subset = ghana100m_2010.read(1, window=((7000, 7200), (2700, 3300)))\n",
    "\n",
    "plt.figure(figsize=(6,8.5))\n",
    "plt.imshow(subset)\n",
    "plt.colorbar(shrink=0.5)\n",
    "#plt.title(f'Band 4 Subset\\n{window}')\n",
    "plt.xlabel('Column #')\n",
    "plt.ylabel('Row #')"
   ]
  },
  {
   "cell_type": "code",
   "execution_count": null,
   "metadata": {},
   "outputs": [],
   "source": [
    "type(subset)"
   ]
  },
  {
   "cell_type": "code",
   "execution_count": null,
   "metadata": {},
   "outputs": [],
   "source": [
    "plt.hist(subset, range = [0,100])\n",
    "plt.show()"
   ]
  },
  {
   "cell_type": "code",
   "execution_count": null,
   "metadata": {},
   "outputs": [],
   "source": [
    "import copy\n",
    "\n",
    "subset_copy = copy.copy(subset)\n",
    "subset_copy[subset<1] = 0"
   ]
  },
  {
   "cell_type": "code",
   "execution_count": null,
   "metadata": {},
   "outputs": [],
   "source": [
    "plt.figure(figsize=(6,8.5))\n",
    "plt.imshow(subset_copy)\n",
    "plt.colorbar(shrink=0.5)\n",
    "plt.xlabel('Column #')\n",
    "plt.ylabel('Row #')"
   ]
  },
  {
   "cell_type": "code",
   "execution_count": null,
   "metadata": {},
   "outputs": [],
   "source": [
    "plt.hist(subset_copy)\n",
    "plt.show()"
   ]
  },
  {
   "cell_type": "code",
   "execution_count": null,
   "metadata": {},
   "outputs": [],
   "source": [
    "test = rasterio.open(filepath+\"GHA10_040213.tif\")"
   ]
  },
  {
   "cell_type": "code",
   "execution_count": null,
   "metadata": {},
   "outputs": [],
   "source": [
    "test.mask"
   ]
  },
  {
   "cell_type": "code",
   "execution_count": null,
   "metadata": {},
   "outputs": [],
   "source": [
    "type(test_band)"
   ]
  },
  {
   "cell_type": "code",
   "execution_count": null,
   "metadata": {},
   "outputs": [],
   "source": [
    "from rasterio.features import shapes\n",
    "mask = None\n",
    "with rasterio.drivers():\n",
    "    with rasterio.open(filepath+\"GHA10_040213.tif\", window = ((7000, 7200), (2700, 3300))) as src:\n",
    "        image = src.read(1) # first band\n",
    "        results = (\n",
    "        {'properties': {'raster_val': v}, 'geometry': s}\n",
    "        for i, (s, v) \n",
    "        in enumerate(\n",
    "            shapes(image, mask=mask, transform=src.affine)))"
   ]
  },
  {
   "cell_type": "code",
   "execution_count": null,
   "metadata": {},
   "outputs": [],
   "source": [
    "geoms = list(results)"
   ]
  },
  {
   "cell_type": "code",
   "execution_count": null,
   "metadata": {},
   "outputs": [],
   "source": [
    "print(geoms[4])"
   ]
  },
  {
   "cell_type": "code",
   "execution_count": null,
   "metadata": {},
   "outputs": [],
   "source": [
    "import geopandas as gp\n",
    "gpd_polygonized_raster  = gp.GeoDataFrame.from_features(geoms)"
   ]
  },
  {
   "cell_type": "code",
   "execution_count": null,
   "metadata": {},
   "outputs": [],
   "source": [
    "gpd_polygonized_raster"
   ]
  },
  {
   "cell_type": "markdown",
   "metadata": {},
   "source": [
    "# OLD CODE"
   ]
  },
  {
   "cell_type": "code",
   "execution_count": null,
   "metadata": {},
   "outputs": [],
   "source": [
    "# Sanity check on number of polygons \n",
    "# from skimage import measvure\n",
    "# label_test = measure.label(mask_dilated, background=0, return_num=True)\n",
    "# label_test_arr = label_test[0]\n",
    "# label_test_num = label_test[1] # 96 polygons\n",
    "# label_test_num"
   ]
  },
  {
   "cell_type": "code",
   "execution_count": null,
   "metadata": {},
   "outputs": [],
   "source": [
    "# test_point = osm_gdf.iloc[4]['geometry']\n",
    "# test_poly = poly_geo_df.iloc[0]['geometry']\n",
    "# print(test_poly.contains(test_point))\n",
    "# print(test_point.within(test_poly))"
   ]
  },
  {
   "cell_type": "code",
   "execution_count": null,
   "metadata": {},
   "outputs": [],
   "source": [
    "# test if point is inside poly\n",
    "checkpoint = time.time()\n",
    "\n",
    "test_point = osm_gdf.iloc[30]['geometry']\n",
    "test_poly = poly_geo_df.iloc[2]['geometry']\n",
    "print(test_poly.contains(test_point))\n",
    "print(test_point.within(test_poly))\n",
    "print(test_poly)\n",
    "print(test_point)`"
   ]
  },
  {
   "cell_type": "code",
   "execution_count": null,
   "metadata": {},
   "outputs": [],
   "source": [
    "# Sanity check on number of polygons \n",
    "from skimage import measure\n",
    "label_test = measure.label(new_mask, background=0, \n",
    "                           connectivity = 2, # diagonal connect\n",
    "                           #neighbors = 8,\n",
    "                           return_num=True)\n",
    "label_test_arr = label_test[0]\n",
    "label_test_num = label_test[1] # 96 polygons\n",
    "\n",
    "# no connectivity change 38377"
   ]
  }
 ],
 "metadata": {
  "kernelspec": {
   "display_name": "Python [conda root]",
   "language": "python",
   "name": "conda-root-py"
  },
  "language_info": {
   "codemirror_mode": {
    "name": "ipython",
    "version": 3
   },
   "file_extension": ".py",
   "mimetype": "text/x-python",
   "name": "python",
   "nbconvert_exporter": "python",
   "pygments_lexer": "ipython3",
   "version": "3.6.4"
  }
 },
 "nbformat": 4,
 "nbformat_minor": 2
}
