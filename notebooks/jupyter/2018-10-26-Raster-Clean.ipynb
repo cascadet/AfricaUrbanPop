{
 "cells": [
  {
   "cell_type": "markdown",
   "metadata": {},
   "source": [
    "### Raster Data to Explore\n",
    "    Landscan\n",
    "    Worldpop\n",
    "    NTL - DMSP & VIIRS\n",
    "    Africapolic \n",
    "    EU Human Settlement Layer\n",
    "    MODIS built layer\n",
    "    Facebook Human Settlement\n",
    "    GRUMP\n",
    "    \n",
    "### Define Urban Density\n",
    "    Go w/ former US Census threshold of >= 1000 ppl per sq mile\n",
    "    https://www2.census.gov/geo/pdfs/reference/GARM/Ch12GARM.pdf\n",
    "    \n",
    "    http://blogs.worldbank.org/sustainablecities/what-does-urban-mean"
   ]
  },
  {
   "cell_type": "code",
   "execution_count": 2,
   "metadata": {},
   "outputs": [],
   "source": [
    "import os\n",
    "import matplotlib.pyplot as plt\n",
    "import rasterio\n",
    "from rasterio import plot\n",
    "from rasterio.mask import mask\n",
    "import pandas as pd\n",
    "import geopandas as gpd\n",
    "import fiona\n",
    "import rasterio\n",
    "import numpy as np\n",
    "import skimage.io as skio\n",
    "import time\n",
    "import copy"
   ]
  },
  {
   "cell_type": "code",
   "execution_count": 3,
   "metadata": {},
   "outputs": [],
   "source": [
    "# will build out folders later\n",
    "\n",
    "# data folder git will ignore\n",
    "infilepath = \"/home/cascade/tana-crunch-cascade/projects/NTL/data/\" \n",
    "\n",
    "# data folder git will not ignore - NO BIG FILES \n",
    "outfilepath = \"/home/cascade/tana-crunch-cascade/projects/NTL/temp_data/\""
   ]
  },
  {
   "cell_type": "markdown",
   "metadata": {},
   "source": [
    "# Step 1 - Input file\n",
    "\n",
    "    Becomes a rasterio object, check meta data \n",
    "    Bands are numpy arrays"
   ]
  },
  {
   "cell_type": "code",
   "execution_count": 45,
   "metadata": {},
   "outputs": [
    {
     "data": {
      "text/plain": [
       "{'count': 1,\n",
       " 'crs': CRS({'init': 'epsg:4326'}),\n",
       " 'driver': 'GTiff',\n",
       " 'dtype': 'float32',\n",
       " 'height': 11161,\n",
       " 'nodata': -3.4028234663852886e+38,\n",
       " 'transform': Affine(0.00833333329999305, 0.0, -33.3254172868223,\n",
       "       0.0, -0.00833333329999305, 41.791250202105076),\n",
       " 'width': 12575}"
      ]
     },
     "execution_count": 45,
     "metadata": {},
     "output_type": "execute_result"
    }
   ],
   "source": [
    "africa1k_2000 = rasterio.open(infilepath+\"AFR_PPP_2020_adj_v2.tif\") #<----- changes to 2020 18/13/11 @ 2pm \n",
    "africa1k_2000.meta"
   ]
  },
  {
   "cell_type": "markdown",
   "metadata": {},
   "source": [
    "# Step 2 - Make a mask\n",
    "\n",
    "    Becomes a rasterio object, check meta data \n",
    "    Bands are numpy arrays"
   ]
  },
  {
   "cell_type": "code",
   "execution_count": null,
   "metadata": {},
   "outputs": [],
   "source": [
    "# https://www2.census.gov/geo/pdfs/reference/ua/Defining_Rural.pdf\n",
    "\n",
    "density = 1000/ 2.59 #density per sq km from sq mi\n",
    "print(density)"
   ]
  },
  {
   "cell_type": "code",
   "execution_count": 46,
   "metadata": {
    "scrolled": true
   },
   "outputs": [
    {
     "name": "stdout",
     "output_type": "stream",
     "text": [
      "[0. 1.]\n",
      "elasped time to do the quary:4.741482257843018\n"
     ]
    }
   ],
   "source": [
    "# Let's try to make the mask directy with rasterio\n",
    "checkpoint = time.time()\n",
    "\n",
    "new_mask = africa1k_2000.read(1)\n",
    "new_mask[new_mask < 600] = 0 #18-11-12 set w/ 600 people\n",
    "new_mask[new_mask > 600] = 1 #18-11-12 set w/ 600 people\n",
    "print(np.unique(new_mask)) # ensure that it's zeros and ones\n",
    "\n",
    "# plot.show(new_mask) # Sanity check \n",
    "print('elasped time to do the quary:{}'.format(time.time() - checkpoint))"
   ]
  },
  {
   "cell_type": "code",
   "execution_count": 47,
   "metadata": {},
   "outputs": [],
   "source": [
    "# Write out 600 ppl/km2 for QGIS\n",
    "kwargs = africa1k_2000.meta\n",
    "kwargs.update(dtype=rasterio.float32, count = 1)\n",
    "\n",
    "with rasterio.open(infilepath+'africa1k_2020_mask600.tif', 'w', **kwargs) as dst:\n",
    "        dst.write_band(1, new_mask.astype(rasterio.float32))\n"
   ]
  },
  {
   "cell_type": "markdown",
   "metadata": {},
   "source": [
    "### Dilate and Erode \n",
    "With 3x3 kernal ... must be odd number to stay centered "
   ]
  },
  {
   "cell_type": "code",
   "execution_count": null,
   "metadata": {
    "scrolled": true
   },
   "outputs": [],
   "source": [
    "# With 3x3 kernal ... must be odd number to stay centered  \n",
    "# try dilate, erode, open and close\n",
    "\n",
    "import cv2\n",
    "\n",
    "kernal = np.ones((3,3), np.uint8)\n",
    "mask_dilated_close = cv2.morphologyEx(new_mask, cv2.MORPH_CLOSE, kernal)\n",
    "mask_dilated_open = cv2.morphologyEx(new_mask, cv2.MORPH_OPEN, kernal)\n",
    "mask_erode = cv2.erode(new_mask, kernal, iterations = 1)\n",
    "mask_dilate = cv2.dilate(new_mask, kernal, iterations = 1)\n",
    "\n",
    "# write them out and check in QGIS\n",
    "# ----------------> Need to do this without writing files <-----\n",
    "kwargs = africa1k_2000.meta\n",
    "\n",
    "# Update kwargs (change in data type)\n",
    "kwargs.update(dtype=rasterio.float32, count = 1)\n",
    "\n",
    "# Let's see what is in there\n",
    "print(kwargs)\n",
    "\n",
    "# erode check\n",
    "# with rasterio.open(infilepath+'africa1k_2020_maskErode.tif', 'w', **kwargs) as dst:\n",
    "#         dst.write_band(1, mask_erode.astype(rasterio.float32))\n",
    "\n",
    "# dilate check \n",
    "# with rasterio.open(infilepath+'africa1k_2020_maskDilate.tif', 'w', **kwargs) as dst:\n",
    "#         dst.write_band(1, mask_dilate.astype(rasterio.float32)) \n",
    "        \n",
    "# close raster check\n",
    "# with rasterio.open(infilepath+'africa1k_2020_maskClose.tif', 'w', **kwargs) as dst:\n",
    "#         dst.write_band(1, mask_dilated_close.astype(rasterio.float32))\n",
    "\n",
    "# open raster check        \n",
    "# with rasterio.open(infilepath+'africa1k_2020_maskOpen.tif', 'w', **kwargs) as dst:\n",
    "#         dst.write_band(1, mask_dilated_open.astype(rasterio.float32))\n",
    "\n",
    "#plot.show(mask_dilated)"
   ]
  },
  {
   "cell_type": "markdown",
   "metadata": {},
   "source": [
    "#### Notes\n",
    "- Dilate alone connects too many cites\n",
    "- Erode alone may make too few cities\n",
    "- Open greatly reduces the number of polygons but may be best for a conservitive estimate\n",
    "- Close connects them and may make it difficult to attach the correct label with correct political boundaries"
   ]
  },
  {
   "cell_type": "markdown",
   "metadata": {},
   "source": [
    "# Step 3 - ShapeFiles"
   ]
  },
  {
   "cell_type": "code",
   "execution_count": 49,
   "metadata": {},
   "outputs": [
    {
     "name": "stdout",
     "output_type": "stream",
     "text": [
      "elapsed time is: 240.14623737335205s\n"
     ]
    }
   ],
   "source": [
    "# open dialated mask and make some polygons\n",
    "checkpoint = time.time()\n",
    "\n",
    "from rasterio import features as features\n",
    "\n",
    "with rasterio.open(infilepath+'africa1k_2020_mask600.tif') as dataset:\n",
    "\n",
    "    # Read the dataset's valid data mask as a ndarray.\n",
    "    mask = dataset.read(1)\n",
    "\n",
    "    # Extract feature shapes and values from the array.\n",
    "    for geom, val in rasterio.features.shapes(\n",
    "            mask, transform=dataset.transform):\n",
    "\n",
    "        # Transform shapes from the dataset's own coordinate\n",
    "        # reference system to CRS84 (EPSG:4326).\n",
    "        geom = rasterio.warp.transform_geom(\n",
    "            dataset.crs, 'EPSG:4326', geom, precision=6) # WGS84 (EPSG 4326)\n",
    "\n",
    "print(\"elapsed time is: {}s\".format(time.time()-checkpoint))"
   ]
  },
  {
   "cell_type": "markdown",
   "metadata": {},
   "source": [
    "Don't need to write outfile as shapes ... can do is-inside script without making shape\n",
    "But write it out so you don't have to keep rerunning the above code block"
   ]
  },
  {
   "cell_type": "code",
   "execution_count": null,
   "metadata": {},
   "outputs": [],
   "source": [
    "# import json\n",
    "\n",
    "# with open(outfilepath+'WP2000_mask600_poly.json', 'w') as fp:\n",
    "#      json.dump(geom, fp)"
   ]
  },
  {
   "cell_type": "code",
   "execution_count": null,
   "metadata": {},
   "outputs": [],
   "source": [
    "# Sanity check\n",
    "print(len(geom['coordinates']))\n",
    "print(geom.keys())"
   ]
  },
  {
   "cell_type": "code",
   "execution_count": 50,
   "metadata": {},
   "outputs": [],
   "source": [
    "# Turn rasterio geom dict into a polygon\n",
    "\n",
    "from shapely.geometry import Polygon\n",
    "\n",
    "def build_poly_df(geom):\n",
    "    \"\"\"\n",
    "    This function makes polygons from rasterio geom dict\n",
    "    \"\"\"\n",
    "    \n",
    "    # turn dict into normal data frame\n",
    "    Polygon(geom['coordinates'][0])\n",
    "    geo_df = gpd.GeoDataFrame()\n",
    "    for i, poly in enumerate(geom['coordinates']):\n",
    "        geo_df.loc[i,'geometry']= Polygon(poly)\n",
    "    return geo_df"
   ]
  },
  {
   "cell_type": "code",
   "execution_count": 51,
   "metadata": {},
   "outputs": [],
   "source": [
    "poly_geo_df = build_poly_df(geom)"
   ]
  },
  {
   "cell_type": "code",
   "execution_count": 52,
   "metadata": {},
   "outputs": [
    {
     "data": {
      "text/html": [
       "<div>\n",
       "<style scoped>\n",
       "    .dataframe tbody tr th:only-of-type {\n",
       "        vertical-align: middle;\n",
       "    }\n",
       "\n",
       "    .dataframe tbody tr th {\n",
       "        vertical-align: top;\n",
       "    }\n",
       "\n",
       "    .dataframe thead th {\n",
       "        text-align: right;\n",
       "    }\n",
       "</style>\n",
       "<table border=\"1\" class=\"dataframe\">\n",
       "  <thead>\n",
       "    <tr style=\"text-align: right;\">\n",
       "      <th></th>\n",
       "      <th>geometry</th>\n",
       "    </tr>\n",
       "  </thead>\n",
       "  <tbody>\n",
       "    <tr>\n",
       "      <th>0</th>\n",
       "      <td>POLYGON ((-33.325417 41.79125, -33.325417 -51....</td>\n",
       "    </tr>\n",
       "    <tr>\n",
       "      <th>1</th>\n",
       "      <td>POLYGON ((20.057916 -34.533749, 20.057916 -34....</td>\n",
       "    </tr>\n",
       "    <tr>\n",
       "      <th>2</th>\n",
       "      <td>POLYGON ((9.849583000000001 37.332917, 9.84958...</td>\n",
       "    </tr>\n",
       "    <tr>\n",
       "      <th>3</th>\n",
       "      <td>POLYGON ((18.866249 -34.250416, 18.866249 -34....</td>\n",
       "    </tr>\n",
       "    <tr>\n",
       "      <th>4</th>\n",
       "      <td>POLYGON ((9.774583 37.324584, 9.774583 37.3079...</td>\n",
       "    </tr>\n",
       "    <tr>\n",
       "      <th>5</th>\n",
       "      <td>POLYGON ((22.241249 -34.050416, 22.249582 -34....</td>\n",
       "    </tr>\n",
       "  </tbody>\n",
       "</table>\n",
       "</div>"
      ],
      "text/plain": [
       "                                            geometry\n",
       "0  POLYGON ((-33.325417 41.79125, -33.325417 -51....\n",
       "1  POLYGON ((20.057916 -34.533749, 20.057916 -34....\n",
       "2  POLYGON ((9.849583000000001 37.332917, 9.84958...\n",
       "3  POLYGON ((18.866249 -34.250416, 18.866249 -34....\n",
       "4  POLYGON ((9.774583 37.324584, 9.774583 37.3079...\n",
       "5  POLYGON ((22.241249 -34.050416, 22.249582 -34...."
      ]
     },
     "execution_count": 52,
     "metadata": {},
     "output_type": "execute_result"
    }
   ],
   "source": [
    "poly_geo_df.head(6)"
   ]
  },
  {
   "cell_type": "code",
   "execution_count": 53,
   "metadata": {},
   "outputs": [
    {
     "data": {
      "text/plain": [
       "(42241, 1)"
      ]
     },
     "execution_count": 53,
     "metadata": {},
     "output_type": "execute_result"
    }
   ],
   "source": [
    "poly_geo_df.shape"
   ]
  },
  {
   "cell_type": "markdown",
   "metadata": {},
   "source": [
    "#### I think I need to drop the first row because it's the footprint of the raster"
   ]
  },
  {
   "cell_type": "code",
   "execution_count": 54,
   "metadata": {},
   "outputs": [],
   "source": [
    "poly_geo_df_copy = copy.deepcopy(poly_geo_df)"
   ]
  },
  {
   "cell_type": "code",
   "execution_count": 55,
   "metadata": {},
   "outputs": [],
   "source": [
    "# I think I need to drop the first row because it's the footprint of the raster\n",
    "poly_geo_df_copy = poly_geo_df_copy.drop(poly_geo_df_copy.index[0], axis = 0)"
   ]
  },
  {
   "cell_type": "code",
   "execution_count": 56,
   "metadata": {},
   "outputs": [
    {
     "data": {
      "text/plain": [
       "(42240, 1)"
      ]
     },
     "execution_count": 56,
     "metadata": {},
     "output_type": "execute_result"
    }
   ],
   "source": [
    "poly_geo_df_copy.shape"
   ]
  },
  {
   "cell_type": "code",
   "execution_count": 57,
   "metadata": {},
   "outputs": [],
   "source": [
    "# write out polygons from mask 600 on WorldPop Africa 1km year 2000 \n",
    "\n",
    "poly_geo_df_copy.to_csv(outfilepath+\"20181113_poly_cities_africa2020mask600.csv\")"
   ]
  },
  {
   "cell_type": "markdown",
   "metadata": {},
   "source": [
    "### Pull in OSM cities and turn into geo data frame"
   ]
  },
  {
   "cell_type": "code",
   "execution_count": 10,
   "metadata": {},
   "outputs": [],
   "source": [
    "import pandas as pd\n",
    "from shapely.geometry import Point\n",
    "\n",
    "osm_df = pd.read_csv(outfilepath+'africa_cities.csv')\n",
    "\n",
    "# creating a geometry column \n",
    "geometry = [Point(xy) for xy in zip(osm_df['lon'], osm_df['lat'])]\n",
    "\n",
    "# Coordinate reference system : WGS84\n",
    "crs = {'init': 'epsg:4326'}\n",
    "\n",
    "# Creating a Geographic data frame \n",
    "osm_gdf = gpd.GeoDataFrame(osm_df, crs=crs, geometry=geometry)"
   ]
  },
  {
   "cell_type": "code",
   "execution_count": 11,
   "metadata": {},
   "outputs": [],
   "source": [
    "# building a function to check if points are in poly for lists of poly and points\n",
    "# needs geopandas data frame with point and poly geometry \n",
    "\n",
    "from shapely.geometry import mapping\n",
    "\n",
    "def poly_point (poly, point):\n",
    "    \"\"\"\n",
    "    This function will check if points are inside polygons if given two gpds with points and polygons\n",
    "    Returns city names or no list \n",
    "    \"\"\"\n",
    "    \n",
    "    out_arr = [] #return an array <<< ---------------- ASK RYAN IF BETTER DO USE DICT \n",
    "    \n",
    "    for index_point, row_point in point.iterrows():\n",
    "        for index_poly, row_poly in poly.iterrows():\n",
    "            if row_point['geometry'].within(row_poly['geometry']):\n",
    "                country = row_point['Country']\n",
    "                city = row_point['City']\n",
    "                point_id = row_point['Id']\n",
    "                point_geom = mapping(row_point['geometry']) # makes a dict w/ keys : type and cood\n",
    "                poly_id = index_poly\n",
    "                poly_geom = mapping(row_poly['geometry']) # makes a dict w/ keys : type and cood\n",
    "                \n",
    "                out_arr.append((country, \n",
    "                                city, \n",
    "                                point_id, \n",
    "                                point_geom, \n",
    "                                poly_id, \n",
    "                                poly_geom))\n",
    "#             else:\n",
    "#                 test.append('no')\n",
    "    return out_arr"
   ]
  },
  {
   "cell_type": "code",
   "execution_count": 58,
   "metadata": {},
   "outputs": [],
   "source": [
    "# 863 total cities in osm, 26974 polygons took 1578 seconds for 2000\n",
    "# 863 total cities in osm, 42241 polygons took XXXX seconds for 2020\n",
    "\n",
    "sub_point = osm_gdf.iloc[0:4]\n",
    "sub_poly = poly_geo_df_copy.iloc[0:1000] #<----- With copy, drop raster foot print polygon\n",
    "\n",
    "# print(sub_point.shape)\n",
    "# print(sub_poly.shape)\n",
    "# print(sub_point)\n",
    "# print(sub_poly)"
   ]
  },
  {
   "cell_type": "code",
   "execution_count": 22,
   "metadata": {},
   "outputs": [
    {
     "data": {
      "text/plain": [
       "(863, 6)"
      ]
     },
     "execution_count": 22,
     "metadata": {},
     "output_type": "execute_result"
    }
   ],
   "source": [
    "osm_gdf.shape"
   ]
  },
  {
   "cell_type": "code",
   "execution_count": null,
   "metadata": {},
   "outputs": [],
   "source": [
    "check_point = time.time()\n",
    "\n",
    "# (poly then points)\n",
    "test = poly_point(poly_geo_df_copy, osm_gdf)\n",
    "print(len(test))\n",
    "\n",
    "print(\"elapsed time is: {}s\".format(time.time()-check_point))\n",
    "\n"
   ]
  },
  {
   "cell_type": "code",
   "execution_count": 60,
   "metadata": {},
   "outputs": [
    {
     "data": {
      "text/html": [
       "<div>\n",
       "<style scoped>\n",
       "    .dataframe tbody tr th:only-of-type {\n",
       "        vertical-align: middle;\n",
       "    }\n",
       "\n",
       "    .dataframe tbody tr th {\n",
       "        vertical-align: top;\n",
       "    }\n",
       "\n",
       "    .dataframe thead th {\n",
       "        text-align: right;\n",
       "    }\n",
       "</style>\n",
       "<table border=\"1\" class=\"dataframe\">\n",
       "  <thead>\n",
       "    <tr style=\"text-align: right;\">\n",
       "      <th></th>\n",
       "      <th>0</th>\n",
       "      <th>1</th>\n",
       "      <th>2</th>\n",
       "      <th>3</th>\n",
       "      <th>4</th>\n",
       "      <th>5</th>\n",
       "    </tr>\n",
       "  </thead>\n",
       "  <tbody>\n",
       "    <tr>\n",
       "      <th>0</th>\n",
       "      <td>Algeria</td>\n",
       "      <td>Tizi Ouzou</td>\n",
       "      <td>253292160</td>\n",
       "      <td>{'type': 'Point', 'coordinates': (4.0493919, 3...</td>\n",
       "      <td>469</td>\n",
       "      <td>{'type': 'Polygon', 'coordinates': (((3.966249...</td>\n",
       "    </tr>\n",
       "    <tr>\n",
       "      <th>1</th>\n",
       "      <td>Algeria</td>\n",
       "      <td>Kouba</td>\n",
       "      <td>288387133</td>\n",
       "      <td>{'type': 'Point', 'coordinates': (3.0861789, 3...</td>\n",
       "      <td>303</td>\n",
       "      <td>{'type': 'Polygon', 'coordinates': (((3.007916...</td>\n",
       "    </tr>\n",
       "    <tr>\n",
       "      <th>2</th>\n",
       "      <td>Algeria</td>\n",
       "      <td>Blida</td>\n",
       "      <td>288418022</td>\n",
       "      <td>{'type': 'Point', 'coordinates': (2.8287985, 3...</td>\n",
       "      <td>303</td>\n",
       "      <td>{'type': 'Polygon', 'coordinates': (((3.007916...</td>\n",
       "    </tr>\n",
       "    <tr>\n",
       "      <th>3</th>\n",
       "      <td>Algeria</td>\n",
       "      <td>Béjaïa</td>\n",
       "      <td>291964314</td>\n",
       "      <td>{'type': 'Point', 'coordinates': (5.0647, 36.7...</td>\n",
       "      <td>416</td>\n",
       "      <td>{'type': 'Polygon', 'coordinates': (((5.016249...</td>\n",
       "    </tr>\n",
       "    <tr>\n",
       "      <th>4</th>\n",
       "      <td>Algeria</td>\n",
       "      <td>Alger</td>\n",
       "      <td>299617915</td>\n",
       "      <td>{'type': 'Point', 'coordinates': (3.0600650000...</td>\n",
       "      <td>303</td>\n",
       "      <td>{'type': 'Polygon', 'coordinates': (((3.007916...</td>\n",
       "    </tr>\n",
       "    <tr>\n",
       "      <th>5</th>\n",
       "      <td>Algeria</td>\n",
       "      <td>Annaba</td>\n",
       "      <td>299618513</td>\n",
       "      <td>{'type': 'Point', 'coordinates': (7.7549272, 3...</td>\n",
       "      <td>91</td>\n",
       "      <td>{'type': 'Polygon', 'coordinates': (((7.774583...</td>\n",
       "    </tr>\n",
       "    <tr>\n",
       "      <th>6</th>\n",
       "      <td>Algeria</td>\n",
       "      <td>Skikda</td>\n",
       "      <td>299692217</td>\n",
       "      <td>{'type': 'Point', 'coordinates': (6.907485, 36...</td>\n",
       "      <td>146</td>\n",
       "      <td>{'type': 'Polygon', 'coordinates': (((6.874583...</td>\n",
       "    </tr>\n",
       "    <tr>\n",
       "      <th>7</th>\n",
       "      <td>Algeria</td>\n",
       "      <td>Les Eucalyptus</td>\n",
       "      <td>316393181</td>\n",
       "      <td>{'type': 'Point', 'coordinates': (3.1472616, 3...</td>\n",
       "      <td>303</td>\n",
       "      <td>{'type': 'Polygon', 'coordinates': (((3.007916...</td>\n",
       "    </tr>\n",
       "    <tr>\n",
       "      <th>8</th>\n",
       "      <td>Algeria</td>\n",
       "      <td>Jijel</td>\n",
       "      <td>1941427461</td>\n",
       "      <td>{'type': 'Point', 'coordinates': (5.7714940000...</td>\n",
       "      <td>284</td>\n",
       "      <td>{'type': 'Polygon', 'coordinates': (((5.741249...</td>\n",
       "    </tr>\n",
       "    <tr>\n",
       "      <th>9</th>\n",
       "      <td>Tunisia</td>\n",
       "      <td>تونس</td>\n",
       "      <td>27564968</td>\n",
       "      <td>{'type': 'Point', 'coordinates': (10.184794, 3...</td>\n",
       "      <td>95</td>\n",
       "      <td>{'type': 'Polygon', 'coordinates': (((10.19124...</td>\n",
       "    </tr>\n",
       "    <tr>\n",
       "      <th>10</th>\n",
       "      <td>Tunisia</td>\n",
       "      <td>بنزرت</td>\n",
       "      <td>287544816</td>\n",
       "      <td>{'type': 'Point', 'coordinates': (9.8713664999...</td>\n",
       "      <td>2</td>\n",
       "      <td>{'type': 'Polygon', 'coordinates': (((9.849583...</td>\n",
       "    </tr>\n",
       "    <tr>\n",
       "      <th>11</th>\n",
       "      <td>Tunisia</td>\n",
       "      <td>بن عروس</td>\n",
       "      <td>287550909</td>\n",
       "      <td>{'type': 'Point', 'coordinates': (10.220146000...</td>\n",
       "      <td>95</td>\n",
       "      <td>{'type': 'Polygon', 'coordinates': (((10.19124...</td>\n",
       "    </tr>\n",
       "    <tr>\n",
       "      <th>12</th>\n",
       "      <td>Tunisia</td>\n",
       "      <td>أريانة</td>\n",
       "      <td>287554239</td>\n",
       "      <td>{'type': 'Point', 'coordinates': (10.190973, 3...</td>\n",
       "      <td>95</td>\n",
       "      <td>{'type': 'Polygon', 'coordinates': (((10.19124...</td>\n",
       "    </tr>\n",
       "    <tr>\n",
       "      <th>13</th>\n",
       "      <td>Tunisia</td>\n",
       "      <td>قرطاج</td>\n",
       "      <td>1136727225</td>\n",
       "      <td>{'type': 'Point', 'coordinates': (10.330441, 3...</td>\n",
       "      <td>95</td>\n",
       "      <td>{'type': 'Polygon', 'coordinates': (((10.19124...</td>\n",
       "    </tr>\n",
       "    <tr>\n",
       "      <th>14</th>\n",
       "      <td>Tunisia</td>\n",
       "      <td>المدينة الجديدة</td>\n",
       "      <td>2573224812</td>\n",
       "      <td>{'type': 'Point', 'coordinates': (10.2507204, ...</td>\n",
       "      <td>95</td>\n",
       "      <td>{'type': 'Polygon', 'coordinates': (((10.19124...</td>\n",
       "    </tr>\n",
       "    <tr>\n",
       "      <th>15</th>\n",
       "      <td>Mozambique</td>\n",
       "      <td>Matola</td>\n",
       "      <td>27564983</td>\n",
       "      <td>{'type': 'Point', 'coordinates': (32.466956, -...</td>\n",
       "      <td>780</td>\n",
       "      <td>{'type': 'Polygon', 'coordinates': (((32.49124...</td>\n",
       "    </tr>\n",
       "    <tr>\n",
       "      <th>16</th>\n",
       "      <td>Mozambique</td>\n",
       "      <td>Maputo</td>\n",
       "      <td>27565081</td>\n",
       "      <td>{'type': 'Point', 'coordinates': (32.56745, -2...</td>\n",
       "      <td>780</td>\n",
       "      <td>{'type': 'Polygon', 'coordinates': (((32.49124...</td>\n",
       "    </tr>\n",
       "    <tr>\n",
       "      <th>17</th>\n",
       "      <td>Botswana</td>\n",
       "      <td>Tsabong</td>\n",
       "      <td>2454873275</td>\n",
       "      <td>{'type': 'Point', 'coordinates': (22.401006, -...</td>\n",
       "      <td>816</td>\n",
       "      <td>{'type': 'Polygon', 'coordinates': (((22.39958...</td>\n",
       "    </tr>\n",
       "    <tr>\n",
       "      <th>18</th>\n",
       "      <td>Lesotho</td>\n",
       "      <td>Maseru</td>\n",
       "      <td>30656833</td>\n",
       "      <td>{'type': 'Point', 'coordinates': (27.478222, -...</td>\n",
       "      <td>696</td>\n",
       "      <td>{'type': 'Polygon', 'coordinates': (((27.55791...</td>\n",
       "    </tr>\n",
       "    <tr>\n",
       "      <th>19</th>\n",
       "      <td>South Africa</td>\n",
       "      <td>Port Elizabeth</td>\n",
       "      <td>25470100</td>\n",
       "      <td>{'type': 'Point', 'coordinates': (25.6207519, ...</td>\n",
       "      <td>14</td>\n",
       "      <td>{'type': 'Polygon', 'coordinates': (((25.59124...</td>\n",
       "    </tr>\n",
       "    <tr>\n",
       "      <th>20</th>\n",
       "      <td>South Africa</td>\n",
       "      <td>Pretoria</td>\n",
       "      <td>25503669</td>\n",
       "      <td>{'type': 'Point', 'coordinates': (28.187944399...</td>\n",
       "      <td>880</td>\n",
       "      <td>{'type': 'Polygon', 'coordinates': (((28.24958...</td>\n",
       "    </tr>\n",
       "    <tr>\n",
       "      <th>21</th>\n",
       "      <td>South Africa</td>\n",
       "      <td>Roodepoort</td>\n",
       "      <td>26417322</td>\n",
       "      <td>{'type': 'Point', 'coordinates': (27.885833299...</td>\n",
       "      <td>704</td>\n",
       "      <td>{'type': 'Polygon', 'coordinates': (((28.39958...</td>\n",
       "    </tr>\n",
       "    <tr>\n",
       "      <th>22</th>\n",
       "      <td>South Africa</td>\n",
       "      <td>Bloemfontein</td>\n",
       "      <td>26938845</td>\n",
       "      <td>{'type': 'Point', 'coordinates': (26.215496, -...</td>\n",
       "      <td>312</td>\n",
       "      <td>{'type': 'Polygon', 'coordinates': (((26.15791...</td>\n",
       "    </tr>\n",
       "    <tr>\n",
       "      <th>23</th>\n",
       "      <td>South Africa</td>\n",
       "      <td>Durban</td>\n",
       "      <td>27564996</td>\n",
       "      <td>{'type': 'Point', 'coordinates': (31.009909000...</td>\n",
       "      <td>264</td>\n",
       "      <td>{'type': 'Polygon', 'coordinates': (((30.79958...</td>\n",
       "    </tr>\n",
       "    <tr>\n",
       "      <th>24</th>\n",
       "      <td>South Africa</td>\n",
       "      <td>Soweto</td>\n",
       "      <td>27565050</td>\n",
       "      <td>{'type': 'Point', 'coordinates': (27.89, -26.2...</td>\n",
       "      <td>704</td>\n",
       "      <td>{'type': 'Polygon', 'coordinates': (((28.39958...</td>\n",
       "    </tr>\n",
       "    <tr>\n",
       "      <th>25</th>\n",
       "      <td>South Africa</td>\n",
       "      <td>Secunda</td>\n",
       "      <td>28385456</td>\n",
       "      <td>{'type': 'Point', 'coordinates': (29.202778000...</td>\n",
       "      <td>643</td>\n",
       "      <td>{'type': 'Polygon', 'coordinates': (((29.21624...</td>\n",
       "    </tr>\n",
       "    <tr>\n",
       "      <th>26</th>\n",
       "      <td>South Africa</td>\n",
       "      <td>East London</td>\n",
       "      <td>30211383</td>\n",
       "      <td>{'type': 'Point', 'coordinates': (27.899857300...</td>\n",
       "      <td>101</td>\n",
       "      <td>{'type': 'Polygon', 'coordinates': (((27.94958...</td>\n",
       "    </tr>\n",
       "    <tr>\n",
       "      <th>27</th>\n",
       "      <td>South Africa</td>\n",
       "      <td>Pietermaritzburg</td>\n",
       "      <td>30211844</td>\n",
       "      <td>{'type': 'Point', 'coordinates': (30.378888899...</td>\n",
       "      <td>302</td>\n",
       "      <td>{'type': 'Polygon', 'coordinates': (((30.26624...</td>\n",
       "    </tr>\n",
       "    <tr>\n",
       "      <th>28</th>\n",
       "      <td>South Africa</td>\n",
       "      <td>Rustenburg</td>\n",
       "      <td>30391973</td>\n",
       "      <td>{'type': 'Point', 'coordinates': (27.241448, -...</td>\n",
       "      <td>947</td>\n",
       "      <td>{'type': 'Polygon', 'coordinates': (((27.24124...</td>\n",
       "    </tr>\n",
       "    <tr>\n",
       "      <th>29</th>\n",
       "      <td>South Africa</td>\n",
       "      <td>Newcastle</td>\n",
       "      <td>30670039</td>\n",
       "      <td>{'type': 'Point', 'coordinates': (29.923889000...</td>\n",
       "      <td>587</td>\n",
       "      <td>{'type': 'Polygon', 'coordinates': (((29.92458...</td>\n",
       "    </tr>\n",
       "    <tr>\n",
       "      <th>30</th>\n",
       "      <td>South Africa</td>\n",
       "      <td>Cape Town</td>\n",
       "      <td>32675806</td>\n",
       "      <td>{'type': 'Point', 'coordinates': (18.417396, -...</td>\n",
       "      <td>3</td>\n",
       "      <td>{'type': 'Polygon', 'coordinates': (((18.86624...</td>\n",
       "    </tr>\n",
       "    <tr>\n",
       "      <th>31</th>\n",
       "      <td>South Africa</td>\n",
       "      <td>Upington</td>\n",
       "      <td>33364951</td>\n",
       "      <td>{'type': 'Point', 'coordinates': (21.241867000...</td>\n",
       "      <td>420</td>\n",
       "      <td>{'type': 'Polygon', 'coordinates': (((21.26624...</td>\n",
       "    </tr>\n",
       "    <tr>\n",
       "      <th>32</th>\n",
       "      <td>South Africa</td>\n",
       "      <td>Vereeniging</td>\n",
       "      <td>35960525</td>\n",
       "      <td>{'type': 'Point', 'coordinates': (27.926111100...</td>\n",
       "      <td>625</td>\n",
       "      <td>{'type': 'Polygon', 'coordinates': (((27.87458...</td>\n",
       "    </tr>\n",
       "    <tr>\n",
       "      <th>33</th>\n",
       "      <td>South Africa</td>\n",
       "      <td>Ladysmith</td>\n",
       "      <td>51745922</td>\n",
       "      <td>{'type': 'Point', 'coordinates': (29.778333, -...</td>\n",
       "      <td>434</td>\n",
       "      <td>{'type': 'Polygon', 'coordinates': (((29.77458...</td>\n",
       "    </tr>\n",
       "    <tr>\n",
       "      <th>34</th>\n",
       "      <td>South Africa</td>\n",
       "      <td>Klerksdorp</td>\n",
       "      <td>59965613</td>\n",
       "      <td>{'type': 'Point', 'coordinates': (26.6656814, ...</td>\n",
       "      <td>599</td>\n",
       "      <td>{'type': 'Polygon', 'coordinates': (((26.69124...</td>\n",
       "    </tr>\n",
       "    <tr>\n",
       "      <th>35</th>\n",
       "      <td>South Africa</td>\n",
       "      <td>Krugersdorp</td>\n",
       "      <td>60034262</td>\n",
       "      <td>{'type': 'Point', 'coordinates': (27.775555999...</td>\n",
       "      <td>704</td>\n",
       "      <td>{'type': 'Polygon', 'coordinates': (((28.39958...</td>\n",
       "    </tr>\n",
       "    <tr>\n",
       "      <th>36</th>\n",
       "      <td>South Africa</td>\n",
       "      <td>Johannesburg</td>\n",
       "      <td>261833893</td>\n",
       "      <td>{'type': 'Point', 'coordinates': (28.049721999...</td>\n",
       "      <td>704</td>\n",
       "      <td>{'type': 'Polygon', 'coordinates': (((28.39958...</td>\n",
       "    </tr>\n",
       "    <tr>\n",
       "      <th>37</th>\n",
       "      <td>South Africa</td>\n",
       "      <td>Randburg</td>\n",
       "      <td>262721987</td>\n",
       "      <td>{'type': 'Point', 'coordinates': (27.975, -26....</td>\n",
       "      <td>704</td>\n",
       "      <td>{'type': 'Polygon', 'coordinates': (((28.39958...</td>\n",
       "    </tr>\n",
       "    <tr>\n",
       "      <th>38</th>\n",
       "      <td>South Africa</td>\n",
       "      <td>Tembisa</td>\n",
       "      <td>262722256</td>\n",
       "      <td>{'type': 'Point', 'coordinates': (28.2014478, ...</td>\n",
       "      <td>704</td>\n",
       "      <td>{'type': 'Polygon', 'coordinates': (((28.39958...</td>\n",
       "    </tr>\n",
       "    <tr>\n",
       "      <th>39</th>\n",
       "      <td>South Africa</td>\n",
       "      <td>Thaba Nchu</td>\n",
       "      <td>1375502866</td>\n",
       "      <td>{'type': 'Point', 'coordinates': (26.832217, -...</td>\n",
       "      <td>308</td>\n",
       "      <td>{'type': 'Polygon', 'coordinates': (((26.77458...</td>\n",
       "    </tr>\n",
       "    <tr>\n",
       "      <th>40</th>\n",
       "      <td>South Africa</td>\n",
       "      <td>Welkom</td>\n",
       "      <td>2269464860</td>\n",
       "      <td>{'type': 'Point', 'coordinates': (26.737969, -...</td>\n",
       "      <td>502</td>\n",
       "      <td>{'type': 'Polygon', 'coordinates': (((26.69124...</td>\n",
       "    </tr>\n",
       "    <tr>\n",
       "      <th>41</th>\n",
       "      <td>South Africa</td>\n",
       "      <td>Kimberley</td>\n",
       "      <td>3691546096</td>\n",
       "      <td>{'type': 'Point', 'coordinates': (24.7642251, ...</td>\n",
       "      <td>370</td>\n",
       "      <td>{'type': 'Polygon', 'coordinates': (((24.78291...</td>\n",
       "    </tr>\n",
       "    <tr>\n",
       "      <th>42</th>\n",
       "      <td>South Africa</td>\n",
       "      <td>Sandton</td>\n",
       "      <td>5283928101</td>\n",
       "      <td>{'type': 'Point', 'coordinates': (28.0545147, ...</td>\n",
       "      <td>704</td>\n",
       "      <td>{'type': 'Polygon', 'coordinates': (((28.39958...</td>\n",
       "    </tr>\n",
       "  </tbody>\n",
       "</table>\n",
       "</div>"
      ],
      "text/plain": [
       "               0                 1           2  \\\n",
       "0        Algeria        Tizi Ouzou   253292160   \n",
       "1        Algeria             Kouba   288387133   \n",
       "2        Algeria             Blida   288418022   \n",
       "3        Algeria            Béjaïa   291964314   \n",
       "4        Algeria             Alger   299617915   \n",
       "5        Algeria            Annaba   299618513   \n",
       "6        Algeria            Skikda   299692217   \n",
       "7        Algeria    Les Eucalyptus   316393181   \n",
       "8        Algeria             Jijel  1941427461   \n",
       "9        Tunisia              تونس    27564968   \n",
       "10       Tunisia             بنزرت   287544816   \n",
       "11       Tunisia           بن عروس   287550909   \n",
       "12       Tunisia            أريانة   287554239   \n",
       "13       Tunisia             قرطاج  1136727225   \n",
       "14       Tunisia   المدينة الجديدة  2573224812   \n",
       "15    Mozambique            Matola    27564983   \n",
       "16    Mozambique            Maputo    27565081   \n",
       "17      Botswana           Tsabong  2454873275   \n",
       "18       Lesotho            Maseru    30656833   \n",
       "19  South Africa    Port Elizabeth    25470100   \n",
       "20  South Africa          Pretoria    25503669   \n",
       "21  South Africa        Roodepoort    26417322   \n",
       "22  South Africa      Bloemfontein    26938845   \n",
       "23  South Africa            Durban    27564996   \n",
       "24  South Africa            Soweto    27565050   \n",
       "25  South Africa           Secunda    28385456   \n",
       "26  South Africa       East London    30211383   \n",
       "27  South Africa  Pietermaritzburg    30211844   \n",
       "28  South Africa        Rustenburg    30391973   \n",
       "29  South Africa         Newcastle    30670039   \n",
       "30  South Africa         Cape Town    32675806   \n",
       "31  South Africa          Upington    33364951   \n",
       "32  South Africa       Vereeniging    35960525   \n",
       "33  South Africa         Ladysmith    51745922   \n",
       "34  South Africa        Klerksdorp    59965613   \n",
       "35  South Africa       Krugersdorp    60034262   \n",
       "36  South Africa      Johannesburg   261833893   \n",
       "37  South Africa          Randburg   262721987   \n",
       "38  South Africa           Tembisa   262722256   \n",
       "39  South Africa        Thaba Nchu  1375502866   \n",
       "40  South Africa            Welkom  2269464860   \n",
       "41  South Africa         Kimberley  3691546096   \n",
       "42  South Africa           Sandton  5283928101   \n",
       "\n",
       "                                                    3    4  \\\n",
       "0   {'type': 'Point', 'coordinates': (4.0493919, 3...  469   \n",
       "1   {'type': 'Point', 'coordinates': (3.0861789, 3...  303   \n",
       "2   {'type': 'Point', 'coordinates': (2.8287985, 3...  303   \n",
       "3   {'type': 'Point', 'coordinates': (5.0647, 36.7...  416   \n",
       "4   {'type': 'Point', 'coordinates': (3.0600650000...  303   \n",
       "5   {'type': 'Point', 'coordinates': (7.7549272, 3...   91   \n",
       "6   {'type': 'Point', 'coordinates': (6.907485, 36...  146   \n",
       "7   {'type': 'Point', 'coordinates': (3.1472616, 3...  303   \n",
       "8   {'type': 'Point', 'coordinates': (5.7714940000...  284   \n",
       "9   {'type': 'Point', 'coordinates': (10.184794, 3...   95   \n",
       "10  {'type': 'Point', 'coordinates': (9.8713664999...    2   \n",
       "11  {'type': 'Point', 'coordinates': (10.220146000...   95   \n",
       "12  {'type': 'Point', 'coordinates': (10.190973, 3...   95   \n",
       "13  {'type': 'Point', 'coordinates': (10.330441, 3...   95   \n",
       "14  {'type': 'Point', 'coordinates': (10.2507204, ...   95   \n",
       "15  {'type': 'Point', 'coordinates': (32.466956, -...  780   \n",
       "16  {'type': 'Point', 'coordinates': (32.56745, -2...  780   \n",
       "17  {'type': 'Point', 'coordinates': (22.401006, -...  816   \n",
       "18  {'type': 'Point', 'coordinates': (27.478222, -...  696   \n",
       "19  {'type': 'Point', 'coordinates': (25.6207519, ...   14   \n",
       "20  {'type': 'Point', 'coordinates': (28.187944399...  880   \n",
       "21  {'type': 'Point', 'coordinates': (27.885833299...  704   \n",
       "22  {'type': 'Point', 'coordinates': (26.215496, -...  312   \n",
       "23  {'type': 'Point', 'coordinates': (31.009909000...  264   \n",
       "24  {'type': 'Point', 'coordinates': (27.89, -26.2...  704   \n",
       "25  {'type': 'Point', 'coordinates': (29.202778000...  643   \n",
       "26  {'type': 'Point', 'coordinates': (27.899857300...  101   \n",
       "27  {'type': 'Point', 'coordinates': (30.378888899...  302   \n",
       "28  {'type': 'Point', 'coordinates': (27.241448, -...  947   \n",
       "29  {'type': 'Point', 'coordinates': (29.923889000...  587   \n",
       "30  {'type': 'Point', 'coordinates': (18.417396, -...    3   \n",
       "31  {'type': 'Point', 'coordinates': (21.241867000...  420   \n",
       "32  {'type': 'Point', 'coordinates': (27.926111100...  625   \n",
       "33  {'type': 'Point', 'coordinates': (29.778333, -...  434   \n",
       "34  {'type': 'Point', 'coordinates': (26.6656814, ...  599   \n",
       "35  {'type': 'Point', 'coordinates': (27.775555999...  704   \n",
       "36  {'type': 'Point', 'coordinates': (28.049721999...  704   \n",
       "37  {'type': 'Point', 'coordinates': (27.975, -26....  704   \n",
       "38  {'type': 'Point', 'coordinates': (28.2014478, ...  704   \n",
       "39  {'type': 'Point', 'coordinates': (26.832217, -...  308   \n",
       "40  {'type': 'Point', 'coordinates': (26.737969, -...  502   \n",
       "41  {'type': 'Point', 'coordinates': (24.7642251, ...  370   \n",
       "42  {'type': 'Point', 'coordinates': (28.0545147, ...  704   \n",
       "\n",
       "                                                    5  \n",
       "0   {'type': 'Polygon', 'coordinates': (((3.966249...  \n",
       "1   {'type': 'Polygon', 'coordinates': (((3.007916...  \n",
       "2   {'type': 'Polygon', 'coordinates': (((3.007916...  \n",
       "3   {'type': 'Polygon', 'coordinates': (((5.016249...  \n",
       "4   {'type': 'Polygon', 'coordinates': (((3.007916...  \n",
       "5   {'type': 'Polygon', 'coordinates': (((7.774583...  \n",
       "6   {'type': 'Polygon', 'coordinates': (((6.874583...  \n",
       "7   {'type': 'Polygon', 'coordinates': (((3.007916...  \n",
       "8   {'type': 'Polygon', 'coordinates': (((5.741249...  \n",
       "9   {'type': 'Polygon', 'coordinates': (((10.19124...  \n",
       "10  {'type': 'Polygon', 'coordinates': (((9.849583...  \n",
       "11  {'type': 'Polygon', 'coordinates': (((10.19124...  \n",
       "12  {'type': 'Polygon', 'coordinates': (((10.19124...  \n",
       "13  {'type': 'Polygon', 'coordinates': (((10.19124...  \n",
       "14  {'type': 'Polygon', 'coordinates': (((10.19124...  \n",
       "15  {'type': 'Polygon', 'coordinates': (((32.49124...  \n",
       "16  {'type': 'Polygon', 'coordinates': (((32.49124...  \n",
       "17  {'type': 'Polygon', 'coordinates': (((22.39958...  \n",
       "18  {'type': 'Polygon', 'coordinates': (((27.55791...  \n",
       "19  {'type': 'Polygon', 'coordinates': (((25.59124...  \n",
       "20  {'type': 'Polygon', 'coordinates': (((28.24958...  \n",
       "21  {'type': 'Polygon', 'coordinates': (((28.39958...  \n",
       "22  {'type': 'Polygon', 'coordinates': (((26.15791...  \n",
       "23  {'type': 'Polygon', 'coordinates': (((30.79958...  \n",
       "24  {'type': 'Polygon', 'coordinates': (((28.39958...  \n",
       "25  {'type': 'Polygon', 'coordinates': (((29.21624...  \n",
       "26  {'type': 'Polygon', 'coordinates': (((27.94958...  \n",
       "27  {'type': 'Polygon', 'coordinates': (((30.26624...  \n",
       "28  {'type': 'Polygon', 'coordinates': (((27.24124...  \n",
       "29  {'type': 'Polygon', 'coordinates': (((29.92458...  \n",
       "30  {'type': 'Polygon', 'coordinates': (((18.86624...  \n",
       "31  {'type': 'Polygon', 'coordinates': (((21.26624...  \n",
       "32  {'type': 'Polygon', 'coordinates': (((27.87458...  \n",
       "33  {'type': 'Polygon', 'coordinates': (((29.77458...  \n",
       "34  {'type': 'Polygon', 'coordinates': (((26.69124...  \n",
       "35  {'type': 'Polygon', 'coordinates': (((28.39958...  \n",
       "36  {'type': 'Polygon', 'coordinates': (((28.39958...  \n",
       "37  {'type': 'Polygon', 'coordinates': (((28.39958...  \n",
       "38  {'type': 'Polygon', 'coordinates': (((28.39958...  \n",
       "39  {'type': 'Polygon', 'coordinates': (((26.77458...  \n",
       "40  {'type': 'Polygon', 'coordinates': (((26.69124...  \n",
       "41  {'type': 'Polygon', 'coordinates': (((24.78291...  \n",
       "42  {'type': 'Polygon', 'coordinates': (((28.39958...  "
      ]
     },
     "execution_count": 60,
     "metadata": {},
     "output_type": "execute_result"
    }
   ],
   "source": [
    "# Can convert back to dataframe if needed ... \n",
    "\n",
    "coords_arr = np.array(test)\n",
    "coords_arr\n",
    "\n",
    "# Try to make it into a dataframe\n",
    "test_df = pd.DataFrame(data=coords_arr)\n",
    "test_df"
   ]
  },
  {
   "cell_type": "code",
   "execution_count": 42,
   "metadata": {},
   "outputs": [],
   "source": [
    "test_df.to_csv(outfilepath+\"20181113_polypoints_cities_africa.csv\")"
   ]
  },
  {
   "cell_type": "markdown",
   "metadata": {},
   "source": [
    "### The cell below this works ... makes a shapefile "
   ]
  },
  {
   "cell_type": "code",
   "execution_count": null,
   "metadata": {},
   "outputs": [],
   "source": [
    "# Explort it as a shape file\n",
    "# careful with the file path ... this is going to my notebooks folder right now\n",
    "# newer_pdf.to_file('worldpop_2000_test.shp', driver='ESRI Shapefile')"
   ]
  },
  {
   "cell_type": "code",
   "execution_count": null,
   "metadata": {},
   "outputs": [],
   "source": [
    "# Let's see if I can find zonal stats"
   ]
  },
  {
   "cell_type": "code",
   "execution_count": null,
   "metadata": {},
   "outputs": [],
   "source": [
    "# https://automating-gis-processes.github.io/CSC18/lessons/L6/zonal-statistics.html\n",
    "\n",
    "from rasterstats import zonal_stats"
   ]
  },
  {
   "cell_type": "code",
   "execution_count": null,
   "metadata": {},
   "outputs": [],
   "source": [
    "# Need to figure out how to turn geo pandas back into a geojson dict\n",
    "with fiona.open(\"worldpop_2000_test.shp\", \"r\") as shapefile:                                #<--- Need to figure out how to get the geometry from shp file directly \n",
    "    features = [feature[\"geometry\"] for feature in shapefile]\n",
    "\n",
    "with rasterio.open(filepath+\"AFR_PPP_2000_adj_v2.tif\") as src:                        #<--- Need to figure out how to get it not to write to a file, but just store in memory at this point\n",
    "    out_image, out_transform = rasterio.mask.mask(src, features, crop=True)\n",
    "    out_meta = src.meta.copy()\n",
    "\n",
    "out_meta.update({\"driver\": \"GTiff\",\n",
    "                 \"height\": out_image.shape[1],\n",
    "                 \"width\": out_image.shape[2],\n",
    "                 \"transform\": out_transform})\n",
    "with rasterio.open(filepath+\"AFR_PPP_2000_adj_MASK.tif\", \"w\", **out_meta) as dest:\n",
    "    dest.write(out_image) \n"
   ]
  },
  {
   "cell_type": "code",
   "execution_count": null,
   "metadata": {},
   "outputs": [],
   "source": [
    "mask_test_2000 = rasterio.open(filepath+'AFR_PPP_2000_adj_MASK.tif')\n",
    "plot.show(mask_test_2000)"
   ]
  },
  {
   "cell_type": "code",
   "execution_count": null,
   "metadata": {},
   "outputs": [],
   "source": [
    "np.unique(mask_test_2000.read(1))"
   ]
  },
  {
   "cell_type": "code",
   "execution_count": null,
   "metadata": {},
   "outputs": [],
   "source": []
  },
  {
   "cell_type": "code",
   "execution_count": null,
   "metadata": {},
   "outputs": [],
   "source": []
  },
  {
   "cell_type": "code",
   "execution_count": null,
   "metadata": {},
   "outputs": [],
   "source": []
  },
  {
   "cell_type": "code",
   "execution_count": null,
   "metadata": {},
   "outputs": [],
   "source": []
  },
  {
   "cell_type": "code",
   "execution_count": null,
   "metadata": {},
   "outputs": [],
   "source": []
  },
  {
   "cell_type": "code",
   "execution_count": null,
   "metadata": {},
   "outputs": [],
   "source": []
  },
  {
   "cell_type": "code",
   "execution_count": null,
   "metadata": {},
   "outputs": [],
   "source": []
  },
  {
   "cell_type": "code",
   "execution_count": null,
   "metadata": {},
   "outputs": [],
   "source": []
  },
  {
   "cell_type": "code",
   "execution_count": null,
   "metadata": {},
   "outputs": [],
   "source": []
  },
  {
   "cell_type": "code",
   "execution_count": null,
   "metadata": {},
   "outputs": [],
   "source": []
  },
  {
   "cell_type": "code",
   "execution_count": null,
   "metadata": {},
   "outputs": [],
   "source": []
  },
  {
   "cell_type": "code",
   "execution_count": null,
   "metadata": {},
   "outputs": [],
   "source": []
  },
  {
   "cell_type": "code",
   "execution_count": null,
   "metadata": {},
   "outputs": [],
   "source": [
    "# from shapely.geometry import shape\n",
    "\n",
    "# test = shape(geom)\n",
    "# type(test)"
   ]
  },
  {
   "cell_type": "code",
   "execution_count": null,
   "metadata": {},
   "outputs": [],
   "source": [
    "# get it into a geopandas DF for explore\n",
    "import geopandas as gp\n",
    "geom_gdf = gp.GeoDataFrame.from_records(geom)\n",
    "type(geom_gdf)"
   ]
  },
  {
   "cell_type": "code",
   "execution_count": null,
   "metadata": {},
   "outputs": [],
   "source": [
    "# check it \n",
    "geom_gdf.head(2)"
   ]
  },
  {
   "cell_type": "code",
   "execution_count": null,
   "metadata": {},
   "outputs": [],
   "source": [
    "geom_gdf[type=='Polygon'] = 'POLYGON '\n",
    "geom_gdf.head(2)"
   ]
  },
  {
   "cell_type": "code",
   "execution_count": null,
   "metadata": {},
   "outputs": [],
   "source": [
    "geom_gdf['geometry']=geom_gdf['False'].astype(str)+geom_gdf['coordinates'].astype(str)"
   ]
  },
  {
   "cell_type": "code",
   "execution_count": null,
   "metadata": {},
   "outputs": [],
   "source": [
    "geom_gdf.head(6)"
   ]
  },
  {
   "cell_type": "code",
   "execution_count": null,
   "metadata": {},
   "outputs": [],
   "source": []
  },
  {
   "cell_type": "code",
   "execution_count": null,
   "metadata": {},
   "outputs": [],
   "source": [
    "test = gp.GeoDataFrame(geom_gdf['geometry'])\n",
    "test.head(6)"
   ]
  },
  {
   "cell_type": "code",
   "execution_count": null,
   "metadata": {},
   "outputs": [],
   "source": [
    "# try to write it as a shape file\n",
    "test.to_file('worldpop_2000_test.shp', driver='ESRI Shapefile')"
   ]
  },
  {
   "cell_type": "code",
   "execution_count": null,
   "metadata": {},
   "outputs": [],
   "source": [
    "type(dst)"
   ]
  },
  {
   "cell_type": "code",
   "execution_count": null,
   "metadata": {},
   "outputs": [],
   "source": [
    "dir(africa1k_2000_poly)"
   ]
  },
  {
   "cell_type": "code",
   "execution_count": null,
   "metadata": {},
   "outputs": [],
   "source": [
    "test = rasterio.features.dataset_features(africa1k_2000_poly)\n",
    "\n",
    "\n",
    "\n",
    "\n",
    "\n"
   ]
  },
  {
   "cell_type": "code",
   "execution_count": null,
   "metadata": {},
   "outputs": [],
   "source": [
    "type(test)"
   ]
  },
  {
   "cell_type": "code",
   "execution_count": null,
   "metadata": {},
   "outputs": [],
   "source": []
  },
  {
   "cell_type": "code",
   "execution_count": null,
   "metadata": {},
   "outputs": [],
   "source": []
  },
  {
   "cell_type": "code",
   "execution_count": null,
   "metadata": {},
   "outputs": [],
   "source": []
  },
  {
   "cell_type": "code",
   "execution_count": null,
   "metadata": {},
   "outputs": [],
   "source": []
  },
  {
   "cell_type": "code",
   "execution_count": null,
   "metadata": {},
   "outputs": [],
   "source": []
  },
  {
   "cell_type": "code",
   "execution_count": null,
   "metadata": {},
   "outputs": [],
   "source": []
  },
  {
   "cell_type": "code",
   "execution_count": null,
   "metadata": {},
   "outputs": [],
   "source": []
  },
  {
   "cell_type": "code",
   "execution_count": null,
   "metadata": {},
   "outputs": [],
   "source": []
  },
  {
   "cell_type": "code",
   "execution_count": null,
   "metadata": {},
   "outputs": [],
   "source": []
  },
  {
   "cell_type": "code",
   "execution_count": null,
   "metadata": {},
   "outputs": [],
   "source": []
  },
  {
   "cell_type": "code",
   "execution_count": null,
   "metadata": {},
   "outputs": [],
   "source": []
  },
  {
   "cell_type": "code",
   "execution_count": null,
   "metadata": {},
   "outputs": [],
   "source": []
  },
  {
   "cell_type": "code",
   "execution_count": null,
   "metadata": {},
   "outputs": [],
   "source": []
  },
  {
   "cell_type": "code",
   "execution_count": null,
   "metadata": {},
   "outputs": [],
   "source": []
  },
  {
   "cell_type": "code",
   "execution_count": null,
   "metadata": {},
   "outputs": [],
   "source": []
  },
  {
   "cell_type": "code",
   "execution_count": null,
   "metadata": {},
   "outputs": [],
   "source": []
  },
  {
   "cell_type": "code",
   "execution_count": null,
   "metadata": {},
   "outputs": [],
   "source": [
    "# ask Kelly about what to do with the nodata values messing everything up \n",
    "ghana100m_2010 = rasterio.open(filepath+\"GHA10_040213.tif\")\n",
    "ghana100m_2010.meta"
   ]
  },
  {
   "cell_type": "code",
   "execution_count": null,
   "metadata": {},
   "outputs": [],
   "source": [
    "plot.show(ghana100m_2010)"
   ]
  },
  {
   "cell_type": "code",
   "execution_count": null,
   "metadata": {},
   "outputs": [],
   "source": [
    "ghana100m_2010_arr = ghana100m_2010.read_band(1)"
   ]
  },
  {
   "cell_type": "code",
   "execution_count": null,
   "metadata": {},
   "outputs": [],
   "source": [
    "# check data range\n",
    "np.unique(ghana100m_2010_arr)"
   ]
  },
  {
   "cell_type": "code",
   "execution_count": null,
   "metadata": {},
   "outputs": [],
   "source": [
    "# Zoom into a subset\n",
    "#window = rasterio.windows.Window(1024, 1024, 1280, 2560)\n",
    "\n",
    "subset = ghana100m_2010.read(1, window=((7000, 7200), (2700, 3300)))\n",
    "\n",
    "plt.figure(figsize=(6,8.5))\n",
    "plt.imshow(subset)\n",
    "plt.colorbar(shrink=0.5)\n",
    "#plt.title(f'Band 4 Subset\\n{window}')\n",
    "plt.xlabel('Column #')\n",
    "plt.ylabel('Row #')"
   ]
  },
  {
   "cell_type": "code",
   "execution_count": null,
   "metadata": {},
   "outputs": [],
   "source": [
    "type(subset)"
   ]
  },
  {
   "cell_type": "code",
   "execution_count": null,
   "metadata": {},
   "outputs": [],
   "source": [
    "plt.hist(subset, range = [0,100])\n",
    "plt.show()"
   ]
  },
  {
   "cell_type": "code",
   "execution_count": null,
   "metadata": {},
   "outputs": [],
   "source": [
    "import copy\n",
    "\n",
    "subset_copy = copy.copy(subset)\n",
    "subset_copy[subset<1] = 0"
   ]
  },
  {
   "cell_type": "code",
   "execution_count": null,
   "metadata": {},
   "outputs": [],
   "source": [
    "plt.figure(figsize=(6,8.5))\n",
    "plt.imshow(subset_copy)\n",
    "plt.colorbar(shrink=0.5)\n",
    "plt.xlabel('Column #')\n",
    "plt.ylabel('Row #')"
   ]
  },
  {
   "cell_type": "code",
   "execution_count": null,
   "metadata": {},
   "outputs": [],
   "source": [
    "plt.hist(subset_copy)\n",
    "plt.show()"
   ]
  },
  {
   "cell_type": "code",
   "execution_count": null,
   "metadata": {},
   "outputs": [],
   "source": [
    "test = rasterio.open(filepath+\"GHA10_040213.tif\")"
   ]
  },
  {
   "cell_type": "code",
   "execution_count": null,
   "metadata": {},
   "outputs": [],
   "source": [
    "test.mask"
   ]
  },
  {
   "cell_type": "code",
   "execution_count": null,
   "metadata": {},
   "outputs": [],
   "source": [
    "type(test_band)"
   ]
  },
  {
   "cell_type": "code",
   "execution_count": null,
   "metadata": {},
   "outputs": [],
   "source": [
    "from rasterio.features import shapes\n",
    "mask = None\n",
    "with rasterio.drivers():\n",
    "    with rasterio.open(filepath+\"GHA10_040213.tif\", window = ((7000, 7200), (2700, 3300))) as src:\n",
    "        image = src.read(1) # first band\n",
    "        results = (\n",
    "        {'properties': {'raster_val': v}, 'geometry': s}\n",
    "        for i, (s, v) \n",
    "        in enumerate(\n",
    "            shapes(image, mask=mask, transform=src.affine)))"
   ]
  },
  {
   "cell_type": "code",
   "execution_count": null,
   "metadata": {},
   "outputs": [],
   "source": [
    "geoms = list(results)"
   ]
  },
  {
   "cell_type": "code",
   "execution_count": null,
   "metadata": {},
   "outputs": [],
   "source": [
    "print(geoms[4])"
   ]
  },
  {
   "cell_type": "code",
   "execution_count": null,
   "metadata": {},
   "outputs": [],
   "source": [
    "import geopandas as gp\n",
    "gpd_polygonized_raster  = gp.GeoDataFrame.from_features(geoms)"
   ]
  },
  {
   "cell_type": "code",
   "execution_count": null,
   "metadata": {},
   "outputs": [],
   "source": [
    "gpd_polygonized_raster"
   ]
  },
  {
   "cell_type": "markdown",
   "metadata": {},
   "source": [
    "# OLD CODE"
   ]
  },
  {
   "cell_type": "code",
   "execution_count": null,
   "metadata": {},
   "outputs": [],
   "source": [
    "# Sanity check on number of polygons \n",
    "# from skimage import measvure\n",
    "# label_test = measure.label(mask_dilated, background=0, return_num=True)\n",
    "# label_test_arr = label_test[0]\n",
    "# label_test_num = label_test[1] # 96 polygons\n",
    "# label_test_num"
   ]
  },
  {
   "cell_type": "code",
   "execution_count": null,
   "metadata": {},
   "outputs": [],
   "source": [
    "# test_point = osm_gdf.iloc[4]['geometry']\n",
    "# test_poly = poly_geo_df.iloc[0]['geometry']\n",
    "# print(test_poly.contains(test_point))\n",
    "# print(test_point.within(test_poly))"
   ]
  },
  {
   "cell_type": "code",
   "execution_count": null,
   "metadata": {},
   "outputs": [],
   "source": [
    "# test if point is inside poly\n",
    "checkpoint = time.time()\n",
    "\n",
    "test_point = osm_gdf.iloc[30]['geometry']\n",
    "test_poly = poly_geo_df.iloc[2]['geometry']\n",
    "print(test_poly.contains(test_point))\n",
    "print(test_point.within(test_poly))\n",
    "print(test_poly)\n",
    "print(test_point)`"
   ]
  },
  {
   "cell_type": "code",
   "execution_count": null,
   "metadata": {},
   "outputs": [],
   "source": [
    "# Sanity check on number of polygons \n",
    "from skimage import measure\n",
    "label_test = measure.label(new_mask, background=0, \n",
    "                           connectivity = 2, # diagonal connect\n",
    "                           #neighbors = 8,\n",
    "                           return_num=True)\n",
    "label_test_arr = label_test[0]\n",
    "label_test_num = label_test[1] # 96 polygons\n",
    "\n",
    "# no connectivity change 38377"
   ]
  }
 ],
 "metadata": {
  "kernelspec": {
   "display_name": "Python [conda root]",
   "language": "python",
   "name": "conda-root-py"
  },
  "language_info": {
   "codemirror_mode": {
    "name": "ipython",
    "version": 3
   },
   "file_extension": ".py",
   "mimetype": "text/x-python",
   "name": "python",
   "nbconvert_exporter": "python",
   "pygments_lexer": "ipython3",
   "version": "3.6.4"
  }
 },
 "nbformat": 4,
 "nbformat_minor": 2
}
