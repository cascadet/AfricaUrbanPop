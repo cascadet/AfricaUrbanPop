{
 "cells": [
  {
   "cell_type": "markdown",
   "metadata": {},
   "source": [
    "### Raster Data to Explore\n",
    "    Landscan\n",
    "    Worldpop\n",
    "    NTL - DMSP & VIIRS\n",
    "    Africapolic \n",
    "    EU Human Settlement Layer\n",
    "    MODIS built layer\n",
    "    Facebook Human Settlement\n",
    "    GRUMP\n",
    "    \n",
    "### Define Urban Density\n",
    "    Go w/ former US Census threshold of >= 1000 ppl per sq mile\n",
    "    https://www2.census.gov/geo/pdfs/reference/GARM/Ch12GARM.pdf\n",
    "    \n",
    "    http://blogs.worldbank.org/sustainablecities/what-does-urban-mean"
   ]
  },
  {
   "cell_type": "markdown",
   "metadata": {},
   "source": [
    "# Raster Mask\n",
    "\n",
    "This notebook contains analysis and visualizations for:\n",
    "\n",
    "1. Loading a geotiff file into python \n",
    "2. Masking rasters at set thresholds \n",
    "\n",
    "Updated: 2018-11-21"
   ]
  },
  {
   "cell_type": "code",
   "execution_count": 3,
   "metadata": {},
   "outputs": [],
   "source": [
    "import os\n",
    "import matplotlib.pyplot as plt\n",
    "import rasterio\n",
    "from rasterio import plot\n",
    "from rasterio.mask import mask\n",
    "import pandas as pd\n",
    "import geopandas as gpd\n",
    "import fiona\n",
    "import rasterio\n",
    "import numpy as np\n",
    "import skimage.io as skio\n",
    "import time\n",
    "import copy"
   ]
  },
  {
   "cell_type": "markdown",
   "metadata": {},
   "source": [
    "# Step 1 - Input file\n",
    "\n",
    "    - Becomes a rasterio object, check meta data \n",
    "    - Bands are numpy arrays"
   ]
  },
  {
   "cell_type": "code",
   "execution_count": 10,
   "metadata": {},
   "outputs": [],
   "source": [
    "# will build out folders later\n",
    "\n",
    "# data folder git will ignore\n",
    "# infilepath = \"/home/cascade/tana-crunch-cascade/projects/NTL/data/\" # git will ignore\n",
    "# outfilepath = \"/home/cascade/tana-crunch-cascade/projects/NTL/temp_data/\" # git will not ignore - NO BIG FILES \n",
    "\n",
    "# Local computer \n",
    "infilepath = '/Users/cascade/Github/NTL/data/raw/worldpop/Africa-1km-Population/'\n",
    "outfilepath = '/Users/cascade/Github/NTL/temp_data/'"
   ]
  },
  {
   "cell_type": "code",
   "execution_count": 11,
   "metadata": {},
   "outputs": [
    {
     "name": "stdout",
     "output_type": "stream",
     "text": [
      "{'driver': 'GTiff', 'dtype': 'float32', 'nodata': -3.4028234663852886e+38, 'width': 12575, 'height': 11161, 'count': 1, 'crs': CRS({'init': 'epsg:4326'}), 'transform': Affine(0.00833333329999305, 0.0, -33.3254172868223,\n",
      "       0.0, -0.00833333329999305, 41.791250202105076)}\n",
      "{'driver': 'GTiff', 'dtype': 'float32', 'nodata': -3.4028234663852886e+38, 'width': 12575, 'height': 11161, 'count': 1, 'crs': CRS({'init': 'epsg:4326'}), 'transform': Affine(0.00833333329999305, 0.0, -33.3254172868223,\n",
      "       0.0, -0.00833333329999305, 41.791250202105076)}\n"
     ]
    }
   ],
   "source": [
    "# Need to build function to loop through files\n",
    "\n",
    "africa1k_2000 = rasterio.open(infilepath+\"AFR_PPP_2000_adj_v2.tif\") #<----- changes to 2020 18/13/11 @ 2pm \n",
    "print(africa1k_2000.meta)\n",
    "\n",
    "africa1k_2020 = rasterio.open(infilepath+\"AFR_PPP_2020_adj_v2.tif\") #<----- changes to 2020 18/13/11 @ 2pm \n",
    "print(africa1k_2000.meta)"
   ]
  },
  {
   "cell_type": "markdown",
   "metadata": {},
   "source": [
    "# Step 2 - Make a mask"
   ]
  },
  {
   "cell_type": "code",
   "execution_count": 5,
   "metadata": {},
   "outputs": [
    {
     "name": "stdout",
     "output_type": "stream",
     "text": [
      "386.1003861003861\n"
     ]
    }
   ],
   "source": [
    "# Set density\n",
    "# https://www2.census.gov/geo/pdfs/reference/ua/Defining_Rural.pdf\n",
    "\n",
    "density = 1000/ 2.59 #density per sq km from sq mi\n",
    "print(density)"
   ]
  },
  {
   "cell_type": "code",
   "execution_count": 19,
   "metadata": {
    "scrolled": true
   },
   "outputs": [],
   "source": [
    "# Let's try to make the mask directy with rasterio\n",
    "\n",
    "def raster_mask(raster, band, density):\n",
    "    \"\"\"Fucntion makes numpy array for of raster then applies mask.\n",
    "    requires rasterio object, band number, and density as float on int \n",
    "    returns dict of polygons and numpy mask\n",
    "    \"\"\"\n",
    "\n",
    "    mask = raster.read(band)\n",
    "    mask[mask < density] = 0 # mask as zeros \n",
    "    mask[mask >= density] = 1 \n",
    "    \n",
    "    # Extract feature shapes and values from the array.\n",
    "    for geom, val in rasterio.features.shapes(mask, transform=raster.transform):\n",
    "        \n",
    "        # Transform shapes from the dataset's own coordinate\n",
    "        # reference system to CRS84 (EPSG:4326).\n",
    "        geom = rasterio.warp.transform_geom(raster.crs, 'EPSG:4326', geom, precision=6) # WGS84 (EPSG 4326)\n",
    "    \n",
    "    return mask, geom"
   ]
  },
  {
   "cell_type": "code",
   "execution_count": null,
   "metadata": {},
   "outputs": [],
   "source": [
    "mask, geom = raster_mask(africa1k_2000, 1, 600) "
   ]
  },
  {
   "cell_type": "markdown",
   "metadata": {},
   "source": [
    "### to Cell write out mask as geotiff "
   ]
  },
  {
   "cell_type": "code",
   "execution_count": null,
   "metadata": {},
   "outputs": [],
   "source": [
    "# kwargs = africa1k_2000.meta\n",
    "# kwargs.update(dtype=rasterio.float32, count = 1)\n",
    "\n",
    "# with rasterio.open(infilepath+'africa1k_2020_mask600.tif', 'w', **kwargs) as dst:\n",
    "#         dst.write_band(1, new_mask.astype(rasterio.float32))\n"
   ]
  },
  {
   "cell_type": "markdown",
   "metadata": {},
   "source": [
    "# Step 3 - Make Polygons"
   ]
  },
  {
   "cell_type": "code",
   "execution_count": null,
   "metadata": {},
   "outputs": [],
   "source": [
    "from rasterio import features as features\n",
    "\n",
    "with rasterio.open(infilepath+'africa1k_2020_mask600.tif') as dataset:\n",
    "\n",
    "    # Read the dataset's valid data mask as a ndarray.\n",
    "    mask = dataset.read(1)\n",
    "\n",
    "    # Extract feature shapes and values from the array.\n",
    "    for geom, val in rasterio.features.shapes(\n",
    "            mask, transform=dataset.transform):\n",
    "\n",
    "        # Transform shapes from the dataset's own coordinate\n",
    "        # reference system to CRS84 (EPSG:4326).\n",
    "        geom = rasterio.warp.transform_geom(\n",
    "            dataset.crs, 'EPSG:4326', geom, precision=6) # WGS84 (EPSG 4326)\n",
    "\n",
    "print(\"elapsed time is: {}s\".format(time.time()-checkpoint))"
   ]
  },
  {
   "cell_type": "markdown",
   "metadata": {},
   "source": [
    "Don't need to write outfile as shapes ... can do is-inside script without making shape\n",
    "But write it out so you don't have to keep rerunning the above code block"
   ]
  },
  {
   "cell_type": "code",
   "execution_count": null,
   "metadata": {},
   "outputs": [],
   "source": [
    "# import json\n",
    "\n",
    "# with open(outfilepath+'WP2000_mask600_poly.json', 'w') as fp:\n",
    "#      json.dump(geom, fp)"
   ]
  },
  {
   "cell_type": "code",
   "execution_count": null,
   "metadata": {},
   "outputs": [],
   "source": [
    "# Sanity check\n",
    "print(len(geom['coordinates']))\n",
    "print(geom.keys())"
   ]
  },
  {
   "cell_type": "code",
   "execution_count": null,
   "metadata": {},
   "outputs": [],
   "source": [
    "# Turn rasterio geom dict into a polygon\n",
    "\n",
    "from shapely.geometry import Polygon\n",
    "\n",
    "def build_poly_df(geom):\n",
    "    \"\"\"\n",
    "    This function makes polygons from rasterio geom dict\n",
    "    \"\"\"\n",
    "    \n",
    "    # turn dict into normal data frame\n",
    "    Polygon(geom['coordinates'][0])\n",
    "    geo_df = gpd.GeoDataFrame()\n",
    "    for i, poly in enumerate(geom['coordinates']):\n",
    "        geo_df.loc[i,'geometry']= Polygon(poly)\n",
    "    return geo_df"
   ]
  },
  {
   "cell_type": "code",
   "execution_count": null,
   "metadata": {},
   "outputs": [],
   "source": [
    "poly_geo_df = build_poly_df(geom)"
   ]
  },
  {
   "cell_type": "code",
   "execution_count": null,
   "metadata": {},
   "outputs": [],
   "source": [
    "poly_geo_df.head(6)"
   ]
  },
  {
   "cell_type": "code",
   "execution_count": null,
   "metadata": {},
   "outputs": [],
   "source": [
    "poly_geo_df.shape"
   ]
  },
  {
   "cell_type": "markdown",
   "metadata": {},
   "source": [
    "#### I think I need to drop the first row because it's the footprint of the raster"
   ]
  },
  {
   "cell_type": "code",
   "execution_count": null,
   "metadata": {},
   "outputs": [],
   "source": [
    "poly_geo_df_copy = copy.deepcopy(poly_geo_df)"
   ]
  },
  {
   "cell_type": "code",
   "execution_count": null,
   "metadata": {},
   "outputs": [],
   "source": [
    "# I think I need to drop the first row because it's the footprint of the raster\n",
    "poly_geo_df_copy = poly_geo_df_copy.drop(poly_geo_df_copy.index[0], axis = 0)"
   ]
  },
  {
   "cell_type": "code",
   "execution_count": null,
   "metadata": {},
   "outputs": [],
   "source": [
    "poly_geo_df_copy.shape"
   ]
  },
  {
   "cell_type": "code",
   "execution_count": null,
   "metadata": {},
   "outputs": [],
   "source": [
    "# write out polygons from mask 600 on WorldPop Africa 1km year 2000 \n",
    "\n",
    "poly_geo_df_copy.to_csv(outfilepath+\"20181113_poly_cities_africa2020mask600.csv\")"
   ]
  },
  {
   "cell_type": "markdown",
   "metadata": {},
   "source": [
    "### Pull in OSM cities and turn into geo data frame"
   ]
  },
  {
   "cell_type": "code",
   "execution_count": null,
   "metadata": {},
   "outputs": [],
   "source": [
    "import pandas as pd\n",
    "from shapely.geometry import Point\n",
    "\n",
    "osm_df = pd.read_csv(outfilepath+'africa_cities.csv')\n",
    "\n",
    "# creating a geometry column \n",
    "geometry = [Point(xy) for xy in zip(osm_df['lon'], osm_df['lat'])]\n",
    "\n",
    "# Coordinate reference system : WGS84\n",
    "crs = {'init': 'epsg:4326'}\n",
    "\n",
    "# Creating a Geographic data frame \n",
    "osm_gdf = gpd.GeoDataFrame(osm_df, crs=crs, geometry=geometry)"
   ]
  },
  {
   "cell_type": "code",
   "execution_count": null,
   "metadata": {},
   "outputs": [],
   "source": [
    "# building a function to check if points are in poly for lists of poly and points\n",
    "# needs geopandas data frame with point and poly geometry \n",
    "\n",
    "from shapely.geometry import mapping\n",
    "\n",
    "def poly_point (poly, point):\n",
    "    \"\"\"\n",
    "    This function will check if points are inside polygons if given two gpds with points and polygons\n",
    "    Returns city names or no list \n",
    "    \"\"\"\n",
    "    \n",
    "    out_arr = [] #return an array <<< ---------------- ASK RYAN IF BETTER DO USE DICT \n",
    "    \n",
    "    for index_point, row_point in point.iterrows():\n",
    "        for index_poly, row_poly in poly.iterrows():\n",
    "            if row_point['geometry'].within(row_poly['geometry']):\n",
    "                country = row_point['Country']\n",
    "                city = row_point['City']\n",
    "                point_id = row_point['Id']\n",
    "                point_geom = mapping(row_point['geometry']) # makes a dict w/ keys : type and cood\n",
    "                poly_id = index_poly\n",
    "                poly_geom = mapping(row_poly['geometry']) # makes a dict w/ keys : type and cood\n",
    "                \n",
    "                out_arr.append((country, \n",
    "                                city, \n",
    "                                point_id, \n",
    "                                point_geom, \n",
    "                                poly_id, \n",
    "                                poly_geom))\n",
    "#             else:\n",
    "#                 test.append('no')\n",
    "    return out_arr"
   ]
  },
  {
   "cell_type": "code",
   "execution_count": null,
   "metadata": {},
   "outputs": [],
   "source": [
    "# 863 total cities in osm, 26974 polygons took 1578 seconds for 2000\n",
    "# 863 total cities in osm, 42241 polygons took XXXX seconds for 2020\n",
    "\n",
    "sub_point = osm_gdf.iloc[0:4]\n",
    "sub_poly = poly_geo_df_copy.iloc[0:1000] #<----- With copy, drop raster foot print polygon\n",
    "\n",
    "# print(sub_point.shape)\n",
    "# print(sub_poly.shape)\n",
    "# print(sub_point)\n",
    "# print(sub_poly)"
   ]
  },
  {
   "cell_type": "code",
   "execution_count": null,
   "metadata": {},
   "outputs": [],
   "source": [
    "osm_gdf.shape"
   ]
  },
  {
   "cell_type": "code",
   "execution_count": null,
   "metadata": {},
   "outputs": [],
   "source": [
    "check_point = time.time()\n",
    "\n",
    "# (poly then points)\n",
    "test = poly_point(poly_geo_df_copy, osm_gdf)\n",
    "print(len(test))\n",
    "\n",
    "print(\"elapsed time is: {}s\".format(time.time()-check_point))\n",
    "\n"
   ]
  },
  {
   "cell_type": "code",
   "execution_count": null,
   "metadata": {},
   "outputs": [],
   "source": [
    "# Can convert back to dataframe if needed ... \n",
    "\n",
    "coords_arr = np.array(test)\n",
    "coords_arr\n",
    "\n",
    "# Try to make it into a dataframe\n",
    "test_df = pd.DataFrame(data=coords_arr)\n",
    "test_df"
   ]
  },
  {
   "cell_type": "code",
   "execution_count": null,
   "metadata": {},
   "outputs": [],
   "source": [
    "#test_df.to_csv(outfilepath+\"20181113_polypoints_WP2020_africa.csv\")"
   ]
  },
  {
   "cell_type": "markdown",
   "metadata": {},
   "source": [
    "# When working on home computer not Tana start here 18.11.13\n",
    "\n",
    "    tasks\n",
    "    - suck in .csv with cities for 2000 and 2020\n",
    "    - turn polygons into shape files\n",
    "    - turn shape files into masks\n",
    "    - use masks to return raster stats for the polygons"
   ]
  },
  {
   "cell_type": "code",
   "execution_count": 16,
   "metadata": {},
   "outputs": [
    {
     "name": "stdout",
     "output_type": "stream",
     "text": [
      "   Unnamed: 0        0            1         2  \\\n",
      "0           0  Algeria  Constantine  27564946   \n",
      "\n",
      "                                                   3     4  \\\n",
      "0  {'type': 'Point', 'coordinates': (6.6082600000...  1085   \n",
      "\n",
      "                                                   5  \n",
      "0  {'type': 'Polygon', 'coordinates': (((6.616249...  \n"
     ]
    }
   ],
   "source": [
    "# open polypoints csvs\n",
    "\n",
    "polypoints_2000_df =  pd.read_csv(outfilepath+'20181113_polypoints_WP2000_africa.csv')\n",
    "polypoints_2020_df =  pd.read_csv(outfilepath+'20181113_polypoints_WP2020_africa.csv')\n",
    "\n",
    "print(polypoints_2000_df.head(1))\n",
    "#print(polypoints_2020_df.head(1))"
   ]
  },
  {
   "cell_type": "code",
   "execution_count": 17,
   "metadata": {},
   "outputs": [
    {
     "name": "stdout",
     "output_type": "stream",
     "text": [
      "   i_val  country         city    osm_id  \\\n",
      "0      0  Algeria  Constantine  27564946   \n",
      "\n",
      "                                          point_geom  poly_id  \\\n",
      "0  {'type': 'Point', 'coordinates': (6.6082600000...     1085   \n",
      "\n",
      "                                           poly_geom  \n",
      "0  {'type': 'Polygon', 'coordinates': (((6.616249...  \n"
     ]
    }
   ],
   "source": [
    "polypoints_2000_df.columns = ['i_val','country','city','osm_id',\n",
    "                             'point_geom','poly_id','poly_geom']\n",
    "\n",
    "polypoints_2020_df.columns = ['i_val','country','city','osm_id',\n",
    "                             'point_geom','poly_id','poly_geom']\n",
    "print(polypoints_2000_df.head(1))"
   ]
  },
  {
   "cell_type": "code",
   "execution_count": 21,
   "metadata": {},
   "outputs": [
    {
     "name": "stdout",
     "output_type": "stream",
     "text": [
      "(712, 8)\n",
      "(745, 8)\n"
     ]
    }
   ],
   "source": [
    "print(polypoints_2000_df.shape) #712\n",
    "print(polypoints_2020_df.shape) #745\n"
   ]
  },
  {
   "cell_type": "code",
   "execution_count": 20,
   "metadata": {},
   "outputs": [],
   "source": [
    "from shapely.geometry import shape\n",
    "import ast\n",
    "\n",
    "test_1 = []\n",
    "test_2 = []\n",
    "\n",
    "for i in polypoints_2020_df['poly_geom']:\n",
    "    i = (ast.literal_eval(i))\n",
    "    test_1.append((i))\n",
    "    \n",
    "for j in test_1:\n",
    "    j = shape(j)\n",
    "    test_2.append((j))\n",
    "    \n",
    "# for poly in polypoints_2000_df.iloc[:,6]:\n",
    "#     poly = shape(ast.literal_eval(poly))\n",
    "#     test.append = (poly)\n",
    "\n",
    "#polypoints_2020_df['poly_geom'] = polypoints_2020_df['poly_geom'].apply(ast.literal_eval())\n",
    "polypoints_2020_df['geometry'] = test_2"
   ]
  },
  {
   "cell_type": "code",
   "execution_count": 10,
   "metadata": {},
   "outputs": [
    {
     "data": {
      "text/html": [
       "<div>\n",
       "<style scoped>\n",
       "    .dataframe tbody tr th:only-of-type {\n",
       "        vertical-align: middle;\n",
       "    }\n",
       "\n",
       "    .dataframe tbody tr th {\n",
       "        vertical-align: top;\n",
       "    }\n",
       "\n",
       "    .dataframe thead th {\n",
       "        text-align: right;\n",
       "    }\n",
       "</style>\n",
       "<table border=\"1\" class=\"dataframe\">\n",
       "  <thead>\n",
       "    <tr style=\"text-align: right;\">\n",
       "      <th></th>\n",
       "      <th>i_val</th>\n",
       "      <th>country</th>\n",
       "      <th>city</th>\n",
       "      <th>osm_id</th>\n",
       "      <th>point_geom</th>\n",
       "      <th>poly_id</th>\n",
       "      <th>poly_geom</th>\n",
       "      <th>geometry</th>\n",
       "    </tr>\n",
       "  </thead>\n",
       "  <tbody>\n",
       "    <tr>\n",
       "      <th>0</th>\n",
       "      <td>0</td>\n",
       "      <td>Algeria</td>\n",
       "      <td>Constantine</td>\n",
       "      <td>27564946</td>\n",
       "      <td>{'type': 'Point', 'coordinates': (6.6082600000...</td>\n",
       "      <td>1085</td>\n",
       "      <td>{'type': 'Polygon', 'coordinates': (((6.616249...</td>\n",
       "      <td>POLYGON ((6.616249 36.46625, 6.616249 36.44958...</td>\n",
       "    </tr>\n",
       "  </tbody>\n",
       "</table>\n",
       "</div>"
      ],
      "text/plain": [
       "   i_val  country         city    osm_id  \\\n",
       "0      0  Algeria  Constantine  27564946   \n",
       "\n",
       "                                          point_geom  poly_id  \\\n",
       "0  {'type': 'Point', 'coordinates': (6.6082600000...     1085   \n",
       "\n",
       "                                           poly_geom  \\\n",
       "0  {'type': 'Polygon', 'coordinates': (((6.616249...   \n",
       "\n",
       "                                            geometry  \n",
       "0  POLYGON ((6.616249 36.46625, 6.616249 36.44958...  "
      ]
     },
     "execution_count": 10,
     "metadata": {},
     "output_type": "execute_result"
    }
   ],
   "source": [
    "polypoints_2000_df.head(1)"
   ]
  },
  {
   "cell_type": "code",
   "execution_count": 22,
   "metadata": {},
   "outputs": [
    {
     "data": {
      "text/html": [
       "<div>\n",
       "<style scoped>\n",
       "    .dataframe tbody tr th:only-of-type {\n",
       "        vertical-align: middle;\n",
       "    }\n",
       "\n",
       "    .dataframe tbody tr th {\n",
       "        vertical-align: top;\n",
       "    }\n",
       "\n",
       "    .dataframe thead th {\n",
       "        text-align: right;\n",
       "    }\n",
       "</style>\n",
       "<table border=\"1\" class=\"dataframe\">\n",
       "  <thead>\n",
       "    <tr style=\"text-align: right;\">\n",
       "      <th></th>\n",
       "      <th>i_val</th>\n",
       "      <th>country</th>\n",
       "      <th>city</th>\n",
       "      <th>osm_id</th>\n",
       "      <th>point_geom</th>\n",
       "      <th>poly_id</th>\n",
       "      <th>poly_geom</th>\n",
       "      <th>geometry</th>\n",
       "    </tr>\n",
       "  </thead>\n",
       "  <tbody>\n",
       "    <tr>\n",
       "      <th>0</th>\n",
       "      <td>0</td>\n",
       "      <td>Algeria</td>\n",
       "      <td>Constantine</td>\n",
       "      <td>27564946</td>\n",
       "      <td>{'type': 'Point', 'coordinates': (6.6082600000...</td>\n",
       "      <td>1085</td>\n",
       "      <td>{'type': 'Polygon', 'coordinates': (((6.616249...</td>\n",
       "      <td>POLYGON ((6.616249 36.46625, 6.616249 36.44958...</td>\n",
       "    </tr>\n",
       "  </tbody>\n",
       "</table>\n",
       "</div>"
      ],
      "text/plain": [
       "   i_val  country         city    osm_id  \\\n",
       "0      0  Algeria  Constantine  27564946   \n",
       "\n",
       "                                          point_geom  poly_id  \\\n",
       "0  {'type': 'Point', 'coordinates': (6.6082600000...     1085   \n",
       "\n",
       "                                           poly_geom  \\\n",
       "0  {'type': 'Polygon', 'coordinates': (((6.616249...   \n",
       "\n",
       "                                            geometry  \n",
       "0  POLYGON ((6.616249 36.46625, 6.616249 36.44958...  "
      ]
     },
     "execution_count": 22,
     "metadata": {},
     "output_type": "execute_result"
    }
   ],
   "source": [
    "polypoints_2020_gdf = gpd.GeoDataFrame(polypoints_2020_df, geometry='geometry')\n",
    "polypoints_2000_gdf = gpd.GeoDataFrame(polypoints_2000_df, geometry='geometry')\n",
    "polypoints_2000_gdf.head(1)"
   ]
  },
  {
   "cell_type": "code",
   "execution_count": 12,
   "metadata": {},
   "outputs": [
    {
     "data": {
      "image/svg+xml": [
       "<svg xmlns=\"http://www.w3.org/2000/svg\" xmlns:xlink=\"http://www.w3.org/1999/xlink\" width=\"100.0\" height=\"100.0\" viewBox=\"-0.8504176800000001 35.55791732 0.45000036000000004 0.23333335999999605\" preserveAspectRatio=\"xMinYMin meet\"><g transform=\"matrix(1,0,0,-1,0,71.34916799999999)\"><path fill-rule=\"evenodd\" fill=\"#66cc99\" stroke=\"#555555\" stroke-width=\"0.0090000072\" opacity=\"0.6\" d=\"M -0.808751,35.774584 L -0.808751,35.76625 L -0.817084,35.76625 L -0.817084,35.757917 L -0.808751,35.757917 L -0.808751,35.749584 L -0.800417,35.749584 L -0.800417,35.74125 L -0.808751,35.74125 L -0.817084,35.74125 L -0.817084,35.724584 L -0.825417,35.724584 L -0.825417,35.71625 L -0.833751,35.71625 L -0.833751,35.69125 L -0.825417,35.69125 L -0.825417,35.674584 L -0.792084,35.674584 L -0.792084,35.69125 L -0.800417,35.69125 L -0.800417,35.699584 L -0.792084,35.699584 L -0.792084,35.707917 L -0.733751,35.707917 L -0.733751,35.699584 L -0.717084,35.699584 L -0.717084,35.69125 L -0.700417,35.69125 L -0.700417,35.699584 L -0.692084,35.699584 L -0.692084,35.682917 L -0.700417,35.682917 L -0.700417,35.674584 L -0.708751,35.674584 L -0.708751,35.66625 L -0.717084,35.66625 L -0.717084,35.649584 L -0.725417,35.649584 L -0.725417,35.64125 L -0.717084,35.64125 L -0.717084,35.632917 L -0.725417,35.632917 L -0.767084,35.632917 L -0.767084,35.61625 L -0.758751,35.61625 L -0.758751,35.599584 L -0.733751,35.599584 L -0.733751,35.59125 L -0.700417,35.59125 L -0.700417,35.599584 L -0.692084,35.599584 L -0.692084,35.607917 L -0.700417,35.607917 L -0.700417,35.61625 L -0.708751,35.61625 L -0.708751,35.64125 L -0.700417,35.64125 L -0.692084,35.64125 L -0.692084,35.649584 L -0.683751,35.649584 L -0.683751,35.632917 L -0.675417,35.632917 L -0.675417,35.624584 L -0.642084,35.624584 L -0.642084,35.61625 L -0.617084,35.61625 L -0.617084,35.607917 L -0.600417,35.607917 L -0.600417,35.582917 L -0.592084,35.582917 L -0.592084,35.574584 L -0.575417,35.574584 L -0.575417,35.582917 L -0.567084,35.582917 L -0.567084,35.599584 L -0.558751,35.599584 L -0.558751,35.624584 L -0.550417,35.624584 L -0.542084,35.624584 L -0.542084,35.64125 L -0.550417,35.64125 L -0.550417,35.649584 L -0.542084,35.649584 L -0.533751,35.649584 L -0.533751,35.657917 L -0.517084,35.657917 L -0.508751,35.657917 L -0.508751,35.674584 L -0.492084,35.674584 L -0.483751,35.674584 L -0.483751,35.682917 L -0.475417,35.682917 L -0.475417,35.69125 L -0.425417,35.69125 L -0.417084,35.69125 L -0.417084,35.707917 L -0.425417,35.707917 L -0.425417,35.71625 L -0.433751,35.71625 L -0.433751,35.724584 L -0.442084,35.724584 L -0.442084,35.732917 L -0.450417,35.732917 L -0.450417,35.74125 L -0.467084,35.74125 L -0.467084,35.749584 L -0.492084,35.749584 L -0.492084,35.74125 L -0.500417,35.74125 L -0.500417,35.749584 L -0.517084,35.749584 L -0.517084,35.76625 L -0.567084,35.76625 L -0.567084,35.757917 L -0.575417,35.757917 L -0.575417,35.749584 L -0.583751,35.749584 L -0.583751,35.74125 L -0.592084,35.74125 L -0.592084,35.732917 L -0.600417,35.732917 L -0.600417,35.724584 L -0.608751,35.724584 L -0.617084,35.724584 L -0.617084,35.71625 L -0.692084,35.71625 L -0.692084,35.724584 L -0.700417,35.724584 L -0.700417,35.74125 L -0.758751,35.74125 L -0.758751,35.749584 L -0.775417,35.749584 L -0.775417,35.757917 L -0.792084,35.757917 L -0.792084,35.774584 L -0.808751,35.774584 z\" /></g></svg>"
      ],
      "text/plain": [
       "<shapely.geometry.polygon.Polygon at 0x820ce4908>"
      ]
     },
     "execution_count": 12,
     "metadata": {},
     "output_type": "execute_result"
    }
   ],
   "source": [
    "# polypoints_2000_gdf.to_file(outfilepath+'20181113_shape_WP2000_africa.shp', driver='ESRI Shapefile')\n",
    "# polypoints_2020_gdf.to_file(outfilepath+'20181113_shape_WP2020_africa.shp', driver='ESRI Shapefile')\n",
    "\n",
    "test_poly = polypoints_2020_df.iloc[1,7] # this is Oran Algeria w/ wiki population 1.16 million\n",
    "test_poly"
   ]
  },
  {
   "cell_type": "code",
   "execution_count": null,
   "metadata": {},
   "outputs": [],
   "source": [
    "africa1k_2000.meta['transform']"
   ]
  },
  {
   "cell_type": "code",
   "execution_count": null,
   "metadata": {},
   "outputs": [],
   "source": [
    "# https://automating-gis-processes.github.io/CSC18/lessons/L6/zonal-statistics.html\n",
    "\n",
    "# from rasterstats import zonal_stats\n",
    "# #affine = africa1k_2000.affine\n",
    "\n",
    "# africa1k_2000_b1 = africa1k_2000.read(1)\n",
    "# africa1k_2020_b1 = africa1k_2020.read(1)\n",
    "\n",
    "# test_zone = zonal_stats(test_poly, africa1k_2020_b1, affine=africa1k_2000.meta['transform'], stats = 'sum')\n",
    "\n",
    "# test_zone \n",
    "\n",
    "# population comes out as 1045584 "
   ]
  },
  {
   "cell_type": "code",
   "execution_count": null,
   "metadata": {
    "scrolled": true
   },
   "outputs": [],
   "source": [
    "# not sure if I need to write out these as shape files, believe I can feed it a list of polygons\n",
    "\n",
    "# polypoints_2020_gdf.to_file(outfilepath+'polypoints_2020_gdf.shp', driver='ESRI Shapefile')\n",
    "\n",
    "# polypoints_2000_gdf.to_file(outfilepath+'polypoints_2000_gdf.shp', driver='ESRI Shapefile')"
   ]
  },
  {
   "cell_type": "code",
   "execution_count": 23,
   "metadata": {},
   "outputs": [
    {
     "name": "stderr",
     "output_type": "stream",
     "text": [
      "/anaconda3/lib/python3.7/site-packages/rasterstats/io.py:294: UserWarning: Setting nodata to -999; specify nodata explicitly\n",
      "  warnings.warn(\"Setting nodata to -999; specify nodata explicitly\")\n"
     ]
    }
   ],
   "source": [
    "from rasterstats import zonal_stats\n",
    "\n",
    "africa1k_2000_b1 = africa1k_2000.read(1)\n",
    "africa1k_2020_b1 = africa1k_2020.read(1)\n",
    "\n",
    "zone_WP2000 = zonal_stats(polypoints_2000_gdf, africa1k_2000_b1, affine=africa1k_2000.meta['transform'], stats = 'sum')\n",
    "zone_WP2020 = zonal_stats(polypoints_2020_gdf, africa1k_2020_b1, affine=africa1k_2020.meta['transform'], stats = 'sum')\n"
   ]
  },
  {
   "cell_type": "code",
   "execution_count": null,
   "metadata": {},
   "outputs": [],
   "source": [
    "zone_WP2020[1]['sum']"
   ]
  },
  {
   "cell_type": "code",
   "execution_count": null,
   "metadata": {},
   "outputs": [],
   "source": [
    "print(len(polypoints_2000_gdf))\n",
    "print(len(zone_WP2000))\n",
    "\n",
    "print(len(polypoints_2020_gdf))\n",
    "\n",
    "print(len(zone_WP2020))"
   ]
  },
  {
   "cell_type": "code",
   "execution_count": 24,
   "metadata": {},
   "outputs": [],
   "source": [
    "zone_WP2000_df = pd.DataFrame(zone_WP2000)\n",
    "zone_WP2020_df = pd.DataFrame(zone_WP2020)\n",
    "\n",
    "polypoints_2000_gdf['Wpop2000'] = zone_WP2000_df['sum']\n",
    "polypoints_2020_gdf['Wpop2020'] = zone_WP2020_df['sum']"
   ]
  },
  {
   "cell_type": "code",
   "execution_count": 25,
   "metadata": {},
   "outputs": [],
   "source": [
    "# 2018 11 17 write out csv\n",
    "\n",
    "polypoints_2000_gdf.to_csv(outfilepath+\"20181116_WP2000_pops.csv\")\n",
    "polypoints_2020_gdf.to_csv(outfilepath+\"20181116_WP2020_pops.csv\")"
   ]
  },
  {
   "cell_type": "code",
   "execution_count": 20,
   "metadata": {
    "scrolled": true
   },
   "outputs": [
    {
     "data": {
      "text/html": [
       "<div>\n",
       "<style scoped>\n",
       "    .dataframe tbody tr th:only-of-type {\n",
       "        vertical-align: middle;\n",
       "    }\n",
       "\n",
       "    .dataframe tbody tr th {\n",
       "        vertical-align: top;\n",
       "    }\n",
       "\n",
       "    .dataframe thead th {\n",
       "        text-align: right;\n",
       "    }\n",
       "</style>\n",
       "<table border=\"1\" class=\"dataframe\">\n",
       "  <thead>\n",
       "    <tr style=\"text-align: right;\">\n",
       "      <th></th>\n",
       "      <th>i_val</th>\n",
       "      <th>country</th>\n",
       "      <th>city</th>\n",
       "      <th>osm_id</th>\n",
       "      <th>point_geom</th>\n",
       "      <th>poly_id</th>\n",
       "      <th>poly_geom</th>\n",
       "      <th>geometry</th>\n",
       "      <th>Wpop2020</th>\n",
       "    </tr>\n",
       "  </thead>\n",
       "  <tbody>\n",
       "    <tr>\n",
       "      <th>0</th>\n",
       "      <td>0</td>\n",
       "      <td>Algeria</td>\n",
       "      <td>Constantine</td>\n",
       "      <td>27564946</td>\n",
       "      <td>{'type': 'Point', 'coordinates': (6.6082600000...</td>\n",
       "      <td>1274</td>\n",
       "      <td>{'type': 'Polygon', 'coordinates': (((6.624583...</td>\n",
       "      <td>POLYGON ((6.624583 36.474584, 6.624583 36.4662...</td>\n",
       "      <td>7.906346e+05</td>\n",
       "    </tr>\n",
       "    <tr>\n",
       "      <th>1</th>\n",
       "      <td>1</td>\n",
       "      <td>Algeria</td>\n",
       "      <td>Oran</td>\n",
       "      <td>27565103</td>\n",
       "      <td>{'type': 'Point', 'coordinates': (-0.649297599...</td>\n",
       "      <td>2547</td>\n",
       "      <td>{'type': 'Polygon', 'coordinates': (((-0.80875...</td>\n",
       "      <td>POLYGON ((-0.808751 35.774584, -0.808751 35.76...</td>\n",
       "      <td>1.045584e+06</td>\n",
       "    </tr>\n",
       "    <tr>\n",
       "      <th>2</th>\n",
       "      <td>2</td>\n",
       "      <td>Algeria</td>\n",
       "      <td>Tizi Ouzou</td>\n",
       "      <td>253292160</td>\n",
       "      <td>{'type': 'Point', 'coordinates': (4.0493919, 3...</td>\n",
       "      <td>469</td>\n",
       "      <td>{'type': 'Polygon', 'coordinates': (((3.966249...</td>\n",
       "      <td>POLYGON ((3.966249 36.76625, 3.966249 36.75791...</td>\n",
       "      <td>4.281767e+05</td>\n",
       "    </tr>\n",
       "  </tbody>\n",
       "</table>\n",
       "</div>"
      ],
      "text/plain": [
       "   i_val  country         city     osm_id  \\\n",
       "0      0  Algeria  Constantine   27564946   \n",
       "1      1  Algeria         Oran   27565103   \n",
       "2      2  Algeria   Tizi Ouzou  253292160   \n",
       "\n",
       "                                          point_geom  poly_id  \\\n",
       "0  {'type': 'Point', 'coordinates': (6.6082600000...     1274   \n",
       "1  {'type': 'Point', 'coordinates': (-0.649297599...     2547   \n",
       "2  {'type': 'Point', 'coordinates': (4.0493919, 3...      469   \n",
       "\n",
       "                                           poly_geom  \\\n",
       "0  {'type': 'Polygon', 'coordinates': (((6.624583...   \n",
       "1  {'type': 'Polygon', 'coordinates': (((-0.80875...   \n",
       "2  {'type': 'Polygon', 'coordinates': (((3.966249...   \n",
       "\n",
       "                                            geometry      Wpop2020  \n",
       "0  POLYGON ((6.624583 36.474584, 6.624583 36.4662...  7.906346e+05  \n",
       "1  POLYGON ((-0.808751 35.774584, -0.808751 35.76...  1.045584e+06  \n",
       "2  POLYGON ((3.966249 36.76625, 3.966249 36.75791...  4.281767e+05  "
      ]
     },
     "execution_count": 20,
     "metadata": {},
     "output_type": "execute_result"
    }
   ],
   "source": [
    "polypoints_2020_gdf.head(3)"
   ]
  },
  {
   "cell_type": "code",
   "execution_count": 21,
   "metadata": {
    "scrolled": true
   },
   "outputs": [
    {
     "data": {
      "text/html": [
       "<div>\n",
       "<style scoped>\n",
       "    .dataframe tbody tr th:only-of-type {\n",
       "        vertical-align: middle;\n",
       "    }\n",
       "\n",
       "    .dataframe tbody tr th {\n",
       "        vertical-align: top;\n",
       "    }\n",
       "\n",
       "    .dataframe thead th {\n",
       "        text-align: right;\n",
       "    }\n",
       "</style>\n",
       "<table border=\"1\" class=\"dataframe\">\n",
       "  <thead>\n",
       "    <tr style=\"text-align: right;\">\n",
       "      <th></th>\n",
       "      <th>i_val</th>\n",
       "      <th>country</th>\n",
       "      <th>city</th>\n",
       "      <th>osm_id</th>\n",
       "      <th>point_geom</th>\n",
       "      <th>poly_id</th>\n",
       "      <th>poly_geom</th>\n",
       "      <th>geometry</th>\n",
       "      <th>Wpop2000</th>\n",
       "    </tr>\n",
       "  </thead>\n",
       "  <tbody>\n",
       "    <tr>\n",
       "      <th>0</th>\n",
       "      <td>0</td>\n",
       "      <td>Algeria</td>\n",
       "      <td>Constantine</td>\n",
       "      <td>27564946</td>\n",
       "      <td>{'type': 'Point', 'coordinates': (6.6082600000...</td>\n",
       "      <td>1085</td>\n",
       "      <td>{'type': 'Polygon', 'coordinates': (((6.616249...</td>\n",
       "      <td>POLYGON ((6.616249 36.46625, 6.616249 36.44958...</td>\n",
       "      <td>529187.787720</td>\n",
       "    </tr>\n",
       "    <tr>\n",
       "      <th>1</th>\n",
       "      <td>1</td>\n",
       "      <td>Algeria</td>\n",
       "      <td>Oran</td>\n",
       "      <td>27565103</td>\n",
       "      <td>{'type': 'Point', 'coordinates': (-0.649297599...</td>\n",
       "      <td>2148</td>\n",
       "      <td>{'type': 'Polygon', 'coordinates': (((-0.80875...</td>\n",
       "      <td>POLYGON ((-0.808751 35.774584, -0.808751 35.76...</td>\n",
       "      <td>687663.377167</td>\n",
       "    </tr>\n",
       "    <tr>\n",
       "      <th>2</th>\n",
       "      <td>2</td>\n",
       "      <td>Algeria</td>\n",
       "      <td>Tizi Ouzou</td>\n",
       "      <td>253292160</td>\n",
       "      <td>{'type': 'Point', 'coordinates': (4.0493919, 3...</td>\n",
       "      <td>417</td>\n",
       "      <td>{'type': 'Polygon', 'coordinates': (((4.007916...</td>\n",
       "      <td>POLYGON ((4.007916 36.757917, 4.007916 36.7495...</td>\n",
       "      <td>214199.763611</td>\n",
       "    </tr>\n",
       "  </tbody>\n",
       "</table>\n",
       "</div>"
      ],
      "text/plain": [
       "   i_val  country         city     osm_id  \\\n",
       "0      0  Algeria  Constantine   27564946   \n",
       "1      1  Algeria         Oran   27565103   \n",
       "2      2  Algeria   Tizi Ouzou  253292160   \n",
       "\n",
       "                                          point_geom  poly_id  \\\n",
       "0  {'type': 'Point', 'coordinates': (6.6082600000...     1085   \n",
       "1  {'type': 'Point', 'coordinates': (-0.649297599...     2148   \n",
       "2  {'type': 'Point', 'coordinates': (4.0493919, 3...      417   \n",
       "\n",
       "                                           poly_geom  \\\n",
       "0  {'type': 'Polygon', 'coordinates': (((6.616249...   \n",
       "1  {'type': 'Polygon', 'coordinates': (((-0.80875...   \n",
       "2  {'type': 'Polygon', 'coordinates': (((4.007916...   \n",
       "\n",
       "                                            geometry       Wpop2000  \n",
       "0  POLYGON ((6.616249 36.46625, 6.616249 36.44958...  529187.787720  \n",
       "1  POLYGON ((-0.808751 35.774584, -0.808751 35.76...  687663.377167  \n",
       "2  POLYGON ((4.007916 36.757917, 4.007916 36.7495...  214199.763611  "
      ]
     },
     "execution_count": 21,
     "metadata": {},
     "output_type": "execute_result"
    }
   ],
   "source": [
    "polypoints_2000_gdf.head(3)"
   ]
  },
  {
   "cell_type": "code",
   "execution_count": 22,
   "metadata": {},
   "outputs": [],
   "source": [
    "WP_2000 = []\n",
    "WP_2020 = []\n",
    "for pop in polypoints_2000_gdf['Wpop2000']:\n",
    "    if pop >0:\n",
    "        if pop < 1000000:\n",
    "            WP_2000.append((pop))\n",
    "\n",
    "for pop in polypoints_2020_gdf['Wpop2020']:\n",
    "    if pop >0: \n",
    "        if pop < 1000000:\n",
    "            WP_2020.append((pop))        "
   ]
  },
  {
   "cell_type": "code",
   "execution_count": null,
   "metadata": {},
   "outputs": [],
   "source": [
    "print(len(WP_2000))\n",
    "print(len(WP_2020))"
   ]
  },
  {
   "cell_type": "code",
   "execution_count": 23,
   "metadata": {},
   "outputs": [],
   "source": [
    "from matplotlib import pyplot as plt\n",
    "\n",
    "WP_2000_pct = []\n",
    "WP_2020_pct = []\n",
    "\n",
    "for pop in WP_2000:\n",
    "    pct = pop / sum(WP_2000)\n",
    "    WP_2000_pct.append((pct))\n",
    "for pop in WP_2020:\n",
    "    pct = pop / sum(WP_2020)\n",
    "    WP_2020_pct.append((pct))"
   ]
  },
  {
   "cell_type": "code",
   "execution_count": null,
   "metadata": {},
   "outputs": [],
   "source": [
    "fig, ax = plt.subplots()\n",
    "ax2 = ax.twinx()\n",
    "n, bins, patches = ax.hist(WP_2000, bins=100, normed=False, range = [0, 100000], cumulative = True)\n",
    "n, bins, patches = ax2.hist(\n",
    "    WP_2000, cumulative=1, histtype='step', bins=100, color='tab:orange', range = [0, 100000])"
   ]
  },
  {
   "cell_type": "code",
   "execution_count": 24,
   "metadata": {},
   "outputs": [
    {
     "data": {
      "text/plain": [
       "array([[<matplotlib.axes._subplots.AxesSubplot object at 0x8643590f0>]],\n",
       "      dtype=object)"
      ]
     },
     "execution_count": 24,
     "metadata": {},
     "output_type": "execute_result"
    },
    {
     "data": {
      "image/png": "[encoded data removed]",
      "text/plain": [
       "<Figure size 432x288 with 1 Axes>"
      ]
     },
     "metadata": {
      "needs_background": "light"
     },
     "output_type": "display_data"
    },
    {
     "data": {
      "image/png": "[encoded data removed]",
      "text/plain": [
       "<Figure size 432x288 with 1 Axes>"
      ]
     },
     "metadata": {
      "needs_background": "light"
     },
     "output_type": "display_data"
    }
   ],
   "source": [
    "polypoints_2000_gdf.hist(column='Wpop2000', range = [0, 1000000], cumulative = True, bins = 30)\n",
    "polypoints_2020_gdf.hist(column='Wpop2020', range = [0, 1000000], cumulative = True, bins = 30)"
   ]
  },
  {
   "cell_type": "code",
   "execution_count": null,
   "metadata": {},
   "outputs": [],
   "source": [
    "# empirical cum. distribution\n",
    "\n",
    "x2000 = np.sort(WP_2000)\n",
    "y2000 = 1-(np.arange(1, len(x2000)+1) / len(x2000))\n",
    "\n",
    "x2020 = np.sort(WP_2020)\n",
    "y2020 = 1-(np.arange(1, len(x2020)+1) / len(x2020))\n",
    "\n",
    "fig, ax = plt.subplots()\n",
    "ax.plot(x2000, y2000, marker = '.', linestyle = 'none', label = '2000')\n",
    "ax.plot(x2020, y2020, marker = '.', linestyle = 'none', label = '2020')\n",
    "leg = ax.legend()\n"
   ]
  },
  {
   "cell_type": "code",
   "execution_count": null,
   "metadata": {},
   "outputs": [],
   "source": [
    "# from shapely.geometry import mapping\n",
    "\n",
    "# city_pop = [] \n",
    "\n",
    "# for poly in polypoints_2000_df.iloc[:,7]:\n",
    "#     pop =  zonal_stats(mapping(poly), africa1k_2000_b1, affine=africa1k_2000.meta['transform'], stats = 'sum')\n",
    "#     city = polypoints_2020_df.loc[poly,3]\n",
    "#     city_pop.append = ((pop,city))"
   ]
  },
  {
   "cell_type": "markdown",
   "metadata": {},
   "source": [
    "### THE CODE BELOW WILL TURN YOUR CSV BACK INTO SHAPELY OBJECTS :-)\n",
    "- Next step is to put into a gpdf and then make it into shape files ... write it as a loop. "
   ]
  },
  {
   "cell_type": "code",
   "execution_count": null,
   "metadata": {},
   "outputs": [],
   "source": [
    "# Need to figure out how to turn geo pandas back into a geojson dict\n",
    "with fiona.open(\"worldpop_2000_test.shp\", \"r\") as shapefile:                                #<--- Need to figure out how to get the geometry from shp file directly \n",
    "    features = [feature[\"geometry\"] for feature in shapefile]\n",
    "\n",
    "with rasterio.open(filepath+\"AFR_PPP_2000_adj_v2.tif\") as src:                        #<--- Need to figure out how to get it not to write to a file, but just store in memory at this point\n",
    "    out_image, out_transform = rasterio.mask.mask(src, features, crop=True)\n",
    "    out_meta = src.meta.copy()\n",
    "\n",
    "out_meta.update({\"driver\": \"GTiff\",\n",
    "                 \"height\": out_image.shape[1],\n",
    "                 \"width\": out_image.shape[2],\n",
    "                 \"transform\": out_transform})\n",
    "with rasterio.open(filepath+\"AFR_PPP_2000_adj_MASK.tif\", \"w\", **out_meta) as dest:\n",
    "    dest.write(out_image) \n"
   ]
  },
  {
   "cell_type": "code",
   "execution_count": null,
   "metadata": {},
   "outputs": [],
   "source": [
    "mask_test_2000 = rasterio.open(filepath+'AFR_PPP_2000_adj_MASK.tif')\n",
    "plot.show(mask_test_2000)"
   ]
  },
  {
   "cell_type": "code",
   "execution_count": null,
   "metadata": {},
   "outputs": [],
   "source": [
    "np.unique(mask_test_2000.read(1))"
   ]
  },
  {
   "cell_type": "code",
   "execution_count": null,
   "metadata": {},
   "outputs": [],
   "source": []
  },
  {
   "cell_type": "code",
   "execution_count": null,
   "metadata": {},
   "outputs": [],
   "source": [
    "# from shapely.geometry import shape\n",
    "\n",
    "# test = shape(geom)\n",
    "# type(test)"
   ]
  },
  {
   "cell_type": "code",
   "execution_count": null,
   "metadata": {},
   "outputs": [],
   "source": [
    "# get it into a geopandas DF for explore\n",
    "import geopandas as gp\n",
    "geom_gdf = gp.GeoDataFrame.from_records(geom)\n",
    "type(geom_gdf)"
   ]
  },
  {
   "cell_type": "code",
   "execution_count": null,
   "metadata": {},
   "outputs": [],
   "source": [
    "# check it \n",
    "geom_gdf.head(2)"
   ]
  },
  {
   "cell_type": "code",
   "execution_count": null,
   "metadata": {},
   "outputs": [],
   "source": [
    "geom_gdf[type=='Polygon'] = 'POLYGON '\n",
    "geom_gdf.head(2)"
   ]
  },
  {
   "cell_type": "code",
   "execution_count": null,
   "metadata": {},
   "outputs": [],
   "source": [
    "geom_gdf['geometry']=geom_gdf['False'].astype(str)+geom_gdf['coordinates'].astype(str)"
   ]
  },
  {
   "cell_type": "code",
   "execution_count": null,
   "metadata": {},
   "outputs": [],
   "source": [
    "geom_gdf.head(6)"
   ]
  },
  {
   "cell_type": "code",
   "execution_count": null,
   "metadata": {},
   "outputs": [],
   "source": []
  },
  {
   "cell_type": "code",
   "execution_count": null,
   "metadata": {},
   "outputs": [],
   "source": [
    "test = gp.GeoDataFrame(geom_gdf['geometry'])\n",
    "test.head(6)"
   ]
  },
  {
   "cell_type": "code",
   "execution_count": null,
   "metadata": {},
   "outputs": [],
   "source": [
    "# try to write it as a shape file\n",
    "test.to_file('worldpop_2000_test.shp', driver='ESRI Shapefile')"
   ]
  },
  {
   "cell_type": "code",
   "execution_count": null,
   "metadata": {},
   "outputs": [],
   "source": [
    "type(dst)"
   ]
  },
  {
   "cell_type": "code",
   "execution_count": null,
   "metadata": {},
   "outputs": [],
   "source": [
    "dir(africa1k_2000_poly)"
   ]
  },
  {
   "cell_type": "code",
   "execution_count": null,
   "metadata": {},
   "outputs": [],
   "source": [
    "test = rasterio.features.dataset_features(africa1k_2000_poly)\n",
    "\n",
    "\n",
    "\n",
    "\n",
    "\n"
   ]
  },
  {
   "cell_type": "code",
   "execution_count": null,
   "metadata": {},
   "outputs": [],
   "source": [
    "type(test)"
   ]
  },
  {
   "cell_type": "code",
   "execution_count": null,
   "metadata": {},
   "outputs": [],
   "source": []
  },
  {
   "cell_type": "code",
   "execution_count": null,
   "metadata": {},
   "outputs": [],
   "source": []
  },
  {
   "cell_type": "code",
   "execution_count": null,
   "metadata": {},
   "outputs": [],
   "source": []
  },
  {
   "cell_type": "code",
   "execution_count": null,
   "metadata": {},
   "outputs": [],
   "source": []
  },
  {
   "cell_type": "code",
   "execution_count": null,
   "metadata": {},
   "outputs": [],
   "source": []
  },
  {
   "cell_type": "code",
   "execution_count": null,
   "metadata": {},
   "outputs": [],
   "source": []
  },
  {
   "cell_type": "code",
   "execution_count": null,
   "metadata": {},
   "outputs": [],
   "source": []
  },
  {
   "cell_type": "code",
   "execution_count": null,
   "metadata": {},
   "outputs": [],
   "source": []
  },
  {
   "cell_type": "code",
   "execution_count": null,
   "metadata": {},
   "outputs": [],
   "source": []
  },
  {
   "cell_type": "code",
   "execution_count": null,
   "metadata": {},
   "outputs": [],
   "source": []
  },
  {
   "cell_type": "code",
   "execution_count": null,
   "metadata": {},
   "outputs": [],
   "source": []
  },
  {
   "cell_type": "code",
   "execution_count": null,
   "metadata": {},
   "outputs": [],
   "source": []
  },
  {
   "cell_type": "code",
   "execution_count": null,
   "metadata": {},
   "outputs": [],
   "source": []
  },
  {
   "cell_type": "code",
   "execution_count": null,
   "metadata": {},
   "outputs": [],
   "source": []
  },
  {
   "cell_type": "code",
   "execution_count": null,
   "metadata": {},
   "outputs": [],
   "source": []
  },
  {
   "cell_type": "code",
   "execution_count": null,
   "metadata": {},
   "outputs": [],
   "source": []
  },
  {
   "cell_type": "code",
   "execution_count": null,
   "metadata": {},
   "outputs": [],
   "source": [
    "# ask Kelly about what to do with the nodata values messing everything up \n",
    "ghana100m_2010 = rasterio.open(filepath+\"GHA10_040213.tif\")\n",
    "ghana100m_2010.meta"
   ]
  },
  {
   "cell_type": "code",
   "execution_count": null,
   "metadata": {},
   "outputs": [],
   "source": [
    "plot.show(ghana100m_2010)"
   ]
  },
  {
   "cell_type": "code",
   "execution_count": null,
   "metadata": {},
   "outputs": [],
   "source": [
    "ghana100m_2010_arr = ghana100m_2010.read_band(1)"
   ]
  },
  {
   "cell_type": "code",
   "execution_count": null,
   "metadata": {},
   "outputs": [],
   "source": [
    "# check data range\n",
    "np.unique(ghana100m_2010_arr)"
   ]
  },
  {
   "cell_type": "code",
   "execution_count": null,
   "metadata": {},
   "outputs": [],
   "source": [
    "# Zoom into a subset\n",
    "#window = rasterio.windows.Window(1024, 1024, 1280, 2560)\n",
    "\n",
    "subset = ghana100m_2010.read(1, window=((7000, 7200), (2700, 3300)))\n",
    "\n",
    "plt.figure(figsize=(6,8.5))\n",
    "plt.imshow(subset)\n",
    "plt.colorbar(shrink=0.5)\n",
    "#plt.title(f'Band 4 Subset\\n{window}')\n",
    "plt.xlabel('Column #')\n",
    "plt.ylabel('Row #')"
   ]
  },
  {
   "cell_type": "code",
   "execution_count": null,
   "metadata": {},
   "outputs": [],
   "source": [
    "type(subset)"
   ]
  },
  {
   "cell_type": "code",
   "execution_count": null,
   "metadata": {},
   "outputs": [],
   "source": [
    "plt.hist(subset, range = [0,100])\n",
    "plt.show()"
   ]
  },
  {
   "cell_type": "code",
   "execution_count": null,
   "metadata": {},
   "outputs": [],
   "source": [
    "import copy\n",
    "\n",
    "subset_copy = copy.copy(subset)\n",
    "subset_copy[subset<1] = 0"
   ]
  },
  {
   "cell_type": "code",
   "execution_count": null,
   "metadata": {},
   "outputs": [],
   "source": [
    "plt.figure(figsize=(6,8.5))\n",
    "plt.imshow(subset_copy)\n",
    "plt.colorbar(shrink=0.5)\n",
    "plt.xlabel('Column #')\n",
    "plt.ylabel('Row #')"
   ]
  },
  {
   "cell_type": "code",
   "execution_count": null,
   "metadata": {},
   "outputs": [],
   "source": [
    "plt.hist(subset_copy)\n",
    "plt.show()"
   ]
  },
  {
   "cell_type": "code",
   "execution_count": null,
   "metadata": {},
   "outputs": [],
   "source": [
    "test = rasterio.open(filepath+\"GHA10_040213.tif\")"
   ]
  },
  {
   "cell_type": "code",
   "execution_count": null,
   "metadata": {},
   "outputs": [],
   "source": [
    "test.mask"
   ]
  },
  {
   "cell_type": "code",
   "execution_count": null,
   "metadata": {},
   "outputs": [],
   "source": [
    "type(test_band)"
   ]
  },
  {
   "cell_type": "code",
   "execution_count": null,
   "metadata": {},
   "outputs": [],
   "source": [
    "from rasterio.features import shapes\n",
    "mask = None\n",
    "with rasterio.drivers():\n",
    "    with rasterio.open(filepath+\"GHA10_040213.tif\", window = ((7000, 7200), (2700, 3300))) as src:\n",
    "        image = src.read(1) # first band\n",
    "        results = (\n",
    "        {'properties': {'raster_val': v}, 'geometry': s}\n",
    "        for i, (s, v) \n",
    "        in enumerate(\n",
    "            shapes(image, mask=mask, transform=src.affine)))"
   ]
  },
  {
   "cell_type": "code",
   "execution_count": null,
   "metadata": {},
   "outputs": [],
   "source": [
    "geoms = list(results)"
   ]
  },
  {
   "cell_type": "code",
   "execution_count": null,
   "metadata": {},
   "outputs": [],
   "source": [
    "print(geoms[4])"
   ]
  },
  {
   "cell_type": "code",
   "execution_count": null,
   "metadata": {},
   "outputs": [],
   "source": [
    "import geopandas as gp\n",
    "gpd_polygonized_raster  = gp.GeoDataFrame.from_features(geoms)"
   ]
  },
  {
   "cell_type": "code",
   "execution_count": null,
   "metadata": {},
   "outputs": [],
   "source": [
    "gpd_polygonized_raster"
   ]
  },
  {
   "cell_type": "markdown",
   "metadata": {},
   "source": [
    "# OLD CODE"
   ]
  },
  {
   "cell_type": "code",
   "execution_count": null,
   "metadata": {},
   "outputs": [],
   "source": [
    "# Sanity check on number of polygons \n",
    "# from skimage import measvure\n",
    "# label_test = measure.label(mask_dilated, background=0, return_num=True)\n",
    "# label_test_arr = label_test[0]\n",
    "# label_test_num = label_test[1] # 96 polygons\n",
    "# label_test_num"
   ]
  },
  {
   "cell_type": "code",
   "execution_count": null,
   "metadata": {},
   "outputs": [],
   "source": [
    "from shapely.geometry import shape\n",
    "import ast\n",
    "\n",
    "test_poly = ast.literal_eval(polypoints_2000_df.iloc[0,6])\n",
    "print(type(test_poly))\n",
    "\n",
    "test = shape(test_poly)\n",
    "test"
   ]
  },
  {
   "cell_type": "code",
   "execution_count": null,
   "metadata": {},
   "outputs": [],
   "source": [
    "# test_point = osm_gdf.iloc[4]['geometry']\n",
    "# test_poly = poly_geo_df.iloc[0]['geometry']\n",
    "# print(test_poly.contains(test_point))\n",
    "# print(test_point.within(test_poly))"
   ]
  },
  {
   "cell_type": "code",
   "execution_count": null,
   "metadata": {},
   "outputs": [],
   "source": [
    "# test if point is inside poly\n",
    "checkpoint = time.time()\n",
    "\n",
    "test_point = osm_gdf.iloc[30]['geometry']\n",
    "test_poly = poly_geo_df.iloc[2]['geometry']\n",
    "print(test_poly.contains(test_point))\n",
    "print(test_point.within(test_poly))\n",
    "print(test_poly)\n",
    "print(test_point)`"
   ]
  },
  {
   "cell_type": "code",
   "execution_count": null,
   "metadata": {},
   "outputs": [],
   "source": [
    "# Sanity check on number of polygons \n",
    "from skimage import measure\n",
    "label_test = measure.label(new_mask, background=0, \n",
    "                           connectivity = 2, # diagonal connect\n",
    "                           #neighbors = 8,\n",
    "                           return_num=True)\n",
    "label_test_arr = label_test[0]\n",
    "label_test_num = label_test[1] # 96 polygons\n",
    "\n",
    "# no connectivity change 38377"
   ]
  },
  {
   "cell_type": "markdown",
   "metadata": {},
   "source": [
    "# Dilate and Erode \n",
    "With 3x3 kernal ... must be odd number to stay centered "
   ]
  },
  {
   "cell_type": "code",
   "execution_count": null,
   "metadata": {
    "scrolled": true
   },
   "outputs": [],
   "source": [
    "# With 3x3 kernal ... must be odd number to stay centered  \n",
    "# try dilate, erode, open and close\n",
    "\n",
    "# import cv2\n",
    "\n",
    "# kernal = np.ones((3,3), np.uint8)\n",
    "# mask_dilated_close = cv2.morphologyEx(new_mask, cv2.MORPH_CLOSE, kernal)\n",
    "# mask_dilated_open = cv2.morphologyEx(new_mask, cv2.MORPH_OPEN, kernal)\n",
    "# mask_erode = cv2.erode(new_mask, kernal, iterations = 1)\n",
    "# mask_dilate = cv2.dilate(new_mask, kernal, iterations = 1)\n",
    "\n",
    "# write them out and check in QGIS\n",
    "# ----------------> Need to do this without writing files <-----\n",
    "# kwargs = africa1k_2000.meta\n",
    "\n",
    "# Update kwargs (change in data type)\n",
    "# kwargs.update(dtype=rasterio.float32, count = 1)\n",
    "\n",
    "# Let's see what is in there\n",
    "# print(kwargs)\n",
    "\n",
    "# erode check\n",
    "# with rasterio.open(infilepath+'africa1k_2020_maskErode.tif', 'w', **kwargs) as dst:\n",
    "#         dst.write_band(1, mask_erode.astype(rasterio.float32))\n",
    "\n",
    "# dilate check \n",
    "# with rasterio.open(infilepath+'africa1k_2020_maskDilate.tif', 'w', **kwargs) as dst:\n",
    "#         dst.write_band(1, mask_dilate.astype(rasterio.float32)) \n",
    "        \n",
    "# close raster check\n",
    "# with rasterio.open(infilepath+'africa1k_2020_maskClose.tif', 'w', **kwargs) as dst:\n",
    "#         dst.write_band(1, mask_dilated_close.astype(rasterio.float32))\n",
    "\n",
    "# open raster check        \n",
    "# with rasterio.open(infilepath+'africa1k_2020_maskOpen.tif', 'w', **kwargs) as dst:\n",
    "#         dst.write_band(1, mask_dilated_open.astype(rasterio.float32))\n",
    "\n",
    "#plot.show(mask_dilated)"
   ]
  },
  {
   "cell_type": "markdown",
   "metadata": {},
   "source": [
    "#### Notes\n",
    "- Dilate alone connects too many cites\n",
    "- Erode alone may make too few cities\n",
    "- Open greatly reduces the number of polygons but may be best for a conservitive estimate\n",
    "- Close connects them and may make it difficult to attach the correct label with correct political boundaries"
   ]
  }
 ],
 "metadata": {
  "kernelspec": {
   "display_name": "Python 3",
   "language": "python",
   "name": "python3"
  },
  "language_info": {
   "codemirror_mode": {
    "name": "ipython",
    "version": 3
   },
   "file_extension": ".py",
   "mimetype": "text/x-python",
   "name": "python",
   "nbconvert_exporter": "python",
   "pygments_lexer": "ipython3",
   "version": "3.7.0"
  }
 },
 "nbformat": 4,
 "nbformat_minor": 2
}
