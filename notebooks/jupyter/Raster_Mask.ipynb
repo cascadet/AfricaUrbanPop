{
 "cells": [
  {
   "cell_type": "markdown",
   "metadata": {},
   "source": [
    "# Raster Mask\n",
    "\n",
    "This notebook contains analysis and visualizations for:\n",
    "\n",
    "1. Loading a geotiff file into python \n",
    "2. Masking rasters at set thresholds \n",
    "\n",
    "Updated: 2018-11-21"
   ]
  },
  {
   "cell_type": "markdown",
   "metadata": {},
   "source": [
    "### Raster Data to Explore\n",
    "    Landscan\n",
    "    Worldpop\n",
    "    NTL - DMSP & VIIRS\n",
    "    Africapolic \n",
    "    EU Human Settlement Layer\n",
    "    MODIS built layer\n",
    "    Facebook Human Settlement\n",
    "    GRUMP\n",
    "    \n",
    "### Define Urban Density\n",
    "    Go w/ former US Census threshold of >= 1000 ppl per sq mile\n",
    "    https://www2.census.gov/geo/pdfs/reference/GARM/Ch12GARM.pdf\n",
    "    \n",
    "    http://blogs.worldbank.org/sustainablecities/what-does-urban-mean"
   ]
  },
  {
   "cell_type": "code",
   "execution_count": null,
   "metadata": {},
   "outputs": [],
   "source": [
    "import os\n",
    "import matplotlib.pyplot as plt\n",
    "import rasterio\n",
    "from rasterio import plot\n",
    "from rasterio.mask import mask\n",
    "import pandas as pd\n",
    "import geopandas as gpd\n",
    "import fiona\n",
    "import rasterio\n",
    "import numpy as np\n",
    "import skimage.io as skio\n",
    "import time\n",
    "import copy\n",
    "from shapely.geometry import Polygon"
   ]
  },
  {
   "cell_type": "markdown",
   "metadata": {},
   "source": [
    "# Step 1 - Input file\n",
    "\n",
    "    - Becomes a rasterio object, check meta data \n",
    "    - Bands are numpy arrays"
   ]
  },
  {
   "cell_type": "code",
   "execution_count": null,
   "metadata": {},
   "outputs": [],
   "source": [
    "# will build out folders later\n",
    "\n",
    "# data folder git will ignore\n",
    "infilepath = \"/home/cascade/tana-crunch-cascade/projects/NTL/data/\" # git will ignore\n",
    "outfilepath = \"/home/cascade/tana-crunch-cascade/projects/NTL/temp_data/\" # git will not ignore - NO BIG FILES \n",
    "\n",
    "# Local computer \n",
    "# infilepath = '/Users/cascade/Github/NTL/data/raw/worldpop/Africa-1km-Population/'\n",
    "# outfilepath = '/Users/cascade/Github/NTL/temp_data/'"
   ]
  },
  {
   "cell_type": "code",
   "execution_count": null,
   "metadata": {},
   "outputs": [],
   "source": [
    "# Need to build function to loop through files\n",
    "\n",
    "africa1k_2000 = rasterio.open(infilepath+\"AFR_PPP_2000_adj_v2.tif\") #<----- changes to 2020 18/13/11 @ 2pm \n",
    "print(africa1k_2000.meta)\n",
    "\n",
    "africa1k_2020 = rasterio.open(infilepath+\"AFR_PPP_2020_adj_v2.tif\") #<----- changes to 2020 18/13/11 @ 2pm \n",
    "print(africa1k_2000.meta)"
   ]
  },
  {
   "cell_type": "markdown",
   "metadata": {},
   "source": [
    "# Step 2 - Make a mask"
   ]
  },
  {
   "cell_type": "code",
   "execution_count": null,
   "metadata": {},
   "outputs": [],
   "source": [
    "# Set density\n",
    "# https://www2.census.gov/geo/pdfs/reference/ua/Defining_Rural.pdf\n",
    "\n",
    "# density = 1000/ 2.59 #density per sq km from sq mi\n",
    "# print(density)"
   ]
  },
  {
   "cell_type": "code",
   "execution_count": null,
   "metadata": {
    "scrolled": true
   },
   "outputs": [],
   "source": [
    "# Let's try to make the mask directy with rasterio\n",
    "\n",
    "def raster_mask(raster, band, density):\n",
    "    \"\"\"Fucntion makes numpy array for of raster then applies mask.\n",
    "    requires rasterio object, band number, and density as float on int \n",
    "    returns dict of polygons and numpy mask\n",
    "    \"\"\"\n",
    "\n",
    "    mask = raster.read(band)\n",
    "    mask[mask < density] = 0 # mask as zeros \n",
    "    mask[mask >= density] = 1 \n",
    "    \n",
    "    # Extract feature shapes and values from the array.\n",
    "    for geom, val in rasterio.features.shapes(mask, transform=raster.transform):\n",
    "        \n",
    "        # Transform shapes from the dataset's own coordinate\n",
    "        # reference system to CRS84 (EPSG:4326).\n",
    "        geom = rasterio.warp.transform_geom(raster.crs, 'EPSG:4326', geom, precision=6) # WGS84 (EPSG 4326)\n",
    "    \n",
    "    # turn geom into Polygon object from shapely    \n",
    "    Polygon(geom['coordinates'][0])\n",
    "    poly_gdf = gpd.GeoDataFrame()\n",
    "    for i, poly in enumerate(geom['coordinates']):\n",
    "        poly_gdf.loc[i,'geometry']= Polygon(poly)\n",
    "\n",
    "    return mask, geom, poly_gdf"
   ]
  },
  {
   "cell_type": "code",
   "execution_count": null,
   "metadata": {},
   "outputs": [],
   "source": [
    "mask, geom, poly = raster_mask(africa1k_2000, 1, 600)"
   ]
  },
  {
   "cell_type": "markdown",
   "metadata": {},
   "source": [
    "### Cell to write out mask as geotiff as needed"
   ]
  },
  {
   "cell_type": "code",
   "execution_count": null,
   "metadata": {},
   "outputs": [],
   "source": [
    "# kwargs = africa1k_2000.meta\n",
    "# kwargs.update(dtype=rasterio.float32, count = 1)\n",
    "\n",
    "# with rasterio.open(infilepath+'africa1k_2020_mask600.tif', 'w', **kwargs) as dst:\n",
    "#         dst.write_band(1, new_mask.astype(rasterio.float32))\n"
   ]
  },
  {
   "cell_type": "markdown",
   "metadata": {},
   "source": [
    "### Cell to write out polygons as needed (shape file saves trouble)"
   ]
  },
  {
   "cell_type": "code",
   "execution_count": null,
   "metadata": {},
   "outputs": [],
   "source": [
    "# Need to drop the first row because it's the footprint of the raster\n",
    "# BE SURE TO MAKE NEW COL NAMES if using CSV\n",
    "\n",
    "# poly = poly.drop(poly.index[0], axis = 0)\n",
    "\n",
    "# poly.to_file(outfilepath+'20181121_poly_cities_africa2000mask600.shp', driver='ESRI Shapefile')\n",
    "# poly.to_csv(outfilepath+\"20181121_poly_cities_africa2000mask600.csv\")"
   ]
  },
  {
   "cell_type": "markdown",
   "metadata": {},
   "source": [
    "# OLD CODE"
   ]
  },
  {
   "cell_type": "code",
   "execution_count": null,
   "metadata": {},
   "outputs": [],
   "source": [
    "# from rasterio.features import shapes\n",
    "# mask = None\n",
    "# with rasterio.drivers():\n",
    "#     with rasterio.open(filepath+\"GHA10_040213.tif\", window = ((7000, 7200), (2700, 3300))) as src:\n",
    "#         image = src.read(1) # first band\n",
    "#         results = (\n",
    "#         {'properties': {'raster_val': v}, 'geometry': s}\n",
    "#         for i, (s, v) \n",
    "#         in enumerate(\n",
    "#             shapes(image, mask=mask, transform=src.affine)))"
   ]
  },
  {
   "cell_type": "code",
   "execution_count": null,
   "metadata": {},
   "outputs": [],
   "source": [
    "# Sanity check on number of polygons \n",
    "# from skimage import measvure\n",
    "# label_test = measure.label(mask_dilated, background=0, return_num=True)\n",
    "# label_test_arr = label_test[0]\n",
    "# label_test_num = label_test[1] # 96 polygons\n",
    "# label_test_num"
   ]
  },
  {
   "cell_type": "code",
   "execution_count": null,
   "metadata": {},
   "outputs": [],
   "source": [
    "# from shapely.geometry import shape\n",
    "# import ast\n",
    "\n",
    "# test_poly = ast.literal_eval(polypoints_2000_df.iloc[0,6])\n",
    "# print(type(test_poly))\n",
    "\n",
    "# test = shape(test_poly)\n",
    "# test"
   ]
  },
  {
   "cell_type": "code",
   "execution_count": null,
   "metadata": {},
   "outputs": [],
   "source": [
    "# test_point = osm_gdf.iloc[4]['geometry']\n",
    "# test_poly = poly_geo_df.iloc[0]['geometry']\n",
    "# print(test_poly.contains(test_point))\n",
    "# print(test_point.within(test_poly))"
   ]
  },
  {
   "cell_type": "code",
   "execution_count": null,
   "metadata": {},
   "outputs": [],
   "source": [
    "# # test if point is inside poly\n",
    "# checkpoint = time.time()\n",
    "\n",
    "# test_point = osm_gdf.iloc[30]['geometry']\n",
    "# test_poly = poly_geo_df.iloc[2]['geometry']\n",
    "# print(test_poly.contains(test_point))\n",
    "# print(test_point.within(test_poly))\n",
    "# print(test_poly)\n",
    "# print(test_point)"
   ]
  },
  {
   "cell_type": "code",
   "execution_count": null,
   "metadata": {},
   "outputs": [],
   "source": [
    "# Sanity check on number of polygons \n",
    "# from skimage import measure\n",
    "# label_test = measure.label(new_mask, background=0, \n",
    "#                            connectivity = 2, # diagonal connect\n",
    "#                            #neighbors = 8,\n",
    "#                            return_num=True)\n",
    "# label_test_arr = label_test[0]\n",
    "# label_test_num = label_test[1] # 96 polygons\n",
    "\n",
    "# no connectivity change 38377"
   ]
  },
  {
   "cell_type": "markdown",
   "metadata": {},
   "source": [
    "# Dilate and Erode \n",
    "With 3x3 kernal ... must be odd number to stay centered "
   ]
  },
  {
   "cell_type": "code",
   "execution_count": null,
   "metadata": {
    "scrolled": true
   },
   "outputs": [],
   "source": [
    "# With 3x3 kernal ... must be odd number to stay centered  \n",
    "# try dilate, erode, open and close\n",
    "\n",
    "# import cv2\n",
    "\n",
    "# kernal = np.ones((3,3), np.uint8)\n",
    "# mask_dilated_close = cv2.morphologyEx(new_mask, cv2.MORPH_CLOSE, kernal)\n",
    "# mask_dilated_open = cv2.morphologyEx(new_mask, cv2.MORPH_OPEN, kernal)\n",
    "# mask_erode = cv2.erode(new_mask, kernal, iterations = 1)\n",
    "# mask_dilate = cv2.dilate(new_mask, kernal, iterations = 1)\n",
    "\n",
    "# write them out and check in QGIS\n",
    "# ----------------> Need to do this without writing files <-----\n",
    "# kwargs = africa1k_2000.meta\n",
    "\n",
    "# Update kwargs (change in data type)\n",
    "# kwargs.update(dtype=rasterio.float32, count = 1)\n",
    "\n",
    "# Let's see what is in there\n",
    "# print(kwargs)\n",
    "\n",
    "# erode check\n",
    "# with rasterio.open(infilepath+'africa1k_2020_maskErode.tif', 'w', **kwargs) as dst:\n",
    "#         dst.write_band(1, mask_erode.astype(rasterio.float32))\n",
    "\n",
    "# dilate check \n",
    "# with rasterio.open(infilepath+'africa1k_2020_maskDilate.tif', 'w', **kwargs) as dst:\n",
    "#         dst.write_band(1, mask_dilate.astype(rasterio.float32)) \n",
    "        \n",
    "# close raster check\n",
    "# with rasterio.open(infilepath+'africa1k_2020_maskClose.tif', 'w', **kwargs) as dst:\n",
    "#         dst.write_band(1, mask_dilated_close.astype(rasterio.float32))\n",
    "\n",
    "# open raster check        \n",
    "# with rasterio.open(infilepath+'africa1k_2020_maskOpen.tif', 'w', **kwargs) as dst:\n",
    "#         dst.write_band(1, mask_dilated_open.astype(rasterio.float32))\n",
    "\n",
    "#plot.show(mask_dilated)"
   ]
  },
  {
   "cell_type": "markdown",
   "metadata": {},
   "source": [
    "#### Notes\n",
    "- Dilate alone connects too many cites\n",
    "- Erode alone may make too few cities\n",
    "- Open greatly reduces the number of polygons but may be best for a conservitive estimate\n",
    "- Close connects them and may make it difficult to attach the correct label with correct political boundaries"
   ]
  },
  {
   "cell_type": "code",
   "execution_count": null,
   "metadata": {},
   "outputs": [],
   "source": [
    "# from rasterio import features as features\n",
    "\n",
    "# with rasterio.open(infilepath+'africa1k_2020_mask600.tif') as dataset:\n",
    "\n",
    "#     # Read the dataset's valid data mask as a ndarray.\n",
    "#     mask = dataset.read(1)\n",
    "\n",
    "#     # Extract feature shapes and values from the array.\n",
    "#     for geom, val in rasterio.features.shapes(\n",
    "#             mask, transform=dataset.transform):\n",
    "\n",
    "#         # Transform shapes from the dataset's own coordinate\n",
    "#         # reference system to CRS84 (EPSG:4326).\n",
    "#         geom = rasterio.warp.transform_geom(\n",
    "#             dataset.crs, 'EPSG:4326', geom, precision=6) # WGS84 (EPSG 4326)\n",
    "\n",
    "# print(\"elapsed time is: {}s\".format(time.time()-checkpoint))"
   ]
  },
  {
   "cell_type": "code",
   "execution_count": null,
   "metadata": {},
   "outputs": [],
   "source": [
    "# Turn rasterio geom dict into a polygon\n",
    "\n",
    "# from shapely.geometry import Polygon\n",
    "\n",
    "# def build_poly_df(geom):\n",
    "#     \"\"\"\n",
    "#     This function makes polygons from rasterio geom dict\n",
    "#     \"\"\"\n",
    "    \n",
    "#     # turn dict into normal data frame\n",
    "#     Polygon(geom['coordinates'][0])\n",
    "#     geo_df = gpd.GeoDataFrame()\n",
    "#     for i, poly in enumerate(geom['coordinates']):\n",
    "#         geo_df.loc[i,'geometry']= Polygon(poly)\n",
    "#     return geo_df"
   ]
  },
  {
   "cell_type": "code",
   "execution_count": null,
   "metadata": {},
   "outputs": [],
   "source": [
    "# import pandas as pd\n",
    "# from shapely.geometry import Point\n",
    "\n",
    "# osm_df = pd.read_csv(outfilepath+'africa_cities.csv')\n",
    "\n",
    "# # creating a geometry column \n",
    "# geometry = [Point(xy) for xy in zip(osm_df['lon'], osm_df['lat'])]\n",
    "\n",
    "# # Coordinate reference system : WGS84\n",
    "# crs = {'init': 'epsg:4326'}\n",
    "\n",
    "# # Creating a Geographic data frame \n",
    "# osm_gdf = gpd.GeoDataFrame(osm_df, crs=crs, geometry=geometry)"
   ]
  },
  {
   "cell_type": "code",
   "execution_count": null,
   "metadata": {},
   "outputs": [],
   "source": [
    "# building a function to check if points are in poly for lists of poly and points\n",
    "# needs geopandas data frame with point and poly geometry \n",
    "\n",
    "# from shapely.geometry import mapping\n",
    "\n",
    "# def poly_point (poly, point):\n",
    "#     \"\"\"\n",
    "#     This function will check if points are inside polygons if given two gpds with points and polygons\n",
    "#     Returns city names or no list \n",
    "#     \"\"\"\n",
    "    \n",
    "#     out_arr = [] #return an array <<< ---------------- ASK RYAN IF BETTER DO USE DICT \n",
    "    \n",
    "#     for index_point, row_point in point.iterrows():\n",
    "#         for index_poly, row_poly in poly.iterrows():\n",
    "#             if row_point['geometry'].within(row_poly['geometry']):\n",
    "#                 country = row_point['Country']\n",
    "#                 city = row_point['City']\n",
    "#                 point_id = row_point['Id']\n",
    "#                 point_geom = mapping(row_point['geometry']) # makes a dict w/ keys : type and cood\n",
    "#                 poly_id = index_poly\n",
    "#                 poly_geom = mapping(row_poly['geometry']) # makes a dict w/ keys : type and cood\n",
    "                \n",
    "#                 out_arr.append((country, \n",
    "#                                 city, \n",
    "#                                 point_id, \n",
    "#                                 point_geom, \n",
    "#                                 poly_id, \n",
    "#                                 poly_geom))\n",
    "# #             else:\n",
    "# #                 test.append('no')\n",
    "#     return out_arr"
   ]
  },
  {
   "cell_type": "code",
   "execution_count": null,
   "metadata": {},
   "outputs": [],
   "source": [
    "# # 863 total cities in osm, 26974 polygons took 1578 seconds for 2000\n",
    "# # 863 total cities in osm, 42241 polygons took XXXX seconds for 2020\n",
    "\n",
    "# sub_point = osm_gdf.iloc[0:4]\n",
    "# sub_poly = poly_geo_df_copy.iloc[0:1000] #<----- With copy, drop raster foot print polygon\n",
    "\n",
    "# # print(sub_point.shape)\n",
    "# # print(sub_poly.shape)\n",
    "# # print(sub_point)\n",
    "# # print(sub_poly)"
   ]
  },
  {
   "cell_type": "code",
   "execution_count": null,
   "metadata": {},
   "outputs": [],
   "source": [
    "# osm_gdf.shape"
   ]
  },
  {
   "cell_type": "code",
   "execution_count": null,
   "metadata": {},
   "outputs": [],
   "source": [
    "# check_point = time.time()\n",
    "\n",
    "# # (poly then points)\n",
    "# test = poly_point(poly_geo_df_copy, osm_gdf)\n",
    "# print(len(test))\n",
    "\n",
    "# print(\"elapsed time is: {}s\".format(time.time()-check_point))\n",
    "\n"
   ]
  },
  {
   "cell_type": "code",
   "execution_count": null,
   "metadata": {},
   "outputs": [],
   "source": [
    "# # building a function to check if points are in poly for lists of poly and points\n",
    "# # needs geopandas data frame with point and poly geometry \n",
    "\n",
    "# from shapely.geometry import mapping\n",
    "\n",
    "# def poly_point (poly, point):\n",
    "#     \"\"\"\n",
    "#     This function will check if points are inside polygons if given two gpds with points and polygons\n",
    "#     Returns city names or no list \n",
    "#     \"\"\"\n",
    "    \n",
    "#     out_arr = [] #return an array <<< ---------------- ASK RYAN IF BETTER DO USE DICT \n",
    "    \n",
    "#     for index_point, row_point in point.iterrows():\n",
    "#         for index_poly, row_poly in poly.iterrows():\n",
    "#             if row_point['geometry'].within(row_poly['geometry']):\n",
    "#                 country = row_point['Country']\n",
    "#                 city = row_point['City']\n",
    "#                 point_id = row_point['Id']\n",
    "#                 point_geom = mapping(row_point['geometry']) # makes a dict w/ keys : type and cood\n",
    "#                 poly_id = index_poly\n",
    "#                 poly_geom = mapping(row_poly['geometry']) # makes a dict w/ keys : type and cood\n",
    "                \n",
    "#                 out_arr.append((country, \n",
    "#                                 city, \n",
    "#                                 point_id, \n",
    "#                                 point_geom, \n",
    "#                                 poly_id, \n",
    "#                                 poly_geom))\n",
    "# #             else:\n",
    "# #                 test.append('no')\n",
    "#     return out_arr"
   ]
  },
  {
   "cell_type": "code",
   "execution_count": null,
   "metadata": {},
   "outputs": [],
   "source": [
    "# from shapely.geometry import shape\n",
    "# import ast\n",
    "\n",
    "# test_1 = []\n",
    "# test_2 = []\n",
    "\n",
    "# for i in polypoints_2020_df['poly_geom']:\n",
    "#     i = (ast.literal_eval(i))\n",
    "#     test_1.append((i))\n",
    "    \n",
    "# for j in test_1:\n",
    "#     j = shape(j)\n",
    "#     test_2.append((j))\n",
    "    \n",
    "# # for poly in polypoints_2000_df.iloc[:,6]:\n",
    "# #     poly = shape(ast.literal_eval(poly))\n",
    "# #     test.append = (poly)\n",
    "\n",
    "# #polypoints_2020_df['poly_geom'] = polypoints_2020_df['poly_geom'].apply(ast.literal_eval())\n",
    "# polypoints_2020_df['geometry'] = test_2"
   ]
  },
  {
   "cell_type": "markdown",
   "metadata": {},
   "source": [
    "#### When working on home computer not Tana start here 18.11.13\n",
    "\n",
    "    tasks\n",
    "    - suck in .csv with cities for 2000 and 2020\n",
    "    - turn polygons into shape files\n",
    "    - turn shape files into masks\n",
    "    - use masks to return raster stats for the polygons"
   ]
  },
  {
   "cell_type": "code",
   "execution_count": null,
   "metadata": {},
   "outputs": [],
   "source": [
    "# # open polypoints csvs\n",
    "\n",
    "# polypoints_2000_df =  pd.read_csv(outfilepath+'20181113_polypoints_WP2000_africa.csv')\n",
    "# polypoints_2020_df =  pd.read_csv(outfilepath+'20181113_polypoints_WP2020_africa.csv')\n",
    "\n",
    "# print(polypoints_2000_df.head(1))\n",
    "# #print(polypoints_2020_df.head(1))"
   ]
  },
  {
   "cell_type": "code",
   "execution_count": null,
   "metadata": {
    "scrolled": true
   },
   "outputs": [],
   "source": [
    "# polypoints_2000_df.columns = ['i_val','country','city','osm_id',\n",
    "#                              'point_geom','poly_id','poly_geom']\n",
    "\n",
    "# polypoints_2020_df.columns = ['i_val','country','city','osm_id',\n",
    "#                              'point_geom','poly_id','poly_geom']\n",
    "# print(polypoints_2000_df.head(1))"
   ]
  },
  {
   "cell_type": "code",
   "execution_count": null,
   "metadata": {
    "scrolled": true
   },
   "outputs": [],
   "source": [
    "# print(polypoints_2000_df.shape) #712\n",
    "# print(polypoints_2020_df.shape) #745\n"
   ]
  },
  {
   "cell_type": "code",
   "execution_count": null,
   "metadata": {},
   "outputs": [],
   "source": [
    "# from shapely.geometry import shape\n",
    "# import ast\n",
    "\n",
    "# test_1 = []\n",
    "# test_2 = []\n",
    "\n",
    "# for i in polypoints_2020_df['poly_geom']:\n",
    "#     i = (ast.literal_eval(i))\n",
    "#     test_1.append((i))\n",
    "    \n",
    "# for j in test_1:\n",
    "#     j = shape(j)\n",
    "#     test_2.append((j))\n",
    "    \n",
    "# # for poly in polypoints_2000_df.iloc[:,6]:\n",
    "# #     poly = shape(ast.literal_eval(poly))\n",
    "# #     test.append = (poly)\n",
    "\n",
    "# #polypoints_2020_df['poly_geom'] = polypoints_2020_df['poly_geom'].apply(ast.literal_eval())\n",
    "# polypoints_2020_df['geometry'] = test_2"
   ]
  },
  {
   "cell_type": "code",
   "execution_count": null,
   "metadata": {},
   "outputs": [],
   "source": [
    "# polypoints_2020_df.head(1)\n",
    "# print(polypoints_2020_df.shape)"
   ]
  },
  {
   "cell_type": "code",
   "execution_count": null,
   "metadata": {},
   "outputs": [],
   "source": [
    "# polypoints_2020_gdf = gpd.GeoDataFrame(polypoints_2020_df, geometry='geometry')\n",
    "# polypoints_2000_gdf = gpd.GeoDataFrame(polypoints_2000_df, geometry='geometry')\n",
    "# polypoints_2000_gdf.head(1)"
   ]
  },
  {
   "cell_type": "code",
   "execution_count": null,
   "metadata": {},
   "outputs": [],
   "source": [
    "# polypoints_2000_gdf.to_file(outfilepath+'20181113_shape_WP2000_africa.shp', driver='ESRI Shapefile')\n",
    "# polypoints_2020_gdf.to_file(outfilepath+'20181113_shape_WP2020_africa.shp', driver='ESRI Shapefile')\n",
    "\n",
    "# test_poly = polypoints_2020_df.iloc[1,7] # this is Oran Algeria w/ wiki population 1.16 million\n",
    "# test_poly"
   ]
  },
  {
   "cell_type": "code",
   "execution_count": null,
   "metadata": {},
   "outputs": [],
   "source": [
    "# africa1k_2000.meta['transform']"
   ]
  },
  {
   "cell_type": "code",
   "execution_count": null,
   "metadata": {},
   "outputs": [],
   "source": [
    "# from rasterstats import zonal_stats\n",
    "\n",
    "# africa1k_2000_b1 = africa1k_2000.read(1)\n",
    "# africa1k_2020_b1 = africa1k_2020.read(1)\n",
    "\n",
    "# zone_WP2000 = zonal_stats(polypoints_2000_gdf, africa1k_2000_b1, affine=africa1k_2000.meta['transform'], stats = 'sum')\n",
    "# zone_WP2020 = zonal_stats(polypoints_2020_gdf, africa1k_2020_b1, affine=africa1k_2020.meta['transform'], stats = 'sum')\n"
   ]
  },
  {
   "cell_type": "code",
   "execution_count": null,
   "metadata": {},
   "outputs": [],
   "source": [
    "# # Need to figure out how to turn geo pandas back into a geojson dict\n",
    "# with fiona.open(\"worldpop_2000_test.shp\", \"r\") as shapefile:                                #<--- Need to figure out how to get the geometry from shp file directly \n",
    "#     features = [feature[\"geometry\"] for feature in shapefile]\n",
    "\n",
    "# with rasterio.open(filepath+\"AFR_PPP_2000_adj_v2.tif\") as src:                        #<--- Need to figure out how to get it not to write to a file, but just store in memory at this point\n",
    "#     out_image, out_transform = rasterio.mask.mask(src, features, crop=True)\n",
    "#     out_meta = src.meta.copy()\n",
    "\n",
    "# out_meta.update({\"driver\": \"GTiff\",\n",
    "#                  \"height\": out_image.shape[1],\n",
    "#                  \"width\": out_image.shape[2],\n",
    "#                  \"transform\": out_transform})\n",
    "# with rasterio.open(filepath+\"AFR_PPP_2000_adj_MASK.tif\", \"w\", **out_meta) as dest:\n",
    "#     dest.write(out_image) \n"
   ]
  }
 ],
 "metadata": {
  "kernelspec": {
   "display_name": "Python [default]",
   "language": "python",
   "name": "python3"
  },
  "language_info": {
   "codemirror_mode": {
    "name": "ipython",
    "version": 3
   },
   "file_extension": ".py",
   "mimetype": "text/x-python",
   "name": "python",
   "nbconvert_exporter": "python",
   "pygments_lexer": "ipython3",
   "version": "3.6.4"
  }
 },
 "nbformat": 4,
 "nbformat_minor": 2
}
