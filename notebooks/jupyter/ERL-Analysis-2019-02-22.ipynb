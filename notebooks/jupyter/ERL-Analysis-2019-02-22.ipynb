{
 "cells": [
  {
   "cell_type": "markdown",
   "metadata": {},
   "source": [
    "# ERL Analysis 2019-02-22\n",
    "\n",
    "Code for figures and analysis for ERL draft to be submitted Feb 28, 2019\n",
    "Data used includes South Sudan, w/ FIDs duplicates and <5000 dropped\n",
    "FIDS may be duplicated for GHS 2000 & 2015 because of the addition of South Sudan Data\n",
    "\n",
    "-- Cascade Tuholske 2019-02-22"
   ]
  },
  {
   "cell_type": "code",
   "execution_count": 1,
   "metadata": {},
   "outputs": [],
   "source": [
    "from rasterstats import zonal_stats\n",
    "import rasterio\n",
    "import geopandas as gpd\n",
    "import operator\n",
    "import numpy as np\n",
    "import pandas as pd\n",
    "import matplotlib \n",
    "import seaborn as sns\n",
    "import matplotlib.pyplot as plt\n",
    "from scipy import stats\n",
    "from functools import reduce\n",
    "import squarify"
   ]
  },
  {
   "cell_type": "markdown",
   "metadata": {},
   "source": [
    "# Functions"
   ]
  },
  {
   "cell_type": "code",
   "execution_count": null,
   "metadata": {},
   "outputs": [],
   "source": [
    "def city_search(gpd_df, city_list, country):\n",
    "    \"\"\" function will print out city name and population for a subset of a gridded dataset gpd\n",
    "    requires data frame, list of cities, and country of interest\n",
    "    \"\"\"\n",
    "    gpd_df_sub = gpd_df[gpd_df['country'] == country]\n",
    "    \n",
    "    for index, row in gpd_df_sub.iterrows():\n",
    "        for city in city_list:\n",
    "            if row['city'] == city:\n",
    "                print(city)\n",
    "                print(round(row['PopTot']))"
   ]
  },
  {
   "cell_type": "code",
   "execution_count": null,
   "metadata": {},
   "outputs": [],
   "source": [
    "def str_id(gpd_df):\n",
    "    \"\"\"\n",
    "    Function makes a new col with a unique lat-lon string to identify each osm point & drops duplicates\n",
    "    Function also makes\n",
    "    \"\"\"\n",
    "\n",
    "    \n",
    "    print(gpd_df.shape)\n",
    "    \n",
    "    lat_string = gpd_df.lat.astype(str)\n",
    "    lon_string = gpd_df.lon.astype(str)\n",
    "    gpd_df['str_id'] = lat_string.astype(str)+lon_string.astype(str)\n",
    "    \n",
    "    print(gpd_df.shape)\n"
   ]
  },
  {
   "cell_type": "code",
   "execution_count": null,
   "metadata": {},
   "outputs": [],
   "source": [
    "def dup_drop(gpd_in, col, keep_dup):\n",
    "    \"\"\" \n",
    "    function drops duplicates based on a column from a pd data frame\n",
    "    requires pd df out string, pd df, col name, and which dup to keep\n",
    "    returns new gpd_df\n",
    "    \"\"\"\n",
    "    \n",
    "    gpd_out = gpd.GeoDataFrame()\n",
    "    \n",
    "    print(gpd_in.shape)\n",
    "    \n",
    "    gpd_out = gpd_in.drop_duplicates(col, keep = keep_dup)\n",
    "    \n",
    "    print(gpd_out.shape)\n",
    "\n",
    "    return gpd_out\n",
    "\n",
    "    "
   ]
  },
  {
   "cell_type": "code",
   "execution_count": null,
   "metadata": {},
   "outputs": [],
   "source": [
    "def df_merge(df_left, df_right):\n",
    "    \n",
    "    pd_out = pd.DataFrame()\n",
    "    pd_out = pd.merge(df_left[['str_id', 'PopTot']], df_right[['str_id', 'PopTot']], on='str_id', how = 'inner')\n",
    "    \n",
    "    left_pop = pd_out.PopTot_x.astype(str)\n",
    "    right_pop = pd_out.PopTot_y.astype(str)\n",
    "    pd_out['pop_id'] = left_pop.astype(str)+right_pop.astype(str)\n",
    "\n",
    "    return pd_out"
   ]
  },
  {
   "cell_type": "code",
   "execution_count": null,
   "metadata": {},
   "outputs": [],
   "source": [
    "def p_X_gt_x(data, X=None):\n",
    "    n_data = len(data)\n",
    "    if X is None:\n",
    "        X = data.unique()\n",
    "    return X, pd.Series([sum(data>=x)/n_data for x in X ])\n",
    "\n",
    "def p_X_lt_x(data, X=None):\n",
    "    n_data = len(data)\n",
    "    if X is None:\n",
    "        X = data.unique()\n",
    "    return X, pd.Series([sum(data<=x)/n_data for x in X ])"
   ]
  },
  {
   "cell_type": "markdown",
   "metadata": {},
   "source": [
    "# Data"
   ]
  },
  {
   "cell_type": "code",
   "execution_count": 2,
   "metadata": {},
   "outputs": [],
   "source": [
    "# File paths\n",
    "\n",
    "data_raw = '../../data/raw/'\n",
    "data_temp = '../../temp_data/'\n",
    "data_interim = '../../interim/'\n",
    "data_analysis = '../../temp_data/ERL_data/Data20190222/'\n",
    "erl_data = '../../temp_data/ERL_data/'\n",
    "downloads = '/Users/cascade/Downloads/'\n"
   ]
  },
  {
   "cell_type": "code",
   "execution_count": 3,
   "metadata": {},
   "outputs": [],
   "source": [
    "# Data\n",
    "\n",
    "# GHS2000 = gpd.read_file(erl_data+'GHS_POP_GPW42000_final20190122.shp')\n",
    "# GHS2015 = gpd.read_file(erl_data+'GHS_POP_GPW42015_final20190122.shp')\n",
    "# WP2000 = gpd.read_file(erl_data+'AFR_PPP_2000_adj_v2_final20190122.shp')\n",
    "# WP2015 = gpd.read_file(erl_data+'AFR_PPP_2015_adj_v2_final20190122.shp')\n",
    "# LS2015 = gpd.read_file(erl_data+'WPE_1KM_2016_final20190122.shp')\n",
    "# WPE2016 = gpd.read_file(erl_data+'LS15_final20190122.shp')\n",
    "\n",
    "# Data with Rain Zones & Regions added, & FIDs Dropped (2019-02-13)\n",
    "\n",
    "# GHS2000 = gpd.read_file(erl_data+'GHS_POP_GPW42000_20190213.shp')\n",
    "# GHS2015 = gpd.read_file(erl_data+'GHS_POP_GPW42015_20190213.shp')\n",
    "# WP2000 = gpd.read_file(erl_data+'AFR_PPP_2000_adj_v2_20190213.shp')\n",
    "# WP2015 = gpd.read_file(erl_data+'AFR_PPP_2015_adj_v2_20190213.shp')\n",
    "# LS2015 = gpd.read_file(erl_data+'WPE_1KM_2016_20190213.shp')\n",
    "# WPE2016 = gpd.read_file(erl_data+'LS15_20190213.shp')\n",
    "\n",
    "# GHS2000_old = gpd.read_file(data_analysis+'GHS_POP_GPW42000_final20190122.shp')\n",
    "# GHS2015_old = gpd.read_file(data_analysis+'GHS_POP_GPW42015_final20190122.shp')\n",
    "\n",
    "# Load data: ...20190222.shp files have FIDs removed, S Sudan added, rainfall zones, and regions\n",
    "\n",
    "GHS2000 = gpd.read_file(data_analysis+'GHS_POP_GPW42000_20190222.shp', driver = 'ESRI Shapefile')\n",
    "GHS2015 = gpd.read_file(data_analysis+'GHS_POP_GPW42015_20190222.shp', driver = 'ESRI Shapefile')\n",
    "WP2000 = gpd.read_file(data_analysis+'AFR_PPP_2000_adj_v2_20190222.shp', driver = 'ESRI Shapefile')\n",
    "WP2015 = gpd.read_file(data_analysis+'AFR_PPP_2015_adj_v2_20190222.shp', driver = 'ESRI Shapefile')\n",
    "LS2015 = gpd.read_file(data_analysis+'WPE_1KM_2016_20190222.shp', driver = 'ESRI Shapefile')\n",
    "WPE2016 = gpd.read_file(data_analysis+'LS15_20190222.shp', driver = 'ESRI Shapefile')"
   ]
  },
  {
   "cell_type": "markdown",
   "metadata": {},
   "source": [
    "### Calc Some Stats for Tables"
   ]
  },
  {
   "cell_type": "code",
   "execution_count": null,
   "metadata": {},
   "outputs": [],
   "source": [
    "country = 'Nigeria'\n",
    "\n",
    "test = GHS2000[GHS2000['country'] == country]\n",
    "#test = test[test.PopTot <5*10**6]\n",
    "print(test.PopTot.count())\n",
    "print(test.PopTot.median())\n",
    "print(test.PopTot.mean())\n",
    "\n",
    "test = GHS2015[GHS2015['country'] == country]\n",
    "#test = test[test.PopTot <5*10**6]\n",
    "print(test.PopTot.count())\n",
    "print(test.PopTot.median())\n",
    "print(test.PopTot.mean())"
   ]
  },
  {
   "cell_type": "code",
   "execution_count": null,
   "metadata": {},
   "outputs": [],
   "source": [
    "country = 'Nigeria'\n",
    "\n",
    "test = GHS2000[GHS2000['country'] == country]\n",
    "#test = test[test.PopTot <5*10**6]\n",
    "print(test.PopTot.sum())\n",
    "\n",
    "test = GHS2015[GHS2015['country'] == country]\n",
    "#test = test[test.PopTot <5*10**6]\n",
    "print(test.PopTot.sum())\n"
   ]
  },
  {
   "cell_type": "markdown",
   "metadata": {},
   "source": [
    "### Chunk by Rain Zone\n",
    "\n",
    "For GHS 2000 and 2015 ... replace variables and run through twice."
   ]
  },
  {
   "cell_type": "code",
   "execution_count": null,
   "metadata": {
    "scrolled": true
   },
   "outputs": [],
   "source": [
    "GHS2015.rain_zone.unique()"
   ]
  },
  {
   "cell_type": "code",
   "execution_count": null,
   "metadata": {},
   "outputs": [],
   "source": [
    "# Chunk by Rain Zone \n",
    "\n",
    "GHS2000_arid = GHS2000[GHS2000['rain_zone'] == 'Arid']\n",
    "GHS2000_semi = GHS2000[GHS2000['rain_zone'] == 'Semi-arid']\n",
    "GHS2000_sub = GHS2000[GHS2000['rain_zone'] == 'Sub-humid']\n",
    "GHS2000_humid = GHS2000[GHS2000['rain_zone'] == 'Humid']\n",
    "\n",
    "# print(len(GHS2000_arid))\n",
    "# GHS2000_arid = GHS2000_arid[GHS2000_arid['country'] != 'Egypt']\n",
    "# print(len(GHS2000_arid))\n",
    "# GHS2000_semi = GHS2000_semi[GHS2000_semi['country'] != 'Egypt']\n",
    "# GHS2000_sub = GHS2000_sub[GHS2000_sub['country'] != 'Egypt']\n",
    "# GHS2000_humid = GHS2000_humid[GHS2000_humid['country'] != 'Egypt']"
   ]
  },
  {
   "cell_type": "code",
   "execution_count": null,
   "metadata": {},
   "outputs": [],
   "source": [
    "# GHS 2000 Arid Chunks \n",
    "GHS2000_arid_50k = GHS2000_arid.loc[(GHS2000_arid['PopTot'] <= 5*10**4), 'PopTot'].sum()\n",
    "print(GHS2000_arid_50k)\n",
    "\n",
    "GHS2000_arid_100k = GHS2000_arid.loc[(GHS2000_arid['PopTot'] > 5*10**4) & (GHS2000_arid['PopTot'] <= 10**5), 'PopTot'].sum()\n",
    "print(GHS2000_arid_100k)\n",
    "\n",
    "GHS2000_arid_250k = GHS2000_arid.loc[(GHS2000_arid['PopTot'] > 10**5) & (GHS2000_arid['PopTot'] <= 2.5*10**5), 'PopTot'].sum()\n",
    "print(GHS2000_arid_250k)\n",
    "\n",
    "GHS2000_arid_500k = GHS2000_arid.loc[(GHS2000_arid['PopTot'] > 2.5*10**5) & (GHS2000_arid['PopTot'] <= 5*10**5), 'PopTot'].sum()\n",
    "print(GHS2000_arid_500k)\n",
    "\n",
    "GHS2000_arid_1m = GHS2000_arid.loc[(GHS2000_arid['PopTot'] > 5*10**5) & (GHS2000_arid['PopTot'] <= 10**6), 'PopTot'].sum()\n",
    "print(GHS2000_arid_1m)\n",
    "\n",
    "GHS2000_arid_5m = GHS2000_arid.loc[(GHS2000_arid['PopTot'] > 10**6) & (GHS2000_arid['PopTot'] <= 5*10**6), 'PopTot'].sum()\n",
    "print(GHS2000_arid_5m)\n",
    "\n",
    "GHS2000_arid_5mplus = GHS2000_arid.loc[(GHS2000_arid['PopTot'] > 5*10**6), 'PopTot'].sum()\n",
    "print(GHS2000_arid_5mplus)"
   ]
  },
  {
   "cell_type": "code",
   "execution_count": null,
   "metadata": {},
   "outputs": [],
   "source": [
    "# GHS Semi Arid Chunks \n",
    "GHS2000_semi_50k = GHS2000_semi.loc[(GHS2000_semi['PopTot'] <= 5*10**4), 'PopTot'].sum()\n",
    "print(GHS2000_semi_50k)\n",
    "\n",
    "GHS2000_semi_100k = GHS2000_semi.loc[(GHS2000_semi['PopTot'] > 5*10**4) & (GHS2000_semi['PopTot'] <= 10**5), 'PopTot'].sum()\n",
    "print(GHS2000_semi_100k)\n",
    "\n",
    "GHS2000_semi_250k = GHS2000_semi.loc[(GHS2000_semi['PopTot'] > 10**5) & (GHS2000_semi['PopTot'] <= 2.5*10**5), 'PopTot'].sum()\n",
    "print(GHS2000_semi_250k)\n",
    "\n",
    "GHS2000_semi_500k = GHS2000_semi.loc[(GHS2000_semi['PopTot'] > 2.5*10**5) & (GHS2000_semi['PopTot'] <= 5*10**5), 'PopTot'].sum()\n",
    "print(GHS2000_semi_500k)\n",
    "\n",
    "GHS2000_semi_1m = GHS2000_semi.loc[(GHS2000_semi['PopTot'] > 5*10**5) & (GHS2000_semi['PopTot'] <= 10**6), 'PopTot'].sum()\n",
    "print(GHS2000_semi_1m)\n",
    "\n",
    "GHS2000_semi_5m = GHS2000_semi.loc[(GHS2000_semi['PopTot'] > 10**6) & (GHS2000_semi['PopTot'] <= 5*10**6), 'PopTot'].sum()\n",
    "print(GHS2000_semi_5m)\n",
    "\n",
    "GHS2000_semi_5mplus = GHS2000_semi.loc[(GHS2000_semi['PopTot'] > 5*10**6), 'PopTot'].sum()\n",
    "print(GHS2000_semi_5mplus)"
   ]
  },
  {
   "cell_type": "code",
   "execution_count": null,
   "metadata": {},
   "outputs": [],
   "source": [
    "# GHS Sub Humid Chunks \n",
    "GHS2000_sub_50k = GHS2000_sub.loc[(GHS2000_sub['PopTot'] <= 5*10**4), 'PopTot'].sum()\n",
    "print(GHS2000_sub_50k)\n",
    "\n",
    "GHS2000_sub_100k = GHS2000_sub.loc[(GHS2000_sub['PopTot'] > 5*10**4) & (GHS2000_sub['PopTot'] <= 10**5), 'PopTot'].sum()\n",
    "print(GHS2000_sub_100k)\n",
    "\n",
    "GHS2000_sub_250k = GHS2000_sub.loc[(GHS2000_sub['PopTot'] > 10**5) & (GHS2000_sub['PopTot'] <= 2.5*10**5), 'PopTot'].sum()\n",
    "print(GHS2000_sub_250k)\n",
    "\n",
    "GHS2000_sub_500k = GHS2000_sub.loc[(GHS2000_sub['PopTot'] > 2.5*10**5) & (GHS2000_sub['PopTot'] <= 5*10**5), 'PopTot'].sum()\n",
    "print(GHS2000_sub_500k)\n",
    "\n",
    "GHS2000_sub_1m = GHS2000_sub.loc[(GHS2000_sub['PopTot'] > 5*10**5) & (GHS2000_sub['PopTot'] <= 10**6), 'PopTot'].sum()\n",
    "print(GHS2000_sub_1m)\n",
    "\n",
    "GHS2000_sub_5m = GHS2000_sub.loc[(GHS2000_sub['PopTot'] > 10**6) & (GHS2000_sub['PopTot'] <= 5*10**6), 'PopTot'].sum()\n",
    "print(GHS2000_sub_5m)\n",
    "\n",
    "GHS2000_sub_5mplus = GHS2000_sub.loc[(GHS2000_sub['PopTot'] > 5*10**6), 'PopTot'].sum()\n",
    "print(GHS2000_sub_5mplus)"
   ]
  },
  {
   "cell_type": "code",
   "execution_count": null,
   "metadata": {
    "scrolled": true
   },
   "outputs": [],
   "source": [
    "# GHS Humid Chunks \n",
    "GHS2000_humid_50k = GHS2000_humid.loc[(GHS2000_humid['PopTot'] <= 5*10**4), 'PopTot'].sum()\n",
    "print(GHS2000_humid_50k)\n",
    "\n",
    "GHS2000_humid_100k = GHS2000_humid.loc[(GHS2000_humid['PopTot'] > 5*10**4) & (GHS2000_humid['PopTot'] <= 10**5), 'PopTot'].sum()\n",
    "print(GHS2000_humid_100k)\n",
    "\n",
    "GHS2000_humid_250k = GHS2000_humid.loc[(GHS2000_humid['PopTot'] > 10**5) & (GHS2000_humid['PopTot'] <= 2.5*10**5), 'PopTot'].sum()\n",
    "print(GHS2000_humid_250k)\n",
    "\n",
    "GHS2000_humid_500k = GHS2000_humid.loc[(GHS2000_humid['PopTot'] > 2.5*10**5) & (GHS2000_humid['PopTot'] <= 5*10**5), 'PopTot'].sum()\n",
    "print(GHS2000_humid_500k)\n",
    "\n",
    "GHS2000_humid_1m = GHS2000_humid.loc[(GHS2000_humid['PopTot'] > 5*10**5) & (GHS2000_humid['PopTot'] <= 10**6), 'PopTot'].sum()\n",
    "print(GHS2000_humid_1m)\n",
    "\n",
    "GHS2000_humid_5m = GHS2000_humid.loc[(GHS2000_humid['PopTot'] > 10**6) & (GHS2000_humid['PopTot'] <= 5*10**6), 'PopTot'].sum()\n",
    "print(GHS2000_humid_5m)\n",
    "\n",
    "GHS2000_humid_5mplus = GHS2000_humid.loc[(GHS2000_humid['PopTot'] > 5*10**6), 'PopTot'].sum()\n",
    "print(GHS2000_humid_5mplus)"
   ]
  },
  {
   "cell_type": "code",
   "execution_count": null,
   "metadata": {},
   "outputs": [],
   "source": [
    "# GHS 2000\n",
    "GHS2000_arid_bar = {'<50K':GHS2000_arid_50k, '50-100K': GHS2000_arid_100k, '100-150K':GHS2000_arid_250k,\n",
    "    '250-500K' : GHS2000_arid_500k, '500K-1M' : GHS2000_arid_1m, '1-5M' : GHS2000_arid_5m, '>5M' : GHS2000_arid_5mplus\n",
    "             }\n",
    "\n",
    "GHS2000_semi_bar = {u'Label0':GHS2000_semi_50k, u'Label1': GHS2000_semi_100k, u'Label2':GHS2000_semi_250k,\n",
    "    u'Label3' : GHS2000_semi_500k, u'Label4' : GHS2000_semi_1m, u'Label5' : GHS2000_semi_5m, u'Label6' : GHS2000_semi_5mplus\n",
    "    }\n",
    "\n",
    "GHS2000_sub_bar = {u'Label0':GHS2000_sub_50k, u'Label1': GHS2000_sub_100k, u'Label2':GHS2000_sub_250k,\n",
    "    u'Label3' : GHS2000_sub_500k, u'Label4' : GHS2000_sub_1m, u'Label5' : GHS2000_sub_5m, u'Label6' : GHS2000_sub_5mplus\n",
    "    }\n",
    "\n",
    "GHS2000_humid_bar = {u'Label0':GHS2000_humid_50k, u'Label1': GHS2000_humid_100k, u'Label2':GHS2000_humid_250k,\n",
    "    u'Label3' : GHS2000_humid_500k, u'Label4' : GHS2000_humid_1m, u'Label5' : GHS2000_humid_5m, u'Label6' : GHS2000_humid_5mplus\n",
    "   }"
   ]
  },
  {
   "cell_type": "code",
   "execution_count": null,
   "metadata": {},
   "outputs": [],
   "source": [
    "# GHS 2015\n",
    "GHS2015_arid_bar = {'<50K':GHS2015_arid_50k, '50-100K': GHS2015_arid_100k, '100-150K':GHS2015_arid_250k,\n",
    "    '250-500K' : GHS2015_arid_500k, '500K-1M' : GHS2015_arid_1m, '1-5M' : GHS2015_arid_5m, '>5M' : GHS2015_arid_5mplus\n",
    "             }\n",
    "\n",
    "GHS2015_semi_bar = {u'Label0':GHS2015_semi_50k, u'Label1': GHS2015_semi_100k, u'Label2':GHS2015_semi_250k,\n",
    "    u'Label3' : GHS2015_semi_500k, u'Label4' : GHS2015_semi_1m, u'Label5' : GHS2015_semi_5m, u'Label6' : GHS2015_semi_5mplus\n",
    "    }\n",
    "\n",
    "GHS2015_sub_bar = {u'Label0':GHS2015_sub_50k, u'Label1': GHS2015_sub_100k, u'Label2':GHS2015_sub_250k,\n",
    "    u'Label3' : GHS2015_sub_500k, u'Label4' : GHS2015_sub_1m, u'Label5' : GHS2015_sub_5m, u'Label6' : GHS2015_sub_5mplus\n",
    "    }\n",
    "\n",
    "GHS2015_humid_bar = {u'Label0':GHS2015_humid_50k, u'Label1': GHS2015_humid_100k, u'Label2':GHS2015_humid_250k,\n",
    "    u'Label3' : GHS2015_humid_500k, u'Label4' : GHS2015_humid_1m, u'Label5' : GHS2015_humid_5m, u'Label6' : GHS2015_humid_5mplus\n",
    "   }"
   ]
  },
  {
   "cell_type": "markdown",
   "metadata": {},
   "source": [
    "### Rain Zone Pct Change"
   ]
  },
  {
   "cell_type": "code",
   "execution_count": null,
   "metadata": {},
   "outputs": [],
   "source": [
    "arid_2000 = [GHS2000_arid_50k, GHS2000_arid_100k, GHS2000_arid_250k, GHS2000_arid_500k, GHS2000_arid_1m,\n",
    "            GHS2000_arid_5m, GHS2000_arid_5mplus]\n",
    "\n",
    "arid_2000_pct = np.round(arid_2000 / GHS2000.PopTot.sum() * 100, 1)"
   ]
  },
  {
   "cell_type": "code",
   "execution_count": null,
   "metadata": {},
   "outputs": [],
   "source": [
    "semi_2000 = [GHS2000_semi_50k, GHS2000_semi_100k, GHS2000_semi_250k, GHS2000_semi_500k, GHS2000_semi_1m,\n",
    "            GHS2000_semi_5m, GHS2000_semi_5mplus]\n",
    "\n",
    "semi_2000_pct = np.round(semi_2000 / GHS2000.PopTot.sum() * 100, 1)\n",
    "semi_2000_pct "
   ]
  },
  {
   "cell_type": "code",
   "execution_count": null,
   "metadata": {},
   "outputs": [],
   "source": [
    "sub_2000 = [GHS2000_sub_50k, GHS2000_sub_100k, GHS2000_sub_250k, GHS2000_sub_500k, GHS2000_sub_1m,\n",
    "            GHS2000_sub_5m, GHS2000_sub_5mplus]\n",
    "\n",
    "sub_2000_pct = np.round(sub_2000 / GHS2000.PopTot.sum() * 100, 1)\n",
    "sub_2000_pct "
   ]
  },
  {
   "cell_type": "code",
   "execution_count": null,
   "metadata": {},
   "outputs": [],
   "source": [
    "humid_2000 = [GHS2000_humid_50k, GHS2000_humid_100k, GHS2000_humid_250k, GHS2000_humid_500k, GHS2000_humid_1m,\n",
    "            GHS2000_humid_5m, GHS2000_humid_5mplus]\n",
    "\n",
    "humid_2000_pct = np.round(humid_2000 / GHS2000.PopTot.sum() * 100, 1)\n",
    "humid_2000_pct "
   ]
  },
  {
   "cell_type": "code",
   "execution_count": null,
   "metadata": {},
   "outputs": [],
   "source": [
    "arid_2015 = [GHS2015_arid_50k, GHS2015_arid_100k, GHS2015_arid_250k, GHS2015_arid_500k, GHS2015_arid_1m,\n",
    "            GHS2015_arid_5m, GHS2015_arid_5mplus]\n",
    "\n",
    "arid_2015_pct = np.round(arid_2015 / GHS2015.PopTot.sum() * 100, 1)\n",
    "arid_2015_pct "
   ]
  },
  {
   "cell_type": "code",
   "execution_count": null,
   "metadata": {},
   "outputs": [],
   "source": [
    "semi_2015 = [GHS2015_semi_50k, GHS2015_semi_100k, GHS2015_semi_250k, GHS2015_semi_500k, GHS2015_semi_1m,\n",
    "            GHS2015_semi_5m, GHS2015_semi_5mplus]\n",
    "\n",
    "semi_2015_pct = np.round(semi_2015 / GHS2015.PopTot.sum() * 100, 1)\n",
    "semi_2015_pct "
   ]
  },
  {
   "cell_type": "code",
   "execution_count": null,
   "metadata": {},
   "outputs": [],
   "source": [
    "sub_2015 = [GHS2015_sub_50k, GHS2015_sub_100k, GHS2015_sub_250k, GHS2015_sub_500k, GHS2015_sub_1m,\n",
    "            GHS2015_sub_5m, GHS2015_sub_5mplus]\n",
    "\n",
    "sub_2015_pct = np.round(sub_2015 / GHS2015.PopTot.sum() * 100, 1)\n",
    "sub_2015_pct "
   ]
  },
  {
   "cell_type": "code",
   "execution_count": null,
   "metadata": {},
   "outputs": [],
   "source": [
    "humid_2015 = [GHS2015_humid_50k, GHS2015_humid_100k, GHS2015_humid_250k, GHS2015_humid_500k, GHS2015_humid_1m,\n",
    "            GHS2015_humid_5m, GHS2015_humid_5mplus]\n",
    "\n",
    "humid_2015_pct = np.round(humid_2015 / GHS2015.PopTot.sum() * 100, 1)\n",
    "humid_2015_pct "
   ]
  },
  {
   "cell_type": "markdown",
   "metadata": {},
   "source": [
    "### Pct Change by Rainfall Zone"
   ]
  },
  {
   "cell_type": "code",
   "execution_count": null,
   "metadata": {},
   "outputs": [],
   "source": [
    "# [a_i - b_i for a_i, b_i in zip(a, b)]\n",
    "\n",
    "arid_delt = [(((a - b)/b)*100) for a, b in zip(arid_2015, arid_2000)]\n",
    "semi_delt = [(((a - b)/b)*100) for a, b in zip(semi_2015, semi_2000)]\n",
    "sub_delt = [(((a - b)/b)*100) for a, b in zip(sub_2015, sub_2000)]\n",
    "humid_delt = [(((a - b)/b)*100) for a, b in zip(humid_2015[0:6], humid_2000[0:6])]\n",
    "\n",
    "\n",
    "print(len(humid_delt))\n",
    "humid_delt.append(0)\n",
    "print(len(humid_delt))"
   ]
  },
  {
   "cell_type": "code",
   "execution_count": null,
   "metadata": {
    "scrolled": false
   },
   "outputs": [],
   "source": [
    "# Make some plots\n",
    "\n",
    "# make plot\n",
    "sns.set(font_scale=1.5)\n",
    "\n",
    "#a = [0-.66,1-.66,2-.64,3-.66,4-.66,5-.66,6-.66]\n",
    "a = [0-.44,1-.44,2-.44,3-.44,4-.44,5-.44,6-.44]\n",
    "b = [0-.22,1-.22,2-.22,3-.22,4-.22,5-.22,6-.22]\n",
    "c = [0,1,2,3,4,5,6]\n",
    "d = [0+.22,1+.22,2+.22,3+.22,4+.22,5+.22,6+.22]\n",
    "#d = [0+.44,1+.44,2+.44,3+.44,4+.44,5+.44,6+.44]\n",
    "\n",
    "# Ticks\n",
    "ticks_bar = ['<50K', '50-100K', '100-150K','250-500K', '500K-1M', '1-5M' , '>5M']\n",
    "\n",
    "\n",
    "fig, ax = plt.subplots(nrows=1, ncols=1)\n",
    "\n",
    "#2000\n",
    "plt.bar(a, arid_delt, width=0.2, align='center', alpha  = 1, color = 'Blue')\n",
    "plt.bar(b, semi_delt, width=0.2, align='center', alpha  = 1, color = 'Purple')\n",
    "plt.bar(c, sub_delt, width=0.2, align='center', alpha  = 1, color = 'Red')\n",
    "plt.bar(d, humid_delt, width=0.2, align='center', alpha = 1, color = 'Green')\n",
    "\n",
    "bar_leg = ['Arid', 'Semi-arid', 'Sub-humid', 'Humid']\n",
    "\n",
    "plt.legend(bar_leg,loc=2)\n",
    "\n",
    "plt.xticks(range(len(ticks_bar)), ticks_bar)\n",
    "\n",
    "fig = matplotlib.pyplot.gcf()\n",
    "fig.set_size_inches(11, 9)\n",
    "#plt.gca().set_yscale('log')\n",
    "plt.xlabel('Urban Settlement Size')\n",
    "plt.ylabel('Pct. Change')\n",
    "plt.title('Percent Change in GHS-Pop 2000 - 2015 by Rainfall Zone')\n",
    "#ax.set_facecolor('White')\n",
    "fig.savefig('/Users/cascade/Desktop/'+'PopRainGHS2000-15_bar.png', dpi=700, transparent=False)\n",
    "\n"
   ]
  },
  {
   "cell_type": "markdown",
   "metadata": {},
   "source": [
    "## Total Change by Rain Zone"
   ]
  },
  {
   "cell_type": "code",
   "execution_count": null,
   "metadata": {},
   "outputs": [],
   "source": [
    "totdelt_arid = [(a - b) for a, b in zip(arid_2015, arid_2000)]\n",
    "totdelt_semi = [(a - b) for a, b in zip(semi_2015, semi_2000)]\n",
    "totdelt_sub = [(a - b) for a, b in zip(sub_2015, sub_2000)]\n",
    "totdelt_humid = [(a - b) for a, b in zip(humid_2015, humid_2000)]\n",
    "totdelt_all = [(a - b) for a, b in zip(GHS2015_chunks, GHS2000_chunks)]"
   ]
  },
  {
   "cell_type": "code",
   "execution_count": null,
   "metadata": {},
   "outputs": [],
   "source": [
    "np.sum(arid_2015)"
   ]
  },
  {
   "cell_type": "code",
   "execution_count": null,
   "metadata": {
    "scrolled": true
   },
   "outputs": [],
   "source": [
    "test = GHS2015[GHS2015['rain_zone'] == 'Arid']\n",
    "print(test.PopTot.sum())\n",
    "test = test[test['country'] != 'Egypt']\n",
    "print(test.PopTot.sum())"
   ]
  },
  {
   "cell_type": "code",
   "execution_count": null,
   "metadata": {},
   "outputs": [],
   "source": [
    "# Make some plots\n",
    "\n",
    "# make plot\n",
    "sns.set(font_scale=1.5)\n",
    "\n",
    "#a = [0-.66,1-.66,2-.64,3-.66,4-.66,5-.66,6-.66]\n",
    "a = [0-.44,1-.44,2-.44,3-.44,4-.44,5-.44,6-.44]\n",
    "b = [0-.22,1-.22,2-.22,3-.22,4-.22,5-.22,6-.22]\n",
    "c = [0,1,2,3,4,5,6]\n",
    "d = [0+.22,1+.22,2+.22,3+.22,4+.22,5+.22,6+.22]\n",
    "#d = [0+.44,1+.44,2+.44,3+.44,4+.44,5+.44,6+.44]\n",
    "\n",
    "# Ticks\n",
    "ticks_bar = ['<50K', '50-100K', '100-150K','250-500K', '500K-1M', '1-5M' , '>5M']\n",
    "\n",
    "\n",
    "fig, ax = plt.subplots(nrows=1, ncols=1)\n",
    "\n",
    "#2000\n",
    "plt.bar(a, [x / 10**6 for x in totdelt_arid], width=0.2, align='center', alpha  = 1, color = 'Blue')\n",
    "plt.bar(b, [x / 10**6 for x in totdelt_semi], width=0.2, align='center', alpha  = 1, color = 'Purple')\n",
    "plt.bar(c, [x / 10**6 for x in totdelt_sub], width=0.2, align='center', alpha  = 1, color = 'Red')\n",
    "plt.bar(d, [x / 10**6 for x in totdelt_humid], width=0.2, align='center', alpha = 1, color = 'Green')\n",
    "#plt.bar(f, [x / 10**6 for x in totdelt_all], width=0.15, align='center', alpha = 0.7, color = 'Black')\n",
    "\n",
    "\n",
    "bar_leg = ['Arid', 'Semi-arid', 'Sub-humid', 'Humid', 'Africa']\n",
    "\n",
    "plt.legend(bar_leg,loc=2)\n",
    "\n",
    "plt.xticks(range(len(ticks_bar)), ticks_bar)\n",
    "\n",
    "fig = matplotlib.pyplot.gcf()\n",
    "fig.set_size_inches(11, 9)\n",
    "#plt.gca().set_yscale('log')\n",
    "plt.xlabel('Urban Settlement Size')\n",
    "plt.ylabel('Population (Millions)')\n",
    "plt.title('Total Change in GHS-Pop 2000 - 2015 by Rainfall Zone')\n",
    "#ax.set_facecolor('White')\n",
    "fig.savefig('/Users/cascade/Desktop/'+'PopRainGHS2000-15_barTOT.png', dpi=700, transparent=False)"
   ]
  },
  {
   "cell_type": "code",
   "execution_count": null,
   "metadata": {},
   "outputs": [],
   "source": [
    "# Break up by Rain Zone 2000\n",
    "\n",
    "GHS2000_rain = GHS2000[GHS2000['rain_zone'] != '0']\n",
    "GHS2000_rain = GHS2000_rain[GHS2000_rain['rain_zone'] != 'NoClass']\n",
    "GHS2000_rain =  GHS2000_rain[GHS2000_rain['rain_zone'] != 'NA']\n",
    "GHS2000_rain['raincat'] = GHS2000_rain.rain_zone + ' 2000'\n",
    "\n",
    "# Break up by Rain Zone 2015 & add unique col \n",
    "GHS2015_rain = GHS2015[GHS2015['rain_zone'] != '0']\n",
    "GHS2015_rain = GHS2015_rain[GHS2015_rain['rain_zone'] != 'NoClass']\n",
    "GHS2015_rain =  GHS2015_rain[GHS2015_rain['rain_zone'] != 'NA']\n",
    "GHS2015_rain['raincat'] = GHS2015_rain.rain_zone + ' 2015'\n",
    "\n",
    "# Join the two\n",
    "datasets_rain = [GHS2000_rain, GHS2015_rain]\n",
    "datasets_rain_concat = pd.concat(datasets_rain, ignore_index=True)\n"
   ]
  },
  {
   "cell_type": "code",
   "execution_count": null,
   "metadata": {},
   "outputs": [],
   "source": [
    "sns.set(font_scale=1)\n",
    "\n",
    "plot_order = ['Arid 2000', 'Arid 2015', 'Semi-arid 2000', 'Semi-arid 2015',\n",
    "              'Sub-humid 2000', 'Sub-humid 2015', 'Humid 2000', 'Humid 2015']\n",
    "\n",
    "pal = ['Blue', 'Blue', 'Purple', 'Purple', 'Red', 'Red', 'Green', 'Green']\n",
    "\n",
    "ax = sns.boxplot(x = 'PopTot', y = 'raincat', data = datasets_rain_concat, order = plot_order, palette = pal, \n",
    "                 sym = '')\n",
    "\n",
    "\n",
    "# Add transparency to colors\n",
    "for patch in ax.artists:\n",
    " r, g, b, a = patch.get_facecolor()\n",
    " patch.set_facecolor((r, g, b, .7))\n",
    "\n",
    "\n",
    "fig = matplotlib.pyplot.gcf()\n",
    "fig.set_size_inches(4.5, 3)\n",
    "plt.gca().set_xscale('log')\n",
    "plt.xlabel('Urban Settlement Size')\n",
    "plt.ylabel('')\n",
    "plt.tick_params(axis='both', which='major', labelsize=10)\n",
    "plt.title('Distribution by Moisture Zone 2000 & 2015', x = 0.25)\n",
    "ax.set_facecolor('White')\n",
    "#fig.savefig('/Users/cascade/Desktop/'+'PopRainGHS2000-15_box.png', dpi=700, transparent=False,\n",
    "#           bbox_inches='tight')"
   ]
  },
  {
   "cell_type": "code",
   "execution_count": null,
   "metadata": {},
   "outputs": [],
   "source": [
    "round(datasets_rain_concat.groupby(['raincat']).PopTot.std())"
   ]
  },
  {
   "cell_type": "markdown",
   "metadata": {},
   "source": [
    "### Chunk by Dataset "
   ]
  },
  {
   "cell_type": "code",
   "execution_count": 4,
   "metadata": {},
   "outputs": [
    {
     "name": "stdout",
     "output_type": "stream",
     "text": [
      "32365803.83605957\n",
      "25709111.074539185\n",
      "47390039.89875334\n",
      "34533143.84853259\n",
      "44698553.905130506\n",
      "112615952.7138133\n",
      "168529234.33390665\n"
     ]
    }
   ],
   "source": [
    "# WP 2015 Chunks\n",
    "WP2015_50k = WP2015.loc[(WP2015['PopTot'] <= 5*10**4), 'PopTot'].sum()\n",
    "print(WP2015_50k)\n",
    "\n",
    "WP2015_100k = WP2015.loc[(WP2015['PopTot'] > 5*10**4) & (WP2015['PopTot'] <= 10**5), 'PopTot'].sum()\n",
    "print(WP2015_100k)\n",
    "\n",
    "WP2015_250k = WP2015.loc[(WP2015['PopTot'] > 10**5) & (WP2015['PopTot'] <= 2.5*10**5), 'PopTot'].sum()\n",
    "print(WP2015_250k)\n",
    "\n",
    "WP2015_500k = WP2015.loc[(WP2015['PopTot'] > 2.5*10**5) & (WP2015['PopTot'] <= 5*10**5), 'PopTot'].sum()\n",
    "print(WP2015_500k)\n",
    "\n",
    "WP2015_1m = WP2015.loc[(WP2015['PopTot'] > 5*10**5) & (WP2015['PopTot'] <= 10**6), 'PopTot'].sum()\n",
    "print(WP2015_1m)\n",
    "\n",
    "WP2015_5m = WP2015.loc[(WP2015['PopTot'] > 10**6) & (WP2015['PopTot'] <= 5*10**6), 'PopTot'].sum()\n",
    "print(WP2015_5m)\n",
    "\n",
    "WP2015_5mplus = WP2015.loc[(WP2015['PopTot'] > 5*10**6), 'PopTot'].sum()\n",
    "print(WP2015_5mplus)"
   ]
  },
  {
   "cell_type": "code",
   "execution_count": 5,
   "metadata": {},
   "outputs": [
    {
     "name": "stdout",
     "output_type": "stream",
     "text": [
      "48557563.0\n",
      "28421033.0\n",
      "51220402.0\n",
      "35535824.0\n",
      "39009926.0\n",
      "126125882.0\n",
      "173905597.0\n"
     ]
    }
   ],
   "source": [
    "# LS 2015 Chunks \n",
    "\n",
    "LS2015_50k = LS2015.loc[(LS2015['PopTot'] <= 5*10**4), 'PopTot'].sum()\n",
    "print(LS2015_50k)\n",
    "\n",
    "LS2015_100k = LS2015.loc[(LS2015['PopTot'] > 5*10**4) & (LS2015['PopTot'] <= 10**5), 'PopTot'].sum()\n",
    "print(LS2015_100k)\n",
    "\n",
    "LS2015_250k = LS2015.loc[(LS2015['PopTot'] > 10**5) & (LS2015['PopTot'] <= 2.5*10**5), 'PopTot'].sum()\n",
    "print(LS2015_250k)\n",
    "\n",
    "LS2015_500k = LS2015.loc[(LS2015['PopTot'] > 2.5*10**5) & (LS2015['PopTot'] <= 5*10**5), 'PopTot'].sum()\n",
    "print(LS2015_500k)\n",
    "\n",
    "LS2015_1m = LS2015.loc[(LS2015['PopTot'] > 5*10**5) & (LS2015['PopTot'] <= 10**6), 'PopTot'].sum()\n",
    "print(LS2015_1m)\n",
    "\n",
    "LS2015_5m = LS2015.loc[(LS2015['PopTot'] > 10**6) & (LS2015['PopTot'] <= 5*10**6), 'PopTot'].sum()\n",
    "print(LS2015_5m)\n",
    "\n",
    "LS2015_5mplus = LS2015.loc[(LS2015['PopTot'] > 5*10**6), 'PopTot'].sum()\n",
    "print(LS2015_5mplus)"
   ]
  },
  {
   "cell_type": "code",
   "execution_count": 6,
   "metadata": {},
   "outputs": [
    {
     "name": "stdout",
     "output_type": "stream",
     "text": [
      "62582298.552251935\n",
      "47452640.07127285\n",
      "77159918.01437423\n",
      "47179685.36911802\n",
      "48538893.546690166\n",
      "133380771.76077779\n",
      "163536379.12052602\n"
     ]
    }
   ],
   "source": [
    "#GHS 2015 Chunks\n",
    "\n",
    "GHS2015_50k = GHS2015.loc[(GHS2015['PopTot'] <= 5*10**4), 'PopTot'].sum()\n",
    "print(GHS2015_50k)\n",
    "\n",
    "GHS2015_100k = GHS2015.loc[(GHS2015['PopTot'] > 5*10**4) & (GHS2015['PopTot'] <= 10**5), 'PopTot'].sum()\n",
    "print(GHS2015_100k)\n",
    "\n",
    "GHS2015_250k = GHS2015.loc[(GHS2015['PopTot'] > 10**5) & (GHS2015['PopTot'] <= 2.5*10**5), 'PopTot'].sum()\n",
    "print(GHS2015_250k)\n",
    "\n",
    "GHS2015_500k = GHS2015.loc[(GHS2015['PopTot'] > 2.5*10**5) & (GHS2015['PopTot'] <= 5*10**5), 'PopTot'].sum()\n",
    "print(GHS2015_500k)\n",
    "\n",
    "GHS2015_1m = GHS2015.loc[(GHS2015['PopTot'] > 5*10**5) & (GHS2015['PopTot'] <= 10**6), 'PopTot'].sum()\n",
    "print(GHS2015_1m)\n",
    "\n",
    "GHS2015_5m = GHS2015.loc[(GHS2015['PopTot'] > 10**6) & (GHS2015['PopTot'] <= 5*10**6), 'PopTot'].sum()\n",
    "print(GHS2015_5m)\n",
    "\n",
    "GHS2015_5mplus = GHS2015.loc[(GHS2015['PopTot'] > 5*10**6), 'PopTot'].sum()\n",
    "print(GHS2015_5mplus)"
   ]
  },
  {
   "cell_type": "code",
   "execution_count": 7,
   "metadata": {},
   "outputs": [
    {
     "name": "stdout",
     "output_type": "stream",
     "text": [
      "51129888.0\n",
      "39115705.0\n",
      "75087201.0\n",
      "54679110.0\n",
      "51959247.0\n",
      "125045247.0\n",
      "181894436.0\n"
     ]
    }
   ],
   "source": [
    "# WPE 2016 Chunks\n",
    "WPE2016_50k = WPE2016.loc[(WPE2016['PopTot'] <= 5*10**4), 'PopTot'].sum()\n",
    "print(WPE2016_50k)\n",
    "\n",
    "WPE2016_100k = WPE2016.loc[(WPE2016['PopTot'] > 5*10**4) & (WPE2016['PopTot'] <= 10**5), 'PopTot'].sum()\n",
    "print(WPE2016_100k)\n",
    "\n",
    "WPE2016_250k = WPE2016.loc[(WPE2016['PopTot'] > 10**5) & (WPE2016['PopTot'] <= 2.5*10**5), 'PopTot'].sum()\n",
    "print(WPE2016_250k)\n",
    "\n",
    "WPE2016_500k = WPE2016.loc[(WPE2016['PopTot'] > 2.5*10**5) & (WPE2016['PopTot'] <= 5*10**5), 'PopTot'].sum()\n",
    "print(WPE2016_500k)\n",
    "\n",
    "WPE2016_1m = WPE2016.loc[(WPE2016['PopTot'] > 5*10**5) & (WPE2016['PopTot'] <= 10**6), 'PopTot'].sum()\n",
    "print(WPE2016_1m)\n",
    "\n",
    "WPE2016_5m = WPE2016.loc[(WPE2016['PopTot'] > 10**6) & (WPE2016['PopTot'] <= 5*10**6), 'PopTot'].sum()\n",
    "print(WPE2016_5m)\n",
    "\n",
    "WPE2016_5mplus = WPE2016.loc[(WPE2016['PopTot'] > 5*10**6), 'PopTot'].sum()\n",
    "print(WPE2016_5mplus)"
   ]
  },
  {
   "cell_type": "code",
   "execution_count": 8,
   "metadata": {},
   "outputs": [
    {
     "name": "stdout",
     "output_type": "stream",
     "text": [
      "28340887.602341175\n",
      "21048367.255339146\n",
      "32130332.743869938\n",
      "27971259.82409185\n",
      "34732227.645263076\n",
      "87861582.9244433\n",
      "54542867.037235975\n"
     ]
    }
   ],
   "source": [
    "# WP 2000 Chunks\n",
    "WP2000_50k = WP2000.loc[(WP2000['PopTot'] <= 5*10**4), 'PopTot'].sum()\n",
    "print(WP2000_50k)\n",
    "\n",
    "WP2000_100k = WP2000.loc[(WP2000['PopTot'] > 5*10**4) & (WP2000['PopTot'] <= 10**5), 'PopTot'].sum()\n",
    "print(WP2000_100k)\n",
    "\n",
    "WP2000_250k = WP2000.loc[(WP2000['PopTot'] > 10**5) & (WP2000['PopTot'] <= 2.5*10**5), 'PopTot'].sum()\n",
    "print(WP2000_250k)\n",
    "\n",
    "WP2000_500k = WP2000.loc[(WP2000['PopTot'] > 2.5*10**5) & (WP2000['PopTot'] <= 5*10**5), 'PopTot'].sum()\n",
    "print(WP2000_500k)\n",
    "\n",
    "WP2000_1m = WP2000.loc[(WP2000['PopTot'] > 5*10**5) & (WP2000['PopTot'] <= 10**6), 'PopTot'].sum()\n",
    "print(WP2000_1m)\n",
    "\n",
    "WP2000_5m = WP2000.loc[(WP2000['PopTot'] > 10**6) & (WP2000['PopTot'] <= 5*10**6), 'PopTot'].sum()\n",
    "print(WP2000_5m)\n",
    "\n",
    "WP2000_5mplus = WP2000.loc[(WP2000['PopTot'] > 5*10**6), 'PopTot'].sum()\n",
    "print(WP2000_5mplus)"
   ]
  },
  {
   "cell_type": "code",
   "execution_count": 9,
   "metadata": {},
   "outputs": [
    {
     "name": "stdout",
     "output_type": "stream",
     "text": [
      "60381751.63308716\n",
      "38717654.62478638\n",
      "51723732.53552246\n",
      "34169614.5284729\n",
      "31058496.36251831\n",
      "84893172.39413452\n",
      "66563435.2522583\n"
     ]
    }
   ],
   "source": [
    "# GHS 2000 Chunks\n",
    "GHS2000_50k = GHS2000.loc[(GHS2000['PopTot'] <= 5*10**4), 'PopTot'].sum()\n",
    "print(GHS2000_50k)\n",
    "\n",
    "GHS2000_100k = GHS2000.loc[(GHS2000['PopTot'] > 5*10**4) & (GHS2000['PopTot'] <= 10**5), 'PopTot'].sum()\n",
    "print(GHS2000_100k)\n",
    "\n",
    "GHS2000_250k = GHS2000.loc[(GHS2000['PopTot'] > 10**5) & (GHS2000['PopTot'] <= 2.5*10**5), 'PopTot'].sum()\n",
    "print(GHS2000_250k)\n",
    "\n",
    "GHS2000_500k = GHS2000.loc[(GHS2000['PopTot'] > 2.5*10**5) & (GHS2000['PopTot'] <= 5*10**5), 'PopTot'].sum()\n",
    "print(GHS2000_500k)\n",
    "\n",
    "GHS2000_1m = GHS2000.loc[(GHS2000['PopTot'] > 5*10**5) & (GHS2000['PopTot'] <= 10**6), 'PopTot'].sum()\n",
    "print(GHS2000_1m)\n",
    "\n",
    "GHS2000_5m = GHS2000.loc[(GHS2000['PopTot'] > 10**6) & (GHS2000['PopTot'] <= 5*10**6), 'PopTot'].sum()\n",
    "print(GHS2000_5m)\n",
    "\n",
    "GHS2000_5mplus = GHS2000.loc[(GHS2000['PopTot'] > 5*10**6), 'PopTot'].sum()\n",
    "print(GHS2000_5mplus)"
   ]
  },
  {
   "cell_type": "code",
   "execution_count": 10,
   "metadata": {},
   "outputs": [],
   "source": [
    "# Chunks\n",
    "\n",
    "WP2000_chunks = [WP2000_50k, WP2000_100k, WP2000_250k, WP2000_500k, WP2000_1m, WP2000_5m, WP2000_5mplus]\n",
    "WP2015_chunks = [WP2015_50k, WP2015_100k, WP2015_250k, WP2015_500k, WP2015_1m, WP2015_5m, WP2015_5mplus]\n",
    "\n",
    "GHS2000_chunks = [GHS2000_50k, GHS2000_100k, GHS2000_250k, GHS2000_500k, GHS2000_1m, GHS2000_5m, GHS2000_5mplus]\n",
    "GHS2015_chunks = [GHS2015_50k, GHS2015_100k, GHS2015_250k, GHS2015_500k, GHS2015_1m, GHS2015_5m, GHS2015_5mplus]\n",
    "\n",
    "LS2015_chunks = [LS2015_50k, LS2015_100k, LS2015_250k, LS2015_500k, LS2015_1m, LS2015_5m, LS2015_5mplus]\n",
    "\n",
    "WPE2016_chunks = [WPE2016_50k, WPE2016_100k, WPE2016_250k, WPE2016_500k, WPE2016_1m, WPE2016_5m, WPE2016_5mplus]\n"
   ]
  },
  {
   "cell_type": "code",
   "execution_count": 11,
   "metadata": {},
   "outputs": [],
   "source": [
    "#datasets_in = [GHS2000, GHS2015, WP2000, WP2015, LS2015, WPE2016]\n",
    "\n",
    "data_chunks = [GHS2000_chunks, GHS2015_chunks, WP2000_chunks, WP2015_chunks, LS2015_chunks, WPE2016_chunks] "
   ]
  },
  {
   "cell_type": "code",
   "execution_count": 12,
   "metadata": {},
   "outputs": [],
   "source": [
    "# Percentages\n",
    "\n",
    "GHS2000_chunks_pct = np.around(GHS2000_chunks / GHS2000.PopTot.sum() * 100, 1)\n",
    "GHS2015_chunks_pct = np.around(GHS2015_chunks / GHS2015.PopTot.sum() * 100, 1)\n",
    "\n",
    "WP2000_chunks_pct = np.around(WP2000_chunks / WP2000.PopTot.sum() * 100, 1)\n",
    "WP2015_chunks_pct = np.around(WP2015_chunks / WP2015.PopTot.sum() * 100, 1)\n",
    "\n",
    "LS2015_chunks_pct = np.around(LS2015_chunks / LS2015.PopTot.sum() * 100, 1)\n",
    "WPE2016_chunks_pct = np.around(WPE2016_chunks / WPE2016.PopTot.sum() * 100, 1)"
   ]
  },
  {
   "cell_type": "markdown",
   "metadata": {},
   "source": [
    "### Chunk analysis"
   ]
  },
  {
   "cell_type": "code",
   "execution_count": null,
   "metadata": {},
   "outputs": [],
   "source": [
    "print(LS2015_50k/LS2015.PopTot.sum())\n",
    "print(WP2015_250k/WP2015.PopTot.sum())\n",
    "print(WPE2016_250k/WPE2016.PopTot.sum())\n",
    "print(GHS2015_250k/GHS2015.PopTot.sum())"
   ]
  },
  {
   "cell_type": "code",
   "execution_count": null,
   "metadata": {},
   "outputs": [],
   "source": [
    "data_chunks[1][0]"
   ]
  },
  {
   "cell_type": "markdown",
   "metadata": {},
   "source": [
    "# Plots"
   ]
  },
  {
   "cell_type": "markdown",
   "metadata": {},
   "source": [
    "### Bar plots"
   ]
  },
  {
   "cell_type": "code",
   "execution_count": 13,
   "metadata": {},
   "outputs": [
    {
     "ename": "NameError",
     "evalue": "name 'GHS2015_arid_bar' is not defined",
     "output_type": "error",
     "traceback": [
      "\u001b[0;31m---------------------------------------------------------------------------\u001b[0m",
      "\u001b[0;31mNameError\u001b[0m                                 Traceback (most recent call last)",
      "\u001b[0;32m<ipython-input-13-3e83fa4e8eff>\u001b[0m in \u001b[0;36m<module>\u001b[0;34m()\u001b[0m\n\u001b[1;32m     14\u001b[0m \u001b[0;34m\u001b[0m\u001b[0m\n\u001b[1;32m     15\u001b[0m \u001b[0;31m#2015\u001b[0m\u001b[0;34m\u001b[0m\u001b[0;34m\u001b[0m\u001b[0m\n\u001b[0;32m---> 16\u001b[0;31m \u001b[0mplt\u001b[0m\u001b[0;34m.\u001b[0m\u001b[0mbar\u001b[0m\u001b[0;34m(\u001b[0m\u001b[0mx\u001b[0m\u001b[0;34m,\u001b[0m \u001b[0mGHS2015_arid_bar\u001b[0m\u001b[0;34m.\u001b[0m\u001b[0mvalues\u001b[0m\u001b[0;34m(\u001b[0m\u001b[0;34m)\u001b[0m\u001b[0;34m,\u001b[0m \u001b[0mwidth\u001b[0m\u001b[0;34m=\u001b[0m\u001b[0;36m0.2\u001b[0m\u001b[0;34m,\u001b[0m \u001b[0malign\u001b[0m\u001b[0;34m=\u001b[0m\u001b[0;34m'center'\u001b[0m\u001b[0;34m,\u001b[0m \u001b[0malpha\u001b[0m  \u001b[0;34m=\u001b[0m \u001b[0;36m0.3\u001b[0m\u001b[0;34m,\u001b[0m \u001b[0mcolor\u001b[0m \u001b[0;34m=\u001b[0m \u001b[0;34m'Blue'\u001b[0m\u001b[0;34m)\u001b[0m\u001b[0;34m\u001b[0m\u001b[0m\n\u001b[0m\u001b[1;32m     17\u001b[0m \u001b[0mplt\u001b[0m\u001b[0;34m.\u001b[0m\u001b[0mbar\u001b[0m\u001b[0;34m(\u001b[0m\u001b[0my\u001b[0m\u001b[0;34m,\u001b[0m \u001b[0mGHS2015_semi_bar\u001b[0m\u001b[0;34m.\u001b[0m\u001b[0mvalues\u001b[0m\u001b[0;34m(\u001b[0m\u001b[0;34m)\u001b[0m\u001b[0;34m,\u001b[0m \u001b[0mwidth\u001b[0m\u001b[0;34m=\u001b[0m\u001b[0;36m0.2\u001b[0m\u001b[0;34m,\u001b[0m \u001b[0malign\u001b[0m\u001b[0;34m=\u001b[0m\u001b[0;34m'center'\u001b[0m\u001b[0;34m,\u001b[0m \u001b[0malpha\u001b[0m  \u001b[0;34m=\u001b[0m \u001b[0;36m0.3\u001b[0m\u001b[0;34m,\u001b[0m \u001b[0mcolor\u001b[0m \u001b[0;34m=\u001b[0m \u001b[0;34m'Purple'\u001b[0m\u001b[0;34m)\u001b[0m\u001b[0;34m\u001b[0m\u001b[0m\n\u001b[1;32m     18\u001b[0m \u001b[0mplt\u001b[0m\u001b[0;34m.\u001b[0m\u001b[0mbar\u001b[0m\u001b[0;34m(\u001b[0m\u001b[0mz\u001b[0m\u001b[0;34m,\u001b[0m \u001b[0mGHS2015_sub_bar\u001b[0m\u001b[0;34m.\u001b[0m\u001b[0mvalues\u001b[0m\u001b[0;34m(\u001b[0m\u001b[0;34m)\u001b[0m\u001b[0;34m,\u001b[0m \u001b[0mwidth\u001b[0m\u001b[0;34m=\u001b[0m\u001b[0;36m0.2\u001b[0m\u001b[0;34m,\u001b[0m \u001b[0malign\u001b[0m\u001b[0;34m=\u001b[0m\u001b[0;34m'center'\u001b[0m\u001b[0;34m,\u001b[0m \u001b[0malpha\u001b[0m  \u001b[0;34m=\u001b[0m \u001b[0;36m0.3\u001b[0m\u001b[0;34m,\u001b[0m \u001b[0mcolor\u001b[0m \u001b[0;34m=\u001b[0m \u001b[0;34m'Red'\u001b[0m\u001b[0;34m)\u001b[0m\u001b[0;34m\u001b[0m\u001b[0m\n",
      "\u001b[0;31mNameError\u001b[0m: name 'GHS2015_arid_bar' is not defined"
     ]
    },
    {
     "data": {
      "image/png": "[encoded data removed]",
      "text/plain": [
       "<Figure size 432x288 with 1 Axes>"
      ]
     },
     "metadata": {},
     "output_type": "display_data"
    }
   ],
   "source": [
    "# Total Change by Rain Zone\n",
    "\n",
    "sns.set(font_scale=3)\n",
    "x = [0,1,2,3,4,5,6]\n",
    "y = [0-.22,1-.22,2-.22,3-.22,4-.22,5-.2,6-.22]\n",
    "z = [0-.44,1-.44,2-.44,3-.44,4-.44,5-.44,6-.44]\n",
    "a = [0+.22,1+.22,2+.22,3+.22,4+.22,5+.2,6+.22]\n",
    "\n",
    "# Ticks\n",
    "ticks_bar = ['<50K', '50-100K', '100-150K','250-500K', '500K-1M', '1-5M' , '>5M']\n",
    "\n",
    "\n",
    "fig, ax = plt.subplots(nrows=1, ncols=1)\n",
    "\n",
    "#2015\n",
    "plt.bar(x, GHS2015_arid_bar.values(), width=0.2, align='center', alpha  = 0.3, color = 'Blue')\n",
    "plt.bar(y, GHS2015_semi_bar.values(), width=0.2, align='center', alpha  = 0.3, color = 'Purple')\n",
    "plt.bar(z, GHS2015_sub_bar.values(), width=0.2, align='center', alpha  = 0.3, color = 'Red')\n",
    "plt.bar(a, GHS2015_humid_bar.values(), width=0.2, align='center', alpha = 0.3, color = 'Green')\n",
    "\n",
    "#2000\n",
    "plt.bar(x, GHS2000_arid_bar.values(), width=0.05, align='center', alpha  = 1, color = 'Blue', edgecolor = 'Black')\n",
    "plt.bar(y, GHS2000_semi_bar.values(), width=0.05, align='center', alpha  = 1, color = 'Purple', edgecolor = 'Black')\n",
    "plt.bar(z, GHS2000_sub_bar.values(), width=0.05, align='center', alpha  = 1, color = 'Red', edgecolor = 'Black')\n",
    "plt.bar(a, GHS2000_humid_bar.values(), width=0.05, align='center', alpha = 1, color = 'Green', edgecolor = 'Black')\n",
    "\n",
    "# bar_leg = ['WorldPop 2000 Arid', 'WorldPop 2000 Semi-arid', 'WorldPop 2000 Sub-humid', 'WorldPop 2000 Humid',\n",
    "#           'WorldPop 2015 Arid', 'WorldPop 2015 Semi-arid', 'WorldPop 2015 Sub-humid', 'WorldPop 2015 Humid']\n",
    "\n",
    "bar_leg = ['Arid', 'Semi']\n",
    "\n",
    "plt.legend(bar_leg,loc=2)\n",
    "\n",
    "plt.xticks(range(len(ticks_bar)), ticks_bar)\n",
    "\n",
    "fig = matplotlib.pyplot.gcf()\n",
    "fig.set_size_inches(25, 15)\n",
    "plt.gca().set_yscale('log')\n",
    "plt.xlabel('Population')\n",
    "plt.ylabel('')\n",
    "plt.title('Total Urban Population by Settlement Size for Africa')\n",
    "ax.set_facecolor('White')\n",
    "# fig.savefig('/Users/cascade/Desktop/'+'PopAll_bar.png', dpi=700, transparent=False)\n",
    "\n"
   ]
  },
  {
   "cell_type": "code",
   "execution_count": null,
   "metadata": {},
   "outputs": [],
   "source": [
    "# Pct Change by Rain Zone\n",
    "\n",
    "# make plot\n",
    "sns.set(font_scale=3)\n",
    "x = [0,1,2,3,4,5,6]\n",
    "y = [0-.22,1-.22,2-.22,3-.22,4-.22,5-.2,6-.22]\n",
    "z = [0-.44,1-.44,2-.44,3-.44,4-.44,5-.44,6-.44]\n",
    "a = [0+.22,1+.22,2+.22,3+.22,4+.22,5+.2,6+.22]\n",
    "\n",
    "# Ticks\n",
    "ticks_bar = ['<50K', '50-100K', '100-150K','250-500K', '500K-1M', '1-5M' , '>5M']\n",
    "\n",
    "\n",
    "fig, ax = plt.subplots(nrows=1, ncols=1)\n",
    "\n",
    "#2000\n",
    "plt.bar(x, arid_2000_pct, width=0.2, align='center', alpha  = 0.3, color = 'Blue')\n",
    "plt.bar(y, semi_2000_pct, width=0.2, align='center', alpha  = 0.3, color = 'Purple')\n",
    "plt.bar(z, sub_2000_pct, width=0.2, align='center', alpha  = 0.3, color = 'Red')\n",
    "plt.bar(a, humid_2000_pct, width=0.2, align='center', alpha = 0.3, color = 'Green')\n",
    "\n",
    "#2000\n",
    "plt.bar(x, arid_2015_pct, width=0.05, align='center', alpha  = 1, color = 'Blue', edgecolor = 'Black')\n",
    "plt.bar(y, semi_2015_pct, width=0.05, align='center', alpha  = 1, color = 'Purple', edgecolor = 'Black')\n",
    "plt.bar(z, sub_2015_pct, width=0.05, align='center', alpha  = 1, color = 'Red', edgecolor = 'Black')\n",
    "plt.bar(a, humid_2015_pct, width=0.05, align='center', alpha = 1, color = 'Green', edgecolor = 'Black')\n",
    "\n",
    "# bar_leg = ['WorldPop 2000 Arid', 'WorldPop 2000 Semi-arid', 'WorldPop 2000 Sub-humid', 'WorldPop 2000 Humid',\n",
    "#           'WorldPop 2015 Arid', 'WorldPop 2015 Semi-arid', 'WorldPop 2015 Sub-humid', 'WorldPop 2015 Humid']\n",
    "\n",
    "bar_leg = ['Arid', 'Semi']\n",
    "\n",
    "plt.legend(bar_leg,loc=2)\n",
    "\n",
    "\n",
    "plt.xticks(range(len(ticks_bar)), ticks_bar)\n",
    "\n",
    "fig = matplotlib.pyplot.gcf()\n",
    "fig.set_size_inches(25, 15)\n",
    "#plt.gca().set_yscale('log')\n",
    "plt.xlabel('Population')\n",
    "plt.ylabel('')\n",
    "plt.title('Total Urban Population by Settlement Size for Africa')\n",
    "ax.set_facecolor('White')\n",
    "# fig.savefig('/Users/cascade/Desktop/'+'PopAll_bar.png', dpi=700, transparent=False)"
   ]
  },
  {
   "cell_type": "code",
   "execution_count": 17,
   "metadata": {
    "scrolled": false
   },
   "outputs": [
    {
     "data": {
      "text/plain": [
       "<Figure size 432x288 with 0 Axes>"
      ]
     },
     "metadata": {},
     "output_type": "display_data"
    },
    {
     "data": {
      "image/png": "[encoded data removed]",
      "text/plain": [
       "<Figure size 1800x1080 with 1 Axes>"
      ]
     },
     "metadata": {},
     "output_type": "display_data"
    }
   ],
   "source": [
    "# Bar plot by Dataset \n",
    "\n",
    "import matplotlib.pyplot as plt\n",
    "\n",
    "dictionary = plt.figure()\n",
    "\n",
    "# Tick Lables\n",
    "ticks_bar = ['<50K', '50-100K', '100-250K','250-500K', '500K-1M', '1-5M' , '>5M']\n",
    "\n",
    "# Data\n",
    "WP2015_bar = [WP2015_50k, WP2015_100k, WP2015_250k,\n",
    "              WP2015_500k, WP2015_1m, WP2015_5m, WP2015_5mplus]\n",
    "\n",
    "LS2015_bar = [LS2015_50k, LS2015_100k, LS2015_250k, LS2015_500k, \n",
    "              LS2015_1m, LS2015_5m, LS2015_5mplus]\n",
    "\n",
    "GHS2015_bar = [GHS2015_50k,  GHS2015_100k, GHS2015_250k, GHS2015_500k, \n",
    "               GHS2015_1m, GHS2015_5m, GHS2015_5mplus]\n",
    "\n",
    "WPE2016_bar = [WPE2016_50k, WPE2016_100k, WPE2016_250k,\n",
    "               WPE2016_500k, WPE2016_1m, WPE2016_5m, WPE2016_5mplus]\n",
    "\n",
    "# make plot\n",
    "sns.set(font_scale=3)\n",
    "fig, ax = plt.subplots(nrows=1, ncols=1)\n",
    "\n",
    "# Bar locations\n",
    "a = [0-.4,1-.4,2-.4,3-.4,4-.4,5-.4,6-.4]\n",
    "b = [0-.2,1-.2,2-.2,3-.2,4-.2,5-.2,6-.2]\n",
    "c = [0,1,2,3,4,5,6]\n",
    "d = [0+.2,1+.2,2+.2,3+.2,4+.2,5+.2,6+.2]\n",
    "\n",
    "\n",
    "# Bars\n",
    "plt.bar(a, [x / 10**6 for x in WP2015_bar], width=0.2, align='center', alpha  = 0.7, color = 'Blue')\n",
    "plt.bar(b, [x / 10**6 for x in LS2015_bar], width=0.2, align='center', alpha  = 0.7, color = 'Green')\n",
    "plt.bar(c, [x / 10**6 for x in GHS2015_bar], width=0.2, align='center', alpha  = 0.7, color = 'Orange')\n",
    "plt.bar(d, [x / 10**6 for x in WPE2016_bar], width=0.2, align='center', alpha = 0.7, color = 'Purple')\n",
    "\n",
    "# Legend \n",
    "bar_leg = ['WorldPop 2015', 'LandScan 2015', 'GHS-Pop 2015', 'WPE 2016']\n",
    "plt.legend(bar_leg,loc=2, facecolor= 'white', edgecolor = 'white')\n",
    "\n",
    "# Ticks\n",
    "plt.xticks(range(len(ticks_bar)), ticks_bar, size = 28)\n",
    "#plt.gca().set_yscale('log')\n",
    "\n",
    "# Size & Color\n",
    "fig = matplotlib.pyplot.gcf()\n",
    "fig.set_size_inches(25, 15)\n",
    "ax.set_facecolor('White')\n",
    "\n",
    "# Labels \n",
    "plt.xlabel('Settlement Size', size = 32)\n",
    "plt.ylabel('Population (millions)', size = 32)\n",
    "plt.title('Total Urban Population by Settlement Size for Africa')\n",
    "\n",
    "# Save\n",
    "fig.savefig('/Users/cascade/Desktop/'+'PopAll_bar.png', dpi=700, transparent=False)\n",
    "\n",
    "\n"
   ]
  },
  {
   "cell_type": "code",
   "execution_count": null,
   "metadata": {},
   "outputs": [],
   "source": [
    "GHS2000_chunks_pct = np.around(GHS2000_chunks / GHS2000.PopTot.sum() * 100, 1)\n",
    "GHS2015_chunks_pct = np.around(GHS2015_chunks / GHS2015.PopTot.sum() * 100, 1)\n",
    "\n",
    "WP2000_chunks_pct = np.around(WP2000_chunks / WP2000.PopTot.sum() * 100, 1)\n",
    "WP2015_chunks_pct = np.around(WP2015_chunks / WP2015.PopTot.sum() * 100, 1)\n",
    "\n",
    "LS2015_chunks_pct = np.around(LS2015_chunks / LS2015.PopTot.sum() * 100, 1)\n",
    "WPE2016_chunks_pct = np.around(WPE2016_chunks / WPE2016.PopTot.sum() * 100, 1)"
   ]
  },
  {
   "cell_type": "code",
   "execution_count": null,
   "metadata": {},
   "outputs": [],
   "source": [
    "# group by settlement size \n",
    "group0 = [WP2015_chunks_pct[0], LS2015_chunks_pct[0], GHS2015_chunks_pct[0], WPE2016_chunks_pct[0]]\n",
    "group1 = [WP2015_chunks_pct[1], LS2015_chunks_pct[1], GHS2015_chunks_pct[1], WPE2016_chunks_pct[1]]\n",
    "group2 = [WP2015_chunks_pct[2], LS2015_chunks_pct[2], GHS2015_chunks_pct[2], WPE2016_chunks_pct[2]]\n",
    "group3 = [WP2015_chunks_pct[3], LS2015_chunks_pct[3], GHS2015_chunks_pct[3], WPE2016_chunks_pct[3]]\n",
    "group4 = [WP2015_chunks_pct[4], LS2015_chunks_pct[4], GHS2015_chunks_pct[4], WPE2016_chunks_pct[4]]\n",
    "group5 = [WP2015_chunks_pct[5], LS2015_chunks_pct[5], GHS2015_chunks_pct[5], WPE2016_chunks_pct[5]]\n",
    "group6 = [WP2015_chunks_pct[6], LS2015_chunks_pct[6], GHS2015_chunks_pct[6], WPE2016_chunks_pct[6]]"
   ]
  },
  {
   "cell_type": "code",
   "execution_count": null,
   "metadata": {},
   "outputs": [],
   "source": [
    "labels = ['WP 2015', 'LS 2015', 'GHS 2015', 'WPE 2016']\n",
    "\n",
    "plt.bar(labels, group0)\n",
    "plt.bar(labels, group1, bottom = group0)\n",
    "plt.bar(labels, group2, bottom = [i+j for i,j in zip(group0, group1)])\n",
    "plt.bar(labels, group3, bottom = [i+j+k for i,j,k in zip(group0, group1, group2)])\n",
    "plt.bar(labels, group4, bottom = [i+j+k+l for i,j,k,l in zip(group0, group1, group2, group3)])\n",
    "plt.bar(labels, group5, bottom = [i+j+k+l+m for i,j,k,l,m in zip(group0, group1, group2, group3, group4)])\n",
    "plt.bar(labels, group6, bottom = [i+j+k+l+m+n for i,j,k,l,m,n in zip(group0, group1, group2, group3, group4, group5)])"
   ]
  },
  {
   "cell_type": "markdown",
   "metadata": {},
   "source": [
    "### Square Plot\n",
    "\n",
    "http://gvallver.perso.univ-pau.fr/?p=700"
   ]
  },
  {
   "cell_type": "code",
   "execution_count": null,
   "metadata": {
    "scrolled": true
   },
   "outputs": [],
   "source": [
    "print(np.around(GHS2015_chunks))\n",
    "print(GHS2015_chunks_pct)"
   ]
  },
  {
   "cell_type": "code",
   "execution_count": null,
   "metadata": {},
   "outputs": [],
   "source": [
    "# Make Data \n",
    "\n",
    "data = np.around(GHS2015_chunks)\n",
    "pct = GHS2015_chunks_pct\n",
    "chunks = ['<50K:', '50-100K: ', '100-150K: ','250-500K: ', '500K-1M: ', '1-5M: ', '>5M: ']\n",
    "\n",
    "labels = [chunks[0]+'\\n'+str(pct[0])+'%',\n",
    "         chunks[1]+'\\n'+str(pct[1])+'%',\n",
    "         chunks[2]+'\\n'+str(pct[2])+'%',\n",
    "         chunks[3]+'\\n'+str(pct[3])+'%',\n",
    "         chunks[4]+'\\n'+str(pct[4])+'%',\n",
    "         chunks[5]+'\\n'+str(pct[5])+'%',\n",
    "         chunks[6]+'\\n'+str(pct[6])+'%'\n",
    "         ]\n"
   ]
  },
  {
   "cell_type": "code",
   "execution_count": null,
   "metadata": {},
   "outputs": [],
   "source": [
    "# set size\n",
    "sns.set(font_scale=1.5)\n",
    "\n",
    "# Set Colors\n",
    "norm = matplotlib.colors.Normalize(vmin=min(data), vmax=max(data))\n",
    "colors = [matplotlib.cm.Blues_r(norm(value)) for value in data]\n",
    "\n",
    "# Create Plot\n",
    "fig = plt.figure(figsize=(12, 10))\n",
    "fig.suptitle(\"\", fontsize=20)\n",
    "ax = fig.add_subplot(111, aspect='equal')\n",
    "ax1 = squarify.plot(data, color = colors, label=labels, ax=ax, alpha = 0.5)\n",
    "\n",
    "# Remove ticks\n",
    "ax.set_xticks([])\n",
    "ax.set_yticks([])\n",
    "ax.set_title('GHS-Pop 2015 Percentage of Urban Population by Settlment Size')\n",
    "\n",
    "# color bar\n",
    "bar_number = data/(10**6)\n",
    "\n",
    "# create dummy invisible image with a color map\n",
    "# img = plt.imshow([bar_number], cmap='Blues_r')\n",
    "# img.set_visible(False)\n",
    "# fig.colorbar(img, orientation=\"vertical\", shrink=.96)\n",
    "# fig.text(.76, .9, \"Population in Millions\", fontsize=14)\n",
    "\n",
    "#fig.savefig('/Users/cascade/Desktop/'+'WP2015_SquarePlot.png', dpi=700)\n"
   ]
  },
  {
   "cell_type": "markdown",
   "metadata": {},
   "source": [
    "### Bar Plots"
   ]
  },
  {
   "cell_type": "code",
   "execution_count": null,
   "metadata": {},
   "outputs": [],
   "source": [
    "# Data for Rain Zone Swarm Plot GHS 2015\n",
    "\n",
    "# Break up by Rain Zone 2000\n",
    "\n",
    "GHS2000_rain = GHS2000[GHS2000['rain_zone'] != '0']\n",
    "GHS2000_rain = GHS2000_rain[GHS2000_rain['rain_zone'] != 'NoClass']\n",
    "GHS2000_rain =  GHS2000_rain[GHS2000_rain['rain_zone'] != 'NA']\n",
    "GHS2000_rain['raincat'] = GHS2000_rain.rain_zone + ' 2000'\n",
    "GHS2000_rain['dataset'] = 'GHS2000'\n",
    "\n",
    "# Break up by Rain Zone 2015 & add unique col \n",
    "GHS2015_rain = GHS2015[GHS2015['rain_zone'] != '0']\n",
    "GHS2015_rain = GHS2015_rain[GHS2015_rain['rain_zone'] != 'NoClass']\n",
    "GHS2015_rain =  GHS2015_rain[GHS2015_rain['rain_zone'] != 'NA']\n",
    "GHS2015_rain['raincat'] = GHS2015_rain.rain_zone + ' 2015'\n",
    "GHS2015_rain['dataset'] = 'GHS2015'\n",
    "\n",
    "\n",
    "# Join the two\n",
    "datasets_rain = [GHS2000_rain, GHS2015_rain]\n",
    "datasets_rain_concat = pd.concat(datasets_rain, ignore_index=True)"
   ]
  },
  {
   "cell_type": "code",
   "execution_count": null,
   "metadata": {},
   "outputs": [],
   "source": [
    "test = GHS2000_rain\n",
    "c = test.raincat\n",
    "log = np.log(test.PopTot)"
   ]
  },
  {
   "cell_type": "code",
   "execution_count": null,
   "metadata": {},
   "outputs": [],
   "source": [
    "# make data with concat\n",
    "\n",
    "test1 = datasets_rain_concat\n",
    "c1 = test1.raincat\n",
    "log1 = np.log(test1.PopTot)\n",
    "group = datasets_rain_concat.dataset\n",
    "country = datasets_rain_concat.country\n",
    "region = datasets_rain_concat.region\n",
    "\n",
    "d = {'cat': c1, 'log1': log1, 'group': group, 'country': country, 'region' : region}\n",
    "df = pd.DataFrame(data=d)\n",
    "\n",
    "df.head()"
   ]
  },
  {
   "cell_type": "code",
   "execution_count": null,
   "metadata": {
    "scrolled": true
   },
   "outputs": [],
   "source": [
    "# make data by country\n",
    "\n",
    "df1 = GHS2000.loc[GHS2000['country'].isin(['Senegal', 'Zambia','Nigeria','Kenya', 'Ghana', 'Mali', 'Ethiopia'])]\n",
    "\n",
    "df1['group'] = 'GHS2000'\n",
    "df1.head()\n",
    "\n",
    "df2 = GHS2015.loc[GHS2015['country'].isin(['Senegal', 'Zambia','Nigeria','Kenya', 'Ghana', 'Mali', 'Ethiopia'])]\n",
    "df2['group'] = 'GHS2015'\n",
    " \n",
    "df_list = [df1, df2]\n",
    "\n",
    "df = pd.concat(df_list, ignore_index=True)"
   ]
  },
  {
   "cell_type": "code",
   "execution_count": null,
   "metadata": {},
   "outputs": [],
   "source": [
    "plot_order = ['Arid 2000', 'Arid 2015', 'Semi-arid 2000', 'Semi-arid 2015',\n",
    "              'Sub-humid 2000', 'Sub-humid 2015', 'Humid 2000', 'Humid 2015']\n",
    "\n",
    "sns.set(font_scale=1.4)\n",
    "fig = plt.figure(figsize=(7, 7))\n",
    "\n",
    "ax = sns.boxplot(x = 'PopTot', y = 'country', hue = 'group', data = df, orient = 'h', dodge = True,\n",
    "                showfliers=False)\n",
    "#order = plot_order\n",
    "ax.set_facecolor('White')\n",
    "plt.legend(loc=4)\n",
    "#ax.get_legend().remove()\n",
    "\n",
    "plt.gca().set_xscale('log')"
   ]
  },
  {
   "cell_type": "markdown",
   "metadata": {},
   "source": [
    "## Swarm Plots"
   ]
  },
  {
   "cell_type": "code",
   "execution_count": null,
   "metadata": {},
   "outputs": [],
   "source": [
    "# All data\n",
    "\n",
    "d = [WP2015, LS2015, GHS2015, WPE2016]\n",
    "df = pd.concat(d, ignore_index=True)"
   ]
  },
  {
   "cell_type": "code",
   "execution_count": null,
   "metadata": {},
   "outputs": [],
   "source": [
    "sns.set(font_scale=3)\n",
    "color = ['Blue', 'Green', 'Orange', 'Purple']\n",
    "fig = plt.subplots(figsize=[20,30])\n",
    "\n",
    "\n",
    "ax1 = sns.boxplot(y=df.dataset, x=np.log10(df.PopTot), linewidth = 5)\n",
    "\n",
    "for patch in ax1.artists:\n",
    "    r, g, b, a = patch.get_facecolor()\n",
    "    patch.set_facecolor((r, g, b, 0))\n",
    "\n",
    "ax = sns.swarmplot(y=df.dataset, x=np.log10(df.PopTot), palette = color, size = 4, alpha = 0.7, orient = 'h')\n",
    "    \n",
    "# set size\n",
    "fig = matplotlib.pyplot.gcf()\n",
    "fig.set_size_inches(25, 15)\n",
    "#plt.gca().set_xscale('log')\n",
    "\n",
    "# labels\n",
    "plt.xlabel('Population')\n",
    "plt.xticks((4,5,6,7,8), [' $10^4$', '$10^5$', '$10^6$', '$10^7$', '$10^8$'])\n",
    "plt.ylabel('')\n",
    "plt.title('Distribution of Urban Settlements by Population Size for Africa')\n",
    "ax.set_facecolor('White')\n",
    "plt.tight_layout()\n",
    "\n",
    "fig.savefig('/Users/cascade/Desktop/'+'PopAll_Swarm.png', dpi=700, transparent=False)"
   ]
  },
  {
   "cell_type": "code",
   "execution_count": null,
   "metadata": {},
   "outputs": [],
   "source": [
    "print(np.mean(WP2015.PopTot))\n",
    "print(np.mean(LS2015.PopTot))\n",
    "print(np.mean(GHS2015.PopTot))\n",
    "print(np.mean(WPE2016.PopTot))"
   ]
  },
  {
   "cell_type": "code",
   "execution_count": null,
   "metadata": {},
   "outputs": [],
   "source": [
    "print(np.sum(WP2015_chunks[3]))\n",
    "print(np.sum(LS2015_chunks[3]))\n",
    "print(np.sum(GHS2015_chunks[3]))\n",
    "print(np.sum(WPE2016_chunks[3]))"
   ]
  },
  {
   "cell_type": "code",
   "execution_count": null,
   "metadata": {},
   "outputs": [],
   "source": [
    "print(np.sum(WP2015_chunks[0:7]))\n",
    "print(np.sum(LS2015_chunks[0:7]))\n",
    "print(np.sum(GHS2015_chunks[0:7]))\n",
    "print(np.sum(WPE2016_chunks[0:7]))"
   ]
  },
  {
   "cell_type": "code",
   "execution_count": null,
   "metadata": {},
   "outputs": [],
   "source": [
    "(np.sum(GHS2015.PopTot) - np.sum(GHS2000.PopTot)) / np.sum(GHS2000.PopTot) *100"
   ]
  },
  {
   "cell_type": "code",
   "execution_count": null,
   "metadata": {},
   "outputs": [],
   "source": [
    "big15 = GHS2015.loc[(GHS2015['PopTot'] > 10**6) & (GHS2015['PopTot'] <= 5*10**6), 'PopTot'].sum()\n",
    "big00 = GHS2000.loc[(GHS2000['PopTot'] > 10**6) & (GHS2000['PopTot'] <= 5*10**6), 'PopTot'].sum()\n",
    "\n",
    "small15 = GHS2015.loc[(GHS2015['PopTot'] > 10**6) & (GHS2015['PopTot'] <= 5*10**6), 'PopTot'].sum()\n",
    "small00 = GHS2000.loc[(GHS2000['PopTot'] > 10**6) & (GHS2000['PopTot'] <= 5*10**6), 'PopTot'].sum()\n",
    "\n",
    "\n",
    "# small15 = np.sum(GHS2015[GHS2015.PopTot < 10**6])\n",
    "\n",
    "# big00 = np.sum(GHS2000[GHS2000.PopTot >= 10**6])\n",
    "# small00 = np.sum(GHS2000[GHS2000.PopTot < 10**6])\n",
    "\n",
    "# print(big15.PopTot - big00.PopTot)\n",
    "# print(small15.PopTot - small00.PopTot)"
   ]
  },
  {
   "cell_type": "code",
   "execution_count": null,
   "metadata": {},
   "outputs": [],
   "source": [
    "print(np.sum(GHS2000.PopTot))\n",
    "print(np.sum(GHS2015.PopTot))"
   ]
  },
  {
   "cell_type": "code",
   "execution_count": null,
   "metadata": {},
   "outputs": [],
   "source": [
    "GHS2015_5m - GHS2000_5m"
   ]
  },
  {
   "cell_type": "markdown",
   "metadata": {},
   "source": [
    "# Circle Packing \n",
    "https://github.com/elmotec/circlify"
   ]
  },
  {
   "cell_type": "code",
   "execution_count": null,
   "metadata": {},
   "outputs": [],
   "source": [
    "import circlify as circ\n",
    "\n",
    "data = [19, 17, 13]\n",
    "labels = ['a','b', 'b']\n",
    "circles = circ.circlify(data, with_enclosure=True)"
   ]
  },
  {
   "cell_type": "code",
   "execution_count": null,
   "metadata": {},
   "outputs": [],
   "source": [
    "ax = circ.bubbles(circles, labels = 'labels').`"
   ]
  },
  {
   "cell_type": "markdown",
   "metadata": {},
   "source": [
    "## Heat Maps"
   ]
  },
  {
   "cell_type": "code",
   "execution_count": null,
   "metadata": {},
   "outputs": [],
   "source": [
    "np.around(WP2015.groupby('country').PopTot.sum())"
   ]
  },
  {
   "cell_type": "code",
   "execution_count": null,
   "metadata": {},
   "outputs": [],
   "source": [
    "GHS2015[GHS2015'country' = ]"
   ]
  },
  {
   "cell_type": "code",
   "execution_count": null,
   "metadata": {},
   "outputs": [],
   "source": [
    "# create dataset\n",
    "GHS2000_sort = GHS2000.sort_values(by = 'lat', ascending=False)"
   ]
  },
  {
   "cell_type": "code",
   "execution_count": null,
   "metadata": {},
   "outputs": [],
   "source": [
    "GHS2000_sort"
   ]
  },
  {
   "cell_type": "code",
   "execution_count": null,
   "metadata": {},
   "outputs": [],
   "source": [
    "GHS2000_sort_pop = GHS2000_sort.PopTot.tolist()"
   ]
  },
  {
   "cell_type": "code",
   "execution_count": null,
   "metadata": {},
   "outputs": [],
   "source": [
    "end = list([5000] * 142)"
   ]
  },
  {
   "cell_type": "code",
   "execution_count": null,
   "metadata": {},
   "outputs": [],
   "source": [
    "len(end)"
   ]
  },
  {
   "cell_type": "code",
   "execution_count": null,
   "metadata": {},
   "outputs": [],
   "source": [
    "type(end)"
   ]
  },
  {
   "cell_type": "code",
   "execution_count": null,
   "metadata": {},
   "outputs": [],
   "source": [
    "GHS2000_sort_sq = end+GHS2000_sort_pop\n",
    "len(GHS2000_sort_sq)"
   ]
  },
  {
   "cell_type": "code",
   "execution_count": null,
   "metadata": {},
   "outputs": [],
   "source": [
    "GHS2000_log = np.log(GHS2000_sort_sq)"
   ]
  },
  {
   "cell_type": "code",
   "execution_count": null,
   "metadata": {},
   "outputs": [],
   "source": [
    "GHS2000_arr = np.reshape(GHS2000_sort_sq,((40,100)))"
   ]
  },
  {
   "cell_type": "code",
   "execution_count": null,
   "metadata": {},
   "outputs": [],
   "source": [
    "GHS2000_arr[1:4,1:4]"
   ]
  },
  {
   "cell_type": "code",
   "execution_count": null,
   "metadata": {},
   "outputs": [],
   "source": [
    "#### color map\n",
    "sns.heatmap(GHS2000_arr, robust = 500000)\n",
    "\n",
    "\n",
    "fig = matplotlib.pyplot.gcf()\n",
    "fig.set_size_inches(10, 10)\n",
    "plt.gca().set_xscale('log')\n",
    "plt.xlabel('Urban Settlement Size')\n",
    "plt.ylabel('')\n",
    "plt.xticks([])\n",
    "plt.yticks([])\n",
    "\n",
    "#plt.tick_params(axis='', which='major', labelsize=0)\n",
    "plt.title('GHS2000 HeatMap', x = 0.25)\n",
    "\n",
    "#fig.savefig('/Users/cascade/Desktop/'+'PopRainGHS2000-15_box.png', dpi=700, transparent=False,\n",
    "#           bbox_inches='tight')"
   ]
  },
  {
   "cell_type": "code",
   "execution_count": null,
   "metadata": {},
   "outputs": [],
   "source": [
    "import numpy as np\n",
    "import numpy.random\n",
    "import matplotlib.pyplot as plt\n",
    " \n",
    "# Create data\n",
    "x = GHS2000.PopTot.sort_values(ascending=True)\n",
    "y = GHS2000.PopTot.sort_values(ascending=True)\n",
    "\n",
    "#y = np.random.randn(4096)\n",
    " \n",
    "# Create heatmap\n",
    "heatmap, xedges, yedges = np.histogram2d(x, y, bins=(64,64))\n",
    "#extent = [xedges[0], xedges[-1], yedges[0], yedges[-1]]\n",
    " \n",
    "# Plot heatmap\n",
    "plt.clf()\n",
    "plt.title('Pythonspot.com heatmap example')\n",
    "plt.ylabel('y')\n",
    "plt.xlabel('x')\n",
    "plt.imshow(heatmap)\n",
    "plt.show()"
   ]
  }
 ],
 "metadata": {
  "kernelspec": {
   "display_name": "Python 3",
   "language": "python",
   "name": "python3"
  },
  "language_info": {
   "codemirror_mode": {
    "name": "ipython",
    "version": 3
   },
   "file_extension": ".py",
   "mimetype": "text/x-python",
   "name": "python",
   "nbconvert_exporter": "python",
   "pygments_lexer": "ipython3",
   "version": "3.7.0"
  }
 },
 "nbformat": 4,
 "nbformat_minor": 2
}
