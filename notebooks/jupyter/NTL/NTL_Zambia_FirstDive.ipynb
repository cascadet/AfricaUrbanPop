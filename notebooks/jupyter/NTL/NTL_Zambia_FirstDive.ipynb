{
 "cells": [
  {
   "cell_type": "markdown",
   "metadata": {},
   "source": [
    "# NTL Zamia First Dive\n",
    "\n",
    "The goal of this notebook is to use the corrected NTL data, clip it to Lusaka and Choma to see how NTL intensity, extensivity, and the ratio has changed from 1992 - 2013. \n",
    "\n",
    "To do:\n",
    "\n",
    "Write a routine to open all the files, clip them, and save them accordingly. "
   ]
  },
  {
   "cell_type": "markdown",
   "metadata": {},
   "source": [
    "### Depedencies"
   ]
  },
  {
   "cell_type": "code",
   "execution_count": 11,
   "metadata": {},
   "outputs": [],
   "source": [
    "import rasterio\n",
    "import fiona\n",
    "from rasterio.mask import mask\n",
    "import os\n",
    "import glob"
   ]
  },
  {
   "cell_type": "markdown",
   "metadata": {},
   "source": [
    "### Functions"
   ]
  },
  {
   "cell_type": "code",
   "execution_count": 4,
   "metadata": {},
   "outputs": [],
   "source": [
    "def raster_clip(raster, shape, file):\n",
    "    with fiona.open(shape, \"r\") as shapefile:\n",
    "        geoms = [feature[\"geometry\"] for feature in shapefile]\n",
    "\n",
    "    with rasterio.open(raster) as src:\n",
    "        out_image, out_transform = mask(src, geoms, crop=True)\n",
    "        out_meta = src.meta.copy()\n",
    "\n",
    "    out_meta.update({\"driver\": \"GTiff\",\n",
    "                     \"height\": out_image.shape[1],\n",
    "                     \"width\": out_image.shape[2],\n",
    "                     \"transform\": out_transform})\n",
    "\n",
    "    with rasterio.open(file, \"w\", **out_meta) as dest:\n",
    "        dest.write(out_image)"
   ]
  },
  {
   "cell_type": "markdown",
   "metadata": {},
   "source": [
    "### File Paths"
   ]
  },
  {
   "cell_type": "code",
   "execution_count": 5,
   "metadata": {},
   "outputs": [],
   "source": [
    "data_temp = '/Users/cascade/Github/NTL/temp_data/NTLAnalysis/'\n",
    "data_raw = '/Users/cascade/Github/NTL/data/raw/toplights/Corrected_BAC_UB_2000/'"
   ]
  },
  {
   "cell_type": "markdown",
   "metadata": {},
   "source": [
    "### Routine"
   ]
  },
  {
   "cell_type": "markdown",
   "metadata": {},
   "source": [
    "sudo code\n",
    "\n",
    "for file in folder\n",
    "open file\n",
    "clip file\n",
    "save file\n",
    "close file"
   ]
  },
  {
   "cell_type": "code",
   "execution_count": 9,
   "metadata": {},
   "outputs": [],
   "source": [
    "# Loop through files\n",
    "\n",
    "# directory = data_raw\n",
    "# shape = data_temp+'zambiacities.shp'\n",
    "\n",
    "# for filename in os.listdir(directory):\n",
    "#     if filename.endswith('.tif'): \n",
    "        \n",
    "#         raster = data_raw+filename \n",
    "#         file = data_temp+'lusaka'+filename\n",
    "#         raster_clip(raster, shape, file)\n",
    "    \n",
    "#     else:\n",
    "#         continue"
   ]
  },
  {
   "cell_type": "code",
   "execution_count": 13,
   "metadata": {},
   "outputs": [
    {
     "data": {
      "text/plain": [
       "32512"
      ]
     },
     "execution_count": 13,
     "metadata": {},
     "output_type": "execute_result"
    }
   ],
   "source": [
    "# Animate \n",
    "\n",
    "gif_name = 'outputName'\n",
    "file_list = glob.glob(data_temp+'*.tif') # Get all the pngs in the current directory\n",
    "#list.sort(file_list, key=lambda x: int(x.split('_')[1].split('.png')[0])) # Sort the images by #, this may need to be tweaked for your use case\n",
    "\n",
    "with open('image_list.txt', 'w') as file:\n",
    "    for item in file_list:\n",
    "        file.write(\"%s\\n\" % item)\n",
    "\n",
    "os.system('convert @image_list.txt {}.gif'.format(gif_name)) # On windows convert is 'magick'"
   ]
  }
 ],
 "metadata": {
  "kernelspec": {
   "display_name": "Python 3",
   "language": "python",
   "name": "python3"
  },
  "language_info": {
   "codemirror_mode": {
    "name": "ipython",
    "version": 3
   },
   "file_extension": ".py",
   "mimetype": "text/x-python",
   "name": "python",
   "nbconvert_exporter": "python",
   "pygments_lexer": "ipython3",
   "version": "3.7.0"
  }
 },
 "nbformat": 4,
 "nbformat_minor": 2
}
