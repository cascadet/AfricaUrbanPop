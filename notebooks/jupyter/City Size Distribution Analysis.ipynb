{
 "cells": [
  {
   "cell_type": "markdown",
   "metadata": {},
   "source": [
    "# City Size Distribuion\n",
    "\n",
    "This notebook contains analysis and visualizations for:\n",
    "\n",
    "1. Investigating the distribution of sizes of African cities, towns, and villages.\n",
    "2. Determining how these distributions have changed over the period 2000-2020.\n",
    "3. Examining the trajectoris of individuals cities or groups of cities"
   ]
  },
  {
   "cell_type": "code",
   "execution_count": 82,
   "metadata": {
    "collapsed": true
   },
   "outputs": [],
   "source": [
    "# Read in the data.\n",
    "%matplotlib inline\n",
    "import matplotlib.pyplot as plt\n",
    "import pandas as pd\n",
    "import numpy as np\n",
    "\n",
    "working_directory = \"../../temp_data/\""
   ]
  },
  {
   "cell_type": "code",
   "execution_count": 110,
   "metadata": {
    "collapsed": true
   },
   "outputs": [],
   "source": [
    "def p_X_gt_x(data, X=None):\n",
    "    n_data = len(data)\n",
    "    if X is None:\n",
    "        X = data.unique()\n",
    "    return X, pd.Series([sum(data>=x)/n_data for x in X ])"
   ]
  },
  {
   "cell_type": "markdown",
   "metadata": {},
   "source": [
    "## 2000 World Pop Data"
   ]
  },
  {
   "cell_type": "code",
   "execution_count": 123,
   "metadata": {
    "collapsed": true
   },
   "outputs": [],
   "source": [
    "data_file = '20181116_WP2000_pops.csv'\n",
    "variable = 'Wpop2000'\n",
    "year = 2000"
   ]
  },
  {
   "cell_type": "code",
   "execution_count": 124,
   "metadata": {
    "collapsed": false
   },
   "outputs": [
    {
     "data": {
      "text/plain": [
       "<matplotlib.text.Text at 0x11777a470>"
      ]
     },
     "execution_count": 124,
     "metadata": {},
     "output_type": "execute_result"
    },
    {
     "data": {
      "image/png": "[encoded data removed]",
      "text/plain": [
       "<matplotlib.figure.Figure at 0x116e5ae10>"
      ]
     },
     "metadata": {
      "needs_background": "light"
     },
     "output_type": "display_data"
    }
   ],
   "source": [
    "datafile = working_directory + data_file\n",
    "df = pd.read_csv(datafile)\n",
    "df = df[df[variable] >= 0]  # Remove any cities that have populations less than zero (caused by raster -9999 masking)\n",
    "\n",
    "# Generate the inverse cumulative distribution plot for 2000\n",
    "data_2000 = df[variable].sort_values()\n",
    "X, y = p_X_gt_x(data_2000)\n",
    "\n",
    "# Render the inverse cumulative distribution plot for 2000\n",
    "plt.plot(X,y)\n",
    "plt.xscale('log')\n",
    "plt.title('Inverse cumulative distribution of city sizes, {year}'.format(year=year))\n",
    "plt.xlabel('x')\n",
    "plt.ylabel('P[X>=x]')"
   ]
  },
  {
   "cell_type": "markdown",
   "metadata": {},
   "source": [
    "# 2020 World Pop Data"
   ]
  },
  {
   "cell_type": "code",
   "execution_count": 116,
   "metadata": {
    "collapsed": true
   },
   "outputs": [],
   "source": [
    "data_file = '20181116_WP2020_pops.csv'\n",
    "variable = 'Wpop2000' # Note this is an error that needs to be fixed\n",
    "year = 2020"
   ]
  },
  {
   "cell_type": "code",
   "execution_count": 125,
   "metadata": {
    "collapsed": false
   },
   "outputs": [
    {
     "data": {
      "text/plain": [
       "<matplotlib.text.Text at 0x117562320>"
      ]
     },
     "execution_count": 125,
     "metadata": {},
     "output_type": "execute_result"
    },
    {
     "data": {
      "image/png": "[encoded data removed]",
      "text/plain": [
       "<matplotlib.figure.Figure at 0x11761a748>"
      ]
     },
     "metadata": {
      "needs_background": "light"
     },
     "output_type": "display_data"
    }
   ],
   "source": [
    "datafile = working_directory + data_file\n",
    "df = pd.read_csv(datafile)\n",
    "\n",
    "df = df[df[variable] >= 0]  # Remove any cities that have populations less than zero (caused by raster -9999 masking)\n",
    "\n",
    "# Generate the inverse cumulative distribution plot\n",
    "data_2020 = df[variable].sort_values()\n",
    "X, y = p_X_gt_x(data_2020)\n",
    "\n",
    "# Render the inverse cumulative distribution plot for 2000\n",
    "plt.plot(X,y)\n",
    "plt.xscale('log')\n",
    "plt.title('Inverse cumulative distribution of city sizes, {year}'.format(year=year))\n",
    "plt.xlabel('x')\n",
    "plt.ylabel('P[X>=x]')"
   ]
  },
  {
   "cell_type": "markdown",
   "metadata": {},
   "source": [
    "## Change detection in inverse cdfs"
   ]
  },
  {
   "cell_type": "code",
   "execution_count": 126,
   "metadata": {
    "collapsed": false
   },
   "outputs": [
    {
     "name": "stdout",
     "output_type": "stream",
     "text": [
      "[100.0, 177.82794100389228, 316.22776601683796, 562.341325190349, 1000.0, 1778.2794100389228, 3162.2776601683795, 5623.413251903491, 10000.0, 17782.794100389227, 31622.776601683792, 56234.13251903491, 100000.0, 177827.94100389228, 316227.7660168379, 562341.3251903491, 1000000.0, 1778279.410038923, 3162277.6601683795, 5623413.251903491, 10000000.0, 17782794.100389227, 31622776.60168379, 56234132.51903491]\n",
      "460    0.0\n",
      "603    0.0\n",
      "451    0.0\n",
      "147    0.0\n",
      "182    0.0\n",
      "255    0.0\n",
      "308    0.0\n",
      "461    0.0\n",
      "458    0.0\n",
      "455    0.0\n",
      "188    0.0\n",
      "321    0.0\n",
      "485    0.0\n",
      "659    0.0\n",
      "456    0.0\n",
      "523    0.0\n",
      "334    0.0\n",
      "111    0.0\n",
      "330    0.0\n",
      "606    0.0\n",
      "459    0.0\n",
      "457    0.0\n",
      "254    0.0\n",
      "178    0.0\n",
      "176    0.0\n",
      "50     0.0\n",
      "329    0.0\n",
      "88     0.0\n",
      "290    0.0\n",
      "453    0.0\n",
      "      ... \n",
      "687    0.0\n",
      "682    0.0\n",
      "494    0.0\n",
      "501    0.0\n",
      "190    0.0\n",
      "665    0.0\n",
      "12     0.0\n",
      "7      0.0\n",
      "32     0.0\n",
      "216    0.0\n",
      "397    0.0\n",
      "121    0.0\n",
      "53     0.0\n",
      "680    0.0\n",
      "677    0.0\n",
      "674    0.0\n",
      "463    0.0\n",
      "515    0.0\n",
      "495    0.0\n",
      "507    0.0\n",
      "508    0.0\n",
      "509    0.0\n",
      "510    0.0\n",
      "492    0.0\n",
      "633    0.0\n",
      "76     0.0\n",
      "69     0.0\n",
      "54     0.0\n",
      "58     0.0\n",
      "68     0.0\n",
      "Name: Wpop2000, Length: 698, dtype: float64\n"
     ]
    },
    {
     "data": {
      "image/png": "[encoded data removed]",
      "text/plain": [
       "<matplotlib.figure.Figure at 0x1174e9860>"
      ]
     },
     "metadata": {
      "needs_background": "light"
     },
     "output_type": "display_data"
    }
   ],
   "source": [
    "from math import log10, floor, ceil\n",
    "\n",
    "max_data = ceil(log10(max(max(data_2020),max(data_2000))))  # Find the minimum log scale in the data\n",
    "min_data = floor(log10(min(min(data_2020),min(data_2000)))) # Find the maximum log scale in the data\n",
    "\n",
    "values = [pow(10,x) for x in np.arange(min_data,max_data,0.25)] # Generate a list of values for the inverse cdf.\n",
    "\n",
    "print(values)\n",
    "\n",
    "X, y1 = p_X_gt_x(data_2000, X=values)\n",
    "X, y2 = p_X_gt_x(data_2020, X=values)\n",
    "\n",
    "plt.plot(X,y2-y1)\n",
    "plt.xscale('log')\n",
    "\n",
    "print(data_2000 - data_2020)"
   ]
  }
 ],
 "metadata": {
  "kernelspec": {
   "display_name": "Python 3",
   "language": "python",
   "name": "python3"
  },
  "language_info": {
   "codemirror_mode": {
    "name": "ipython",
    "version": 3
   },
   "file_extension": ".py",
   "mimetype": "text/x-python",
   "name": "python",
   "nbconvert_exporter": "python",
   "pygments_lexer": "ipython3",
   "version": "3.4.5"
  }
 },
 "nbformat": 4,
 "nbformat_minor": 2
}
