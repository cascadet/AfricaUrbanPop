{
 "cells": [
  {
   "cell_type": "markdown",
   "metadata": {},
   "source": [
    "# OSM Python Query\n",
    "\n",
    "The objective of this notebook is to query OSM database and return list of city and town centroids for all African countries\n",
    "\n",
    "\n",
    "#### Open street map search \n",
    "\n",
    "From Overpass Turbo, use this API and follow the instructions from the\n",
    "URL below to quary OSM with python\n",
    "\n",
    "https://towardsdatascience.com/loading-data-from-openstreetmap-with-python-and-the-overpass-api-513882a27fd0\n",
    "\n",
    "OSM CRS IS ----  'EPSG:4326'\n",
    "\n",
    "#### Open Street Map Query for Cities and Villages \n",
    "URL for OSM Overpass Turbo: https://overpass-turbo.eu/\n",
    "\n",
    "\n",
    "URL for OSM Features:\n",
    "https://wiki.openstreetmap.org/wiki/Map_Features#Populated_settlements.2C_urban\n",
    "\n",
    "#### Example from Ghana for Towns ... For cities, use *place=city*\n",
    "    area[\"name:en\"=\"Ghana\"]->.boundaryarea;\n",
    "    (\n",
    "    node(area.boundaryarea)[place=town];\n",
    "    way(area.boundaryarea)[place=town];>;\n",
    "    rel(area.boundaryarea)[place=town];>>;\n",
    "    );\n",
    "    out meta;\n",
    "    // print results\n",
    "    out body;\n",
    "    >;\n",
    "    out skel qt;\n",
    "\n",
    "Note: From what I can tell, OSM does not allow for 'Africa' to be used as an 'area' key. \n",
    "\n",
    "#### Note: This will pull refugee camps. Really cool. "
   ]
  },
  {
   "cell_type": "code",
   "execution_count": null,
   "metadata": {},
   "outputs": [],
   "source": [
    "### List of African Countries from the UN in OSM wiki\n",
    "\n",
    "countries = [\n",
    "#Northern Africa\n",
    "    'Algeria',\n",
    "    'Egypt',\n",
    "    'Libya',\n",
    "    'Morocco',\n",
    "    'Tunisia',\n",
    "    'Western Sahara',\n",
    "\n",
    "    #Sub-Saharan Africa\n",
    "    #Eastern Africa\n",
    "    'Burundi',\n",
    "    'Comoros',\n",
    "    'Djibouti',\n",
    "    'Eritrea',\n",
    "    'Ethiopia',\n",
    "    'Kenya',\n",
    "    'Madagascar',\n",
    "    'Malawi',\n",
    "    'Mauritius',\n",
    "    #Mayotte,\n",
    "    'Mozambique',\n",
    "    'Réunion',\n",
    "    'Rwanda',\n",
    "    'Somalia',\n",
    "    'Sudan',\n",
    "    'South Sudan',\n",
    "    'Uganda',\n",
    "    'Tanzania',\n",
    "    'Zambia',\n",
    "    'Zimbabwe',\n",
    "    \n",
    "    #Middle Africa\n",
    "    'Angola',\n",
    "    'Cameroon',\n",
    "    'Central African Republic',\n",
    "    'Chad',\n",
    "    'Congo-Brazzaville',\n",
    "    'Democratic Republic of the Congo', # Democratic Republic of the Congo needs to be used, not Congo-Kinshasa\n",
    "    'Equatorial Guinea',\n",
    "    'Gabon',\n",
    "    'Sao Tome and Principe',\n",
    "    \n",
    "    # Southern Africa\n",
    "    'Botswana',\n",
    "    'Lesotho',\n",
    "    'Namibia',\n",
    "    'South Africa',\n",
    "    'Swaziland',\n",
    "    \n",
    "    # Western Africa\n",
    "    'Benin',\n",
    "    'Burkina Faso',\n",
    "    'Cape Verde',\n",
    "    'Côte d\\'Ivoire',\n",
    "    'Gambia',\n",
    "    'Ghana',\n",
    "    'Guinea',\n",
    "    'Guinea-Bissau',\n",
    "    'Liberia',\n",
    "    'Mali',\n",
    "    'Mauritania',\n",
    "    'Niger',\n",
    "    'Nigeria',\n",
    "    'Senegal',\n",
    "    'Sierra Leone',\n",
    "    'Togo'\n",
    "]"
   ]
  },
  {
   "cell_type": "code",
   "execution_count": null,
   "metadata": {
    "scrolled": true
   },
   "outputs": [],
   "source": [
    "len(countries)"
   ]
  },
  {
   "cell_type": "markdown",
   "metadata": {},
   "source": [
    "# Query  OSM Cities and Towns Points for All African Countries"
   ]
  },
  {
   "cell_type": "code",
   "execution_count": null,
   "metadata": {},
   "outputs": [],
   "source": [
    "# import time\n",
    "import requests\n",
    "import json\n",
    "\n",
    "# Check time\n",
    "# checkpoint = time.time()\n",
    "\n",
    "# Loop through all OSM countries\n",
    "response_dict = {}\n",
    "overpass_url = \"http://overpass-api.de/api/interpreter\"\n",
    "\n",
    "# put curly in quotes \n",
    "\n",
    "# countries = ['Chad','Ghana', \"South Africa\"]\n",
    "\n",
    "for country_name in countries:\n",
    "    overpass_query = \"\"\"\n",
    "            [out:json];\n",
    "            area[\"name:en\"=\"{}\"];  \n",
    "            (node[place=city](area);\n",
    "            );\n",
    "            out center;\n",
    "            \"\"\".format(country_name)\n",
    "\n",
    "    response = requests.get(overpass_url, params={'data': overpass_query})\n",
    "    data = response.json()\n",
    "    response_dict[country_name] = data\n",
    "\n",
    "# print('elasped time to do the quary:{}'.format(time.time() - checkpoint))    \n",
    "\n",
    "# Cut this on 2019 - 1 - 19 \n",
    "\n",
    "#            way[place=town](area);\n",
    "#            rel[place=town](area);"
   ]
  },
  {
   "cell_type": "code",
   "execution_count": null,
   "metadata": {},
   "outputs": [],
   "source": [
    "response_dict"
   ]
  },
  {
   "cell_type": "code",
   "execution_count": null,
   "metadata": {},
   "outputs": [],
   "source": [
    "response_dict['Democratic Republic of the Congo']['elements'][1]['tags']['name']"
   ]
  },
  {
   "cell_type": "markdown",
   "metadata": {},
   "source": [
    "#### Write out as json file"
   ]
  },
  {
   "cell_type": "code",
   "execution_count": null,
   "metadata": {},
   "outputs": [],
   "source": [
    "# File Paths\n",
    "\n",
    "IN = ''\n",
    "OUT = ''"
   ]
  },
  {
   "cell_type": "code",
   "execution_count": null,
   "metadata": {},
   "outputs": [],
   "source": [
    "# Loop through countries and make an np array w/ id, lat, long\n",
    "import numpy as np\n",
    "import pandas as pd\n",
    "\n",
    "def osm_coords(response_dict):\n",
    "    \n",
    "    \"\"\"\n",
    "    This function takes an OSM dict object and returns a data frame\n",
    "    with the id, lat, and long ...\n",
    "    \"\"\"\n",
    "    coords = []\n",
    "    for country in response_dict:    \n",
    "        for element in response_dict[country]['elements']:\n",
    "            country = country\n",
    "            osm_id = str(element['id']) #keep as string for now\n",
    "            lat = element['lat']\n",
    "            lon = element['lon']\n",
    "            \n",
    "            if 'name' not in element['tags']: \n",
    "                city = 'NA'\n",
    "            else: \n",
    "                city = element['tags']['name']\n",
    "                    \n",
    "            coords.append((country, osm_id, city, lat, lon,))\n",
    "\n",
    "    coords_arr = np.array(coords)\n",
    "    #coords_arr\n",
    "    \n",
    "    # make dataframe\n",
    "    coords_df = pd.DataFrame(data=coords_arr)\n",
    "    coords_df.columns = ['country','osm_id','town', 'lat','lon']\n",
    "\n",
    "    return coords_df"
   ]
  },
  {
   "cell_type": "code",
   "execution_count": null,
   "metadata": {},
   "outputs": [],
   "source": [
    "# Run osm_city function\n",
    "\n",
    "osm_city = osm_coords(response_dict)\n",
    "osm_city.head()\n",
    "len(osm_city)"
   ]
  },
  {
   "cell_type": "markdown",
   "metadata": {},
   "source": [
    "#### Write out as csv w/ only id, lat, long"
   ]
  },
  {
   "cell_type": "code",
   "execution_count": null,
   "metadata": {},
   "outputs": [],
   "source": [
    "# Write out .csv\n",
    "\n",
    "fn_out = ''\n",
    "osm_city.to_csv(OUT+fn_out, sep='', index=False, header=True)"
   ]
  }
 ],
 "metadata": {
  "kernelspec": {
   "display_name": "Python 3",
   "language": "python",
   "name": "python3"
  },
  "language_info": {
   "codemirror_mode": {
    "name": "ipython",
    "version": 3
   },
   "file_extension": ".py",
   "mimetype": "text/x-python",
   "name": "python",
   "nbconvert_exporter": "python",
   "pygments_lexer": "ipython3",
   "version": "3.7.3"
  }
 },
 "nbformat": 4,
 "nbformat_minor": 2
}
