{
 "cells": [
  {
   "cell_type": "markdown",
   "metadata": {},
   "source": [
    "# Zonal Stats\n",
    "\n",
    "The objective of this notebook is to calculate zonal stats for a raster, given a set of polygons\n",
    "\n",
    "1. Total population\n",
    "2. Catagorical Values"
   ]
  },
  {
   "cell_type": "markdown",
   "metadata": {},
   "source": [
    "### Dependencies"
   ]
  },
  {
   "cell_type": "code",
   "execution_count": 1,
   "metadata": {},
   "outputs": [],
   "source": [
    "from rasterstats import zonal_stats\n",
    "import rasterio\n",
    "import geopandas as gpd\n",
    "import operator"
   ]
  },
  {
   "cell_type": "markdown",
   "metadata": {},
   "source": [
    "### Functions"
   ]
  },
  {
   "cell_type": "code",
   "execution_count": null,
   "metadata": {},
   "outputs": [],
   "source": [
    "def zone_stat(raster, band, polygon):\n",
    "    \"\"\"\n",
    "    This function will calculate the zonal stats for each polygon within a raster\n",
    "    requires gpd_df, raster, object and nodata value\n",
    "    \"\"\"\n",
    "    \n",
    "    band = raster.read(band)\n",
    "    zone_stat = zonal_stats(polygon, band, affine=raster.meta['transform'], nodata = 0, stats = 'sum')\n",
    "    return zone_stat"
   ]
  },
  {
   "cell_type": "code",
   "execution_count": null,
   "metadata": {},
   "outputs": [],
   "source": [
    "def zone_mode(raster, band, polygon):\n",
    "    \"\"\" \n",
    "    This function will find the mode class within a polygon overlayed on top\n",
    "    of a classified raster \n",
    "    requires gpd_df, raster, object\n",
    "    \"\"\"\n",
    "    \n",
    "    band = raster.read(band)\n",
    "    zone_stat = zonal_stats(polygon, band, affine=raster.meta['transform'], categorical=True, category_map=cmap)\n",
    "    return zone_stat"
   ]
  },
  {
   "cell_type": "code",
   "execution_count": null,
   "metadata": {},
   "outputs": [],
   "source": [
    "cmap = {\n",
    "    \n",
    "101: 'Temperate / arid',\n",
    "102: 'Temperate / Semi-arid',\n",
    "103: 'Temperate / sub-humid',\n",
    "104: 'Temperate / humid',\n",
    "211: 'Subtropic - warm / arid',\n",
    "212: 'Subtropic - warm / semiarid',\n",
    "213: 'Subtropic - warm / subhumid',\n",
    "214: 'Subtropic - warm / humid',\n",
    "221: 'Subtropic - cool / arid',\n",
    "222: 'Subtropic - cool / semiarid',\n",
    "223: 'Subtropic - cool / subhumid',\n",
    "224: 'Subtropic - cool / humid',\n",
    "311: 'Tropic - warm / arid',\n",
    "312: 'Tropic - warm / semiarid',\n",
    "313: 'Tropic - warm / subhumid',\n",
    "314: 'Tropic - warm / humid',\n",
    "321: 'Tropic - cool / arid',\n",
    "322: 'Tropic - cool / semiarid',\n",
    "323: 'Tropic - cool / subhumid',\n",
    "324: 'Tropic - cool / humid',\n",
    "400: 'Boreal'\n",
    "    \n",
    "}\n",
    "    \n",
    "    "
   ]
  },
  {
   "cell_type": "markdown",
   "metadata": {},
   "source": [
    "### Data In"
   ]
  },
  {
   "cell_type": "code",
   "execution_count": null,
   "metadata": {},
   "outputs": [],
   "source": [
    "data_raw = '/Users/cascade/Github/NTL/data/raw/'\n",
    "data_temp = '/Users/cascade/Github/NTL/temp_data/'\n",
    "data_interim = '/Users/cascade/Github/NTL/data/interim/'\n",
    "ms_data = '/Users/cascade/Github/NTL/temp_data/MS_Data/'\n",
    "erl_data = '/Users/cascade/Github/NTL/temp_data/ERL_data/'\n",
    "downloads = '/Users/cascade/Downloads/'"
   ]
  },
  {
   "cell_type": "code",
   "execution_count": null,
   "metadata": {},
   "outputs": [],
   "source": [
    "poly_file = 'ERL_data/GHS_POP_GPW42000_urbanmerge'\n",
    "poly_gpd = gpd.read_file(data_temp+poly_file+'.shp')"
   ]
  },
  {
   "cell_type": "code",
   "execution_count": null,
   "metadata": {
    "scrolled": true
   },
   "outputs": [],
   "source": [
    "file_out = poly_file+'_PopTot'"
   ]
  },
  {
   "cell_type": "code",
   "execution_count": null,
   "metadata": {},
   "outputs": [],
   "source": [
    "# Use Zeros raster in analysis because it gets ride of any negative values that are used as NaN\n",
    "# GHS_POP_GPW42000_GLOBE_R2015A_54009_1k_v1_0_Clip_zeros ... NaN and Neg values have been changed to zeros,\n",
    "# and thus GHS_POP_GPW42000_GLOBE_R2015A_54009_1k_v1_0_Clip_zeros & 2015 version are OK to USE 2019-02-21\n",
    "\n",
    "\n",
    "zeros_file = data_interim+'GHS_POP_GPW42000_GLOBE_R2015A_54009_1k_v1_0_Clip_zeros.tif'\n",
    "\n",
    "#ghs_path = '/Users/cascade/Github/NTL/data/raw/ghs-pop/GHS_POP_GPW42000_GLOBE_R2015A_54009_1k_v1_0/'\n",
    "#zeros_file = ghs_path+'GHS_POP_GPW42000_GLOBE_R2015A_54009_1k_v1_0.tif'\n",
    "\n",
    "\n",
    "#raster = rasterio.open(raster_in)"
   ]
  },
  {
   "cell_type": "code",
   "execution_count": null,
   "metadata": {},
   "outputs": [],
   "source": [
    "raster_in = rasterio.open(zeros_file)"
   ]
  },
  {
   "cell_type": "markdown",
   "metadata": {},
   "source": [
    "#### Reproject polygons if needed"
   ]
  },
  {
   "cell_type": "code",
   "execution_count": null,
   "metadata": {},
   "outputs": [],
   "source": [
    "# CRS({'proj': 'moll', 'lon_0': 0, 'x_0': 0, 'y_0': 0, 'ellps': 'WGS84', 'units': 'm', 'no_defs': True})\n",
    "# above can be reprojected as 'i'init': 'esri:54009'}'\n",
    "raster_in.meta['crs']"
   ]
  },
  {
   "cell_type": "code",
   "execution_count": null,
   "metadata": {},
   "outputs": [],
   "source": [
    "# Check if poly_gpd has a crs\n",
    "print(poly_gpd.crs)\n",
    "\n",
    "# assignet the crs correctly, check with qgis when in doubt \n",
    "poly_gpd.crs = {'init': 'epsg:4326'}\n",
    "\n",
    "print(poly_gpd.crs)"
   ]
  },
  {
   "cell_type": "code",
   "execution_count": null,
   "metadata": {},
   "outputs": [],
   "source": [
    "poly_gpd.head()"
   ]
  },
  {
   "cell_type": "code",
   "execution_count": null,
   "metadata": {},
   "outputs": [],
   "source": [
    "# Reproject \n",
    "\n",
    "poly_gpd = poly_gpd.to_crs({'init': 'esri:54009'})\n",
    "poly_gpd.head()"
   ]
  },
  {
   "cell_type": "markdown",
   "metadata": {},
   "source": [
    "#### Mask out zeros for rasters\n",
    "\n",
    "If you haven't be sure to make a new raster where NaN and neg. values are set to zero"
   ]
  },
  {
   "cell_type": "code",
   "execution_count": null,
   "metadata": {},
   "outputs": [],
   "source": [
    "# kwargs = raster_in.meta\n",
    "# kwargs"
   ]
  },
  {
   "cell_type": "code",
   "execution_count": null,
   "metadata": {},
   "outputs": [],
   "source": [
    "# make mask of nodata as zeros\n",
    "# mask = raster_in.read(1)\n",
    "# mask[mask <= 0] = 0"
   ]
  },
  {
   "cell_type": "code",
   "execution_count": null,
   "metadata": {},
   "outputs": [],
   "source": [
    "# Update kwargs (change in data type)\n",
    "# kwargs.update(dtype=rasterio.float32, count = 1)\n",
    "\n",
    "# with rasterio.open(data_interim+'GHS_POP_GPW42015_GLOBE_R2015A_54009_1k_v1_0_Clip_zeros.tif', 'w', **kwargs) as dst:\n",
    "#         dst.write_band(1, mask.astype(rasterio.float32))"
   ]
  },
  {
   "cell_type": "markdown",
   "metadata": {},
   "source": [
    "### Analysis"
   ]
  },
  {
   "cell_type": "code",
   "execution_count": null,
   "metadata": {},
   "outputs": [],
   "source": [
    "zonalstats_towns = zone_stat(raster_in, 1, poly_gpd)"
   ]
  },
  {
   "cell_type": "code",
   "execution_count": null,
   "metadata": {
    "scrolled": true
   },
   "outputs": [],
   "source": [
    "poly_gpd['PopTot'] = gpd.GeoDataFrame.from_dict(zonalstats_towns)\n",
    "poly_gpd"
   ]
  },
  {
   "cell_type": "code",
   "execution_count": null,
   "metadata": {},
   "outputs": [],
   "source": [
    "# check for zeros or strange data points\n",
    "\n",
    "neg_df = poly_gpd[poly_gpd.PopTot < 0]\n",
    "neg_df"
   ]
  },
  {
   "cell_type": "code",
   "execution_count": null,
   "metadata": {},
   "outputs": [],
   "source": [
    "null = poly_gpd[poly_gpd.PopTot.isna()]\n",
    "null"
   ]
  },
  {
   "cell_type": "markdown",
   "metadata": {},
   "source": [
    "### zero out missing data for aezraster\n"
   ]
  },
  {
   "cell_type": "code",
   "execution_count": null,
   "metadata": {},
   "outputs": [],
   "source": [
    "# aezraster = rasterio.open(data_interim+'ssa-aez09-raster.tif')"
   ]
  },
  {
   "cell_type": "code",
   "execution_count": null,
   "metadata": {},
   "outputs": [],
   "source": [
    "# aezraster.meta"
   ]
  },
  {
   "cell_type": "code",
   "execution_count": null,
   "metadata": {},
   "outputs": [],
   "source": [
    "# import numpy as np\n",
    "\n",
    "# np.unique(aezraster.read(1))"
   ]
  },
  {
   "cell_type": "code",
   "execution_count": null,
   "metadata": {},
   "outputs": [],
   "source": [
    "# maskaez = aezraster.read(1)\n",
    "# maskaez[maskaez <= 0] = 0"
   ]
  },
  {
   "cell_type": "code",
   "execution_count": null,
   "metadata": {},
   "outputs": [],
   "source": [
    "# aez_kwargs = aezraster.meta\n",
    "# aez_kwargs"
   ]
  },
  {
   "cell_type": "code",
   "execution_count": null,
   "metadata": {},
   "outputs": [],
   "source": [
    "# Update kwargs (change in data type)\n",
    "# kwargs.update(dtype=rasterio.float32, count = 1)\n",
    "\n",
    "# with rasterio.open(data_interim+'ssa-aez09-raster-zeros.tif', 'w', **aez_kwargs) as dst:\n",
    "#         dst.write_band(1, maskaez.astype(rasterio.float64))"
   ]
  },
  {
   "cell_type": "code",
   "execution_count": null,
   "metadata": {},
   "outputs": [],
   "source": [
    "# import numpy as np\n",
    "# np.unique(maskaez)"
   ]
  },
  {
   "cell_type": "code",
   "execution_count": null,
   "metadata": {},
   "outputs": [],
   "source": [
    "aezraster_zeros = rasterio.open(data_interim+'ssa-aez09-raster-zeros.tif')\n"
   ]
  },
  {
   "cell_type": "code",
   "execution_count": null,
   "metadata": {},
   "outputs": [],
   "source": [
    "aezraster_zeros.meta"
   ]
  },
  {
   "cell_type": "code",
   "execution_count": null,
   "metadata": {},
   "outputs": [],
   "source": [
    "# If needed, change crs back for gpd \n",
    "\n",
    "print(poly_gpd.crs)\n",
    "poly_gpd = poly_gpd.to_crs({'init': 'epsg:4326'})\n",
    "poly_gpd.head()"
   ]
  },
  {
   "cell_type": "code",
   "execution_count": null,
   "metadata": {},
   "outputs": [],
   "source": [
    "aez_class = zone_mode(aezraster_zeros, 1, poly_gpd)"
   ]
  },
  {
   "cell_type": "code",
   "execution_count": null,
   "metadata": {},
   "outputs": [],
   "source": [
    "foo = {}\n",
    "cat =[]\n",
    "\n",
    "for i in aez_class:\n",
    "    if i == foo:\n",
    "        mode = 'NoClass'\n",
    "    else:\n",
    "            mode = (max(i.items(), key=operator.itemgetter(1))[0])\n",
    "    cat.append((mode))"
   ]
  },
  {
   "cell_type": "code",
   "execution_count": null,
   "metadata": {},
   "outputs": [],
   "source": [
    "len(cat)"
   ]
  },
  {
   "cell_type": "code",
   "execution_count": null,
   "metadata": {
    "scrolled": true
   },
   "outputs": [],
   "source": [
    "poly_gpd['aez_class'] = gpd.GeoDataFrame.from_dict(cat)\n",
    "poly_gpd.head(6)"
   ]
  },
  {
   "cell_type": "code",
   "execution_count": null,
   "metadata": {},
   "outputs": [],
   "source": [
    "# write files out\n",
    "\n",
    "# poly_gpd.to_file(data_temp+file_out+\".shp\", driver='ESRI Shapefile')\n",
    "# poly_gpd.to_csv(data_temp+file_out+'.csv')"
   ]
  },
  {
   "cell_type": "markdown",
   "metadata": {},
   "source": [
    "# Attempt at some graphics"
   ]
  },
  {
   "cell_type": "code",
   "execution_count": null,
   "metadata": {},
   "outputs": [],
   "source": [
    "towns = 'AFR_PPP_2015_adj_v2_pop_towns.shp'\n",
    "towns_gpd = gpd.read_file(ms_data+towns)\n",
    "towns_gpd.shape"
   ]
  },
  {
   "cell_type": "code",
   "execution_count": null,
   "metadata": {},
   "outputs": [],
   "source": [
    "cities = 'AFR_PPP_2015_adj_v2_pop.shp'\n",
    "cities_gpd = gpd.read_file(ms_data+cities)\n",
    "cities_gpd.shape"
   ]
  },
  {
   "cell_type": "code",
   "execution_count": null,
   "metadata": {},
   "outputs": [],
   "source": [
    "type(towns)"
   ]
  },
  {
   "cell_type": "code",
   "execution_count": null,
   "metadata": {},
   "outputs": [],
   "source": [
    "import pandas as pd\n",
    "\n",
    "urban_concat = pd.concat([towns_gpd, cities_gpd])\n",
    "urban_concat.shape"
   ]
  },
  {
   "cell_type": "code",
   "execution_count": null,
   "metadata": {},
   "outputs": [],
   "source": [
    "test_df = urban_concat[urban_concat.PopTot <= 250000000]\n",
    "len(test_df)"
   ]
  },
  {
   "cell_type": "code",
   "execution_count": null,
   "metadata": {},
   "outputs": [],
   "source": [
    "test_df_drop = test_df.drop_duplicates('PopTot', keep=False)\n",
    "len(test_df_drop)"
   ]
  },
  {
   "cell_type": "code",
   "execution_count": null,
   "metadata": {
    "scrolled": true
   },
   "outputs": [],
   "source": [
    "ax = sns.boxplot(x = 'PopTot', y = 'country', data = test_df)\n",
    "ax.set(xscale=\"log\")"
   ]
  },
  {
   "cell_type": "code",
   "execution_count": null,
   "metadata": {},
   "outputs": [],
   "source": [
    "import matplotlib\n",
    "\n",
    "#from matplotlib.pyplot import figure\n",
    "#figure(num=None, figsize=(8, 6), dpi=80, facecolor='w', edgecolor='k')\n",
    "#plt.savefig('WP2015.png', dpi=700,  bbox_inches='tight')\n",
    "\n",
    "ax = sns.boxplot(x = 'PopTot', y = 'country', data = test_df_drop)\n",
    "ax.set(xscale=\"log\")\n",
    "\n",
    "fig = matplotlib.pyplot.gcf()\n",
    "fig.set_size_inches(18.5, 10.5)\n",
    "fig.savefig('test2png.png', dpi=100)"
   ]
  },
  {
   "cell_type": "code",
   "execution_count": null,
   "metadata": {},
   "outputs": [],
   "source": [
    "import matplotlib.pyplot as plt\n",
    "plt.show()\n",
    "plt.savefig('WP2015.png', bbox_inches='tight')"
   ]
  },
  {
   "cell_type": "code",
   "execution_count": null,
   "metadata": {},
   "outputs": [],
   "source": [
    "fig = ax.get_figure()\n",
    "fig.savefig('WP2015.png')"
   ]
  },
  {
   "cell_type": "markdown",
   "metadata": {},
   "source": [
    "### Count"
   ]
  },
  {
   "cell_type": "code",
   "execution_count": null,
   "metadata": {},
   "outputs": [],
   "source": [
    "city_file = 'LS15_w001001_Clip_1500c300_polyoverlap.shp'\n",
    "town_file = 'LS15_w001001_Clip_1500c300_polyoverlap_towns.shp'"
   ]
  },
  {
   "cell_type": "code",
   "execution_count": null,
   "metadata": {},
   "outputs": [],
   "source": [
    "poly_gpd_city = gpd.read_file(downloads+city_file)\n",
    "poly_gpd_town= gpd.read_file(downloads+town_file)"
   ]
  },
  {
   "cell_type": "code",
   "execution_count": null,
   "metadata": {},
   "outputs": [],
   "source": [
    "poly_gpd_city.shape"
   ]
  },
  {
   "cell_type": "code",
   "execution_count": null,
   "metadata": {},
   "outputs": [],
   "source": [
    "poly_gpd_town.shape"
   ]
  },
  {
   "cell_type": "code",
   "execution_count": null,
   "metadata": {},
   "outputs": [],
   "source": [
    "poly_gpd_town['Unique'] = poly_gpd_town.FID.astype(str)+poly_gpd_town['osm_type']\n",
    "poly_gpd_town.head()"
   ]
  },
  {
   "cell_type": "code",
   "execution_count": null,
   "metadata": {},
   "outputs": [],
   "source": [
    "poly_gpd_city['Unique'] = poly_gpd_city.FID.astype(str)+poly_gpd_city['osm_type']\n",
    "poly_gpd_city.head()"
   ]
  },
  {
   "cell_type": "code",
   "execution_count": null,
   "metadata": {},
   "outputs": [],
   "source": [
    "import pandas as pd\n",
    "urban_concat = pd.concat([poly_gpd_city, poly_gpd_town])\n"
   ]
  },
  {
   "cell_type": "code",
   "execution_count": null,
   "metadata": {},
   "outputs": [],
   "source": [
    "urban_concat.head(6)"
   ]
  },
  {
   "cell_type": "code",
   "execution_count": null,
   "metadata": {},
   "outputs": [],
   "source": [
    "test_df_drop = urban_concat.drop_duplicates('test', keep=False)\n"
   ]
  },
  {
   "cell_type": "code",
   "execution_count": null,
   "metadata": {},
   "outputs": [],
   "source": [
    "test_df_drop.shape"
   ]
  },
  {
   "cell_type": "code",
   "execution_count": null,
   "metadata": {},
   "outputs": [],
   "source": [
    "test_df_drop['osm_type'].value_counts()"
   ]
  },
  {
   "cell_type": "code",
   "execution_count": null,
   "metadata": {},
   "outputs": [],
   "source": [
    "test_df_drop.to_file(downloads+'test.shp', driver='ESRI Shapefile')\n"
   ]
  }
 ],
 "metadata": {
  "kernelspec": {
   "display_name": "Python 3",
   "language": "python",
   "name": "python3"
  },
  "language_info": {
   "codemirror_mode": {
    "name": "ipython",
    "version": 3
   },
   "file_extension": ".py",
   "mimetype": "text/x-python",
   "name": "python",
   "nbconvert_exporter": "python",
   "pygments_lexer": "ipython3",
   "version": "3.7.2"
  }
 },
 "nbformat": 4,
 "nbformat_minor": 2
}
