{
 "cells": [
  {
   "cell_type": "markdown",
   "metadata": {},
   "source": [
    "# Note Book To Fix Country Boarder Problem\n",
    "\n",
    "This notebook is to clip polygons that overlap country boundaries\n",
    "\n",
    "By Cascade Tuholske and Ryan Avery 2019-04-29"
   ]
  },
  {
   "cell_type": "markdown",
   "metadata": {},
   "source": [
    "### Dependencies"
   ]
  },
  {
   "cell_type": "code",
   "execution_count": 1,
   "metadata": {},
   "outputs": [],
   "source": [
    "from rasterstats import zonal_stats\n",
    "import rasterio\n",
    "import geopandas as gpd\n",
    "import operator\n",
    "import numpy as np\n",
    "import pandas as pd\n",
    "import matplotlib \n",
    "import seaborn as sns\n",
    "import matplotlib.pyplot as plt\n",
    "from scipy import stats\n",
    "from functools import reduce\n",
    "import squarify\n",
    "from scipy import stats as ss"
   ]
  },
  {
   "cell_type": "markdown",
   "metadata": {},
   "source": [
    "### Load Data"
   ]
  },
  {
   "cell_type": "code",
   "execution_count": 2,
   "metadata": {},
   "outputs": [],
   "source": [
    "# Paths\n",
    "data_raw = '../../data/raw/'\n",
    "data_temp = '../../temp_data/'\n",
    "data_interim = '../../interim/'\n",
    "erl_data = '/Users/cascade/Github/Pop-ERL/temp_data/ERL19/ERL_data/'\n",
    "downloads = '/Users/cascade/Downloads/'\n",
    "erl_v2_data = '/Users/cascade/Github/Pop-ERL/temp_data/ERL19/ERLv2/'"
   ]
  },
  {
   "cell_type": "code",
   "execution_count": 3,
   "metadata": {},
   "outputs": [],
   "source": [
    "GHS2000 = gpd.read_file(erl_v2_data+'GHS2000_20190429_all.shp', driver = 'ESRI Shapefile')\n",
    "GHS2015 = gpd.read_file(erl_v2_data+'GHS2015_20190429_all.shp', driver = 'ESRI Shapefile')\n",
    "WP2015 = gpd.read_file(erl_v2_data+'WP2015_20190429_all.shp', driver = 'ESRI Shapefile')\n",
    "LS2015 = gpd.read_file(erl_v2_data+'WPE2016_20190429_all.shp', driver = 'ESRI Shapefile')\n",
    "WPE2016 = gpd.read_file(erl_v2_data+'LS2015_20190429_all.shp', driver = 'ESRI Shapefile')"
   ]
  },
  {
   "cell_type": "code",
   "execution_count": 4,
   "metadata": {},
   "outputs": [],
   "source": [
    "def find_dup(df, col):\n",
    "    df_out = gpd.GeoDataFrame()\n",
    "    duplicated = df[col].duplicated()\n",
    "    \n",
    "    df_out = df[duplicated]\n",
    "    return df_out"
   ]
  },
  {
   "cell_type": "code",
   "execution_count": 5,
   "metadata": {},
   "outputs": [],
   "source": [
    "test = find_dup(GHS2000, 'FID')"
   ]
  },
  {
   "cell_type": "code",
   "execution_count": 7,
   "metadata": {},
   "outputs": [
    {
     "data": {
      "text/html": [
       "<div>\n",
       "<style scoped>\n",
       "    .dataframe tbody tr th:only-of-type {\n",
       "        vertical-align: middle;\n",
       "    }\n",
       "\n",
       "    .dataframe tbody tr th {\n",
       "        vertical-align: top;\n",
       "    }\n",
       "\n",
       "    .dataframe thead th {\n",
       "        text-align: right;\n",
       "    }\n",
       "</style>\n",
       "<table border=\"1\" class=\"dataframe\">\n",
       "  <thead>\n",
       "    <tr style=\"text-align: right;\">\n",
       "      <th></th>\n",
       "      <th>osm_id</th>\n",
       "      <th>FID</th>\n",
       "      <th>country</th>\n",
       "      <th>city</th>\n",
       "      <th>osm_type</th>\n",
       "      <th>lat</th>\n",
       "      <th>lon</th>\n",
       "      <th>PopTot</th>\n",
       "      <th>aez_class</th>\n",
       "      <th>geometry</th>\n",
       "    </tr>\n",
       "  </thead>\n",
       "  <tbody>\n",
       "    <tr>\n",
       "      <th>14</th>\n",
       "      <td>273094269</td>\n",
       "      <td>624</td>\n",
       "      <td>Algeria</td>\n",
       "      <td>Bordj El Kiffan</td>\n",
       "      <td>town</td>\n",
       "      <td>36.747273</td>\n",
       "      <td>3.190895</td>\n",
       "      <td>3.873888e+06</td>\n",
       "      <td>Subtropic - warm / subhumid</td>\n",
       "      <td>POLYGON ((2.960095682991406 36.82071885667165,...</td>\n",
       "    </tr>\n",
       "    <tr>\n",
       "      <th>15</th>\n",
       "      <td>287172660</td>\n",
       "      <td>624</td>\n",
       "      <td>Algeria</td>\n",
       "      <td>Bir Mourad Raïs</td>\n",
       "      <td>town</td>\n",
       "      <td>36.739408</td>\n",
       "      <td>3.050026</td>\n",
       "      <td>3.873888e+06</td>\n",
       "      <td>Subtropic - warm / subhumid</td>\n",
       "      <td>POLYGON ((2.960095682991406 36.82071885667165,...</td>\n",
       "    </tr>\n",
       "    <tr>\n",
       "      <th>16</th>\n",
       "      <td>287485747</td>\n",
       "      <td>624</td>\n",
       "      <td>Algeria</td>\n",
       "      <td>El Biar</td>\n",
       "      <td>town</td>\n",
       "      <td>36.768998</td>\n",
       "      <td>3.029947</td>\n",
       "      <td>3.873888e+06</td>\n",
       "      <td>Subtropic - warm / subhumid</td>\n",
       "      <td>POLYGON ((2.960095682991406 36.82071885667165,...</td>\n",
       "    </tr>\n",
       "    <tr>\n",
       "      <th>17</th>\n",
       "      <td>288037571</td>\n",
       "      <td>624</td>\n",
       "      <td>Algeria</td>\n",
       "      <td>Bab Ezzouar</td>\n",
       "      <td>town</td>\n",
       "      <td>36.722026</td>\n",
       "      <td>3.185668</td>\n",
       "      <td>3.873888e+06</td>\n",
       "      <td>Subtropic - warm / subhumid</td>\n",
       "      <td>POLYGON ((2.960095682991406 36.82071885667165,...</td>\n",
       "    </tr>\n",
       "    <tr>\n",
       "      <th>18</th>\n",
       "      <td>288090062</td>\n",
       "      <td>624</td>\n",
       "      <td>Algeria</td>\n",
       "      <td>Beni Messous</td>\n",
       "      <td>town</td>\n",
       "      <td>36.779616</td>\n",
       "      <td>2.975394</td>\n",
       "      <td>3.873888e+06</td>\n",
       "      <td>Subtropic - warm / subhumid</td>\n",
       "      <td>POLYGON ((2.960095682991406 36.82071885667165,...</td>\n",
       "    </tr>\n",
       "  </tbody>\n",
       "</table>\n",
       "</div>"
      ],
      "text/plain": [
       "       osm_id  FID  country             city osm_type        lat       lon  \\\n",
       "14  273094269  624  Algeria  Bordj El Kiffan     town  36.747273  3.190895   \n",
       "15  287172660  624  Algeria  Bir Mourad Raïs     town  36.739408  3.050026   \n",
       "16  287485747  624  Algeria          El Biar     town  36.768998  3.029947   \n",
       "17  288037571  624  Algeria      Bab Ezzouar     town  36.722026  3.185668   \n",
       "18  288090062  624  Algeria     Beni Messous     town  36.779616  2.975394   \n",
       "\n",
       "          PopTot                    aez_class  \\\n",
       "14  3.873888e+06  Subtropic - warm / subhumid   \n",
       "15  3.873888e+06  Subtropic - warm / subhumid   \n",
       "16  3.873888e+06  Subtropic - warm / subhumid   \n",
       "17  3.873888e+06  Subtropic - warm / subhumid   \n",
       "18  3.873888e+06  Subtropic - warm / subhumid   \n",
       "\n",
       "                                             geometry  \n",
       "14  POLYGON ((2.960095682991406 36.82071885667165,...  \n",
       "15  POLYGON ((2.960095682991406 36.82071885667165,...  \n",
       "16  POLYGON ((2.960095682991406 36.82071885667165,...  \n",
       "17  POLYGON ((2.960095682991406 36.82071885667165,...  \n",
       "18  POLYGON ((2.960095682991406 36.82071885667165,...  "
      ]
     },
     "execution_count": 7,
     "metadata": {},
     "output_type": "execute_result"
    }
   ],
   "source": [
    "test.head()"
   ]
  },
  {
   "cell_type": "code",
   "execution_count": null,
   "metadata": {},
   "outputs": [],
   "source": [
    "num = [1,1,2,3,3,1]\n",
    "state = ['mt', 'ca', 'mt', 'pa', 'pa', 'mt']\n",
    "cool = ['yes', 'yes', 'yes', 'no', 'yes', 'yes']\n",
    "\n",
    "test = pd.DataFrame()\n",
    "test['num'] = num\n",
    "test['state'] = state\n",
    "test['cool'] = cool\n",
    "\n",
    "\n",
    "test"
   ]
  },
  {
   "cell_type": "code",
   "execution_count": null,
   "metadata": {},
   "outputs": [],
   "source": [
    "out = test.groupby(['state', 'num']).groups"
   ]
  },
  {
   "cell_type": "code",
   "execution_count": null,
   "metadata": {},
   "outputs": [],
   "source": [
    "for key, value in out:\n",
    "    print(key, value)"
   ]
  },
  {
   "cell_type": "code",
   "execution_count": null,
   "metadata": {},
   "outputs": [],
   "source": [
    "g = test.groupby('num')['state'].apply(np.unique)\n",
    "g"
   ]
  },
  {
   "cell_type": "code",
   "execution_count": null,
   "metadata": {},
   "outputs": [],
   "source": [
    "test.groupby(['state','num']).size().reset_index().rename(columns={0:'count'})"
   ]
  },
  {
   "cell_type": "code",
   "execution_count": null,
   "metadata": {},
   "outputs": [],
   "source": [
    "test = find_dup(GHS2000, 'FID')"
   ]
  },
  {
   "cell_type": "code",
   "execution_count": null,
   "metadata": {},
   "outputs": [],
   "source": [
    "test.groupby(['FID','country'])"
   ]
  },
  {
   "cell_type": "code",
   "execution_count": null,
   "metadata": {},
   "outputs": [],
   "source": [
    "out = test.groupby('FID')['country'].apply(np.unique)"
   ]
  },
  {
   "cell_type": "code",
   "execution_count": null,
   "metadata": {},
   "outputs": [],
   "source": [
    "test = find_dup(GHS2000, 'FID')\n",
    "\n",
    "out = test.groupby(['country', 'FID']).groups\n",
    "for key, value in out:\n",
    "    print(key, value)"
   ]
  }
 ],
 "metadata": {
  "kernelspec": {
   "display_name": "Python 3",
   "language": "python",
   "name": "python3"
  },
  "language_info": {
   "codemirror_mode": {
    "name": "ipython",
    "version": 3
   },
   "file_extension": ".py",
   "mimetype": "text/x-python",
   "name": "python",
   "nbconvert_exporter": "python",
   "pygments_lexer": "ipython3",
   "version": "3.7.0"
  }
 },
 "nbformat": 4,
 "nbformat_minor": 2
}
