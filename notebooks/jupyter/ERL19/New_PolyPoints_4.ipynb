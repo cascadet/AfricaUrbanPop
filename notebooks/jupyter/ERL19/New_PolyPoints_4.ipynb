{
 "cells": [
  {
   "cell_type": "markdown",
   "metadata": {},
   "source": [
    "# NoteBook To Check Point or Polygon Inside Polygon\n",
    "\n",
    "The objective of this notebook is to search a set of points or polygons for spatial overlap with a largerset\n",
    "\n",
    "By Cascsde Tuholske 2019-01-17\n",
    "\n",
    "#### Notes\n",
    "1. Points should be dialated to circles to prevent one falling just outside the larger polygon set (see Lusaka)"
   ]
  },
  {
   "cell_type": "markdown",
   "metadata": {},
   "source": [
    "### Depedencies"
   ]
  },
  {
   "cell_type": "code",
   "execution_count": 1,
   "metadata": {},
   "outputs": [],
   "source": [
    "import pandas as pd\n",
    "import geopandas as gpd\n",
    "from shapely.geometry import Point\n",
    "from shapely.geometry import mapping\n",
    "from shapely.geometry import Polygon\n",
    "from shapely.geometry import shape\n",
    "import ast\n",
    "from shapely.geometry import mapping\n",
    "import rasterio\n",
    "import copy"
   ]
  },
  {
   "cell_type": "markdown",
   "metadata": {},
   "source": [
    "### Functions"
   ]
  },
  {
   "cell_type": "code",
   "execution_count": 2,
   "metadata": {},
   "outputs": [],
   "source": [
    "def load_points (file):\n",
    "    \"\"\" This function loads a csv \n",
    "    of points and turns it into shapely points\"\"\"\n",
    "    df = pd.read_csv(file)\n",
    "\n",
    "    # creating a geometry column \n",
    "    geometry = [Point(xy) for xy in zip(df['lon'], df['lat'])]\n",
    "\n",
    "    # Coordinate reference system : WGS84\n",
    "    crs = {'init': 'epsg:4326'}\n",
    "\n",
    "    # Creating a Geographic data frame \n",
    "    point_gdf = gpd.GeoDataFrame(df, crs=crs, geometry=geometry)\n",
    "    \n",
    "    return point_gdf"
   ]
  },
  {
   "cell_type": "code",
   "execution_count": 3,
   "metadata": {},
   "outputs": [],
   "source": [
    "def point_buffer(gpd_df, raduis):\n",
    "    \"Function to make a shapely polygon buffer around a point\"\n",
    "   \n",
    "    # AGU 2018-12-04 - radius set to ~250m at the equator \n",
    "    #radius = 250*1/(111*1000)\n",
    "\n",
    "    # new_gpd_df = gpd.GeoDataFrame()\n",
    "    gpd_df.rename(columns={'geometry':'old_geom'}, inplace=True)\n",
    "    \n",
    "    arr = []\n",
    "    \n",
    "    for point in gpd_df['old_geom']:\n",
    "        buffer = point.buffer(radius)\n",
    "        arr.append((buffer))\n",
    "    \n",
    "    gpd_df['geometry'] = arr\n",
    "    \n",
    "    return gpd_df"
   ]
  },
  {
   "cell_type": "code",
   "execution_count": 4,
   "metadata": {},
   "outputs": [],
   "source": [
    "def poly_point (poly, point):\n",
    "    \"\"\"\n",
    "    This function will check if points are inside polygons if given two gpd dataframes with points and polygons\n",
    "    Returns point ids, point geometry, polygon index # and polygon geometry\n",
    "    \"\"\"\n",
    "    \n",
    "    out_arr = [] #return an array <<< ---------------- ASK RYAN IF BETTER DO USE DICT \n",
    "    \n",
    "    for index_point, row_point in point.iterrows():\n",
    "        for index_poly, row_poly in poly.iterrows():\n",
    "            if row_point['geometry'].within(row_poly['geometry']):\n",
    "                point_id = row_point['id']\n",
    "                point_geom = mapping(row_point['geometry']) # makes a dict w/ keys : type and cood\n",
    "                poly_id = index_poly\n",
    "                poly_geom = mapping(row_poly['geometry']) # makes a dict w/ keys : type and cood\n",
    "                \n",
    "                out_arr.append((point_id, \n",
    "                                point_geom, \n",
    "                                poly_id, \n",
    "                                poly_geom))\n",
    "\n",
    "    return out_arr\n",
    "\n",
    "# Note 2018-11-30 update arr to gpd_df "
   ]
  },
  {
   "cell_type": "code",
   "execution_count": 5,
   "metadata": {},
   "outputs": [],
   "source": [
    "def poly_overlap (point_buffer, poly_raster):\n",
    "    \"\"\"\n",
    "    This function will check if point buffers intersect with polygons \n",
    "    if given two gpd dataframes with point buffers and polygons\n",
    "    Returns point ids, point geometry, polygon index #, and polygon geometry in a geopandas DF.\n",
    "    It goes faster if smaller list goes first\n",
    "    \n",
    "    Change TOWN & CITY ARRA\n",
    "    \"\"\"\n",
    "    \n",
    "    # make arrays to fill\n",
    "    country_arr = []\n",
    "    osm_name_arr = []\n",
    "    osm_type_arr = []\n",
    "    lat_arr = []\n",
    "    lon_arr = []\n",
    "    osm_id_arr = [] \n",
    "    FID_arr = [] \n",
    "    poly_geom_arr = []\n",
    "    #point_geom_arr = []\n",
    "    \n",
    "    for index_point_buffer, row_point_buffer in point_buffer.iterrows():\n",
    "        for index_poly_raster, row_poly_raster in poly_raster.iterrows():\n",
    "            if row_point_buffer['geometry'].intersects(row_poly_raster['geometry']):\n",
    "                country = row_point_buffer['country']\n",
    "                osm_name = row_point_buffer['osm_name'] \n",
    "                osm_type = row_point_buffer['osm_type']\n",
    "                lat = row_point_buffer['lat']\n",
    "                lon = row_point_buffer['lon']\n",
    "                osm_id = row_point_buffer['osm_id']\n",
    "                poly_id = row_poly_raster['FID']\n",
    "                poly_geom = shape(mapping(row_poly_raster['geometry'])) # make polygon\n",
    "                #point_geom = row_point_buffer['old_geom']\n",
    "\n",
    "                country_arr.append((country))\n",
    "                osm_name_arr.append((osm_name))\n",
    "                osm_type_arr.append((osm_type))\n",
    "                lat_arr.append((lat))\n",
    "                lon_arr.append((lon))\n",
    "                osm_id_arr.append((osm_id))\n",
    "                FID_arr.append((poly_id))\n",
    "                poly_geom_arr.append((poly_geom))\n",
    "                #point_geom_arr.append((point_geom))\n",
    "    \n",
    "    # put results into a geopandas df\n",
    "    new_gpd_df = gpd.GeoDataFrame()\n",
    "    new_gpd_df['osm_id'] = osm_id_arr\n",
    "    new_gpd_df['FID'] = FID_arr\n",
    "    new_gpd_df['geometry'] = poly_geom_arr\n",
    "    new_gpd_df['country'] = country_arr           \n",
    "    new_gpd_df['osm_name'] = osm_name_arr\n",
    "    new_gpd_df['osm_type'] = osm_type_arr\n",
    "    new_gpd_df['lat'] = lat_arr\n",
    "    new_gpd_df['lon'] = lon_arr\n",
    "    #new_gpd_df['point_geom'] = point_geom_arr\n",
    "    \n",
    "    \n",
    "    return new_gpd_df\n",
    "\n",
    "# Note 2018-11-30 update arr to gpd_df \n",
    "# Note 2019-04-30 updated to use osm_name instead of city/town for the OSM name"
   ]
  },
  {
   "cell_type": "markdown",
   "metadata": {},
   "source": [
    "### Load Data"
   ]
  },
  {
   "cell_type": "code",
   "execution_count": 6,
   "metadata": {},
   "outputs": [
    {
     "data": {
      "text/plain": [
       "'/tana-crunch/cascade/projects/Pop-ERL/notebooks/jupyter/ERL19'"
      ]
     },
     "execution_count": 6,
     "metadata": {},
     "output_type": "execute_result"
    }
   ],
   "source": [
    "import os\n",
    "os.getcwd()"
   ]
  },
  {
   "cell_type": "code",
   "execution_count": 7,
   "metadata": {},
   "outputs": [],
   "source": [
    "# File Paths\n",
    "temp_data = '../../../temp_data/ERL19/'\n",
    "erl_v2_data  = '../../../temp_data/ERL19v2/'"
   ]
  },
  {
   "cell_type": "code",
   "execution_count": 8,
   "metadata": {},
   "outputs": [
    {
     "name": "stdout",
     "output_type": "stream",
     "text": [
      "9813\n",
      "15494\n"
     ]
    }
   ],
   "source": [
    "# Load Polygons\n",
    "\n",
    "# Load Points\n",
    "points = gpd.read_file(erl_v2_data+'20190430_osm_All.shp')\n",
    "print(len(points))\n",
    "\n",
    "# Load Polygons\n",
    "polygons = gpd.read_file(temp_data+'WPE_1KM_2016_Pop_Clip_1500c300_B.shp')\n",
    "print(len(polygons))\n",
    "\n",
    "#Out File Name\n",
    "out = 'WPE_1KM_2016_Pop_Clip_1500c300_B_polypoints'"
   ]
  },
  {
   "cell_type": "markdown",
   "metadata": {},
   "source": [
    "### Buffer Points"
   ]
  },
  {
   "cell_type": "code",
   "execution_count": 9,
   "metadata": {},
   "outputs": [
    {
     "data": {
      "text/plain": [
       "0.0022522522522522522"
      ]
     },
     "execution_count": 9,
     "metadata": {},
     "output_type": "execute_result"
    }
   ],
   "source": [
    "# AGU 2018-12-04 - radius set to ~250m at the equator \n",
    "\n",
    "radius = 250*1/(111*1000)\n",
    "radius"
   ]
  },
  {
   "cell_type": "code",
   "execution_count": 10,
   "metadata": {},
   "outputs": [],
   "source": [
    "osm_buffer_gdf = point_buffer(points, radius)"
   ]
  },
  {
   "cell_type": "code",
   "execution_count": null,
   "metadata": {
    "scrolled": false
   },
   "outputs": [],
   "source": [
    "#osm_buffer_gdf.head(6)"
   ]
  },
  {
   "cell_type": "code",
   "execution_count": 11,
   "metadata": {},
   "outputs": [
    {
     "data": {
      "text/html": [
       "<div>\n",
       "<style scoped>\n",
       "    .dataframe tbody tr th:only-of-type {\n",
       "        vertical-align: middle;\n",
       "    }\n",
       "\n",
       "    .dataframe tbody tr th {\n",
       "        vertical-align: top;\n",
       "    }\n",
       "\n",
       "    .dataframe thead th {\n",
       "        text-align: right;\n",
       "    }\n",
       "</style>\n",
       "<table border=\"1\" class=\"dataframe\">\n",
       "  <thead>\n",
       "    <tr style=\"text-align: right;\">\n",
       "      <th></th>\n",
       "      <th>country</th>\n",
       "      <th>osm_id</th>\n",
       "      <th>osm_name</th>\n",
       "      <th>lat</th>\n",
       "      <th>lon</th>\n",
       "      <th>osm_type</th>\n",
       "      <th>geometry</th>\n",
       "    </tr>\n",
       "  </thead>\n",
       "  <tbody>\n",
       "    <tr>\n",
       "      <th>0</th>\n",
       "      <td>Algeria</td>\n",
       "      <td>89369215</td>\n",
       "      <td>Tamanrasset</td>\n",
       "      <td>22.785454</td>\n",
       "      <td>5.532446</td>\n",
       "      <td>town</td>\n",
       "      <td>POLYGON ((5.534698752252252 22.7854543, 5.5346...</td>\n",
       "    </tr>\n",
       "    <tr>\n",
       "      <th>1</th>\n",
       "      <td>Algeria</td>\n",
       "      <td>89980948</td>\n",
       "      <td>In Salah</td>\n",
       "      <td>27.195033</td>\n",
       "      <td>2.482613</td>\n",
       "      <td>town</td>\n",
       "      <td>POLYGON ((2.484865452252253 27.1950331, 2.4848...</td>\n",
       "    </tr>\n",
       "    <tr>\n",
       "      <th>2</th>\n",
       "      <td>Algeria</td>\n",
       "      <td>252600742</td>\n",
       "      <td>Boumerdès</td>\n",
       "      <td>36.758882</td>\n",
       "      <td>3.470596</td>\n",
       "      <td>town</td>\n",
       "      <td>POLYGON ((3.472848252252252 36.758882, 3.47283...</td>\n",
       "    </tr>\n",
       "    <tr>\n",
       "      <th>3</th>\n",
       "      <td>Algeria</td>\n",
       "      <td>253167052</td>\n",
       "      <td>Thenia</td>\n",
       "      <td>36.724986</td>\n",
       "      <td>3.556935</td>\n",
       "      <td>town</td>\n",
       "      <td>POLYGON ((3.559187252252252 36.724986, 3.55917...</td>\n",
       "    </tr>\n",
       "    <tr>\n",
       "      <th>4</th>\n",
       "      <td>Algeria</td>\n",
       "      <td>253167208</td>\n",
       "      <td>Zemmouri</td>\n",
       "      <td>36.786406</td>\n",
       "      <td>3.601221</td>\n",
       "      <td>town</td>\n",
       "      <td>POLYGON ((3.603473152252253 36.7864064, 3.6034...</td>\n",
       "    </tr>\n",
       "    <tr>\n",
       "      <th>5</th>\n",
       "      <td>Algeria</td>\n",
       "      <td>253291208</td>\n",
       "      <td>Lakhdaria</td>\n",
       "      <td>36.563944</td>\n",
       "      <td>3.596907</td>\n",
       "      <td>town</td>\n",
       "      <td>POLYGON ((3.599159252252252 36.5639442, 3.5991...</td>\n",
       "    </tr>\n",
       "  </tbody>\n",
       "</table>\n",
       "</div>"
      ],
      "text/plain": [
       "   country     osm_id     osm_name        lat       lon osm_type  \\\n",
       "0  Algeria   89369215  Tamanrasset  22.785454  5.532446     town   \n",
       "1  Algeria   89980948     In Salah  27.195033  2.482613     town   \n",
       "2  Algeria  252600742    Boumerdès  36.758882  3.470596     town   \n",
       "3  Algeria  253167052       Thenia  36.724986  3.556935     town   \n",
       "4  Algeria  253167208     Zemmouri  36.786406  3.601221     town   \n",
       "5  Algeria  253291208    Lakhdaria  36.563944  3.596907     town   \n",
       "\n",
       "                                            geometry  \n",
       "0  POLYGON ((5.534698752252252 22.7854543, 5.5346...  \n",
       "1  POLYGON ((2.484865452252253 27.1950331, 2.4848...  \n",
       "2  POLYGON ((3.472848252252252 36.758882, 3.47283...  \n",
       "3  POLYGON ((3.559187252252252 36.724986, 3.55917...  \n",
       "4  POLYGON ((3.603473152252253 36.7864064, 3.6034...  \n",
       "5  POLYGON ((3.599159252252252 36.5639442, 3.5991...  "
      ]
     },
     "execution_count": 11,
     "metadata": {},
     "output_type": "execute_result"
    }
   ],
   "source": [
    "# drop point geom and keep buffered\n",
    "\n",
    "osm_buffer_gdf = osm_buffer_gdf.drop(['old_geom'], axis=1)\n",
    "osm_buffer_gdf.head(6)"
   ]
  },
  {
   "cell_type": "code",
   "execution_count": 12,
   "metadata": {},
   "outputs": [
    {
     "data": {
      "text/html": [
       "<div>\n",
       "<style scoped>\n",
       "    .dataframe tbody tr th:only-of-type {\n",
       "        vertical-align: middle;\n",
       "    }\n",
       "\n",
       "    .dataframe tbody tr th {\n",
       "        vertical-align: top;\n",
       "    }\n",
       "\n",
       "    .dataframe thead th {\n",
       "        text-align: right;\n",
       "    }\n",
       "</style>\n",
       "<table border=\"1\" class=\"dataframe\">\n",
       "  <thead>\n",
       "    <tr style=\"text-align: right;\">\n",
       "      <th></th>\n",
       "      <th>FID</th>\n",
       "      <th>geometry</th>\n",
       "    </tr>\n",
       "  </thead>\n",
       "  <tbody>\n",
       "    <tr>\n",
       "      <th>0</th>\n",
       "      <td>15000</td>\n",
       "      <td>POLYGON ((-5.969442 6.471381, -5.942493 6.4713...</td>\n",
       "    </tr>\n",
       "    <tr>\n",
       "      <th>1</th>\n",
       "      <td>15001</td>\n",
       "      <td>POLYGON ((8.825882 6.471381, 8.834865000000001...</td>\n",
       "    </tr>\n",
       "    <tr>\n",
       "      <th>2</th>\n",
       "      <td>15002</td>\n",
       "      <td>POLYGON ((-2.259382 6.480365, -2.250399 6.4803...</td>\n",
       "    </tr>\n",
       "    <tr>\n",
       "      <th>3</th>\n",
       "      <td>15003</td>\n",
       "      <td>POLYGON ((11.538807 3.533876, 11.556773 3.5338...</td>\n",
       "    </tr>\n",
       "    <tr>\n",
       "      <th>4</th>\n",
       "      <td>15004</td>\n",
       "      <td>POLYGON ((14.871572 27.285446, 14.889539 27.28...</td>\n",
       "    </tr>\n",
       "  </tbody>\n",
       "</table>\n",
       "</div>"
      ],
      "text/plain": [
       "     FID                                           geometry\n",
       "0  15000  POLYGON ((-5.969442 6.471381, -5.942493 6.4713...\n",
       "1  15001  POLYGON ((8.825882 6.471381, 8.834865000000001...\n",
       "2  15002  POLYGON ((-2.259382 6.480365, -2.250399 6.4803...\n",
       "3  15003  POLYGON ((11.538807 3.533876, 11.556773 3.5338...\n",
       "4  15004  POLYGON ((14.871572 27.285446, 14.889539 27.28..."
      ]
     },
     "execution_count": 12,
     "metadata": {},
     "output_type": "execute_result"
    }
   ],
   "source": [
    "polygons.head()"
   ]
  },
  {
   "cell_type": "markdown",
   "metadata": {},
   "source": [
    "#### Change CRS if needed"
   ]
  },
  {
   "cell_type": "code",
   "execution_count": null,
   "metadata": {},
   "outputs": [],
   "source": [
    "polygons.crs"
   ]
  },
  {
   "cell_type": "code",
   "execution_count": null,
   "metadata": {},
   "outputs": [],
   "source": [
    "osm_buffer_gdf.crs"
   ]
  },
  {
   "cell_type": "code",
   "execution_count": null,
   "metadata": {},
   "outputs": [],
   "source": [
    "# For GHS CRS\n",
    "\n",
    "crs = {'ellps': 'WGS84',\n",
    " 'lon_0': 0,\n",
    " 'no_defs': True,\n",
    " 'proj': 'moll',\n",
    " 'units': 'm',\n",
    " 'x_0': 0,\n",
    " 'y_0': 0}"
   ]
  },
  {
   "cell_type": "code",
   "execution_count": null,
   "metadata": {},
   "outputs": [],
   "source": [
    "raster_polygons.crs = crs"
   ]
  },
  {
   "cell_type": "code",
   "execution_count": null,
   "metadata": {},
   "outputs": [],
   "source": [
    "raster_polygons_crs = raster_polygons.to_crs(osm_buffer_gdf.crs)"
   ]
  },
  {
   "cell_type": "code",
   "execution_count": null,
   "metadata": {},
   "outputs": [],
   "source": [
    "# For GHS make FID and reset crs\n",
    "FID = list(range(len(raster_polygons)))\n",
    "raster_polygons['DN'] = FID\n",
    "raster_polygons.columns.values[0] = \"FID\""
   ]
  },
  {
   "cell_type": "code",
   "execution_count": null,
   "metadata": {
    "scrolled": true
   },
   "outputs": [],
   "source": [
    "raster_polygons.head()"
   ]
  },
  {
   "cell_type": "markdown",
   "metadata": {},
   "source": [
    "### Intersection"
   ]
  },
  {
   "cell_type": "code",
   "execution_count": null,
   "metadata": {},
   "outputs": [],
   "source": [
    "# run poly_overlap\n",
    "\n",
    "import time\n",
    "checkpoint = time.time()\n",
    "\n",
    "poly_overlap_out = poly_overlap(osm_buffer_gdf, polygons)\n",
    "\n",
    "print(\"elapsed time is: {}s\".format(time.time()-checkpoint))\n",
    "print(len(poly_overlap_out))"
   ]
  },
  {
   "cell_type": "code",
   "execution_count": null,
   "metadata": {},
   "outputs": [],
   "source": [
    "print(len(poly_overlap_out))"
   ]
  },
  {
   "cell_type": "code",
   "execution_count": null,
   "metadata": {
    "scrolled": true
   },
   "outputs": [],
   "source": [
    "poly_overlap_out.tail(20)"
   ]
  },
  {
   "cell_type": "code",
   "execution_count": null,
   "metadata": {},
   "outputs": [],
   "source": [
    "poly_overlap_out.to_file(erl_v2_data+out+'.shp', driver='ESRI Shapefile')"
   ]
  }
 ],
 "metadata": {
  "kernelspec": {
   "display_name": "Python [conda env:geo]",
   "language": "python",
   "name": "conda-env-geo-py"
  },
  "language_info": {
   "codemirror_mode": {
    "name": "ipython",
    "version": 3
   },
   "file_extension": ".py",
   "mimetype": "text/x-python",
   "name": "python",
   "nbconvert_exporter": "python",
   "pygments_lexer": "ipython3",
   "version": "3.6.7"
  }
 },
 "nbformat": 4,
 "nbformat_minor": 2
}
