{
 "cells": [
  {
   "cell_type": "markdown",
   "metadata": {},
   "source": [
    "# Notebook to Clean Data\n",
    "\n",
    "2019 - 01 - 21 updated 2019-04-30\n",
    "Notebook to clean final osm cities and towns\n",
    "1. merge files\n",
    "2. drop duplicates \n"
   ]
  },
  {
   "cell_type": "code",
   "execution_count": 1,
   "metadata": {},
   "outputs": [],
   "source": [
    "import geopandas as gpd\n",
    "import pandas as pd\n",
    "import fiona\n",
    "import json\n",
    "from shapely.geometry import Point"
   ]
  },
  {
   "cell_type": "code",
   "execution_count": 2,
   "metadata": {},
   "outputs": [
    {
     "data": {
      "text/plain": [
       "'/Users/cascade/Github/Pop-ERL/notebooks/jupyter/ERL19'"
      ]
     },
     "execution_count": 2,
     "metadata": {},
     "output_type": "execute_result"
    }
   ],
   "source": [
    "import os\n",
    "os.getcwd()"
   ]
  },
  {
   "cell_type": "code",
   "execution_count": 3,
   "metadata": {},
   "outputs": [],
   "source": [
    "# File Paths\n",
    "\n",
    "ERLv2_data = '../../../temp_data/ERL19v2/'\n",
    "temp_data = '../../../temp_data/ERL19/'"
   ]
  },
  {
   "cell_type": "markdown",
   "metadata": {},
   "source": [
    "### Merge OSM Files"
   ]
  },
  {
   "cell_type": "code",
   "execution_count": null,
   "metadata": {},
   "outputs": [],
   "source": [
    "def load_points (file):\n",
    "    \"\"\" This function loads a csv \n",
    "    of points and turns it into shapely points\"\"\"\n",
    "    df = pd.read_csv(file)\n",
    "\n",
    "    # creating a geometry column \n",
    "    geometry = [Point(xy) for xy in zip(df['lon'], df['lat'])]\n",
    "\n",
    "    # Coordinate reference system : WGS84\n",
    "    crs = {'init': 'epsg:4326'}\n",
    "\n",
    "    # Creating a Geographic data frame \n",
    "    point_gdf = gpd.GeoDataFrame(df, crs=crs, geometry=geometry)\n",
    "    \n",
    "    return point_gdf"
   ]
  },
  {
   "cell_type": "code",
   "execution_count": null,
   "metadata": {},
   "outputs": [],
   "source": [
    "# Load Files\n",
    "town = load_points(v2_data+'20190114_osm_africa_towns.csv')\n",
    "city = load_points(v2_data+'20190114_osm_africa_cities.csv')\n",
    "\n",
    "townSS = load_points(v2_data+'20190221_osm_S_Sudan_towns.csv')\n",
    "citySS = load_points(v2_data+'20190221_osm_S_Sudan_cities.csv')\n",
    "\n",
    "townDRC = load_points(v2_data+'20190430_osm_DRC_towns.csv')\n",
    "cityDRC = load_points(v2_data+'20190430_osm_DRC_cities.csv')"
   ]
  },
  {
   "cell_type": "code",
   "execution_count": null,
   "metadata": {},
   "outputs": [],
   "source": [
    "# add column with osm type\n",
    "\n",
    "town['osm_type'] = 'town'\n",
    "townDRC['osm_type'] = 'town'\n",
    "townSS['osm_type'] = 'town'\n",
    "\n",
    "city['osm_type'] = 'city'\n",
    "cityDRC['osm_type'] = 'city'\n",
    "citySS['osm_type'] = 'city'"
   ]
  },
  {
   "cell_type": "code",
   "execution_count": null,
   "metadata": {},
   "outputs": [],
   "source": [
    "cityDRC.head()"
   ]
  },
  {
   "cell_type": "code",
   "execution_count": null,
   "metadata": {},
   "outputs": [],
   "source": [
    "# merge\n",
    "\n",
    "towns = pd.concat([town, townDRC, townSS, cityDRC, citySS], sort = False) # col name of cityDRC and citySS is town, not city\n",
    "\n",
    "towns.rename(columns={'town':'osm_name'}, inplace=True)\n",
    "city.rename(columns={'city':'osm_name'}, inplace=True)\n",
    "\n",
    "out = pd.concat([towns, city], sort = False)\n"
   ]
  },
  {
   "cell_type": "code",
   "execution_count": null,
   "metadata": {},
   "outputs": [],
   "source": [
    "out[1000:1100]"
   ]
  },
  {
   "cell_type": "code",
   "execution_count": null,
   "metadata": {},
   "outputs": [],
   "source": [
    "out.shape"
   ]
  },
  {
   "cell_type": "code",
   "execution_count": null,
   "metadata": {},
   "outputs": [],
   "source": [
    "out.to_file(v2_data+\"20190430_osm_All.shp\", driver = \"ESRI Shapefile\")"
   ]
  },
  {
   "cell_type": "markdown",
   "metadata": {},
   "source": [
    "### Split 1500c300 Polygons"
   ]
  },
  {
   "cell_type": "code",
   "execution_count": null,
   "metadata": {},
   "outputs": [],
   "source": [
    "# Load\n",
    "\n",
    "GHS2000 = gpd.read_file(temp_data+'GHS_POP_GPW42000_GLOBE_R2015A_54009_1k_v1_0_Clip_1500c300.shp')\n"
   ]
  },
  {
   "cell_type": "code",
   "execution_count": null,
   "metadata": {},
   "outputs": [],
   "source": [
    "GHS2000.head()"
   ]
  },
  {
   "cell_type": "code",
   "execution_count": null,
   "metadata": {},
   "outputs": [],
   "source": [
    "# ADD FIDS if needed\n",
    "\n",
    "FID = list(range(len(GHS2000)))\n",
    "GHS2000['DN'] = FID\n",
    "GHS2000.columns.values[0] = \"FID\"\n",
    "GHS2000.head()"
   ]
  },
  {
   "cell_type": "code",
   "execution_count": null,
   "metadata": {},
   "outputs": [],
   "source": [
    "len(GHS2000)"
   ]
  },
  {
   "cell_type": "code",
   "execution_count": null,
   "metadata": {},
   "outputs": [],
   "source": [
    "GHS2000_A = GHS2000[0:15000]\n",
    "len(GHS2000_A)"
   ]
  },
  {
   "cell_type": "code",
   "execution_count": null,
   "metadata": {},
   "outputs": [],
   "source": [
    "GHS2000_B = GHS2000[15000:30000]\n",
    "len(GHS2000_B)"
   ]
  },
  {
   "cell_type": "code",
   "execution_count": null,
   "metadata": {},
   "outputs": [],
   "source": [
    "GHS2000_C = GHS2000[30000:]\n",
    "len(GHS2000_C)"
   ]
  },
  {
   "cell_type": "code",
   "execution_count": null,
   "metadata": {},
   "outputs": [],
   "source": [
    "len(GHS2000_A)+len(GHS2000_B)+len(GHS2000_C)"
   ]
  },
  {
   "cell_type": "code",
   "execution_count": null,
   "metadata": {},
   "outputs": [],
   "source": [
    "GHS2000_A.tail()"
   ]
  },
  {
   "cell_type": "code",
   "execution_count": null,
   "metadata": {},
   "outputs": [],
   "source": [
    "GHS2000_C.head()"
   ]
  },
  {
   "cell_type": "code",
   "execution_count": null,
   "metadata": {},
   "outputs": [],
   "source": [
    "GHS2000_A.to_file(temp_data+'GHS_POP_GPW42000_GLOBE_R2015A_54009_1k_v1_0_Clip_1500c300_A.shp')\n",
    "GHS2000_B.to_file(temp_data+'GHS_POP_GPW42000_GLOBE_R2015A_54009_1k_v1_0_Clip_1500c300_B.shp')\n",
    "GHS2000_C.to_file(temp_data+'GHS_POP_GPW42000_GLOBE_R2015A_54009_1k_v1_0_Clip_1500c300_C.shp')"
   ]
  },
  {
   "cell_type": "markdown",
   "metadata": {},
   "source": [
    "### Merge PolyPoints \n",
    "- Merge polypoints outputs & save\n",
    "- Find FIDs that overlap boarders"
   ]
  },
  {
   "cell_type": "code",
   "execution_count": null,
   "metadata": {},
   "outputs": [],
   "source": [
    "# file paths\n",
    "\n",
    "poly_A = gpd.read_file(ERLv2_data+'GHS_POP_GPW42000_GLOBE_R2015A_54009_1k_v1_0_Clip_1500c300_A_polypoints.shp')\n",
    "poly_B = gpd.read_file(ERLv2_data+'GHS_POP_GPW42000_GLOBE_R2015A_54009_1k_v1_0_Clip_1500c300_B_polypoints.shp')\n",
    "poly_C = gpd.read_file(ERLv2_data+'GHS_POP_GPW42000_GLOBE_R2015A_54009_1k_v1_0_Clip_1500c300_C_polypoints.shp')\n",
    "\n",
    "out_data = 'GHS2000'"
   ]
  },
  {
   "cell_type": "code",
   "execution_count": null,
   "metadata": {},
   "outputs": [],
   "source": [
    "poly = pd.concat([poly_A, poly_B, poly_C], ignore_index = True) #poly_C"
   ]
  },
  {
   "cell_type": "code",
   "execution_count": null,
   "metadata": {},
   "outputs": [],
   "source": [
    "len(poly)"
   ]
  },
  {
   "cell_type": "code",
   "execution_count": null,
   "metadata": {},
   "outputs": [],
   "source": [
    "# Save out all Polygons\n",
    "poly.to_file(ERLv2_data+out_data+'_polypoints_ALL.shp')"
   ]
  },
  {
   "cell_type": "markdown",
   "metadata": {},
   "source": [
    "### Find Country Overlap"
   ]
  },
  {
   "cell_type": "code",
   "execution_count": null,
   "metadata": {},
   "outputs": [],
   "source": [
    "# open files\n",
    "out_data = 'GHS2000'\n",
    "\n",
    "file = out_data+'_polypoints_ALL.shp'\n",
    "#file = 'WP2015_1500c300_polypoints.shp'\n",
    "\n",
    "poly_all = gpd.read_file(ERLv2_data+file)"
   ]
  },
  {
   "cell_type": "code",
   "execution_count": null,
   "metadata": {},
   "outputs": [],
   "source": [
    "step1 = poly_all\n",
    "step1['dup'] = poly_all['FID'].astype(str) + poly_all['country'] # Make new col with FID-Country\n",
    "step2 = step1.drop_duplicates('dup', keep='first') # drop country-FID dups, keep first though\n",
    "step3 = step2[step2.duplicated(subset=['FID'], keep=False)] # keep all with duplicated FIDS, drop unique due to no country overlap\n",
    "step4 = step3.drop_duplicates('FID', keep='first') # drop country-FID dups remaining duplicates\n",
    "step4"
   ]
  },
  {
   "cell_type": "code",
   "execution_count": null,
   "metadata": {},
   "outputs": [],
   "source": [
    "# Drop Western Sahara / Morocco and South Sudan / Sudan\n",
    "step4 = step4[step4['country'] != 'Sudan']\n",
    "\n",
    "print(len(step4))\n",
    "\n",
    "step4 = step4[step4['country'] != 'Morocco']\n",
    "print(len(step4))\n",
    "\n",
    "# out = out[out.duplicated(subset=['FID'], keep=False)] # Keep all duplicated FIDS but remove any left overs\n"
   ]
  },
  {
   "cell_type": "code",
   "execution_count": null,
   "metadata": {},
   "outputs": [],
   "source": [
    "step4.to_file(ERLv2_data+out_data+'_polypoints_countryoverlap.shp')\n"
   ]
  },
  {
   "cell_type": "markdown",
   "metadata": {},
   "source": [
    "### CRS for Africa Basemap"
   ]
  },
  {
   "cell_type": "code",
   "execution_count": null,
   "metadata": {},
   "outputs": [],
   "source": [
    "africa = gpd.read_file(ERLv2_data+'Africa.shp')\n",
    "africa_fix = gpd.read_file(ERLv2_data+'Africa_coastLineFIxCountryOverlap.shp')"
   ]
  },
  {
   "cell_type": "code",
   "execution_count": null,
   "metadata": {},
   "outputs": [],
   "source": [
    "crs = {'init': 'epsg:4326'}\n",
    "\n",
    "# GHS CRS\n",
    "GHS_crs = {'ellps': 'WGS84',\n",
    " 'lon_0': 0,\n",
    " 'no_defs': True,\n",
    " 'proj': 'moll',\n",
    " 'units': 'm',\n",
    " 'x_0': 0,\n",
    " 'y_0': 0}"
   ]
  },
  {
   "cell_type": "code",
   "execution_count": null,
   "metadata": {},
   "outputs": [],
   "source": [
    "africa.crs"
   ]
  },
  {
   "cell_type": "code",
   "execution_count": null,
   "metadata": {},
   "outputs": [],
   "source": [
    "africa.crs = crs"
   ]
  },
  {
   "cell_type": "code",
   "execution_count": null,
   "metadata": {},
   "outputs": [],
   "source": [
    "africa_fix.crs"
   ]
  },
  {
   "cell_type": "code",
   "execution_count": null,
   "metadata": {},
   "outputs": [],
   "source": [
    "africa_out = africa.to_crs(GHS_crs)\n",
    "africa_fix_out = africa_fix.to_crs(GHS_crs)"
   ]
  },
  {
   "cell_type": "code",
   "execution_count": null,
   "metadata": {},
   "outputs": [],
   "source": [
    "africa_out.to_file(ERLv2_data+'Africa_GHScrs.shp', driver = 'ESRI Shapefile')\n"
   ]
  },
  {
   "cell_type": "code",
   "execution_count": null,
   "metadata": {},
   "outputs": [],
   "source": [
    "africa_fix_out.to_file(ERLv2_data+'Africa_oastLineFIxCountryOverlap_GHScrs.shp', driver = 'ESRI Shapefile')"
   ]
  },
  {
   "cell_type": "markdown",
   "metadata": {},
   "source": [
    "### Merge in Overlap Polys"
   ]
  },
  {
   "cell_type": "code",
   "execution_count": 22,
   "metadata": {},
   "outputs": [],
   "source": [
    "GHS2015 = gpd.read_file(ERLv2_data+'GHS2015_polypoints_ALL.shp')\n",
    "GHS2015_overlap = gpd.read_file(ERLv2_data+'GHS2015_polypoints_countryoverlap_clip.shp')\n",
    "\n",
    "GHS2000 = gpd.read_file(ERLv2_data+'GHS2000_polypoints_ALL.shp')\n",
    "GHS2000_overlap = gpd.read_file(ERLv2_data+'GHS2000_polypoints_countryoverlap_clip.shp')\n",
    "\n",
    "# WP2015 = gpd.read_file(ERLv2_data+'WP2015_polypoints_ALL.shp')\n",
    "# WP2015_overlap = gpd.read_file(ERLv2_data+'WP2015_polypoints_countryoverlap_clip.shp')\n",
    "\n",
    "# LS2015 = gpd.read_file(ERLv2_data+'LS2015_polypoints_ALL.shp')\n",
    "# LS2015_overlap = gpd.read_file(ERLv2_data+'LS2015_polypoints_countryoverlap_clip.shp')\n",
    "\n",
    "# WPE2016 = gpd.read_file(ERLv2_data+'WPE2016_polypoints_ALL.shp')\n",
    "# WPE2016_overlap = gpd.read_file(ERLv2_data+'WPE2016_polypoints_countryoverlap_clip.shp')"
   ]
  },
  {
   "cell_type": "code",
   "execution_count": 29,
   "metadata": {},
   "outputs": [
    {
     "data": {
      "text/html": [
       "<div>\n",
       "<style scoped>\n",
       "    .dataframe tbody tr th:only-of-type {\n",
       "        vertical-align: middle;\n",
       "    }\n",
       "\n",
       "    .dataframe tbody tr th {\n",
       "        vertical-align: top;\n",
       "    }\n",
       "\n",
       "    .dataframe thead th {\n",
       "        text-align: right;\n",
       "    }\n",
       "</style>\n",
       "<table border=\"1\" class=\"dataframe\">\n",
       "  <thead>\n",
       "    <tr style=\"text-align: right;\">\n",
       "      <th></th>\n",
       "      <th>osm_id</th>\n",
       "      <th>FID</th>\n",
       "      <th>country</th>\n",
       "      <th>osm_name</th>\n",
       "      <th>osm_type</th>\n",
       "      <th>lat</th>\n",
       "      <th>lon</th>\n",
       "      <th>geometry</th>\n",
       "    </tr>\n",
       "  </thead>\n",
       "  <tbody>\n",
       "    <tr>\n",
       "      <th>0</th>\n",
       "      <td>252600742</td>\n",
       "      <td>187</td>\n",
       "      <td>Algeria</td>\n",
       "      <td>Boumerdès</td>\n",
       "      <td>town</td>\n",
       "      <td>36.758882</td>\n",
       "      <td>3.470596</td>\n",
       "      <td>POLYGON ((338405.452556 4443029.461868, 340405...</td>\n",
       "    </tr>\n",
       "  </tbody>\n",
       "</table>\n",
       "</div>"
      ],
      "text/plain": [
       "      osm_id  FID  country   osm_name osm_type        lat       lon  \\\n",
       "0  252600742  187  Algeria  Boumerdès     town  36.758882  3.470596   \n",
       "\n",
       "                                            geometry  \n",
       "0  POLYGON ((338405.452556 4443029.461868, 340405...  "
      ]
     },
     "execution_count": 29,
     "metadata": {},
     "output_type": "execute_result"
    }
   ],
   "source": [
    "GHS2015[GHS2015['osm_name'] == 'Boumerdès']"
   ]
  },
  {
   "cell_type": "code",
   "execution_count": 30,
   "metadata": {},
   "outputs": [
    {
     "data": {
      "text/html": [
       "<div>\n",
       "<style scoped>\n",
       "    .dataframe tbody tr th:only-of-type {\n",
       "        vertical-align: middle;\n",
       "    }\n",
       "\n",
       "    .dataframe tbody tr th {\n",
       "        vertical-align: top;\n",
       "    }\n",
       "\n",
       "    .dataframe thead th {\n",
       "        text-align: right;\n",
       "    }\n",
       "</style>\n",
       "<table border=\"1\" class=\"dataframe\">\n",
       "  <thead>\n",
       "    <tr style=\"text-align: right;\">\n",
       "      <th></th>\n",
       "      <th>osm_id</th>\n",
       "      <th>FID</th>\n",
       "      <th>country</th>\n",
       "      <th>osm_name</th>\n",
       "      <th>osm_type</th>\n",
       "      <th>lat</th>\n",
       "      <th>lon</th>\n",
       "      <th>geometry</th>\n",
       "    </tr>\n",
       "  </thead>\n",
       "  <tbody>\n",
       "    <tr>\n",
       "      <th>1</th>\n",
       "      <td>252600742</td>\n",
       "      <td>624</td>\n",
       "      <td>Algeria</td>\n",
       "      <td>Boumerdès</td>\n",
       "      <td>town</td>\n",
       "      <td>36.758882</td>\n",
       "      <td>3.470596</td>\n",
       "      <td>POLYGON ((258405.4525564685 4431029.461868489,...</td>\n",
       "    </tr>\n",
       "  </tbody>\n",
       "</table>\n",
       "</div>"
      ],
      "text/plain": [
       "      osm_id  FID  country   osm_name osm_type        lat       lon  \\\n",
       "1  252600742  624  Algeria  Boumerdès     town  36.758882  3.470596   \n",
       "\n",
       "                                            geometry  \n",
       "1  POLYGON ((258405.4525564685 4431029.461868489,...  "
      ]
     },
     "execution_count": 30,
     "metadata": {},
     "output_type": "execute_result"
    }
   ],
   "source": [
    "GHS2000[GHS2000['osm_name'] == 'Boumerdès']"
   ]
  },
  {
   "cell_type": "code",
   "execution_count": 7,
   "metadata": {},
   "outputs": [],
   "source": [
    "# assign file\n",
    "dataset = 'WPE2016'\n",
    "alldata = WPE2016\n",
    "clipdata = WPE2016_overlap\n"
   ]
  },
  {
   "cell_type": "code",
   "execution_count": 8,
   "metadata": {},
   "outputs": [
    {
     "data": {
      "text/html": [
       "<div>\n",
       "<style scoped>\n",
       "    .dataframe tbody tr th:only-of-type {\n",
       "        vertical-align: middle;\n",
       "    }\n",
       "\n",
       "    .dataframe tbody tr th {\n",
       "        vertical-align: top;\n",
       "    }\n",
       "\n",
       "    .dataframe thead th {\n",
       "        text-align: right;\n",
       "    }\n",
       "</style>\n",
       "<table border=\"1\" class=\"dataframe\">\n",
       "  <thead>\n",
       "    <tr style=\"text-align: right;\">\n",
       "      <th></th>\n",
       "      <th>osm_id</th>\n",
       "      <th>FID</th>\n",
       "      <th>country</th>\n",
       "      <th>osm_name</th>\n",
       "      <th>osm_type</th>\n",
       "      <th>lat</th>\n",
       "      <th>lon</th>\n",
       "      <th>geometry</th>\n",
       "    </tr>\n",
       "  </thead>\n",
       "  <tbody>\n",
       "    <tr>\n",
       "      <th>0</th>\n",
       "      <td>252600742</td>\n",
       "      <td>201</td>\n",
       "      <td>Algeria</td>\n",
       "      <td>Boumerdès</td>\n",
       "      <td>town</td>\n",
       "      <td>36.758882</td>\n",
       "      <td>3.470596</td>\n",
       "      <td>POLYGON ((3.876141 36.924416, 3.921057 36.9244...</td>\n",
       "    </tr>\n",
       "    <tr>\n",
       "      <th>1</th>\n",
       "      <td>253167052</td>\n",
       "      <td>827</td>\n",
       "      <td>Algeria</td>\n",
       "      <td>Thenia</td>\n",
       "      <td>town</td>\n",
       "      <td>36.724986</td>\n",
       "      <td>3.556935</td>\n",
       "      <td>POLYGON ((3.543762 36.744752, 3.570712 36.7447...</td>\n",
       "    </tr>\n",
       "    <tr>\n",
       "      <th>2</th>\n",
       "      <td>253167208</td>\n",
       "      <td>201</td>\n",
       "      <td>Algeria</td>\n",
       "      <td>Zemmouri</td>\n",
       "      <td>town</td>\n",
       "      <td>36.786406</td>\n",
       "      <td>3.601221</td>\n",
       "      <td>POLYGON ((3.876141 36.924416, 3.921057 36.9244...</td>\n",
       "    </tr>\n",
       "    <tr>\n",
       "      <th>3</th>\n",
       "      <td>253291208</td>\n",
       "      <td>1504</td>\n",
       "      <td>Algeria</td>\n",
       "      <td>Lakhdaria</td>\n",
       "      <td>town</td>\n",
       "      <td>36.563944</td>\n",
       "      <td>3.596907</td>\n",
       "      <td>POLYGON ((3.498846 36.601021, 3.516813 36.6010...</td>\n",
       "    </tr>\n",
       "    <tr>\n",
       "      <th>4</th>\n",
       "      <td>253292622</td>\n",
       "      <td>268</td>\n",
       "      <td>Algeria</td>\n",
       "      <td>Draâ Ben Khedda</td>\n",
       "      <td>town</td>\n",
       "      <td>36.733332</td>\n",
       "      <td>3.958769</td>\n",
       "      <td>POLYGON ((3.858174 36.888483, 3.876141 36.8884...</td>\n",
       "    </tr>\n",
       "  </tbody>\n",
       "</table>\n",
       "</div>"
      ],
      "text/plain": [
       "      osm_id   FID  country         osm_name osm_type        lat       lon  \\\n",
       "0  252600742   201  Algeria        Boumerdès     town  36.758882  3.470596   \n",
       "1  253167052   827  Algeria           Thenia     town  36.724986  3.556935   \n",
       "2  253167208   201  Algeria         Zemmouri     town  36.786406  3.601221   \n",
       "3  253291208  1504  Algeria        Lakhdaria     town  36.563944  3.596907   \n",
       "4  253292622   268  Algeria  Draâ Ben Khedda     town  36.733332  3.958769   \n",
       "\n",
       "                                            geometry  \n",
       "0  POLYGON ((3.876141 36.924416, 3.921057 36.9244...  \n",
       "1  POLYGON ((3.543762 36.744752, 3.570712 36.7447...  \n",
       "2  POLYGON ((3.876141 36.924416, 3.921057 36.9244...  \n",
       "3  POLYGON ((3.498846 36.601021, 3.516813 36.6010...  \n",
       "4  POLYGON ((3.858174 36.888483, 3.876141 36.8884...  "
      ]
     },
     "execution_count": 8,
     "metadata": {},
     "output_type": "execute_result"
    }
   ],
   "source": [
    "alldata.head()"
   ]
  },
  {
   "cell_type": "code",
   "execution_count": 9,
   "metadata": {},
   "outputs": [
    {
     "data": {
      "text/html": [
       "<div>\n",
       "<style scoped>\n",
       "    .dataframe tbody tr th:only-of-type {\n",
       "        vertical-align: middle;\n",
       "    }\n",
       "\n",
       "    .dataframe tbody tr th {\n",
       "        vertical-align: top;\n",
       "    }\n",
       "\n",
       "    .dataframe thead th {\n",
       "        text-align: right;\n",
       "    }\n",
       "</style>\n",
       "<table border=\"1\" class=\"dataframe\">\n",
       "  <thead>\n",
       "    <tr style=\"text-align: right;\">\n",
       "      <th></th>\n",
       "      <th>osm_id</th>\n",
       "      <th>FID</th>\n",
       "      <th>country</th>\n",
       "      <th>osm_name</th>\n",
       "      <th>osm_type</th>\n",
       "      <th>lat</th>\n",
       "      <th>lon</th>\n",
       "      <th>dup</th>\n",
       "      <th>ID</th>\n",
       "      <th>CODE</th>\n",
       "      <th>country_2</th>\n",
       "      <th>geometry</th>\n",
       "    </tr>\n",
       "  </thead>\n",
       "  <tbody>\n",
       "    <tr>\n",
       "      <th>0</th>\n",
       "      <td>490570861</td>\n",
       "      <td>6813</td>\n",
       "      <td>Algeria</td>\n",
       "      <td>Marsa Ben M'Hidi</td>\n",
       "      <td>town</td>\n",
       "      <td>35.08180</td>\n",
       "      <td>-2.20440</td>\n",
       "      <td>6813Algeria</td>\n",
       "      <td>1</td>\n",
       "      <td>ALG</td>\n",
       "      <td>Algeria</td>\n",
       "      <td>POLYGON ((-2.201630978031619 35.091844, -2.187...</td>\n",
       "    </tr>\n",
       "    <tr>\n",
       "      <th>1</th>\n",
       "      <td>490570861</td>\n",
       "      <td>6813</td>\n",
       "      <td>Algeria</td>\n",
       "      <td>Marsa Ben M'Hidi</td>\n",
       "      <td>town</td>\n",
       "      <td>35.08180</td>\n",
       "      <td>-2.20440</td>\n",
       "      <td>6813Algeria</td>\n",
       "      <td>546</td>\n",
       "      <td>MOR</td>\n",
       "      <td>Morocco</td>\n",
       "      <td>POLYGON ((-2.322265 35.118793, -2.295754166199...</td>\n",
       "    </tr>\n",
       "    <tr>\n",
       "      <th>2</th>\n",
       "      <td>490570863</td>\n",
       "      <td>7121</td>\n",
       "      <td>Algeria</td>\n",
       "      <td>Boukanoun</td>\n",
       "      <td>town</td>\n",
       "      <td>34.97477</td>\n",
       "      <td>-2.09959</td>\n",
       "      <td>7121Algeria</td>\n",
       "      <td>1</td>\n",
       "      <td>ALG</td>\n",
       "      <td>Algeria</td>\n",
       "      <td>POLYGON ((-2.115651 34.993029, -2.106668 34.99...</td>\n",
       "    </tr>\n",
       "    <tr>\n",
       "      <th>3</th>\n",
       "      <td>490570863</td>\n",
       "      <td>7121</td>\n",
       "      <td>Algeria</td>\n",
       "      <td>Boukanoun</td>\n",
       "      <td>town</td>\n",
       "      <td>34.97477</td>\n",
       "      <td>-2.09959</td>\n",
       "      <td>7121Algeria</td>\n",
       "      <td>546</td>\n",
       "      <td>MOR</td>\n",
       "      <td>Morocco</td>\n",
       "      <td>(POLYGON ((-2.088702 34.9654635999966, -2.0887...</td>\n",
       "    </tr>\n",
       "    <tr>\n",
       "      <th>4</th>\n",
       "      <td>298699084</td>\n",
       "      <td>7278</td>\n",
       "      <td>Burundi</td>\n",
       "      <td>Bugarama</td>\n",
       "      <td>town</td>\n",
       "      <td>-3.29088</td>\n",
       "      <td>29.54630</td>\n",
       "      <td>7278Burundi</td>\n",
       "      <td>702</td>\n",
       "      <td>TAN</td>\n",
       "      <td>Tanzania</td>\n",
       "      <td>(POLYGON ((30.529283 -2.451390557857081, 30.52...</td>\n",
       "    </tr>\n",
       "  </tbody>\n",
       "</table>\n",
       "</div>"
      ],
      "text/plain": [
       "      osm_id   FID  country          osm_name osm_type       lat       lon  \\\n",
       "0  490570861  6813  Algeria  Marsa Ben M'Hidi     town  35.08180  -2.20440   \n",
       "1  490570861  6813  Algeria  Marsa Ben M'Hidi     town  35.08180  -2.20440   \n",
       "2  490570863  7121  Algeria         Boukanoun     town  34.97477  -2.09959   \n",
       "3  490570863  7121  Algeria         Boukanoun     town  34.97477  -2.09959   \n",
       "4  298699084  7278  Burundi          Bugarama     town  -3.29088  29.54630   \n",
       "\n",
       "           dup   ID CODE country_2  \\\n",
       "0  6813Algeria    1  ALG   Algeria   \n",
       "1  6813Algeria  546  MOR   Morocco   \n",
       "2  7121Algeria    1  ALG   Algeria   \n",
       "3  7121Algeria  546  MOR   Morocco   \n",
       "4  7278Burundi  702  TAN  Tanzania   \n",
       "\n",
       "                                            geometry  \n",
       "0  POLYGON ((-2.201630978031619 35.091844, -2.187...  \n",
       "1  POLYGON ((-2.322265 35.118793, -2.295754166199...  \n",
       "2  POLYGON ((-2.115651 34.993029, -2.106668 34.99...  \n",
       "3  (POLYGON ((-2.088702 34.9654635999966, -2.0887...  \n",
       "4  (POLYGON ((30.529283 -2.451390557857081, 30.52...  "
      ]
     },
     "execution_count": 9,
     "metadata": {},
     "output_type": "execute_result"
    }
   ],
   "source": [
    "clipdata.head()"
   ]
  },
  {
   "cell_type": "code",
   "execution_count": 10,
   "metadata": {},
   "outputs": [
    {
     "data": {
      "text/html": [
       "<div>\n",
       "<style scoped>\n",
       "    .dataframe tbody tr th:only-of-type {\n",
       "        vertical-align: middle;\n",
       "    }\n",
       "\n",
       "    .dataframe tbody tr th {\n",
       "        vertical-align: top;\n",
       "    }\n",
       "\n",
       "    .dataframe thead th {\n",
       "        text-align: right;\n",
       "    }\n",
       "</style>\n",
       "<table border=\"1\" class=\"dataframe\">\n",
       "  <thead>\n",
       "    <tr style=\"text-align: right;\">\n",
       "      <th></th>\n",
       "      <th>osm_id</th>\n",
       "      <th>FID</th>\n",
       "      <th>country</th>\n",
       "      <th>osm_name</th>\n",
       "      <th>osm_type</th>\n",
       "      <th>lat</th>\n",
       "      <th>lon</th>\n",
       "      <th>dup</th>\n",
       "      <th>ID</th>\n",
       "      <th>CODE</th>\n",
       "      <th>country_2</th>\n",
       "      <th>geometry</th>\n",
       "    </tr>\n",
       "  </thead>\n",
       "  <tbody>\n",
       "    <tr>\n",
       "      <th>0</th>\n",
       "      <td>490570861</td>\n",
       "      <td>6813</td>\n",
       "      <td>Algeria</td>\n",
       "      <td>Marsa Ben M'Hidi</td>\n",
       "      <td>town</td>\n",
       "      <td>35.08180</td>\n",
       "      <td>-2.20440</td>\n",
       "      <td>6813Algeria</td>\n",
       "      <td>1</td>\n",
       "      <td>ALG</td>\n",
       "      <td>Algeria</td>\n",
       "      <td>POLYGON ((-2.201630978031619 35.091844, -2.187...</td>\n",
       "    </tr>\n",
       "    <tr>\n",
       "      <th>1</th>\n",
       "      <td>490570861</td>\n",
       "      <td>6813</td>\n",
       "      <td>Morocco</td>\n",
       "      <td>Marsa Ben M'Hidi</td>\n",
       "      <td>town</td>\n",
       "      <td>35.08180</td>\n",
       "      <td>-2.20440</td>\n",
       "      <td>6813Algeria</td>\n",
       "      <td>546</td>\n",
       "      <td>MOR</td>\n",
       "      <td>Morocco</td>\n",
       "      <td>POLYGON ((-2.322265 35.118793, -2.295754166199...</td>\n",
       "    </tr>\n",
       "    <tr>\n",
       "      <th>2</th>\n",
       "      <td>490570863</td>\n",
       "      <td>7121</td>\n",
       "      <td>Algeria</td>\n",
       "      <td>Boukanoun</td>\n",
       "      <td>town</td>\n",
       "      <td>34.97477</td>\n",
       "      <td>-2.09959</td>\n",
       "      <td>7121Algeria</td>\n",
       "      <td>1</td>\n",
       "      <td>ALG</td>\n",
       "      <td>Algeria</td>\n",
       "      <td>POLYGON ((-2.115651 34.993029, -2.106668 34.99...</td>\n",
       "    </tr>\n",
       "    <tr>\n",
       "      <th>3</th>\n",
       "      <td>490570863</td>\n",
       "      <td>7121</td>\n",
       "      <td>Morocco</td>\n",
       "      <td>Boukanoun</td>\n",
       "      <td>town</td>\n",
       "      <td>34.97477</td>\n",
       "      <td>-2.09959</td>\n",
       "      <td>7121Algeria</td>\n",
       "      <td>546</td>\n",
       "      <td>MOR</td>\n",
       "      <td>Morocco</td>\n",
       "      <td>(POLYGON ((-2.088702 34.9654635999966, -2.0887...</td>\n",
       "    </tr>\n",
       "    <tr>\n",
       "      <th>4</th>\n",
       "      <td>298699084</td>\n",
       "      <td>7278</td>\n",
       "      <td>Tanzania</td>\n",
       "      <td>Bugarama</td>\n",
       "      <td>town</td>\n",
       "      <td>-3.29088</td>\n",
       "      <td>29.54630</td>\n",
       "      <td>7278Burundi</td>\n",
       "      <td>702</td>\n",
       "      <td>TAN</td>\n",
       "      <td>Tanzania</td>\n",
       "      <td>(POLYGON ((30.529283 -2.451390557857081, 30.52...</td>\n",
       "    </tr>\n",
       "  </tbody>\n",
       "</table>\n",
       "</div>"
      ],
      "text/plain": [
       "      osm_id   FID   country          osm_name osm_type       lat       lon  \\\n",
       "0  490570861  6813   Algeria  Marsa Ben M'Hidi     town  35.08180  -2.20440   \n",
       "1  490570861  6813   Morocco  Marsa Ben M'Hidi     town  35.08180  -2.20440   \n",
       "2  490570863  7121   Algeria         Boukanoun     town  34.97477  -2.09959   \n",
       "3  490570863  7121   Morocco         Boukanoun     town  34.97477  -2.09959   \n",
       "4  298699084  7278  Tanzania          Bugarama     town  -3.29088  29.54630   \n",
       "\n",
       "           dup   ID CODE country_2  \\\n",
       "0  6813Algeria    1  ALG   Algeria   \n",
       "1  6813Algeria  546  MOR   Morocco   \n",
       "2  7121Algeria    1  ALG   Algeria   \n",
       "3  7121Algeria  546  MOR   Morocco   \n",
       "4  7278Burundi  702  TAN  Tanzania   \n",
       "\n",
       "                                            geometry  \n",
       "0  POLYGON ((-2.201630978031619 35.091844, -2.187...  \n",
       "1  POLYGON ((-2.322265 35.118793, -2.295754166199...  \n",
       "2  POLYGON ((-2.115651 34.993029, -2.106668 34.99...  \n",
       "3  (POLYGON ((-2.088702 34.9654635999966, -2.0887...  \n",
       "4  (POLYGON ((30.529283 -2.451390557857081, 30.52...  "
      ]
     },
     "execution_count": 10,
     "metadata": {},
     "output_type": "execute_result"
    }
   ],
   "source": [
    "# reassign countries\n",
    "\n",
    "clipdata['country'] = clipdata['country_2']\n",
    "clipdata.head()\n"
   ]
  },
  {
   "cell_type": "code",
   "execution_count": 11,
   "metadata": {},
   "outputs": [],
   "source": [
    "# remove columns from clip polys that are un needed\n",
    "clipdata = clipdata.iloc[:, [0,1,2,3,4,5,6,-1]]"
   ]
  },
  {
   "cell_type": "code",
   "execution_count": 12,
   "metadata": {},
   "outputs": [
    {
     "data": {
      "text/html": [
       "<div>\n",
       "<style scoped>\n",
       "    .dataframe tbody tr th:only-of-type {\n",
       "        vertical-align: middle;\n",
       "    }\n",
       "\n",
       "    .dataframe tbody tr th {\n",
       "        vertical-align: top;\n",
       "    }\n",
       "\n",
       "    .dataframe thead th {\n",
       "        text-align: right;\n",
       "    }\n",
       "</style>\n",
       "<table border=\"1\" class=\"dataframe\">\n",
       "  <thead>\n",
       "    <tr style=\"text-align: right;\">\n",
       "      <th></th>\n",
       "      <th>osm_id</th>\n",
       "      <th>FID</th>\n",
       "      <th>country</th>\n",
       "      <th>osm_name</th>\n",
       "      <th>osm_type</th>\n",
       "      <th>lat</th>\n",
       "      <th>lon</th>\n",
       "      <th>geometry</th>\n",
       "    </tr>\n",
       "  </thead>\n",
       "  <tbody>\n",
       "    <tr>\n",
       "      <th>0</th>\n",
       "      <td>490570861</td>\n",
       "      <td>6813</td>\n",
       "      <td>Algeria</td>\n",
       "      <td>Marsa Ben M'Hidi</td>\n",
       "      <td>town</td>\n",
       "      <td>35.08180</td>\n",
       "      <td>-2.20440</td>\n",
       "      <td>POLYGON ((-2.201630978031619 35.091844, -2.187...</td>\n",
       "    </tr>\n",
       "    <tr>\n",
       "      <th>1</th>\n",
       "      <td>490570861</td>\n",
       "      <td>6813</td>\n",
       "      <td>Morocco</td>\n",
       "      <td>Marsa Ben M'Hidi</td>\n",
       "      <td>town</td>\n",
       "      <td>35.08180</td>\n",
       "      <td>-2.20440</td>\n",
       "      <td>POLYGON ((-2.322265 35.118793, -2.295754166199...</td>\n",
       "    </tr>\n",
       "    <tr>\n",
       "      <th>2</th>\n",
       "      <td>490570863</td>\n",
       "      <td>7121</td>\n",
       "      <td>Algeria</td>\n",
       "      <td>Boukanoun</td>\n",
       "      <td>town</td>\n",
       "      <td>34.97477</td>\n",
       "      <td>-2.09959</td>\n",
       "      <td>POLYGON ((-2.115651 34.993029, -2.106668 34.99...</td>\n",
       "    </tr>\n",
       "    <tr>\n",
       "      <th>3</th>\n",
       "      <td>490570863</td>\n",
       "      <td>7121</td>\n",
       "      <td>Morocco</td>\n",
       "      <td>Boukanoun</td>\n",
       "      <td>town</td>\n",
       "      <td>34.97477</td>\n",
       "      <td>-2.09959</td>\n",
       "      <td>(POLYGON ((-2.088702 34.9654635999966, -2.0887...</td>\n",
       "    </tr>\n",
       "    <tr>\n",
       "      <th>4</th>\n",
       "      <td>298699084</td>\n",
       "      <td>7278</td>\n",
       "      <td>Tanzania</td>\n",
       "      <td>Bugarama</td>\n",
       "      <td>town</td>\n",
       "      <td>-3.29088</td>\n",
       "      <td>29.54630</td>\n",
       "      <td>(POLYGON ((30.529283 -2.451390557857081, 30.52...</td>\n",
       "    </tr>\n",
       "  </tbody>\n",
       "</table>\n",
       "</div>"
      ],
      "text/plain": [
       "      osm_id   FID   country          osm_name osm_type       lat       lon  \\\n",
       "0  490570861  6813   Algeria  Marsa Ben M'Hidi     town  35.08180  -2.20440   \n",
       "1  490570861  6813   Morocco  Marsa Ben M'Hidi     town  35.08180  -2.20440   \n",
       "2  490570863  7121   Algeria         Boukanoun     town  34.97477  -2.09959   \n",
       "3  490570863  7121   Morocco         Boukanoun     town  34.97477  -2.09959   \n",
       "4  298699084  7278  Tanzania          Bugarama     town  -3.29088  29.54630   \n",
       "\n",
       "                                            geometry  \n",
       "0  POLYGON ((-2.201630978031619 35.091844, -2.187...  \n",
       "1  POLYGON ((-2.322265 35.118793, -2.295754166199...  \n",
       "2  POLYGON ((-2.115651 34.993029, -2.106668 34.99...  \n",
       "3  (POLYGON ((-2.088702 34.9654635999966, -2.0887...  \n",
       "4  (POLYGON ((30.529283 -2.451390557857081, 30.52...  "
      ]
     },
     "execution_count": 12,
     "metadata": {},
     "output_type": "execute_result"
    }
   ],
   "source": [
    "clipdata.head()"
   ]
  },
  {
   "cell_type": "code",
   "execution_count": 13,
   "metadata": {},
   "outputs": [
    {
     "name": "stderr",
     "output_type": "stream",
     "text": [
      "/anaconda3/lib/python3.7/site-packages/ipykernel_launcher.py:4: SettingWithCopyWarning: \n",
      "A value is trying to be set on a copy of a slice from a DataFrame.\n",
      "Try using .loc[row_indexer,col_indexer] = value instead\n",
      "\n",
      "See the caveats in the documentation: http://pandas.pydata.org/pandas-docs/stable/indexing.html#indexing-view-versus-copy\n",
      "  after removing the cwd from sys.path.\n"
     ]
    }
   ],
   "source": [
    "# Add col to show clip poly or not\n",
    "\n",
    "alldata['clippoly'] = 'no'\n",
    "clipdata['clippoly'] = 'yes'\n"
   ]
  },
  {
   "cell_type": "code",
   "execution_count": 14,
   "metadata": {},
   "outputs": [
    {
     "name": "stdout",
     "output_type": "stream",
     "text": [
      "6029\n",
      "4591\n"
     ]
    }
   ],
   "source": [
    "# drop all duplicate FIDS, keep the first one\n",
    "print(len(alldata))\n",
    "alldata_drop = alldata.drop_duplicates('FID', keep = 'first')\n",
    "print(len(alldata_drop))"
   ]
  },
  {
   "cell_type": "code",
   "execution_count": 15,
   "metadata": {},
   "outputs": [],
   "source": [
    "# pull list of FIDs from overlap polys\n",
    "clip_fid = clipdata['FID'].values"
   ]
  },
  {
   "cell_type": "code",
   "execution_count": 16,
   "metadata": {},
   "outputs": [
    {
     "name": "stdout",
     "output_type": "stream",
     "text": [
      "4591\n",
      "4559\n"
     ]
    }
   ],
   "source": [
    "# remove FIDS from all list that are in clip poly\n",
    "print(len(alldata_drop))\n",
    "alldata_drop = alldata_drop[~alldata_drop['FID'].isin(clip_fid)]\n",
    "print(len(alldata_drop))"
   ]
  },
  {
   "cell_type": "code",
   "execution_count": 17,
   "metadata": {},
   "outputs": [
    {
     "name": "stdout",
     "output_type": "stream",
     "text": [
      "70\n",
      "4629\n"
     ]
    }
   ],
   "source": [
    "# merge the data frames\n",
    "print(len(clipdata))\n",
    "poly_final = pd.concat([alldata_drop,clipdata])\n",
    "print(len(poly_final))"
   ]
  },
  {
   "cell_type": "code",
   "execution_count": 18,
   "metadata": {},
   "outputs": [],
   "source": [
    "poly_final.to_file(ERLv2_data+dataset+'_polyFINAL.shp', driver = 'ESRI Shapefile')"
   ]
  },
  {
   "cell_type": "markdown",
   "metadata": {},
   "source": [
    "#### Old Code"
   ]
  },
  {
   "cell_type": "code",
   "execution_count": null,
   "metadata": {},
   "outputs": [],
   "source": [
    "# FIDS with GHS2015_ALL to check\n",
    "\n",
    "testA = poly[poly['FID'] == 27492] # double boarder\n",
    "testB = poly[poly['FID'] == 31036] #lagos\n",
    "testC = poly[poly['FID'] == 187] # random city only in Algeria \n",
    "testD = poly[poly['FID'] == 28] # large city in S africa\n",
    "testE = poly[poly['FID'] == 18] # single city\n",
    "\n",
    "test = pd.concat([testA, testB, testC, testD, testE])\n",
    "test"
   ]
  },
  {
   "cell_type": "code",
   "execution_count": null,
   "metadata": {
    "scrolled": true
   },
   "outputs": [],
   "source": [
    "# ## Code to find polygons that overlap boarders\n",
    "\n",
    "# test = poly[poly.duplicated(subset=['FID'], keep=False)] # Keep all dup FIDS\n",
    "# test['dup'] = test['FID'].astype(str) + test['country'] # Make new col with FID-Country\n",
    "# test.head()\n",
    "\n",
    "# out = test.drop_duplicates('dup', keep=False) # Drop all doubles FID-Country\n",
    "# print(len(out))\n",
    "\n",
    "# # out = out.drop_duplicates('FID', keep='first') # Drop all left double FIDs\n",
    "# # print(len(out))"
   ]
  },
  {
   "cell_type": "code",
   "execution_count": null,
   "metadata": {},
   "outputs": [],
   "source": [
    "# Fake Data\n",
    "\n",
    "fid = [1,2,3,2,2,3]\n",
    "country = ['A','B','C','A','B','A']\n",
    "pop = [10,11,12,11,11,12]\n",
    "\n",
    "df = pd.DataFrame()\n",
    "df['FID'] = fid\n",
    "df['country'] = country\n",
    "df['pop'] = pop\n",
    "\n",
    "df\n"
   ]
  },
  {
   "cell_type": "code",
   "execution_count": null,
   "metadata": {},
   "outputs": [],
   "source": [
    "step1A = poly[poly['FID'] == 31036] #lagos\n",
    "step1B = poly[poly['FID'] == 187] # random city only in Algeria \n",
    "\n",
    "step1 = pd.concat([step1A, step1B])"
   ]
  },
  {
   "cell_type": "code",
   "execution_count": null,
   "metadata": {},
   "outputs": [],
   "source": [
    "# Make new col with FID-Country\n",
    "\n",
    "step1['dup'] = step1['FID'].astype(str) + step1['country'] # Make new col with FID-Country\n",
    "step1"
   ]
  },
  {
   "cell_type": "code",
   "execution_count": null,
   "metadata": {},
   "outputs": [],
   "source": [
    "# drop duplicated country-FID, but keep first\n",
    "\n",
    "step2 = step1.drop_duplicates('dup', keep='first')\n",
    "step2"
   ]
  },
  {
   "cell_type": "code",
   "execution_count": null,
   "metadata": {},
   "outputs": [],
   "source": [
    "# keep all duplicated FIDS, remove singles\n",
    "\n",
    "step3 = step2[step2.duplicated(subset=['FID'], keep=False)] \n",
    "step3"
   ]
  },
  {
   "cell_type": "code",
   "execution_count": null,
   "metadata": {},
   "outputs": [],
   "source": [
    "# Drop remaining duplicated FIDS \n",
    "\n",
    "step4 = step3.drop_duplicates('FID', keep='first')\n",
    "step4"
   ]
  }
 ],
 "metadata": {
  "kernelspec": {
   "display_name": "Python 3",
   "language": "python",
   "name": "python3"
  },
  "language_info": {
   "codemirror_mode": {
    "name": "ipython",
    "version": 3
   },
   "file_extension": ".py",
   "mimetype": "text/x-python",
   "name": "python",
   "nbconvert_exporter": "python",
   "pygments_lexer": "ipython3",
   "version": "3.7.0"
  }
 },
 "nbformat": 4,
 "nbformat_minor": 2
}
