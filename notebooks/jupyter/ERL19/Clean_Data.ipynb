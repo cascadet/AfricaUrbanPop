{
 "cells": [
  {
   "cell_type": "markdown",
   "metadata": {},
   "source": [
    "# Notebook to Clean Data\n",
    "\n",
    "2019 - 01 - 21\n",
    "Notebook to clean final osm cities and towns\n",
    "1. merge files\n",
    "2. drop duplicates \n"
   ]
  },
  {
   "cell_type": "code",
   "execution_count": 3,
   "metadata": {},
   "outputs": [],
   "source": [
    "import geopandas as gpd\n",
    "import pandas as pd\n",
    "import json\n",
    "from shapely.geometry import Point"
   ]
  },
  {
   "cell_type": "code",
   "execution_count": 7,
   "metadata": {},
   "outputs": [
    {
     "data": {
      "text/plain": [
       "'/Users/cascade/Github/Pop-ERL/notebooks/jupyter/ERL19'"
      ]
     },
     "execution_count": 7,
     "metadata": {},
     "output_type": "execute_result"
    }
   ],
   "source": [
    "import os\n",
    "os.getcwd()"
   ]
  },
  {
   "cell_type": "markdown",
   "metadata": {},
   "source": [
    "### Merge OSM Files"
   ]
  },
  {
   "cell_type": "code",
   "execution_count": 10,
   "metadata": {},
   "outputs": [],
   "source": [
    "def load_points (file):\n",
    "    \"\"\" This function loads a csv \n",
    "    of points and turns it into shapely points\"\"\"\n",
    "    df = pd.read_csv(file)\n",
    "\n",
    "    # creating a geometry column \n",
    "    geometry = [Point(xy) for xy in zip(df['lon'], df['lat'])]\n",
    "\n",
    "    # Coordinate reference system : WGS84\n",
    "    crs = {'init': 'epsg:4326'}\n",
    "\n",
    "    # Creating a Geographic data frame \n",
    "    point_gdf = gpd.GeoDataFrame(df, crs=crs, geometry=geometry)\n",
    "    \n",
    "    return point_gdf"
   ]
  },
  {
   "cell_type": "code",
   "execution_count": 8,
   "metadata": {},
   "outputs": [],
   "source": [
    "v2_data = '../../../temp_data/ERL19v2/'"
   ]
  },
  {
   "cell_type": "code",
   "execution_count": 33,
   "metadata": {},
   "outputs": [],
   "source": [
    "# Load Files\n",
    "town = load_points(v2_data+'20190114_osm_africa_towns.csv')\n",
    "city = load_points(v2_data+'20190114_osm_africa_cities.csv')\n",
    "townSS = load_points(v2_data+'20190221_osm_S_Sudan_towns.csv')\n",
    "citySS = load_points(v2_data+'20190221_osm_S_Sudan_cities.csv')\n",
    "townDRC = load_points(v2_data+'20190430_osm_DRC_towns.csv')\n",
    "cityDRC = load_points(v2_data+'20190430_osm_DRC_cities.csv')"
   ]
  },
  {
   "cell_type": "code",
   "execution_count": 34,
   "metadata": {},
   "outputs": [],
   "source": [
    "# add column with osm type\n",
    "\n",
    "town['osm_type'] = 'town'\n",
    "townDRC['osm_type'] = 'town'\n",
    "townSS['osm_type'] = 'town'\n",
    "\n",
    "city['osm_type'] = 'city'\n",
    "cityDRC['osm_type'] = 'city'\n",
    "citySS['osm_type'] = 'city'"
   ]
  },
  {
   "cell_type": "code",
   "execution_count": 39,
   "metadata": {},
   "outputs": [],
   "source": [
    "out = pd.concat([town, townDRC, townSS, city, cityDRC, citySS], ignore_index= \"true\", sort = False)"
   ]
  },
  {
   "cell_type": "code",
   "execution_count": 40,
   "metadata": {},
   "outputs": [
    {
     "data": {
      "text/plain": [
       "(9813, 8)"
      ]
     },
     "execution_count": 40,
     "metadata": {},
     "output_type": "execute_result"
    }
   ],
   "source": [
    "out.shape"
   ]
  },
  {
   "cell_type": "code",
   "execution_count": 41,
   "metadata": {},
   "outputs": [],
   "source": [
    "out.to_file(v2_data+'20190330_osm_All.shp', driver='ESRI Shapefile')"
   ]
  }
 ],
 "metadata": {
  "kernelspec": {
   "display_name": "Python 3",
   "language": "python",
   "name": "python3"
  },
  "language_info": {
   "codemirror_mode": {
    "name": "ipython",
    "version": 3
   },
   "file_extension": ".py",
   "mimetype": "text/x-python",
   "name": "python",
   "nbconvert_exporter": "python",
   "pygments_lexer": "ipython3",
   "version": "3.7.0"
  }
 },
 "nbformat": 4,
 "nbformat_minor": 2
}
