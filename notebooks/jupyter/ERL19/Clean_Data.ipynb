{
 "cells": [
  {
   "cell_type": "markdown",
   "metadata": {},
   "source": [
    "# Notebook to Clean Data\n",
    "\n",
    "2019 - 01 - 21\n",
    "Notebook to clean final osm cities and towns\n",
    "1. merge files\n",
    "2. drop duplicates \n"
   ]
  },
  {
   "cell_type": "code",
   "execution_count": 1,
   "metadata": {},
   "outputs": [],
   "source": [
    "import geopandas as gpd\n",
    "import pandas as pd\n",
    "import json\n",
    "from shapely.geometry import Point"
   ]
  },
  {
   "cell_type": "code",
   "execution_count": 13,
   "metadata": {},
   "outputs": [],
   "source": [
    "temp_data = '../../temp_data/'\n",
    "erl_data = 'temp_data/ERL_data/'\n",
    "\n",
    "poly_file = 'GHS_POP_GPW42000_GLOBE_R2015A_54009_1k_v1_0_Clip_1500c300.shp'\n",
    "city_file = 'GHS_POP_GPW42000_GLOBE_R2015A_54009_1k_v1_0_Clip_1500c300_polyoverlap.shp'\n",
    "town_fileA = 'GHS_POP_GPW42000_GLOBE_R2015A_54009_1k_v1_0_Clip_1500c300_subA.shp'\n",
    "town_fileB1 = 'GHS_POP_GPW42000_GLOBE_R2015A_54009_1k_v1_0_Clip_1500c300_subB1.shp'\n",
    "town_fileB2 = 'GHS_POP_GPW42000_GLOBE_R2015A_54009_1k_v1_0_Clip_1500c300_subB2.shp'"
   ]
  },
  {
   "cell_type": "code",
   "execution_count": 14,
   "metadata": {},
   "outputs": [],
   "source": [
    "# Load Files\n",
    "poly = gpd.read_file(temp_data+poly_file)\n",
    "city = gpd.read_file(temp_data+city_file)\n",
    "townA = gpd.read_file(temp_data+town_fileA)\n",
    "townB1 = gpd.read_file(temp_data+town_fileB1)\n",
    "townB2 = gpd.read_file(temp_data+town_fileB2)\n",
    "\n",
    "\n",
    "\n"
   ]
  },
  {
   "cell_type": "code",
   "execution_count": 16,
   "metadata": {},
   "outputs": [
    {
     "name": "stdout",
     "output_type": "stream",
     "text": [
      "45281\n",
      "762\n",
      "3220\n",
      "764\n",
      "1108\n",
      "5092\n"
     ]
    }
   ],
   "source": [
    "print(len(poly))\n",
    "print(len(city))\n",
    "print(len(townA))\n",
    "print(len(townB1))\n",
    "print(len(townB2))\n",
    "print(len(townA)+len(townB1)+len(townB2))"
   ]
  },
  {
   "cell_type": "code",
   "execution_count": 17,
   "metadata": {},
   "outputs": [
    {
     "name": "stdout",
     "output_type": "stream",
     "text": [
      "(762, 8)\n"
     ]
    },
    {
     "data": {
      "text/html": [
       "<div>\n",
       "<style scoped>\n",
       "    .dataframe tbody tr th:only-of-type {\n",
       "        vertical-align: middle;\n",
       "    }\n",
       "\n",
       "    .dataframe tbody tr th {\n",
       "        vertical-align: top;\n",
       "    }\n",
       "\n",
       "    .dataframe thead th {\n",
       "        text-align: right;\n",
       "    }\n",
       "</style>\n",
       "<table border=\"1\" class=\"dataframe\">\n",
       "  <thead>\n",
       "    <tr style=\"text-align: right;\">\n",
       "      <th></th>\n",
       "      <th>osm_id</th>\n",
       "      <th>FID</th>\n",
       "      <th>country</th>\n",
       "      <th>city</th>\n",
       "      <th>osm_type</th>\n",
       "      <th>lat</th>\n",
       "      <th>lon</th>\n",
       "      <th>geometry</th>\n",
       "    </tr>\n",
       "  </thead>\n",
       "  <tbody>\n",
       "    <tr>\n",
       "      <th>0</th>\n",
       "      <td>27564946</td>\n",
       "      <td>836</td>\n",
       "      <td>Algeria</td>\n",
       "      <td>Constantine</td>\n",
       "      <td>city</td>\n",
       "      <td>36.364519</td>\n",
       "      <td>6.608260</td>\n",
       "      <td>POLYGON ((6.617867820344872 36.46023541470293,...</td>\n",
       "    </tr>\n",
       "    <tr>\n",
       "      <th>1</th>\n",
       "      <td>27565103</td>\n",
       "      <td>1478</td>\n",
       "      <td>Algeria</td>\n",
       "      <td>Oran</td>\n",
       "      <td>city</td>\n",
       "      <td>35.703275</td>\n",
       "      <td>-0.649298</td>\n",
       "      <td>POLYGON ((-0.5520292176738086 35.7761652430474...</td>\n",
       "    </tr>\n",
       "    <tr>\n",
       "      <th>2</th>\n",
       "      <td>253292160</td>\n",
       "      <td>257</td>\n",
       "      <td>Algeria</td>\n",
       "      <td>Tizi Ouzou</td>\n",
       "      <td>city</td>\n",
       "      <td>36.713784</td>\n",
       "      <td>4.049392</td>\n",
       "      <td>POLYGON ((3.842424792309737 36.82951907750196,...</td>\n",
       "    </tr>\n",
       "    <tr>\n",
       "      <th>3</th>\n",
       "      <td>262963217</td>\n",
       "      <td>3134</td>\n",
       "      <td>Algeria</td>\n",
       "      <td>El Oued</td>\n",
       "      <td>city</td>\n",
       "      <td>33.361177</td>\n",
       "      <td>6.860349</td>\n",
       "      <td>POLYGON ((6.823551157031729 33.41618733754167,...</td>\n",
       "    </tr>\n",
       "    <tr>\n",
       "      <th>4</th>\n",
       "      <td>262964638</td>\n",
       "      <td>3206</td>\n",
       "      <td>Algeria</td>\n",
       "      <td>Touggourt</td>\n",
       "      <td>city</td>\n",
       "      <td>33.109897</td>\n",
       "      <td>6.066102</td>\n",
       "      <td>POLYGON ((6.064548898662129 33.15645433151028,...</td>\n",
       "    </tr>\n",
       "  </tbody>\n",
       "</table>\n",
       "</div>"
      ],
      "text/plain": [
       "      osm_id   FID  country         city osm_type        lat       lon  \\\n",
       "0   27564946   836  Algeria  Constantine     city  36.364519  6.608260   \n",
       "1   27565103  1478  Algeria         Oran     city  35.703275 -0.649298   \n",
       "2  253292160   257  Algeria   Tizi Ouzou     city  36.713784  4.049392   \n",
       "3  262963217  3134  Algeria      El Oued     city  33.361177  6.860349   \n",
       "4  262964638  3206  Algeria    Touggourt     city  33.109897  6.066102   \n",
       "\n",
       "                                            geometry  \n",
       "0  POLYGON ((6.617867820344872 36.46023541470293,...  \n",
       "1  POLYGON ((-0.5520292176738086 35.7761652430474...  \n",
       "2  POLYGON ((3.842424792309737 36.82951907750196,...  \n",
       "3  POLYGON ((6.823551157031729 33.41618733754167,...  \n",
       "4  POLYGON ((6.064548898662129 33.15645433151028,...  "
      ]
     },
     "execution_count": 17,
     "metadata": {},
     "output_type": "execute_result"
    }
   ],
   "source": [
    "print(city.shape)\n",
    "city.head()"
   ]
  },
  {
   "cell_type": "code",
   "execution_count": 6,
   "metadata": {},
   "outputs": [
    {
     "name": "stdout",
     "output_type": "stream",
     "text": [
      "(3058, 8)\n"
     ]
    },
    {
     "data": {
      "text/html": [
       "<div>\n",
       "<style scoped>\n",
       "    .dataframe tbody tr th:only-of-type {\n",
       "        vertical-align: middle;\n",
       "    }\n",
       "\n",
       "    .dataframe tbody tr th {\n",
       "        vertical-align: top;\n",
       "    }\n",
       "\n",
       "    .dataframe thead th {\n",
       "        text-align: right;\n",
       "    }\n",
       "</style>\n",
       "<table border=\"1\" class=\"dataframe\">\n",
       "  <thead>\n",
       "    <tr style=\"text-align: right;\">\n",
       "      <th></th>\n",
       "      <th>osm_id</th>\n",
       "      <th>FID</th>\n",
       "      <th>country</th>\n",
       "      <th>city</th>\n",
       "      <th>osm_type</th>\n",
       "      <th>lat</th>\n",
       "      <th>lon</th>\n",
       "      <th>geometry</th>\n",
       "    </tr>\n",
       "  </thead>\n",
       "  <tbody>\n",
       "    <tr>\n",
       "      <th>0</th>\n",
       "      <td>89369215</td>\n",
       "      <td>16863</td>\n",
       "      <td>Algeria</td>\n",
       "      <td>Tamanrasset</td>\n",
       "      <td>town</td>\n",
       "      <td>22.785454</td>\n",
       "      <td>5.532446</td>\n",
       "      <td>POLYGON ((5.523842554283844 22.82143812548671,...</td>\n",
       "    </tr>\n",
       "    <tr>\n",
       "      <th>1</th>\n",
       "      <td>252600742</td>\n",
       "      <td>187</td>\n",
       "      <td>Algeria</td>\n",
       "      <td>Boumerdès</td>\n",
       "      <td>town</td>\n",
       "      <td>36.758882</td>\n",
       "      <td>3.470596</td>\n",
       "      <td>POLYGON ((3.879862753261432 36.92634664178389,...</td>\n",
       "    </tr>\n",
       "    <tr>\n",
       "      <th>2</th>\n",
       "      <td>253167052</td>\n",
       "      <td>187</td>\n",
       "      <td>Algeria</td>\n",
       "      <td>Thenia</td>\n",
       "      <td>town</td>\n",
       "      <td>36.724986</td>\n",
       "      <td>3.556935</td>\n",
       "      <td>POLYGON ((3.879862753261432 36.92634664178389,...</td>\n",
       "    </tr>\n",
       "    <tr>\n",
       "      <th>3</th>\n",
       "      <td>253167208</td>\n",
       "      <td>187</td>\n",
       "      <td>Algeria</td>\n",
       "      <td>Zemmouri</td>\n",
       "      <td>town</td>\n",
       "      <td>36.786406</td>\n",
       "      <td>3.601221</td>\n",
       "      <td>POLYGON ((3.879862753261432 36.92634664178389,...</td>\n",
       "    </tr>\n",
       "    <tr>\n",
       "      <th>4</th>\n",
       "      <td>253291208</td>\n",
       "      <td>1530</td>\n",
       "      <td>Algeria</td>\n",
       "      <td>Lakhdaria</td>\n",
       "      <td>town</td>\n",
       "      <td>36.563944</td>\n",
       "      <td>3.596907</td>\n",
       "      <td>POLYGON ((3.52630149841732 36.592046118739, 3....</td>\n",
       "    </tr>\n",
       "  </tbody>\n",
       "</table>\n",
       "</div>"
      ],
      "text/plain": [
       "      osm_id    FID  country         city osm_type        lat       lon  \\\n",
       "0   89369215  16863  Algeria  Tamanrasset     town  22.785454  5.532446   \n",
       "1  252600742    187  Algeria    Boumerdès     town  36.758882  3.470596   \n",
       "2  253167052    187  Algeria       Thenia     town  36.724986  3.556935   \n",
       "3  253167208    187  Algeria     Zemmouri     town  36.786406  3.601221   \n",
       "4  253291208   1530  Algeria    Lakhdaria     town  36.563944  3.596907   \n",
       "\n",
       "                                            geometry  \n",
       "0  POLYGON ((5.523842554283844 22.82143812548671,...  \n",
       "1  POLYGON ((3.879862753261432 36.92634664178389,...  \n",
       "2  POLYGON ((3.879862753261432 36.92634664178389,...  \n",
       "3  POLYGON ((3.879862753261432 36.92634664178389,...  \n",
       "4  POLYGON ((3.52630149841732 36.592046118739, 3....  "
      ]
     },
     "execution_count": 6,
     "metadata": {},
     "output_type": "execute_result"
    }
   ],
   "source": [
    "print(townA.shape)\n",
    "townA.head()"
   ]
  },
  {
   "cell_type": "code",
   "execution_count": 18,
   "metadata": {},
   "outputs": [
    {
     "data": {
      "text/plain": [
       "(5854, 8)"
      ]
     },
     "execution_count": 18,
     "metadata": {},
     "output_type": "execute_result"
    }
   ],
   "source": [
    "urban_concat = pd.concat([townA, townB1, townB2, city])\n",
    "urban_concat.shape"
   ]
  },
  {
   "cell_type": "code",
   "execution_count": 19,
   "metadata": {},
   "outputs": [
    {
     "data": {
      "text/plain": [
       "(4951, 8)"
      ]
     },
     "execution_count": 19,
     "metadata": {},
     "output_type": "execute_result"
    }
   ],
   "source": [
    "gdf_drop = urban_concat.drop_duplicates(['FID'], keep='first')\n",
    "gdf_drop.shape"
   ]
  },
  {
   "cell_type": "code",
   "execution_count": 9,
   "metadata": {},
   "outputs": [],
   "source": [
    "# urban_concat.to_file(temp_data+'GHS_POP_GPW42015_urbanmerge.shp', driver='ESRI Shapefile')"
   ]
  },
  {
   "cell_type": "code",
   "execution_count": null,
   "metadata": {},
   "outputs": [],
   "source": [
    "# gdf_drop.to_file(temp_data+'AFR_PPP_2015_adj_v2_urbanmerge_test_drop.shp', driver='ESRI Shapefile')"
   ]
  }
 ],
 "metadata": {
  "kernelspec": {
   "display_name": "Python 3",
   "language": "python",
   "name": "python3"
  },
  "language_info": {
   "codemirror_mode": {
    "name": "ipython",
    "version": 3
   },
   "file_extension": ".py",
   "mimetype": "text/x-python",
   "name": "python",
   "nbconvert_exporter": "python",
   "pygments_lexer": "ipython3",
   "version": "3.7.0"
  }
 },
 "nbformat": 4,
 "nbformat_minor": 2
}
