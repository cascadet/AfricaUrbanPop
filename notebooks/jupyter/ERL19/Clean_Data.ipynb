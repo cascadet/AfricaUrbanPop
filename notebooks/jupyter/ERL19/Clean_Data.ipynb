{
 "cells": [
  {
   "cell_type": "markdown",
   "metadata": {},
   "source": [
    "# Notebook to Clean Data\n",
    "\n",
    "2019 - 01 - 21 updated 2019-04-30\n",
    "Notebook to clean final osm cities and towns\n",
    "1. merge files\n",
    "2. drop duplicates \n"
   ]
  },
  {
   "cell_type": "code",
   "execution_count": 1,
   "metadata": {},
   "outputs": [],
   "source": [
    "import geopandas as gpd\n",
    "import pandas as pd\n",
    "import fiona\n",
    "import json\n",
    "from shapely.geometry import Point"
   ]
  },
  {
   "cell_type": "code",
   "execution_count": 2,
   "metadata": {},
   "outputs": [
    {
     "data": {
      "text/plain": [
       "'/tana-crunch/cascade/projects/Pop-ERL/notebooks/jupyter/ERL19'"
      ]
     },
     "execution_count": 2,
     "metadata": {},
     "output_type": "execute_result"
    }
   ],
   "source": [
    "import os\n",
    "os.getcwd()"
   ]
  },
  {
   "cell_type": "code",
   "execution_count": 3,
   "metadata": {},
   "outputs": [],
   "source": [
    "# File Paths\n",
    "\n",
    "ERLv2_data = '../../../temp_data/ERL19v2/'\n",
    "temp_data = '../../../temp_data/ERL19/'"
   ]
  },
  {
   "cell_type": "markdown",
   "metadata": {},
   "source": [
    "### Merge OSM Files"
   ]
  },
  {
   "cell_type": "code",
   "execution_count": null,
   "metadata": {},
   "outputs": [],
   "source": [
    "def load_points (file):\n",
    "    \"\"\" This function loads a csv \n",
    "    of points and turns it into shapely points\"\"\"\n",
    "    df = pd.read_csv(file)\n",
    "\n",
    "    # creating a geometry column \n",
    "    geometry = [Point(xy) for xy in zip(df['lon'], df['lat'])]\n",
    "\n",
    "    # Coordinate reference system : WGS84\n",
    "    crs = {'init': 'epsg:4326'}\n",
    "\n",
    "    # Creating a Geographic data frame \n",
    "    point_gdf = gpd.GeoDataFrame(df, crs=crs, geometry=geometry)\n",
    "    \n",
    "    return point_gdf"
   ]
  },
  {
   "cell_type": "code",
   "execution_count": null,
   "metadata": {},
   "outputs": [],
   "source": [
    "# Load Files\n",
    "town = load_points(v2_data+'20190114_osm_africa_towns.csv')\n",
    "city = load_points(v2_data+'20190114_osm_africa_cities.csv')\n",
    "\n",
    "townSS = load_points(v2_data+'20190221_osm_S_Sudan_towns.csv')\n",
    "citySS = load_points(v2_data+'20190221_osm_S_Sudan_cities.csv')\n",
    "\n",
    "townDRC = load_points(v2_data+'20190430_osm_DRC_towns.csv')\n",
    "cityDRC = load_points(v2_data+'20190430_osm_DRC_cities.csv')"
   ]
  },
  {
   "cell_type": "code",
   "execution_count": null,
   "metadata": {},
   "outputs": [],
   "source": [
    "# add column with osm type\n",
    "\n",
    "town['osm_type'] = 'town'\n",
    "townDRC['osm_type'] = 'town'\n",
    "townSS['osm_type'] = 'town'\n",
    "\n",
    "city['osm_type'] = 'city'\n",
    "cityDRC['osm_type'] = 'city'\n",
    "citySS['osm_type'] = 'city'"
   ]
  },
  {
   "cell_type": "code",
   "execution_count": null,
   "metadata": {},
   "outputs": [],
   "source": [
    "cityDRC.head()"
   ]
  },
  {
   "cell_type": "code",
   "execution_count": null,
   "metadata": {},
   "outputs": [],
   "source": [
    "# merge\n",
    "\n",
    "towns = pd.concat([town, townDRC, townSS, cityDRC, citySS], sort = False) # col name of cityDRC and citySS is town, not city\n",
    "\n",
    "towns.rename(columns={'town':'osm_name'}, inplace=True)\n",
    "city.rename(columns={'city':'osm_name'}, inplace=True)\n",
    "\n",
    "out = pd.concat([towns, city], sort = False)\n"
   ]
  },
  {
   "cell_type": "code",
   "execution_count": null,
   "metadata": {},
   "outputs": [],
   "source": [
    "out[1000:1100]"
   ]
  },
  {
   "cell_type": "code",
   "execution_count": null,
   "metadata": {},
   "outputs": [],
   "source": [
    "out.shape"
   ]
  },
  {
   "cell_type": "code",
   "execution_count": null,
   "metadata": {},
   "outputs": [],
   "source": [
    "out.to_file(v2_data+\"20190430_osm_All.shp\", driver = \"ESRI Shapefile\")"
   ]
  },
  {
   "cell_type": "markdown",
   "metadata": {},
   "source": [
    "### Split 1500c300 Polygons"
   ]
  },
  {
   "cell_type": "code",
   "execution_count": null,
   "metadata": {},
   "outputs": [],
   "source": [
    "# Load\n",
    "\n",
    "GHS2000 = gpd.read_file(temp_data+'GHS_POP_GPW42000_GLOBE_R2015A_54009_1k_v1_0_Clip_1500c300.shp')\n"
   ]
  },
  {
   "cell_type": "code",
   "execution_count": null,
   "metadata": {},
   "outputs": [],
   "source": [
    "GHS2000.head()"
   ]
  },
  {
   "cell_type": "code",
   "execution_count": null,
   "metadata": {},
   "outputs": [],
   "source": [
    "# ADD FIDS if needed\n",
    "\n",
    "FID = list(range(len(GHS2000)))\n",
    "GHS2000['DN'] = FID\n",
    "GHS2000.columns.values[0] = \"FID\"\n",
    "GHS2000.head()"
   ]
  },
  {
   "cell_type": "code",
   "execution_count": null,
   "metadata": {},
   "outputs": [],
   "source": [
    "len(GHS2000)"
   ]
  },
  {
   "cell_type": "code",
   "execution_count": null,
   "metadata": {},
   "outputs": [],
   "source": [
    "GHS2000_A = GHS2000[0:15000]\n",
    "len(GHS2000_A)"
   ]
  },
  {
   "cell_type": "code",
   "execution_count": null,
   "metadata": {},
   "outputs": [],
   "source": [
    "GHS2000_B = GHS2000[15000:30000]\n",
    "len(GHS2000_B)"
   ]
  },
  {
   "cell_type": "code",
   "execution_count": null,
   "metadata": {},
   "outputs": [],
   "source": [
    "GHS2000_C = GHS2000[30000:]\n",
    "len(GHS2000_C)"
   ]
  },
  {
   "cell_type": "code",
   "execution_count": null,
   "metadata": {},
   "outputs": [],
   "source": [
    "len(GHS2000_A)+len(GHS2000_B)+len(GHS2000_C)"
   ]
  },
  {
   "cell_type": "code",
   "execution_count": null,
   "metadata": {},
   "outputs": [],
   "source": [
    "GHS2000_A.tail()"
   ]
  },
  {
   "cell_type": "code",
   "execution_count": null,
   "metadata": {},
   "outputs": [],
   "source": [
    "GHS2000_C.head()"
   ]
  },
  {
   "cell_type": "code",
   "execution_count": null,
   "metadata": {},
   "outputs": [],
   "source": [
    "GHS2000_A.to_file(temp_data+'GHS_POP_GPW42000_GLOBE_R2015A_54009_1k_v1_0_Clip_1500c300_A.shp')\n",
    "GHS2000_B.to_file(temp_data+'GHS_POP_GPW42000_GLOBE_R2015A_54009_1k_v1_0_Clip_1500c300_B.shp')\n",
    "GHS2000_C.to_file(temp_data+'GHS_POP_GPW42000_GLOBE_R2015A_54009_1k_v1_0_Clip_1500c300_C.shp')"
   ]
  },
  {
   "cell_type": "markdown",
   "metadata": {},
   "source": [
    "### Merge PolyPoints \n",
    "- Merge polypoints outputs & save\n",
    "- Find FIDs that overlap boarders"
   ]
  },
  {
   "cell_type": "code",
   "execution_count": 15,
   "metadata": {},
   "outputs": [],
   "source": [
    "# file paths\n",
    "\n",
    "poly_A = gpd.read_file(ERLv2_data+'GHS_POP_GPW42015_GLOBE_R2015A_54009_1k_v1_0_Clip_1500c300_A_polypoints.shp')\n",
    "poly_B = gpd.read_file(ERLv2_data+'GHS_POP_GPW42015_GLOBE_R2015A_54009_1k_v1_0_Clip_1500c300_B_polypoints.shp')\n",
    "poly_C = gpd.read_file(ERLv2_data+'GHS_POP_GPW42015_GLOBE_R2015A_54009_1k_v1_0_Clip_1500c300_C_polypoints.shp')\n",
    "\n",
    "out_data = 'GHS2015'"
   ]
  },
  {
   "cell_type": "code",
   "execution_count": 16,
   "metadata": {},
   "outputs": [],
   "source": [
    "poly = pd.concat([poly_A, poly_B, poly_C], ignore_index = True)"
   ]
  },
  {
   "cell_type": "code",
   "execution_count": 17,
   "metadata": {},
   "outputs": [
    {
     "data": {
      "text/plain": [
       "6684"
      ]
     },
     "execution_count": 17,
     "metadata": {},
     "output_type": "execute_result"
    }
   ],
   "source": [
    "len(poly)"
   ]
  },
  {
   "cell_type": "code",
   "execution_count": 18,
   "metadata": {},
   "outputs": [],
   "source": [
    "# Save out all Polygons\n",
    "\n",
    "poly.to_file(ERLv2_data+out_data+'_polypoints_ALL.shp')"
   ]
  },
  {
   "cell_type": "code",
   "execution_count": 19,
   "metadata": {},
   "outputs": [
    {
     "name": "stdout",
     "output_type": "stream",
     "text": [
      "49\n",
      "26\n"
     ]
    },
    {
     "name": "stderr",
     "output_type": "stream",
     "text": [
      "/home/cascade/miniconda3/envs/geo/lib/python3.6/site-packages/ipykernel_launcher.py:4: SettingWithCopyWarning: \n",
      "A value is trying to be set on a copy of a slice from a DataFrame.\n",
      "Try using .loc[row_indexer,col_indexer] = value instead\n",
      "\n",
      "See the caveats in the documentation: http://pandas.pydata.org/pandas-docs/stable/indexing.html#indexing-view-versus-copy\n",
      "  after removing the cwd from sys.path.\n"
     ]
    }
   ],
   "source": [
    "## Code to find polygons that overlap boarders\n",
    "\n",
    "test = poly[poly.duplicated(subset=['FID'], keep=False)] # Keep all dup FIDS\n",
    "test['dup'] = test['FID'].astype(str) + poly['country'] # Make new col with FID-Country\n",
    "test.head()\n",
    "\n",
    "out = test.drop_duplicates('dup', keep=False) # Drop all doubles FID-Country\n",
    "print(len(out))\n",
    "\n",
    "out = out.drop_duplicates('FID', keep='first') # Drop all left double FIDs\n",
    "print(len(out))"
   ]
  },
  {
   "cell_type": "code",
   "execution_count": 20,
   "metadata": {},
   "outputs": [
    {
     "data": {
      "text/html": [
       "<div>\n",
       "<style scoped>\n",
       "    .dataframe tbody tr th:only-of-type {\n",
       "        vertical-align: middle;\n",
       "    }\n",
       "\n",
       "    .dataframe tbody tr th {\n",
       "        vertical-align: top;\n",
       "    }\n",
       "\n",
       "    .dataframe thead th {\n",
       "        text-align: right;\n",
       "    }\n",
       "</style>\n",
       "<table border=\"1\" class=\"dataframe\">\n",
       "  <thead>\n",
       "    <tr style=\"text-align: right;\">\n",
       "      <th></th>\n",
       "      <th>osm_id</th>\n",
       "      <th>FID</th>\n",
       "      <th>country</th>\n",
       "      <th>osm_name</th>\n",
       "      <th>osm_type</th>\n",
       "      <th>lat</th>\n",
       "      <th>lon</th>\n",
       "      <th>geometry</th>\n",
       "      <th>dup</th>\n",
       "    </tr>\n",
       "  </thead>\n",
       "  <tbody>\n",
       "    <tr>\n",
       "      <th>325</th>\n",
       "      <td>490570861</td>\n",
       "      <td>6585</td>\n",
       "      <td>Algeria</td>\n",
       "      <td>Marsa Ben M'Hidi</td>\n",
       "      <td>town</td>\n",
       "      <td>35.081799</td>\n",
       "      <td>-2.204397</td>\n",
       "      <td>POLYGON ((-198594.547444 4234029.461868, -1975...</td>\n",
       "      <td>6585Algeria</td>\n",
       "    </tr>\n",
       "    <tr>\n",
       "      <th>326</th>\n",
       "      <td>490570863</td>\n",
       "      <td>6910</td>\n",
       "      <td>Algeria</td>\n",
       "      <td>Boukanoun</td>\n",
       "      <td>town</td>\n",
       "      <td>34.974770</td>\n",
       "      <td>-2.099585</td>\n",
       "      <td>POLYGON ((-186594.547444 4221029.461868, -1855...</td>\n",
       "      <td>6910Algeria</td>\n",
       "    </tr>\n",
       "    <tr>\n",
       "      <th>1381</th>\n",
       "      <td>262107914</td>\n",
       "      <td>10006</td>\n",
       "      <td>Tanzania</td>\n",
       "      <td>Tunduma TOWN</td>\n",
       "      <td>town</td>\n",
       "      <td>-9.310164</td>\n",
       "      <td>32.767525</td>\n",
       "      <td>POLYGON ((3258405.452556 -1149970.538132, 3258...</td>\n",
       "      <td>10006Tanzania</td>\n",
       "    </tr>\n",
       "    <tr>\n",
       "      <th>2727</th>\n",
       "      <td>1623947997</td>\n",
       "      <td>16880</td>\n",
       "      <td>Morocco</td>\n",
       "      <td>Aousserd ?????? ?????</td>\n",
       "      <td>town</td>\n",
       "      <td>22.567000</td>\n",
       "      <td>-14.312906</td>\n",
       "      <td>POLYGON ((-1365594.547444 2763029.461868, -136...</td>\n",
       "      <td>16880Morocco</td>\n",
       "    </tr>\n",
       "    <tr>\n",
       "      <th>2839</th>\n",
       "      <td>1150882019</td>\n",
       "      <td>27492</td>\n",
       "      <td>Ethiopia</td>\n",
       "      <td>Dolo</td>\n",
       "      <td>town</td>\n",
       "      <td>4.178610</td>\n",
       "      <td>42.058890</td>\n",
       "      <td>POLYGON ((4210405.452556 515029.461868, 421040...</td>\n",
       "      <td>27492Ethiopia</td>\n",
       "    </tr>\n",
       "    <tr>\n",
       "      <th>2887</th>\n",
       "      <td>44929726</td>\n",
       "      <td>27371</td>\n",
       "      <td>Kenya</td>\n",
       "      <td>Mandera</td>\n",
       "      <td>town</td>\n",
       "      <td>3.938421</td>\n",
       "      <td>41.857324</td>\n",
       "      <td>POLYGON ((4189405.452556 484029.461868, 418940...</td>\n",
       "      <td>27371Kenya</td>\n",
       "    </tr>\n",
       "    <tr>\n",
       "      <th>2919</th>\n",
       "      <td>45006358</td>\n",
       "      <td>22328</td>\n",
       "      <td>Kenya</td>\n",
       "      <td>Busia</td>\n",
       "      <td>town</td>\n",
       "      <td>0.464348</td>\n",
       "      <td>34.111081</td>\n",
       "      <td>POLYGON ((3425405.452556 50029.461868, 3425405...</td>\n",
       "      <td>22328Kenya</td>\n",
       "    </tr>\n",
       "    <tr>\n",
       "      <th>3056</th>\n",
       "      <td>293813047</td>\n",
       "      <td>19162</td>\n",
       "      <td>Rwanda</td>\n",
       "      <td>Gatuna</td>\n",
       "      <td>town</td>\n",
       "      <td>-1.433600</td>\n",
       "      <td>30.015113</td>\n",
       "      <td>POLYGON ((3006405.452556 -174970.538132, 30074...</td>\n",
       "      <td>19162Rwanda</td>\n",
       "    </tr>\n",
       "    <tr>\n",
       "      <th>3057</th>\n",
       "      <td>435390255</td>\n",
       "      <td>16849</td>\n",
       "      <td>Rwanda</td>\n",
       "      <td>Cyangugu</td>\n",
       "      <td>town</td>\n",
       "      <td>-2.488777</td>\n",
       "      <td>28.895813</td>\n",
       "      <td>POLYGON ((2891405.452556 -316970.538132, 28914...</td>\n",
       "      <td>16849Rwanda</td>\n",
       "    </tr>\n",
       "    <tr>\n",
       "      <th>3194</th>\n",
       "      <td>435662822</td>\n",
       "      <td>18136</td>\n",
       "      <td>Uganda</td>\n",
       "      <td>Kisoro</td>\n",
       "      <td>town</td>\n",
       "      <td>-1.282214</td>\n",
       "      <td>29.692666</td>\n",
       "      <td>POLYGON ((2934405.452556 -223970.538132, 29364...</td>\n",
       "      <td>18136Uganda</td>\n",
       "    </tr>\n",
       "    <tr>\n",
       "      <th>3732</th>\n",
       "      <td>1703669076</td>\n",
       "      <td>21411</td>\n",
       "      <td>Mali</td>\n",
       "      <td>Diboli</td>\n",
       "      <td>town</td>\n",
       "      <td>14.457159</td>\n",
       "      <td>-12.200601</td>\n",
       "      <td>POLYGON ((-1200594.547444 1781029.461868, -119...</td>\n",
       "      <td>21411Mali</td>\n",
       "    </tr>\n",
       "    <tr>\n",
       "      <th>3845</th>\n",
       "      <td>277741100</td>\n",
       "      <td>17698</td>\n",
       "      <td>Mauritania</td>\n",
       "      <td>????</td>\n",
       "      <td>town</td>\n",
       "      <td>16.513249</td>\n",
       "      <td>-15.809967</td>\n",
       "      <td>POLYGON ((-1544594.547444 2032029.461868, -154...</td>\n",
       "      <td>17698Mauritania</td>\n",
       "    </tr>\n",
       "    <tr>\n",
       "      <th>3851</th>\n",
       "      <td>1986708734</td>\n",
       "      <td>20177</td>\n",
       "      <td>Mauritania</td>\n",
       "      <td>????</td>\n",
       "      <td>town</td>\n",
       "      <td>14.900984</td>\n",
       "      <td>-12.450237</td>\n",
       "      <td>POLYGON ((-1223594.547444 1836029.461868, -121...</td>\n",
       "      <td>20177Mauritania</td>\n",
       "    </tr>\n",
       "    <tr>\n",
       "      <th>4084</th>\n",
       "      <td>435315432</td>\n",
       "      <td>27676</td>\n",
       "      <td>Democratic Republic of the Congo</td>\n",
       "      <td>Zongo</td>\n",
       "      <td>town</td>\n",
       "      <td>4.343670</td>\n",
       "      <td>18.594585</td>\n",
       "      <td>POLYGON ((1850405.452556 535029.461868, 185140...</td>\n",
       "      <td>27676Democratic Republic of the Congo</td>\n",
       "    </tr>\n",
       "    <tr>\n",
       "      <th>4305</th>\n",
       "      <td>348237703</td>\n",
       "      <td>16832</td>\n",
       "      <td>Morocco</td>\n",
       "      <td>Dakhla ????? ???????</td>\n",
       "      <td>city</td>\n",
       "      <td>23.694066</td>\n",
       "      <td>-15.943127</td>\n",
       "      <td>POLYGON ((-1511594.547444 2903029.461868, -150...</td>\n",
       "      <td>16832Morocco</td>\n",
       "    </tr>\n",
       "    <tr>\n",
       "      <th>4307</th>\n",
       "      <td>569755163</td>\n",
       "      <td>16373</td>\n",
       "      <td>Morocco</td>\n",
       "      <td>Esmara ????? ???????</td>\n",
       "      <td>city</td>\n",
       "      <td>26.743583</td>\n",
       "      <td>-11.664549</td>\n",
       "      <td>POLYGON ((-1092594.547444 3262029.461868, -109...</td>\n",
       "      <td>16373Morocco</td>\n",
       "    </tr>\n",
       "    <tr>\n",
       "      <th>4308</th>\n",
       "      <td>2090045902</td>\n",
       "      <td>16484</td>\n",
       "      <td>Morocco</td>\n",
       "      <td>Boujdour ?????? ??????</td>\n",
       "      <td>city</td>\n",
       "      <td>26.126338</td>\n",
       "      <td>-14.483654</td>\n",
       "      <td>POLYGON ((-1358594.547444 3189029.461868, -135...</td>\n",
       "      <td>16484Morocco</td>\n",
       "    </tr>\n",
       "    <tr>\n",
       "      <th>4635</th>\n",
       "      <td>1150589403</td>\n",
       "      <td>30939</td>\n",
       "      <td>Ethiopia</td>\n",
       "      <td>Metema ???</td>\n",
       "      <td>town</td>\n",
       "      <td>12.957600</td>\n",
       "      <td>36.152660</td>\n",
       "      <td>POLYGON ((3565405.452556 1597029.461868, 35674...</td>\n",
       "      <td>30939Ethiopia</td>\n",
       "    </tr>\n",
       "    <tr>\n",
       "      <th>4939</th>\n",
       "      <td>1404227567</td>\n",
       "      <td>37189</td>\n",
       "      <td>Somalia</td>\n",
       "      <td>Buuhoodle</td>\n",
       "      <td>town</td>\n",
       "      <td>8.231849</td>\n",
       "      <td>46.324899</td>\n",
       "      <td>POLYGON ((4612405.452556 1017029.461868, 46134...</td>\n",
       "      <td>37189Somalia</td>\n",
       "    </tr>\n",
       "    <tr>\n",
       "      <th>4969</th>\n",
       "      <td>2147483647</td>\n",
       "      <td>40643</td>\n",
       "      <td>Sudan</td>\n",
       "      <td>?? ????</td>\n",
       "      <td>town</td>\n",
       "      <td>9.493969</td>\n",
       "      <td>24.521009</td>\n",
       "      <td>POLYGON ((2434405.452556 1165029.461868, 24344...</td>\n",
       "      <td>40643Sudan</td>\n",
       "    </tr>\n",
       "    <tr>\n",
       "      <th>5006</th>\n",
       "      <td>250811177</td>\n",
       "      <td>34698</td>\n",
       "      <td>Cameroon</td>\n",
       "      <td>Fotokol</td>\n",
       "      <td>town</td>\n",
       "      <td>12.376772</td>\n",
       "      <td>14.224692</td>\n",
       "      <td>POLYGON ((1400405.452556 1541029.461868, 14024...</td>\n",
       "      <td>34698Cameroon</td>\n",
       "    </tr>\n",
       "    <tr>\n",
       "      <th>5010</th>\n",
       "      <td>925366359</td>\n",
       "      <td>45628</td>\n",
       "      <td>Cameroon</td>\n",
       "      <td>Limani</td>\n",
       "      <td>town</td>\n",
       "      <td>11.232026</td>\n",
       "      <td>14.170273</td>\n",
       "      <td>POLYGON ((1399405.452556 1389029.461868, 14004...</td>\n",
       "      <td>45628Cameroon</td>\n",
       "    </tr>\n",
       "    <tr>\n",
       "      <th>5042</th>\n",
       "      <td>2147483647</td>\n",
       "      <td>45262</td>\n",
       "      <td>Cameroon</td>\n",
       "      <td>Assighassia</td>\n",
       "      <td>town</td>\n",
       "      <td>11.135683</td>\n",
       "      <td>13.883007</td>\n",
       "      <td>POLYGON ((1373405.452556 1375029.461868, 13744...</td>\n",
       "      <td>45262Cameroon</td>\n",
       "    </tr>\n",
       "    <tr>\n",
       "      <th>5204</th>\n",
       "      <td>2147483647</td>\n",
       "      <td>30087</td>\n",
       "      <td>Benin</td>\n",
       "      <td>Grand Popo</td>\n",
       "      <td>town</td>\n",
       "      <td>6.277462</td>\n",
       "      <td>1.807498</td>\n",
       "      <td>POLYGON ((102405.452556 739029.461868, 102405....</td>\n",
       "      <td>30087Benin</td>\n",
       "    </tr>\n",
       "    <tr>\n",
       "      <th>5218</th>\n",
       "      <td>620869859</td>\n",
       "      <td>45307</td>\n",
       "      <td>Burkina Faso</td>\n",
       "      <td>Cinkansé</td>\n",
       "      <td>town</td>\n",
       "      <td>11.118235</td>\n",
       "      <td>0.006713</td>\n",
       "      <td>POLYGON ((-594.547444 1373029.461868, 405.4525...</td>\n",
       "      <td>45307Burkina Faso</td>\n",
       "    </tr>\n",
       "    <tr>\n",
       "      <th>6530</th>\n",
       "      <td>250810233</td>\n",
       "      <td>37309</td>\n",
       "      <td>Cameroon</td>\n",
       "      <td>Kousséri</td>\n",
       "      <td>city</td>\n",
       "      <td>12.075564</td>\n",
       "      <td>15.024619</td>\n",
       "      <td>POLYGON ((1486405.452556 1506029.461868, 14884...</td>\n",
       "      <td>37309Cameroon</td>\n",
       "    </tr>\n",
       "  </tbody>\n",
       "</table>\n",
       "</div>"
      ],
      "text/plain": [
       "          osm_id    FID                           country  \\\n",
       "325    490570861   6585                           Algeria   \n",
       "326    490570863   6910                           Algeria   \n",
       "1381   262107914  10006                          Tanzania   \n",
       "2727  1623947997  16880                           Morocco   \n",
       "2839  1150882019  27492                          Ethiopia   \n",
       "2887    44929726  27371                             Kenya   \n",
       "2919    45006358  22328                             Kenya   \n",
       "3056   293813047  19162                            Rwanda   \n",
       "3057   435390255  16849                            Rwanda   \n",
       "3194   435662822  18136                            Uganda   \n",
       "3732  1703669076  21411                              Mali   \n",
       "3845   277741100  17698                        Mauritania   \n",
       "3851  1986708734  20177                        Mauritania   \n",
       "4084   435315432  27676  Democratic Republic of the Congo   \n",
       "4305   348237703  16832                           Morocco   \n",
       "4307   569755163  16373                           Morocco   \n",
       "4308  2090045902  16484                           Morocco   \n",
       "4635  1150589403  30939                          Ethiopia   \n",
       "4939  1404227567  37189                           Somalia   \n",
       "4969  2147483647  40643                             Sudan   \n",
       "5006   250811177  34698                          Cameroon   \n",
       "5010   925366359  45628                          Cameroon   \n",
       "5042  2147483647  45262                          Cameroon   \n",
       "5204  2147483647  30087                             Benin   \n",
       "5218   620869859  45307                      Burkina Faso   \n",
       "6530   250810233  37309                          Cameroon   \n",
       "\n",
       "                    osm_name osm_type        lat        lon  \\\n",
       "325         Marsa Ben M'Hidi     town  35.081799  -2.204397   \n",
       "326                Boukanoun     town  34.974770  -2.099585   \n",
       "1381            Tunduma TOWN     town  -9.310164  32.767525   \n",
       "2727   Aousserd ?????? ?????     town  22.567000 -14.312906   \n",
       "2839                    Dolo     town   4.178610  42.058890   \n",
       "2887                 Mandera     town   3.938421  41.857324   \n",
       "2919                   Busia     town   0.464348  34.111081   \n",
       "3056                  Gatuna     town  -1.433600  30.015113   \n",
       "3057                Cyangugu     town  -2.488777  28.895813   \n",
       "3194                  Kisoro     town  -1.282214  29.692666   \n",
       "3732                  Diboli     town  14.457159 -12.200601   \n",
       "3845                    ????     town  16.513249 -15.809967   \n",
       "3851                    ????     town  14.900984 -12.450237   \n",
       "4084                   Zongo     town   4.343670  18.594585   \n",
       "4305    Dakhla ????? ???????     city  23.694066 -15.943127   \n",
       "4307    Esmara ????? ???????     city  26.743583 -11.664549   \n",
       "4308  Boujdour ?????? ??????     city  26.126338 -14.483654   \n",
       "4635              Metema ???     town  12.957600  36.152660   \n",
       "4939               Buuhoodle     town   8.231849  46.324899   \n",
       "4969                 ?? ????     town   9.493969  24.521009   \n",
       "5006                 Fotokol     town  12.376772  14.224692   \n",
       "5010                  Limani     town  11.232026  14.170273   \n",
       "5042             Assighassia     town  11.135683  13.883007   \n",
       "5204              Grand Popo     town   6.277462   1.807498   \n",
       "5218                Cinkansé     town  11.118235   0.006713   \n",
       "6530                Kousséri     city  12.075564  15.024619   \n",
       "\n",
       "                                               geometry  \\\n",
       "325   POLYGON ((-198594.547444 4234029.461868, -1975...   \n",
       "326   POLYGON ((-186594.547444 4221029.461868, -1855...   \n",
       "1381  POLYGON ((3258405.452556 -1149970.538132, 3258...   \n",
       "2727  POLYGON ((-1365594.547444 2763029.461868, -136...   \n",
       "2839  POLYGON ((4210405.452556 515029.461868, 421040...   \n",
       "2887  POLYGON ((4189405.452556 484029.461868, 418940...   \n",
       "2919  POLYGON ((3425405.452556 50029.461868, 3425405...   \n",
       "3056  POLYGON ((3006405.452556 -174970.538132, 30074...   \n",
       "3057  POLYGON ((2891405.452556 -316970.538132, 28914...   \n",
       "3194  POLYGON ((2934405.452556 -223970.538132, 29364...   \n",
       "3732  POLYGON ((-1200594.547444 1781029.461868, -119...   \n",
       "3845  POLYGON ((-1544594.547444 2032029.461868, -154...   \n",
       "3851  POLYGON ((-1223594.547444 1836029.461868, -121...   \n",
       "4084  POLYGON ((1850405.452556 535029.461868, 185140...   \n",
       "4305  POLYGON ((-1511594.547444 2903029.461868, -150...   \n",
       "4307  POLYGON ((-1092594.547444 3262029.461868, -109...   \n",
       "4308  POLYGON ((-1358594.547444 3189029.461868, -135...   \n",
       "4635  POLYGON ((3565405.452556 1597029.461868, 35674...   \n",
       "4939  POLYGON ((4612405.452556 1017029.461868, 46134...   \n",
       "4969  POLYGON ((2434405.452556 1165029.461868, 24344...   \n",
       "5006  POLYGON ((1400405.452556 1541029.461868, 14024...   \n",
       "5010  POLYGON ((1399405.452556 1389029.461868, 14004...   \n",
       "5042  POLYGON ((1373405.452556 1375029.461868, 13744...   \n",
       "5204  POLYGON ((102405.452556 739029.461868, 102405....   \n",
       "5218  POLYGON ((-594.547444 1373029.461868, 405.4525...   \n",
       "6530  POLYGON ((1486405.452556 1506029.461868, 14884...   \n",
       "\n",
       "                                        dup  \n",
       "325                             6585Algeria  \n",
       "326                             6910Algeria  \n",
       "1381                          10006Tanzania  \n",
       "2727                           16880Morocco  \n",
       "2839                          27492Ethiopia  \n",
       "2887                             27371Kenya  \n",
       "2919                             22328Kenya  \n",
       "3056                            19162Rwanda  \n",
       "3057                            16849Rwanda  \n",
       "3194                            18136Uganda  \n",
       "3732                              21411Mali  \n",
       "3845                        17698Mauritania  \n",
       "3851                        20177Mauritania  \n",
       "4084  27676Democratic Republic of the Congo  \n",
       "4305                           16832Morocco  \n",
       "4307                           16373Morocco  \n",
       "4308                           16484Morocco  \n",
       "4635                          30939Ethiopia  \n",
       "4939                           37189Somalia  \n",
       "4969                             40643Sudan  \n",
       "5006                          34698Cameroon  \n",
       "5010                          45628Cameroon  \n",
       "5042                          45262Cameroon  \n",
       "5204                             30087Benin  \n",
       "5218                      45307Burkina Faso  \n",
       "6530                          37309Cameroon  "
      ]
     },
     "execution_count": 20,
     "metadata": {},
     "output_type": "execute_result"
    }
   ],
   "source": [
    "out"
   ]
  },
  {
   "cell_type": "code",
   "execution_count": 21,
   "metadata": {},
   "outputs": [
    {
     "name": "stdout",
     "output_type": "stream",
     "text": [
      "25\n",
      "21\n"
     ]
    }
   ],
   "source": [
    "# Drop Western Sahara / Morocco and South Sudan / Sudan\n",
    "out = out[out['country'] != 'Sudan']\n",
    "\n",
    "print(len(out))\n",
    "\n",
    "out = out[out['country'] != 'Morocco']\n",
    "print(len(out))\n",
    "\n",
    "# out = out[out.duplicated(subset=['FID'], keep=False)] # Keep all duplicated FIDS but remove any left overs\n"
   ]
  },
  {
   "cell_type": "code",
   "execution_count": 23,
   "metadata": {},
   "outputs": [],
   "source": [
    "out.to_file(ERLv2_data+out_data+'_polypoints_countryoverlap.shp')\n"
   ]
  }
 ],
 "metadata": {
  "kernelspec": {
   "display_name": "geo",
   "language": "python",
   "name": "geo"
  },
  "language_info": {
   "codemirror_mode": {
    "name": "ipython",
    "version": 3
   },
   "file_extension": ".py",
   "mimetype": "text/x-python",
   "name": "python",
   "nbconvert_exporter": "python",
   "pygments_lexer": "ipython3",
   "version": "3.6.7"
  }
 },
 "nbformat": 4,
 "nbformat_minor": 2
}
