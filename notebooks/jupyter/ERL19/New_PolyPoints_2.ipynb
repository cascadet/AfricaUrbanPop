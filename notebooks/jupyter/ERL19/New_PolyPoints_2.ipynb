{
 "cells": [
  {
   "cell_type": "markdown",
   "metadata": {},
   "source": [
    "# NoteBook To Check Point or Polygon Inside Polygon\n",
    "\n",
    "The objective of this notebook is to search a set of points or polygons for spatial overlap with a largerset\n",
    "\n",
    "By Cascsde Tuholske 2019-01-17\n",
    "\n",
    "#### Notes\n",
    "1. Points should be dialated to circles to prevent one falling just outside the larger polygon set (see Lusaka)"
   ]
  },
  {
   "cell_type": "markdown",
   "metadata": {},
   "source": [
    "### Depedencies"
   ]
  },
  {
   "cell_type": "code",
   "execution_count": 1,
   "metadata": {},
   "outputs": [],
   "source": [
    "import pandas as pd\n",
    "import geopandas as gpd\n",
    "from shapely.geometry import Point\n",
    "from shapely.geometry import mapping\n",
    "from shapely.geometry import Polygon\n",
    "from shapely.geometry import shape\n",
    "import ast\n",
    "from shapely.geometry import mapping\n",
    "import rasterio\n",
    "import copy"
   ]
  },
  {
   "cell_type": "markdown",
   "metadata": {},
   "source": [
    "### Functions"
   ]
  },
  {
   "cell_type": "code",
   "execution_count": 2,
   "metadata": {},
   "outputs": [],
   "source": [
    "def load_points (file):\n",
    "    \"\"\" This function loads a csv \n",
    "    of points and turns it into shapely points\"\"\"\n",
    "    df = pd.read_csv(file)\n",
    "\n",
    "    # creating a geometry column \n",
    "    geometry = [Point(xy) for xy in zip(df['lon'], df['lat'])]\n",
    "\n",
    "    # Coordinate reference system : WGS84\n",
    "    crs = {'init': 'epsg:4326'}\n",
    "\n",
    "    # Creating a Geographic data frame \n",
    "    point_gdf = gpd.GeoDataFrame(df, crs=crs, geometry=geometry)\n",
    "    \n",
    "    return point_gdf"
   ]
  },
  {
   "cell_type": "code",
   "execution_count": 3,
   "metadata": {},
   "outputs": [],
   "source": [
    "def point_buffer(gpd_df, raduis):\n",
    "    \"Function to make a shapely polygon buffer around a point\"\n",
    "   \n",
    "    # AGU 2018-12-04 - radius set to ~250m at the equator \n",
    "    #radius = 250*1/(111*1000)\n",
    "\n",
    "    # new_gpd_df = gpd.GeoDataFrame()\n",
    "    gpd_df.rename(columns={'geometry':'old_geom'}, inplace=True)\n",
    "    \n",
    "    arr = []\n",
    "    \n",
    "    for point in gpd_df['old_geom']:\n",
    "        buffer = point.buffer(radius)\n",
    "        arr.append((buffer))\n",
    "    \n",
    "    gpd_df['geometry'] = arr\n",
    "    \n",
    "    return gpd_df"
   ]
  },
  {
   "cell_type": "code",
   "execution_count": 4,
   "metadata": {},
   "outputs": [],
   "source": [
    "def poly_point (poly, point):\n",
    "    \"\"\"\n",
    "    This function will check if points are inside polygons if given two gpd dataframes with points and polygons\n",
    "    Returns point ids, point geometry, polygon index # and polygon geometry\n",
    "    \"\"\"\n",
    "    \n",
    "    out_arr = [] #return an array <<< ---------------- ASK RYAN IF BETTER DO USE DICT \n",
    "    \n",
    "    for index_point, row_point in point.iterrows():\n",
    "        for index_poly, row_poly in poly.iterrows():\n",
    "            if row_point['geometry'].within(row_poly['geometry']):\n",
    "                point_id = row_point['id']\n",
    "                point_geom = mapping(row_point['geometry']) # makes a dict w/ keys : type and cood\n",
    "                poly_id = index_poly\n",
    "                poly_geom = mapping(row_poly['geometry']) # makes a dict w/ keys : type and cood\n",
    "                \n",
    "                out_arr.append((point_id, \n",
    "                                point_geom, \n",
    "                                poly_id, \n",
    "                                poly_geom))\n",
    "\n",
    "    return out_arr\n",
    "\n",
    "# Note 2018-11-30 update arr to gpd_df "
   ]
  },
  {
   "cell_type": "code",
   "execution_count": 5,
   "metadata": {},
   "outputs": [],
   "source": [
    "def poly_overlap (point_buffer, poly_raster):\n",
    "    \"\"\"\n",
    "    This function will check if point buffers intersect with polygons \n",
    "    if given two gpd dataframes with point buffers and polygons\n",
    "    Returns point ids, point geometry, polygon index #, and polygon geometry in a geopandas DF.\n",
    "    It goes faster if smaller list goes first\n",
    "    \n",
    "    Change TOWN & CITY ARRA\n",
    "    \"\"\"\n",
    "    \n",
    "    # make arrays to fill\n",
    "    country_arr = []\n",
    "    osm_name_arr = []\n",
    "    osm_type_arr = []\n",
    "    lat_arr = []\n",
    "    lon_arr = []\n",
    "    osm_id_arr = [] \n",
    "    FID_arr = [] \n",
    "    poly_geom_arr = []\n",
    "    #point_geom_arr = []\n",
    "    \n",
    "    for index_point_buffer, row_point_buffer in point_buffer.iterrows():\n",
    "        for index_poly_raster, row_poly_raster in poly_raster.iterrows():\n",
    "            if row_point_buffer['geometry'].intersects(row_poly_raster['geometry']):\n",
    "                country = row_point_buffer['country']\n",
    "                osm_name = row_point_buffer['osm_name'] \n",
    "                osm_type = row_point_buffer['osm_type']\n",
    "                lat = row_point_buffer['lat']\n",
    "                lon = row_point_buffer['lon']\n",
    "                osm_id = row_point_buffer['osm_id']\n",
    "                poly_id = row_poly_raster['FID']\n",
    "                poly_geom = shape(mapping(row_poly_raster['geometry'])) # make polygon\n",
    "                #point_geom = row_point_buffer['old_geom']\n",
    "\n",
    "                country_arr.append((country))\n",
    "                osm_name_arr.append((osm_name))\n",
    "                osm_type_arr.append((osm_type))\n",
    "                lat_arr.append((lat))\n",
    "                lon_arr.append((lon))\n",
    "                osm_id_arr.append((osm_id))\n",
    "                FID_arr.append((poly_id))\n",
    "                poly_geom_arr.append((poly_geom))\n",
    "                #point_geom_arr.append((point_geom))\n",
    "    \n",
    "    # put results into a geopandas df\n",
    "    new_gpd_df = gpd.GeoDataFrame()\n",
    "    new_gpd_df['osm_id'] = osm_id_arr\n",
    "    new_gpd_df['FID'] = FID_arr\n",
    "    new_gpd_df['geometry'] = poly_geom_arr\n",
    "    new_gpd_df['country'] = country_arr           \n",
    "    new_gpd_df['osm_name'] = osm_name_arr\n",
    "    new_gpd_df['osm_type'] = osm_type_arr\n",
    "    new_gpd_df['lat'] = lat_arr\n",
    "    new_gpd_df['lon'] = lon_arr\n",
    "    #new_gpd_df['point_geom'] = point_geom_arr\n",
    "    \n",
    "    \n",
    "    return new_gpd_df\n",
    "\n",
    "# Note 2018-11-30 update arr to gpd_df \n",
    "# Note 2019-04-30 updated to use osm_name instead of city/town for the OSM name"
   ]
  },
  {
   "cell_type": "markdown",
   "metadata": {},
   "source": [
    "### Load Data"
   ]
  },
  {
   "cell_type": "code",
   "execution_count": 6,
   "metadata": {},
   "outputs": [
    {
     "data": {
      "text/plain": [
       "'/tana-crunch/cascade/projects/Pop-ERL/notebooks/jupyter/ERL19'"
      ]
     },
     "execution_count": 6,
     "metadata": {},
     "output_type": "execute_result"
    }
   ],
   "source": [
    "import os\n",
    "os.getcwd()"
   ]
  },
  {
   "cell_type": "code",
   "execution_count": 7,
   "metadata": {},
   "outputs": [],
   "source": [
    "# File Paths\n",
    "temp_data = '../../../temp_data/ERL19/'\n",
    "erl_v2_data  = '../../../temp_data/ERL19v2/'"
   ]
  },
  {
   "cell_type": "code",
   "execution_count": 11,
   "metadata": {},
   "outputs": [
    {
     "name": "stdout",
     "output_type": "stream",
     "text": [
      "9813\n",
      "13635\n"
     ]
    }
   ],
   "source": [
    "# Load Polygons\n",
    "\n",
    "# Load Points\n",
    "points = gpd.read_file(erl_v2_data+'20190430_osm_All.shp')\n",
    "print(len(points))\n",
    "\n",
    "# Load Polygons\n",
    "polygons = gpd.read_file(temp_data+'LS15_w001001_Clip_1500c300_B.shp')\n",
    "print(len(polygons))\n",
    "\n",
    "#Out File Name\n",
    "out = 'LS15_w001001_Clip_1500c300_B_polypoints'"
   ]
  },
  {
   "cell_type": "markdown",
   "metadata": {},
   "source": [
    "### Buffer Points"
   ]
  },
  {
   "cell_type": "code",
   "execution_count": 12,
   "metadata": {},
   "outputs": [
    {
     "data": {
      "text/plain": [
       "0.0022522522522522522"
      ]
     },
     "execution_count": 12,
     "metadata": {},
     "output_type": "execute_result"
    }
   ],
   "source": [
    "# AGU 2018-12-04 - radius set to ~250m at the equator \n",
    "\n",
    "radius = 250*1/(111*1000)\n",
    "radius"
   ]
  },
  {
   "cell_type": "code",
   "execution_count": 13,
   "metadata": {},
   "outputs": [],
   "source": [
    "osm_buffer_gdf = point_buffer(points, radius)"
   ]
  },
  {
   "cell_type": "code",
   "execution_count": null,
   "metadata": {
    "scrolled": false
   },
   "outputs": [],
   "source": [
    "#osm_buffer_gdf.head(6)"
   ]
  },
  {
   "cell_type": "code",
   "execution_count": 14,
   "metadata": {},
   "outputs": [
    {
     "data": {
      "text/html": [
       "<div>\n",
       "<style scoped>\n",
       "    .dataframe tbody tr th:only-of-type {\n",
       "        vertical-align: middle;\n",
       "    }\n",
       "\n",
       "    .dataframe tbody tr th {\n",
       "        vertical-align: top;\n",
       "    }\n",
       "\n",
       "    .dataframe thead th {\n",
       "        text-align: right;\n",
       "    }\n",
       "</style>\n",
       "<table border=\"1\" class=\"dataframe\">\n",
       "  <thead>\n",
       "    <tr style=\"text-align: right;\">\n",
       "      <th></th>\n",
       "      <th>country</th>\n",
       "      <th>osm_id</th>\n",
       "      <th>osm_name</th>\n",
       "      <th>lat</th>\n",
       "      <th>lon</th>\n",
       "      <th>osm_type</th>\n",
       "      <th>geometry</th>\n",
       "    </tr>\n",
       "  </thead>\n",
       "  <tbody>\n",
       "    <tr>\n",
       "      <th>0</th>\n",
       "      <td>Algeria</td>\n",
       "      <td>89369215</td>\n",
       "      <td>Tamanrasset</td>\n",
       "      <td>22.785454</td>\n",
       "      <td>5.532446</td>\n",
       "      <td>town</td>\n",
       "      <td>POLYGON ((5.534698752252252 22.7854543, 5.5346...</td>\n",
       "    </tr>\n",
       "    <tr>\n",
       "      <th>1</th>\n",
       "      <td>Algeria</td>\n",
       "      <td>89980948</td>\n",
       "      <td>In Salah</td>\n",
       "      <td>27.195033</td>\n",
       "      <td>2.482613</td>\n",
       "      <td>town</td>\n",
       "      <td>POLYGON ((2.484865452252253 27.1950331, 2.4848...</td>\n",
       "    </tr>\n",
       "    <tr>\n",
       "      <th>2</th>\n",
       "      <td>Algeria</td>\n",
       "      <td>252600742</td>\n",
       "      <td>Boumerdès</td>\n",
       "      <td>36.758882</td>\n",
       "      <td>3.470596</td>\n",
       "      <td>town</td>\n",
       "      <td>POLYGON ((3.472848252252252 36.758882, 3.47283...</td>\n",
       "    </tr>\n",
       "    <tr>\n",
       "      <th>3</th>\n",
       "      <td>Algeria</td>\n",
       "      <td>253167052</td>\n",
       "      <td>Thenia</td>\n",
       "      <td>36.724986</td>\n",
       "      <td>3.556935</td>\n",
       "      <td>town</td>\n",
       "      <td>POLYGON ((3.559187252252252 36.724986, 3.55917...</td>\n",
       "    </tr>\n",
       "    <tr>\n",
       "      <th>4</th>\n",
       "      <td>Algeria</td>\n",
       "      <td>253167208</td>\n",
       "      <td>Zemmouri</td>\n",
       "      <td>36.786406</td>\n",
       "      <td>3.601221</td>\n",
       "      <td>town</td>\n",
       "      <td>POLYGON ((3.603473152252253 36.7864064, 3.6034...</td>\n",
       "    </tr>\n",
       "    <tr>\n",
       "      <th>5</th>\n",
       "      <td>Algeria</td>\n",
       "      <td>253291208</td>\n",
       "      <td>Lakhdaria</td>\n",
       "      <td>36.563944</td>\n",
       "      <td>3.596907</td>\n",
       "      <td>town</td>\n",
       "      <td>POLYGON ((3.599159252252252 36.5639442, 3.5991...</td>\n",
       "    </tr>\n",
       "  </tbody>\n",
       "</table>\n",
       "</div>"
      ],
      "text/plain": [
       "   country     osm_id     osm_name        lat       lon osm_type  \\\n",
       "0  Algeria   89369215  Tamanrasset  22.785454  5.532446     town   \n",
       "1  Algeria   89980948     In Salah  27.195033  2.482613     town   \n",
       "2  Algeria  252600742    Boumerdès  36.758882  3.470596     town   \n",
       "3  Algeria  253167052       Thenia  36.724986  3.556935     town   \n",
       "4  Algeria  253167208     Zemmouri  36.786406  3.601221     town   \n",
       "5  Algeria  253291208    Lakhdaria  36.563944  3.596907     town   \n",
       "\n",
       "                                            geometry  \n",
       "0  POLYGON ((5.534698752252252 22.7854543, 5.5346...  \n",
       "1  POLYGON ((2.484865452252253 27.1950331, 2.4848...  \n",
       "2  POLYGON ((3.472848252252252 36.758882, 3.47283...  \n",
       "3  POLYGON ((3.559187252252252 36.724986, 3.55917...  \n",
       "4  POLYGON ((3.603473152252253 36.7864064, 3.6034...  \n",
       "5  POLYGON ((3.599159252252252 36.5639442, 3.5991...  "
      ]
     },
     "execution_count": 14,
     "metadata": {},
     "output_type": "execute_result"
    }
   ],
   "source": [
    "# drop point geom and keep buffered\n",
    "\n",
    "osm_buffer_gdf = osm_buffer_gdf.drop(['old_geom'], axis=1)\n",
    "osm_buffer_gdf.head(6)"
   ]
  },
  {
   "cell_type": "code",
   "execution_count": 15,
   "metadata": {},
   "outputs": [
    {
     "data": {
      "text/html": [
       "<div>\n",
       "<style scoped>\n",
       "    .dataframe tbody tr th:only-of-type {\n",
       "        vertical-align: middle;\n",
       "    }\n",
       "\n",
       "    .dataframe tbody tr th {\n",
       "        vertical-align: top;\n",
       "    }\n",
       "\n",
       "    .dataframe thead th {\n",
       "        text-align: right;\n",
       "    }\n",
       "</style>\n",
       "<table border=\"1\" class=\"dataframe\">\n",
       "  <thead>\n",
       "    <tr style=\"text-align: right;\">\n",
       "      <th></th>\n",
       "      <th>FID</th>\n",
       "      <th>geometry</th>\n",
       "    </tr>\n",
       "  </thead>\n",
       "  <tbody>\n",
       "    <tr>\n",
       "      <th>0</th>\n",
       "      <td>15000</td>\n",
       "      <td>POLYGON ((8.383333 7.008333, 8.383333 7, 8.375...</td>\n",
       "    </tr>\n",
       "    <tr>\n",
       "      <th>1</th>\n",
       "      <td>15001</td>\n",
       "      <td>POLYGON ((11.783333 6.758333, 11.816667 6.7583...</td>\n",
       "    </tr>\n",
       "    <tr>\n",
       "      <th>2</th>\n",
       "      <td>15002</td>\n",
       "      <td>POLYGON ((-7.783333 6.958333, -7.775 6.958333,...</td>\n",
       "    </tr>\n",
       "    <tr>\n",
       "      <th>3</th>\n",
       "      <td>15003</td>\n",
       "      <td>POLYGON ((-3.2 6.025, -3.183333 6.025, -3.1833...</td>\n",
       "    </tr>\n",
       "    <tr>\n",
       "      <th>4</th>\n",
       "      <td>15004</td>\n",
       "      <td>POLYGON ((1.8 20.441667, 1.816667 20.441667, 1...</td>\n",
       "    </tr>\n",
       "  </tbody>\n",
       "</table>\n",
       "</div>"
      ],
      "text/plain": [
       "     FID                                           geometry\n",
       "0  15000  POLYGON ((8.383333 7.008333, 8.383333 7, 8.375...\n",
       "1  15001  POLYGON ((11.783333 6.758333, 11.816667 6.7583...\n",
       "2  15002  POLYGON ((-7.783333 6.958333, -7.775 6.958333,...\n",
       "3  15003  POLYGON ((-3.2 6.025, -3.183333 6.025, -3.1833...\n",
       "4  15004  POLYGON ((1.8 20.441667, 1.816667 20.441667, 1..."
      ]
     },
     "execution_count": 15,
     "metadata": {},
     "output_type": "execute_result"
    }
   ],
   "source": [
    "polygons.head()"
   ]
  },
  {
   "cell_type": "markdown",
   "metadata": {},
   "source": [
    "#### Change CRS if needed"
   ]
  },
  {
   "cell_type": "code",
   "execution_count": null,
   "metadata": {},
   "outputs": [],
   "source": [
    "polygons.crs"
   ]
  },
  {
   "cell_type": "code",
   "execution_count": null,
   "metadata": {},
   "outputs": [],
   "source": [
    "osm_buffer_gdf.crs"
   ]
  },
  {
   "cell_type": "code",
   "execution_count": null,
   "metadata": {},
   "outputs": [],
   "source": [
    "# For GHS CRS\n",
    "\n",
    "crs = {'ellps': 'WGS84',\n",
    " 'lon_0': 0,\n",
    " 'no_defs': True,\n",
    " 'proj': 'moll',\n",
    " 'units': 'm',\n",
    " 'x_0': 0,\n",
    " 'y_0': 0}"
   ]
  },
  {
   "cell_type": "code",
   "execution_count": null,
   "metadata": {},
   "outputs": [],
   "source": [
    "raster_polygons.crs = crs"
   ]
  },
  {
   "cell_type": "code",
   "execution_count": null,
   "metadata": {},
   "outputs": [],
   "source": [
    "raster_polygons_crs = raster_polygons.to_crs(osm_buffer_gdf.crs)"
   ]
  },
  {
   "cell_type": "code",
   "execution_count": null,
   "metadata": {},
   "outputs": [],
   "source": [
    "# For GHS make FID and reset crs\n",
    "FID = list(range(len(raster_polygons)))\n",
    "raster_polygons['DN'] = FID\n",
    "raster_polygons.columns.values[0] = \"FID\""
   ]
  },
  {
   "cell_type": "code",
   "execution_count": null,
   "metadata": {
    "scrolled": true
   },
   "outputs": [],
   "source": [
    "raster_polygons.head()"
   ]
  },
  {
   "cell_type": "markdown",
   "metadata": {},
   "source": [
    "### Intersection"
   ]
  },
  {
   "cell_type": "code",
   "execution_count": null,
   "metadata": {},
   "outputs": [],
   "source": [
    "# run poly_overlap\n",
    "\n",
    "import time\n",
    "checkpoint = time.time()\n",
    "\n",
    "poly_overlap_out = poly_overlap(osm_buffer_gdf, polygons)\n",
    "\n",
    "print(\"elapsed time is: {}s\".format(time.time()-checkpoint))\n",
    "print(len(poly_overlap_out))"
   ]
  },
  {
   "cell_type": "code",
   "execution_count": 20,
   "metadata": {},
   "outputs": [
    {
     "name": "stdout",
     "output_type": "stream",
     "text": [
      "2163\n"
     ]
    }
   ],
   "source": [
    "print(len(poly_overlap_out))"
   ]
  },
  {
   "cell_type": "code",
   "execution_count": 21,
   "metadata": {
    "scrolled": true
   },
   "outputs": [
    {
     "data": {
      "text/html": [
       "<div>\n",
       "<style scoped>\n",
       "    .dataframe tbody tr th:only-of-type {\n",
       "        vertical-align: middle;\n",
       "    }\n",
       "\n",
       "    .dataframe tbody tr th {\n",
       "        vertical-align: top;\n",
       "    }\n",
       "\n",
       "    .dataframe thead th {\n",
       "        text-align: right;\n",
       "    }\n",
       "</style>\n",
       "<table border=\"1\" class=\"dataframe\">\n",
       "  <thead>\n",
       "    <tr style=\"text-align: right;\">\n",
       "      <th></th>\n",
       "      <th>osm_id</th>\n",
       "      <th>FID</th>\n",
       "      <th>geometry</th>\n",
       "      <th>country</th>\n",
       "      <th>osm_name</th>\n",
       "      <th>osm_type</th>\n",
       "      <th>lat</th>\n",
       "      <th>lon</th>\n",
       "    </tr>\n",
       "  </thead>\n",
       "  <tbody>\n",
       "    <tr>\n",
       "      <th>2143</th>\n",
       "      <td>351540931</td>\n",
       "      <td>23449</td>\n",
       "      <td>POLYGON ((-13.775 13.166667, -13.75 13.166667,...</td>\n",
       "      <td>Senegal</td>\n",
       "      <td>Madina Gounass</td>\n",
       "      <td>city</td>\n",
       "      <td>13.138886</td>\n",
       "      <td>-13.760137</td>\n",
       "    </tr>\n",
       "    <tr>\n",
       "      <th>2144</th>\n",
       "      <td>671824694</td>\n",
       "      <td>17950</td>\n",
       "      <td>POLYGON ((-16.916667 14.833333, -16.9 14.83333...</td>\n",
       "      <td>Senegal</td>\n",
       "      <td>Thiès</td>\n",
       "      <td>city</td>\n",
       "      <td>14.791461</td>\n",
       "      <td>-16.925605</td>\n",
       "    </tr>\n",
       "    <tr>\n",
       "      <th>2145</th>\n",
       "      <td>1158142391</td>\n",
       "      <td>17948</td>\n",
       "      <td>POLYGON ((-17.158333 14.833333, -17.15 14.8333...</td>\n",
       "      <td>Senegal</td>\n",
       "      <td>Guédiawaye</td>\n",
       "      <td>city</td>\n",
       "      <td>14.777121</td>\n",
       "      <td>-17.390071</td>\n",
       "    </tr>\n",
       "    <tr>\n",
       "      <th>2146</th>\n",
       "      <td>1917652469</td>\n",
       "      <td>25500</td>\n",
       "      <td>POLYGON ((-16.233333 12.825, -16.216667 12.825...</td>\n",
       "      <td>Senegal</td>\n",
       "      <td>Bignona</td>\n",
       "      <td>city</td>\n",
       "      <td>12.801133</td>\n",
       "      <td>-16.228970</td>\n",
       "    </tr>\n",
       "    <tr>\n",
       "      <th>2147</th>\n",
       "      <td>2147483647</td>\n",
       "      <td>20123</td>\n",
       "      <td>POLYGON ((-14.816667 13.991667, -14.8 13.99166...</td>\n",
       "      <td>Senegal</td>\n",
       "      <td>Koungheul</td>\n",
       "      <td>city</td>\n",
       "      <td>13.979578</td>\n",
       "      <td>-14.803538</td>\n",
       "    </tr>\n",
       "    <tr>\n",
       "      <th>2148</th>\n",
       "      <td>2147483647</td>\n",
       "      <td>19500</td>\n",
       "      <td>POLYGON ((-16.075 14.2, -16.066667 14.2, -16.0...</td>\n",
       "      <td>Senegal</td>\n",
       "      <td>Kaolack</td>\n",
       "      <td>city</td>\n",
       "      <td>14.138815</td>\n",
       "      <td>-16.076391</td>\n",
       "    </tr>\n",
       "    <tr>\n",
       "      <th>2149</th>\n",
       "      <td>2147483647</td>\n",
       "      <td>17948</td>\n",
       "      <td>POLYGON ((-17.158333 14.833333, -17.15 14.8333...</td>\n",
       "      <td>Senegal</td>\n",
       "      <td>Parcelles Assainies</td>\n",
       "      <td>city</td>\n",
       "      <td>14.759407</td>\n",
       "      <td>-17.438455</td>\n",
       "    </tr>\n",
       "    <tr>\n",
       "      <th>2150</th>\n",
       "      <td>2147483647</td>\n",
       "      <td>17948</td>\n",
       "      <td>POLYGON ((-17.158333 14.833333, -17.15 14.8333...</td>\n",
       "      <td>Senegal</td>\n",
       "      <td>Dakar</td>\n",
       "      <td>city</td>\n",
       "      <td>14.693425</td>\n",
       "      <td>-17.447938</td>\n",
       "    </tr>\n",
       "    <tr>\n",
       "      <th>2151</th>\n",
       "      <td>27565056</td>\n",
       "      <td>17681</td>\n",
       "      <td>POLYGON ((-13.05 8.308332999999999, -13.05 8.3...</td>\n",
       "      <td>Sierra Leone</td>\n",
       "      <td>Freetown</td>\n",
       "      <td>city</td>\n",
       "      <td>8.479004</td>\n",
       "      <td>-13.267950</td>\n",
       "    </tr>\n",
       "    <tr>\n",
       "      <th>2152</th>\n",
       "      <td>314001434</td>\n",
       "      <td>16910</td>\n",
       "      <td>POLYGON ((-11.716667 7.941667, -11.716667 7.91...</td>\n",
       "      <td>Sierra Leone</td>\n",
       "      <td>Bo</td>\n",
       "      <td>city</td>\n",
       "      <td>7.962065</td>\n",
       "      <td>-11.736650</td>\n",
       "    </tr>\n",
       "    <tr>\n",
       "      <th>2153</th>\n",
       "      <td>314005602</td>\n",
       "      <td>16699</td>\n",
       "      <td>POLYGON ((-11.175 7.858333, -11.175 7.85, -11....</td>\n",
       "      <td>Sierra Leone</td>\n",
       "      <td>Kenema</td>\n",
       "      <td>city</td>\n",
       "      <td>7.885936</td>\n",
       "      <td>-11.186390</td>\n",
       "    </tr>\n",
       "    <tr>\n",
       "      <th>2154</th>\n",
       "      <td>314007819</td>\n",
       "      <td>18189</td>\n",
       "      <td>POLYGON ((-11 8.616667, -11 8.608333, -11.0083...</td>\n",
       "      <td>Sierra Leone</td>\n",
       "      <td>Koidu</td>\n",
       "      <td>city</td>\n",
       "      <td>8.642281</td>\n",
       "      <td>-10.971631</td>\n",
       "    </tr>\n",
       "    <tr>\n",
       "      <th>2155</th>\n",
       "      <td>320058940</td>\n",
       "      <td>19164</td>\n",
       "      <td>POLYGON ((-12.95 9.108333, -12.941667 9.108333...</td>\n",
       "      <td>Sierra Leone</td>\n",
       "      <td>Kambia</td>\n",
       "      <td>city</td>\n",
       "      <td>9.125073</td>\n",
       "      <td>-12.919337</td>\n",
       "    </tr>\n",
       "    <tr>\n",
       "      <th>2156</th>\n",
       "      <td>437337175</td>\n",
       "      <td>18821</td>\n",
       "      <td>POLYGON ((-12.05 8.916667, -12.041667 8.916667...</td>\n",
       "      <td>Sierra Leone</td>\n",
       "      <td>Makeni</td>\n",
       "      <td>city</td>\n",
       "      <td>8.884740</td>\n",
       "      <td>-12.049120</td>\n",
       "    </tr>\n",
       "    <tr>\n",
       "      <th>2157</th>\n",
       "      <td>2132436578</td>\n",
       "      <td>17681</td>\n",
       "      <td>POLYGON ((-13.05 8.308332999999999, -13.05 8.3...</td>\n",
       "      <td>Sierra Leone</td>\n",
       "      <td>Waterloo</td>\n",
       "      <td>city</td>\n",
       "      <td>8.338977</td>\n",
       "      <td>-13.069573</td>\n",
       "    </tr>\n",
       "    <tr>\n",
       "      <th>2158</th>\n",
       "      <td>279670201</td>\n",
       "      <td>23419</td>\n",
       "      <td>POLYGON ((0.208333 10.9, 0.216667 10.9, 0.2166...</td>\n",
       "      <td>Togo</td>\n",
       "      <td>Dapaong</td>\n",
       "      <td>city</td>\n",
       "      <td>10.859545</td>\n",
       "      <td>0.204312</td>\n",
       "    </tr>\n",
       "    <tr>\n",
       "      <th>2159</th>\n",
       "      <td>279670448</td>\n",
       "      <td>21997</td>\n",
       "      <td>POLYGON ((0.475 10.341667, 0.475 10.333333, 0....</td>\n",
       "      <td>Togo</td>\n",
       "      <td>Sansanné-Mango</td>\n",
       "      <td>city</td>\n",
       "      <td>10.357191</td>\n",
       "      <td>0.476886</td>\n",
       "    </tr>\n",
       "    <tr>\n",
       "      <th>2160</th>\n",
       "      <td>1952227085</td>\n",
       "      <td>18861</td>\n",
       "      <td>POLYGON ((1.116667 9.008333, 1.125 9.008333, 1...</td>\n",
       "      <td>Togo</td>\n",
       "      <td>Sokodé</td>\n",
       "      <td>city</td>\n",
       "      <td>8.983319</td>\n",
       "      <td>1.143815</td>\n",
       "    </tr>\n",
       "    <tr>\n",
       "      <th>2161</th>\n",
       "      <td>2147483647</td>\n",
       "      <td>20339</td>\n",
       "      <td>POLYGON ((1.225 9.558332999999999, 1.225 9.541...</td>\n",
       "      <td>Togo</td>\n",
       "      <td>Kara</td>\n",
       "      <td>city</td>\n",
       "      <td>9.548767</td>\n",
       "      <td>1.198086</td>\n",
       "    </tr>\n",
       "    <tr>\n",
       "      <th>2162</th>\n",
       "      <td>2147483647</td>\n",
       "      <td>16266</td>\n",
       "      <td>POLYGON ((1.091667 7.541667, 1.1 7.541667, 1.1...</td>\n",
       "      <td>Togo</td>\n",
       "      <td>Atakpamé</td>\n",
       "      <td>city</td>\n",
       "      <td>7.532060</td>\n",
       "      <td>1.121948</td>\n",
       "    </tr>\n",
       "  </tbody>\n",
       "</table>\n",
       "</div>"
      ],
      "text/plain": [
       "          osm_id    FID                                           geometry  \\\n",
       "2143   351540931  23449  POLYGON ((-13.775 13.166667, -13.75 13.166667,...   \n",
       "2144   671824694  17950  POLYGON ((-16.916667 14.833333, -16.9 14.83333...   \n",
       "2145  1158142391  17948  POLYGON ((-17.158333 14.833333, -17.15 14.8333...   \n",
       "2146  1917652469  25500  POLYGON ((-16.233333 12.825, -16.216667 12.825...   \n",
       "2147  2147483647  20123  POLYGON ((-14.816667 13.991667, -14.8 13.99166...   \n",
       "2148  2147483647  19500  POLYGON ((-16.075 14.2, -16.066667 14.2, -16.0...   \n",
       "2149  2147483647  17948  POLYGON ((-17.158333 14.833333, -17.15 14.8333...   \n",
       "2150  2147483647  17948  POLYGON ((-17.158333 14.833333, -17.15 14.8333...   \n",
       "2151    27565056  17681  POLYGON ((-13.05 8.308332999999999, -13.05 8.3...   \n",
       "2152   314001434  16910  POLYGON ((-11.716667 7.941667, -11.716667 7.91...   \n",
       "2153   314005602  16699  POLYGON ((-11.175 7.858333, -11.175 7.85, -11....   \n",
       "2154   314007819  18189  POLYGON ((-11 8.616667, -11 8.608333, -11.0083...   \n",
       "2155   320058940  19164  POLYGON ((-12.95 9.108333, -12.941667 9.108333...   \n",
       "2156   437337175  18821  POLYGON ((-12.05 8.916667, -12.041667 8.916667...   \n",
       "2157  2132436578  17681  POLYGON ((-13.05 8.308332999999999, -13.05 8.3...   \n",
       "2158   279670201  23419  POLYGON ((0.208333 10.9, 0.216667 10.9, 0.2166...   \n",
       "2159   279670448  21997  POLYGON ((0.475 10.341667, 0.475 10.333333, 0....   \n",
       "2160  1952227085  18861  POLYGON ((1.116667 9.008333, 1.125 9.008333, 1...   \n",
       "2161  2147483647  20339  POLYGON ((1.225 9.558332999999999, 1.225 9.541...   \n",
       "2162  2147483647  16266  POLYGON ((1.091667 7.541667, 1.1 7.541667, 1.1...   \n",
       "\n",
       "           country             osm_name osm_type        lat        lon  \n",
       "2143       Senegal       Madina Gounass     city  13.138886 -13.760137  \n",
       "2144       Senegal                Thiès     city  14.791461 -16.925605  \n",
       "2145       Senegal           Guédiawaye     city  14.777121 -17.390071  \n",
       "2146       Senegal              Bignona     city  12.801133 -16.228970  \n",
       "2147       Senegal            Koungheul     city  13.979578 -14.803538  \n",
       "2148       Senegal              Kaolack     city  14.138815 -16.076391  \n",
       "2149       Senegal  Parcelles Assainies     city  14.759407 -17.438455  \n",
       "2150       Senegal                Dakar     city  14.693425 -17.447938  \n",
       "2151  Sierra Leone             Freetown     city   8.479004 -13.267950  \n",
       "2152  Sierra Leone                   Bo     city   7.962065 -11.736650  \n",
       "2153  Sierra Leone               Kenema     city   7.885936 -11.186390  \n",
       "2154  Sierra Leone                Koidu     city   8.642281 -10.971631  \n",
       "2155  Sierra Leone               Kambia     city   9.125073 -12.919337  \n",
       "2156  Sierra Leone               Makeni     city   8.884740 -12.049120  \n",
       "2157  Sierra Leone             Waterloo     city   8.338977 -13.069573  \n",
       "2158          Togo              Dapaong     city  10.859545   0.204312  \n",
       "2159          Togo       Sansanné-Mango     city  10.357191   0.476886  \n",
       "2160          Togo               Sokodé     city   8.983319   1.143815  \n",
       "2161          Togo                 Kara     city   9.548767   1.198086  \n",
       "2162          Togo             Atakpamé     city   7.532060   1.121948  "
      ]
     },
     "execution_count": 21,
     "metadata": {},
     "output_type": "execute_result"
    }
   ],
   "source": [
    "poly_overlap_out.tail(20)"
   ]
  },
  {
   "cell_type": "code",
   "execution_count": 22,
   "metadata": {},
   "outputs": [
    {
     "name": "stderr",
     "output_type": "stream",
     "text": [
      "/home/cascade/miniconda3/envs/geo/lib/python3.6/site-packages/geopandas/io/file.py:108: FionaDeprecationWarning: Use fiona.Env() instead.\n",
      "  with fiona.drivers():\n"
     ]
    }
   ],
   "source": [
    "poly_overlap_out.to_file(erl_v2_data+out+'.shp', driver='ESRI Shapefile')"
   ]
  }
 ],
 "metadata": {
  "kernelspec": {
   "display_name": "Python [conda env:geo]",
   "language": "python",
   "name": "conda-env-geo-py"
  },
  "language_info": {
   "codemirror_mode": {
    "name": "ipython",
    "version": 3
   },
   "file_extension": ".py",
   "mimetype": "text/x-python",
   "name": "python",
   "nbconvert_exporter": "python",
   "pygments_lexer": "ipython3",
   "version": "3.6.7"
  }
 },
 "nbformat": 4,
 "nbformat_minor": 2
}
