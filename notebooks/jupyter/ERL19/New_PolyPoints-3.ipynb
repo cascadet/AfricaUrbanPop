{
 "cells": [
  {
   "cell_type": "markdown",
   "metadata": {},
   "source": [
    "# NoteBook To Check Point or Polygon Inside Polygon\n",
    "\n",
    "The objective of this notebook is to search a set of points or polygons for spatial overlap with a largerset\n",
    "\n",
    "By Cascsde Tuholske 2019-01-17\n",
    "\n",
    "#### Notes\n",
    "1. Points should be dialated to circles to prevent one falling just outside the larger polygon set (see Lusaka)"
   ]
  },
  {
   "cell_type": "markdown",
   "metadata": {},
   "source": [
    "### Depedencies"
   ]
  },
  {
   "cell_type": "code",
   "execution_count": 1,
   "metadata": {},
   "outputs": [],
   "source": [
    "import pandas as pd\n",
    "import geopandas as gpd\n",
    "from shapely.geometry import Point\n",
    "from shapely.geometry import mapping\n",
    "from shapely.geometry import Polygon\n",
    "from shapely.geometry import shape\n",
    "import ast\n",
    "from shapely.geometry import mapping\n",
    "import rasterio\n",
    "import copy"
   ]
  },
  {
   "cell_type": "markdown",
   "metadata": {},
   "source": [
    "### Functions"
   ]
  },
  {
   "cell_type": "code",
   "execution_count": 2,
   "metadata": {},
   "outputs": [],
   "source": [
    "def load_points (file):\n",
    "    \"\"\" This function loads a csv \n",
    "    of points and turns it into shapely points\"\"\"\n",
    "    df = pd.read_csv(file)\n",
    "\n",
    "    # creating a geometry column \n",
    "    geometry = [Point(xy) for xy in zip(df['lon'], df['lat'])]\n",
    "\n",
    "    # Coordinate reference system : WGS84\n",
    "    crs = {'init': 'epsg:4326'}\n",
    "\n",
    "    # Creating a Geographic data frame \n",
    "    point_gdf = gpd.GeoDataFrame(df, crs=crs, geometry=geometry)\n",
    "    \n",
    "    return point_gdf"
   ]
  },
  {
   "cell_type": "code",
   "execution_count": 3,
   "metadata": {},
   "outputs": [],
   "source": [
    "def point_buffer(gpd_df, raduis):\n",
    "    \"Function to make a shapely polygon buffer around a point\"\n",
    "   \n",
    "    # AGU 2018-12-04 - radius set to ~250m at the equator \n",
    "    #radius = 250*1/(111*1000)\n",
    "\n",
    "    # new_gpd_df = gpd.GeoDataFrame()\n",
    "    gpd_df.rename(columns={'geometry':'old_geom'}, inplace=True)\n",
    "    \n",
    "    arr = []\n",
    "    \n",
    "    for point in gpd_df['old_geom']:\n",
    "        buffer = point.buffer(radius)\n",
    "        arr.append((buffer))\n",
    "    \n",
    "    gpd_df['geometry'] = arr\n",
    "    \n",
    "    return gpd_df"
   ]
  },
  {
   "cell_type": "code",
   "execution_count": 4,
   "metadata": {},
   "outputs": [],
   "source": [
    "def poly_point (poly, point):\n",
    "    \"\"\"\n",
    "    This function will check if points are inside polygons if given two gpd dataframes with points and polygons\n",
    "    Returns point ids, point geometry, polygon index # and polygon geometry\n",
    "    \"\"\"\n",
    "    \n",
    "    out_arr = [] #return an array <<< ---------------- ASK RYAN IF BETTER DO USE DICT \n",
    "    \n",
    "    for index_point, row_point in point.iterrows():\n",
    "        for index_poly, row_poly in poly.iterrows():\n",
    "            if row_point['geometry'].within(row_poly['geometry']):\n",
    "                point_id = row_point['id']\n",
    "                point_geom = mapping(row_point['geometry']) # makes a dict w/ keys : type and cood\n",
    "                poly_id = index_poly\n",
    "                poly_geom = mapping(row_poly['geometry']) # makes a dict w/ keys : type and cood\n",
    "                \n",
    "                out_arr.append((point_id, \n",
    "                                point_geom, \n",
    "                                poly_id, \n",
    "                                poly_geom))\n",
    "\n",
    "    return out_arr\n",
    "\n",
    "# Note 2018-11-30 update arr to gpd_df "
   ]
  },
  {
   "cell_type": "code",
   "execution_count": 5,
   "metadata": {},
   "outputs": [],
   "source": [
    "def poly_overlap (point_buffer, poly_raster):\n",
    "    \"\"\"\n",
    "    This function will check if point buffers intersect with polygons \n",
    "    if given two gpd dataframes with point buffers and polygons\n",
    "    Returns point ids, point geometry, polygon index #, and polygon geometry in a geopandas DF.\n",
    "    It goes faster if smaller list goes first\n",
    "    \n",
    "    Change TOWN & CITY ARRA\n",
    "    \"\"\"\n",
    "    \n",
    "    # make arrays to fill\n",
    "    country_arr = []\n",
    "    osm_name_arr = []\n",
    "    osm_type_arr = []\n",
    "    lat_arr = []\n",
    "    lon_arr = []\n",
    "    osm_id_arr = [] \n",
    "    FID_arr = [] \n",
    "    poly_geom_arr = []\n",
    "    #point_geom_arr = []\n",
    "    \n",
    "    for index_point_buffer, row_point_buffer in point_buffer.iterrows():\n",
    "        for index_poly_raster, row_poly_raster in poly_raster.iterrows():\n",
    "            if row_point_buffer['geometry'].intersects(row_poly_raster['geometry']):\n",
    "                country = row_point_buffer['country']\n",
    "                osm_name = row_point_buffer['osm_name'] \n",
    "                osm_type = row_point_buffer['osm_type']\n",
    "                lat = row_point_buffer['lat']\n",
    "                lon = row_point_buffer['lon']\n",
    "                osm_id = row_point_buffer['osm_id']\n",
    "                poly_id = row_poly_raster['FID']\n",
    "                poly_geom = shape(mapping(row_poly_raster['geometry'])) # make polygon\n",
    "                #point_geom = row_point_buffer['old_geom']\n",
    "\n",
    "                country_arr.append((country))\n",
    "                osm_name_arr.append((osm_name))\n",
    "                osm_type_arr.append((osm_type))\n",
    "                lat_arr.append((lat))\n",
    "                lon_arr.append((lon))\n",
    "                osm_id_arr.append((osm_id))\n",
    "                FID_arr.append((poly_id))\n",
    "                poly_geom_arr.append((poly_geom))\n",
    "                #point_geom_arr.append((point_geom))\n",
    "    \n",
    "    # put results into a geopandas df\n",
    "    new_gpd_df = gpd.GeoDataFrame()\n",
    "    new_gpd_df['osm_id'] = osm_id_arr\n",
    "    new_gpd_df['FID'] = FID_arr\n",
    "    new_gpd_df['geometry'] = poly_geom_arr\n",
    "    new_gpd_df['country'] = country_arr           \n",
    "    new_gpd_df['osm_name'] = osm_name_arr\n",
    "    new_gpd_df['osm_type'] = osm_type_arr\n",
    "    new_gpd_df['lat'] = lat_arr\n",
    "    new_gpd_df['lon'] = lon_arr\n",
    "    #new_gpd_df['point_geom'] = point_geom_arr\n",
    "    \n",
    "    \n",
    "    return new_gpd_df\n",
    "\n",
    "# Note 2018-11-30 update arr to gpd_df \n",
    "# Note 2019-04-30 updated to use osm_name instead of city/town for the OSM name"
   ]
  },
  {
   "cell_type": "markdown",
   "metadata": {},
   "source": [
    "### Load Data"
   ]
  },
  {
   "cell_type": "code",
   "execution_count": 6,
   "metadata": {},
   "outputs": [
    {
     "data": {
      "text/plain": [
       "'/tana-crunch/cascade/projects/Pop-ERL/notebooks/jupyter/ERL19'"
      ]
     },
     "execution_count": 6,
     "metadata": {},
     "output_type": "execute_result"
    }
   ],
   "source": [
    "import os\n",
    "os.getcwd()"
   ]
  },
  {
   "cell_type": "code",
   "execution_count": 7,
   "metadata": {},
   "outputs": [],
   "source": [
    "# File Paths\n",
    "temp_data = '../../../temp_data/ERL19/'\n",
    "erl_v2_data  = '../../../temp_data/ERL19v2/'"
   ]
  },
  {
   "cell_type": "code",
   "execution_count": 8,
   "metadata": {},
   "outputs": [
    {
     "name": "stdout",
     "output_type": "stream",
     "text": [
      "9813\n"
     ]
    }
   ],
   "source": [
    "# Load Points\n",
    "points = gpd.read_file(erl_v2_data+'20190430_osm_All.shp')\n",
    "print(len(points))\n"
   ]
  },
  {
   "cell_type": "code",
   "execution_count": 9,
   "metadata": {},
   "outputs": [
    {
     "name": "stdout",
     "output_type": "stream",
     "text": [
      "15281\n"
     ]
    }
   ],
   "source": [
    "\n",
    "# Load Polygons\n",
    "polygons = gpd.read_file(temp_data+'GHS_POP_GPW42000_GLOBE_R2015A_54009_1k_v1_0_Clip_1500c300_C.shp')\n",
    "print(len(polygons))\n",
    "    \n",
    "#Out File Name\n",
    "out = 'GHS_POP_GPW42000_GLOBE_R2015A_54009_1k_v1_0_Clip_1500c300_C_polypoints'"
   ]
  },
  {
   "cell_type": "code",
   "execution_count": 10,
   "metadata": {},
   "outputs": [
    {
     "data": {
      "text/html": [
       "<div>\n",
       "<style scoped>\n",
       "    .dataframe tbody tr th:only-of-type {\n",
       "        vertical-align: middle;\n",
       "    }\n",
       "\n",
       "    .dataframe tbody tr th {\n",
       "        vertical-align: top;\n",
       "    }\n",
       "\n",
       "    .dataframe thead th {\n",
       "        text-align: right;\n",
       "    }\n",
       "</style>\n",
       "<table border=\"1\" class=\"dataframe\">\n",
       "  <thead>\n",
       "    <tr style=\"text-align: right;\">\n",
       "      <th></th>\n",
       "      <th>FID</th>\n",
       "      <th>geometry</th>\n",
       "    </tr>\n",
       "  </thead>\n",
       "  <tbody>\n",
       "    <tr>\n",
       "      <th>0</th>\n",
       "      <td>30000</td>\n",
       "      <td>POLYGON ((3507405.452556469 -32970.53813151084...</td>\n",
       "    </tr>\n",
       "    <tr>\n",
       "      <th>1</th>\n",
       "      <td>30001</td>\n",
       "      <td>POLYGON ((3582405.452556469 -32970.53813151084...</td>\n",
       "    </tr>\n",
       "    <tr>\n",
       "      <th>2</th>\n",
       "      <td>30002</td>\n",
       "      <td>POLYGON ((3593405.452556469 -32970.53813151084...</td>\n",
       "    </tr>\n",
       "    <tr>\n",
       "      <th>3</th>\n",
       "      <td>30003</td>\n",
       "      <td>POLYGON ((3644405.452556469 -32970.53813151084...</td>\n",
       "    </tr>\n",
       "    <tr>\n",
       "      <th>4</th>\n",
       "      <td>30004</td>\n",
       "      <td>POLYGON ((3808405.452556469 -32970.53813151084...</td>\n",
       "    </tr>\n",
       "  </tbody>\n",
       "</table>\n",
       "</div>"
      ],
      "text/plain": [
       "     FID                                           geometry\n",
       "0  30000  POLYGON ((3507405.452556469 -32970.53813151084...\n",
       "1  30001  POLYGON ((3582405.452556469 -32970.53813151084...\n",
       "2  30002  POLYGON ((3593405.452556469 -32970.53813151084...\n",
       "3  30003  POLYGON ((3644405.452556469 -32970.53813151084...\n",
       "4  30004  POLYGON ((3808405.452556469 -32970.53813151084..."
      ]
     },
     "execution_count": 10,
     "metadata": {},
     "output_type": "execute_result"
    }
   ],
   "source": [
    "polygons.head()"
   ]
  },
  {
   "cell_type": "markdown",
   "metadata": {},
   "source": [
    "#### Change CRS if needed\n",
    "\n",
    "For GHS-Pop, tranform points into ESRI:54009 for polysearch"
   ]
  },
  {
   "cell_type": "code",
   "execution_count": 11,
   "metadata": {},
   "outputs": [
    {
     "data": {
      "text/plain": [
       "{'proj': 'moll',\n",
       " 'lon_0': 0,\n",
       " 'x_0': 0,\n",
       " 'y_0': 0,\n",
       " 'ellps': 'WGS84',\n",
       " 'units': 'm',\n",
       " 'no_defs': True}"
      ]
     },
     "execution_count": 11,
     "metadata": {},
     "output_type": "execute_result"
    }
   ],
   "source": [
    "polygons.crs"
   ]
  },
  {
   "cell_type": "code",
   "execution_count": 12,
   "metadata": {},
   "outputs": [
    {
     "data": {
      "text/plain": [
       "{'init': 'epsg:4326'}"
      ]
     },
     "execution_count": 12,
     "metadata": {},
     "output_type": "execute_result"
    }
   ],
   "source": [
    "points.crs"
   ]
  },
  {
   "cell_type": "code",
   "execution_count": 13,
   "metadata": {},
   "outputs": [],
   "source": [
    "# For GHS CRS\n",
    "\n",
    "crs = {'ellps': 'WGS84',\n",
    " 'lon_0': 0,\n",
    " 'no_defs': True,\n",
    " 'proj': 'moll',\n",
    " 'units': 'm',\n",
    " 'x_0': 0,\n",
    " 'y_0': 0}"
   ]
  },
  {
   "cell_type": "code",
   "execution_count": 14,
   "metadata": {},
   "outputs": [],
   "source": [
    "polygons.crs = crs"
   ]
  },
  {
   "cell_type": "code",
   "execution_count": 15,
   "metadata": {},
   "outputs": [
    {
     "data": {
      "text/plain": [
       "{'ellps': 'WGS84',\n",
       " 'lon_0': 0,\n",
       " 'no_defs': True,\n",
       " 'proj': 'moll',\n",
       " 'units': 'm',\n",
       " 'x_0': 0,\n",
       " 'y_0': 0}"
      ]
     },
     "execution_count": 15,
     "metadata": {},
     "output_type": "execute_result"
    }
   ],
   "source": [
    "polygons.crs"
   ]
  },
  {
   "cell_type": "code",
   "execution_count": 16,
   "metadata": {},
   "outputs": [
    {
     "data": {
      "text/html": [
       "<div>\n",
       "<style scoped>\n",
       "    .dataframe tbody tr th:only-of-type {\n",
       "        vertical-align: middle;\n",
       "    }\n",
       "\n",
       "    .dataframe tbody tr th {\n",
       "        vertical-align: top;\n",
       "    }\n",
       "\n",
       "    .dataframe thead th {\n",
       "        text-align: right;\n",
       "    }\n",
       "</style>\n",
       "<table border=\"1\" class=\"dataframe\">\n",
       "  <thead>\n",
       "    <tr style=\"text-align: right;\">\n",
       "      <th></th>\n",
       "      <th>country</th>\n",
       "      <th>osm_id</th>\n",
       "      <th>osm_name</th>\n",
       "      <th>lat</th>\n",
       "      <th>lon</th>\n",
       "      <th>osm_type</th>\n",
       "      <th>geometry</th>\n",
       "    </tr>\n",
       "  </thead>\n",
       "  <tbody>\n",
       "    <tr>\n",
       "      <th>0</th>\n",
       "      <td>Algeria</td>\n",
       "      <td>89369215</td>\n",
       "      <td>Tamanrasset</td>\n",
       "      <td>22.785454</td>\n",
       "      <td>5.532446</td>\n",
       "      <td>town</td>\n",
       "      <td>POINT (5.5324465 22.7854543)</td>\n",
       "    </tr>\n",
       "    <tr>\n",
       "      <th>1</th>\n",
       "      <td>Algeria</td>\n",
       "      <td>89980948</td>\n",
       "      <td>In Salah</td>\n",
       "      <td>27.195033</td>\n",
       "      <td>2.482613</td>\n",
       "      <td>town</td>\n",
       "      <td>POINT (2.4826132 27.1950331)</td>\n",
       "    </tr>\n",
       "    <tr>\n",
       "      <th>2</th>\n",
       "      <td>Algeria</td>\n",
       "      <td>252600742</td>\n",
       "      <td>Boumerdès</td>\n",
       "      <td>36.758882</td>\n",
       "      <td>3.470596</td>\n",
       "      <td>town</td>\n",
       "      <td>POINT (3.470596 36.758882)</td>\n",
       "    </tr>\n",
       "    <tr>\n",
       "      <th>3</th>\n",
       "      <td>Algeria</td>\n",
       "      <td>253167052</td>\n",
       "      <td>Thenia</td>\n",
       "      <td>36.724986</td>\n",
       "      <td>3.556935</td>\n",
       "      <td>town</td>\n",
       "      <td>POINT (3.556935 36.724986)</td>\n",
       "    </tr>\n",
       "    <tr>\n",
       "      <th>4</th>\n",
       "      <td>Algeria</td>\n",
       "      <td>253167208</td>\n",
       "      <td>Zemmouri</td>\n",
       "      <td>36.786406</td>\n",
       "      <td>3.601221</td>\n",
       "      <td>town</td>\n",
       "      <td>POINT (3.6012209 36.7864064)</td>\n",
       "    </tr>\n",
       "  </tbody>\n",
       "</table>\n",
       "</div>"
      ],
      "text/plain": [
       "   country     osm_id     osm_name        lat       lon osm_type  \\\n",
       "0  Algeria   89369215  Tamanrasset  22.785454  5.532446     town   \n",
       "1  Algeria   89980948     In Salah  27.195033  2.482613     town   \n",
       "2  Algeria  252600742    Boumerdès  36.758882  3.470596     town   \n",
       "3  Algeria  253167052       Thenia  36.724986  3.556935     town   \n",
       "4  Algeria  253167208     Zemmouri  36.786406  3.601221     town   \n",
       "\n",
       "                       geometry  \n",
       "0  POINT (5.5324465 22.7854543)  \n",
       "1  POINT (2.4826132 27.1950331)  \n",
       "2    POINT (3.470596 36.758882)  \n",
       "3    POINT (3.556935 36.724986)  \n",
       "4  POINT (3.6012209 36.7864064)  "
      ]
     },
     "execution_count": 16,
     "metadata": {},
     "output_type": "execute_result"
    }
   ],
   "source": [
    "points.head()"
   ]
  },
  {
   "cell_type": "code",
   "execution_count": 17,
   "metadata": {},
   "outputs": [],
   "source": [
    "points = points.to_crs(polygons.crs)"
   ]
  },
  {
   "cell_type": "code",
   "execution_count": 18,
   "metadata": {},
   "outputs": [
    {
     "data": {
      "text/html": [
       "<div>\n",
       "<style scoped>\n",
       "    .dataframe tbody tr th:only-of-type {\n",
       "        vertical-align: middle;\n",
       "    }\n",
       "\n",
       "    .dataframe tbody tr th {\n",
       "        vertical-align: top;\n",
       "    }\n",
       "\n",
       "    .dataframe thead th {\n",
       "        text-align: right;\n",
       "    }\n",
       "</style>\n",
       "<table border=\"1\" class=\"dataframe\">\n",
       "  <thead>\n",
       "    <tr style=\"text-align: right;\">\n",
       "      <th></th>\n",
       "      <th>country</th>\n",
       "      <th>osm_id</th>\n",
       "      <th>osm_name</th>\n",
       "      <th>lat</th>\n",
       "      <th>lon</th>\n",
       "      <th>osm_type</th>\n",
       "      <th>geometry</th>\n",
       "    </tr>\n",
       "  </thead>\n",
       "  <tbody>\n",
       "    <tr>\n",
       "      <th>0</th>\n",
       "      <td>Algeria</td>\n",
       "      <td>89369215</td>\n",
       "      <td>Tamanrasset</td>\n",
       "      <td>22.785454</td>\n",
       "      <td>5.532446</td>\n",
       "      <td>town</td>\n",
       "      <td>POINT (527311.6502082234 2788716.35127626)</td>\n",
       "    </tr>\n",
       "    <tr>\n",
       "      <th>1</th>\n",
       "      <td>Algeria</td>\n",
       "      <td>89980948</td>\n",
       "      <td>In Salah</td>\n",
       "      <td>27.195033</td>\n",
       "      <td>2.482613</td>\n",
       "      <td>town</td>\n",
       "      <td>POINT (231414.6222862774 3313817.730679021)</td>\n",
       "    </tr>\n",
       "    <tr>\n",
       "      <th>2</th>\n",
       "      <td>Algeria</td>\n",
       "      <td>252600742</td>\n",
       "      <td>Boumerdès</td>\n",
       "      <td>36.758882</td>\n",
       "      <td>3.470596</td>\n",
       "      <td>town</td>\n",
       "      <td>POINT (303122.9375980464 4424001.504927466)</td>\n",
       "    </tr>\n",
       "    <tr>\n",
       "      <th>3</th>\n",
       "      <td>Algeria</td>\n",
       "      <td>253167052</td>\n",
       "      <td>Thenia</td>\n",
       "      <td>36.724986</td>\n",
       "      <td>3.556935</td>\n",
       "      <td>town</td>\n",
       "      <td>POINT (310749.4720741886 4420148.212193361)</td>\n",
       "    </tr>\n",
       "    <tr>\n",
       "      <th>4</th>\n",
       "      <td>Algeria</td>\n",
       "      <td>253167208</td>\n",
       "      <td>Zemmouri</td>\n",
       "      <td>36.786406</td>\n",
       "      <td>3.601221</td>\n",
       "      <td>town</td>\n",
       "      <td>POINT (314461.2710128424 4427130.004381498)</td>\n",
       "    </tr>\n",
       "  </tbody>\n",
       "</table>\n",
       "</div>"
      ],
      "text/plain": [
       "   country     osm_id     osm_name        lat       lon osm_type  \\\n",
       "0  Algeria   89369215  Tamanrasset  22.785454  5.532446     town   \n",
       "1  Algeria   89980948     In Salah  27.195033  2.482613     town   \n",
       "2  Algeria  252600742    Boumerdès  36.758882  3.470596     town   \n",
       "3  Algeria  253167052       Thenia  36.724986  3.556935     town   \n",
       "4  Algeria  253167208     Zemmouri  36.786406  3.601221     town   \n",
       "\n",
       "                                      geometry  \n",
       "0   POINT (527311.6502082234 2788716.35127626)  \n",
       "1  POINT (231414.6222862774 3313817.730679021)  \n",
       "2  POINT (303122.9375980464 4424001.504927466)  \n",
       "3  POINT (310749.4720741886 4420148.212193361)  \n",
       "4  POINT (314461.2710128424 4427130.004381498)  "
      ]
     },
     "execution_count": 18,
     "metadata": {},
     "output_type": "execute_result"
    }
   ],
   "source": [
    "points.head()"
   ]
  },
  {
   "cell_type": "markdown",
   "metadata": {},
   "source": [
    "#### Buffer Points"
   ]
  },
  {
   "cell_type": "code",
   "execution_count": 19,
   "metadata": {},
   "outputs": [],
   "source": [
    "# AGU 2018-12-04 - radius set to ~250m at the equator \n",
    "# 2019 05 01 --> Buffer should \n",
    "\n",
    "# radius = 250*1/(111*1000)\n",
    "radius = 250"
   ]
  },
  {
   "cell_type": "code",
   "execution_count": 20,
   "metadata": {},
   "outputs": [],
   "source": [
    "osm_buffer_gdf = point_buffer(points, radius)"
   ]
  },
  {
   "cell_type": "code",
   "execution_count": 21,
   "metadata": {
    "scrolled": false
   },
   "outputs": [
    {
     "data": {
      "text/html": [
       "<div>\n",
       "<style scoped>\n",
       "    .dataframe tbody tr th:only-of-type {\n",
       "        vertical-align: middle;\n",
       "    }\n",
       "\n",
       "    .dataframe tbody tr th {\n",
       "        vertical-align: top;\n",
       "    }\n",
       "\n",
       "    .dataframe thead th {\n",
       "        text-align: right;\n",
       "    }\n",
       "</style>\n",
       "<table border=\"1\" class=\"dataframe\">\n",
       "  <thead>\n",
       "    <tr style=\"text-align: right;\">\n",
       "      <th></th>\n",
       "      <th>country</th>\n",
       "      <th>osm_id</th>\n",
       "      <th>osm_name</th>\n",
       "      <th>lat</th>\n",
       "      <th>lon</th>\n",
       "      <th>osm_type</th>\n",
       "      <th>old_geom</th>\n",
       "      <th>geometry</th>\n",
       "    </tr>\n",
       "  </thead>\n",
       "  <tbody>\n",
       "    <tr>\n",
       "      <th>0</th>\n",
       "      <td>Algeria</td>\n",
       "      <td>89369215</td>\n",
       "      <td>Tamanrasset</td>\n",
       "      <td>22.785454</td>\n",
       "      <td>5.532446</td>\n",
       "      <td>town</td>\n",
       "      <td>POINT (527311.6502082234 2788716.35127626)</td>\n",
       "      <td>POLYGON ((527561.6502082234 2788716.35127626, ...</td>\n",
       "    </tr>\n",
       "    <tr>\n",
       "      <th>1</th>\n",
       "      <td>Algeria</td>\n",
       "      <td>89980948</td>\n",
       "      <td>In Salah</td>\n",
       "      <td>27.195033</td>\n",
       "      <td>2.482613</td>\n",
       "      <td>town</td>\n",
       "      <td>POINT (231414.6222862774 3313817.730679021)</td>\n",
       "      <td>POLYGON ((231664.6222862774 3313817.730679021,...</td>\n",
       "    </tr>\n",
       "    <tr>\n",
       "      <th>2</th>\n",
       "      <td>Algeria</td>\n",
       "      <td>252600742</td>\n",
       "      <td>Boumerdès</td>\n",
       "      <td>36.758882</td>\n",
       "      <td>3.470596</td>\n",
       "      <td>town</td>\n",
       "      <td>POINT (303122.9375980464 4424001.504927466)</td>\n",
       "      <td>POLYGON ((303372.9375980464 4424001.504927466,...</td>\n",
       "    </tr>\n",
       "    <tr>\n",
       "      <th>3</th>\n",
       "      <td>Algeria</td>\n",
       "      <td>253167052</td>\n",
       "      <td>Thenia</td>\n",
       "      <td>36.724986</td>\n",
       "      <td>3.556935</td>\n",
       "      <td>town</td>\n",
       "      <td>POINT (310749.4720741886 4420148.212193361)</td>\n",
       "      <td>POLYGON ((310999.4720741886 4420148.212193361,...</td>\n",
       "    </tr>\n",
       "    <tr>\n",
       "      <th>4</th>\n",
       "      <td>Algeria</td>\n",
       "      <td>253167208</td>\n",
       "      <td>Zemmouri</td>\n",
       "      <td>36.786406</td>\n",
       "      <td>3.601221</td>\n",
       "      <td>town</td>\n",
       "      <td>POINT (314461.2710128424 4427130.004381498)</td>\n",
       "      <td>POLYGON ((314711.2710128424 4427130.004381498,...</td>\n",
       "    </tr>\n",
       "    <tr>\n",
       "      <th>5</th>\n",
       "      <td>Algeria</td>\n",
       "      <td>253291208</td>\n",
       "      <td>Lakhdaria</td>\n",
       "      <td>36.563944</td>\n",
       "      <td>3.596907</td>\n",
       "      <td>town</td>\n",
       "      <td>POINT (314651.9864841976 4401832.281901533)</td>\n",
       "      <td>POLYGON ((314901.9864841976 4401832.281901533,...</td>\n",
       "    </tr>\n",
       "  </tbody>\n",
       "</table>\n",
       "</div>"
      ],
      "text/plain": [
       "   country     osm_id     osm_name        lat       lon osm_type  \\\n",
       "0  Algeria   89369215  Tamanrasset  22.785454  5.532446     town   \n",
       "1  Algeria   89980948     In Salah  27.195033  2.482613     town   \n",
       "2  Algeria  252600742    Boumerdès  36.758882  3.470596     town   \n",
       "3  Algeria  253167052       Thenia  36.724986  3.556935     town   \n",
       "4  Algeria  253167208     Zemmouri  36.786406  3.601221     town   \n",
       "5  Algeria  253291208    Lakhdaria  36.563944  3.596907     town   \n",
       "\n",
       "                                      old_geom  \\\n",
       "0   POINT (527311.6502082234 2788716.35127626)   \n",
       "1  POINT (231414.6222862774 3313817.730679021)   \n",
       "2  POINT (303122.9375980464 4424001.504927466)   \n",
       "3  POINT (310749.4720741886 4420148.212193361)   \n",
       "4  POINT (314461.2710128424 4427130.004381498)   \n",
       "5  POINT (314651.9864841976 4401832.281901533)   \n",
       "\n",
       "                                            geometry  \n",
       "0  POLYGON ((527561.6502082234 2788716.35127626, ...  \n",
       "1  POLYGON ((231664.6222862774 3313817.730679021,...  \n",
       "2  POLYGON ((303372.9375980464 4424001.504927466,...  \n",
       "3  POLYGON ((310999.4720741886 4420148.212193361,...  \n",
       "4  POLYGON ((314711.2710128424 4427130.004381498,...  \n",
       "5  POLYGON ((314901.9864841976 4401832.281901533,...  "
      ]
     },
     "execution_count": 21,
     "metadata": {},
     "output_type": "execute_result"
    }
   ],
   "source": [
    "osm_buffer_gdf.head(6)"
   ]
  },
  {
   "cell_type": "code",
   "execution_count": 22,
   "metadata": {
    "scrolled": true
   },
   "outputs": [
    {
     "data": {
      "text/html": [
       "<div>\n",
       "<style scoped>\n",
       "    .dataframe tbody tr th:only-of-type {\n",
       "        vertical-align: middle;\n",
       "    }\n",
       "\n",
       "    .dataframe tbody tr th {\n",
       "        vertical-align: top;\n",
       "    }\n",
       "\n",
       "    .dataframe thead th {\n",
       "        text-align: right;\n",
       "    }\n",
       "</style>\n",
       "<table border=\"1\" class=\"dataframe\">\n",
       "  <thead>\n",
       "    <tr style=\"text-align: right;\">\n",
       "      <th></th>\n",
       "      <th>country</th>\n",
       "      <th>osm_id</th>\n",
       "      <th>osm_name</th>\n",
       "      <th>lat</th>\n",
       "      <th>lon</th>\n",
       "      <th>osm_type</th>\n",
       "      <th>geometry</th>\n",
       "    </tr>\n",
       "  </thead>\n",
       "  <tbody>\n",
       "    <tr>\n",
       "      <th>0</th>\n",
       "      <td>Algeria</td>\n",
       "      <td>89369215</td>\n",
       "      <td>Tamanrasset</td>\n",
       "      <td>22.785454</td>\n",
       "      <td>5.532446</td>\n",
       "      <td>town</td>\n",
       "      <td>POLYGON ((527561.6502082234 2788716.35127626, ...</td>\n",
       "    </tr>\n",
       "    <tr>\n",
       "      <th>1</th>\n",
       "      <td>Algeria</td>\n",
       "      <td>89980948</td>\n",
       "      <td>In Salah</td>\n",
       "      <td>27.195033</td>\n",
       "      <td>2.482613</td>\n",
       "      <td>town</td>\n",
       "      <td>POLYGON ((231664.6222862774 3313817.730679021,...</td>\n",
       "    </tr>\n",
       "    <tr>\n",
       "      <th>2</th>\n",
       "      <td>Algeria</td>\n",
       "      <td>252600742</td>\n",
       "      <td>Boumerdès</td>\n",
       "      <td>36.758882</td>\n",
       "      <td>3.470596</td>\n",
       "      <td>town</td>\n",
       "      <td>POLYGON ((303372.9375980464 4424001.504927466,...</td>\n",
       "    </tr>\n",
       "    <tr>\n",
       "      <th>3</th>\n",
       "      <td>Algeria</td>\n",
       "      <td>253167052</td>\n",
       "      <td>Thenia</td>\n",
       "      <td>36.724986</td>\n",
       "      <td>3.556935</td>\n",
       "      <td>town</td>\n",
       "      <td>POLYGON ((310999.4720741886 4420148.212193361,...</td>\n",
       "    </tr>\n",
       "    <tr>\n",
       "      <th>4</th>\n",
       "      <td>Algeria</td>\n",
       "      <td>253167208</td>\n",
       "      <td>Zemmouri</td>\n",
       "      <td>36.786406</td>\n",
       "      <td>3.601221</td>\n",
       "      <td>town</td>\n",
       "      <td>POLYGON ((314711.2710128424 4427130.004381498,...</td>\n",
       "    </tr>\n",
       "    <tr>\n",
       "      <th>5</th>\n",
       "      <td>Algeria</td>\n",
       "      <td>253291208</td>\n",
       "      <td>Lakhdaria</td>\n",
       "      <td>36.563944</td>\n",
       "      <td>3.596907</td>\n",
       "      <td>town</td>\n",
       "      <td>POLYGON ((314901.9864841976 4401832.281901533,...</td>\n",
       "    </tr>\n",
       "  </tbody>\n",
       "</table>\n",
       "</div>"
      ],
      "text/plain": [
       "   country     osm_id     osm_name        lat       lon osm_type  \\\n",
       "0  Algeria   89369215  Tamanrasset  22.785454  5.532446     town   \n",
       "1  Algeria   89980948     In Salah  27.195033  2.482613     town   \n",
       "2  Algeria  252600742    Boumerdès  36.758882  3.470596     town   \n",
       "3  Algeria  253167052       Thenia  36.724986  3.556935     town   \n",
       "4  Algeria  253167208     Zemmouri  36.786406  3.601221     town   \n",
       "5  Algeria  253291208    Lakhdaria  36.563944  3.596907     town   \n",
       "\n",
       "                                            geometry  \n",
       "0  POLYGON ((527561.6502082234 2788716.35127626, ...  \n",
       "1  POLYGON ((231664.6222862774 3313817.730679021,...  \n",
       "2  POLYGON ((303372.9375980464 4424001.504927466,...  \n",
       "3  POLYGON ((310999.4720741886 4420148.212193361,...  \n",
       "4  POLYGON ((314711.2710128424 4427130.004381498,...  \n",
       "5  POLYGON ((314901.9864841976 4401832.281901533,...  "
      ]
     },
     "execution_count": 22,
     "metadata": {},
     "output_type": "execute_result"
    }
   ],
   "source": [
    "# drop point geom and keep buffered\n",
    "\n",
    "osm_buffer_gdf = osm_buffer_gdf.drop(['old_geom'], axis=1)\n",
    "osm_buffer_gdf.head(6)"
   ]
  },
  {
   "cell_type": "markdown",
   "metadata": {},
   "source": [
    "### Intersection"
   ]
  },
  {
   "cell_type": "code",
   "execution_count": null,
   "metadata": {},
   "outputs": [],
   "source": [
    "# run poly_overlap\n",
    "\n",
    "import time\n",
    "checkpoint = time.time()\n",
    "\n",
    "poly_overlap_out = poly_overlap(osm_buffer_gdf, polygons)\n",
    "\n",
    "print(\"elapsed time is: {}s\".format(time.time()-checkpoint))\n",
    "print(len(poly_overlap_out))"
   ]
  },
  {
   "cell_type": "code",
   "execution_count": null,
   "metadata": {},
   "outputs": [],
   "source": [
    "print(len(poly_overlap_out))"
   ]
  },
  {
   "cell_type": "code",
   "execution_count": null,
   "metadata": {
    "scrolled": true
   },
   "outputs": [],
   "source": [
    "poly_overlap_out.tail(20)"
   ]
  },
  {
   "cell_type": "code",
   "execution_count": null,
   "metadata": {},
   "outputs": [],
   "source": [
    "poly_overlap_out.to_file(erl_v2_data+out+'.shp', driver='ESRI Shapefile')"
   ]
  }
 ],
 "metadata": {
  "kernelspec": {
   "display_name": "Python [conda env:geo]",
   "language": "python",
   "name": "conda-env-geo-py"
  },
  "language_info": {
   "codemirror_mode": {
    "name": "ipython",
    "version": 3
   },
   "file_extension": ".py",
   "mimetype": "text/x-python",
   "name": "python",
   "nbconvert_exporter": "python",
   "pygments_lexer": "ipython3",
   "version": "3.6.7"
  }
 },
 "nbformat": 4,
 "nbformat_minor": 2
}
