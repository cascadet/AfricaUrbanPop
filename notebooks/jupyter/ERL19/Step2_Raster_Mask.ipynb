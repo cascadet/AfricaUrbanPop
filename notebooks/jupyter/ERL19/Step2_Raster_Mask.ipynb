{
 "cells": [
  {
   "cell_type": "markdown",
   "metadata": {},
   "source": [
    "# Raster Mask\n",
    "\n",
    "Created 2019-01-15\n",
    "This notebook is used to create connected density thresholds in a population raster. It applies a mask to isolate urban cores (>1500 ppl/km2) and then a second mask to capture pixels w/ 300 ppl per km2 that are connected to the urban cores. See: Florczyk A J 2019 Description of the GHS Urban Centre Database 2015; Public Release 2019 Version 1.0 KJ-02-19-103-EN-N\n",
    "\n",
    "This step needs to be repeated for each raster dataset for which you want to isolate urban populations.\n",
    "\n",
    "Note: Check crs of Raster 'EPSG:4326' ... or EPSG: 54009"
   ]
  },
  {
   "cell_type": "markdown",
   "metadata": {},
   "source": [
    "### Dependencies"
   ]
  },
  {
   "cell_type": "code",
   "execution_count": null,
   "metadata": {},
   "outputs": [],
   "source": [
    "import rasterio\n",
    "from rasterio.mask import mask\n",
    "import pandas as pd\n",
    "import geopandas as gpd\n",
    "from shapely.geometry import Polygon\n",
    "import numpy as np\n",
    "import matplotlib.pyplot as plt"
   ]
  },
  {
   "cell_type": "markdown",
   "metadata": {},
   "source": [
    "### Inputs"
   ]
  },
  {
   "cell_type": "code",
   "execution_count": null,
   "metadata": {},
   "outputs": [],
   "source": [
    "# File paths\n",
    "\n",
    "IN = ''\n",
    "OUT = ''"
   ]
  },
  {
   "cell_type": "markdown",
   "metadata": {},
   "source": [
    "### Functions\n",
    "\n",
    "Note: These have been moved to a .py file in the src directory"
   ]
  },
  {
   "cell_type": "code",
   "execution_count": null,
   "metadata": {},
   "outputs": [],
   "source": [
    "def raster_mask_poly(raster, band, density, crs):\n",
    "    \"\"\"Fucntion makes numpy array for of raster then applies mask.\n",
    "    requires rasterio object, band number, and density as float on int and crs of raster\n",
    "    returns dict of polygons and numpy mask\n",
    "    \n",
    "    Args: raster = input raster as rasterio object\n",
    "          band = band of raster\n",
    "          density = density to mask\n",
    "          crs = crs of raster\n",
    "    \"\"\"\n",
    "\n",
    "    mask = raster.read(band)\n",
    "    mask[mask < density] = 0 # mask as zeros \n",
    "    mask[mask >= density] = 1 \n",
    "    \n",
    "    # Extract feature shapes and values from the array.\n",
    "    for geom, val in rasterio.features.shapes(mask, transform=raster.transform):\n",
    "        \n",
    "        # Transform shapes from the dataset's own coordinate\n",
    "        # reference system to CRS84 (EPSG:4326) removed 2019-01-15\n",
    "        geom = rasterio.warp.transform_geom(raster.crs, crs, geom, precision=6) # WGS84 (EPSG 4326)\n",
    "    \n",
    "    # turn geom into Polygon object from shapely    \n",
    "    # Polygon(geom['coordinates'][0])\n",
    "    poly_gdf = gpd.GeoDataFrame()\n",
    "    for i, poly in enumerate(geom['coordinates']):\n",
    "        poly_gdf.loc[i,'geometry']= Polygon(poly)\n",
    "\n",
    "    return mask, geom, poly_gdf"
   ]
  },
  {
   "cell_type": "code",
   "execution_count": null,
   "metadata": {},
   "outputs": [],
   "source": [
    "def raster_mask(raster, band, density):\n",
    "    \"\"\"Function returns raster mask as numpy array\n",
    "    \n",
    "    Args: raster = input raster as rasterio object\n",
    "          band = band of raster\n",
    "          density = density to mask\n",
    "    \"\"\"\n",
    "    \n",
    "    mask = raster.read(band)\n",
    "    mask[mask < density] = 0 # mask as zeros and ones\n",
    "    mask[mask >= density] = 1\n",
    "    \n",
    "    return mask"
   ]
  },
  {
   "cell_type": "code",
   "execution_count": null,
   "metadata": {},
   "outputs": [],
   "source": [
    "def raster_poly(raster, band, crs):\n",
    "    \"\"\"Fucntion makes polygons for of raster returns dict of polygons\n",
    "    \n",
    "        Args: raster = input raster as rasterio object\n",
    "              band = band of raster\n",
    "              crs = crs\n",
    "    \"\"\"\n",
    "\n",
    "    mask = raster.read(band)\n",
    "    \n",
    "    # Extract feature shapes and values from the array.\n",
    "    for geom, val in rasterio.features.shapes(mask, transform=raster.transform):\n",
    "        \n",
    "        # Transform shapes from the dataset's own coordinate\n",
    "        # reference system to CRS84 (EPSG:4326).\n",
    "        geom = rasterio.warp.transform_geom(raster.crs, crs, geom, precision=6) # WGS84 (EPSG 4326)\n",
    "    \n",
    "    # turn geom into Polygon object from shapely    \n",
    "    # Polygon(geom['coordinates'][0])\n",
    "    poly_gdf = gpd.GeoDataFrame()\n",
    "    for i, poly in enumerate(geom['coordinates']):\n",
    "        poly_gdf.loc[i,'geometry']= Polygon(poly)\n",
    "\n",
    "    return poly_gdf"
   ]
  },
  {
   "cell_type": "code",
   "execution_count": null,
   "metadata": {},
   "outputs": [],
   "source": [
    "def raster_gpd(array, raster, crs):\n",
    "    \"\"\" Function takes an np array, raster\n",
    "    and returns polygons from the np array in the raster CRS\n",
    "    \n",
    "    Args: array = array to make polygons\n",
    "          raster = raster to use as template\n",
    "          crs = crs\n",
    "    \"\"\"\n",
    "    for geom, val in rasterio.features.shapes(array, transform = raster.transform):\n",
    "\n",
    "        # Transform shapes from the dataset's own coordinate\n",
    "        # reference system to CRS84 (EPSG:4326). Removed # WGS84 (EPSG 4326) \n",
    "        geom = rasterio.warp.transform_geom(raster.crs, crs, geom, precision=6) \n",
    "\n",
    "    # turn geom into Polygon object from shapely    \n",
    "    # Polygon(geom['coordinates'][0])\n",
    "    poly_gdf = gpd.GeoDataFrame()\n",
    "    for i, poly in enumerate(geom['coordinates']):\n",
    "        poly_gdf.loc[i,'geometry']= Polygon(poly)\n",
    "    \n",
    "    return poly_gdf"
   ]
  },
  {
   "cell_type": "code",
   "execution_count": null,
   "metadata": {},
   "outputs": [],
   "source": [
    "def raster_write(meta, array, file_out):\n",
    "    \"\"\" Function to write out a raster file with an np array\n",
    "    requires meta data for raster, np array & file out path and name\n",
    "    \n",
    "    Args: meta = meta data\n",
    "          array = data to write into a tif\n",
    "          file_out = file name\n",
    "    \"\"\"\n",
    "    \n",
    "    kwargs = meta\n",
    "\n",
    "    # Update kwargs (change in data type)\n",
    "    kwargs.update(dtype=rasterio.float32, count = 1)\n",
    "\n",
    "    with rasterio.open(file_out, 'w', **kwargs) as dst:\n",
    "        dst.write_band(1, array.astype(rasterio.float32))"
   ]
  },
  {
   "cell_type": "markdown",
   "metadata": {},
   "source": [
    "### Connected Pixels 1500 - 300"
   ]
  },
  {
   "cell_type": "code",
   "execution_count": null,
   "metadata": {},
   "outputs": [],
   "source": [
    "# Get native functions from SRC \n",
    "import os\n",
    "\n",
    "os.getcwd()\n",
    "os.chdir('') # set directory path\n",
    "os.getcwd()\n",
    "\n",
    "from src import raster_funcs"
   ]
  },
  {
   "cell_type": "code",
   "execution_count": null,
   "metadata": {},
   "outputs": [],
   "source": [
    "# Open Raster and Set CRC \n",
    "\n",
    "file = 'LS15_w001001_Clip'\n",
    "raster = rasterio.open('data/interim/'+file+'.tif')\n",
    "crs = raster.crs"
   ]
  },
  {
   "cell_type": "code",
   "execution_count": null,
   "metadata": {},
   "outputs": [],
   "source": [
    "# Create Masks\n",
    "\n",
    "mask300 = raster_mask(raster, 1, 300)\n",
    "mask1500 = raster_mask(raster, 1, 1500)"
   ]
  },
  {
   "cell_type": "code",
   "execution_count": null,
   "metadata": {},
   "outputs": [],
   "source": [
    "# Find connected pixels\n",
    "\n",
    "mask1500c300 = raster_funcs.remove_isolated_pixels(mask1500, mask300)"
   ]
  },
  {
   "cell_type": "code",
   "execution_count": null,
   "metadata": {},
   "outputs": [],
   "source": [
    "# Turn into geo pandas \n",
    "\n",
    "poly_gdf_1500c300 = raster_gpd(mask1500c300, raster, crs)"
   ]
  },
  {
   "cell_type": "code",
   "execution_count": null,
   "metadata": {},
   "outputs": [],
   "source": [
    "# Check data and check Length\n",
    "\n",
    "print((poly_gdf_1500c300.head(6)))\n",
    "print(len(poly_gdf_1500c300))"
   ]
  },
  {
   "cell_type": "code",
   "execution_count": null,
   "metadata": {},
   "outputs": [],
   "source": [
    "# drop first row, which is bounding box of Africa\n",
    "poly_gdf_1500c300_drop = poly_gdf_1500c300.drop(poly_gdf_1500c300.index[0], axis = 0)\n",
    "print((poly_gdf_1500c300_drop.head(6)))\n",
    "print(len(poly_gdf_1500c300_drop))"
   ]
  },
  {
   "cell_type": "code",
   "execution_count": null,
   "metadata": {},
   "outputs": [],
   "source": [
    "# Write as shape file\n",
    "\n",
    "poly_gdf_1500c300_drop.to_file(downloads+file+'_1500c300.shp', driver='ESRI Shapefile')"
   ]
  }
 ],
 "metadata": {
  "kernelspec": {
   "display_name": "Python 3",
   "language": "python",
   "name": "python3"
  },
  "language_info": {
   "codemirror_mode": {
    "name": "ipython",
    "version": 3
   },
   "file_extension": ".py",
   "mimetype": "text/x-python",
   "name": "python",
   "nbconvert_exporter": "python",
   "pygments_lexer": "ipython3",
   "version": "3.7.3"
  }
 },
 "nbformat": 4,
 "nbformat_minor": 2
}
