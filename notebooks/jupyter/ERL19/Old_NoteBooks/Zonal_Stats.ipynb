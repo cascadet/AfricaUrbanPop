{
 "cells": [
  {
   "cell_type": "markdown",
   "metadata": {},
   "source": [
    "### Zonal Stats\n",
    "\n",
    "The objective of this notebook is to calculate zonal stats for a raster, given a set of polygons"
   ]
  },
  {
   "cell_type": "code",
   "execution_count": 1,
   "metadata": {},
   "outputs": [],
   "source": [
    "from rasterstats import zonal_stats\n",
    "import rasterio\n",
    "\n",
    "def zone_stat(raster, band, polygon):\n",
    "    \"\"\"\n",
    "    This function will calculate the zonal stats for each polygon within a raster\n",
    "    requires gdf, raster object\n",
    "    \"\"\"\n",
    "    \n",
    "    band = raster.read(band)\n",
    "    zone_stat = zonal_stats(polygon, band, affine=raster.meta['transform'], stats = 'sum')\n",
    "    return zone_stat"
   ]
  },
  {
   "cell_type": "code",
   "execution_count": 15,
   "metadata": {},
   "outputs": [],
   "source": [
    "# will build out folders later\n",
    "\n",
    "# data folder git will ignore\n",
    "#infilepath = \"/home/cascade/tana-crunch-cascade/projects/NTL/data/\" # git will ignore\n",
    "#outfilepath = \"/home/cascade/tana-crunch-cascade/projects/NTL/temp_data/\" # git will not ignore - NO BIG FILES \n",
    "\n",
    "# Local computer \n",
    "data = '/Users/cascade/Github/NTL/data/raw/'\n",
    "temp_data = '/Users/cascade/Github/NTL/temp_data/'"
   ]
  },
  {
   "cell_type": "code",
   "execution_count": 3,
   "metadata": {},
   "outputs": [],
   "source": [
    "import geopandas as gpd\n",
    "\n",
    "# GRUMP2000_poly = gpd.read_file(temp_data+'20181207_GRUMP2000_mask_1000c600_polypoints.shp')\n",
    "# GRUMP2015_poly = gpd.read_file(temp_data+'20181207_GRUMP2015_mask_1000c600_polypoints.shp')\n",
    "\n",
    "# file1 = 'gpw-v4-population-count-adjusted-to-2015-unwpp-country-totals-rev10_2000_30_sec_tif/gpw_v4_population_count_adjusted_to_2015_unwpp_country_totals_rev10_2000_30_sec.tif'\n",
    "# file2 = 'gpw-v4-population-count-adjusted-to-2015-unwpp-country-totals-rev10_2015_30_sec_tif/gpw_v4_population_count_adjusted_to_2015_unwpp_country_totals_rev10_2015_30_sec.tif'\n",
    "\n",
    "# GRUMP2000_raster = rasterio.open(data+file1)                      \n",
    "# GRUMP2015_raster = rasterio.open(data+file2)  "
   ]
  },
  {
   "cell_type": "code",
   "execution_count": 16,
   "metadata": {},
   "outputs": [],
   "source": [
    "import geopandas as gpd\n",
    "\n",
    "WP2000_poly = gpd.read_file(temp_data+'20181207_africa1k_2000_mask_1000c600_polypoints.shp')\n",
    "WP2015_poly = gpd.read_file(temp_data+'20181207_africa1k_2015_mask_1000c600_polypoints.shp')\n",
    "\n",
    "file1 = 'worldpop/Africa-1km-Population/AFR_PPP_2000_adj_v2.tif'\n",
    "file2 = 'worldpop/Africa-1km-Population/AFR_PPP_2015_adj_v2.tif'\n",
    "# file1 = 'gpw-v4-population-count-adjusted-to-2015-unwpp-country-totals-rev10_2000_30_sec_tif/gpw_v4_population_count_adjusted_to_2015_unwpp_country_totals_rev10_2000_30_sec.tif'\n",
    "# file2 = 'gpw-v4-population-count-adjusted-to-2015-unwpp-country-totals-rev10_2015_30_sec_tif/gpw_v4_population_count_adjusted_to_2015_unwpp_country_totals_rev10_2015_30_sec.tif'\n",
    "\n",
    "WP2000_raster = rasterio.open(data+file1)                      \n",
    "WP2015_raster = rasterio.open(data+file2)  "
   ]
  },
  {
   "cell_type": "code",
   "execution_count": 17,
   "metadata": {},
   "outputs": [
    {
     "name": "stderr",
     "output_type": "stream",
     "text": [
      "/anaconda3/lib/python3.7/site-packages/rasterstats/io.py:294: UserWarning: Setting nodata to -999; specify nodata explicitly\n",
      "  warnings.warn(\"Setting nodata to -999; specify nodata explicitly\")\n"
     ]
    }
   ],
   "source": [
    "WP2000_zonalstats = zone_stat(WP2000_raster, 1, WP2000_poly)"
   ]
  },
  {
   "cell_type": "code",
   "execution_count": 18,
   "metadata": {},
   "outputs": [
    {
     "data": {
      "text/html": [
       "<div>\n",
       "<style scoped>\n",
       "    .dataframe tbody tr th:only-of-type {\n",
       "        vertical-align: middle;\n",
       "    }\n",
       "\n",
       "    .dataframe tbody tr th {\n",
       "        vertical-align: top;\n",
       "    }\n",
       "\n",
       "    .dataframe thead th {\n",
       "        text-align: right;\n",
       "    }\n",
       "</style>\n",
       "<table border=\"1\" class=\"dataframe\">\n",
       "  <thead>\n",
       "    <tr style=\"text-align: right;\">\n",
       "      <th></th>\n",
       "      <th>osm_id</th>\n",
       "      <th>FID</th>\n",
       "      <th>country</th>\n",
       "      <th>city</th>\n",
       "      <th>lat</th>\n",
       "      <th>lon</th>\n",
       "      <th>geometry</th>\n",
       "      <th>WP2000_PopTot</th>\n",
       "    </tr>\n",
       "  </thead>\n",
       "  <tbody>\n",
       "    <tr>\n",
       "      <th>0</th>\n",
       "      <td>27564946</td>\n",
       "      <td>901</td>\n",
       "      <td>Algeria</td>\n",
       "      <td>Constantine</td>\n",
       "      <td>36.364519</td>\n",
       "      <td>6.608260</td>\n",
       "      <td>POLYGON ((6.616249 36.46625, 6.649583 36.46625...</td>\n",
       "      <td>529187.787720</td>\n",
       "    </tr>\n",
       "    <tr>\n",
       "      <th>1</th>\n",
       "      <td>27565103</td>\n",
       "      <td>1734</td>\n",
       "      <td>Algeria</td>\n",
       "      <td>Oran</td>\n",
       "      <td>35.703275</td>\n",
       "      <td>-0.649298</td>\n",
       "      <td>POLYGON ((-0.808751 35.774584, -0.792084 35.77...</td>\n",
       "      <td>687663.377167</td>\n",
       "    </tr>\n",
       "    <tr>\n",
       "      <th>2</th>\n",
       "      <td>253292160</td>\n",
       "      <td>338</td>\n",
       "      <td>Algeria</td>\n",
       "      <td>Tizi Ouzou</td>\n",
       "      <td>36.713784</td>\n",
       "      <td>4.049392</td>\n",
       "      <td>POLYGON ((4.007916 36.757917, 4.024583 36.7579...</td>\n",
       "      <td>214199.763611</td>\n",
       "    </tr>\n",
       "    <tr>\n",
       "      <th>3</th>\n",
       "      <td>262963217</td>\n",
       "      <td>3564</td>\n",
       "      <td>Algeria</td>\n",
       "      <td>El Oued</td>\n",
       "      <td>33.361177</td>\n",
       "      <td>6.860349</td>\n",
       "      <td>POLYGON ((6.816249 33.41625, 6.841249 33.41625...</td>\n",
       "      <td>103269.415649</td>\n",
       "    </tr>\n",
       "    <tr>\n",
       "      <th>4</th>\n",
       "      <td>262964638</td>\n",
       "      <td>3643</td>\n",
       "      <td>Algeria</td>\n",
       "      <td>Touggourt</td>\n",
       "      <td>33.109897</td>\n",
       "      <td>6.066102</td>\n",
       "      <td>POLYGON ((6.066249 33.149584, 6.082916 33.1495...</td>\n",
       "      <td>62320.847595</td>\n",
       "    </tr>\n",
       "    <tr>\n",
       "      <th>5</th>\n",
       "      <td>264573224</td>\n",
       "      <td>3337</td>\n",
       "      <td>Algeria</td>\n",
       "      <td>Laghouat</td>\n",
       "      <td>33.806352</td>\n",
       "      <td>2.880862</td>\n",
       "      <td>POLYGON ((2.849583 33.86625, 2.866249 33.86625...</td>\n",
       "      <td>139356.007751</td>\n",
       "    </tr>\n",
       "  </tbody>\n",
       "</table>\n",
       "</div>"
      ],
      "text/plain": [
       "      osm_id   FID  country         city        lat       lon  \\\n",
       "0   27564946   901  Algeria  Constantine  36.364519  6.608260   \n",
       "1   27565103  1734  Algeria         Oran  35.703275 -0.649298   \n",
       "2  253292160   338  Algeria   Tizi Ouzou  36.713784  4.049392   \n",
       "3  262963217  3564  Algeria      El Oued  33.361177  6.860349   \n",
       "4  262964638  3643  Algeria    Touggourt  33.109897  6.066102   \n",
       "5  264573224  3337  Algeria     Laghouat  33.806352  2.880862   \n",
       "\n",
       "                                            geometry  WP2000_PopTot  \n",
       "0  POLYGON ((6.616249 36.46625, 6.649583 36.46625...  529187.787720  \n",
       "1  POLYGON ((-0.808751 35.774584, -0.792084 35.77...  687663.377167  \n",
       "2  POLYGON ((4.007916 36.757917, 4.024583 36.7579...  214199.763611  \n",
       "3  POLYGON ((6.816249 33.41625, 6.841249 33.41625...  103269.415649  \n",
       "4  POLYGON ((6.066249 33.149584, 6.082916 33.1495...   62320.847595  \n",
       "5  POLYGON ((2.849583 33.86625, 2.866249 33.86625...  139356.007751  "
      ]
     },
     "execution_count": 18,
     "metadata": {},
     "output_type": "execute_result"
    }
   ],
   "source": [
    "WP2000_poly['WP2000_PopTot'] = gpd.GeoDataFrame.from_dict(WP2000_zonalstats)\n",
    "WP2000_poly.head(6)"
   ]
  },
  {
   "cell_type": "code",
   "execution_count": 19,
   "metadata": {},
   "outputs": [
    {
     "name": "stderr",
     "output_type": "stream",
     "text": [
      "/anaconda3/lib/python3.7/site-packages/rasterstats/io.py:294: UserWarning: Setting nodata to -999; specify nodata explicitly\n",
      "  warnings.warn(\"Setting nodata to -999; specify nodata explicitly\")\n"
     ]
    },
    {
     "data": {
      "text/html": [
       "<div>\n",
       "<style scoped>\n",
       "    .dataframe tbody tr th:only-of-type {\n",
       "        vertical-align: middle;\n",
       "    }\n",
       "\n",
       "    .dataframe tbody tr th {\n",
       "        vertical-align: top;\n",
       "    }\n",
       "\n",
       "    .dataframe thead th {\n",
       "        text-align: right;\n",
       "    }\n",
       "</style>\n",
       "<table border=\"1\" class=\"dataframe\">\n",
       "  <thead>\n",
       "    <tr style=\"text-align: right;\">\n",
       "      <th></th>\n",
       "      <th>osm_id</th>\n",
       "      <th>FID</th>\n",
       "      <th>country</th>\n",
       "      <th>city</th>\n",
       "      <th>lat</th>\n",
       "      <th>lon</th>\n",
       "      <th>geometry</th>\n",
       "      <th>WP2015_PopTot</th>\n",
       "    </tr>\n",
       "  </thead>\n",
       "  <tbody>\n",
       "    <tr>\n",
       "      <th>0</th>\n",
       "      <td>27564946</td>\n",
       "      <td>1044</td>\n",
       "      <td>Algeria</td>\n",
       "      <td>Constantine</td>\n",
       "      <td>36.364519</td>\n",
       "      <td>6.608260</td>\n",
       "      <td>POLYGON ((6.624583 36.474584, 6.641249 36.4745...</td>\n",
       "      <td>720445.744751</td>\n",
       "    </tr>\n",
       "    <tr>\n",
       "      <th>1</th>\n",
       "      <td>27565103</td>\n",
       "      <td>2095</td>\n",
       "      <td>Algeria</td>\n",
       "      <td>Oran</td>\n",
       "      <td>35.703275</td>\n",
       "      <td>-0.649298</td>\n",
       "      <td>POLYGON ((-0.808751 35.774584, -0.792084 35.77...</td>\n",
       "      <td>954885.229431</td>\n",
       "    </tr>\n",
       "    <tr>\n",
       "      <th>2</th>\n",
       "      <td>253292160</td>\n",
       "      <td>378</td>\n",
       "      <td>Algeria</td>\n",
       "      <td>Tizi Ouzou</td>\n",
       "      <td>36.713784</td>\n",
       "      <td>4.049392</td>\n",
       "      <td>POLYGON ((3.966249 36.76625, 3.991249 36.76625...</td>\n",
       "      <td>390892.028687</td>\n",
       "    </tr>\n",
       "    <tr>\n",
       "      <th>3</th>\n",
       "      <td>262963217</td>\n",
       "      <td>4229</td>\n",
       "      <td>Algeria</td>\n",
       "      <td>El Oued</td>\n",
       "      <td>33.361177</td>\n",
       "      <td>6.860349</td>\n",
       "      <td>POLYGON ((6.816249 33.424584, 6.824583 33.4245...</td>\n",
       "      <td>149154.208923</td>\n",
       "    </tr>\n",
       "    <tr>\n",
       "      <th>4</th>\n",
       "      <td>262964638</td>\n",
       "      <td>4333</td>\n",
       "      <td>Algeria</td>\n",
       "      <td>Touggourt</td>\n",
       "      <td>33.109897</td>\n",
       "      <td>6.066102</td>\n",
       "      <td>POLYGON ((6.066249 33.157917, 6.082916 33.1579...</td>\n",
       "      <td>84953.643616</td>\n",
       "    </tr>\n",
       "    <tr>\n",
       "      <th>5</th>\n",
       "      <td>264573224</td>\n",
       "      <td>3922</td>\n",
       "      <td>Algeria</td>\n",
       "      <td>Laghouat</td>\n",
       "      <td>33.806352</td>\n",
       "      <td>2.880862</td>\n",
       "      <td>POLYGON ((2.849583 33.86625, 2.866249 33.86625...</td>\n",
       "      <td>184852.065430</td>\n",
       "    </tr>\n",
       "  </tbody>\n",
       "</table>\n",
       "</div>"
      ],
      "text/plain": [
       "      osm_id   FID  country         city        lat       lon  \\\n",
       "0   27564946  1044  Algeria  Constantine  36.364519  6.608260   \n",
       "1   27565103  2095  Algeria         Oran  35.703275 -0.649298   \n",
       "2  253292160   378  Algeria   Tizi Ouzou  36.713784  4.049392   \n",
       "3  262963217  4229  Algeria      El Oued  33.361177  6.860349   \n",
       "4  262964638  4333  Algeria    Touggourt  33.109897  6.066102   \n",
       "5  264573224  3922  Algeria     Laghouat  33.806352  2.880862   \n",
       "\n",
       "                                            geometry  WP2015_PopTot  \n",
       "0  POLYGON ((6.624583 36.474584, 6.641249 36.4745...  720445.744751  \n",
       "1  POLYGON ((-0.808751 35.774584, -0.792084 35.77...  954885.229431  \n",
       "2  POLYGON ((3.966249 36.76625, 3.991249 36.76625...  390892.028687  \n",
       "3  POLYGON ((6.816249 33.424584, 6.824583 33.4245...  149154.208923  \n",
       "4  POLYGON ((6.066249 33.157917, 6.082916 33.1579...   84953.643616  \n",
       "5  POLYGON ((2.849583 33.86625, 2.866249 33.86625...  184852.065430  "
      ]
     },
     "execution_count": 19,
     "metadata": {},
     "output_type": "execute_result"
    }
   ],
   "source": [
    "WP2015_zonalstats = zone_stat(WP2015_raster, 1, WP2015_poly)\n",
    "WP2015_poly['WP2015_PopTot'] = gpd.GeoDataFrame.from_dict(WP2015_zonalstats)\n",
    "WP2015_poly.head(6)"
   ]
  },
  {
   "cell_type": "code",
   "execution_count": 20,
   "metadata": {},
   "outputs": [],
   "source": [
    "WP2000_poly.to_file(temp_data+'20181207_WP2000_zone_pop.shp', driver='ESRI Shapefile')\n",
    "WP2015_poly.to_file(temp_data+'20181207_WP2015_zone_pop.shp', driver='ESRI Shapefile')"
   ]
  },
  {
   "cell_type": "code",
   "execution_count": 21,
   "metadata": {},
   "outputs": [
    {
     "name": "stdout",
     "output_type": "stream",
     "text": [
      "319\n",
      "319\n"
     ]
    }
   ],
   "source": [
    "print(len(GRUMP2000_poly))\n",
    "print(len(GRUMP2000_zonalstats))"
   ]
  },
  {
   "cell_type": "code",
   "execution_count": 21,
   "metadata": {},
   "outputs": [],
   "source": [
    "WP2000_poly.to_csv(temp_data+'20181207_WP2000_zone_pop.csv')\n",
    "WP2015_poly.to_csv(temp_data+'20181207_WP2015_zone_pop.csv')"
   ]
  }
 ],
 "metadata": {
  "kernelspec": {
   "display_name": "Python 3",
   "language": "python",
   "name": "python3"
  },
  "language_info": {
   "codemirror_mode": {
    "name": "ipython",
    "version": 3
   },
   "file_extension": ".py",
   "mimetype": "text/x-python",
   "name": "python",
   "nbconvert_exporter": "python",
   "pygments_lexer": "ipython3",
   "version": "3.7.0"
  }
 },
 "nbformat": 4,
 "nbformat_minor": 2
}
