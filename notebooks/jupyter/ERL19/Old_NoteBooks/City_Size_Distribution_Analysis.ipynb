{
 "cells": [
  {
   "cell_type": "markdown",
   "metadata": {},
   "source": [
    "# City Size Distribuion\n",
    "\n",
    "This notebook contains analysis and visualizations for:\n",
    "\n",
    "1. Investigating the distribution of sizes of African cities, towns, and villages.\n",
    "2. Determining how these distributions have changed over the period 2000-2020.\n",
    "3. Examining the trajectoris of individuals cities or groups of cities"
   ]
  },
  {
   "cell_type": "code",
   "execution_count": 1,
   "metadata": {},
   "outputs": [],
   "source": [
    "# Read in the data.\n",
    "%matplotlib inline\n",
    "import matplotlib.pyplot as plt\n",
    "import pandas as pd\n",
    "import numpy as np\n",
    "\n",
    "working_directory = \"../../temp_data/\""
   ]
  },
  {
   "cell_type": "code",
   "execution_count": 26,
   "metadata": {},
   "outputs": [],
   "source": [
    "def p_X_gt_x(data, X=None):\n",
    "    n_data = len(data)\n",
    "    if X is None:\n",
    "        X = data.unique()\n",
    "    return X, pd.Series([sum(data>=x)/n_data for x in X ])\n",
    "\n",
    "def p_X_lt_x(data, X=None):\n",
    "    n_data = len(data)\n",
    "    if X is None:\n",
    "        X = data.unique()\n",
    "    return X, pd.Series([sum(data<=x)/n_data for x in X ])"
   ]
  },
  {
   "cell_type": "markdown",
   "metadata": {},
   "source": [
    "## 2000 World Pop Data"
   ]
  },
  {
   "cell_type": "code",
   "execution_count": 54,
   "metadata": {},
   "outputs": [],
   "source": [
    "data_file = '20181205_GRUMP2015_zone_pop.csv'\n",
    "variable = 'GRUMP2015_PopTot'\n",
    "year = 2000"
   ]
  },
  {
   "cell_type": "code",
   "execution_count": 46,
   "metadata": {
    "scrolled": true
   },
   "outputs": [
    {
     "data": {
      "text/html": [
       "<div>\n",
       "<style scoped>\n",
       "    .dataframe tbody tr th:only-of-type {\n",
       "        vertical-align: middle;\n",
       "    }\n",
       "\n",
       "    .dataframe tbody tr th {\n",
       "        vertical-align: top;\n",
       "    }\n",
       "\n",
       "    .dataframe thead th {\n",
       "        text-align: right;\n",
       "    }\n",
       "</style>\n",
       "<table border=\"1\" class=\"dataframe\">\n",
       "  <thead>\n",
       "    <tr style=\"text-align: right;\">\n",
       "      <th></th>\n",
       "      <th>Unnamed: 0</th>\n",
       "      <th>osm_id</th>\n",
       "      <th>FID</th>\n",
       "      <th>geometry</th>\n",
       "      <th>GRUMP2000_PopTot</th>\n",
       "    </tr>\n",
       "  </thead>\n",
       "  <tbody>\n",
       "    <tr>\n",
       "      <th>0</th>\n",
       "      <td>0</td>\n",
       "      <td>27564946</td>\n",
       "      <td>260</td>\n",
       "      <td>POLYGON ((6.491667 36.466667, 6.5 36.466667, 6...</td>\n",
       "      <td>5.542145e+05</td>\n",
       "    </tr>\n",
       "    <tr>\n",
       "      <th>1</th>\n",
       "      <td>1</td>\n",
       "      <td>27565103</td>\n",
       "      <td>497</td>\n",
       "      <td>POLYGON ((-0.566667 35.775, -0.55 35.775, -0.5...</td>\n",
       "      <td>9.321878e+05</td>\n",
       "    </tr>\n",
       "    <tr>\n",
       "      <th>2</th>\n",
       "      <td>2</td>\n",
       "      <td>262963217</td>\n",
       "      <td>1213</td>\n",
       "      <td>POLYGON ((6.883333 33.433333, 6.9 33.433333, 6...</td>\n",
       "      <td>1.077895e+05</td>\n",
       "    </tr>\n",
       "    <tr>\n",
       "      <th>3</th>\n",
       "      <td>3</td>\n",
       "      <td>288387133</td>\n",
       "      <td>70</td>\n",
       "      <td>POLYGON ((3.008333 36.825, 3.016667 36.825, 3....</td>\n",
       "      <td>3.015573e+06</td>\n",
       "    </tr>\n",
       "    <tr>\n",
       "      <th>4</th>\n",
       "      <td>4</td>\n",
       "      <td>288417925</td>\n",
       "      <td>292</td>\n",
       "      <td>POLYGON ((2.75 36.341667, 2.758333 36.341667, ...</td>\n",
       "      <td>1.279876e+05</td>\n",
       "    </tr>\n",
       "    <tr>\n",
       "      <th>5</th>\n",
       "      <td>5</td>\n",
       "      <td>288418022</td>\n",
       "      <td>203</td>\n",
       "      <td>POLYGON ((2.883333 36.616667, 2.9 36.616667, 2...</td>\n",
       "      <td>3.720047e+05</td>\n",
       "    </tr>\n",
       "  </tbody>\n",
       "</table>\n",
       "</div>"
      ],
      "text/plain": [
       "   Unnamed: 0     osm_id   FID  \\\n",
       "0           0   27564946   260   \n",
       "1           1   27565103   497   \n",
       "2           2  262963217  1213   \n",
       "3           3  288387133    70   \n",
       "4           4  288417925   292   \n",
       "5           5  288418022   203   \n",
       "\n",
       "                                            geometry  GRUMP2000_PopTot  \n",
       "0  POLYGON ((6.491667 36.466667, 6.5 36.466667, 6...      5.542145e+05  \n",
       "1  POLYGON ((-0.566667 35.775, -0.55 35.775, -0.5...      9.321878e+05  \n",
       "2  POLYGON ((6.883333 33.433333, 6.9 33.433333, 6...      1.077895e+05  \n",
       "3  POLYGON ((3.008333 36.825, 3.016667 36.825, 3....      3.015573e+06  \n",
       "4  POLYGON ((2.75 36.341667, 2.758333 36.341667, ...      1.279876e+05  \n",
       "5  POLYGON ((2.883333 36.616667, 2.9 36.616667, 2...      3.720047e+05  "
      ]
     },
     "execution_count": 46,
     "metadata": {},
     "output_type": "execute_result"
    }
   ],
   "source": [
    "df.head(6)"
   ]
  },
  {
   "cell_type": "code",
   "execution_count": 52,
   "metadata": {},
   "outputs": [
    {
     "data": {
      "text/plain": [
       "Text(0,0.5,'P[X>=x]')"
      ]
     },
     "execution_count": 52,
     "metadata": {},
     "output_type": "execute_result"
    },
    {
     "data": {
      "image/png": "[encoded data removed]",
      "text/plain": [
       "<Figure size 432x288 with 1 Axes>"
      ]
     },
     "metadata": {
      "needs_background": "light"
     },
     "output_type": "display_data"
    }
   ],
   "source": [
    "datafile = working_directory + data_file\n",
    "df = pd.read_csv(datafile)\n",
    "df = df[df[variable] >= 0]  # Remove any cities that have populations less than zero (caused by raster -9999 masking)\n",
    "\n",
    "# Generate the inverse cumulative distribution plot for 2000\n",
    "data_2000 = df[variable].sort_values()\n",
    "X, y = p_X_gt_x(data_2000)\n",
    "\n",
    "rank_2000 = df[variable].rank\n",
    "\n",
    "# Render the inverse cumulative distribution plot for 2000\n",
    "plt.plot(X,y)\n",
    "plt.xscale('log')\n",
    "plt.title('Inverse cumulative distribution of city sizes, {year}'.format(year=year))\n",
    "plt.xlabel('x')\n",
    "plt.ylabel('P[X>=x]')"
   ]
  },
  {
   "cell_type": "code",
   "execution_count": 55,
   "metadata": {
    "scrolled": true
   },
   "outputs": [
    {
     "data": {
      "image/png": "[encoded data removed]",
      "text/plain": [
       "<Figure size 432x288 with 1 Axes>"
      ]
     },
     "metadata": {
      "needs_background": "light"
     },
     "output_type": "display_data"
    }
   ],
   "source": [
    "maxpop = df[variable].max()\n",
    "rank_2000 = df[variable].rank(ascending = False)\n",
    "type(rank_2000)\n",
    "pop_est = 1/pow(rank_2000.astype(float),1.07)*maxpop\n",
    "plt.scatter(df[variable], pop_est)\n",
    "xy_line = (0, 1)\n",
    "\n",
    "# Y is pop estiamte based on the the rank of the city, x is measured population \n",
    "# can't say how individual cities are growing, but because of alg., so we are looking \n",
    "# at changes in distrubution over time"
   ]
  },
  {
   "cell_type": "code",
   "execution_count": null,
   "metadata": {},
   "outputs": [],
   "source": [
    "rank_2000"
   ]
  },
  {
   "cell_type": "markdown",
   "metadata": {},
   "source": [
    "# 2020 World Pop Data"
   ]
  },
  {
   "cell_type": "code",
   "execution_count": null,
   "metadata": {},
   "outputs": [],
   "source": [
    "data_file = '20181116_WP2020_pops.csv'\n",
    "variable = 'Wpop2020'\n",
    "year = 2020"
   ]
  },
  {
   "cell_type": "code",
   "execution_count": 56,
   "metadata": {},
   "outputs": [
    {
     "data": {
      "text/plain": [
       "Text(0,0.5,'P[X>=x]')"
      ]
     },
     "execution_count": 56,
     "metadata": {},
     "output_type": "execute_result"
    },
    {
     "data": {
      "image/png": "[encoded data removed]",
      "text/plain": [
       "<Figure size 432x288 with 1 Axes>"
      ]
     },
     "metadata": {
      "needs_background": "light"
     },
     "output_type": "display_data"
    }
   ],
   "source": [
    "datafile = working_directory + data_file\n",
    "df = pd.read_csv(datafile)\n",
    "\n",
    "df = df[df[variable] >= 0]  # Remove any cities that have populations less than zero (caused by raster -9999 masking)\n",
    "\n",
    "# Generate the inverse cumulative distribution plot\n",
    "data_2020 = df[variable].sort_values()\n",
    "X, y = p_X_gt_x(data_2020)\n",
    "\n",
    "# Render the inverse cumulative distribution plot for 2000\n",
    "plt.plot(X,y)\n",
    "plt.xscale('log')\n",
    "plt.title('Inverse cumulative distribution of city sizes, {year}'.format(year=year))\n",
    "plt.xlabel('x')\n",
    "plt.ylabel('P[X>=x]')"
   ]
  },
  {
   "cell_type": "markdown",
   "metadata": {},
   "source": [
    "## Change detection in inverse cdfs"
   ]
  },
  {
   "cell_type": "code",
   "execution_count": null,
   "metadata": {},
   "outputs": [],
   "source": [
    "from math import log10, floor, ceil\n",
    "\n",
    "max_data = ceil(log10(max(max(data_2020),max(data_2000))))  # Find the minimum log scale in the data\n",
    "min_data = floor(log10(min(min(data_2020),min(data_2000)))) # Find the maximum log scale in the data\n",
    "\n",
    "values = [pow(10,x) for x in np.arange(min_data,max_data,0.25)] # Generate a list of values for the inverse cdf.\n",
    "\n",
    "X, y1 = p_X_gt_x(data_2000, X=values)\n",
    "X, y2 = p_X_gt_x(data_2020, X=values)\n",
    "\n",
    "plt.plot(X,y2-y1)\n",
    "plt.xscale('log')\n",
    "plt.title('Change in Inverse Cumulative Distribution Function')\n",
    "plt.xlabel('City Size')\n",
    "plt.ylabel('2020-2000')\n",
    "\n",
    "X, y1 = p_X_lt_x(data_2000, X=values)\n",
    "X, y2 = p_X_lt_x(data_2020, X=values)\n",
    "\n",
    "plt.plot(X,y2-y1)\n",
    "plt.xscale('log')\n",
    "plt.title('Change in Cumulative Distribution Function')\n",
    "plt.xlabel('City Size')\n",
    "plt.ylabel('2020-2000')"
   ]
  },
  {
   "cell_type": "code",
   "execution_count": null,
   "metadata": {},
   "outputs": [],
   "source": [
    "plt.plot(X, y1)\n",
    "plt.plot(X, y2)\n",
    "plt.xscale('log')\n",
    "plt.title('Cumulative Distribution Function')\n",
    "plt.xlabel('City Size, C')\n",
    "plt.ylabel('P[c<=C]')\n",
    "plt.legend(['2000','2020'])"
   ]
  }
 ],
 "metadata": {
  "kernelspec": {
   "display_name": "Python 3",
   "language": "python",
   "name": "python3"
  },
  "language_info": {
   "codemirror_mode": {
    "name": "ipython",
    "version": 3
   },
   "file_extension": ".py",
   "mimetype": "text/x-python",
   "name": "python",
   "nbconvert_exporter": "python",
   "pygments_lexer": "ipython3",
   "version": "3.7.0"
  }
 },
 "nbformat": 4,
 "nbformat_minor": 2
}
