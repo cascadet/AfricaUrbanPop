{
 "cells": [
  {
   "cell_type": "markdown",
   "metadata": {},
   "source": [
    "# NoteBook To Check Point or Polygon Inside Polygon\n",
    "\n",
    "The objective of this notebook is to search a set of points or polygons for spatial overlap with a largerset\n",
    "\n",
    "By Cascsde Tuholske 2019-01-17\n",
    "\n",
    "#### Notes\n",
    "1. Points should be dialated to circles to prevent one falling just outside the larger polygon set (see Lusaka)"
   ]
  },
  {
   "cell_type": "markdown",
   "metadata": {},
   "source": [
    "### Depedencies"
   ]
  },
  {
   "cell_type": "code",
   "execution_count": 1,
   "metadata": {},
   "outputs": [],
   "source": [
    "import pandas as pd\n",
    "import geopandas as gpd\n",
    "from shapely.geometry import Point\n",
    "from shapely.geometry import mapping\n",
    "from shapely.geometry import Polygon\n",
    "from shapely.geometry import shape\n",
    "import ast\n",
    "from shapely.geometry import mapping\n",
    "import rasterio\n",
    "import copy"
   ]
  },
  {
   "cell_type": "markdown",
   "metadata": {},
   "source": [
    "### Functions"
   ]
  },
  {
   "cell_type": "code",
   "execution_count": 2,
   "metadata": {},
   "outputs": [],
   "source": [
    "def load_points (file):\n",
    "    \"\"\" This function loads a csv \n",
    "    of points and turns it into shapely points\"\"\"\n",
    "    df = pd.read_csv(file)\n",
    "\n",
    "    # creating a geometry column \n",
    "    geometry = [Point(xy) for xy in zip(df['lon'], df['lat'])]\n",
    "\n",
    "    # Coordinate reference system : WGS84\n",
    "    crs = {'init': 'epsg:4326'}\n",
    "\n",
    "    # Creating a Geographic data frame \n",
    "    point_gdf = gpd.GeoDataFrame(df, crs=crs, geometry=geometry)\n",
    "    \n",
    "    return point_gdf"
   ]
  },
  {
   "cell_type": "code",
   "execution_count": 3,
   "metadata": {},
   "outputs": [],
   "source": [
    "def point_buffer(gpd_df, raduis):\n",
    "    \"Function to make a shapely polygon buffer around a point\"\n",
    "   \n",
    "    # AGU 2018-12-04 - radius set to ~250m at the equator \n",
    "    #radius = 250*1/(111*1000)\n",
    "\n",
    "    # new_gpd_df = gpd.GeoDataFrame()\n",
    "    gpd_df.rename(columns={'geometry':'old_geom'}, inplace=True)\n",
    "    \n",
    "    arr = []\n",
    "    \n",
    "    for point in gpd_df['old_geom']:\n",
    "        buffer = point.buffer(radius)\n",
    "        arr.append((buffer))\n",
    "    \n",
    "    gpd_df['geometry'] = arr\n",
    "    \n",
    "    return gpd_df"
   ]
  },
  {
   "cell_type": "code",
   "execution_count": 4,
   "metadata": {},
   "outputs": [],
   "source": [
    "def poly_point (poly, point):\n",
    "    \"\"\"\n",
    "    This function will check if points are inside polygons if given two gpd dataframes with points and polygons\n",
    "    Returns point ids, point geometry, polygon index # and polygon geometry\n",
    "    \"\"\"\n",
    "    \n",
    "    out_arr = [] #return an array <<< ---------------- ASK RYAN IF BETTER DO USE DICT \n",
    "    \n",
    "    for index_point, row_point in point.iterrows():\n",
    "        for index_poly, row_poly in poly.iterrows():\n",
    "            if row_point['geometry'].within(row_poly['geometry']):\n",
    "                point_id = row_point['id']\n",
    "                point_geom = mapping(row_point['geometry']) # makes a dict w/ keys : type and cood\n",
    "                poly_id = index_poly\n",
    "                poly_geom = mapping(row_poly['geometry']) # makes a dict w/ keys : type and cood\n",
    "                \n",
    "                out_arr.append((point_id, \n",
    "                                point_geom, \n",
    "                                poly_id, \n",
    "                                poly_geom))\n",
    "\n",
    "    return out_arr\n",
    "\n",
    "# Note 2018-11-30 update arr to gpd_df "
   ]
  },
  {
   "cell_type": "code",
   "execution_count": 5,
   "metadata": {},
   "outputs": [],
   "source": [
    "def poly_overlap (point_buffer, poly_raster):\n",
    "    \"\"\"\n",
    "    This function will check if point buffers intersect with polygons \n",
    "    if given two gpd dataframes with point buffers and polygons\n",
    "    Returns point ids, point geometry, polygon index #, and polygon geometry in a geopandas DF.\n",
    "    It goes faster if smaller list goes first\n",
    "    \n",
    "    Change TOWN & CITY ARRA\n",
    "    \"\"\"\n",
    "    \n",
    "    # make arrays to fill\n",
    "    country_arr = []\n",
    "    osm_name_arr = []\n",
    "    osm_type_arr = []\n",
    "    lat_arr = []\n",
    "    lon_arr = []\n",
    "    osm_id_arr = [] \n",
    "    FID_arr = [] \n",
    "    poly_geom_arr = []\n",
    "    #point_geom_arr = []\n",
    "    \n",
    "    for index_point_buffer, row_point_buffer in point_buffer.iterrows():\n",
    "        for index_poly_raster, row_poly_raster in poly_raster.iterrows():\n",
    "            if row_point_buffer['geometry'].intersects(row_poly_raster['geometry']):\n",
    "                country = row_point_buffer['country']\n",
    "                osm_name = row_point_buffer['osm_name'] \n",
    "                osm_type = row_point_buffer['osm_type']\n",
    "                lat = row_point_buffer['lat']\n",
    "                lon = row_point_buffer['lon']\n",
    "                osm_id = row_point_buffer['osm_id']\n",
    "                poly_id = row_poly_raster['FID']\n",
    "                poly_geom = shape(mapping(row_poly_raster['geometry'])) # make polygon\n",
    "                #point_geom = row_point_buffer['old_geom']\n",
    "\n",
    "                country_arr.append((country))\n",
    "                osm_name_arr.append((osm_name))\n",
    "                osm_type_arr.append((osm_type))\n",
    "                lat_arr.append((lat))\n",
    "                lon_arr.append((lon))\n",
    "                osm_id_arr.append((osm_id))\n",
    "                FID_arr.append((poly_id))\n",
    "                poly_geom_arr.append((poly_geom))\n",
    "                #point_geom_arr.append((point_geom))\n",
    "    \n",
    "    # put results into a geopandas df\n",
    "    new_gpd_df = gpd.GeoDataFrame()\n",
    "    new_gpd_df['osm_id'] = osm_id_arr\n",
    "    new_gpd_df['FID'] = FID_arr\n",
    "    new_gpd_df['geometry'] = poly_geom_arr\n",
    "    new_gpd_df['country'] = country_arr           \n",
    "    new_gpd_df['osm_name'] = osm_name_arr\n",
    "    new_gpd_df['osm_type'] = osm_type_arr\n",
    "    new_gpd_df['lat'] = lat_arr\n",
    "    new_gpd_df['lon'] = lon_arr\n",
    "    #new_gpd_df['point_geom'] = point_geom_arr\n",
    "    \n",
    "    \n",
    "    return new_gpd_df\n",
    "\n",
    "# Note 2018-11-30 update arr to gpd_df \n",
    "# Note 2019-04-30 updated to use osm_name instead of city/town for the OSM name"
   ]
  },
  {
   "cell_type": "markdown",
   "metadata": {},
   "source": [
    "### Load Data"
   ]
  },
  {
   "cell_type": "code",
   "execution_count": 6,
   "metadata": {},
   "outputs": [
    {
     "data": {
      "text/plain": [
       "'/tana-crunch/cascade/projects/Pop-ERL/notebooks/jupyter/ERL19'"
      ]
     },
     "execution_count": 6,
     "metadata": {},
     "output_type": "execute_result"
    }
   ],
   "source": [
    "import os\n",
    "os.getcwd()"
   ]
  },
  {
   "cell_type": "code",
   "execution_count": 7,
   "metadata": {},
   "outputs": [],
   "source": [
    "# File Paths\n",
    "temp_data = '../../../temp_data/ERL19/'\n",
    "erl_v2_data  = '../../../temp_data/ERL19v2/'"
   ]
  },
  {
   "cell_type": "code",
   "execution_count": 8,
   "metadata": {},
   "outputs": [
    {
     "name": "stdout",
     "output_type": "stream",
     "text": [
      "9813\n",
      "15000\n"
     ]
    }
   ],
   "source": [
    "# Load Polygons\n",
    "\n",
    "# Load Points\n",
    "points = gpd.read_file(erl_v2_data+'20190430_osm_All.shp')\n",
    "print(len(points))\n",
    "\n",
    "# Load Polygons\n",
    "polygons = gpd.read_file(temp_data+'WPE_1KM_2016_Pop_Clip_1500c300_A.shp')\n",
    "print(len(polygons))\n",
    "\n",
    "#Out File Name\n",
    "out = 'WPE_1KM_2016_Pop_Clip_1500c300_A_polypoints'"
   ]
  },
  {
   "cell_type": "markdown",
   "metadata": {},
   "source": [
    "### Buffer Points"
   ]
  },
  {
   "cell_type": "code",
   "execution_count": 9,
   "metadata": {},
   "outputs": [
    {
     "data": {
      "text/plain": [
       "0.0022522522522522522"
      ]
     },
     "execution_count": 9,
     "metadata": {},
     "output_type": "execute_result"
    }
   ],
   "source": [
    "# AGU 2018-12-04 - radius set to ~250m at the equator \n",
    "\n",
    "radius = 250*1/(111*1000)\n",
    "radius"
   ]
  },
  {
   "cell_type": "code",
   "execution_count": 10,
   "metadata": {},
   "outputs": [],
   "source": [
    "osm_buffer_gdf = point_buffer(points, radius)"
   ]
  },
  {
   "cell_type": "code",
   "execution_count": 11,
   "metadata": {
    "scrolled": false
   },
   "outputs": [],
   "source": [
    "#osm_buffer_gdf.head(6)"
   ]
  },
  {
   "cell_type": "code",
   "execution_count": 12,
   "metadata": {},
   "outputs": [
    {
     "data": {
      "text/html": [
       "<div>\n",
       "<style scoped>\n",
       "    .dataframe tbody tr th:only-of-type {\n",
       "        vertical-align: middle;\n",
       "    }\n",
       "\n",
       "    .dataframe tbody tr th {\n",
       "        vertical-align: top;\n",
       "    }\n",
       "\n",
       "    .dataframe thead th {\n",
       "        text-align: right;\n",
       "    }\n",
       "</style>\n",
       "<table border=\"1\" class=\"dataframe\">\n",
       "  <thead>\n",
       "    <tr style=\"text-align: right;\">\n",
       "      <th></th>\n",
       "      <th>country</th>\n",
       "      <th>osm_id</th>\n",
       "      <th>osm_name</th>\n",
       "      <th>lat</th>\n",
       "      <th>lon</th>\n",
       "      <th>osm_type</th>\n",
       "      <th>geometry</th>\n",
       "    </tr>\n",
       "  </thead>\n",
       "  <tbody>\n",
       "    <tr>\n",
       "      <th>0</th>\n",
       "      <td>Algeria</td>\n",
       "      <td>89369215</td>\n",
       "      <td>Tamanrasset</td>\n",
       "      <td>22.785454</td>\n",
       "      <td>5.532446</td>\n",
       "      <td>town</td>\n",
       "      <td>POLYGON ((5.534698752252252 22.7854543, 5.5346...</td>\n",
       "    </tr>\n",
       "    <tr>\n",
       "      <th>1</th>\n",
       "      <td>Algeria</td>\n",
       "      <td>89980948</td>\n",
       "      <td>In Salah</td>\n",
       "      <td>27.195033</td>\n",
       "      <td>2.482613</td>\n",
       "      <td>town</td>\n",
       "      <td>POLYGON ((2.484865452252253 27.1950331, 2.4848...</td>\n",
       "    </tr>\n",
       "    <tr>\n",
       "      <th>2</th>\n",
       "      <td>Algeria</td>\n",
       "      <td>252600742</td>\n",
       "      <td>Boumerdès</td>\n",
       "      <td>36.758882</td>\n",
       "      <td>3.470596</td>\n",
       "      <td>town</td>\n",
       "      <td>POLYGON ((3.472848252252252 36.758882, 3.47283...</td>\n",
       "    </tr>\n",
       "    <tr>\n",
       "      <th>3</th>\n",
       "      <td>Algeria</td>\n",
       "      <td>253167052</td>\n",
       "      <td>Thenia</td>\n",
       "      <td>36.724986</td>\n",
       "      <td>3.556935</td>\n",
       "      <td>town</td>\n",
       "      <td>POLYGON ((3.559187252252252 36.724986, 3.55917...</td>\n",
       "    </tr>\n",
       "    <tr>\n",
       "      <th>4</th>\n",
       "      <td>Algeria</td>\n",
       "      <td>253167208</td>\n",
       "      <td>Zemmouri</td>\n",
       "      <td>36.786406</td>\n",
       "      <td>3.601221</td>\n",
       "      <td>town</td>\n",
       "      <td>POLYGON ((3.603473152252253 36.7864064, 3.6034...</td>\n",
       "    </tr>\n",
       "    <tr>\n",
       "      <th>5</th>\n",
       "      <td>Algeria</td>\n",
       "      <td>253291208</td>\n",
       "      <td>Lakhdaria</td>\n",
       "      <td>36.563944</td>\n",
       "      <td>3.596907</td>\n",
       "      <td>town</td>\n",
       "      <td>POLYGON ((3.599159252252252 36.5639442, 3.5991...</td>\n",
       "    </tr>\n",
       "  </tbody>\n",
       "</table>\n",
       "</div>"
      ],
      "text/plain": [
       "   country     osm_id     osm_name        lat       lon osm_type  \\\n",
       "0  Algeria   89369215  Tamanrasset  22.785454  5.532446     town   \n",
       "1  Algeria   89980948     In Salah  27.195033  2.482613     town   \n",
       "2  Algeria  252600742    Boumerdès  36.758882  3.470596     town   \n",
       "3  Algeria  253167052       Thenia  36.724986  3.556935     town   \n",
       "4  Algeria  253167208     Zemmouri  36.786406  3.601221     town   \n",
       "5  Algeria  253291208    Lakhdaria  36.563944  3.596907     town   \n",
       "\n",
       "                                            geometry  \n",
       "0  POLYGON ((5.534698752252252 22.7854543, 5.5346...  \n",
       "1  POLYGON ((2.484865452252253 27.1950331, 2.4848...  \n",
       "2  POLYGON ((3.472848252252252 36.758882, 3.47283...  \n",
       "3  POLYGON ((3.559187252252252 36.724986, 3.55917...  \n",
       "4  POLYGON ((3.603473152252253 36.7864064, 3.6034...  \n",
       "5  POLYGON ((3.599159252252252 36.5639442, 3.5991...  "
      ]
     },
     "execution_count": 12,
     "metadata": {},
     "output_type": "execute_result"
    }
   ],
   "source": [
    "# drop point geom and keep buffered\n",
    "\n",
    "osm_buffer_gdf = osm_buffer_gdf.drop(['old_geom'], axis=1)\n",
    "osm_buffer_gdf.head(6)"
   ]
  },
  {
   "cell_type": "code",
   "execution_count": 13,
   "metadata": {},
   "outputs": [
    {
     "data": {
      "text/html": [
       "<div>\n",
       "<style scoped>\n",
       "    .dataframe tbody tr th:only-of-type {\n",
       "        vertical-align: middle;\n",
       "    }\n",
       "\n",
       "    .dataframe tbody tr th {\n",
       "        vertical-align: top;\n",
       "    }\n",
       "\n",
       "    .dataframe thead th {\n",
       "        text-align: right;\n",
       "    }\n",
       "</style>\n",
       "<table border=\"1\" class=\"dataframe\">\n",
       "  <thead>\n",
       "    <tr style=\"text-align: right;\">\n",
       "      <th></th>\n",
       "      <th>FID</th>\n",
       "      <th>geometry</th>\n",
       "    </tr>\n",
       "  </thead>\n",
       "  <tbody>\n",
       "    <tr>\n",
       "      <th>0</th>\n",
       "      <td>0</td>\n",
       "      <td>POLYGON ((19.228423 -34.42911, 19.228423 -34.4...</td>\n",
       "    </tr>\n",
       "    <tr>\n",
       "      <th>1</th>\n",
       "      <td>1</td>\n",
       "      <td>POLYGON ((9.858949000000001 37.337643, 9.86793...</td>\n",
       "    </tr>\n",
       "    <tr>\n",
       "      <th>2</th>\n",
       "      <td>2</td>\n",
       "      <td>POLYGON ((18.878078 -34.159614, 18.878078 -34....</td>\n",
       "    </tr>\n",
       "    <tr>\n",
       "      <th>3</th>\n",
       "      <td>3</td>\n",
       "      <td>POLYGON ((19.255372 -34.40216, 19.300288 -34.4...</td>\n",
       "    </tr>\n",
       "    <tr>\n",
       "      <th>4</th>\n",
       "      <td>4</td>\n",
       "      <td>POLYGON ((18.392985 -34.150631, 18.410952 -34....</td>\n",
       "    </tr>\n",
       "  </tbody>\n",
       "</table>\n",
       "</div>"
      ],
      "text/plain": [
       "   FID                                           geometry\n",
       "0    0  POLYGON ((19.228423 -34.42911, 19.228423 -34.4...\n",
       "1    1  POLYGON ((9.858949000000001 37.337643, 9.86793...\n",
       "2    2  POLYGON ((18.878078 -34.159614, 18.878078 -34....\n",
       "3    3  POLYGON ((19.255372 -34.40216, 19.300288 -34.4...\n",
       "4    4  POLYGON ((18.392985 -34.150631, 18.410952 -34...."
      ]
     },
     "execution_count": 13,
     "metadata": {},
     "output_type": "execute_result"
    }
   ],
   "source": [
    "polygons.head()"
   ]
  },
  {
   "cell_type": "markdown",
   "metadata": {},
   "source": [
    "#### Change CRS if needed"
   ]
  },
  {
   "cell_type": "code",
   "execution_count": null,
   "metadata": {},
   "outputs": [],
   "source": [
    "polygons.crs"
   ]
  },
  {
   "cell_type": "code",
   "execution_count": null,
   "metadata": {},
   "outputs": [],
   "source": [
    "osm_buffer_gdf.crs"
   ]
  },
  {
   "cell_type": "code",
   "execution_count": null,
   "metadata": {},
   "outputs": [],
   "source": [
    "# For GHS CRS\n",
    "\n",
    "crs = {'ellps': 'WGS84',\n",
    " 'lon_0': 0,\n",
    " 'no_defs': True,\n",
    " 'proj': 'moll',\n",
    " 'units': 'm',\n",
    " 'x_0': 0,\n",
    " 'y_0': 0}"
   ]
  },
  {
   "cell_type": "code",
   "execution_count": null,
   "metadata": {},
   "outputs": [],
   "source": [
    "raster_polygons.crs = crs"
   ]
  },
  {
   "cell_type": "code",
   "execution_count": null,
   "metadata": {},
   "outputs": [],
   "source": [
    "raster_polygons_crs = raster_polygons.to_crs(osm_buffer_gdf.crs)"
   ]
  },
  {
   "cell_type": "code",
   "execution_count": null,
   "metadata": {},
   "outputs": [],
   "source": [
    "# For GHS make FID and reset crs\n",
    "FID = list(range(len(raster_polygons)))\n",
    "raster_polygons['DN'] = FID\n",
    "raster_polygons.columns.values[0] = \"FID\""
   ]
  },
  {
   "cell_type": "code",
   "execution_count": null,
   "metadata": {
    "scrolled": true
   },
   "outputs": [],
   "source": [
    "raster_polygons.head()"
   ]
  },
  {
   "cell_type": "markdown",
   "metadata": {},
   "source": [
    "### Intersection"
   ]
  },
  {
   "cell_type": "code",
   "execution_count": null,
   "metadata": {},
   "outputs": [],
   "source": [
    "# run poly_overlap\n",
    "\n",
    "import time\n",
    "checkpoint = time.time()\n",
    "\n",
    "poly_overlap_out = poly_overlap(osm_buffer_gdf, polygons)\n",
    "\n",
    "print(\"elapsed time is: {}s\".format(time.time()-checkpoint))\n",
    "print(len(poly_overlap_out))"
   ]
  },
  {
   "cell_type": "code",
   "execution_count": 15,
   "metadata": {},
   "outputs": [
    {
     "name": "stdout",
     "output_type": "stream",
     "text": [
      "3627\n"
     ]
    }
   ],
   "source": [
    "print(len(poly_overlap_out))"
   ]
  },
  {
   "cell_type": "code",
   "execution_count": 16,
   "metadata": {
    "scrolled": true
   },
   "outputs": [
    {
     "data": {
      "text/html": [
       "<div>\n",
       "<style scoped>\n",
       "    .dataframe tbody tr th:only-of-type {\n",
       "        vertical-align: middle;\n",
       "    }\n",
       "\n",
       "    .dataframe tbody tr th {\n",
       "        vertical-align: top;\n",
       "    }\n",
       "\n",
       "    .dataframe thead th {\n",
       "        text-align: right;\n",
       "    }\n",
       "</style>\n",
       "<table border=\"1\" class=\"dataframe\">\n",
       "  <thead>\n",
       "    <tr style=\"text-align: right;\">\n",
       "      <th></th>\n",
       "      <th>osm_id</th>\n",
       "      <th>FID</th>\n",
       "      <th>geometry</th>\n",
       "      <th>country</th>\n",
       "      <th>osm_name</th>\n",
       "      <th>osm_type</th>\n",
       "      <th>lat</th>\n",
       "      <th>lon</th>\n",
       "    </tr>\n",
       "  </thead>\n",
       "  <tbody>\n",
       "    <tr>\n",
       "      <th>3607</th>\n",
       "      <td>2147483647</td>\n",
       "      <td>14089</td>\n",
       "      <td>POLYGON ((-1.765307 6.13002, -1.756323 6.13002...</td>\n",
       "      <td>Ghana</td>\n",
       "      <td>Obuasi</td>\n",
       "      <td>city</td>\n",
       "      <td>6.211683</td>\n",
       "      <td>-1.689611</td>\n",
       "    </tr>\n",
       "    <tr>\n",
       "      <th>3608</th>\n",
       "      <td>2147483647</td>\n",
       "      <td>12233</td>\n",
       "      <td>POLYGON ((-1.819206 4.944238, -1.810223 4.9442...</td>\n",
       "      <td>Ghana</td>\n",
       "      <td>Sekondi-Takoradi</td>\n",
       "      <td>city</td>\n",
       "      <td>4.927456</td>\n",
       "      <td>-1.749022</td>\n",
       "    </tr>\n",
       "    <tr>\n",
       "      <th>3609</th>\n",
       "      <td>27564980</td>\n",
       "      <td>14370</td>\n",
       "      <td>POLYGON ((-10.541889 6.219852, -10.532906 6.21...</td>\n",
       "      <td>Liberia</td>\n",
       "      <td>Monrovia</td>\n",
       "      <td>city</td>\n",
       "      <td>6.328034</td>\n",
       "      <td>-10.797788</td>\n",
       "    </tr>\n",
       "    <tr>\n",
       "      <th>3610</th>\n",
       "      <td>27565005</td>\n",
       "      <td>12646</td>\n",
       "      <td>POLYGON ((5.834477 5.330515, 5.84346 5.330515,...</td>\n",
       "      <td>Nigeria</td>\n",
       "      <td>Warri</td>\n",
       "      <td>city</td>\n",
       "      <td>5.517000</td>\n",
       "      <td>5.750000</td>\n",
       "    </tr>\n",
       "    <tr>\n",
       "      <th>3611</th>\n",
       "      <td>27565065</td>\n",
       "      <td>12018</td>\n",
       "      <td>POLYGON ((7.16399 4.692709, 7.16399 4.674742, ...</td>\n",
       "      <td>Nigeria</td>\n",
       "      <td>Port Harcourt</td>\n",
       "      <td>city</td>\n",
       "      <td>4.767658</td>\n",
       "      <td>7.018853</td>\n",
       "    </tr>\n",
       "    <tr>\n",
       "      <th>3612</th>\n",
       "      <td>27565107</td>\n",
       "      <td>14048</td>\n",
       "      <td>POLYGON ((7.451453 6.058154, 7.451453 6.049171...</td>\n",
       "      <td>Nigeria</td>\n",
       "      <td>Enugu</td>\n",
       "      <td>city</td>\n",
       "      <td>6.449983</td>\n",
       "      <td>7.500001</td>\n",
       "    </tr>\n",
       "    <tr>\n",
       "      <th>3613</th>\n",
       "      <td>27565124</td>\n",
       "      <td>14871</td>\n",
       "      <td>POLYGON ((3.337149 6.417482, 3.337149 6.408499...</td>\n",
       "      <td>Nigeria</td>\n",
       "      <td>Lagos</td>\n",
       "      <td>city</td>\n",
       "      <td>6.455057</td>\n",
       "      <td>3.394179</td>\n",
       "    </tr>\n",
       "    <tr>\n",
       "      <th>3614</th>\n",
       "      <td>251608378</td>\n",
       "      <td>12237</td>\n",
       "      <td>POLYGON ((8.340788999999999 4.935255, 8.340788...</td>\n",
       "      <td>Nigeria</td>\n",
       "      <td>Calabar</td>\n",
       "      <td>city</td>\n",
       "      <td>4.979600</td>\n",
       "      <td>8.337360</td>\n",
       "    </tr>\n",
       "    <tr>\n",
       "      <th>3615</th>\n",
       "      <td>501193829</td>\n",
       "      <td>12315</td>\n",
       "      <td>POLYGON ((7.909596 4.989154, 7.909596 4.971188...</td>\n",
       "      <td>Nigeria</td>\n",
       "      <td>Uyo</td>\n",
       "      <td>city</td>\n",
       "      <td>5.032245</td>\n",
       "      <td>7.924791</td>\n",
       "    </tr>\n",
       "    <tr>\n",
       "      <th>3616</th>\n",
       "      <td>501482915</td>\n",
       "      <td>13471</td>\n",
       "      <td>POLYGON ((5.735662 5.860524, 5.735662 5.851541...</td>\n",
       "      <td>Nigeria</td>\n",
       "      <td>Sapele</td>\n",
       "      <td>city</td>\n",
       "      <td>5.894053</td>\n",
       "      <td>5.676660</td>\n",
       "    </tr>\n",
       "    <tr>\n",
       "      <th>3617</th>\n",
       "      <td>501516317</td>\n",
       "      <td>12390</td>\n",
       "      <td>POLYGON ((7.756881 5.105936, 7.783831 5.105936...</td>\n",
       "      <td>Nigeria</td>\n",
       "      <td>Ikot Ekpene</td>\n",
       "      <td>city</td>\n",
       "      <td>5.181975</td>\n",
       "      <td>7.713218</td>\n",
       "    </tr>\n",
       "    <tr>\n",
       "      <th>3618</th>\n",
       "      <td>501517702</td>\n",
       "      <td>12363</td>\n",
       "      <td>POLYGON ((7.217889 5.016104, 7.217889 4.998137...</td>\n",
       "      <td>Nigeria</td>\n",
       "      <td>Aba</td>\n",
       "      <td>city</td>\n",
       "      <td>5.112735</td>\n",
       "      <td>7.364349</td>\n",
       "    </tr>\n",
       "    <tr>\n",
       "      <th>3619</th>\n",
       "      <td>501540903</td>\n",
       "      <td>13362</td>\n",
       "      <td>POLYGON ((8.06231 5.779675, 8.06231 5.770692, ...</td>\n",
       "      <td>Nigeria</td>\n",
       "      <td>Abakaliki</td>\n",
       "      <td>city</td>\n",
       "      <td>6.320890</td>\n",
       "      <td>8.113320</td>\n",
       "    </tr>\n",
       "    <tr>\n",
       "      <th>3620</th>\n",
       "      <td>501540935</td>\n",
       "      <td>12363</td>\n",
       "      <td>POLYGON ((7.217889 5.016104, 7.217889 4.998137...</td>\n",
       "      <td>Nigeria</td>\n",
       "      <td>Awka</td>\n",
       "      <td>city</td>\n",
       "      <td>6.210095</td>\n",
       "      <td>7.074115</td>\n",
       "    </tr>\n",
       "    <tr>\n",
       "      <th>3621</th>\n",
       "      <td>2147483647</td>\n",
       "      <td>14423</td>\n",
       "      <td>POLYGON ((5.609897 6.255785, 5.609897 6.246801...</td>\n",
       "      <td>Nigeria</td>\n",
       "      <td>Benin City</td>\n",
       "      <td>city</td>\n",
       "      <td>6.333059</td>\n",
       "      <td>5.622106</td>\n",
       "    </tr>\n",
       "    <tr>\n",
       "      <th>3622</th>\n",
       "      <td>2147483647</td>\n",
       "      <td>12363</td>\n",
       "      <td>POLYGON ((7.217889 5.016104, 7.217889 4.998137...</td>\n",
       "      <td>Nigeria</td>\n",
       "      <td>Owerri</td>\n",
       "      <td>city</td>\n",
       "      <td>5.489736</td>\n",
       "      <td>7.034197</td>\n",
       "    </tr>\n",
       "    <tr>\n",
       "      <th>3623</th>\n",
       "      <td>2147483647</td>\n",
       "      <td>12363</td>\n",
       "      <td>POLYGON ((7.217889 5.016104, 7.217889 4.998137...</td>\n",
       "      <td>Nigeria</td>\n",
       "      <td>Umuahia</td>\n",
       "      <td>city</td>\n",
       "      <td>5.528900</td>\n",
       "      <td>7.499154</td>\n",
       "    </tr>\n",
       "    <tr>\n",
       "      <th>3624</th>\n",
       "      <td>2147483647</td>\n",
       "      <td>12363</td>\n",
       "      <td>POLYGON ((7.217889 5.016104, 7.217889 4.998137...</td>\n",
       "      <td>Nigeria</td>\n",
       "      <td>Onitsha</td>\n",
       "      <td>city</td>\n",
       "      <td>6.133234</td>\n",
       "      <td>6.792318</td>\n",
       "    </tr>\n",
       "    <tr>\n",
       "      <th>3625</th>\n",
       "      <td>1919282943</td>\n",
       "      <td>14738</td>\n",
       "      <td>POLYGON ((1.199148 6.372566, 1.199148 6.3546, ...</td>\n",
       "      <td>Togo</td>\n",
       "      <td>Tsévié</td>\n",
       "      <td>city</td>\n",
       "      <td>6.423115</td>\n",
       "      <td>1.210469</td>\n",
       "    </tr>\n",
       "    <tr>\n",
       "      <th>3626</th>\n",
       "      <td>2147483647</td>\n",
       "      <td>14000</td>\n",
       "      <td>POLYGON ((1.109316 6.067138, 1.109316 6.058154...</td>\n",
       "      <td>Togo</td>\n",
       "      <td>Lomé</td>\n",
       "      <td>city</td>\n",
       "      <td>6.130419</td>\n",
       "      <td>1.215829</td>\n",
       "    </tr>\n",
       "  </tbody>\n",
       "</table>\n",
       "</div>"
      ],
      "text/plain": [
       "          osm_id    FID                                           geometry  \\\n",
       "3607  2147483647  14089  POLYGON ((-1.765307 6.13002, -1.756323 6.13002...   \n",
       "3608  2147483647  12233  POLYGON ((-1.819206 4.944238, -1.810223 4.9442...   \n",
       "3609    27564980  14370  POLYGON ((-10.541889 6.219852, -10.532906 6.21...   \n",
       "3610    27565005  12646  POLYGON ((5.834477 5.330515, 5.84346 5.330515,...   \n",
       "3611    27565065  12018  POLYGON ((7.16399 4.692709, 7.16399 4.674742, ...   \n",
       "3612    27565107  14048  POLYGON ((7.451453 6.058154, 7.451453 6.049171...   \n",
       "3613    27565124  14871  POLYGON ((3.337149 6.417482, 3.337149 6.408499...   \n",
       "3614   251608378  12237  POLYGON ((8.340788999999999 4.935255, 8.340788...   \n",
       "3615   501193829  12315  POLYGON ((7.909596 4.989154, 7.909596 4.971188...   \n",
       "3616   501482915  13471  POLYGON ((5.735662 5.860524, 5.735662 5.851541...   \n",
       "3617   501516317  12390  POLYGON ((7.756881 5.105936, 7.783831 5.105936...   \n",
       "3618   501517702  12363  POLYGON ((7.217889 5.016104, 7.217889 4.998137...   \n",
       "3619   501540903  13362  POLYGON ((8.06231 5.779675, 8.06231 5.770692, ...   \n",
       "3620   501540935  12363  POLYGON ((7.217889 5.016104, 7.217889 4.998137...   \n",
       "3621  2147483647  14423  POLYGON ((5.609897 6.255785, 5.609897 6.246801...   \n",
       "3622  2147483647  12363  POLYGON ((7.217889 5.016104, 7.217889 4.998137...   \n",
       "3623  2147483647  12363  POLYGON ((7.217889 5.016104, 7.217889 4.998137...   \n",
       "3624  2147483647  12363  POLYGON ((7.217889 5.016104, 7.217889 4.998137...   \n",
       "3625  1919282943  14738  POLYGON ((1.199148 6.372566, 1.199148 6.3546, ...   \n",
       "3626  2147483647  14000  POLYGON ((1.109316 6.067138, 1.109316 6.058154...   \n",
       "\n",
       "      country          osm_name osm_type       lat        lon  \n",
       "3607    Ghana            Obuasi     city  6.211683  -1.689611  \n",
       "3608    Ghana  Sekondi-Takoradi     city  4.927456  -1.749022  \n",
       "3609  Liberia          Monrovia     city  6.328034 -10.797788  \n",
       "3610  Nigeria             Warri     city  5.517000   5.750000  \n",
       "3611  Nigeria     Port Harcourt     city  4.767658   7.018853  \n",
       "3612  Nigeria             Enugu     city  6.449983   7.500001  \n",
       "3613  Nigeria             Lagos     city  6.455057   3.394179  \n",
       "3614  Nigeria           Calabar     city  4.979600   8.337360  \n",
       "3615  Nigeria               Uyo     city  5.032245   7.924791  \n",
       "3616  Nigeria            Sapele     city  5.894053   5.676660  \n",
       "3617  Nigeria       Ikot Ekpene     city  5.181975   7.713218  \n",
       "3618  Nigeria               Aba     city  5.112735   7.364349  \n",
       "3619  Nigeria         Abakaliki     city  6.320890   8.113320  \n",
       "3620  Nigeria              Awka     city  6.210095   7.074115  \n",
       "3621  Nigeria        Benin City     city  6.333059   5.622106  \n",
       "3622  Nigeria            Owerri     city  5.489736   7.034197  \n",
       "3623  Nigeria           Umuahia     city  5.528900   7.499154  \n",
       "3624  Nigeria           Onitsha     city  6.133234   6.792318  \n",
       "3625     Togo            Tsévié     city  6.423115   1.210469  \n",
       "3626     Togo              Lomé     city  6.130419   1.215829  "
      ]
     },
     "execution_count": 16,
     "metadata": {},
     "output_type": "execute_result"
    }
   ],
   "source": [
    "poly_overlap_out.tail(20)"
   ]
  },
  {
   "cell_type": "code",
   "execution_count": 17,
   "metadata": {},
   "outputs": [
    {
     "name": "stderr",
     "output_type": "stream",
     "text": [
      "/home/cascade/miniconda3/envs/geo/lib/python3.6/site-packages/geopandas/io/file.py:108: FionaDeprecationWarning: Use fiona.Env() instead.\n",
      "  with fiona.drivers():\n"
     ]
    }
   ],
   "source": [
    "poly_overlap_out.to_file(erl_v2_data+out+'.shp', driver='ESRI Shapefile')"
   ]
  }
 ],
 "metadata": {
  "kernelspec": {
   "display_name": "Python [conda env:geo]",
   "language": "python",
   "name": "conda-env-geo-py"
  },
  "language_info": {
   "codemirror_mode": {
    "name": "ipython",
    "version": 3
   },
   "file_extension": ".py",
   "mimetype": "text/x-python",
   "name": "python",
   "nbconvert_exporter": "python",
   "pygments_lexer": "ipython3",
   "version": "3.6.7"
  }
 },
 "nbformat": 4,
 "nbformat_minor": 2
}
