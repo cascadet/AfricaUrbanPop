{
 "cells": [
  {
   "cell_type": "markdown",
   "metadata": {},
   "source": [
    "### Open street map search \n",
    "\n",
    "From Overpass Turbo, use this API and follow the instructions from the\n",
    "URL below to quary OSM with python\n",
    "\n",
    "https://towardsdatascience.com/loading-data-from-openstreetmap-with-python-and-the-overpass-api-513882a27fd0\n",
    "\n",
    "OSM CRS IS ----  'EPSG:4326'\n",
    "\n",
    "#### Open Street Map Query for Cities and Villages \n",
    "URL for OSM Overpass Turbo: https://overpass-turbo.eu/\n",
    "\n",
    "\n",
    "URL for OSM Features:\n",
    "https://wiki.openstreetmap.org/wiki/Map_Features#Populated_settlements.2C_urban\n",
    "\n",
    "#### Example from Ghana for Towns ... For cities, use *place=city*\n",
    "    area[\"name:en\"=\"Ghana\"]->.boundaryarea;\n",
    "    (\n",
    "    node(area.boundaryarea)[place=town];\n",
    "    way(area.boundaryarea)[place=town];>;\n",
    "    rel(area.boundaryarea)[place=town];>>;\n",
    "    );\n",
    "    out meta;\n",
    "    // print results\n",
    "    out body;\n",
    "    >;\n",
    "    out skel qt;\n",
    "\n",
    "Note: From what I can tell, OSM does not allow for 'Africa' to be used as an 'area' key. \n",
    "\n",
    "### Note: This will pull refugee camps. Really cool. "
   ]
  },
  {
   "cell_type": "code",
   "execution_count": 4,
   "metadata": {},
   "outputs": [],
   "source": [
    "### List of African Countries from the UN\n",
    "\n",
    "countries = [\n",
    "#Northern Africa\n",
    "    'Algeria',\n",
    "    'Egypt',\n",
    "    'Libya',\n",
    "    'Morocco',\n",
    "    'Tunisia',\n",
    "    'Western Sahara',\n",
    "\n",
    "    #Sub-Saharan Africa\n",
    "    #Eastern Africa\n",
    "    'Burundi',\n",
    "    'Comoros',\n",
    "    'Djibouti',\n",
    "    'Eritrea',\n",
    "    'Ethiopia',\n",
    "    'Kenya',\n",
    "    'Madagascar',\n",
    "    'Malawi',\n",
    "    'Mauritius',\n",
    "    #Mayotte,\n",
    "    'Mozambique',\n",
    "    'Réunion',\n",
    "    'Rwanda',\n",
    "    'Somalia',\n",
    "    'Sudan',\n",
    "    'Uganda',\n",
    "    'Tanzania',\n",
    "    'Zambia',\n",
    "    'Zimbabwe',\n",
    "    \n",
    "    #Middle Africa\n",
    "    'Angola',\n",
    "    'Cameroon',\n",
    "    'Central African Republic',\n",
    "    'Chad',\n",
    "    'Congo-Brazzaville',\n",
    "    'Congo-Kinshasa',\n",
    "    'Equatorial Guinea',\n",
    "    'Gabon',\n",
    "    'Sao Tome and Principe',\n",
    "    \n",
    "    # Southern Africa\n",
    "    'Botswana',\n",
    "    'Lesotho',\n",
    "    'Namibia',\n",
    "    'South Africa',\n",
    "    'Swaziland',\n",
    "    \n",
    "    # Western Africa\n",
    "    'Benin',\n",
    "    'Burkina Faso',\n",
    "    'Cape Verde',\n",
    "    'Côte d\\'Ivoire',\n",
    "    'Gambia',\n",
    "    'Ghana',\n",
    "    'Guinea',\n",
    "    'Guinea-Bissau',\n",
    "    'Liberia',\n",
    "    'Mali',\n",
    "    'Mauritania',\n",
    "    'Niger',\n",
    "    'Nigeria',\n",
    "    'Senegal',\n",
    "    'Sierra Leone',\n",
    "    'Togo'\n",
    "]"
   ]
  },
  {
   "cell_type": "code",
   "execution_count": 5,
   "metadata": {},
   "outputs": [
    {
     "data": {
      "text/plain": [
       "['Algeria',\n",
       " 'Egypt',\n",
       " 'Libya',\n",
       " 'Morocco',\n",
       " 'Tunisia',\n",
       " 'Western Sahara',\n",
       " 'Burundi',\n",
       " 'Comoros',\n",
       " 'Djibouti',\n",
       " 'Eritrea',\n",
       " 'Ethiopia',\n",
       " 'Kenya',\n",
       " 'Madagascar',\n",
       " 'Malawi',\n",
       " 'Mauritius',\n",
       " 'Mozambique',\n",
       " 'Réunion',\n",
       " 'Rwanda',\n",
       " 'Somalia',\n",
       " 'Sudan',\n",
       " 'Uganda',\n",
       " 'Tanzania',\n",
       " 'Zambia',\n",
       " 'Zimbabwe',\n",
       " 'Angola',\n",
       " 'Cameroon',\n",
       " 'Central African Republic',\n",
       " 'Chad',\n",
       " 'Congo-Brazzaville',\n",
       " 'Congo-Kinshasa',\n",
       " 'Equatorial Guinea',\n",
       " 'Gabon',\n",
       " 'Sao Tome and Principe',\n",
       " 'Botswana',\n",
       " 'Lesotho',\n",
       " 'Namibia',\n",
       " 'South Africa',\n",
       " 'Swaziland',\n",
       " 'Benin',\n",
       " 'Burkina Faso',\n",
       " 'Cape Verde',\n",
       " \"Côte d'Ivoire\",\n",
       " 'Gambia',\n",
       " 'Ghana',\n",
       " 'Guinea',\n",
       " 'Guinea-Bissau',\n",
       " 'Liberia',\n",
       " 'Mali',\n",
       " 'Mauritania',\n",
       " 'Niger',\n",
       " 'Nigeria',\n",
       " 'Senegal',\n",
       " 'Sierra Leone',\n",
       " 'Togo']"
      ]
     },
     "execution_count": 5,
     "metadata": {},
     "output_type": "execute_result"
    }
   ],
   "source": [
    "countries"
   ]
  },
  {
   "cell_type": "markdown",
   "metadata": {},
   "source": [
    "#### Pull all OSM City Points for All African Countries"
   ]
  },
  {
   "cell_type": "code",
   "execution_count": 7,
   "metadata": {},
   "outputs": [
    {
     "ename": "JSONDecodeError",
     "evalue": "Expecting value: line 1 column 1 (char 0)",
     "output_type": "error",
     "traceback": [
      "\u001b[0;31m---------------------------------------------------------------------------\u001b[0m",
      "\u001b[0;31mJSONDecodeError\u001b[0m                           Traceback (most recent call last)",
      "\u001b[0;32m<ipython-input-7-89fd0a6ddb88>\u001b[0m in \u001b[0;36m<module>\u001b[0;34m()\u001b[0m\n\u001b[1;32m     32\u001b[0m \u001b[0;34m\u001b[0m\u001b[0m\n\u001b[1;32m     33\u001b[0m     \u001b[0mresponse\u001b[0m \u001b[0;34m=\u001b[0m \u001b[0mrequests\u001b[0m\u001b[0;34m.\u001b[0m\u001b[0mget\u001b[0m\u001b[0;34m(\u001b[0m\u001b[0moverpass_url\u001b[0m\u001b[0;34m,\u001b[0m \u001b[0mparams\u001b[0m\u001b[0;34m=\u001b[0m\u001b[0;34m{\u001b[0m\u001b[0;34m'data'\u001b[0m\u001b[0;34m:\u001b[0m \u001b[0moverpass_query\u001b[0m\u001b[0;34m}\u001b[0m\u001b[0;34m)\u001b[0m\u001b[0;34m\u001b[0m\u001b[0m\n\u001b[0;32m---> 34\u001b[0;31m     \u001b[0mdata\u001b[0m \u001b[0;34m=\u001b[0m \u001b[0mresponse\u001b[0m\u001b[0;34m.\u001b[0m\u001b[0mjson\u001b[0m\u001b[0;34m(\u001b[0m\u001b[0;34m)\u001b[0m\u001b[0;34m\u001b[0m\u001b[0m\n\u001b[0m\u001b[1;32m     35\u001b[0m     \u001b[0mresponse_dict\u001b[0m\u001b[0;34m[\u001b[0m\u001b[0mcountry_name\u001b[0m\u001b[0;34m]\u001b[0m \u001b[0;34m=\u001b[0m \u001b[0mdata\u001b[0m\u001b[0;34m\u001b[0m\u001b[0m\n\u001b[1;32m     36\u001b[0m \u001b[0;34m\u001b[0m\u001b[0m\n",
      "\u001b[0;32m/anaconda3/lib/python3.7/site-packages/requests/models.py\u001b[0m in \u001b[0;36mjson\u001b[0;34m(self, **kwargs)\u001b[0m\n\u001b[1;32m    894\u001b[0m                     \u001b[0;31m# used.\u001b[0m\u001b[0;34m\u001b[0m\u001b[0;34m\u001b[0m\u001b[0m\n\u001b[1;32m    895\u001b[0m                     \u001b[0;32mpass\u001b[0m\u001b[0;34m\u001b[0m\u001b[0m\n\u001b[0;32m--> 896\u001b[0;31m         \u001b[0;32mreturn\u001b[0m \u001b[0mcomplexjson\u001b[0m\u001b[0;34m.\u001b[0m\u001b[0mloads\u001b[0m\u001b[0;34m(\u001b[0m\u001b[0mself\u001b[0m\u001b[0;34m.\u001b[0m\u001b[0mtext\u001b[0m\u001b[0;34m,\u001b[0m \u001b[0;34m**\u001b[0m\u001b[0mkwargs\u001b[0m\u001b[0;34m)\u001b[0m\u001b[0;34m\u001b[0m\u001b[0m\n\u001b[0m\u001b[1;32m    897\u001b[0m \u001b[0;34m\u001b[0m\u001b[0m\n\u001b[1;32m    898\u001b[0m     \u001b[0;34m@\u001b[0m\u001b[0mproperty\u001b[0m\u001b[0;34m\u001b[0m\u001b[0m\n",
      "\u001b[0;32m/anaconda3/lib/python3.7/site-packages/simplejson/__init__.py\u001b[0m in \u001b[0;36mloads\u001b[0;34m(s, encoding, cls, object_hook, parse_float, parse_int, parse_constant, object_pairs_hook, use_decimal, **kw)\u001b[0m\n\u001b[1;32m    516\u001b[0m             \u001b[0mparse_constant\u001b[0m \u001b[0;32mis\u001b[0m \u001b[0;32mNone\u001b[0m \u001b[0;32mand\u001b[0m \u001b[0mobject_pairs_hook\u001b[0m \u001b[0;32mis\u001b[0m \u001b[0;32mNone\u001b[0m\u001b[0;34m\u001b[0m\u001b[0m\n\u001b[1;32m    517\u001b[0m             and not use_decimal and not kw):\n\u001b[0;32m--> 518\u001b[0;31m         \u001b[0;32mreturn\u001b[0m \u001b[0m_default_decoder\u001b[0m\u001b[0;34m.\u001b[0m\u001b[0mdecode\u001b[0m\u001b[0;34m(\u001b[0m\u001b[0ms\u001b[0m\u001b[0;34m)\u001b[0m\u001b[0;34m\u001b[0m\u001b[0m\n\u001b[0m\u001b[1;32m    519\u001b[0m     \u001b[0;32mif\u001b[0m \u001b[0mcls\u001b[0m \u001b[0;32mis\u001b[0m \u001b[0;32mNone\u001b[0m\u001b[0;34m:\u001b[0m\u001b[0;34m\u001b[0m\u001b[0m\n\u001b[1;32m    520\u001b[0m         \u001b[0mcls\u001b[0m \u001b[0;34m=\u001b[0m \u001b[0mJSONDecoder\u001b[0m\u001b[0;34m\u001b[0m\u001b[0m\n",
      "\u001b[0;32m/anaconda3/lib/python3.7/site-packages/simplejson/decoder.py\u001b[0m in \u001b[0;36mdecode\u001b[0;34m(self, s, _w, _PY3)\u001b[0m\n\u001b[1;32m    368\u001b[0m         \u001b[0;32mif\u001b[0m \u001b[0m_PY3\u001b[0m \u001b[0;32mand\u001b[0m \u001b[0misinstance\u001b[0m\u001b[0;34m(\u001b[0m\u001b[0ms\u001b[0m\u001b[0;34m,\u001b[0m \u001b[0mbytes\u001b[0m\u001b[0;34m)\u001b[0m\u001b[0;34m:\u001b[0m\u001b[0;34m\u001b[0m\u001b[0m\n\u001b[1;32m    369\u001b[0m             \u001b[0ms\u001b[0m \u001b[0;34m=\u001b[0m \u001b[0mstr\u001b[0m\u001b[0;34m(\u001b[0m\u001b[0ms\u001b[0m\u001b[0;34m,\u001b[0m \u001b[0mself\u001b[0m\u001b[0;34m.\u001b[0m\u001b[0mencoding\u001b[0m\u001b[0;34m)\u001b[0m\u001b[0;34m\u001b[0m\u001b[0m\n\u001b[0;32m--> 370\u001b[0;31m         \u001b[0mobj\u001b[0m\u001b[0;34m,\u001b[0m \u001b[0mend\u001b[0m \u001b[0;34m=\u001b[0m \u001b[0mself\u001b[0m\u001b[0;34m.\u001b[0m\u001b[0mraw_decode\u001b[0m\u001b[0;34m(\u001b[0m\u001b[0ms\u001b[0m\u001b[0;34m)\u001b[0m\u001b[0;34m\u001b[0m\u001b[0m\n\u001b[0m\u001b[1;32m    371\u001b[0m         \u001b[0mend\u001b[0m \u001b[0;34m=\u001b[0m \u001b[0m_w\u001b[0m\u001b[0;34m(\u001b[0m\u001b[0ms\u001b[0m\u001b[0;34m,\u001b[0m \u001b[0mend\u001b[0m\u001b[0;34m)\u001b[0m\u001b[0;34m.\u001b[0m\u001b[0mend\u001b[0m\u001b[0;34m(\u001b[0m\u001b[0;34m)\u001b[0m\u001b[0;34m\u001b[0m\u001b[0m\n\u001b[1;32m    372\u001b[0m         \u001b[0;32mif\u001b[0m \u001b[0mend\u001b[0m \u001b[0;34m!=\u001b[0m \u001b[0mlen\u001b[0m\u001b[0;34m(\u001b[0m\u001b[0ms\u001b[0m\u001b[0;34m)\u001b[0m\u001b[0;34m:\u001b[0m\u001b[0;34m\u001b[0m\u001b[0m\n",
      "\u001b[0;32m/anaconda3/lib/python3.7/site-packages/simplejson/decoder.py\u001b[0m in \u001b[0;36mraw_decode\u001b[0;34m(self, s, idx, _w, _PY3)\u001b[0m\n\u001b[1;32m    398\u001b[0m             \u001b[0;32melif\u001b[0m \u001b[0mord0\u001b[0m \u001b[0;34m==\u001b[0m \u001b[0;36m0xef\u001b[0m \u001b[0;32mand\u001b[0m \u001b[0ms\u001b[0m\u001b[0;34m[\u001b[0m\u001b[0midx\u001b[0m\u001b[0;34m:\u001b[0m\u001b[0midx\u001b[0m \u001b[0;34m+\u001b[0m \u001b[0;36m3\u001b[0m\u001b[0;34m]\u001b[0m \u001b[0;34m==\u001b[0m \u001b[0;34m'\\xef\\xbb\\xbf'\u001b[0m\u001b[0;34m:\u001b[0m\u001b[0;34m\u001b[0m\u001b[0m\n\u001b[1;32m    399\u001b[0m                 \u001b[0midx\u001b[0m \u001b[0;34m+=\u001b[0m \u001b[0;36m3\u001b[0m\u001b[0;34m\u001b[0m\u001b[0m\n\u001b[0;32m--> 400\u001b[0;31m         \u001b[0;32mreturn\u001b[0m \u001b[0mself\u001b[0m\u001b[0;34m.\u001b[0m\u001b[0mscan_once\u001b[0m\u001b[0;34m(\u001b[0m\u001b[0ms\u001b[0m\u001b[0;34m,\u001b[0m \u001b[0midx\u001b[0m\u001b[0;34m=\u001b[0m\u001b[0m_w\u001b[0m\u001b[0;34m(\u001b[0m\u001b[0ms\u001b[0m\u001b[0;34m,\u001b[0m \u001b[0midx\u001b[0m\u001b[0;34m)\u001b[0m\u001b[0;34m.\u001b[0m\u001b[0mend\u001b[0m\u001b[0;34m(\u001b[0m\u001b[0;34m)\u001b[0m\u001b[0;34m)\u001b[0m\u001b[0;34m\u001b[0m\u001b[0m\n\u001b[0m",
      "\u001b[0;31mJSONDecodeError\u001b[0m: Expecting value: line 1 column 1 (char 0)"
     ]
    }
   ],
   "source": [
    "import time\n",
    "import requests\n",
    "import json\n",
    "\n",
    "# Check time\n",
    "checkpoint = time.time()\n",
    "\n",
    "# geographies include city, town & village  ... add name:en to search in English for countries\n",
    "# Cities takes 78 - 143 seconds \n",
    "# 863 cities\n",
    "\n",
    "# Towns ... 114 seconds?\n",
    "\n",
    "# Attempt to make a loop through all OSM countries\n",
    "response_dict = {}\n",
    "overpass_url = \"http://overpass-api.de/api/interpreter\"\n",
    "\n",
    "# put curly in quotes \n",
    "\n",
    "# countries = ['Chad','Ghana', \"South Africa\"]\n",
    "\n",
    "for country_name in countries:\n",
    "    overpass_query = \"\"\"\n",
    "            [out:json];\n",
    "            area[\"name:en\"=\"{}\"];  \n",
    "            (node[place=city](area);\n",
    "            way[place=city](area);\n",
    "            rel[place=city](area);\n",
    "            );\n",
    "            out center;\n",
    "            \"\"\".format(country_name)\n",
    "\n",
    "    response = requests.get(overpass_url, params={'data': overpass_query})\n",
    "    data = response.json()\n",
    "    response_dict[country_name] = data\n",
    "\n",
    "print('elasped time to do the quary:{}'.format(time.time() - checkpoint))    "
   ]
  },
  {
   "cell_type": "code",
   "execution_count": null,
   "metadata": {},
   "outputs": [],
   "source": [
    "# Nesting order: \n",
    "#     response_dict = dict ... countries\n",
    "#         elements  = list ... \n",
    "#             each list item is a dict w/ keys type, id, lat, long, tags\n",
    "#                 tags = dict ... get names\n",
    "                \n",
    "                \n",
    "# nest = response_dict['Chad']['elements'][1]['tags']['name:en'] # return name value \n",
    "# type(nest)\n",
    "# nest"
   ]
  },
  {
   "cell_type": "code",
   "execution_count": 25,
   "metadata": {},
   "outputs": [],
   "source": [
    "# Copy response dict so we don't have to keep querying\n",
    "import copy\n",
    "\n",
    "response_dict_copy1 = copy.deepcopy(response_dict) # deep copy\n",
    "response_dict_copy2 = copy.deepcopy(response_dict) # deep copy ----> use this copy "
   ]
  },
  {
   "cell_type": "code",
   "execution_count": null,
   "metadata": {},
   "outputs": [],
   "source": [
    "# Prof that not all cities with GPS cords have tag = 'name' ... if goal is to have labeled points, then remove all OSM\n",
    "# points that do not have labeled 'names' as a tag\n",
    "# print(len(response_dict_copy1['Sudan']['elements']))\n",
    "\n",
    "# test = response_dict_copy1['Sudan']['elements']\n",
    "# print(len(test))\n",
    "\n",
    "# for city in test:\n",
    "#     if 'name' not in city['tags']:\n",
    "#         print('yes')\n",
    "\n",
    "# for city in test:\n",
    "#     if 'name' not in city['tags']:\n",
    "#         test.remove(city)\n",
    "# print(len(test))\n",
    "# print(len(response_dict['Sudan']['elements']))\n",
    "# print(len(response_dict_copy1['Sudan']['elements']))\n",
    "# print(len(response_dict_copy2['Sudan']['elements']))"
   ]
  },
  {
   "cell_type": "markdown",
   "metadata": {},
   "source": [
    "#### The code below will remove all points w/o labels"
   ]
  },
  {
   "cell_type": "code",
   "execution_count": 27,
   "metadata": {},
   "outputs": [
    {
     "name": "stdout",
     "output_type": "stream",
     "text": [
      "68\n",
      "64\n"
     ]
    }
   ],
   "source": [
    "### remove points without names\n",
    "\n",
    "# print(len(response_dict_copy2['Sudan']['elements']))\n",
    "\n",
    "# for country in countries:\n",
    "#     for city in response_dict_copy2[country]['elements']:\n",
    "#         if 'name' not in city['tags']:\n",
    "#             response_dict_copy2[country]['elements'].remove(city)\n",
    "\n",
    "# print(len(response_dict_copy2['Sudan']['elements']))\n",
    "\n",
    "# for city in response_dict_copy2['Sudan']['elements']:\n",
    "#      if 'name' not in city['tags']:\n",
    "#         print('yes')\n",
    "\n",
    "# name = []\n",
    "# for city in response_dict_copy2['Sudan']['elements']:\n",
    "#     city_name = city['tags']['name']\n",
    "#     name.append(city_name)"
   ]
  },
  {
   "cell_type": "markdown",
   "metadata": {},
   "source": [
    "#### The code below will make a new dict with key as name and values as lat long and ID"
   ]
  },
  {
   "cell_type": "code",
   "execution_count": 28,
   "metadata": {},
   "outputs": [],
   "source": [
    "# make dict with : id, lat, lon & name called gps\n",
    "# good_keys = ['id', 'lat', 'lon', 'name', 'is_in:country', 'place', 'population']\n",
    "\n",
    "gps_keys = ['id', 'lat', 'lon']\n",
    "gps = {}\n",
    "for country_name in countries:\n",
    "    gps[country_name] = {}\n",
    "    for city_dict in response_dict_copy2[country_name]['elements']:\n",
    "        city_id = city_dict['tags']['name'] # will make key 'city name' w/ lat, lon, ids as values\n",
    "        gps[country_name].update({city_id:{key : value for key, value in city_dict.items() if key in gps_keys}})"
   ]
  },
  {
   "cell_type": "markdown",
   "metadata": {},
   "source": [
    "#### write out as json file"
   ]
  },
  {
   "cell_type": "code",
   "execution_count": 29,
   "metadata": {},
   "outputs": [],
   "source": [
    "outpath = '/home/cascade/tana-crunch-cascade/projects/NTL/temp_data/'\n",
    "\n",
    "# with open(outpath+'africa_cities.json', 'w') as fp:\n",
    "#     json.dump(gps, fp)"
   ]
  },
  {
   "cell_type": "markdown",
   "metadata": {},
   "source": [
    "#### turn into array and pandas data frame"
   ]
  },
  {
   "cell_type": "code",
   "execution_count": 38,
   "metadata": {},
   "outputs": [],
   "source": [
    "# Loop through countries and make an np array w/ country, city name, id, lat, long\n",
    "import numpy as np\n",
    "import pandas as pd\n",
    "\n",
    "coords = []\n",
    "for country in gps:    \n",
    "    for city in gps[country]:\n",
    "        country_name = country\n",
    "        city_name = city\n",
    "        i_d = gps[country][city].get('id')\n",
    "        lat = gps[country][city].get('lat')\n",
    "        lon = gps[country][city].get('lon')\n",
    "        coords.append((country_name, city_name, i_d, lat, lon))\n",
    "\n",
    "coords_arr = np.array(coords)\n",
    "coords_arr\n",
    "\n",
    "# Try to make it into a dataframe\n",
    "gps_df = pd.DataFrame(data=coords_arr)\n",
    "gps_df.columns = ['Country','City','Id','lat','lon']\n",
    "\n",
    "\n",
    "# write it out \n",
    "# gps_df.to_csv(outpath+'africa_cities.csv', sep=',', index=False, header=True)"
   ]
  },
  {
   "cell_type": "markdown",
   "metadata": {},
   "source": [
    "#### Write out at .csv"
   ]
  },
  {
   "cell_type": "markdown",
   "metadata": {},
   "source": [
    "#### Plot the points"
   ]
  },
  {
   "cell_type": "code",
   "execution_count": null,
   "metadata": {},
   "outputs": [],
   "source": [
    "# plot them \n",
    "\n",
    "import numpy as np\n",
    "import matplotlib.pyplot as plt\n",
    "\n",
    "# Collect coords into list\n",
    "coords = []\n",
    "for element in data['elements']:\n",
    "  if element['type'] == 'node':\n",
    "    lon = element['lon']\n",
    "    lat = element['lat']\n",
    "    coords.append((lon, lat))\n",
    "  elif 'center' in element:\n",
    "    lon = element['center']['lon']\n",
    "    lat = element['center']['lat']\n",
    "    coords.append((lon, lat))\n",
    "# Convert coordinates into numpy array\n",
    "X = np.array(coords)\n",
    "plt.plot(X[:, 0], X[:, 1], 'o')\n",
    "plt.title('Cities in Ghana')\n",
    "plt.xlabel('Longitude')\n",
    "plt.ylabel('Latitude')\n",
    "plt.axis('equal')\n",
    "plt.show()"
   ]
  },
  {
   "cell_type": "markdown",
   "metadata": {},
   "source": [
    "### Old Code"
   ]
  }
 ],
 "metadata": {
  "kernelspec": {
   "display_name": "Python 3",
   "language": "python",
   "name": "python3"
  },
  "language_info": {
   "codemirror_mode": {
    "name": "ipython",
    "version": 3
   },
   "file_extension": ".py",
   "mimetype": "text/x-python",
   "name": "python",
   "nbconvert_exporter": "python",
   "pygments_lexer": "ipython3",
   "version": "3.7.0"
  }
 },
 "nbformat": 4,
 "nbformat_minor": 2
}
