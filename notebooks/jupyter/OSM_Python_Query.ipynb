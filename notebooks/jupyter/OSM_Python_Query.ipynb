{
 "cells": [
  {
   "cell_type": "markdown",
   "metadata": {},
   "source": [
    "# OSM Python Query\n",
    "\n",
    "The objective of this notebook is to query OSM database and return list of city and town centroids for all African countries\n",
    "\n",
    "\n",
    "#### Open street map search \n",
    "\n",
    "From Overpass Turbo, use this API and follow the instructions from the\n",
    "URL below to quary OSM with python\n",
    "\n",
    "https://towardsdatascience.com/loading-data-from-openstreetmap-with-python-and-the-overpass-api-513882a27fd0\n",
    "\n",
    "OSM CRS IS ----  'EPSG:4326'\n",
    "\n",
    "#### Open Street Map Query for Cities and Villages \n",
    "URL for OSM Overpass Turbo: https://overpass-turbo.eu/\n",
    "\n",
    "\n",
    "URL for OSM Features:\n",
    "https://wiki.openstreetmap.org/wiki/Map_Features#Populated_settlements.2C_urban\n",
    "\n",
    "#### Example from Ghana for Towns ... For cities, use *place=city*\n",
    "    area[\"name:en\"=\"Ghana\"]->.boundaryarea;\n",
    "    (\n",
    "    node(area.boundaryarea)[place=town];\n",
    "    way(area.boundaryarea)[place=town];>;\n",
    "    rel(area.boundaryarea)[place=town];>>;\n",
    "    );\n",
    "    out meta;\n",
    "    // print results\n",
    "    out body;\n",
    "    >;\n",
    "    out skel qt;\n",
    "\n",
    "Note: From what I can tell, OSM does not allow for 'Africa' to be used as an 'area' key. \n",
    "\n",
    "#### Note: This will pull refugee camps. Really cool. "
   ]
  },
  {
   "cell_type": "code",
   "execution_count": 16,
   "metadata": {},
   "outputs": [],
   "source": [
    "### List of African Countries from the UN in OSM wiki\n",
    "\n",
    "countries = [\n",
    "#Northern Africa\n",
    "    'Algeria',\n",
    "    'Egypt',\n",
    "    'Libya',\n",
    "    'Morocco',\n",
    "    'Tunisia',\n",
    "    'Western Sahara',\n",
    "\n",
    "    #Sub-Saharan Africa\n",
    "    #Eastern Africa\n",
    "    'Burundi',\n",
    "    'Comoros',\n",
    "    'Djibouti',\n",
    "    'Eritrea',\n",
    "    'Ethiopia',\n",
    "    'Kenya',\n",
    "    'Madagascar',\n",
    "    'Malawi',\n",
    "    'Mauritius',\n",
    "    #Mayotte,\n",
    "    'Mozambique',\n",
    "    'Réunion',\n",
    "    'Rwanda',\n",
    "    'Somalia',\n",
    "    'Sudan',\n",
    "    'Uganda',\n",
    "    'Tanzania',\n",
    "    'Zambia',\n",
    "    'Zimbabwe',\n",
    "    \n",
    "    #Middle Africa\n",
    "    'Angola',\n",
    "    'Cameroon',\n",
    "    'Central African Republic',\n",
    "    'Chad',\n",
    "    'Congo-Brazzaville',\n",
    "    'Congo-Kinshasa',\n",
    "    'Equatorial Guinea',\n",
    "    'Gabon',\n",
    "    'Sao Tome and Principe',\n",
    "    \n",
    "    # Southern Africa\n",
    "    'Botswana',\n",
    "    'Lesotho',\n",
    "    'Namibia',\n",
    "    'South Africa',\n",
    "    'Swaziland',\n",
    "    \n",
    "    # Western Africa\n",
    "    'Benin',\n",
    "    'Burkina Faso',\n",
    "    'Cape Verde',\n",
    "    'Côte d\\'Ivoire',\n",
    "    'Gambia',\n",
    "    'Ghana',\n",
    "    'Guinea',\n",
    "    'Guinea-Bissau',\n",
    "    'Liberia',\n",
    "    'Mali',\n",
    "    'Mauritania',\n",
    "    'Niger',\n",
    "    'Nigeria',\n",
    "    'Senegal',\n",
    "    'Sierra Leone',\n",
    "    'Togo'\n",
    "]"
   ]
  },
  {
   "cell_type": "markdown",
   "metadata": {},
   "source": [
    "# Query  OSM Cities and Towns Points for All African Countries"
   ]
  },
  {
   "cell_type": "code",
   "execution_count": 48,
   "metadata": {},
   "outputs": [],
   "source": [
    "# import time\n",
    "import requests\n",
    "import json\n",
    "\n",
    "# Check time\n",
    "# checkpoint = time.time()\n",
    "\n",
    "# Loop through all OSM countries\n",
    "response_dict = {}\n",
    "overpass_url = \"http://overpass-api.de/api/interpreter\"\n",
    "\n",
    "# put curly in quotes \n",
    "\n",
    "# countries = ['Chad','Ghana', \"South Africa\"]\n",
    "\n",
    "for country_name in countries:\n",
    "    overpass_query = \"\"\"\n",
    "            [out:json];\n",
    "            area[\"name:en\"=\"{}\"];  \n",
    "            (node[place=town](area);\n",
    "            );\n",
    "            out center;\n",
    "            \"\"\".format(country_name)\n",
    "\n",
    "    response = requests.get(overpass_url, params={'data': overpass_query})\n",
    "    data = response.json()\n",
    "    response_dict[country_name] = data\n",
    "\n",
    "# print('elasped time to do the quary:{}'.format(time.time() - checkpoint))    \n",
    "\n",
    "# Cut this on 2019 - 1 - 19 \n",
    "\n",
    "#            way[place=town](area);\n",
    "#            rel[place=town](area);"
   ]
  },
  {
   "cell_type": "code",
   "execution_count": 49,
   "metadata": {},
   "outputs": [
    {
     "data": {
      "text/plain": [
       "54"
      ]
     },
     "execution_count": 49,
     "metadata": {},
     "output_type": "execute_result"
    }
   ],
   "source": [
    "len(response_dict)"
   ]
  },
  {
   "cell_type": "code",
   "execution_count": 28,
   "metadata": {},
   "outputs": [
    {
     "data": {
      "text/plain": [
       "'Oran'"
      ]
     },
     "execution_count": 28,
     "metadata": {},
     "output_type": "execute_result"
    }
   ],
   "source": [
    "response_dict['Algeria']['elements'][1]['tags']['name']"
   ]
  },
  {
   "cell_type": "markdown",
   "metadata": {},
   "source": [
    "#### write out as json file"
   ]
  },
  {
   "cell_type": "code",
   "execution_count": 45,
   "metadata": {},
   "outputs": [],
   "source": [
    "temp_data = '../../temp_data/'\n",
    "\n",
    "# with open(temp_data+'20181206_osmafrica_cities_all.json', 'w') as fp:\n",
    "#      json.dump(response_dict, fp)"
   ]
  },
  {
   "cell_type": "code",
   "execution_count": 50,
   "metadata": {},
   "outputs": [],
   "source": [
    "#response_dict['Algeria']['elements'][1]['id']\n",
    "\n",
    "# Loop through countries and make an np array w/ id, lat, long\n",
    "import numpy as np\n",
    "import pandas as pd\n",
    "\n",
    "def osm_coords(response_dict):\n",
    "    \n",
    "    \"\"\"\n",
    "    This function takes an OSM dict object and returns a data frame\n",
    "    with the id, lat, and long ...\n",
    "    \"\"\"\n",
    "    coords = []\n",
    "    for country in response_dict:    \n",
    "        for element in response_dict[country]['elements']:\n",
    "            country = country\n",
    "            osm_id = str(element['id']) #keep as string for now\n",
    "            lat = element['lat']\n",
    "            lon = element['lon']\n",
    "            \n",
    "            if 'name' not in element['tags']: \n",
    "                city = 'NA'\n",
    "            else: \n",
    "                city = element['tags']['name']\n",
    "                    \n",
    "            coords.append((country, osm_id, city, lat, lon,))\n",
    "\n",
    "    coords_arr = np.array(coords)\n",
    "    #coords_arr\n",
    "    \n",
    "    # make dataframe\n",
    "    coords_df = pd.DataFrame(data=coords_arr)\n",
    "    coords_df.columns = ['country','osm_id','town', 'lat','lon']\n",
    "\n",
    "    return coords_df"
   ]
  },
  {
   "cell_type": "code",
   "execution_count": 52,
   "metadata": {},
   "outputs": [
    {
     "name": "stdout",
     "output_type": "stream",
     "text": [
      "8175\n"
     ]
    }
   ],
   "source": [
    "osm_town = osm_coords(response_dict)\n",
    "osm_town.head()\n",
    "print(len(osm_town))"
   ]
  },
  {
   "cell_type": "markdown",
   "metadata": {},
   "source": [
    "#### write out as csv w/ only id, lat, long"
   ]
  },
  {
   "cell_type": "code",
   "execution_count": 53,
   "metadata": {},
   "outputs": [],
   "source": [
    "# Write out .csv\n",
    "\n",
    "# NOTE - on 11-29-18 pulled 872 osm 'city' centroids w/o names to be used for AGU analysis \n",
    "# NOTE - on 12-06-18 pulled 871 -note missing- osm 'city' centroids countries to be used for AGU analysis \n",
    "\n",
    "# Note - on 01-14-19 pulled 876 osm 'city' level for ERL submission, saved filed as \"20190114_osm_africa_cities.csv\"\n",
    "# Note - on 01-14-19 pulled 8175 osm 'town' level for ERL submission, saved filed as \"20190114_osm_africa_towns.csv\"\n",
    "\n",
    "\n",
    "osm_city.to_csv(temp_data+'20190114_osm_africa_towns.csv', sep=',', index=False, header=True)"
   ]
  },
  {
   "cell_type": "markdown",
   "metadata": {},
   "source": [
    "# Old Code"
   ]
  },
  {
   "cell_type": "code",
   "execution_count": null,
   "metadata": {},
   "outputs": [],
   "source": [
    "# Nesting order: \n",
    "#     response_dict = dict ... countries\n",
    "#         elements  = list ... \n",
    "#             each list item is a dict w/ keys type, id, lat, long, tags\n",
    "#                 tags = dict ... get names\n",
    "                \n",
    "                \n",
    "# nest = response_dict['Chad']['elements'][1]['tags']['name:en'] # return name value \n",
    "# type(nest)\n",
    "# nest"
   ]
  },
  {
   "cell_type": "code",
   "execution_count": null,
   "metadata": {},
   "outputs": [],
   "source": [
    "# Prof that not all cities with GPS cords have tag = 'name' ... if goal is to have labeled points, then remove all OSM\n",
    "# points that do not have labeled 'names' as a tag\n",
    "# print(len(response_dict_copy1['Sudan']['elements']))\n",
    "\n",
    "# test = response_dict_copy1['Sudan']['elements']\n",
    "# print(len(test))\n",
    "\n",
    "# for city in test:\n",
    "#     if 'name' not in city['tags']:\n",
    "#         print('yes')\n",
    "\n",
    "# for city in test:\n",
    "#     if 'name' not in city['tags']:\n",
    "#         test.remove(city)\n",
    "# print(len(test))\n",
    "# print(len(response_dict['Sudan']['elements']))\n",
    "# print(len(response_dict_copy1['Sudan']['elements']))\n",
    "# print(len(response_dict_copy2['Sudan']['elements']))"
   ]
  },
  {
   "cell_type": "markdown",
   "metadata": {},
   "source": [
    "#### The code below will remove all points w/o labels"
   ]
  },
  {
   "cell_type": "code",
   "execution_count": null,
   "metadata": {},
   "outputs": [],
   "source": [
    "### remove points without names\n",
    "\n",
    "# print(len(response_dict_copy2['Sudan']['elements']))\n",
    "\n",
    "# for country in countries:\n",
    "#     for city in response_dict_copy2[country]['elements']:\n",
    "#         if 'name' not in city['tags']:\n",
    "#             response_dict_copy2[country]['elements'].remove(city)\n",
    "\n",
    "# print(len(response_dict_copy2['Sudan']['elements']))\n",
    "\n",
    "# for city in response_dict_copy2['Sudan']['elements']:\n",
    "#      if 'name' not in city['tags']:\n",
    "#         print('yes')\n",
    "\n",
    "# name = []\n",
    "# for city in response_dict_copy2['Sudan']['elements']:\n",
    "#     city_name = city['tags']['name']\n",
    "#     name.append(city_name)"
   ]
  },
  {
   "cell_type": "markdown",
   "metadata": {},
   "source": [
    "#### The code below will make a new dict with key as name and values as lat long and ID"
   ]
  },
  {
   "cell_type": "code",
   "execution_count": null,
   "metadata": {},
   "outputs": [],
   "source": [
    "# make dict with : id, lat, lon & name called gps\n",
    "# good_keys = ['id', 'lat', 'lon', 'name', 'is_in:country', 'place', 'population']\n",
    "\n",
    "# gps_keys = ['id', 'lat', 'lon']\n",
    "# gps = {}\n",
    "# for country_name in countries:\n",
    "#     gps[country_name] = {}\n",
    "#     for city_dict in response_dict_copy2[country_name]['elements']:\n",
    "#         city_id = city_dict['tags']['name'] # will make key 'city name' w/ lat, lon, ids as values\n",
    "#         gps[country_name].update({city_id:{key : value for key, value in city_dict.items() if key in gps_keys}})"
   ]
  },
  {
   "cell_type": "code",
   "execution_count": null,
   "metadata": {},
   "outputs": [],
   "source": [
    "# Copy response dict so we don't have to keep querying\n",
    "# import copy\n",
    "\n",
    "# response_dict_copy1 = copy.deepcopy(response_dict) # deep copy\n",
    "# response_dict_copy2 = copy.deepcopy(response_dict) # deep copy ----> use this copy "
   ]
  },
  {
   "cell_type": "markdown",
   "metadata": {},
   "source": [
    "#### The code below will make a new dict with key as name and values as lat long and ID"
   ]
  },
  {
   "cell_type": "code",
   "execution_count": null,
   "metadata": {},
   "outputs": [],
   "source": [
    "# make dict with : id, lat, lon & name called gps\n",
    "# good_keys = ['id', 'lat', 'lon', 'name', 'is_in:country', 'place', 'population']\n",
    "\n",
    "# gps_keys = ['id', 'lat', 'lon']\n",
    "# gps = {}\n",
    "# for country_name in countries:\n",
    "#     gps[country_name] = {}\n",
    "#     for city_dict in response_dict_copy2[country_name]['elements']:\n",
    "#         city_id = city_dict['tags']['name'] # will make key 'city name' w/ lat, lon, ids as values\n",
    "#         gps[country_name].update({city_id:{key : value for key, value in city_dict.items() if key in gps_keys}})"
   ]
  },
  {
   "cell_type": "code",
   "execution_count": null,
   "metadata": {},
   "outputs": [],
   "source": [
    "# Loop through countries and make an np array w/ country, city name, id, lat, long\n",
    "import numpy as np\n",
    "import pandas as pd\n",
    "\n",
    "coords = []\n",
    "for country in gps:    \n",
    "    for city in gps[country]:\n",
    "        country_name = country\n",
    "        city_name = city\n",
    "        i_d = gps[country][city].get('id')\n",
    "        lat = gps[country][city].get('lat')\n",
    "        lon = gps[country][city].get('lon')\n",
    "        coords.append((country_name, city_name, i_d, lat, lon))\n",
    "\n",
    "coords_arr = np.array(coords)\n",
    "coords_arr\n",
    "\n",
    "# Try to make it into a dataframe\n",
    "gps_df = pd.DataFrame(data=coords_arr)\n",
    "gps_df.columns = ['Country','City','Id','lat','lon']\n",
    "\n",
    "\n",
    "write it out \n",
    "gps_df.to_csv(outpath+'africa_cities.csv', sep=',', index=False, header=True)"
   ]
  },
  {
   "cell_type": "code",
   "execution_count": null,
   "metadata": {},
   "outputs": [],
   "source": [
    "# plot them \n",
    "\n",
    "# import numpy as np\n",
    "# import matplotlib.pyplot as plt\n",
    "\n",
    "# # Collect coords into list\n",
    "# coords = []\n",
    "# for element in data['elements']:\n",
    "#   if element['type'] == 'node':\n",
    "#     lon = element['lon']\n",
    "#     lat = element['lat']\n",
    "#     coords.append((lon, lat))\n",
    "#   elif 'center' in element:\n",
    "#     lon = element['center']['lon']\n",
    "#     lat = element['center']['lat']\n",
    "#     coords.append((lon, lat))\n",
    "# # Convert coordinates into numpy array\n",
    "# X = np.array(coords)\n",
    "# plt.plot(X[:, 0], X[:, 1], 'o')\n",
    "# plt.title('Cities in Ghana')\n",
    "# plt.xlabel('Longitude')\n",
    "# plt.ylabel('Latitude')\n",
    "# plt.axis('equal')\n",
    "# plt.show()"
   ]
  },
  {
   "cell_type": "code",
   "execution_count": null,
   "metadata": {},
   "outputs": [],
   "source": [
    "# Prof that not all cities with GPS cords have tag = 'name' ... if goal is to have labeled points, then remove all OSM\n",
    "# points that do not have labeled 'names' as a tag\n",
    "# print(len(response_dict_copy1['Sudan']['elements']))\n",
    "\n",
    "# test = response_dict_copy1['Sudan']['elements']\n",
    "# print(len(test))\n",
    "\n",
    "# for city in test:\n",
    "#     if 'name' not in city['tags']:\n",
    "#         print('yes')\n",
    "\n",
    "# for city in test:\n",
    "#     if 'name' not in city['tags']:\n",
    "#         test.remove(city)\n",
    "# print(len(test))\n",
    "# print(len(response_dict['Sudan']['elements']))\n",
    "# print(len(response_dict_copy1['Sudan']['elements']))\n",
    "# print(len(response_dict_copy2['Sudan']['elements']))"
   ]
  }
 ],
 "metadata": {
  "kernelspec": {
   "display_name": "Python [default]",
   "language": "python",
   "name": "python3"
  },
  "language_info": {
   "codemirror_mode": {
    "name": "ipython",
    "version": 3
   },
   "file_extension": ".py",
   "mimetype": "text/x-python",
   "name": "python",
   "nbconvert_exporter": "python",
   "pygments_lexer": "ipython3",
   "version": "3.6.4"
  }
 },
 "nbformat": 4,
 "nbformat_minor": 2
}
