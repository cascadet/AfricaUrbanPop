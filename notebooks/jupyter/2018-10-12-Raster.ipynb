{
 "cells": [
  {
   "cell_type": "markdown",
   "metadata": {},
   "source": [
    "## Open Street Map Query for Cities and Villages \n",
    "    URL for OSM Overpass Turbo: https://overpass-turbo.eu/\n",
    "    URL for OSM Features: https://wiki.openstreetmap.org/wiki/Map_Features#Populated_settlements.2C_urban\n",
    "\n",
    "### Example from Ghana for Towns ... For cities, use *place=city*\n",
    "    area[\"name\"=\"Ghana\"]->.boundaryarea;\n",
    "    (\n",
    "    node(area.boundaryarea)[place=town];\n",
    "    way(area.boundaryarea)[place=town];>;\n",
    "    rel(area.boundaryarea)[place=town];>>;\n",
    "    );\n",
    "    out meta;\n",
    "    // print results\n",
    "    out body;\n",
    "    >;\n",
    "    out skel qt;"
   ]
  },
  {
   "cell_type": "code",
   "execution_count": 1,
   "metadata": {},
   "outputs": [],
   "source": [
    "import os\n",
    "import matplotlib.pyplot as plt\n",
    "import rasterio\n",
    "from rasterio import plot\n",
    "from rasterio.mask import mask\n",
    "import geopandas as gpd\n",
    "import fiona\n",
    "import rasterio\n",
    "import rasterio.mask\n",
    "import numpy as np\n",
    "import skimage.io as skio"
   ]
  },
  {
   "cell_type": "code",
   "execution_count": 4,
   "metadata": {},
   "outputs": [],
   "source": [
    "cwd = os.getcwd()\n",
    "filepath = \"/home/cascade/tana-crunch-cascade/\""
   ]
  },
  {
   "cell_type": "code",
   "execution_count": 20,
   "metadata": {},
   "outputs": [
    {
     "data": {
      "text/plain": [
       "{'count': 1,\n",
       " 'crs': CRS({'init': 'epsg:4326'}),\n",
       " 'driver': 'GTiff',\n",
       " 'dtype': 'float32',\n",
       " 'height': 7725,\n",
       " 'nodata': -3.4028234663852886e+38,\n",
       " 'transform': Affine(0.0008332999999999998, 0.0, -3.262515242688516,\n",
       "       0.0, -0.0008332999999999998, 11.174256111176145),\n",
       " 'width': 5353}"
      ]
     },
     "execution_count": 20,
     "metadata": {},
     "output_type": "execute_result"
    }
   ],
   "source": [
    "ghana100m_2010 = rasterio.open(filepath+\"GHA10_040213.tif\")\n",
    "ghana100m_2010.meta"
   ]
  },
  {
   "cell_type": "code",
   "execution_count": 32,
   "metadata": {},
   "outputs": [],
   "source": [
    "test = ghana100m_2010.read(1)"
   ]
  },
  {
   "cell_type": "code",
   "execution_count": 39,
   "metadata": {},
   "outputs": [
    {
     "data": {
      "text/plain": [
       "<matplotlib.colorbar.Colorbar at 0x7f324fab1908>"
      ]
     },
     "execution_count": 39,
     "metadata": {},
     "output_type": "execute_result"
    },
    {
     "data": {
      "image/png": "[encoded data removed]",
      "text/plain": [
       "<Figure size 432x288 with 2 Axes>"
      ]
     },
     "metadata": {},
     "output_type": "display_data"
    }
   ],
   "source": [
    "import copy\n",
    "    \n",
    "test_copy = copy.copy(test)\n",
    "test_copy[test<1] = 0\n",
    "\n",
    "plt.imshow(test_copy)\n",
    "plt.colorbar(shrink=0.5)"
   ]
  },
  {
   "cell_type": "code",
   "execution_count": 43,
   "metadata": {},
   "outputs": [
    {
     "ename": "NameError",
     "evalue": "name 'query' is not defined",
     "output_type": "error",
     "traceback": [
      "\u001b[0;31m---------------------------------------------------------------------------\u001b[0m",
      "\u001b[0;31mNameError\u001b[0m                                 Traceback (most recent call last)",
      "\u001b[0;32m<ipython-input-43-8eb464a555d3>\u001b[0m in \u001b[0;36m<module>\u001b[0;34m()\u001b[0m\n\u001b[0;32m----> 1\u001b[0;31m \u001b[0mquery\u001b[0m\u001b[0;34m(\u001b[0m\u001b[0mtest_copy\u001b[0m\u001b[0;34m)\u001b[0m\u001b[0;34m\u001b[0m\u001b[0m\n\u001b[0m",
      "\u001b[0;31mNameError\u001b[0m: name 'query' is not defined"
     ]
    }
   ],
   "source": [
    "query(test_copy)"
   ]
  },
  {
   "cell_type": "code",
   "execution_count": 21,
   "metadata": {},
   "outputs": [
    {
     "name": "stderr",
     "output_type": "stream",
     "text": [
      "/opt/anaconda3/lib/python3.6/site-packages/skimage/io/_plugins/matplotlib_plugin.py:51: FutureWarning: Conversion of the second argument of issubdtype from `float` to `np.floating` is deprecated. In future, it will be treated as `np.float64 == np.dtype(float).type`.\n",
      "  out_of_range_float = (np.issubdtype(image.dtype, np.float) and\n",
      "/opt/anaconda3/lib/python3.6/site-packages/skimage/io/_plugins/matplotlib_plugin.py:74: UserWarning: Low image data range; displaying image with stretched contrast.\n",
      "  warn(\"Low image data range; displaying image with \"\n",
      "/opt/anaconda3/lib/python3.6/site-packages/matplotlib/axes/_base.py:1400: MatplotlibDeprecationWarning: The 'box-forced' keyword argument is deprecated since 2.2.\n",
      "  \" since 2.2.\", cbook.mplDeprecation)\n"
     ]
    },
    {
     "data": {
      "text/plain": [
       "<matplotlib.image.AxesImage at 0x7f3250903fd0>"
      ]
     },
     "execution_count": 21,
     "metadata": {},
     "output_type": "execute_result"
    },
    {
     "data": {
      "image/png": "[encoded data removed]",
      "text/plain": [
       "<Figure size 432x288 with 2 Axes>"
      ]
     },
     "metadata": {},
     "output_type": "display_data"
    }
   ],
   "source": [
    "from skimage import measure\n",
    "label_test = measure.label(test_copy, background=0)\n",
    "skio.imshow(label_test)"
   ]
  },
  {
   "cell_type": "code",
   "execution_count": 6,
   "metadata": {},
   "outputs": [],
   "source": []
  },
  {
   "cell_type": "code",
   "execution_count": 7,
   "metadata": {},
   "outputs": [
    {
     "data": {
      "text/plain": [
       "{'driver': 'GTiff',\n",
       " 'dtype': 'float32',\n",
       " 'nodata': -3.4028234663852886e+38,\n",
       " 'width': 5353,\n",
       " 'height': 7725,\n",
       " 'count': 1,\n",
       " 'crs': CRS({'init': 'epsg:4326'}),\n",
       " 'transform': (-3.262515242688516,\n",
       "  0.0008332999999999998,\n",
       "  0.0,\n",
       "  11.174256111176145,\n",
       "  0.0,\n",
       "  -0.0008332999999999998),\n",
       " 'affine': Affine(0.0008332999999999998, 0.0, -3.262515242688516,\n",
       "        0.0, -0.0008332999999999998, 11.174256111176145)}"
      ]
     },
     "execution_count": 7,
     "metadata": {},
     "output_type": "execute_result"
    }
   ],
   "source": [
    "# ask Kelly about what to do with the nodata values messing everything up \n",
    "ghana100m_2010 = rasterio.open(filepath+\"GHA10_040213.tif\")\n",
    "ghana100m_2010.meta"
   ]
  },
  {
   "cell_type": "code",
   "execution_count": 8,
   "metadata": {},
   "outputs": [
    {
     "data": {
      "image/png": "[encoded data removed]",
      "text/plain": [
       "<Figure size 432x288 with 1 Axes>"
      ]
     },
     "metadata": {
      "needs_background": "light"
     },
     "output_type": "display_data"
    },
    {
     "data": {
      "text/plain": [
       "<matplotlib.axes._subplots.AxesSubplot at 0x81c9c37b8>"
      ]
     },
     "execution_count": 8,
     "metadata": {},
     "output_type": "execute_result"
    }
   ],
   "source": [
    "plot.show(ghana100m_2010)"
   ]
  },
  {
   "cell_type": "code",
   "execution_count": 9,
   "metadata": {},
   "outputs": [
    {
     "name": "stderr",
     "output_type": "stream",
     "text": [
      "/anaconda3/lib/python3.7/site-packages/IPython/core/interactiveshell.py:2961: FutureWarning: read_band() is deprecated and will be removed by Rasterio 1.0. Please use read() instead.\n",
      "  exec(code_obj, self.user_global_ns, self.user_ns)\n"
     ]
    }
   ],
   "source": [
    "ghana100m_2010_arr = ghana100m_2010.read_band(1)"
   ]
  },
  {
   "cell_type": "code",
   "execution_count": 10,
   "metadata": {},
   "outputs": [
    {
     "data": {
      "text/plain": [
       "array([-3.4028235e+38,  0.0000000e+00,  1.7775760e-04, ...,\n",
       "        3.6459636e+03,  3.9676597e+03,  4.6669546e+03], dtype=float32)"
      ]
     },
     "execution_count": 10,
     "metadata": {},
     "output_type": "execute_result"
    }
   ],
   "source": [
    "# check data range\n",
    "np.unique(ghana100m_2010_arr)"
   ]
  },
  {
   "cell_type": "code",
   "execution_count": 11,
   "metadata": {},
   "outputs": [
    {
     "data": {
      "text/plain": [
       "Text(0,0.5,'Row #')"
      ]
     },
     "execution_count": 11,
     "metadata": {},
     "output_type": "execute_result"
    },
    {
     "data": {
      "image/png": "[encoded data removed]",
      "text/plain": [
       "<Figure size 432x612 with 2 Axes>"
      ]
     },
     "metadata": {
      "needs_background": "light"
     },
     "output_type": "display_data"
    }
   ],
   "source": [
    "# Zoom into a subset\n",
    "#window = rasterio.windows.Window(1024, 1024, 1280, 2560)\n",
    "\n",
    "subset = ghana100m_2010.read(1, window=((7000, 7200), (2700, 3300)))\n",
    "\n",
    "plt.figure(figsize=(6,8.5))\n",
    "plt.imshow(subset)\n",
    "plt.colorbar(shrink=0.5)\n",
    "#plt.title(f'Band 4 Subset\\n{window}')\n",
    "plt.xlabel('Column #')\n",
    "plt.ylabel('Row #')"
   ]
  },
  {
   "cell_type": "code",
   "execution_count": 12,
   "metadata": {},
   "outputs": [
    {
     "data": {
      "text/plain": [
       "numpy.ndarray"
      ]
     },
     "execution_count": 12,
     "metadata": {},
     "output_type": "execute_result"
    }
   ],
   "source": [
    "type(subset)"
   ]
  },
  {
   "cell_type": "code",
   "execution_count": 13,
   "metadata": {},
   "outputs": [
    {
     "data": {
      "image/png": "[encoded data removed]",
      "text/plain": [
       "<Figure size 432x288 with 1 Axes>"
      ]
     },
     "metadata": {
      "needs_background": "light"
     },
     "output_type": "display_data"
    }
   ],
   "source": [
    "plt.hist(subset, range = [0,100])\n",
    "plt.show()"
   ]
  },
  {
   "cell_type": "code",
   "execution_count": 14,
   "metadata": {},
   "outputs": [],
   "source": [
    "import copy\n",
    "\n",
    "subset_copy = copy.copy(subset)\n",
    "subset_copy[subset<1] = 0"
   ]
  },
  {
   "cell_type": "code",
   "execution_count": 15,
   "metadata": {},
   "outputs": [
    {
     "data": {
      "text/plain": [
       "Text(0,0.5,'Row #')"
      ]
     },
     "execution_count": 15,
     "metadata": {},
     "output_type": "execute_result"
    },
    {
     "data": {
      "image/png": "[encoded data removed]",
      "text/plain": [
       "<Figure size 432x612 with 2 Axes>"
      ]
     },
     "metadata": {
      "needs_background": "light"
     },
     "output_type": "display_data"
    }
   ],
   "source": [
    "plt.figure(figsize=(6,8.5))\n",
    "plt.imshow(subset_copy)\n",
    "plt.colorbar(shrink=0.5)\n",
    "plt.xlabel('Column #')\n",
    "plt.ylabel('Row #')"
   ]
  },
  {
   "cell_type": "code",
   "execution_count": 17,
   "metadata": {},
   "outputs": [
    {
     "data": {
      "image/png": "[encoded data removed]",
      "text/plain": [
       "<Figure size 432x288 with 1 Axes>"
      ]
     },
     "metadata": {
      "needs_background": "light"
     },
     "output_type": "display_data"
    }
   ],
   "source": [
    "plt.hist(subset_copy)\n",
    "plt.show()"
   ]
  },
  {
   "cell_type": "code",
   "execution_count": 64,
   "metadata": {},
   "outputs": [],
   "source": [
    "test = rasterio.open(filepath+\"GHA10_040213.tif\")"
   ]
  },
  {
   "cell_type": "code",
   "execution_count": 73,
   "metadata": {},
   "outputs": [
    {
     "name": "stderr",
     "output_type": "stream",
     "text": [
      "/anaconda3/lib/python3.7/site-packages/IPython/core/interactiveshell.py:2961: FutureWarning: read_band() is deprecated and will be removed by Rasterio 1.0. Please use read() instead.\n",
      "  exec(code_obj, self.user_global_ns, self.user_ns)\n"
     ]
    }
   ],
   "source": [
    "test.mask"
   ]
  },
  {
   "cell_type": "code",
   "execution_count": 74,
   "metadata": {},
   "outputs": [
    {
     "data": {
      "text/plain": [
       "numpy.ndarray"
      ]
     },
     "execution_count": 74,
     "metadata": {},
     "output_type": "execute_result"
    }
   ],
   "source": [
    "type(test_band)"
   ]
  },
  {
   "cell_type": "code",
   "execution_count": 45,
   "metadata": {},
   "outputs": [],
   "source": [
    "from rasterio.features import shapes\n",
    "mask = None\n",
    "with rasterio.drivers():\n",
    "    with rasterio.open(filepath+\"GHA10_040213.tif\", window = ((7000, 7200), (2700, 3300))) as src:\n",
    "        image = src.read(1) # first band\n",
    "        results = (\n",
    "        {'properties': {'raster_val': v}, 'geometry': s}\n",
    "        for i, (s, v) \n",
    "        in enumerate(\n",
    "            shapes(image, mask=mask, transform=src.affine)))"
   ]
  },
  {
   "cell_type": "code",
   "execution_count": 46,
   "metadata": {},
   "outputs": [],
   "source": [
    "geoms = list(results)"
   ]
  },
  {
   "cell_type": "code",
   "execution_count": 48,
   "metadata": {},
   "outputs": [
    {
     "name": "stdout",
     "output_type": "stream",
     "text": [
      "{'properties': {'raster_val': 0.26214757561683655}, 'geometry': {'type': 'Polygon', 'coordinates': [[(-0.28180114268851675, 11.151757011176146), (-0.28180114268851675, 11.148423811176146), (-0.27930124268851664, 11.148423811176146), (-0.27930124268851664, 11.151757011176146), (-0.28180114268851675, 11.151757011176146)]]}}\n"
     ]
    }
   ],
   "source": [
    "print(geoms[4])"
   ]
  },
  {
   "cell_type": "code",
   "execution_count": 49,
   "metadata": {},
   "outputs": [],
   "source": [
    "import geopandas as gp\n",
    "gpd_polygonized_raster  = gp.GeoDataFrame.from_features(geoms)"
   ]
  },
  {
   "cell_type": "code",
   "execution_count": 54,
   "metadata": {},
   "outputs": [
    {
     "data": {
      "text/html": [
       "<div>\n",
       "<style scoped>\n",
       "    .dataframe tbody tr th:only-of-type {\n",
       "        vertical-align: middle;\n",
       "    }\n",
       "\n",
       "    .dataframe tbody tr th {\n",
       "        vertical-align: top;\n",
       "    }\n",
       "\n",
       "    .dataframe thead th {\n",
       "        text-align: right;\n",
       "    }\n",
       "</style>\n",
       "<table border=\"1\" class=\"dataframe\">\n",
       "  <thead>\n",
       "    <tr style=\"text-align: right;\">\n",
       "      <th></th>\n",
       "      <th>geometry</th>\n",
       "      <th>raster_val</th>\n",
       "    </tr>\n",
       "  </thead>\n",
       "  <tbody>\n",
       "    <tr>\n",
       "      <th>0</th>\n",
       "      <td>POLYGON ((-0.2709682426885167 11.1717562111761...</td>\n",
       "      <td>2.357377e+00</td>\n",
       "    </tr>\n",
       "    <tr>\n",
       "      <th>1</th>\n",
       "      <td>POLYGON ((-0.2734681426885168 11.1717562111761...</td>\n",
       "      <td>8.602970e-01</td>\n",
       "    </tr>\n",
       "    <tr>\n",
       "      <th>2</th>\n",
       "      <td>POLYGON ((-0.2784679426885166 11.1734228111761...</td>\n",
       "      <td>2.357377e+00</td>\n",
       "    </tr>\n",
       "    <tr>\n",
       "      <th>3</th>\n",
       "      <td>POLYGON ((-0.2759680426885165 11.1625899111761...</td>\n",
       "      <td>2.621476e-01</td>\n",
       "    </tr>\n",
       "    <tr>\n",
       "      <th>4</th>\n",
       "      <td>POLYGON ((-0.2818011426885167 11.1517570111761...</td>\n",
       "      <td>2.621476e-01</td>\n",
       "    </tr>\n",
       "    <tr>\n",
       "      <th>5</th>\n",
       "      <td>POLYGON ((-0.2793012426885166 11.1484238111761...</td>\n",
       "      <td>2.621476e-01</td>\n",
       "    </tr>\n",
       "    <tr>\n",
       "      <th>6</th>\n",
       "      <td>POLYGON ((-0.2126372426885168 11.1575901111761...</td>\n",
       "      <td>2.002605e+00</td>\n",
       "    </tr>\n",
       "    <tr>\n",
       "      <th>7</th>\n",
       "      <td>POLYGON ((-0.1843050426885169 11.1500904111761...</td>\n",
       "      <td>1.741318e+00</td>\n",
       "    </tr>\n",
       "    <tr>\n",
       "      <th>8</th>\n",
       "      <td>POLYGON ((-0.4051295426885164 11.1250914111761...</td>\n",
       "      <td>1.867280e-01</td>\n",
       "    </tr>\n",
       "    <tr>\n",
       "      <th>9</th>\n",
       "      <td>POLYGON ((-0.2351363426885165 11.1325911111761...</td>\n",
       "      <td>4.565384e+00</td>\n",
       "    </tr>\n",
       "    <tr>\n",
       "      <th>10</th>\n",
       "      <td>POLYGON ((-0.2476358426885166 11.1650898111761...</td>\n",
       "      <td>7.183341e-01</td>\n",
       "    </tr>\n",
       "    <tr>\n",
       "      <th>11</th>\n",
       "      <td>POLYGON ((-0.3734641426885168 11.1234248111761...</td>\n",
       "      <td>1.867280e-01</td>\n",
       "    </tr>\n",
       "    <tr>\n",
       "      <th>12</th>\n",
       "      <td>POLYGON ((-0.4076294426885165 11.1217582111761...</td>\n",
       "      <td>1.867280e-01</td>\n",
       "    </tr>\n",
       "    <tr>\n",
       "      <th>13</th>\n",
       "      <td>POLYGON ((-0.2168037426885165 11.1325911111761...</td>\n",
       "      <td>5.185255e+00</td>\n",
       "    </tr>\n",
       "    <tr>\n",
       "      <th>14</th>\n",
       "      <td>POLYGON ((-0.1451399426885165 11.1384242111761...</td>\n",
       "      <td>9.412802e-01</td>\n",
       "    </tr>\n",
       "    <tr>\n",
       "      <th>15</th>\n",
       "      <td>POLYGON ((-0.1693056426885167 11.1467572111761...</td>\n",
       "      <td>9.245774e-01</td>\n",
       "    </tr>\n",
       "    <tr>\n",
       "      <th>16</th>\n",
       "      <td>POLYGON ((-0.1526396426885168 11.1400908111761...</td>\n",
       "      <td>1.170096e+00</td>\n",
       "    </tr>\n",
       "    <tr>\n",
       "      <th>17</th>\n",
       "      <td>POLYGON ((-0.3767973426885165 11.1150918111761...</td>\n",
       "      <td>1.867280e-01</td>\n",
       "    </tr>\n",
       "    <tr>\n",
       "      <th>18</th>\n",
       "      <td>POLYGON ((-0.2026376426885168 11.1334244111761...</td>\n",
       "      <td>4.141083e+00</td>\n",
       "    </tr>\n",
       "    <tr>\n",
       "      <th>19</th>\n",
       "      <td>POLYGON ((-0.4126292426885168 11.1125919111761...</td>\n",
       "      <td>5.116702e-01</td>\n",
       "    </tr>\n",
       "    <tr>\n",
       "      <th>20</th>\n",
       "      <td>POLYGON ((-0.2568021426885165 11.1309245111761...</td>\n",
       "      <td>1.007669e+00</td>\n",
       "    </tr>\n",
       "    <tr>\n",
       "      <th>21</th>\n",
       "      <td>POLYGON ((-0.4151291426885164 11.1100920111761...</td>\n",
       "      <td>5.116702e-01</td>\n",
       "    </tr>\n",
       "    <tr>\n",
       "      <th>22</th>\n",
       "      <td>POLYGON ((-0.3959632426885165 11.1125919111761...</td>\n",
       "      <td>1.867280e-01</td>\n",
       "    </tr>\n",
       "    <tr>\n",
       "      <th>23</th>\n",
       "      <td>POLYGON ((-0.4234621426885168 11.1075921111761...</td>\n",
       "      <td>5.555041e-01</td>\n",
       "    </tr>\n",
       "    <tr>\n",
       "      <th>24</th>\n",
       "      <td>POLYGON ((-0.4217955426885167 11.1067588111761...</td>\n",
       "      <td>5.116702e-01</td>\n",
       "    </tr>\n",
       "    <tr>\n",
       "      <th>25</th>\n",
       "      <td>POLYGON ((-0.4209622426885167 11.1050922111761...</td>\n",
       "      <td>5.555041e-01</td>\n",
       "    </tr>\n",
       "    <tr>\n",
       "      <th>26</th>\n",
       "      <td>POLYGON ((-0.2026376426885168 11.1225915111761...</td>\n",
       "      <td>1.181105e+00</td>\n",
       "    </tr>\n",
       "    <tr>\n",
       "      <th>27</th>\n",
       "      <td>POLYGON ((-0.1643058426885169 11.1250914111761...</td>\n",
       "      <td>1.702543e+00</td>\n",
       "    </tr>\n",
       "    <tr>\n",
       "      <th>28</th>\n",
       "      <td>POLYGON ((-0.2859676426885165 11.1217582111761...</td>\n",
       "      <td>7.653326e-01</td>\n",
       "    </tr>\n",
       "    <tr>\n",
       "      <th>29</th>\n",
       "      <td>POLYGON ((-0.1901381426885167 11.1242581111761...</td>\n",
       "      <td>1.279330e+00</td>\n",
       "    </tr>\n",
       "    <tr>\n",
       "      <th>...</th>\n",
       "      <td>...</td>\n",
       "      <td>...</td>\n",
       "    </tr>\n",
       "    <tr>\n",
       "      <th>146468</th>\n",
       "      <td>POLYGON ((-2.027564642688517 4.759512711176146...</td>\n",
       "      <td>4.653965e-02</td>\n",
       "    </tr>\n",
       "    <tr>\n",
       "      <th>146469</th>\n",
       "      <td>POLYGON ((-2.039230842688516 4.758679411176146...</td>\n",
       "      <td>1.636768e+02</td>\n",
       "    </tr>\n",
       "    <tr>\n",
       "      <th>146470</th>\n",
       "      <td>POLYGON ((-2.032564442688516 4.758679411176146...</td>\n",
       "      <td>3.340789e+01</td>\n",
       "    </tr>\n",
       "    <tr>\n",
       "      <th>146471</th>\n",
       "      <td>POLYGON ((-2.104228242688516 4.776178711176147...</td>\n",
       "      <td>4.087829e-02</td>\n",
       "    </tr>\n",
       "    <tr>\n",
       "      <th>146472</th>\n",
       "      <td>POLYGON ((-2.110894642688516 4.757846111176147...</td>\n",
       "      <td>0.000000e+00</td>\n",
       "    </tr>\n",
       "    <tr>\n",
       "      <th>146473</th>\n",
       "      <td>POLYGON ((-1.980899842688516 4.757012811176147...</td>\n",
       "      <td>0.000000e+00</td>\n",
       "    </tr>\n",
       "    <tr>\n",
       "      <th>146474</th>\n",
       "      <td>POLYGON ((-2.109228042688516 4.754512911176147...</td>\n",
       "      <td>0.000000e+00</td>\n",
       "    </tr>\n",
       "    <tr>\n",
       "      <th>146475</th>\n",
       "      <td>POLYGON ((-2.101728342688516 4.754512911176147...</td>\n",
       "      <td>0.000000e+00</td>\n",
       "    </tr>\n",
       "    <tr>\n",
       "      <th>146476</th>\n",
       "      <td>POLYGON ((-2.043397342688516 4.757012811176147...</td>\n",
       "      <td>0.000000e+00</td>\n",
       "    </tr>\n",
       "    <tr>\n",
       "      <th>146477</th>\n",
       "      <td>POLYGON ((-2.082562442688516 4.783678411176147...</td>\n",
       "      <td>2.002769e-01</td>\n",
       "    </tr>\n",
       "    <tr>\n",
       "      <th>146478</th>\n",
       "      <td>POLYGON ((-2.095895242688516 4.751179711176147...</td>\n",
       "      <td>4.087829e-02</td>\n",
       "    </tr>\n",
       "    <tr>\n",
       "      <th>146479</th>\n",
       "      <td>POLYGON ((-2.048397142688517 4.751179711176147...</td>\n",
       "      <td>4.087829e-02</td>\n",
       "    </tr>\n",
       "    <tr>\n",
       "      <th>146480</th>\n",
       "      <td>POLYGON ((-2.092562042688516 4.749513111176147...</td>\n",
       "      <td>4.378942e+00</td>\n",
       "    </tr>\n",
       "    <tr>\n",
       "      <th>146481</th>\n",
       "      <td>POLYGON ((-2.090062142688516 4.748679811176147...</td>\n",
       "      <td>4.378942e+00</td>\n",
       "    </tr>\n",
       "    <tr>\n",
       "      <th>146482</th>\n",
       "      <td>POLYGON ((-2.089228842688516 4.748679811176147...</td>\n",
       "      <td>4.087829e-02</td>\n",
       "    </tr>\n",
       "    <tr>\n",
       "      <th>146483</th>\n",
       "      <td>POLYGON ((-2.085062342688516 4.748679811176147...</td>\n",
       "      <td>0.000000e+00</td>\n",
       "    </tr>\n",
       "    <tr>\n",
       "      <th>146484</th>\n",
       "      <td>POLYGON ((-2.077562642688516 4.748679811176147...</td>\n",
       "      <td>0.000000e+00</td>\n",
       "    </tr>\n",
       "    <tr>\n",
       "      <th>146485</th>\n",
       "      <td>POLYGON ((-2.071729542688516 4.748679811176147...</td>\n",
       "      <td>0.000000e+00</td>\n",
       "    </tr>\n",
       "    <tr>\n",
       "      <th>146486</th>\n",
       "      <td>POLYGON ((-2.068396342688517 4.748679811176147...</td>\n",
       "      <td>4.087829e-02</td>\n",
       "    </tr>\n",
       "    <tr>\n",
       "      <th>146487</th>\n",
       "      <td>POLYGON ((-2.051730342688516 4.748679811176147...</td>\n",
       "      <td>4.087829e-02</td>\n",
       "    </tr>\n",
       "    <tr>\n",
       "      <th>146488</th>\n",
       "      <td>POLYGON ((-2.048397142688517 4.748679811176147...</td>\n",
       "      <td>0.000000e+00</td>\n",
       "    </tr>\n",
       "    <tr>\n",
       "      <th>146489</th>\n",
       "      <td>POLYGON ((-2.090062142688516 4.747846511176147...</td>\n",
       "      <td>3.903309e+02</td>\n",
       "    </tr>\n",
       "    <tr>\n",
       "      <th>146490</th>\n",
       "      <td>POLYGON ((-2.089228842688516 4.747846511176147...</td>\n",
       "      <td>3.643817e+00</td>\n",
       "    </tr>\n",
       "    <tr>\n",
       "      <th>146491</th>\n",
       "      <td>POLYGON ((-2.068396342688517 4.746179911176147...</td>\n",
       "      <td>0.000000e+00</td>\n",
       "    </tr>\n",
       "    <tr>\n",
       "      <th>146492</th>\n",
       "      <td>POLYGON ((-2.064229842688516 4.746179911176147...</td>\n",
       "      <td>0.000000e+00</td>\n",
       "    </tr>\n",
       "    <tr>\n",
       "      <th>146493</th>\n",
       "      <td>POLYGON ((-2.054230242688516 4.746179911176147...</td>\n",
       "      <td>0.000000e+00</td>\n",
       "    </tr>\n",
       "    <tr>\n",
       "      <th>146494</th>\n",
       "      <td>POLYGON ((-3.262515242688516 11.17425611117615...</td>\n",
       "      <td>-3.402823e+38</td>\n",
       "    </tr>\n",
       "    <tr>\n",
       "      <th>146495</th>\n",
       "      <td>POLYGON ((-2.060063342688516 4.746179911176147...</td>\n",
       "      <td>4.087829e-02</td>\n",
       "    </tr>\n",
       "    <tr>\n",
       "      <th>146496</th>\n",
       "      <td>POLYGON ((-2.093395342688516 4.748679811176147...</td>\n",
       "      <td>0.000000e+00</td>\n",
       "    </tr>\n",
       "    <tr>\n",
       "      <th>146497</th>\n",
       "      <td>POLYGON ((-2.056730142688516 4.742846711176147...</td>\n",
       "      <td>0.000000e+00</td>\n",
       "    </tr>\n",
       "  </tbody>\n",
       "</table>\n",
       "<p>146498 rows × 2 columns</p>\n",
       "</div>"
      ],
      "text/plain": [
       "                                                 geometry    raster_val\n",
       "0       POLYGON ((-0.2709682426885167 11.1717562111761...  2.357377e+00\n",
       "1       POLYGON ((-0.2734681426885168 11.1717562111761...  8.602970e-01\n",
       "2       POLYGON ((-0.2784679426885166 11.1734228111761...  2.357377e+00\n",
       "3       POLYGON ((-0.2759680426885165 11.1625899111761...  2.621476e-01\n",
       "4       POLYGON ((-0.2818011426885167 11.1517570111761...  2.621476e-01\n",
       "5       POLYGON ((-0.2793012426885166 11.1484238111761...  2.621476e-01\n",
       "6       POLYGON ((-0.2126372426885168 11.1575901111761...  2.002605e+00\n",
       "7       POLYGON ((-0.1843050426885169 11.1500904111761...  1.741318e+00\n",
       "8       POLYGON ((-0.4051295426885164 11.1250914111761...  1.867280e-01\n",
       "9       POLYGON ((-0.2351363426885165 11.1325911111761...  4.565384e+00\n",
       "10      POLYGON ((-0.2476358426885166 11.1650898111761...  7.183341e-01\n",
       "11      POLYGON ((-0.3734641426885168 11.1234248111761...  1.867280e-01\n",
       "12      POLYGON ((-0.4076294426885165 11.1217582111761...  1.867280e-01\n",
       "13      POLYGON ((-0.2168037426885165 11.1325911111761...  5.185255e+00\n",
       "14      POLYGON ((-0.1451399426885165 11.1384242111761...  9.412802e-01\n",
       "15      POLYGON ((-0.1693056426885167 11.1467572111761...  9.245774e-01\n",
       "16      POLYGON ((-0.1526396426885168 11.1400908111761...  1.170096e+00\n",
       "17      POLYGON ((-0.3767973426885165 11.1150918111761...  1.867280e-01\n",
       "18      POLYGON ((-0.2026376426885168 11.1334244111761...  4.141083e+00\n",
       "19      POLYGON ((-0.4126292426885168 11.1125919111761...  5.116702e-01\n",
       "20      POLYGON ((-0.2568021426885165 11.1309245111761...  1.007669e+00\n",
       "21      POLYGON ((-0.4151291426885164 11.1100920111761...  5.116702e-01\n",
       "22      POLYGON ((-0.3959632426885165 11.1125919111761...  1.867280e-01\n",
       "23      POLYGON ((-0.4234621426885168 11.1075921111761...  5.555041e-01\n",
       "24      POLYGON ((-0.4217955426885167 11.1067588111761...  5.116702e-01\n",
       "25      POLYGON ((-0.4209622426885167 11.1050922111761...  5.555041e-01\n",
       "26      POLYGON ((-0.2026376426885168 11.1225915111761...  1.181105e+00\n",
       "27      POLYGON ((-0.1643058426885169 11.1250914111761...  1.702543e+00\n",
       "28      POLYGON ((-0.2859676426885165 11.1217582111761...  7.653326e-01\n",
       "29      POLYGON ((-0.1901381426885167 11.1242581111761...  1.279330e+00\n",
       "...                                                   ...           ...\n",
       "146468  POLYGON ((-2.027564642688517 4.759512711176146...  4.653965e-02\n",
       "146469  POLYGON ((-2.039230842688516 4.758679411176146...  1.636768e+02\n",
       "146470  POLYGON ((-2.032564442688516 4.758679411176146...  3.340789e+01\n",
       "146471  POLYGON ((-2.104228242688516 4.776178711176147...  4.087829e-02\n",
       "146472  POLYGON ((-2.110894642688516 4.757846111176147...  0.000000e+00\n",
       "146473  POLYGON ((-1.980899842688516 4.757012811176147...  0.000000e+00\n",
       "146474  POLYGON ((-2.109228042688516 4.754512911176147...  0.000000e+00\n",
       "146475  POLYGON ((-2.101728342688516 4.754512911176147...  0.000000e+00\n",
       "146476  POLYGON ((-2.043397342688516 4.757012811176147...  0.000000e+00\n",
       "146477  POLYGON ((-2.082562442688516 4.783678411176147...  2.002769e-01\n",
       "146478  POLYGON ((-2.095895242688516 4.751179711176147...  4.087829e-02\n",
       "146479  POLYGON ((-2.048397142688517 4.751179711176147...  4.087829e-02\n",
       "146480  POLYGON ((-2.092562042688516 4.749513111176147...  4.378942e+00\n",
       "146481  POLYGON ((-2.090062142688516 4.748679811176147...  4.378942e+00\n",
       "146482  POLYGON ((-2.089228842688516 4.748679811176147...  4.087829e-02\n",
       "146483  POLYGON ((-2.085062342688516 4.748679811176147...  0.000000e+00\n",
       "146484  POLYGON ((-2.077562642688516 4.748679811176147...  0.000000e+00\n",
       "146485  POLYGON ((-2.071729542688516 4.748679811176147...  0.000000e+00\n",
       "146486  POLYGON ((-2.068396342688517 4.748679811176147...  4.087829e-02\n",
       "146487  POLYGON ((-2.051730342688516 4.748679811176147...  4.087829e-02\n",
       "146488  POLYGON ((-2.048397142688517 4.748679811176147...  0.000000e+00\n",
       "146489  POLYGON ((-2.090062142688516 4.747846511176147...  3.903309e+02\n",
       "146490  POLYGON ((-2.089228842688516 4.747846511176147...  3.643817e+00\n",
       "146491  POLYGON ((-2.068396342688517 4.746179911176147...  0.000000e+00\n",
       "146492  POLYGON ((-2.064229842688516 4.746179911176147...  0.000000e+00\n",
       "146493  POLYGON ((-2.054230242688516 4.746179911176147...  0.000000e+00\n",
       "146494  POLYGON ((-3.262515242688516 11.17425611117615... -3.402823e+38\n",
       "146495  POLYGON ((-2.060063342688516 4.746179911176147...  4.087829e-02\n",
       "146496  POLYGON ((-2.093395342688516 4.748679811176147...  0.000000e+00\n",
       "146497  POLYGON ((-2.056730142688516 4.742846711176147...  0.000000e+00\n",
       "\n",
       "[146498 rows x 2 columns]"
      ]
     },
     "execution_count": 54,
     "metadata": {},
     "output_type": "execute_result"
    }
   ],
   "source": [
    "gpd_polygonized_raster"
   ]
  }
 ],
 "metadata": {
  "kernelspec": {
   "display_name": "Python [default]",
   "language": "python",
   "name": "python3"
  },
  "language_info": {
   "codemirror_mode": {
    "name": "ipython",
    "version": 3
   },
   "file_extension": ".py",
   "mimetype": "text/x-python",
   "name": "python",
   "nbconvert_exporter": "python",
   "pygments_lexer": "ipython3",
   "version": "3.6.4"
  }
 },
 "nbformat": 4,
 "nbformat_minor": 2
}
