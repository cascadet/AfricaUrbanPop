{
 "cells": [
  {
   "cell_type": "markdown",
   "metadata": {},
   "source": [
    "# OSM Raster PolyPoints\n",
    "\n",
    "This notebook contains analysis and visualizations for:\n",
    "\n",
    "1. Loading polygons from masked raster \n",
    "2. Loading in points from OSM\n",
    "3. Associating points with polygons\n",
    "\n",
    "Updated: 2018-11-21\n",
    "\n",
    "2018-11-30: Ran on WP1000c600 for 2000 & 2015 using 872 OSM cities with IDs and exported .shp polygons as\n",
    "20181130_africa1k_20**XX**_mask_1000c600_polypoints.shp. 739 foot prints for 2015 & 705 for 2000\n",
    "\n",
    "### NOTE on 2018-11-30 need to re run AFTER making OSM points into circles to save Lusaka\n",
    "### NOTE on 2018-11-30 DROP polygon doubles at the VERY END"
   ]
  },
  {
   "cell_type": "markdown",
   "metadata": {},
   "source": [
    "### NEED TO FIND AWAY TO ASSOCIATE RASTER PIXELS AND POINTS WITH COUNTRIES Before we run giant for loop - show kelly problems in QGIS\n",
    "\n",
    "1. Can likely clip points by polygon geometry and chunk\n",
    "https://www.earthdatascience.org/courses/earth-analytics-python/spatial-data-vector-shapefiles/clip-vector-data-in-python-geopandas-shapely/\n",
    "\n",
    "2. Can likely clip polygons by countries\n",
    "\n",
    "https://gis.stackexchange.com/questions/168266/pyqgis-a-geometry-intersectsb-geometry-wouldnt-find-any-intersections\n",
    "\n",
    "#### updated 2018-11-21 Loop isn't that big and a good Africa basemap has a ton of polygons ... better to chunk later"
   ]
  },
  {
   "cell_type": "code",
   "execution_count": null,
   "metadata": {},
   "outputs": [],
   "source": [
    "# Load africa countries -- 762 polygons because of islands \n",
    "# Africa_poly = gpd.read_file(outfilepath+\"Africa_polys_test.shp\")\n",
    "# len(Africa_poly)"
   ]
  },
  {
   "cell_type": "markdown",
   "metadata": {},
   "source": [
    "# Dependencies"
   ]
  },
  {
   "cell_type": "code",
   "execution_count": 29,
   "metadata": {},
   "outputs": [],
   "source": [
    "import pandas as pd\n",
    "import geopandas as gpd\n",
    "from shapely.geometry import Point\n",
    "from shapely.geometry import mapping\n",
    "from shapely.geometry import Polygon\n",
    "from shapely.geometry import shape\n",
    "import ast\n",
    "from shapely.geometry import mapping\n",
    "import rasterio"
   ]
  },
  {
   "cell_type": "markdown",
   "metadata": {},
   "source": [
    "# Load in OSM and Polygons from csv"
   ]
  },
  {
   "cell_type": "code",
   "execution_count": 2,
   "metadata": {},
   "outputs": [],
   "source": [
    "# will build out folders later\n",
    "\n",
    "# data folder git will ignore\n",
    "infilepath = \"/home/cascade/tana-crunch-cascade/projects/NTL/data/\" # git will ignore\n",
    "outfilepath = \"/home/cascade/tana-crunch-cascade/projects/NTL/temp_data/\" # git will not ignore - NO BIG FILES \n",
    "\n",
    "# Local computer \n",
    "# infilepath = '/Users/cascade/Github/NTL/data/raw/worldpop/Africa-1km-Population/'\n",
    "# outfilepath = '/Users/cascade/Github/NTL/temp_data/'"
   ]
  },
  {
   "cell_type": "code",
   "execution_count": 3,
   "metadata": {},
   "outputs": [],
   "source": [
    "def load_points (file):\n",
    "    \"\"\" This function loads a csv of points and turns it into shapely points\"\"\"\n",
    "    df = pd.read_csv(file)\n",
    "\n",
    "    # creating a geometry column \n",
    "    geometry = [Point(xy) for xy in zip(df['lon'], df['lat'])]\n",
    "\n",
    "    # Coordinate reference system : WGS84\n",
    "    crs = {'init': 'epsg:4326'}\n",
    "\n",
    "    # Creating a Geographic data frame \n",
    "    point_gdf = gpd.GeoDataFrame(df, crs=crs, geometry=geometry)\n",
    "    \n",
    "    return point_gdf"
   ]
  },
  {
   "cell_type": "code",
   "execution_count": 4,
   "metadata": {},
   "outputs": [],
   "source": [
    "# Load OSM Points\n",
    "osm_point_gdf = load_points(outfilepath+'20181129_osm_africa_cities.csv')"
   ]
  },
  {
   "cell_type": "code",
   "execution_count": 63,
   "metadata": {},
   "outputs": [],
   "source": [
    "WP2015_poly = gpd.read_file(outfilepath+'20181130_africa1k_2015_mask_1000c600_poly.shp')"
   ]
  },
  {
   "cell_type": "code",
   "execution_count": 61,
   "metadata": {},
   "outputs": [
    {
     "name": "stdout",
     "output_type": "stream",
     "text": [
      "872\n",
      "19482\n"
     ]
    }
   ],
   "source": [
    "print(len(osm_point_gdf))\n",
    "print(len(WP2000_poly))"
   ]
  },
  {
   "cell_type": "markdown",
   "metadata": {},
   "source": [
    "# Function for searching if a point is within a polygon"
   ]
  },
  {
   "cell_type": "code",
   "execution_count": 18,
   "metadata": {},
   "outputs": [],
   "source": [
    "def poly_point (poly, point):\n",
    "    \"\"\"\n",
    "    This function will check if points are inside polygons if given two gpd dataframes with points and polygons\n",
    "    Returns point ids, point geometry, polygon index # and polygon geometry\n",
    "    \"\"\"\n",
    "    \n",
    "    out_arr = [] #return an array <<< ---------------- ASK RYAN IF BETTER DO USE DICT \n",
    "    \n",
    "    for index_point, row_point in point.iterrows():\n",
    "        for index_poly, row_poly in poly.iterrows():\n",
    "            if row_point['geometry'].within(row_poly['geometry']):\n",
    "                point_id = row_point['id']\n",
    "                point_geom = mapping(row_point['geometry']) # makes a dict w/ keys : type and cood\n",
    "                poly_id = index_poly\n",
    "                poly_geom = mapping(row_poly['geometry']) # makes a dict w/ keys : type and cood\n",
    "                \n",
    "                out_arr.append((point_id, \n",
    "                                point_geom, \n",
    "                                poly_id, \n",
    "                                poly_geom))\n",
    "\n",
    "    return out_arr\n",
    "\n",
    "# Note 2018-11-30 update arr to gpd_df "
   ]
  },
  {
   "cell_type": "code",
   "execution_count": 64,
   "metadata": {},
   "outputs": [
    {
     "name": "stdout",
     "output_type": "stream",
     "text": [
      "elapsed time is: 1120.166103363037s\n"
     ]
    }
   ],
   "source": [
    "import time\n",
    "\n",
    "checkpoint = time.time()\n",
    "\n",
    "WP2015_polypoints = poly_point(WP2015_poly, osm_point_gdf)\n",
    "\n",
    "print(\"elapsed time is: {}s\".format(time.time()-checkpoint))"
   ]
  },
  {
   "cell_type": "code",
   "execution_count": 71,
   "metadata": {},
   "outputs": [
    {
     "name": "stdout",
     "output_type": "stream",
     "text": [
      "705\n"
     ]
    }
   ],
   "source": [
    "WP2015_polypoints_df = gpd.GeoDataFrame(WP2015_polypoints)\n",
    "WP2015_polypoints_df.head(6)\n",
    "print(len(WP2000_polypoints_df))"
   ]
  },
  {
   "cell_type": "markdown",
   "metadata": {},
   "source": [
    "### Note polypoints on WP2015 picked up more OSM city points than 2000. Ask Kelly and check"
   ]
  },
  {
   "cell_type": "code",
   "execution_count": 67,
   "metadata": {
    "scrolled": true
   },
   "outputs": [
    {
     "data": {
      "text/html": [
       "<div>\n",
       "<style scoped>\n",
       "    .dataframe tbody tr th:only-of-type {\n",
       "        vertical-align: middle;\n",
       "    }\n",
       "\n",
       "    .dataframe tbody tr th {\n",
       "        vertical-align: top;\n",
       "    }\n",
       "\n",
       "    .dataframe thead th {\n",
       "        text-align: right;\n",
       "    }\n",
       "</style>\n",
       "<table border=\"1\" class=\"dataframe\">\n",
       "  <thead>\n",
       "    <tr style=\"text-align: right;\">\n",
       "      <th></th>\n",
       "      <th>OSM_ID</th>\n",
       "      <th>OSM_point</th>\n",
       "      <th>FID</th>\n",
       "      <th>poly_geometry</th>\n",
       "    </tr>\n",
       "  </thead>\n",
       "  <tbody>\n",
       "    <tr>\n",
       "      <th>0</th>\n",
       "      <td>27564946</td>\n",
       "      <td>{'type': 'Point', 'coordinates': (6.6082600000...</td>\n",
       "      <td>1145</td>\n",
       "      <td>{'type': 'Polygon', 'coordinates': (((6.624583...</td>\n",
       "    </tr>\n",
       "    <tr>\n",
       "      <th>1</th>\n",
       "      <td>27565103</td>\n",
       "      <td>{'type': 'Point', 'coordinates': (-0.649297599...</td>\n",
       "      <td>2325</td>\n",
       "      <td>{'type': 'Polygon', 'coordinates': (((-0.80875...</td>\n",
       "    </tr>\n",
       "    <tr>\n",
       "      <th>2</th>\n",
       "      <td>253292160</td>\n",
       "      <td>{'type': 'Point', 'coordinates': (4.0493919, 3...</td>\n",
       "      <td>421</td>\n",
       "      <td>{'type': 'Polygon', 'coordinates': (((3.966249...</td>\n",
       "    </tr>\n",
       "    <tr>\n",
       "      <th>3</th>\n",
       "      <td>262963217</td>\n",
       "      <td>{'type': 'Point', 'coordinates': (6.8603492, 3...</td>\n",
       "      <td>4622</td>\n",
       "      <td>{'type': 'Polygon', 'coordinates': (((6.816249...</td>\n",
       "    </tr>\n",
       "    <tr>\n",
       "      <th>4</th>\n",
       "      <td>262964638</td>\n",
       "      <td>{'type': 'Point', 'coordinates': (6.066102, 33...</td>\n",
       "      <td>4724</td>\n",
       "      <td>{'type': 'Polygon', 'coordinates': (((6.066249...</td>\n",
       "    </tr>\n",
       "    <tr>\n",
       "      <th>5</th>\n",
       "      <td>264573224</td>\n",
       "      <td>{'type': 'Point', 'coordinates': (2.8808616000...</td>\n",
       "      <td>4282</td>\n",
       "      <td>{'type': 'Polygon', 'coordinates': (((2.849583...</td>\n",
       "    </tr>\n",
       "  </tbody>\n",
       "</table>\n",
       "</div>"
      ],
      "text/plain": [
       "      OSM_ID                                          OSM_point   FID  \\\n",
       "0   27564946  {'type': 'Point', 'coordinates': (6.6082600000...  1145   \n",
       "1   27565103  {'type': 'Point', 'coordinates': (-0.649297599...  2325   \n",
       "2  253292160  {'type': 'Point', 'coordinates': (4.0493919, 3...   421   \n",
       "3  262963217  {'type': 'Point', 'coordinates': (6.8603492, 3...  4622   \n",
       "4  262964638  {'type': 'Point', 'coordinates': (6.066102, 33...  4724   \n",
       "5  264573224  {'type': 'Point', 'coordinates': (2.8808616000...  4282   \n",
       "\n",
       "                                       poly_geometry  \n",
       "0  {'type': 'Polygon', 'coordinates': (((6.624583...  \n",
       "1  {'type': 'Polygon', 'coordinates': (((-0.80875...  \n",
       "2  {'type': 'Polygon', 'coordinates': (((3.966249...  \n",
       "3  {'type': 'Polygon', 'coordinates': (((6.816249...  \n",
       "4  {'type': 'Polygon', 'coordinates': (((6.066249...  \n",
       "5  {'type': 'Polygon', 'coordinates': (((2.849583...  "
      ]
     },
     "execution_count": 67,
     "metadata": {},
     "output_type": "execute_result"
    }
   ],
   "source": [
    "WP2015_polypoints_df.columns = ['OSM_ID','OSM_point','FID','poly_geometry']\n",
    "WP2015_polypoints_df.head(6)"
   ]
  },
  {
   "cell_type": "code",
   "execution_count": 55,
   "metadata": {},
   "outputs": [],
   "source": [
    "# from shapely.geometry import shape\n",
    "\n",
    "def arr_gpd(gpd_df, incolname, newcolname):\n",
    "    \"\"\"Function takes a geopandas dataframe with dicts and returns proper geometry to make shapefiles\"\"\"\n",
    "    arr = []\n",
    "\n",
    "    for i in gpd_df[incolname]:\n",
    "        i = shape(i)\n",
    "        arr.append((i))\n",
    "\n",
    "    # for poly in polypoints_2000_df.iloc[:,6]:\n",
    "    #     poly = shape(ast.literal_eval(poly))\n",
    "    #     test.append = (poly)\n",
    "\n",
    "    #polypoints_2020_df['poly_geom'] = polypoints_2020_df['poly_geom'].apply(ast.literal_eval())\n",
    "    gpd_df[newcolname] = arr\n",
    "    \n",
    "    return gpd_df"
   ]
  },
  {
   "cell_type": "code",
   "execution_count": 68,
   "metadata": {},
   "outputs": [],
   "source": [
    "WP2015_polypoints_df_new = arr_gpd(WP2015_polypoints_df, 'poly_geometry','geometry')"
   ]
  },
  {
   "cell_type": "code",
   "execution_count": 69,
   "metadata": {},
   "outputs": [
    {
     "data": {
      "text/html": [
       "<div>\n",
       "<style scoped>\n",
       "    .dataframe tbody tr th:only-of-type {\n",
       "        vertical-align: middle;\n",
       "    }\n",
       "\n",
       "    .dataframe tbody tr th {\n",
       "        vertical-align: top;\n",
       "    }\n",
       "\n",
       "    .dataframe thead th {\n",
       "        text-align: right;\n",
       "    }\n",
       "</style>\n",
       "<table border=\"1\" class=\"dataframe\">\n",
       "  <thead>\n",
       "    <tr style=\"text-align: right;\">\n",
       "      <th></th>\n",
       "      <th>OSM_ID</th>\n",
       "      <th>OSM_point</th>\n",
       "      <th>FID</th>\n",
       "      <th>poly_geometry</th>\n",
       "      <th>geometry</th>\n",
       "    </tr>\n",
       "  </thead>\n",
       "  <tbody>\n",
       "    <tr>\n",
       "      <th>0</th>\n",
       "      <td>27564946</td>\n",
       "      <td>{'type': 'Point', 'coordinates': (6.6082600000...</td>\n",
       "      <td>1145</td>\n",
       "      <td>{'type': 'Polygon', 'coordinates': (((6.624583...</td>\n",
       "      <td>POLYGON ((6.624583 36.474584, 6.641249 36.4745...</td>\n",
       "    </tr>\n",
       "    <tr>\n",
       "      <th>1</th>\n",
       "      <td>27565103</td>\n",
       "      <td>{'type': 'Point', 'coordinates': (-0.649297599...</td>\n",
       "      <td>2325</td>\n",
       "      <td>{'type': 'Polygon', 'coordinates': (((-0.80875...</td>\n",
       "      <td>POLYGON ((-0.808751 35.774584, -0.792084 35.77...</td>\n",
       "    </tr>\n",
       "    <tr>\n",
       "      <th>2</th>\n",
       "      <td>253292160</td>\n",
       "      <td>{'type': 'Point', 'coordinates': (4.0493919, 3...</td>\n",
       "      <td>421</td>\n",
       "      <td>{'type': 'Polygon', 'coordinates': (((3.966249...</td>\n",
       "      <td>POLYGON ((3.966249 36.76625, 3.991249 36.76625...</td>\n",
       "    </tr>\n",
       "    <tr>\n",
       "      <th>3</th>\n",
       "      <td>262963217</td>\n",
       "      <td>{'type': 'Point', 'coordinates': (6.8603492, 3...</td>\n",
       "      <td>4622</td>\n",
       "      <td>{'type': 'Polygon', 'coordinates': (((6.816249...</td>\n",
       "      <td>POLYGON ((6.816249 33.424584, 6.824583 33.4245...</td>\n",
       "    </tr>\n",
       "    <tr>\n",
       "      <th>4</th>\n",
       "      <td>262964638</td>\n",
       "      <td>{'type': 'Point', 'coordinates': (6.066102, 33...</td>\n",
       "      <td>4724</td>\n",
       "      <td>{'type': 'Polygon', 'coordinates': (((6.066249...</td>\n",
       "      <td>POLYGON ((6.066249 33.157917, 6.082916 33.1579...</td>\n",
       "    </tr>\n",
       "    <tr>\n",
       "      <th>5</th>\n",
       "      <td>264573224</td>\n",
       "      <td>{'type': 'Point', 'coordinates': (2.8808616000...</td>\n",
       "      <td>4282</td>\n",
       "      <td>{'type': 'Polygon', 'coordinates': (((2.849583...</td>\n",
       "      <td>POLYGON ((2.849583 33.86625, 2.866249 33.86625...</td>\n",
       "    </tr>\n",
       "  </tbody>\n",
       "</table>\n",
       "</div>"
      ],
      "text/plain": [
       "      OSM_ID                                          OSM_point   FID  \\\n",
       "0   27564946  {'type': 'Point', 'coordinates': (6.6082600000...  1145   \n",
       "1   27565103  {'type': 'Point', 'coordinates': (-0.649297599...  2325   \n",
       "2  253292160  {'type': 'Point', 'coordinates': (4.0493919, 3...   421   \n",
       "3  262963217  {'type': 'Point', 'coordinates': (6.8603492, 3...  4622   \n",
       "4  262964638  {'type': 'Point', 'coordinates': (6.066102, 33...  4724   \n",
       "5  264573224  {'type': 'Point', 'coordinates': (2.8808616000...  4282   \n",
       "\n",
       "                                       poly_geometry  \\\n",
       "0  {'type': 'Polygon', 'coordinates': (((6.624583...   \n",
       "1  {'type': 'Polygon', 'coordinates': (((-0.80875...   \n",
       "2  {'type': 'Polygon', 'coordinates': (((3.966249...   \n",
       "3  {'type': 'Polygon', 'coordinates': (((6.816249...   \n",
       "4  {'type': 'Polygon', 'coordinates': (((6.066249...   \n",
       "5  {'type': 'Polygon', 'coordinates': (((2.849583...   \n",
       "\n",
       "                                            geometry  \n",
       "0  POLYGON ((6.624583 36.474584, 6.641249 36.4745...  \n",
       "1  POLYGON ((-0.808751 35.774584, -0.792084 35.77...  \n",
       "2  POLYGON ((3.966249 36.76625, 3.991249 36.76625...  \n",
       "3  POLYGON ((6.816249 33.424584, 6.824583 33.4245...  \n",
       "4  POLYGON ((6.066249 33.157917, 6.082916 33.1579...  \n",
       "5  POLYGON ((2.849583 33.86625, 2.866249 33.86625...  "
      ]
     },
     "execution_count": 69,
     "metadata": {},
     "output_type": "execute_result"
    }
   ],
   "source": [
    "WP2015_polypoints_df_new.head(6)"
   ]
  },
  {
   "cell_type": "code",
   "execution_count": 70,
   "metadata": {},
   "outputs": [],
   "source": [
    "WP2015_polypoints_df.to_file(outfilepath+'20181130_africa1k_2015_mask_1000c600_polypoints.shp', driver='ESRI Shapefile')\n"
   ]
  },
  {
   "cell_type": "markdown",
   "metadata": {},
   "source": [
    "# Old Code"
   ]
  },
  {
   "cell_type": "code",
   "execution_count": null,
   "metadata": {},
   "outputs": [],
   "source": [
    "# building a function to check if points are in poly for lists of poly and points\n",
    "# needs geopandas data frame with point and poly geometry \n",
    "\n",
    "# def poly_point (poly, point):\n",
    "#     \"\"\"\n",
    "#     This function will check if points are inside polygons if given two gpds with points and polygons\n",
    "#     Returns city names or no list \n",
    "#     \"\"\"\n",
    "    \n",
    "#     out_arr = [] #return an array <<< ---------------- ASK RYAN IF BETTER DO USE DICT \n",
    "    \n",
    "#     for index_point, row_point in point.iterrows():\n",
    "#         for index_poly, row_poly in poly.iterrows():\n",
    "#             if row_point['geometry'].within(row_poly['geometry']):\n",
    "#                 country = row_point['Country']\n",
    "#                 city = row_point['City']\n",
    "#                 point_id = row_point['Id']\n",
    "#                 point_geom = mapping(row_point['geometry']) # makes a dict w/ keys : type and cood\n",
    "#                 poly_id = index_poly\n",
    "#                 poly_geom = mapping(row_poly['geometry']) # makes a dict w/ keys : type and cood\n",
    "                \n",
    "#                 out_arr.append((country, \n",
    "#                                 city, \n",
    "#                                 point_id, \n",
    "#                                 point_geom, \n",
    "#                                 poly_id, \n",
    "#                                 poly_geom))\n",
    "# #             else:\n",
    "# #                 test.append('no')\n",
    "#     return out_arr"
   ]
  }
 ],
 "metadata": {
  "kernelspec": {
   "display_name": "Python [conda root]",
   "language": "python",
   "name": "conda-root-py"
  },
  "language_info": {
   "codemirror_mode": {
    "name": "ipython",
    "version": 3
   },
   "file_extension": ".py",
   "mimetype": "text/x-python",
   "name": "python",
   "nbconvert_exporter": "python",
   "pygments_lexer": "ipython3",
   "version": "3.6.4"
  }
 },
 "nbformat": 4,
 "nbformat_minor": 2
}
