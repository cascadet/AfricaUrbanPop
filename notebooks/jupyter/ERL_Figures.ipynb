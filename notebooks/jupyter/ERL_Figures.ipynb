{
 "cells": [
  {
   "cell_type": "markdown",
   "metadata": {},
   "source": [
    "# NoteBook to Make Descriptives\n",
    "\n",
    "This notebook is for looking at final population zonal stats data"
   ]
  },
  {
   "cell_type": "code",
   "execution_count": 1,
   "metadata": {},
   "outputs": [],
   "source": [
    "from rasterstats import zonal_stats\n",
    "import rasterio\n",
    "import geopandas as gpd\n",
    "import operator\n",
    "import numpy as np\n",
    "import pandas as pd\n",
    "import matplotlib \n",
    "import seaborn as sns\n",
    "import matplotlib.pyplot as plt\n",
    "from scipy import stats\n",
    "from functools import reduce\n",
    "import squarify"
   ]
  },
  {
   "cell_type": "markdown",
   "metadata": {},
   "source": [
    "# Functions"
   ]
  },
  {
   "cell_type": "code",
   "execution_count": 2,
   "metadata": {},
   "outputs": [],
   "source": [
    "def city_search(gpd_df, city_list, country):\n",
    "    \"\"\" function will print out city name and population for a subset of a gridded dataset gpd\n",
    "    requires data frame, list of cities, and country of interest\n",
    "    \"\"\"\n",
    "    gpd_df_sub = gpd_df[gpd_df['country'] == country]\n",
    "    \n",
    "    for index, row in gpd_df_sub.iterrows():\n",
    "        for city in city_list:\n",
    "            if row['city'] == city:\n",
    "                print(city)\n",
    "                print(round(row['PopTot']))"
   ]
  },
  {
   "cell_type": "code",
   "execution_count": 3,
   "metadata": {},
   "outputs": [],
   "source": [
    "def str_id(gpd_df):\n",
    "    \"\"\"\n",
    "    Function makes a new col with a unique lat-lon string to identify each osm point & drops duplicates\n",
    "    Function also makes\n",
    "    \"\"\"\n",
    "\n",
    "    \n",
    "    print(gpd_df.shape)\n",
    "    \n",
    "    lat_string = gpd_df.lat.astype(str)\n",
    "    lon_string = gpd_df.lon.astype(str)\n",
    "    gpd_df['str_id'] = lat_string.astype(str)+lon_string.astype(str)\n",
    "    \n",
    "    print(gpd_df.shape)\n"
   ]
  },
  {
   "cell_type": "code",
   "execution_count": 4,
   "metadata": {},
   "outputs": [],
   "source": [
    "def dup_drop(gpd_in, col, keep_dup):\n",
    "    \"\"\" \n",
    "    function drops duplicates based on a column from a pd data frame\n",
    "    requires pd df out string, pd df, col name, and which dup to keep\n",
    "    returns new gpd_df\n",
    "    \"\"\"\n",
    "    \n",
    "    gpd_out = gpd.GeoDataFrame()\n",
    "    \n",
    "    print(gpd_in.shape)\n",
    "    \n",
    "    gpd_out = gpd_in.drop_duplicates(col, keep = keep_dup)\n",
    "    \n",
    "    print(gpd_out.shape)\n",
    "\n",
    "    return gpd_out\n",
    "\n",
    "    "
   ]
  },
  {
   "cell_type": "code",
   "execution_count": 5,
   "metadata": {},
   "outputs": [],
   "source": [
    "def df_merge(df_left, df_right):\n",
    "    \n",
    "    pd_out = pd.DataFrame()\n",
    "    pd_out = pd.merge(df_left[['str_id', 'PopTot']], df_right[['str_id', 'PopTot']], on='str_id', how = 'inner')\n",
    "    \n",
    "    left_pop = pd_out.PopTot_x.astype(str)\n",
    "    right_pop = pd_out.PopTot_y.astype(str)\n",
    "    pd_out['pop_id'] = left_pop.astype(str)+right_pop.astype(str)\n",
    "\n",
    "    return pd_out"
   ]
  },
  {
   "cell_type": "code",
   "execution_count": 6,
   "metadata": {},
   "outputs": [],
   "source": [
    "def p_X_gt_x(data, X=None):\n",
    "    n_data = len(data)\n",
    "    if X is None:\n",
    "        X = data.unique()\n",
    "    return X, pd.Series([sum(data>=x)/n_data for x in X ])\n",
    "\n",
    "def p_X_lt_x(data, X=None):\n",
    "    n_data = len(data)\n",
    "    if X is None:\n",
    "        X = data.unique()\n",
    "    return X, pd.Series([sum(data<=x)/n_data for x in X ])"
   ]
  },
  {
   "cell_type": "markdown",
   "metadata": {},
   "source": [
    "# Data"
   ]
  },
  {
   "cell_type": "code",
   "execution_count": 7,
   "metadata": {},
   "outputs": [],
   "source": [
    "# File paths\n",
    "\n",
    "data_raw = '/Users/cascade/Github/NTL/data/raw/'\n",
    "data_temp = '/Users/cascade/Github/NTL/temp_data/'\n",
    "data_interim = '/Users/cascade/Github/NTL/data/interim/'\n",
    "ms_data = '/Users/cascade/Github/NTL/temp_data/MS_Data/'\n",
    "erl_data = '/Users/cascade/Github/NTL/temp_data/ERL_data/'\n",
    "downloads = '/Users/cascade/Downloads/'"
   ]
  },
  {
   "cell_type": "code",
   "execution_count": 8,
   "metadata": {},
   "outputs": [],
   "source": [
    "# Data\n",
    "\n",
    "GHS2000 = gpd.read_file(erl_data+'GHS_POP_GPW42000_final20190122.shp')\n",
    "GHS2015 = gpd.read_file(erl_data+'GHS_POP_GPW42015_final20190122.shp')\n",
    "WP2000 = gpd.read_file(erl_data+'AFR_PPP_2000_adj_v2_final20190122.shp')\n",
    "WP2015 = gpd.read_file(erl_data+'AFR_PPP_2015_adj_v2_final20190122.shp')\n",
    "LS2015 = gpd.read_file(erl_data+'WPE_1KM_2016_final20190122.shp')\n",
    "WPE2016 = gpd.read_file(erl_data+'LS15_final20190122.shp')"
   ]
  },
  {
   "cell_type": "code",
   "execution_count": 9,
   "metadata": {},
   "outputs": [],
   "source": [
    "# List of datasets\n",
    "\n",
    "datasets_in = [GHS2000, GHS2015, WP2000, WP2015, LS2015, WPE2016]"
   ]
  },
  {
   "cell_type": "code",
   "execution_count": 10,
   "metadata": {},
   "outputs": [
    {
     "data": {
      "text/html": [
       "<div>\n",
       "<style scoped>\n",
       "    .dataframe tbody tr th:only-of-type {\n",
       "        vertical-align: middle;\n",
       "    }\n",
       "\n",
       "    .dataframe tbody tr th {\n",
       "        vertical-align: top;\n",
       "    }\n",
       "\n",
       "    .dataframe thead th {\n",
       "        text-align: right;\n",
       "    }\n",
       "</style>\n",
       "<table border=\"1\" class=\"dataframe\">\n",
       "  <thead>\n",
       "    <tr style=\"text-align: right;\">\n",
       "      <th></th>\n",
       "      <th>osm_id</th>\n",
       "      <th>FID</th>\n",
       "      <th>country</th>\n",
       "      <th>city</th>\n",
       "      <th>osm_type</th>\n",
       "      <th>lat</th>\n",
       "      <th>lon</th>\n",
       "      <th>PopTot</th>\n",
       "      <th>aez_class</th>\n",
       "      <th>geometry</th>\n",
       "    </tr>\n",
       "  </thead>\n",
       "  <tbody>\n",
       "    <tr>\n",
       "      <th>0</th>\n",
       "      <td>89369215</td>\n",
       "      <td>5382</td>\n",
       "      <td>Algeria</td>\n",
       "      <td>Tamanrasset</td>\n",
       "      <td>town</td>\n",
       "      <td>22.785454</td>\n",
       "      <td>5.532446</td>\n",
       "      <td>3.091468e+04</td>\n",
       "      <td>Tropic - cool / arid</td>\n",
       "      <td>POLYGON ((5.512930562910484 22.80475188764244,...</td>\n",
       "    </tr>\n",
       "    <tr>\n",
       "      <th>1</th>\n",
       "      <td>252600742</td>\n",
       "      <td>624</td>\n",
       "      <td>Algeria</td>\n",
       "      <td>Boumerdès</td>\n",
       "      <td>town</td>\n",
       "      <td>36.758882</td>\n",
       "      <td>3.470596</td>\n",
       "      <td>4.041199e+06</td>\n",
       "      <td>Subtropic - warm / subhumid</td>\n",
       "      <td>POLYGON ((2.960095682991406 36.82071885667166,...</td>\n",
       "    </tr>\n",
       "    <tr>\n",
       "      <th>2</th>\n",
       "      <td>253167052</td>\n",
       "      <td>195</td>\n",
       "      <td>Algeria</td>\n",
       "      <td>Thenia</td>\n",
       "      <td>town</td>\n",
       "      <td>36.724986</td>\n",
       "      <td>3.556935</td>\n",
       "      <td>2.767512e+04</td>\n",
       "      <td>Subtropic - warm / subhumid</td>\n",
       "      <td>POLYGON ((3.610972972741118 36.75033076389462,...</td>\n",
       "    </tr>\n",
       "    <tr>\n",
       "      <th>3</th>\n",
       "      <td>253167208</td>\n",
       "      <td>150</td>\n",
       "      <td>Algeria</td>\n",
       "      <td>Zemmouri</td>\n",
       "      <td>town</td>\n",
       "      <td>36.786406</td>\n",
       "      <td>3.601221</td>\n",
       "      <td>2.016720e+04</td>\n",
       "      <td>Subtropic - warm / subhumid</td>\n",
       "      <td>POLYGON ((3.555512812300016 36.81191901602259,...</td>\n",
       "    </tr>\n",
       "    <tr>\n",
       "      <th>4</th>\n",
       "      <td>253291208</td>\n",
       "      <td>436</td>\n",
       "      <td>Algeria</td>\n",
       "      <td>Lakhdaria</td>\n",
       "      <td>town</td>\n",
       "      <td>36.563944</td>\n",
       "      <td>3.596907</td>\n",
       "      <td>4.186613e+04</td>\n",
       "      <td>Subtropic - warm / subhumid</td>\n",
       "      <td>POLYGON ((3.548917172615572 36.58325611006445,...</td>\n",
       "    </tr>\n",
       "    <tr>\n",
       "      <th>5</th>\n",
       "      <td>253292622</td>\n",
       "      <td>257</td>\n",
       "      <td>Algeria</td>\n",
       "      <td>Draâ Ben Khedda</td>\n",
       "      <td>town</td>\n",
       "      <td>36.733332</td>\n",
       "      <td>3.958769</td>\n",
       "      <td>3.400638e+05</td>\n",
       "      <td>Subtropic - warm / subhumid</td>\n",
       "      <td>POLYGON ((3.842424792309737 36.82951907750196,...</td>\n",
       "    </tr>\n",
       "  </tbody>\n",
       "</table>\n",
       "</div>"
      ],
      "text/plain": [
       "      osm_id   FID  country             city osm_type        lat       lon  \\\n",
       "0   89369215  5382  Algeria      Tamanrasset     town  22.785454  5.532446   \n",
       "1  252600742   624  Algeria        Boumerdès     town  36.758882  3.470596   \n",
       "2  253167052   195  Algeria           Thenia     town  36.724986  3.556935   \n",
       "3  253167208   150  Algeria         Zemmouri     town  36.786406  3.601221   \n",
       "4  253291208   436  Algeria        Lakhdaria     town  36.563944  3.596907   \n",
       "5  253292622   257  Algeria  Draâ Ben Khedda     town  36.733332  3.958769   \n",
       "\n",
       "         PopTot                    aez_class  \\\n",
       "0  3.091468e+04         Tropic - cool / arid   \n",
       "1  4.041199e+06  Subtropic - warm / subhumid   \n",
       "2  2.767512e+04  Subtropic - warm / subhumid   \n",
       "3  2.016720e+04  Subtropic - warm / subhumid   \n",
       "4  4.186613e+04  Subtropic - warm / subhumid   \n",
       "5  3.400638e+05  Subtropic - warm / subhumid   \n",
       "\n",
       "                                            geometry  \n",
       "0  POLYGON ((5.512930562910484 22.80475188764244,...  \n",
       "1  POLYGON ((2.960095682991406 36.82071885667166,...  \n",
       "2  POLYGON ((3.610972972741118 36.75033076389462,...  \n",
       "3  POLYGON ((3.555512812300016 36.81191901602259,...  \n",
       "4  POLYGON ((3.548917172615572 36.58325611006445,...  \n",
       "5  POLYGON ((3.842424792309737 36.82951907750196,...  "
      ]
     },
     "execution_count": 10,
     "metadata": {},
     "output_type": "execute_result"
    }
   ],
   "source": [
    "GHS2000.head(6)"
   ]
  },
  {
   "cell_type": "markdown",
   "metadata": {},
   "source": [
    "### Add regions\n",
    "\n",
    "Add new column that adds the region for each city"
   ]
  },
  {
   "cell_type": "code",
   "execution_count": 11,
   "metadata": {},
   "outputs": [],
   "source": [
    "### List of African Countries from the UN in OSM wiki\n",
    "\n",
    "Northern_Africa = (['Algeria', 'Egypt', 'Libya', 'Morocco', 'Tunisia', 'Western Sahara'], 'Northern_Africa')\n",
    "\n",
    "Eastern_Africa = ([\n",
    "    'Burundi',\n",
    "    'Comoros',\n",
    "    'Djibouti',\n",
    "    'Eritrea',\n",
    "    'Ethiopia',\n",
    "    'Kenya',\n",
    "    'Madagascar',\n",
    "    'Malawi',\n",
    "    'Mauritius',\n",
    "    #Mayotte,\n",
    "    'Mozambique',\n",
    "    'Réunion',\n",
    "    'Rwanda',\n",
    "    'Somalia',\n",
    "    'Sudan',\n",
    "    'Uganda',\n",
    "    'Tanzania',\n",
    "    'Zambia',\n",
    "    'Zimbabwe'], 'Eastern_Africa')\n",
    "    \n",
    "Middle_Africa = ([\n",
    "    'Angola',\n",
    "    'Cameroon',\n",
    "    'Central African Republic',\n",
    "    'Chad',\n",
    "    'Congo-Brazzaville',\n",
    "    'Congo-Kinshasa',\n",
    "    'Equatorial Guinea',\n",
    "    'Gabon',\n",
    "    'Sao Tome and Principe'], 'Middle_Africa')\n",
    "    \n",
    "Southern_Africa = ([\n",
    "    'Botswana',\n",
    "    'Lesotho',\n",
    "    'Namibia',\n",
    "    'South Africa',\n",
    "    'Swaziland'], 'Southern_Africa')\n",
    "    \n",
    "Western_Africa = ([\n",
    "    'Benin',\n",
    "    'Burkina Faso',\n",
    "    'Cape Verde',\n",
    "    'Côte d\\'Ivoire',\n",
    "    'Gambia',\n",
    "    'Ghana',\n",
    "    'Guinea',\n",
    "    'Guinea-Bissau',\n",
    "    'Liberia',\n",
    "    'Mali',\n",
    "    'Mauritania',\n",
    "    'Niger',\n",
    "    'Nigeria',\n",
    "    'Senegal',\n",
    "    'Sierra Leone',\n",
    "    'Togo'], 'Western_Africa')"
   ]
  },
  {
   "cell_type": "code",
   "execution_count": 12,
   "metadata": {},
   "outputs": [],
   "source": [
    "regions = [Northern_Africa, Western_Africa, Eastern_Africa, Southern_Africa, Middle_Africa]"
   ]
  },
  {
   "cell_type": "code",
   "execution_count": 13,
   "metadata": {},
   "outputs": [],
   "source": [
    "def region(gpd_df, regions_list):\n",
    "    \"Function adds a new col to a df based on region\"\n",
    "    arr =[]\n",
    "    for region in regions_list:\n",
    "        for country in region[0]:\n",
    "            for i, row in gpd_df.iterrows():\n",
    "                if row['country'] == country:\n",
    "                    #row['region'] = region[1] \n",
    "                    #df_copy.iloc[i] = row\n",
    "                    #region[1]\n",
    "                    arr.append(region[1])\n",
    "    gpd_df['region'] = arr\n",
    "    \n",
    "    return gpd_df"
   ]
  },
  {
   "cell_type": "code",
   "execution_count": 14,
   "metadata": {},
   "outputs": [],
   "source": [
    "for dataset in datasets_in:\n",
    "    dataset = region(dataset, regions)"
   ]
  },
  {
   "cell_type": "markdown",
   "metadata": {},
   "source": [
    "###  AZE to Rain Zones\n",
    "\n",
    "create new column for each dataset that includes a cities rain climate "
   ]
  },
  {
   "cell_type": "code",
   "execution_count": 15,
   "metadata": {},
   "outputs": [],
   "source": [
    "# Group my rainfall zone\n",
    "\n",
    "arid = (['Temperate / arid', \n",
    "         'Subtropic - warm / arid', \n",
    "         'Subtropic - cool / arid', \n",
    "         'Tropic - warm / arid',\n",
    "         'Tropic - cool / arid'], 'Arid')\n",
    "\n",
    "semi_arid = (['Temperate / Semi-arid', \n",
    "              'Subtropic - warm / semiarid', \n",
    "              'Subtropic - cool / semiarid',\n",
    "              'Tropic - warm / semiarid', \n",
    "              'Tropic - cool / semiarid'], 'Semi-arid')    \n",
    "\n",
    "sub_humid = (['Temperate / sub-humid', \n",
    "              'Subtropic - warm / subhumid', \n",
    "              'Subtropic - cool / subhumid',\n",
    "              'Tropic - warm / subhumid', \n",
    "              'Tropic - cool / subhumid'], 'Sub-humid')\n",
    "\n",
    "humid = (['Temperate / humid', \n",
    "          'Subtropic - warm / humid', \n",
    "          'Subtropic - cool / humid', \n",
    "          'Tropic - warm / humid',\n",
    "          'Tropic - cool / humid'], 'Humid')\n",
    "\n",
    "boreal = (['Boreal'], 'Boreal')\n",
    "\n",
    "na = (['NoClass', '0'], 'NA')\n",
    "\n",
    "rain_list = [arid, semi_arid, sub_humid, humid, boreal, na]"
   ]
  },
  {
   "cell_type": "code",
   "execution_count": 16,
   "metadata": {},
   "outputs": [],
   "source": [
    "def rain_zone(gpd_df, rain_list):\n",
    "    \"function adds a new col to a gpd_df based on rain fall zone\"\n",
    "    arr =[]\n",
    "    for rain_zone in rain_list:\n",
    "        for aez in rain_zone[0]:\n",
    "            for i, row in gpd_df.iterrows():\n",
    "                if row['aez_class'] == aez:\n",
    "                    arr.append(rain_zone[1])\n",
    "                \n",
    "    gpd_df['rain_zone'] = arr\n",
    "    \n",
    "    return gpd_df"
   ]
  },
  {
   "cell_type": "code",
   "execution_count": 17,
   "metadata": {},
   "outputs": [],
   "source": [
    "for dataset in datasets_in:\n",
    "    dataset = rain_zone(dataset, rain_list)"
   ]
  },
  {
   "cell_type": "markdown",
   "metadata": {},
   "source": [
    "### Drop duplicates & >5000"
   ]
  },
  {
   "cell_type": "code",
   "execution_count": 18,
   "metadata": {},
   "outputs": [
    {
     "name": "stdout",
     "output_type": "stream",
     "text": [
      "1---WP2015---\n",
      "3854\n",
      "2616\n",
      "2411\n",
      "2---LS2015---\n",
      "5598\n",
      "4217\n",
      "3801\n",
      "3---WPE2016---\n",
      "5552\n",
      "4347\n",
      "3643\n",
      "4---GHS2015---\n",
      "6229\n",
      "5026\n",
      "4162\n",
      "5---GHS2000---\n",
      "5854\n",
      "4951\n",
      "3858\n",
      "6---WP2000---\n",
      "3152\n",
      "2259\n",
      "2061\n"
     ]
    }
   ],
   "source": [
    "# Drop Duplicate FIDs (Polygons) and <5000 people \n",
    "\n",
    "print('1---WP2015---') # World Pop 2015\n",
    "\n",
    "# drop FID\n",
    "print(len(WP2015))\n",
    "WP2015 = WP2015.drop_duplicates('FID', keep = 'first')\n",
    "print(len(WP2015))\n",
    "\n",
    "# drop <5000\n",
    "WP2015 = WP2015[WP2015['PopTot'] > 5000]\n",
    "print(len(WP2015))\n",
    "\n",
    "print('2---LS2015---') # LandScan 2015\n",
    "# drop FID\n",
    "print(len(LS2015))\n",
    "LS2015 = LS2015.drop_duplicates('FID', keep = 'first')\n",
    "print(len(LS2015))\n",
    "\n",
    "# drop <5000\n",
    "LS2015 = LS2015[LS2015['PopTot'] > 5000]\n",
    "print(len(LS2015))\n",
    "\n",
    "print('3---WPE2016---') # WPE 2016\n",
    "# drop FID\n",
    "print(len(WPE2016))\n",
    "WPE2016 = WPE2016.drop_duplicates('FID', keep = 'first')\n",
    "print(len(WPE2016))\n",
    "\n",
    "# drop <5000\n",
    "WPE2016 = WPE2016[WPE2016['PopTot'] > 5000]\n",
    "print(len(WPE2016))\n",
    "\n",
    "print('4---GHS2015---') # GHS 2015\n",
    "# drop FID\n",
    "print(len(GHS2015))\n",
    "GHS2015 = GHS2015.drop_duplicates('FID', keep = 'first')\n",
    "print(len(GHS2015))\n",
    "\n",
    "# drop <5000\n",
    "GHS2015 = GHS2015[GHS2015['PopTot'] > 5000]\n",
    "print(len(GHS2015))\n",
    "\n",
    "print('5---GHS2000---') # GHS 2000\n",
    "# drop FID\n",
    "print(len(GHS2000))\n",
    "GHS2000 = GHS2000.drop_duplicates('FID', keep = 'first')\n",
    "print(len(GHS2000))\n",
    "\n",
    "# drop <5000\n",
    "GHS2000 = GHS2000[GHS2000['PopTot'] > 5000]\n",
    "print(len(GHS2000))\n",
    "\n",
    "      \n",
    "print('6---WP2000---') # World Pop 2000\n",
    "\n",
    "# drop FID\n",
    "print(len(WP2000))\n",
    "WP2000 = WP2000.drop_duplicates('FID', keep = 'first')\n",
    "print(len(WP2000))\n",
    "\n",
    "# drop <5000\n",
    "WP2000 = WP2000[WP2000['PopTot'] > 5000]\n",
    "print(len(WP2000))"
   ]
  },
  {
   "cell_type": "markdown",
   "metadata": {},
   "source": [
    "### Chunk by Rain Zone\n",
    "\n",
    "For GHS 2000 and 2015 ... replace variables and run through twice."
   ]
  },
  {
   "cell_type": "code",
   "execution_count": 19,
   "metadata": {
    "scrolled": true
   },
   "outputs": [
    {
     "data": {
      "text/plain": [
       "array(['Arid', 'Semi-arid', 'Sub-humid', 'Humid', 'NA'], dtype=object)"
      ]
     },
     "execution_count": 19,
     "metadata": {},
     "output_type": "execute_result"
    }
   ],
   "source": [
    "GHS2015.rain_zone.unique()"
   ]
  },
  {
   "cell_type": "code",
   "execution_count": 27,
   "metadata": {},
   "outputs": [],
   "source": [
    "# Chunk by country \n",
    "\n",
    "GHS2000_arid = GHS2000[GHS2000['rain_zone'] == 'Arid']\n",
    "GHS2000_semi = GHS2000[GHS2000['rain_zone'] == 'Semi-arid']\n",
    "GHS2000_sub = GHS2000[GHS2000['rain_zone'] == 'Sub-humid']\n",
    "GHS2000_humid = GHS2000[GHS2000['rain_zone'] == 'Humid']"
   ]
  },
  {
   "cell_type": "code",
   "execution_count": 28,
   "metadata": {},
   "outputs": [
    {
     "name": "stdout",
     "output_type": "stream",
     "text": [
      "6173531.4839782715\n",
      "2467822.3436584473\n",
      "2015448.934753418\n",
      "1754416.781097412\n",
      "2201014.4514160156\n",
      "5543261.00982666\n",
      "41848377.25411987\n"
     ]
    }
   ],
   "source": [
    "# GHS 2000 Arid Chunks \n",
    "GHS2000_arid_50k = GHS2000_arid.loc[(GHS2000_arid['PopTot'] <= 5*10**4), 'PopTot'].sum()\n",
    "print(GHS2000_arid_50k)\n",
    "\n",
    "GHS2000_arid_100k = GHS2000_arid.loc[(GHS2000_arid['PopTot'] > 5*10**4) & (GHS2000_arid['PopTot'] <= 10**5), 'PopTot'].sum()\n",
    "print(GHS2000_arid_100k)\n",
    "\n",
    "GHS2000_arid_250k = GHS2000_arid.loc[(GHS2000_arid['PopTot'] > 10**5) & (GHS2000_arid['PopTot'] <= 2.5*10**5), 'PopTot'].sum()\n",
    "print(GHS2000_arid_250k)\n",
    "\n",
    "GHS2000_arid_500k = GHS2000_arid.loc[(GHS2000_arid['PopTot'] > 2.5*10**5) & (GHS2000_arid['PopTot'] <= 5*10**5), 'PopTot'].sum()\n",
    "print(GHS2000_arid_500k)\n",
    "\n",
    "GHS2000_arid_1m = GHS2000_arid.loc[(GHS2000_arid['PopTot'] > 5*10**5) & (GHS2000_arid['PopTot'] <= 10**6), 'PopTot'].sum()\n",
    "print(GHS2000_arid_1m)\n",
    "\n",
    "GHS2000_arid_5m = GHS2000_arid.loc[(GHS2000_arid['PopTot'] > 10**6) & (GHS2000_arid['PopTot'] <= 5*10**6), 'PopTot'].sum()\n",
    "print(GHS2000_arid_5m)\n",
    "\n",
    "GHS2000_arid_5mplus = GHS2000_arid.loc[(GHS2000_arid['PopTot'] > 5*10**6), 'PopTot'].sum()\n",
    "print(GHS2000_arid_5mplus)"
   ]
  },
  {
   "cell_type": "code",
   "execution_count": 29,
   "metadata": {},
   "outputs": [
    {
     "name": "stdout",
     "output_type": "stream",
     "text": [
      "20078591.0\n",
      "10738163.031402588\n",
      "10441807.781768799\n",
      "2501755.6067199707\n",
      "7727270.320068359\n",
      "24003578.77685547\n",
      "8025210.592407227\n"
     ]
    }
   ],
   "source": [
    "# GHS Semi Arid Chunks \n",
    "GHS2000_semi_50k = GHS2000_semi.loc[(GHS2000_semi['PopTot'] <= 5*10**4), 'PopTot'].sum()\n",
    "print(GHS2000_semi_50k)\n",
    "\n",
    "GHS2000_semi_100k = GHS2000_semi.loc[(GHS2000_semi['PopTot'] > 5*10**4) & (GHS2000_semi['PopTot'] <= 10**5), 'PopTot'].sum()\n",
    "print(GHS2000_semi_100k)\n",
    "\n",
    "GHS2000_semi_250k = GHS2000_semi.loc[(GHS2000_semi['PopTot'] > 10**5) & (GHS2000_semi['PopTot'] <= 2.5*10**5), 'PopTot'].sum()\n",
    "print(GHS2000_semi_250k)\n",
    "\n",
    "GHS2000_semi_500k = GHS2000_semi.loc[(GHS2000_semi['PopTot'] > 2.5*10**5) & (GHS2000_semi['PopTot'] <= 5*10**5), 'PopTot'].sum()\n",
    "print(GHS2000_semi_500k)\n",
    "\n",
    "GHS2000_semi_1m = GHS2000_semi.loc[(GHS2000_semi['PopTot'] > 5*10**5) & (GHS2000_semi['PopTot'] <= 10**6), 'PopTot'].sum()\n",
    "print(GHS2000_semi_1m)\n",
    "\n",
    "GHS2000_semi_5m = GHS2000_semi.loc[(GHS2000_semi['PopTot'] > 10**6) & (GHS2000_semi['PopTot'] <= 5*10**6), 'PopTot'].sum()\n",
    "print(GHS2000_semi_5m)\n",
    "\n",
    "GHS2000_semi_5mplus = GHS2000_semi.loc[(GHS2000_semi['PopTot'] > 5*10**6), 'PopTot'].sum()\n",
    "print(GHS2000_semi_5mplus)"
   ]
  },
  {
   "cell_type": "code",
   "execution_count": 30,
   "metadata": {},
   "outputs": [
    {
     "name": "stdout",
     "output_type": "stream",
     "text": [
      "23311424.843719482\n",
      "11070931.20248413\n",
      "11718018.308105469\n",
      "9155597.179870605\n",
      "5647804.123626709\n",
      "42385958.82962036\n",
      "5141828.90625\n"
     ]
    }
   ],
   "source": [
    "# GHS Sub Humid Chunks \n",
    "GHS2000_sub_50k = GHS2000_sub.loc[(GHS2000_sub['PopTot'] <= 5*10**4), 'PopTot'].sum()\n",
    "print(GHS2000_sub_50k)\n",
    "\n",
    "GHS2000_sub_100k = GHS2000_sub.loc[(GHS2000_sub['PopTot'] > 5*10**4) & (GHS2000_sub['PopTot'] <= 10**5), 'PopTot'].sum()\n",
    "print(GHS2000_sub_100k)\n",
    "\n",
    "GHS2000_sub_250k = GHS2000_sub.loc[(GHS2000_sub['PopTot'] > 10**5) & (GHS2000_sub['PopTot'] <= 2.5*10**5), 'PopTot'].sum()\n",
    "print(GHS2000_sub_250k)\n",
    "\n",
    "GHS2000_sub_500k = GHS2000_sub.loc[(GHS2000_sub['PopTot'] > 2.5*10**5) & (GHS2000_sub['PopTot'] <= 5*10**5), 'PopTot'].sum()\n",
    "print(GHS2000_sub_500k)\n",
    "\n",
    "GHS2000_sub_1m = GHS2000_sub.loc[(GHS2000_sub['PopTot'] > 5*10**5) & (GHS2000_sub['PopTot'] <= 10**6), 'PopTot'].sum()\n",
    "print(GHS2000_sub_1m)\n",
    "\n",
    "GHS2000_sub_5m = GHS2000_sub.loc[(GHS2000_sub['PopTot'] > 10**6) & (GHS2000_sub['PopTot'] <= 5*10**6), 'PopTot'].sum()\n",
    "print(GHS2000_sub_5m)\n",
    "\n",
    "GHS2000_sub_5mplus = GHS2000_sub.loc[(GHS2000_sub['PopTot'] > 5*10**6), 'PopTot'].sum()\n",
    "print(GHS2000_sub_5mplus)"
   ]
  },
  {
   "cell_type": "code",
   "execution_count": 31,
   "metadata": {
    "scrolled": true
   },
   "outputs": [
    {
     "name": "stdout",
     "output_type": "stream",
     "text": [
      "5496692.309661865\n",
      "8696881.815429688\n",
      "16743555.248077393\n",
      "12506906.578277588\n",
      "6714256.68939209\n",
      "3450173.637359619\n",
      "0.0\n"
     ]
    }
   ],
   "source": [
    "# GHS Humid Chunks \n",
    "GHS2000_humid_50k = GHS2000_humid.loc[(GHS2000_humid['PopTot'] <= 5*10**4), 'PopTot'].sum()\n",
    "print(GHS2000_humid_50k)\n",
    "\n",
    "GHS2000_humid_100k = GHS2000_humid.loc[(GHS2000_humid['PopTot'] > 5*10**4) & (GHS2000_humid['PopTot'] <= 10**5), 'PopTot'].sum()\n",
    "print(GHS2000_humid_100k)\n",
    "\n",
    "GHS2000_humid_250k = GHS2000_humid.loc[(GHS2000_humid['PopTot'] > 10**5) & (GHS2000_humid['PopTot'] <= 2.5*10**5), 'PopTot'].sum()\n",
    "print(GHS2000_humid_250k)\n",
    "\n",
    "GHS2000_humid_500k = GHS2000_humid.loc[(GHS2000_humid['PopTot'] > 2.5*10**5) & (GHS2000_humid['PopTot'] <= 5*10**5), 'PopTot'].sum()\n",
    "print(GHS2000_humid_500k)\n",
    "\n",
    "GHS2000_humid_1m = GHS2000_humid.loc[(GHS2000_humid['PopTot'] > 5*10**5) & (GHS2000_humid['PopTot'] <= 10**6), 'PopTot'].sum()\n",
    "print(GHS2000_humid_1m)\n",
    "\n",
    "GHS2000_humid_5m = GHS2000_humid.loc[(GHS2000_humid['PopTot'] > 10**6) & (GHS2000_humid['PopTot'] <= 5*10**6), 'PopTot'].sum()\n",
    "print(GHS2000_humid_5m)\n",
    "\n",
    "GHS2000_humid_5mplus = GHS2000_humid.loc[(GHS2000_humid['PopTot'] > 5*10**6), 'PopTot'].sum()\n",
    "print(GHS2000_humid_5mplus)"
   ]
  },
  {
   "cell_type": "code",
   "execution_count": 32,
   "metadata": {},
   "outputs": [],
   "source": [
    "# GHS 2000\n",
    "GHS2000_arid_bar = {'<50K':GHS2000_arid_50k, '50-100K': GHS2000_arid_100k, '100-150K':GHS2000_arid_250k,\n",
    "    '250-500K' : GHS2000_arid_500k, '500K-1M' : GHS2000_arid_1m, '1-5M' : GHS2000_arid_5m, '>5M' : GHS2000_arid_5mplus\n",
    "             }\n",
    "\n",
    "GHS2000_semi_bar = {u'Label0':GHS2000_semi_50k, u'Label1': GHS2000_semi_100k, u'Label2':GHS2000_semi_250k,\n",
    "    u'Label3' : GHS2000_semi_500k, u'Label4' : GHS2000_semi_1m, u'Label5' : GHS2000_semi_5m, u'Label6' : GHS2000_semi_5mplus\n",
    "    }\n",
    "\n",
    "GHS2000_sub_bar = {u'Label0':GHS2000_sub_50k, u'Label1': GHS2000_sub_100k, u'Label2':GHS2000_sub_250k,\n",
    "    u'Label3' : GHS2000_sub_500k, u'Label4' : GHS2000_sub_1m, u'Label5' : GHS2000_sub_5m, u'Label6' : GHS2000_sub_5mplus\n",
    "    }\n",
    "\n",
    "GHS2000_humid_bar = {u'Label0':GHS2000_humid_50k, u'Label1': GHS2000_humid_100k, u'Label2':GHS2000_humid_250k,\n",
    "    u'Label3' : GHS2000_humid_500k, u'Label4' : GHS2000_humid_1m, u'Label5' : GHS2000_humid_5m, u'Label6' : GHS2000_humid_5mplus\n",
    "   }"
   ]
  },
  {
   "cell_type": "code",
   "execution_count": 26,
   "metadata": {},
   "outputs": [],
   "source": [
    "# GHS 2015\n",
    "GHS2015_arid_bar = {'<50K':GHS2015_arid_50k, '50-100K': GHS2015_arid_100k, '100-150K':GHS2015_arid_250k,\n",
    "    '250-500K' : GHS2015_arid_500k, '500K-1M' : GHS2015_arid_1m, '1-5M' : GHS2015_arid_5m, '>5M' : GHS2015_arid_5mplus\n",
    "             }\n",
    "\n",
    "GHS2015_semi_bar = {u'Label0':GHS2015_semi_50k, u'Label1': GHS2015_semi_100k, u'Label2':GHS2015_semi_250k,\n",
    "    u'Label3' : GHS2015_semi_500k, u'Label4' : GHS2015_semi_1m, u'Label5' : GHS2015_semi_5m, u'Label6' : GHS2015_semi_5mplus\n",
    "    }\n",
    "\n",
    "GHS2015_sub_bar = {u'Label0':GHS2015_sub_50k, u'Label1': GHS2015_sub_100k, u'Label2':GHS2015_sub_250k,\n",
    "    u'Label3' : GHS2015_sub_500k, u'Label4' : GHS2015_sub_1m, u'Label5' : GHS2015_sub_5m, u'Label6' : GHS2015_sub_5mplus\n",
    "    }\n",
    "\n",
    "GHS2015_humid_bar = {u'Label0':GHS2015_humid_50k, u'Label1': GHS2015_humid_100k, u'Label2':GHS2015_humid_250k,\n",
    "    u'Label3' : GHS2015_humid_500k, u'Label4' : GHS2015_humid_1m, u'Label5' : GHS2015_humid_5m, u'Label6' : GHS2015_humid_5mplus\n",
    "   }"
   ]
  },
  {
   "cell_type": "markdown",
   "metadata": {},
   "source": [
    "### Rain Zone Pct Change"
   ]
  },
  {
   "cell_type": "code",
   "execution_count": null,
   "metadata": {},
   "outputs": [],
   "source": [
    "arid_2000 = [GHS2000_arid_50k, GHS2000_arid_100k, GHS2000_arid_250k, GHS2000_arid_500k, GHS2000_arid_1m,\n",
    "            GHS2000_arid_5m, GHS2000_arid_5mplus]\n",
    "\n",
    "arid_2000_pct = np.round(arid_2000 / GHS2000.PopTot.sum() * 100, 1)"
   ]
  },
  {
   "cell_type": "code",
   "execution_count": null,
   "metadata": {},
   "outputs": [],
   "source": [
    "semi_2000 = [GHS2000_semi_50k, GHS2000_semi_100k, GHS2000_semi_250k, GHS2000_semi_500k, GHS2000_semi_1m,\n",
    "            GHS2000_semi_5m, GHS2000_semi_5mplus]\n",
    "\n",
    "semi_2000_pct = np.round(semi_2000 / GHS2000.PopTot.sum() * 100, 1)\n",
    "semi_2000_pct "
   ]
  },
  {
   "cell_type": "code",
   "execution_count": null,
   "metadata": {},
   "outputs": [],
   "source": [
    "sub_2000 = [GHS2000_sub_50k, GHS2000_sub_100k, GHS2000_sub_250k, GHS2000_sub_500k, GHS2000_sub_1m,\n",
    "            GHS2000_sub_5m, GHS2000_sub_5mplus]\n",
    "\n",
    "sub_2000_pct = np.round(sub_2000 / GHS2000.PopTot.sum() * 100, 1)\n",
    "sub_2000_pct "
   ]
  },
  {
   "cell_type": "code",
   "execution_count": null,
   "metadata": {},
   "outputs": [],
   "source": [
    "humid_2000 = [GHS2000_humid_50k, GHS2000_humid_100k, GHS2000_humid_250k, GHS2000_humid_500k, GHS2000_humid_1m,\n",
    "            GHS2000_humid_5m, GHS2000_humid_5mplus]\n",
    "\n",
    "humid_2000_pct = np.round(humid_2000 / GHS2000.PopTot.sum() * 100, 1)\n",
    "humid_2000_pct "
   ]
  },
  {
   "cell_type": "code",
   "execution_count": null,
   "metadata": {},
   "outputs": [],
   "source": [
    "arid_2015 = [GHS2015_arid_50k, GHS2015_arid_100k, GHS2015_arid_250k, GHS2015_arid_500k, GHS2015_arid_1m,\n",
    "            GHS2015_arid_5m, GHS2015_arid_5mplus]\n",
    "\n",
    "arid_2015_pct = np.round(arid_2015 / GHS2015.PopTot.sum() * 100, 1)\n",
    "arid_2015_pct "
   ]
  },
  {
   "cell_type": "code",
   "execution_count": null,
   "metadata": {},
   "outputs": [],
   "source": [
    "semi_2015 = [GHS2015_semi_50k, GHS2015_semi_100k, GHS2015_semi_250k, GHS2015_semi_500k, GHS2015_semi_1m,\n",
    "            GHS2015_semi_5m, GHS2015_semi_5mplus]\n",
    "\n",
    "semi_2015_pct = np.round(semi_2015 / GHS2015.PopTot.sum() * 100, 1)\n",
    "semi_2015_pct "
   ]
  },
  {
   "cell_type": "code",
   "execution_count": null,
   "metadata": {},
   "outputs": [],
   "source": [
    "sub_2015 = [GHS2015_sub_50k, GHS2015_sub_100k, GHS2015_sub_250k, GHS2015_sub_500k, GHS2015_sub_1m,\n",
    "            GHS2015_sub_5m, GHS2015_sub_5mplus]\n",
    "\n",
    "sub_2015_pct = np.round(sub_2015 / GHS2015.PopTot.sum() * 100, 1)\n",
    "sub_2015_pct "
   ]
  },
  {
   "cell_type": "code",
   "execution_count": null,
   "metadata": {},
   "outputs": [],
   "source": [
    "humid_2015 = [GHS2015_humid_50k, GHS2015_humid_100k, GHS2015_humid_250k, GHS2015_humid_500k, GHS2015_humid_1m,\n",
    "            GHS2015_humid_5m, GHS2015_humid_5mplus]\n",
    "\n",
    "humid_2015_pct = np.round(humid_2015 / GHS2015.PopTot.sum() * 100, 1)\n",
    "humid_2015_pct "
   ]
  },
  {
   "cell_type": "markdown",
   "metadata": {},
   "source": [
    "### Pct Change by Rainfall Zone"
   ]
  },
  {
   "cell_type": "code",
   "execution_count": null,
   "metadata": {},
   "outputs": [],
   "source": [
    "# [a_i - b_i for a_i, b_i in zip(a, b)]\n",
    "\n",
    "arid_delt = [(((a - b)/b)*100) for a, b in zip(arid_2015, arid_2000)]\n",
    "semi_delt = [(((a - b)/b)*100) for a, b in zip(semi_2015, semi_2000)]\n",
    "sub_delt = [(((a - b)/b)*100) for a, b in zip(sub_2015, sub_2000)]\n",
    "humid_delt = [(((a - b)/b)*100) for a, b in zip(humid_2015[0:6], humid_2000[0:6])]\n",
    "\n",
    "\n",
    "print(len(humid_delt))\n",
    "humid_delt.append(0)\n",
    "print(len(humid_delt))"
   ]
  },
  {
   "cell_type": "code",
   "execution_count": null,
   "metadata": {
    "scrolled": false
   },
   "outputs": [],
   "source": [
    "# Make some plots\n",
    "\n",
    "# make plot\n",
    "sns.set(font_scale=1.5)\n",
    "\n",
    "a = [0-.44,1-.44,2-.44,3-.44,4-.44,5-.44,6-.44]\n",
    "b = [0-.22,1-.22,2-.22,3-.22,4-.22,5-.2,6-.22]\n",
    "c = [0,1,2,3,4,5,6]\n",
    "d = [0+.22,1+.22,2+.22,3+.22,4+.22,5+.2,6+.22]\n",
    "\n",
    "\n",
    "# Ticks\n",
    "ticks_bar = ['<50K', '50-100K', '100-150K','250-500K', '500K-1M', '1-5M' , '>5M']\n",
    "\n",
    "\n",
    "fig, ax = plt.subplots(nrows=1, ncols=1)\n",
    "\n",
    "#2000\n",
    "plt.bar(a, arid_delt, width=0.2, align='center', alpha  = 0.7, color = 'Blue')\n",
    "plt.bar(b, semi_delt, width=0.2, align='center', alpha  = 0.7, color = 'Purple')\n",
    "plt.bar(c, sub_delt, width=0.2, align='center', alpha  = 0.7, color = 'Red')\n",
    "plt.bar(d, humid_delt, width=0.2, align='center', alpha = 0.7, color = 'Green')\n",
    "\n",
    "bar_leg = ['Arid', 'Semi-arid', 'Sub-humid', 'Humid']\n",
    "\n",
    "plt.legend(bar_leg,loc=2)\n",
    "\n",
    "plt.xticks(range(len(ticks_bar)), ticks_bar)\n",
    "\n",
    "fig = matplotlib.pyplot.gcf()\n",
    "fig.set_size_inches(11, 9)\n",
    "#plt.gca().set_yscale('log')\n",
    "plt.xlabel('Urban Settlement Size')\n",
    "plt.ylabel('')\n",
    "plt.title('Percent Change in GHS-Pop 2000 - 2015 by Rainfall Zone')\n",
    "ax.set_facecolor('White')\n",
    "fig.savefig('/Users/cascade/Desktop/'+'PopRainGHS2000-15_bar.png', dpi=700, transparent=False)\n",
    "\n"
   ]
  },
  {
   "cell_type": "code",
   "execution_count": null,
   "metadata": {},
   "outputs": [],
   "source": [
    "# Break up by Rain Zone 2000\n",
    "\n",
    "GHS2000_rain = GHS2000[GHS2000['rain_zone'] != '0']\n",
    "GHS2000_rain = GHS2000_rain[GHS2000_rain['rain_zone'] != 'NoClass']\n",
    "GHS2000_rain =  GHS2000_rain[GHS2000_rain['rain_zone'] != 'NA']\n",
    "GHS2000_rain['raincat'] = GHS2000_rain.rain_zone + ' 2000'\n",
    "\n",
    "# Break up by Rain Zone 2015 & add unique col \n",
    "GHS2015_rain = GHS2015[GHS2015['rain_zone'] != '0']\n",
    "GHS2015_rain = GHS2015_rain[GHS2015_rain['rain_zone'] != 'NoClass']\n",
    "GHS2015_rain =  GHS2015_rain[GHS2015_rain['rain_zone'] != 'NA']\n",
    "GHS2015_rain['raincat'] = GHS2015_rain.rain_zone + ' 2015'\n",
    "\n",
    "# Join the two\n",
    "datasets_rain = [GHS2000_rain, GHS2015_rain]\n",
    "datasets_rain_concat = pd.concat(datasets_rain, ignore_index=True)\n"
   ]
  },
  {
   "cell_type": "code",
   "execution_count": null,
   "metadata": {},
   "outputs": [],
   "source": [
    "sns.set(font_scale=1)\n",
    "\n",
    "plot_order = ['Arid 2000', 'Arid 2015', 'Semi-arid 2000', 'Semi-arid 2015',\n",
    "              'Sub-humid 2000', 'Sub-humid 2015', 'Humid 2000', 'Humid 2015']\n",
    "\n",
    "pal = ['Blue', 'Blue', 'Purple', 'Purple', 'Red', 'Red', 'Green', 'Green']\n",
    "\n",
    "ax = sns.boxplot(x = 'PopTot', y = 'raincat', data = datasets_rain_concat, order = plot_order, palette = pal, \n",
    "                 sym = '')\n",
    "\n",
    "\n",
    "# Add transparency to colors\n",
    "for patch in ax.artists:\n",
    " r, g, b, a = patch.get_facecolor()\n",
    " patch.set_facecolor((r, g, b, .7))\n",
    "\n",
    "\n",
    "fig = matplotlib.pyplot.gcf()\n",
    "fig.set_size_inches(4.5, 3)\n",
    "plt.gca().set_xscale('log')\n",
    "plt.xlabel('Urban Settlement Size')\n",
    "plt.ylabel('')\n",
    "plt.tick_params(axis='both', which='major', labelsize=10)\n",
    "plt.title('Distribution by Moisture Zone 2000 & 2015', x = 0.25)\n",
    "ax.set_facecolor('White')\n",
    "#fig.savefig('/Users/cascade/Desktop/'+'PopRainGHS2000-15_box.png', dpi=700, transparent=False,\n",
    "#           bbox_inches='tight')"
   ]
  },
  {
   "cell_type": "code",
   "execution_count": null,
   "metadata": {},
   "outputs": [],
   "source": [
    "round(datasets_rain_concat.groupby(['raincat']).PopTot.std())"
   ]
  },
  {
   "cell_type": "markdown",
   "metadata": {},
   "source": [
    "### Chunk by Dataset "
   ]
  },
  {
   "cell_type": "code",
   "execution_count": null,
   "metadata": {},
   "outputs": [],
   "source": [
    "# WP 2015 Chunks\n",
    "WP2015_50k = WP2015.loc[(WP2015['PopTot'] <= 5*10**4), 'PopTot'].sum()\n",
    "print(WP2015_50k)\n",
    "\n",
    "WP2015_100k = WP2015.loc[(WP2015['PopTot'] > 5*10**4) & (WP2015['PopTot'] <= 10**5), 'PopTot'].sum()\n",
    "print(WP2015_100k)\n",
    "\n",
    "WP2015_250k = WP2015.loc[(WP2015['PopTot'] > 10**5) & (WP2015['PopTot'] <= 2.5*10**5), 'PopTot'].sum()\n",
    "print(WP2015_250k)\n",
    "\n",
    "WP2015_500k = WP2015.loc[(WP2015['PopTot'] > 2.5*10**5) & (WP2015['PopTot'] <= 5*10**5), 'PopTot'].sum()\n",
    "print(WP2015_500k)\n",
    "\n",
    "WP2015_1m = WP2015.loc[(WP2015['PopTot'] > 5*10**5) & (WP2015['PopTot'] <= 10**6), 'PopTot'].sum()\n",
    "print(WP2015_1m)\n",
    "\n",
    "WP2015_5m = WP2015.loc[(WP2015['PopTot'] > 10**6) & (WP2015['PopTot'] <= 5*10**6), 'PopTot'].sum()\n",
    "print(WP2015_5m)\n",
    "\n",
    "WP2015_5mplus = WP2015.loc[(WP2015['PopTot'] > 5*10**6), 'PopTot'].sum()\n",
    "print(WP2015_5mplus)"
   ]
  },
  {
   "cell_type": "code",
   "execution_count": null,
   "metadata": {},
   "outputs": [],
   "source": [
    "# LS 2015 Chunks \n",
    "\n",
    "LS2015_50k = LS2015.loc[(LS2015['PopTot'] <= 5*10**4), 'PopTot'].sum()\n",
    "print(LS2015_50k)\n",
    "\n",
    "LS2015_100k = LS2015.loc[(LS2015['PopTot'] > 5*10**4) & (LS2015['PopTot'] <= 10**5), 'PopTot'].sum()\n",
    "print(LS2015_100k)\n",
    "\n",
    "LS2015_250k = LS2015.loc[(LS2015['PopTot'] > 10**5) & (LS2015['PopTot'] <= 2.5*10**5), 'PopTot'].sum()\n",
    "print(LS2015_250k)\n",
    "\n",
    "LS2015_500k = LS2015.loc[(LS2015['PopTot'] > 2.5*10**5) & (LS2015['PopTot'] <= 5*10**5), 'PopTot'].sum()\n",
    "print(LS2015_500k)\n",
    "\n",
    "LS2015_1m = LS2015.loc[(LS2015['PopTot'] > 5*10**5) & (LS2015['PopTot'] <= 10**6), 'PopTot'].sum()\n",
    "print(LS2015_1m)\n",
    "\n",
    "LS2015_5m = LS2015.loc[(LS2015['PopTot'] > 10**6) & (LS2015['PopTot'] <= 5*10**6), 'PopTot'].sum()\n",
    "print(LS2015_5m)\n",
    "\n",
    "LS2015_5mplus = LS2015.loc[(LS2015['PopTot'] > 5*10**6), 'PopTot'].sum()\n",
    "print(LS2015_5mplus)"
   ]
  },
  {
   "cell_type": "code",
   "execution_count": null,
   "metadata": {},
   "outputs": [],
   "source": [
    "#GHS 2015 Chunks\n",
    "\n",
    "GHS2015_50k = GHS2015.loc[(GHS2015['PopTot'] <= 5*10**4), 'PopTot'].sum()\n",
    "print(GHS2015_50k)\n",
    "\n",
    "GHS2015_100k = GHS2015.loc[(GHS2015['PopTot'] > 5*10**4) & (GHS2015['PopTot'] <= 10**5), 'PopTot'].sum()\n",
    "print(GHS2015_100k)\n",
    "\n",
    "GHS2015_250k = GHS2015.loc[(GHS2015['PopTot'] > 10**5) & (GHS2015['PopTot'] <= 2.5*10**5), 'PopTot'].sum()\n",
    "print(GHS2015_250k)\n",
    "\n",
    "GHS2015_500k = GHS2015.loc[(GHS2015['PopTot'] > 2.5*10**5) & (GHS2015['PopTot'] <= 5*10**5), 'PopTot'].sum()\n",
    "print(GHS2015_500k)\n",
    "\n",
    "GHS2015_1m = GHS2015.loc[(GHS2015['PopTot'] > 5*10**5) & (GHS2015['PopTot'] <= 10**6), 'PopTot'].sum()\n",
    "print(GHS2015_1m)\n",
    "\n",
    "GHS2015_5m = GHS2015.loc[(GHS2015['PopTot'] > 10**6) & (GHS2015['PopTot'] <= 5*10**6), 'PopTot'].sum()\n",
    "print(GHS2015_5m)\n",
    "\n",
    "GHS2015_5mplus = GHS2015.loc[(GHS2015['PopTot'] > 5*10**6), 'PopTot'].sum()\n",
    "print(GHS2015_5mplus)"
   ]
  },
  {
   "cell_type": "code",
   "execution_count": null,
   "metadata": {},
   "outputs": [],
   "source": [
    "# WPE 2016 Chunks\n",
    "WPE2016_50k = WPE2016.loc[(WPE2016['PopTot'] <= 5*10**4), 'PopTot'].sum()\n",
    "print(WPE2016_50k)\n",
    "\n",
    "WPE2016_100k = WPE2016.loc[(WPE2016['PopTot'] > 5*10**4) & (WPE2016['PopTot'] <= 10**5), 'PopTot'].sum()\n",
    "print(WPE2016_100k)\n",
    "\n",
    "WPE2016_250k = WPE2016.loc[(WPE2016['PopTot'] > 10**5) & (WPE2016['PopTot'] <= 2.5*10**5), 'PopTot'].sum()\n",
    "print(WPE2016_250k)\n",
    "\n",
    "WPE2016_500k = WPE2016.loc[(WPE2016['PopTot'] > 2.5*10**5) & (WPE2016['PopTot'] <= 5*10**5), 'PopTot'].sum()\n",
    "print(WPE2016_500k)\n",
    "\n",
    "WPE2016_1m = WPE2016.loc[(WPE2016['PopTot'] > 5*10**5) & (WPE2016['PopTot'] <= 10**6), 'PopTot'].sum()\n",
    "print(WPE2016_1m)\n",
    "\n",
    "WPE2016_5m = WPE2016.loc[(WPE2016['PopTot'] > 10**6) & (WPE2016['PopTot'] <= 5*10**6), 'PopTot'].sum()\n",
    "print(WPE2016_5m)\n",
    "\n",
    "WPE2016_5mplus = WPE2016.loc[(WPE2016['PopTot'] > 5*10**6), 'PopTot'].sum()\n",
    "print(WPE2016_5mplus)"
   ]
  },
  {
   "cell_type": "code",
   "execution_count": null,
   "metadata": {},
   "outputs": [],
   "source": [
    "# WP 2000 Chunks\n",
    "WP2000_50k = WP2000.loc[(WP2000['PopTot'] <= 5*10**4), 'PopTot'].sum()\n",
    "print(WP2000_50k)\n",
    "\n",
    "WP2000_100k = WP2000.loc[(WP2000['PopTot'] > 5*10**4) & (WP2000['PopTot'] <= 10**5), 'PopTot'].sum()\n",
    "print(WP2000_100k)\n",
    "\n",
    "WP2000_250k = WP2000.loc[(WP2000['PopTot'] > 10**5) & (WP2000['PopTot'] <= 2.5*10**5), 'PopTot'].sum()\n",
    "print(WP2000_250k)\n",
    "\n",
    "WP2000_500k = WP2000.loc[(WP2000['PopTot'] > 2.5*10**5) & (WP2000['PopTot'] <= 5*10**5), 'PopTot'].sum()\n",
    "print(WP2000_500k)\n",
    "\n",
    "WP2000_1m = WP2000.loc[(WP2000['PopTot'] > 5*10**5) & (WP2000['PopTot'] <= 10**6), 'PopTot'].sum()\n",
    "print(WP2000_1m)\n",
    "\n",
    "WP2000_5m = WP2000.loc[(WP2000['PopTot'] > 10**6) & (WP2000['PopTot'] <= 5*10**6), 'PopTot'].sum()\n",
    "print(WP2000_5m)\n",
    "\n",
    "WP2000_5mplus = WP2000.loc[(WP2000['PopTot'] > 5*10**6), 'PopTot'].sum()\n",
    "print(WP2000_5mplus)"
   ]
  },
  {
   "cell_type": "code",
   "execution_count": null,
   "metadata": {},
   "outputs": [],
   "source": [
    "# GHS 2000 Chunks\n",
    "GHS2000_50k = GHS2000.loc[(GHS2000['PopTot'] <= 5*10**4), 'PopTot'].sum()\n",
    "print(GHS2000_50k)\n",
    "\n",
    "GHS2000_100k = GHS2000.loc[(GHS2000['PopTot'] > 5*10**4) & (GHS2000['PopTot'] <= 10**5), 'PopTot'].sum()\n",
    "print(GHS2000_100k)\n",
    "\n",
    "GHS2000_250k = GHS2000.loc[(GHS2000['PopTot'] > 10**5) & (GHS2000['PopTot'] <= 2.5*10**5), 'PopTot'].sum()\n",
    "print(GHS2000_250k)\n",
    "\n",
    "GHS2000_500k = GHS2000.loc[(GHS2000['PopTot'] > 2.5*10**5) & (GHS2000['PopTot'] <= 5*10**5), 'PopTot'].sum()\n",
    "print(GHS2000_500k)\n",
    "\n",
    "GHS2000_1m = GHS2000.loc[(GHS2000['PopTot'] > 5*10**5) & (GHS2000['PopTot'] <= 10**6), 'PopTot'].sum()\n",
    "print(GHS2000_1m)\n",
    "\n",
    "GHS2000_5m = GHS2000.loc[(GHS2000['PopTot'] > 10**6) & (GHS2000['PopTot'] <= 5*10**6), 'PopTot'].sum()\n",
    "print(GHS2000_5m)\n",
    "\n",
    "GHS2000_5mplus = GHS2000.loc[(GHS2000['PopTot'] > 5*10**6), 'PopTot'].sum()\n",
    "print(GHS2000_5mplus)"
   ]
  },
  {
   "cell_type": "code",
   "execution_count": null,
   "metadata": {},
   "outputs": [],
   "source": [
    "# Chunks\n",
    "\n",
    "WP2000_chunks = [WP2000_50k, WP2000_100k, WP2000_250k, WP2000_500k, WP2000_1m, WP2000_5m, WP2000_5mplus]\n",
    "WP2015_chunks = [WP2015_50k, WP2015_100k, WP2015_250k, WP2015_500k, WP2015_1m, WP2015_5m, WP2015_5mplus]\n",
    "\n",
    "GHS2000_chunks = [GHS2000_50k, GHS2000_100k, GHS2000_250k, GHS2000_500k, GHS2000_1m, GHS2000_5m, GHS2000_5mplus]\n",
    "GHS2015_chunks = [GHS2015_50k, GHS2015_100k, GHS2015_250k, GHS2015_500k, GHS2015_1m, GHS2015_5m, GHS2015_5mplus]\n",
    "\n",
    "LS2015_chunks = [LS2015_50k, LS2015_100k, LS2015_250k, LS2015_500k, LS2015_1m, LS2015_5m, LS2015_5mplus]\n",
    "\n",
    "WPE2016_chunks = [WPE2016_50k, WPE2016_100k, WPE2016_250k, WPE2016_500k, WPE2016_1m, WPE2016_5m, WPE2016_5mplus]\n"
   ]
  },
  {
   "cell_type": "code",
   "execution_count": null,
   "metadata": {},
   "outputs": [],
   "source": [
    "#datasets_in = [GHS2000, GHS2015, WP2000, WP2015, LS2015, WPE2016]\n",
    "\n",
    "data_chunks = [GHS2000_chunks, GHS2015_chunks, WP2000_chunks, WP2015_chunks, LS2015_chunks, WPE2016_chunks] "
   ]
  },
  {
   "cell_type": "code",
   "execution_count": null,
   "metadata": {},
   "outputs": [],
   "source": [
    "# Percentages\n",
    "\n",
    "GHS2000_chunks_pct = np.around(GHS2000_chunks / GHS2000.PopTot.sum() * 100, 1)\n",
    "GHS2015_chunks_pct = np.around(GHS2015_chunks / GHS2015.PopTot.sum() * 100, 1)\n",
    "\n",
    "WP2000_chunks_pct = np.around(WP2000_chunks / WP2000.PopTot.sum() * 100, 1)\n",
    "WP2015_chunks_pct = np.around(WP2015_chunks / WP2015.PopTot.sum() * 100, 1)\n",
    "\n",
    "LS2015_chunks_pct = np.around(LS2015_chunks / LS2015.PopTot.sum() * 100, 1)\n",
    "WPE2016_chunks_pct = np.around(WPE2016_chunks / WPE2016.PopTot.sum() * 100, 1)"
   ]
  },
  {
   "cell_type": "markdown",
   "metadata": {},
   "source": [
    "# Plots"
   ]
  },
  {
   "cell_type": "markdown",
   "metadata": {},
   "source": [
    "### Bar plots"
   ]
  },
  {
   "cell_type": "code",
   "execution_count": null,
   "metadata": {
    "scrolled": true
   },
   "outputs": [],
   "source": [
    "# Total Change by Rain Zone\n",
    "\n",
    "sns.set(font_scale=3)\n",
    "x = [0,1,2,3,4,5,6]\n",
    "y = [0-.22,1-.22,2-.22,3-.22,4-.22,5-.2,6-.22]\n",
    "z = [0-.44,1-.44,2-.44,3-.44,4-.44,5-.44,6-.44]\n",
    "a = [0+.22,1+.22,2+.22,3+.22,4+.22,5+.2,6+.22]\n",
    "\n",
    "# Ticks\n",
    "ticks_bar = ['<50K', '50-100K', '100-150K','250-500K', '500K-1M', '1-5M' , '>5M']\n",
    "\n",
    "\n",
    "fig, ax = plt.subplots(nrows=1, ncols=1)\n",
    "\n",
    "#2015\n",
    "plt.bar(x, GHS2015_arid_bar.values(), width=0.2, align='center', alpha  = 0.3, color = 'Blue')\n",
    "plt.bar(y, GHS2015_semi_bar.values(), width=0.2, align='center', alpha  = 0.3, color = 'Purple')\n",
    "plt.bar(z, GHS2015_sub_bar.values(), width=0.2, align='center', alpha  = 0.3, color = 'Red')\n",
    "plt.bar(a, GHS2015_humid_bar.values(), width=0.2, align='center', alpha = 0.3, color = 'Green')\n",
    "\n",
    "#2000\n",
    "plt.bar(x, GHS2000_arid_bar.values(), width=0.05, align='center', alpha  = 1, color = 'Blue', edgecolor = 'Black')\n",
    "plt.bar(y, GHS2000_semi_bar.values(), width=0.05, align='center', alpha  = 1, color = 'Purple', edgecolor = 'Black')\n",
    "plt.bar(z, GHS2000_sub_bar.values(), width=0.05, align='center', alpha  = 1, color = 'Red', edgecolor = 'Black')\n",
    "plt.bar(a, GHS2000_humid_bar.values(), width=0.05, align='center', alpha = 1, color = 'Green', edgecolor = 'Black')\n",
    "\n",
    "# bar_leg = ['WorldPop 2000 Arid', 'WorldPop 2000 Semi-arid', 'WorldPop 2000 Sub-humid', 'WorldPop 2000 Humid',\n",
    "#           'WorldPop 2015 Arid', 'WorldPop 2015 Semi-arid', 'WorldPop 2015 Sub-humid', 'WorldPop 2015 Humid']\n",
    "\n",
    "bar_leg = ['Arid', 'Semi']\n",
    "\n",
    "plt.legend(bar_leg,loc=2)\n",
    "\n",
    "plt.xticks(range(len(ticks_bar)), ticks_bar)\n",
    "\n",
    "fig = matplotlib.pyplot.gcf()\n",
    "fig.set_size_inches(25, 15)\n",
    "plt.gca().set_yscale('log')\n",
    "plt.xlabel('Population')\n",
    "plt.ylabel('')\n",
    "plt.title('Total Urban Population by Settlement Size for Africa')\n",
    "ax.set_facecolor('White')\n",
    "# fig.savefig('/Users/cascade/Desktop/'+'PopAll_bar.png', dpi=700, transparent=False)\n",
    "\n"
   ]
  },
  {
   "cell_type": "code",
   "execution_count": null,
   "metadata": {},
   "outputs": [],
   "source": [
    "# Pct Change by Rain Zone\n",
    "\n",
    "# make plot\n",
    "sns.set(font_scale=3)\n",
    "x = [0,1,2,3,4,5,6]\n",
    "y = [0-.22,1-.22,2-.22,3-.22,4-.22,5-.2,6-.22]\n",
    "z = [0-.44,1-.44,2-.44,3-.44,4-.44,5-.44,6-.44]\n",
    "a = [0+.22,1+.22,2+.22,3+.22,4+.22,5+.2,6+.22]\n",
    "\n",
    "# Ticks\n",
    "ticks_bar = ['<50K', '50-100K', '100-150K','250-500K', '500K-1M', '1-5M' , '>5M']\n",
    "\n",
    "\n",
    "fig, ax = plt.subplots(nrows=1, ncols=1)\n",
    "\n",
    "#2000\n",
    "plt.bar(x, arid_2000_pct, width=0.2, align='center', alpha  = 0.3, color = 'Blue')\n",
    "plt.bar(y, semi_2000_pct, width=0.2, align='center', alpha  = 0.3, color = 'Purple')\n",
    "plt.bar(z, sub_2000_pct, width=0.2, align='center', alpha  = 0.3, color = 'Red')\n",
    "plt.bar(a, humid_2000_pct, width=0.2, align='center', alpha = 0.3, color = 'Green')\n",
    "\n",
    "#2000\n",
    "plt.bar(x, arid_2015_pct, width=0.05, align='center', alpha  = 1, color = 'Blue', edgecolor = 'Black')\n",
    "plt.bar(y, semi_2015_pct, width=0.05, align='center', alpha  = 1, color = 'Purple', edgecolor = 'Black')\n",
    "plt.bar(z, sub_2015_pct, width=0.05, align='center', alpha  = 1, color = 'Red', edgecolor = 'Black')\n",
    "plt.bar(a, humid_2015_pct, width=0.05, align='center', alpha = 1, color = 'Green', edgecolor = 'Black')\n",
    "\n",
    "# bar_leg = ['WorldPop 2000 Arid', 'WorldPop 2000 Semi-arid', 'WorldPop 2000 Sub-humid', 'WorldPop 2000 Humid',\n",
    "#           'WorldPop 2015 Arid', 'WorldPop 2015 Semi-arid', 'WorldPop 2015 Sub-humid', 'WorldPop 2015 Humid']\n",
    "\n",
    "bar_leg = ['Arid', 'Semi']\n",
    "\n",
    "plt.legend(bar_leg,loc=2)\n",
    "\n",
    "\n",
    "plt.xticks(range(len(ticks_bar)), ticks_bar)\n",
    "\n",
    "fig = matplotlib.pyplot.gcf()\n",
    "fig.set_size_inches(25, 15)\n",
    "#plt.gca().set_yscale('log')\n",
    "plt.xlabel('Population')\n",
    "plt.ylabel('')\n",
    "plt.title('Total Urban Population by Settlement Size for Africa')\n",
    "ax.set_facecolor('White')\n",
    "# fig.savefig('/Users/cascade/Desktop/'+'PopAll_bar.png', dpi=700, transparent=False)"
   ]
  },
  {
   "cell_type": "code",
   "execution_count": null,
   "metadata": {
    "scrolled": false
   },
   "outputs": [],
   "source": [
    "# Bar plot by Dataset \n",
    "\n",
    "import matplotlib.pyplot as plt\n",
    "\n",
    "dictionary = plt.figure()\n",
    "\n",
    "WP2015_bar = {'<50K':WP2015_50k, '50-100K': WP2015_100k, '100-150K':WP2015_250k,\n",
    "    '250-500K' : WP2015_500k, '500K-1M' : WP2015_1m, '1-5M' : WP2015_5m, '>5M' : WP2015_5mplus\n",
    "             }\n",
    "\n",
    "# WP2000_bar = {u'Label0':WP2000_50k, u'Label1': WP2000_100k, u'Label2':WP2000_250k,\n",
    "#     u'Label3' : WP2000_500k, u'Label4' : WP2000_1m, u'Label5' : WP2000_5m, u'Label6' : WP2000_5mplus\n",
    "#     }\n",
    "\n",
    "LS2015_bar = {u'Label0':LS2015_50k, u'Label1': LS2015_100k, u'Label2':LS2015_250k,\n",
    "    u'Label3' : LS2015_500k, u'Label4' : LS2015_1m, u'Label5' : LS2015_5m, u'Label6' : LS2015_5mplus\n",
    "    }\n",
    "\n",
    "GHS2015_bar = {u'Label0':GHS2015_50k, u'Label1': GHS2015_100k, u'Label2':GHS2015_250k,\n",
    "    u'Label3' : GHS2015_500k, u'Label4' : GHS2015_1m, u'Label5' : GHS2015_5m, u'Label6' : GHS2015_5mplus\n",
    "    }\n",
    "\n",
    "WPE2016_bar = {u'Label0':WPE2016_50k, u'Label1': WPE2016_100k, u'Label2':WPE2016_250k,\n",
    "    u'Label3' : WPE2016_500k, u'Label4' : WPE2016_1m, u'Label5' : WPE2016_5m, u'Label6' : WPE2016_5mplus\n",
    "   }\n",
    "\n",
    "# make plot\n",
    "sns.set(font_scale=3)\n",
    "x = [0,1,2,3,4,5,6]\n",
    "y = [0-.2,1-.2,2-.2,3-.2,4-.2,5-.2,6-.2]\n",
    "z = [0-.4,1-.4,2-.4,3-.4,4-.4,5-.4,6-.4]\n",
    "a = [0+.2,1+.2,2+.2,3+.2,4+.2,5+.2,6+.2]\n",
    "\n",
    "\n",
    "\n",
    "plt.bar(x, WP2015_bar.values(), width=0.2, align='center', alpha  = 0.7, color = 'Blue')\n",
    "\n",
    "plt.bar(y, LS2015_bar.values(), width=0.2, align='center', alpha  = 0.7, color = 'Green')\n",
    "plt.bar(z, GHS2015_bar.values(), width=0.2, align='center', alpha  = 0.7, color = 'Orange')\n",
    "plt.bar(a, WPE2016_bar.values(), width=0.2, align='center', alpha = 0.7, color = 'Purple')\n",
    "\n",
    "bar_leg = ['WorldPop 2015', 'LandScan 2015', 'GHS-Pop 2015', 'ESRI-WPE 2016']\n",
    "plt.legend(bar_leg,loc=2)\n",
    "\n",
    "\n",
    "\n",
    "#plt.bar(range(len(D)), D.values(), align='center')\n",
    "\n",
    "plt.xticks(range(len(WP2015_bar)), WP2015_bar.keys())\n",
    "\n",
    "fig = matplotlib.pyplot.gcf()\n",
    "fig.set_size_inches(25, 15)\n",
    "plt.gca().set_yscale('log')\n",
    "plt.xlabel('Population')\n",
    "plt.ylabel('')\n",
    "plt.title('Total Urban Population by Settlement Size for Africa')\n",
    "#fig.savefig('/Users/cascade/Desktop/'+'PopAll_bar.png', dpi=700, transparent=False)\n",
    "\n",
    "\n",
    "# ax.bar(x-0.2, y,width=0.2,color='b',align='center')\n",
    "# ax.bar(x, z,width=0.2,color='g',align='center')\n",
    "# ax.bar(x+0.2, k,width=0.2,color='r',align='center')"
   ]
  },
  {
   "cell_type": "markdown",
   "metadata": {},
   "source": [
    "### Square Plot\n",
    "\n",
    "http://gvallver.perso.univ-pau.fr/?p=700"
   ]
  },
  {
   "cell_type": "code",
   "execution_count": null,
   "metadata": {
    "scrolled": true
   },
   "outputs": [],
   "source": [
    "print(np.around(LS2015_chunks))\n",
    "print(LS2015_chunks_pct)"
   ]
  },
  {
   "cell_type": "code",
   "execution_count": null,
   "metadata": {},
   "outputs": [],
   "source": [
    "# Make Data \n",
    "\n",
    "data = np.around(WPE2016_chunks)\n",
    "pct = WPE2016_chunks_pct\n",
    "chunks = ['<50K:', '50-100K: ', '100-150K: ','250-500K: ', '500K-1M: ', '1-5M: ', '>5M: ']\n",
    "\n",
    "labels = [chunks[0]+'\\n'+str(pct[0])+'%',\n",
    "         chunks[1]+'\\n'+str(pct[1])+'%',\n",
    "         chunks[2]+'\\n'+str(pct[2])+'%',\n",
    "         chunks[3]+'\\n'+str(pct[3])+'%',\n",
    "         chunks[4]+'\\n'+str(pct[4])+'%',\n",
    "         chunks[5]+'\\n'+str(pct[5])+'%',\n",
    "         chunks[6]+'\\n'+str(pct[6])+'%'\n",
    "         ]\n"
   ]
  },
  {
   "cell_type": "code",
   "execution_count": null,
   "metadata": {},
   "outputs": [],
   "source": [
    "# set size\n",
    "sns.set(font_scale=1.5)\n",
    "\n",
    "# Set Colors\n",
    "norm = matplotlib.colors.Normalize(vmin=min(data), vmax=max(data))\n",
    "colors = [matplotlib.cm.Purples_r(norm(value)) for value in data]\n",
    "\n",
    "# Create Plot\n",
    "fig = plt.figure(figsize=(12, 10))\n",
    "fig.suptitle(\"\", fontsize=20)\n",
    "ax = fig.add_subplot(111, aspect='equal')\n",
    "ax1 = squarify.plot(data, color = colors, label=labels, ax=ax, alpha = 0.7)\n",
    "\n",
    "# Remove ticks\n",
    "ax.set_xticks([])\n",
    "ax.set_yticks([])\n",
    "ax.set_title('World Population Estimate 2016 \\n Urban Settlments Distribution')\n",
    "\n",
    "# color bar\n",
    "bar_number = data/(10**6)\n",
    "\n",
    "# create dummy invisible image with a color map\n",
    "img = plt.imshow([bar_number], cmap='Purples_r')\n",
    "img.set_visible(False)\n",
    "fig.colorbar(img, orientation=\"vertical\", shrink=.96)\n",
    "fig.text(.76, .9, \"Population in Millions\", fontsize=14)\n",
    "\n",
    "#fig.savefig('/Users/cascade/Desktop/'+'WPE2016_SquarePlot.png', dpi=700)\n"
   ]
  },
  {
   "cell_type": "markdown",
   "metadata": {},
   "source": [
    "### Swarm Plots"
   ]
  },
  {
   "cell_type": "code",
   "execution_count": 90,
   "metadata": {},
   "outputs": [],
   "source": [
    "# Data for Rain Zone Swarm Plot GHS 2015\n",
    "\n",
    "# Break up by Rain Zone 2000\n",
    "\n",
    "GHS2000_rain = GHS2000[GHS2000['rain_zone'] != '0']\n",
    "GHS2000_rain = GHS2000_rain[GHS2000_rain['rain_zone'] != 'NoClass']\n",
    "GHS2000_rain =  GHS2000_rain[GHS2000_rain['rain_zone'] != 'NA']\n",
    "GHS2000_rain['raincat'] = GHS2000_rain.rain_zone + ' 2000'\n",
    "GHS2000_rain['dataset'] = 'GHS2000'\n",
    "\n",
    "# Break up by Rain Zone 2015 & add unique col \n",
    "GHS2015_rain = GHS2015[GHS2015['rain_zone'] != '0']\n",
    "GHS2015_rain = GHS2015_rain[GHS2015_rain['rain_zone'] != 'NoClass']\n",
    "GHS2015_rain =  GHS2015_rain[GHS2015_rain['rain_zone'] != 'NA']\n",
    "GHS2015_rain['raincat'] = GHS2015_rain.rain_zone + ' 2015'\n",
    "GHS2015_rain['dataset'] = 'GHS2015'\n",
    "\n",
    "\n",
    "# Join the two\n",
    "datasets_rain = [GHS2000_rain, GHS2015_rain]\n",
    "datasets_rain_concat = pd.concat(datasets_rain, ignore_index=True)"
   ]
  },
  {
   "cell_type": "code",
   "execution_count": 54,
   "metadata": {},
   "outputs": [],
   "source": [
    "test = GHS2000_rain\n",
    "c = test.raincat\n",
    "log = np.log(test.PopTot)"
   ]
  },
  {
   "cell_type": "code",
   "execution_count": 147,
   "metadata": {
    "scrolled": true
   },
   "outputs": [
    {
     "data": {
      "image/png": "[encoded data removed]",
      "text/plain": [
       "<Figure size 432x288 with 1 Axes>"
      ]
     },
     "metadata": {},
     "output_type": "display_data"
    }
   ],
   "source": [
    "ax = sns.boxplot(x = c, y = log)\n",
    "#plt.gca().set_yscale('log')\n",
    "\n",
    "\n",
    "\n",
    "# sns.set_style(\"whitegrid\")\n",
    "# tips = sns.load_dataset(\"tips\")\n",
    "# ax = sns.swarmplot(x=\"day\", y=\"total_bill\", data=tips)\n",
    "# ax = sns.boxplot(x=\"day\", y=\"total_bill\", data=tips,\n",
    "#         showcaps=False,boxprops={'facecolor':'None'},\n",
    "#         showfliers=False,whiskerprops={'linewidth':0})\n",
    "\n",
    "# plt.show()"
   ]
  },
  {
   "cell_type": "code",
   "execution_count": 119,
   "metadata": {},
   "outputs": [
    {
     "data": {
      "text/html": [
       "<div>\n",
       "<style scoped>\n",
       "    .dataframe tbody tr th:only-of-type {\n",
       "        vertical-align: middle;\n",
       "    }\n",
       "\n",
       "    .dataframe tbody tr th {\n",
       "        vertical-align: top;\n",
       "    }\n",
       "\n",
       "    .dataframe thead th {\n",
       "        text-align: right;\n",
       "    }\n",
       "</style>\n",
       "<table border=\"1\" class=\"dataframe\">\n",
       "  <thead>\n",
       "    <tr style=\"text-align: right;\">\n",
       "      <th></th>\n",
       "      <th>cat</th>\n",
       "      <th>log1</th>\n",
       "      <th>group</th>\n",
       "      <th>country</th>\n",
       "      <th>region</th>\n",
       "    </tr>\n",
       "  </thead>\n",
       "  <tbody>\n",
       "    <tr>\n",
       "      <th>0</th>\n",
       "      <td>Arid 2000</td>\n",
       "      <td>10.338986</td>\n",
       "      <td>GHS2000</td>\n",
       "      <td>Algeria</td>\n",
       "      <td>Northern_Africa</td>\n",
       "    </tr>\n",
       "    <tr>\n",
       "      <th>1</th>\n",
       "      <td>Arid 2000</td>\n",
       "      <td>15.212052</td>\n",
       "      <td>GHS2000</td>\n",
       "      <td>Algeria</td>\n",
       "      <td>Northern_Africa</td>\n",
       "    </tr>\n",
       "    <tr>\n",
       "      <th>2</th>\n",
       "      <td>Arid 2000</td>\n",
       "      <td>10.228289</td>\n",
       "      <td>GHS2000</td>\n",
       "      <td>Algeria</td>\n",
       "      <td>Northern_Africa</td>\n",
       "    </tr>\n",
       "    <tr>\n",
       "      <th>3</th>\n",
       "      <td>Arid 2000</td>\n",
       "      <td>9.911813</td>\n",
       "      <td>GHS2000</td>\n",
       "      <td>Algeria</td>\n",
       "      <td>Northern_Africa</td>\n",
       "    </tr>\n",
       "    <tr>\n",
       "      <th>4</th>\n",
       "      <td>Arid 2000</td>\n",
       "      <td>10.642232</td>\n",
       "      <td>GHS2000</td>\n",
       "      <td>Algeria</td>\n",
       "      <td>Northern_Africa</td>\n",
       "    </tr>\n",
       "  </tbody>\n",
       "</table>\n",
       "</div>"
      ],
      "text/plain": [
       "         cat       log1    group  country           region\n",
       "0  Arid 2000  10.338986  GHS2000  Algeria  Northern_Africa\n",
       "1  Arid 2000  15.212052  GHS2000  Algeria  Northern_Africa\n",
       "2  Arid 2000  10.228289  GHS2000  Algeria  Northern_Africa\n",
       "3  Arid 2000   9.911813  GHS2000  Algeria  Northern_Africa\n",
       "4  Arid 2000  10.642232  GHS2000  Algeria  Northern_Africa"
      ]
     },
     "execution_count": 119,
     "metadata": {},
     "output_type": "execute_result"
    }
   ],
   "source": [
    "# make data with concat\n",
    "\n",
    "test1 = datasets_rain_concat\n",
    "c1 = test1.raincat\n",
    "log1 = np.log(test1.PopTot)\n",
    "group = datasets_rain_concat.dataset\n",
    "country = datasets_rain_concat.country\n",
    "region = datasets_rain_concat.region\n",
    "\n",
    "d = {'cat': c1, 'log1': log1, 'group': group, 'country': country, 'region' : region}\n",
    "df = pd.DataFrame(data=d)\n",
    "\n",
    "df.head()"
   ]
  },
  {
   "cell_type": "code",
   "execution_count": 171,
   "metadata": {
    "scrolled": true
   },
   "outputs": [
    {
     "name": "stderr",
     "output_type": "stream",
     "text": [
      "/anaconda3/lib/python3.7/site-packages/ipykernel_launcher.py:5: SettingWithCopyWarning: \n",
      "A value is trying to be set on a copy of a slice from a DataFrame.\n",
      "Try using .loc[row_indexer,col_indexer] = value instead\n",
      "\n",
      "See the caveats in the documentation: http://pandas.pydata.org/pandas-docs/stable/indexing.html#indexing-view-versus-copy\n",
      "  \"\"\"\n",
      "/anaconda3/lib/python3.7/site-packages/ipykernel_launcher.py:9: SettingWithCopyWarning: \n",
      "A value is trying to be set on a copy of a slice from a DataFrame.\n",
      "Try using .loc[row_indexer,col_indexer] = value instead\n",
      "\n",
      "See the caveats in the documentation: http://pandas.pydata.org/pandas-docs/stable/indexing.html#indexing-view-versus-copy\n",
      "  if __name__ == '__main__':\n"
     ]
    }
   ],
   "source": [
    "# make data by country\n",
    "\n",
    "df1 = GHS2000.loc[GHS2000['country'].isin(['Senegal', 'Zambia','Nigeria','Kenya', 'Ghana', 'Mali', 'Ethiopia'])]\n",
    "\n",
    "df1['group'] = 'GHS2000'\n",
    "df1.head()\n",
    "\n",
    "df2 = GHS2015.loc[GHS2015['country'].isin(['Senegal', 'Zambia','Nigeria','Kenya', 'Ghana', 'Mali', 'Ethiopia'])]\n",
    "df2['group'] = 'GHS2015'\n",
    " \n",
    "df_list = [df1, df2]\n",
    "\n",
    "df = pd.concat(df_list, ignore_index=True)"
   ]
  },
  {
   "cell_type": "code",
   "execution_count": 184,
   "metadata": {},
   "outputs": [
    {
     "data": {
      "image/png": "[encoded data removed]",
      "text/plain": [
       "<Figure size 504x504 with 1 Axes>"
      ]
     },
     "metadata": {},
     "output_type": "display_data"
    }
   ],
   "source": [
    "plot_order = ['Arid 2000', 'Arid 2015', 'Semi-arid 2000', 'Semi-arid 2015',\n",
    "              'Sub-humid 2000', 'Sub-humid 2015', 'Humid 2000', 'Humid 2015']\n",
    "\n",
    "sns.set(font_scale=1.4)\n",
    "fig = plt.figure(figsize=(7, 7))\n",
    "\n",
    "ax = sns.boxplot(x = 'PopTot', y = 'country', hue = 'group', data = df, orient = 'h', dodge = True,\n",
    "                showfliers=False)\n",
    "#order = plot_order\n",
    "ax.set_facecolor('White')\n",
    "plt.legend(loc=4)\n",
    "#ax.get_legend().remove()\n",
    "\n",
    "plt.gca().set_xscale('log')"
   ]
  },
  {
   "cell_type": "markdown",
   "metadata": {},
   "source": [
    "## Heat Maps"
   ]
  },
  {
   "cell_type": "code",
   "execution_count": 189,
   "metadata": {},
   "outputs": [
    {
     "data": {
      "text/plain": [
       "country\n",
       "Algeria                     26213602.0\n",
       "Angola                      10058730.0\n",
       "Benin                        5020734.0\n",
       "Botswana                      456739.0\n",
       "Burkina Faso                 4858369.0\n",
       "Burundi                     22482569.0\n",
       "Cameroon                    11333031.0\n",
       "Central African Republic     1388302.0\n",
       "Chad                         1581542.0\n",
       "Congo-Brazzaville            9534716.0\n",
       "Côte d'Ivoire                7861422.0\n",
       "Djibouti                      589661.0\n",
       "Egypt                       65839116.0\n",
       "Equatorial Guinea              50128.0\n",
       "Eritrea                       551224.0\n",
       "Ethiopia                    22679670.0\n",
       "Gabon                        1162485.0\n",
       "Gambia                       1015490.0\n",
       "Ghana                       13339289.0\n",
       "Guinea                       4092861.0\n",
       "Guinea-Bissau                 605104.0\n",
       "Kenya                       34128539.0\n",
       "Lesotho                       334359.0\n",
       "Liberia                      1640269.0\n",
       "Libya                        3977911.0\n",
       "Madagascar                   5268684.0\n",
       "Malawi                       6467721.0\n",
       "Mali                         4477795.0\n",
       "Mauritania                   1036611.0\n",
       "Mauritius                    1026773.0\n",
       "Morocco                     17468964.0\n",
       "Mozambique                   6939603.0\n",
       "Namibia                       752939.0\n",
       "Niger                        4159064.0\n",
       "Nigeria                     74075694.0\n",
       "Réunion                       142822.0\n",
       "Senegal                      6620166.0\n",
       "Sierra Leone                 1989413.0\n",
       "Somalia                      5011826.0\n",
       "South Africa                25077178.0\n",
       "Sudan                       12249017.0\n",
       "Tanzania                    11308332.0\n",
       "Togo                          928769.0\n",
       "Tunisia                      5811248.0\n",
       "Uganda                      13698030.0\n",
       "Zambia                       5574165.0\n",
       "Zimbabwe                     4059394.0\n",
       "Name: PopTot, dtype: float64"
      ]
     },
     "execution_count": 189,
     "metadata": {},
     "output_type": "execute_result"
    }
   ],
   "source": [
    "np.around(WP2015.groupby('country').PopTot.sum())"
   ]
  },
  {
   "cell_type": "code",
   "execution_count": null,
   "metadata": {},
   "outputs": [],
   "source": [
    "GHS2015[GHS2015'country' = ]"
   ]
  },
  {
   "cell_type": "code",
   "execution_count": null,
   "metadata": {},
   "outputs": [],
   "source": [
    "# create dataset\n",
    "GHS2000_sort = GHS2000.sort_values(by = 'lat', ascending=False)"
   ]
  },
  {
   "cell_type": "code",
   "execution_count": null,
   "metadata": {},
   "outputs": [],
   "source": [
    "GHS2000_sort"
   ]
  },
  {
   "cell_type": "code",
   "execution_count": null,
   "metadata": {},
   "outputs": [],
   "source": [
    "GHS2000_sort_pop = GHS2000_sort.PopTot.tolist()"
   ]
  },
  {
   "cell_type": "code",
   "execution_count": null,
   "metadata": {},
   "outputs": [],
   "source": [
    "end = list([5000] * 142)"
   ]
  },
  {
   "cell_type": "code",
   "execution_count": null,
   "metadata": {},
   "outputs": [],
   "source": [
    "len(end)"
   ]
  },
  {
   "cell_type": "code",
   "execution_count": null,
   "metadata": {},
   "outputs": [],
   "source": [
    "type(end)"
   ]
  },
  {
   "cell_type": "code",
   "execution_count": null,
   "metadata": {},
   "outputs": [],
   "source": [
    "GHS2000_sort_sq = end+GHS2000_sort_pop\n",
    "len(GHS2000_sort_sq)"
   ]
  },
  {
   "cell_type": "code",
   "execution_count": null,
   "metadata": {},
   "outputs": [],
   "source": [
    "GHS2000_log = np.log(GHS2000_sort_sq)"
   ]
  },
  {
   "cell_type": "code",
   "execution_count": null,
   "metadata": {},
   "outputs": [],
   "source": [
    "GHS2000_arr = np.reshape(GHS2000_sort_sq,((40,100)))"
   ]
  },
  {
   "cell_type": "code",
   "execution_count": null,
   "metadata": {},
   "outputs": [],
   "source": [
    "GHS2000_arr[1:4,1:4]"
   ]
  },
  {
   "cell_type": "code",
   "execution_count": null,
   "metadata": {},
   "outputs": [],
   "source": [
    "#### color map\n",
    "sns.heatmap(GHS2000_arr, robust = 500000)\n",
    "\n",
    "\n",
    "fig = matplotlib.pyplot.gcf()\n",
    "fig.set_size_inches(10, 10)\n",
    "plt.gca().set_xscale('log')\n",
    "plt.xlabel('Urban Settlement Size')\n",
    "plt.ylabel('')\n",
    "plt.xticks([])\n",
    "plt.yticks([])\n",
    "\n",
    "#plt.tick_params(axis='', which='major', labelsize=0)\n",
    "plt.title('GHS2000 HeatMap', x = 0.25)\n",
    "\n",
    "#fig.savefig('/Users/cascade/Desktop/'+'PopRainGHS2000-15_box.png', dpi=700, transparent=False,\n",
    "#           bbox_inches='tight')"
   ]
  },
  {
   "cell_type": "code",
   "execution_count": null,
   "metadata": {},
   "outputs": [],
   "source": [
    "import numpy as np\n",
    "import numpy.random\n",
    "import matplotlib.pyplot as plt\n",
    " \n",
    "# Create data\n",
    "x = GHS2000.PopTot.sort_values(ascending=True)\n",
    "y = GHS2000.PopTot.sort_values(ascending=True)\n",
    "\n",
    "#y = np.random.randn(4096)\n",
    " \n",
    "# Create heatmap\n",
    "heatmap, xedges, yedges = np.histogram2d(x, y, bins=(64,64))\n",
    "#extent = [xedges[0], xedges[-1], yedges[0], yedges[-1]]\n",
    " \n",
    "# Plot heatmap\n",
    "plt.clf()\n",
    "plt.title('Pythonspot.com heatmap example')\n",
    "plt.ylabel('y')\n",
    "plt.xlabel('x')\n",
    "plt.imshow(heatmap)\n",
    "plt.show()"
   ]
  }
 ],
 "metadata": {
  "kernelspec": {
   "display_name": "Python 3",
   "language": "python",
   "name": "python3"
  },
  "language_info": {
   "codemirror_mode": {
    "name": "ipython",
    "version": 3
   },
   "file_extension": ".py",
   "mimetype": "text/x-python",
   "name": "python",
   "nbconvert_exporter": "python",
   "pygments_lexer": "ipython3",
   "version": "3.7.0"
  }
 },
 "nbformat": 4,
 "nbformat_minor": 2
}
