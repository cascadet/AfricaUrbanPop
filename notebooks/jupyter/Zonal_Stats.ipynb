{
 "cells": [
  {
   "cell_type": "markdown",
   "metadata": {},
   "source": [
    "### Zonal Stats\n",
    "\n",
    "The objective of this notebook is to calculate zonal stats for a raster, given a set of polygons"
   ]
  },
  {
   "cell_type": "code",
   "execution_count": 1,
   "metadata": {},
   "outputs": [
    {
     "ename": "ModuleNotFoundError",
     "evalue": "No module named 'rasterstats'",
     "output_type": "error",
     "traceback": [
      "\u001b[0;31m---------------------------------------------------------------------------\u001b[0m",
      "\u001b[0;31mModuleNotFoundError\u001b[0m                       Traceback (most recent call last)",
      "\u001b[0;32m<ipython-input-1-91e63ff80d50>\u001b[0m in \u001b[0;36m<module>\u001b[0;34m()\u001b[0m\n\u001b[0;32m----> 1\u001b[0;31m \u001b[0;32mfrom\u001b[0m \u001b[0mrasterstats\u001b[0m \u001b[0;32mimport\u001b[0m \u001b[0mzonal_stats\u001b[0m\u001b[0;34m\u001b[0m\u001b[0m\n\u001b[0m\u001b[1;32m      2\u001b[0m \u001b[0;32mimport\u001b[0m \u001b[0mrasterio\u001b[0m\u001b[0;34m\u001b[0m\u001b[0m\n\u001b[1;32m      3\u001b[0m \u001b[0;34m\u001b[0m\u001b[0m\n\u001b[1;32m      4\u001b[0m \u001b[0;32mdef\u001b[0m \u001b[0mzone_stat\u001b[0m\u001b[0;34m(\u001b[0m\u001b[0mraster\u001b[0m\u001b[0;34m,\u001b[0m \u001b[0mband\u001b[0m\u001b[0;34m,\u001b[0m \u001b[0mpolygon\u001b[0m\u001b[0;34m)\u001b[0m\u001b[0;34m:\u001b[0m\u001b[0;34m\u001b[0m\u001b[0m\n\u001b[1;32m      5\u001b[0m     \"\"\"\n",
      "\u001b[0;31mModuleNotFoundError\u001b[0m: No module named 'rasterstats'"
     ]
    }
   ],
   "source": [
    "from rasterstats import zonal_stats\n",
    "import rasterio\n",
    "\n",
    "def zone_stat(raster, band, polygon):\n",
    "    \"\"\"\n",
    "    This function will calculate the zonal stats for each polygon within a raster\n",
    "    requires gdf, raster object\n",
    "    \"\"\"\n",
    "    \n",
    "    band = raster.read(band)\n",
    "    zone_stat = zonal_stats(polygon, band, affine=raster.meta['transform'], stats = 'sum')\n",
    "    return zone_stat"
   ]
  },
  {
   "cell_type": "code",
   "execution_count": 7,
   "metadata": {},
   "outputs": [],
   "source": [
    "# will build out folders later\n",
    "\n",
    "# data folder git will ignore\n",
    "#infilepath = \"/home/cascade/tana-crunch-cascade/projects/NTL/data/\" # git will ignore\n",
    "#outfilepath = \"/home/cascade/tana-crunch-cascade/projects/NTL/temp_data/\" # git will not ignore - NO BIG FILES \n",
    "\n",
    "# Local computer \n",
    "data = '/Users/cascade/Github/NTL/data/raw/grumpdata/Raster/'\n",
    "temp_data = '/Users/cascade/Github/NTL/temp_data/'"
   ]
  },
  {
   "cell_type": "code",
   "execution_count": 18,
   "metadata": {},
   "outputs": [],
   "source": [
    "import geopandas as gpd\n",
    "\n",
    "GRUMP2000_poly = gpd.read_file(temp_data+'20181205_GRUMP2000_mask_1000c600_polypoints.shp')\n",
    "GRUMP2015_poly = gpd.read_file(temp_data+'20181205_GRUMP2015_mask_1000c600_polypoints.shp')\n",
    "\n",
    "file1 = 'gpw-v4-population-count-adjusted-to-2015-unwpp-country-totals-rev10_2000_30_sec_tif/gpw_v4_population_count_adjusted_to_2015_unwpp_country_totals_rev10_2000_30_sec.tif'\n",
    "file2 = 'gpw-v4-population-count-adjusted-to-2015-unwpp-country-totals-rev10_2015_30_sec_tif/gpw_v4_population_count_adjusted_to_2015_unwpp_country_totals_rev10_2015_30_sec.tif'\n",
    "\n",
    "GRUMP2000_raster = rasterio.open(data+file1)                      \n",
    "GRUMP2015_raster = rasterio.open(data+file2)  "
   ]
  },
  {
   "cell_type": "code",
   "execution_count": 15,
   "metadata": {},
   "outputs": [
    {
     "name": "stderr",
     "output_type": "stream",
     "text": [
      "/anaconda3/lib/python3.7/site-packages/rasterstats/io.py:294: UserWarning: Setting nodata to -999; specify nodata explicitly\n",
      "  warnings.warn(\"Setting nodata to -999; specify nodata explicitly\")\n"
     ]
    }
   ],
   "source": [
    "GRUMP2000_zonalstats = zone_stat(GRUMP2000_raster, 1, GRUMP2000_poly)"
   ]
  },
  {
   "cell_type": "code",
   "execution_count": 19,
   "metadata": {},
   "outputs": [
    {
     "data": {
      "text/html": [
       "<div>\n",
       "<style scoped>\n",
       "    .dataframe tbody tr th:only-of-type {\n",
       "        vertical-align: middle;\n",
       "    }\n",
       "\n",
       "    .dataframe tbody tr th {\n",
       "        vertical-align: top;\n",
       "    }\n",
       "\n",
       "    .dataframe thead th {\n",
       "        text-align: right;\n",
       "    }\n",
       "</style>\n",
       "<table border=\"1\" class=\"dataframe\">\n",
       "  <thead>\n",
       "    <tr style=\"text-align: right;\">\n",
       "      <th></th>\n",
       "      <th>osm_id</th>\n",
       "      <th>FID</th>\n",
       "      <th>geometry</th>\n",
       "      <th>GRUMP2000_PopTot</th>\n",
       "    </tr>\n",
       "  </thead>\n",
       "  <tbody>\n",
       "    <tr>\n",
       "      <th>0</th>\n",
       "      <td>27564946</td>\n",
       "      <td>260</td>\n",
       "      <td>POLYGON ((6.491667 36.466667, 6.5 36.466667, 6...</td>\n",
       "      <td>5.542145e+05</td>\n",
       "    </tr>\n",
       "    <tr>\n",
       "      <th>1</th>\n",
       "      <td>27565103</td>\n",
       "      <td>497</td>\n",
       "      <td>POLYGON ((-0.566667 35.775, -0.55 35.775, -0.5...</td>\n",
       "      <td>9.321878e+05</td>\n",
       "    </tr>\n",
       "    <tr>\n",
       "      <th>2</th>\n",
       "      <td>262963217</td>\n",
       "      <td>1213</td>\n",
       "      <td>POLYGON ((6.883333 33.433333, 6.9 33.433333, 6...</td>\n",
       "      <td>1.077895e+05</td>\n",
       "    </tr>\n",
       "    <tr>\n",
       "      <th>3</th>\n",
       "      <td>288387133</td>\n",
       "      <td>70</td>\n",
       "      <td>POLYGON ((3.008333 36.825, 3.016667 36.825, 3....</td>\n",
       "      <td>3.015573e+06</td>\n",
       "    </tr>\n",
       "    <tr>\n",
       "      <th>4</th>\n",
       "      <td>288417925</td>\n",
       "      <td>292</td>\n",
       "      <td>POLYGON ((2.75 36.341667, 2.758333 36.341667, ...</td>\n",
       "      <td>1.279876e+05</td>\n",
       "    </tr>\n",
       "    <tr>\n",
       "      <th>5</th>\n",
       "      <td>288418022</td>\n",
       "      <td>203</td>\n",
       "      <td>POLYGON ((2.883333 36.616667, 2.9 36.616667, 2...</td>\n",
       "      <td>3.720047e+05</td>\n",
       "    </tr>\n",
       "  </tbody>\n",
       "</table>\n",
       "</div>"
      ],
      "text/plain": [
       "      osm_id   FID                                           geometry  \\\n",
       "0   27564946   260  POLYGON ((6.491667 36.466667, 6.5 36.466667, 6...   \n",
       "1   27565103   497  POLYGON ((-0.566667 35.775, -0.55 35.775, -0.5...   \n",
       "2  262963217  1213  POLYGON ((6.883333 33.433333, 6.9 33.433333, 6...   \n",
       "3  288387133    70  POLYGON ((3.008333 36.825, 3.016667 36.825, 3....   \n",
       "4  288417925   292  POLYGON ((2.75 36.341667, 2.758333 36.341667, ...   \n",
       "5  288418022   203  POLYGON ((2.883333 36.616667, 2.9 36.616667, 2...   \n",
       "\n",
       "   GRUMP2000_PopTot  \n",
       "0      5.542145e+05  \n",
       "1      9.321878e+05  \n",
       "2      1.077895e+05  \n",
       "3      3.015573e+06  \n",
       "4      1.279876e+05  \n",
       "5      3.720047e+05  "
      ]
     },
     "execution_count": 19,
     "metadata": {},
     "output_type": "execute_result"
    }
   ],
   "source": [
    "GRUMP2000_poly['GRUMP2000_PopTot'] = gpd.GeoDataFrame.from_dict(GRUMP2000_zonalstats)\n",
    "GRUMP2000_poly.head(6)"
   ]
  },
  {
   "cell_type": "code",
   "execution_count": 20,
   "metadata": {},
   "outputs": [
    {
     "name": "stderr",
     "output_type": "stream",
     "text": [
      "/anaconda3/lib/python3.7/site-packages/rasterstats/io.py:294: UserWarning: Setting nodata to -999; specify nodata explicitly\n",
      "  warnings.warn(\"Setting nodata to -999; specify nodata explicitly\")\n"
     ]
    },
    {
     "data": {
      "text/html": [
       "<div>\n",
       "<style scoped>\n",
       "    .dataframe tbody tr th:only-of-type {\n",
       "        vertical-align: middle;\n",
       "    }\n",
       "\n",
       "    .dataframe tbody tr th {\n",
       "        vertical-align: top;\n",
       "    }\n",
       "\n",
       "    .dataframe thead th {\n",
       "        text-align: right;\n",
       "    }\n",
       "</style>\n",
       "<table border=\"1\" class=\"dataframe\">\n",
       "  <thead>\n",
       "    <tr style=\"text-align: right;\">\n",
       "      <th></th>\n",
       "      <th>osm_id</th>\n",
       "      <th>FID</th>\n",
       "      <th>geometry</th>\n",
       "      <th>GRUMP2015_PopTot</th>\n",
       "    </tr>\n",
       "  </thead>\n",
       "  <tbody>\n",
       "    <tr>\n",
       "      <th>0</th>\n",
       "      <td>27564946</td>\n",
       "      <td>301</td>\n",
       "      <td>POLYGON ((6.508333 36.475, 6.525 36.475, 6.525...</td>\n",
       "      <td>8.080542e+05</td>\n",
       "    </tr>\n",
       "    <tr>\n",
       "      <th>1</th>\n",
       "      <td>27565103</td>\n",
       "      <td>582</td>\n",
       "      <td>POLYGON ((-0.808333 35.775, -0.791667 35.775, ...</td>\n",
       "      <td>1.359337e+06</td>\n",
       "    </tr>\n",
       "    <tr>\n",
       "      <th>2</th>\n",
       "      <td>262963217</td>\n",
       "      <td>1419</td>\n",
       "      <td>POLYGON ((6.883333 33.433333, 6.9 33.433333, 6...</td>\n",
       "      <td>1.580997e+05</td>\n",
       "    </tr>\n",
       "    <tr>\n",
       "      <th>3</th>\n",
       "      <td>288387133</td>\n",
       "      <td>83</td>\n",
       "      <td>POLYGON ((3.008333 36.825, 3.016667 36.825, 3....</td>\n",
       "      <td>5.040620e+06</td>\n",
       "    </tr>\n",
       "    <tr>\n",
       "      <th>4</th>\n",
       "      <td>288417925</td>\n",
       "      <td>338</td>\n",
       "      <td>POLYGON ((2.75 36.341667, 2.758333 36.341667, ...</td>\n",
       "      <td>1.494868e+05</td>\n",
       "    </tr>\n",
       "    <tr>\n",
       "      <th>5</th>\n",
       "      <td>288418022</td>\n",
       "      <td>83</td>\n",
       "      <td>POLYGON ((3.008333 36.825, 3.016667 36.825, 3....</td>\n",
       "      <td>5.040620e+06</td>\n",
       "    </tr>\n",
       "  </tbody>\n",
       "</table>\n",
       "</div>"
      ],
      "text/plain": [
       "      osm_id   FID                                           geometry  \\\n",
       "0   27564946   301  POLYGON ((6.508333 36.475, 6.525 36.475, 6.525...   \n",
       "1   27565103   582  POLYGON ((-0.808333 35.775, -0.791667 35.775, ...   \n",
       "2  262963217  1419  POLYGON ((6.883333 33.433333, 6.9 33.433333, 6...   \n",
       "3  288387133    83  POLYGON ((3.008333 36.825, 3.016667 36.825, 3....   \n",
       "4  288417925   338  POLYGON ((2.75 36.341667, 2.758333 36.341667, ...   \n",
       "5  288418022    83  POLYGON ((3.008333 36.825, 3.016667 36.825, 3....   \n",
       "\n",
       "   GRUMP2015_PopTot  \n",
       "0      8.080542e+05  \n",
       "1      1.359337e+06  \n",
       "2      1.580997e+05  \n",
       "3      5.040620e+06  \n",
       "4      1.494868e+05  \n",
       "5      5.040620e+06  "
      ]
     },
     "execution_count": 20,
     "metadata": {},
     "output_type": "execute_result"
    }
   ],
   "source": [
    "GRUMP2015_zonalstats = zone_stat(GRUMP2015_raster, 1, GRUMP2015_poly)\n",
    "GRUMP2015_poly['GRUMP2015_PopTot'] = gpd.GeoDataFrame.from_dict(GRUMP2015_zonalstats)\n",
    "GRUMP2015_poly.head(6)"
   ]
  },
  {
   "cell_type": "code",
   "execution_count": 21,
   "metadata": {},
   "outputs": [],
   "source": [
    "# WP2000_poly.to_file(outfilepath+'20181204_WP2000_zone_pop.shp', driver='ESRI Shapefile')c"
   ]
  },
  {
   "cell_type": "code",
   "execution_count": 21,
   "metadata": {},
   "outputs": [
    {
     "name": "stdout",
     "output_type": "stream",
     "text": [
      "319\n",
      "319\n"
     ]
    }
   ],
   "source": [
    "print(len(GRUMP2000_poly))\n",
    "print(len(GRUMP2000_zonalstats))"
   ]
  },
  {
   "cell_type": "code",
   "execution_count": 23,
   "metadata": {},
   "outputs": [],
   "source": [
    "GRUMP2000_poly.to_csv(temp_data+'20181205_GRUMP2000_zone_pop.csv')\n",
    "GRUMP2015_poly.to_csv(temp_data+'20181205_GRUMP2015_zone_pop.csv')"
   ]
  }
 ],
 "metadata": {
  "kernelspec": {
   "display_name": "Python [default]",
   "language": "python",
   "name": "python3"
  },
  "language_info": {
   "codemirror_mode": {
    "name": "ipython",
    "version": 3
   },
   "file_extension": ".py",
   "mimetype": "text/x-python",
   "name": "python",
   "nbconvert_exporter": "python",
   "pygments_lexer": "ipython3",
   "version": "3.6.4"
  }
 },
 "nbformat": 4,
 "nbformat_minor": 2
}
