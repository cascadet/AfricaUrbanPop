{
 "cells": [
  {
   "cell_type": "markdown",
   "metadata": {},
   "source": [
    "### Program to clip rasters"
   ]
  },
  {
   "cell_type": "code",
   "execution_count": null,
   "metadata": {},
   "outputs": [],
   "source": [
    "def raster_clip(src_poly)\n",
    "    \"\"\" This funciton uploads a shape file, disolved boundaries \n",
    "    \"\"\"\n",
    "    \n",
    "    poly\n",
    "\n",
    "\n",
    "zambia_dist = gpd.read_file(\"zmb_popa_adm1_census2010f_ISCGM_CSO_OCHA_.shp\")\n",
    "zambia_dist.plot()\n",
    "\n",
    "zambia = zambia_dist[['COUNTRY', 'geometry']]\n",
    "zambia = zambia.dissolve(by = \"COUNTRY\")\n",
    "zambia.plot()\n",
    "\n",
    "with fiona.open(\"zambia.shp\", \"r\") as shapefile:                                #<--- Need to figure out how to get the geometry from shp file directly \n",
    "    features = [feature[\"geometry\"] for feature in shapefile]\n",
    "\n",
    "with rasterio.open(\"F182013.v4c.pct_lights.tif\") as src:                        #<--- Need to figure out how to get it not to write to a file, but just store in memory at this point\n",
    "    out_image, out_transform = rasterio.mask.mask(src, features, crop=True)\n",
    "    out_meta = src.meta.copy()\n",
    "\n",
    "out_meta.update({\"driver\": \"GTiff\",\n",
    "                 \"height\": out_image.shape[1],\n",
    "                 \"width\": out_image.shape[2],\n",
    "                 \"transform\": out_transform})\n",
    "with rasterio.open(\"dmsp13_zambia.tif\", \"w\", **out_meta) as dest:\n",
    "    dest.write(out_image)  "
   ]
  }
 ],
 "metadata": {
  "kernelspec": {
   "display_name": "Python [conda root]",
   "language": "python",
   "name": "conda-root-py"
  },
  "language_info": {
   "codemirror_mode": {
    "name": "ipython",
    "version": 3
   },
   "file_extension": ".py",
   "mimetype": "text/x-python",
   "name": "python",
   "nbconvert_exporter": "python",
   "pygments_lexer": "ipython3",
   "version": "3.6.4"
  }
 },
 "nbformat": 4,
 "nbformat_minor": 2
}
