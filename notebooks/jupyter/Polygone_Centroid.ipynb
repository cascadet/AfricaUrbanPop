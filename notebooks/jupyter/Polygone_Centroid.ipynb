{
 "cells": [
  {
   "cell_type": "markdown",
   "metadata": {},
   "source": [
    "### Function for finding centriods of polygons"
   ]
  },
  {
   "cell_type": "code",
   "execution_count": 124,
   "metadata": {},
   "outputs": [],
   "source": [
    "import geopandas as gpd\n",
    "import shapely"
   ]
  },
  {
   "cell_type": "code",
   "execution_count": 125,
   "metadata": {},
   "outputs": [],
   "source": [
    "def poly_cent(poly_gpd):\n",
    "    \"\"\"function takes a gpd data frame w/ Shapely Polygon objects and returns centroids array\"\"\"\n",
    "    \n",
    "    # Make polygon centroids and get lat, long\n",
    "    lat = []\n",
    "    lon = []\n",
    "    for poly in poly_gpd['geometry']:\n",
    "        test = mapping(poly.centroid)\n",
    "        lon.append(test['coordinates'][0])\n",
    "        lat.append(test['coordinates'][1])\n",
    "    \n",
    "    # put in dataframe\n",
    "    gpd_df = gpd.GeoDataFrame()\n",
    "    gpd_df['FID'] = poly_gpd['FID']\n",
    "    gpd_df['lat'] = lat\n",
    "    gpd_df['lon'] = lon\n",
    "    \n",
    "    return gpd_df\n",
    "    "
   ]
  },
  {
   "cell_type": "code",
   "execution_count": 126,
   "metadata": {},
   "outputs": [],
   "source": [
    "infilepath = \"/home/cascade/tana-crunch-cascade/projects/NTL/data/\" # git will ignore\n",
    "outfilepath = \"/home/cascade/tana-crunch-cascade/projects/NTL/temp_data/\" # git will not ignore - NO BIG FILES "
   ]
  },
  {
   "cell_type": "code",
   "execution_count": 137,
   "metadata": {},
   "outputs": [
    {
     "data": {
      "image/svg+xml": [
       "<svg xmlns=\"http://www.w3.org/2000/svg\" xmlns:xlink=\"http://www.w3.org/1999/xlink\" width=\"100.0\" height=\"100.0\" viewBox=\"20.02291532 -34.54374968 0.04500035999999952 0.028333359999997754\" preserveAspectRatio=\"xMinYMin meet\"><g transform=\"matrix(1,0,0,-1,0,-69.059166)\"><path fill-rule=\"evenodd\" fill=\"#66cc99\" stroke=\"#555555\" stroke-width=\"0.0009000071999999904\" opacity=\"0.6\" d=\"M 20.057916,-34.533749 L 20.057916,-34.542083 L 20.024582,-34.542083 L 20.024582,-34.525416 L 20.049582,-34.525416 L 20.057916,-34.525416 L 20.057916,-34.517083 L 20.066249,-34.517083 L 20.066249,-34.533749 L 20.057916,-34.533749 z\" /></g></svg>"
      ],
      "text/plain": [
       "<shapely.geometry.polygon.Polygon at 0x7fadafe4a9b0>"
      ]
     },
     "execution_count": 137,
     "metadata": {},
     "output_type": "execute_result"
    }
   ],
   "source": [
    "poly2000 = gpd.read_file(outfilepath+\"20181130_africa1k_2000_mask_1000c600_poly.shp\")\n",
    "poly2000.iloc[0,1]"
   ]
  },
  {
   "cell_type": "code",
   "execution_count": 138,
   "metadata": {},
   "outputs": [
    {
     "data": {
      "text/html": [
       "<div>\n",
       "<style scoped>\n",
       "    .dataframe tbody tr th:only-of-type {\n",
       "        vertical-align: middle;\n",
       "    }\n",
       "\n",
       "    .dataframe tbody tr th {\n",
       "        vertical-align: top;\n",
       "    }\n",
       "\n",
       "    .dataframe thead th {\n",
       "        text-align: right;\n",
       "    }\n",
       "</style>\n",
       "<table border=\"1\" class=\"dataframe\">\n",
       "  <thead>\n",
       "    <tr style=\"text-align: right;\">\n",
       "      <th></th>\n",
       "      <th>FID</th>\n",
       "      <th>lat</th>\n",
       "      <th>lon</th>\n",
       "    </tr>\n",
       "  </thead>\n",
       "  <tbody>\n",
       "    <tr>\n",
       "      <th>0</th>\n",
       "      <td>0</td>\n",
       "      <td>-34.532083</td>\n",
       "      <td>20.045415</td>\n",
       "    </tr>\n",
       "    <tr>\n",
       "      <th>1</th>\n",
       "      <td>1</td>\n",
       "      <td>37.268577</td>\n",
       "      <td>9.865870</td>\n",
       "    </tr>\n",
       "    <tr>\n",
       "      <th>2</th>\n",
       "      <td>2</td>\n",
       "      <td>-34.202499</td>\n",
       "      <td>21.580832</td>\n",
       "    </tr>\n",
       "    <tr>\n",
       "      <th>3</th>\n",
       "      <td>3</td>\n",
       "      <td>-34.471249</td>\n",
       "      <td>19.891250</td>\n",
       "    </tr>\n",
       "    <tr>\n",
       "      <th>4</th>\n",
       "      <td>4</td>\n",
       "      <td>-34.199821</td>\n",
       "      <td>22.040654</td>\n",
       "    </tr>\n",
       "    <tr>\n",
       "      <th>5</th>\n",
       "      <td>5</td>\n",
       "      <td>-34.412916</td>\n",
       "      <td>19.182916</td>\n",
       "    </tr>\n",
       "  </tbody>\n",
       "</table>\n",
       "</div>"
      ],
      "text/plain": [
       "   FID        lat        lon\n",
       "0    0 -34.532083  20.045415\n",
       "1    1  37.268577   9.865870\n",
       "2    2 -34.202499  21.580832\n",
       "3    3 -34.471249  19.891250\n",
       "4    4 -34.199821  22.040654\n",
       "5    5 -34.412916  19.182916"
      ]
     },
     "execution_count": 138,
     "metadata": {},
     "output_type": "execute_result"
    }
   ],
   "source": [
    "gpd_cent = poly_cent(poly2000)\n",
    "gpd_cent.head(6)"
   ]
  },
  {
   "cell_type": "code",
   "execution_count": 134,
   "metadata": {},
   "outputs": [
    {
     "data": {
      "text/plain": [
       "-34.53109807851509"
      ]
     },
     "execution_count": 134,
     "metadata": {},
     "output_type": "execute_result"
    }
   ],
   "source": [
    "gpd_cent.iloc[0,1]"
   ]
  },
  {
   "cell_type": "code",
   "execution_count": 139,
   "metadata": {},
   "outputs": [],
   "source": [
    "#gpd_cent.to_csv(outfilepath+'20181130_africa1k_2000_mask_1000c600_poly_centroid.csv')"
   ]
  }
 ],
 "metadata": {
  "kernelspec": {
   "display_name": "Python [conda root]",
   "language": "python",
   "name": "conda-root-py"
  },
  "language_info": {
   "codemirror_mode": {
    "name": "ipython",
    "version": 3
   },
   "file_extension": ".py",
   "mimetype": "text/x-python",
   "name": "python",
   "nbconvert_exporter": "python",
   "pygments_lexer": "ipython3",
   "version": "3.6.4"
  }
 },
 "nbformat": 4,
 "nbformat_minor": 2
}
