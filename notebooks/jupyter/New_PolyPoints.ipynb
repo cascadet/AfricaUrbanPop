{
 "cells": [
  {
   "cell_type": "markdown",
   "metadata": {},
   "source": [
    "# NoteBook To Check Point or Polygon Inside Polygon\n",
    "\n",
    "The objective of this notebook is to search a set of points or polygons for spatial overlap with a largerset\n",
    "\n",
    "By Cascsde Tuholske 2019-01-17\n",
    "\n",
    "#### Notes\n",
    "1. Points should be dialated to circles to prevent one falling just outside the larger polygon set (see Lusaka)"
   ]
  },
  {
   "cell_type": "markdown",
   "metadata": {},
   "source": [
    "### Depedencies"
   ]
  },
  {
   "cell_type": "code",
   "execution_count": 1,
   "metadata": {},
   "outputs": [],
   "source": [
    "import pandas as pd\n",
    "import geopandas as gpd\n",
    "from shapely.geometry import Point\n",
    "from shapely.geometry import mapping\n",
    "from shapely.geometry import Polygon\n",
    "from shapely.geometry import shape\n",
    "import ast\n",
    "from shapely.geometry import mapping\n",
    "import rasterio\n",
    "import copy"
   ]
  },
  {
   "cell_type": "markdown",
   "metadata": {},
   "source": [
    "### Functions"
   ]
  },
  {
   "cell_type": "code",
   "execution_count": 2,
   "metadata": {},
   "outputs": [],
   "source": [
    "def load_points (file):\n",
    "    \"\"\" This function loads a csv \n",
    "    of points and turns it into shapely points\"\"\"\n",
    "    df = pd.read_csv(file)\n",
    "\n",
    "    # creating a geometry column \n",
    "    geometry = [Point(xy) for xy in zip(df['lon'], df['lat'])]\n",
    "\n",
    "    # Coordinate reference system : WGS84\n",
    "    crs = {'init': 'epsg:4326'}\n",
    "\n",
    "    # Creating a Geographic data frame \n",
    "    point_gdf = gpd.GeoDataFrame(df, crs=crs, geometry=geometry)\n",
    "    \n",
    "    return point_gdf"
   ]
  },
  {
   "cell_type": "code",
   "execution_count": 3,
   "metadata": {},
   "outputs": [],
   "source": [
    "def point_buffer(gpd_df, raduis):\n",
    "    \"Function to make a shapely polygon buffer around a point\"\n",
    "   \n",
    "    # AGU 2018-12-04 - radius set to ~250m at the equator \n",
    "    #radius = 250*1/(111*1000)\n",
    "\n",
    "    # new_gpd_df = gpd.GeoDataFrame()\n",
    "    gpd_df.rename(columns={'geometry':'old_geom'}, inplace=True)\n",
    "    \n",
    "    arr = []\n",
    "    \n",
    "    for point in gpd_df['old_geom']:\n",
    "        buffer = point.buffer(radius)\n",
    "        arr.append((buffer))\n",
    "    \n",
    "    gpd_df['geometry'] = arr\n",
    "    \n",
    "    return gpd_df"
   ]
  },
  {
   "cell_type": "code",
   "execution_count": 4,
   "metadata": {},
   "outputs": [],
   "source": [
    "def poly_point (poly, point):\n",
    "    \"\"\"\n",
    "    This function will check if points are inside polygons if given two gpd dataframes with points and polygons\n",
    "    Returns point ids, point geometry, polygon index # and polygon geometry\n",
    "    \"\"\"\n",
    "    \n",
    "    out_arr = [] #return an array <<< ---------------- ASK RYAN IF BETTER DO USE DICT \n",
    "    \n",
    "    for index_point, row_point in point.iterrows():\n",
    "        for index_poly, row_poly in poly.iterrows():\n",
    "            if row_point['geometry'].within(row_poly['geometry']):\n",
    "                point_id = row_point['id']\n",
    "                point_geom = mapping(row_point['geometry']) # makes a dict w/ keys : type and cood\n",
    "                poly_id = index_poly\n",
    "                poly_geom = mapping(row_poly['geometry']) # makes a dict w/ keys : type and cood\n",
    "                \n",
    "                out_arr.append((point_id, \n",
    "                                point_geom, \n",
    "                                poly_id, \n",
    "                                poly_geom))\n",
    "\n",
    "    return out_arr\n",
    "\n",
    "# Note 2018-11-30 update arr to gpd_df "
   ]
  },
  {
   "cell_type": "code",
   "execution_count": 5,
   "metadata": {},
   "outputs": [],
   "source": [
    "def poly_overlap (point_buffer, poly_raster):\n",
    "    \"\"\"\n",
    "    This function will check if point buffers intersect with polygons \n",
    "    if given two gpd dataframes with point buffers and polygons\n",
    "    Returns point ids, point geometry, polygon index #, and polygon geometry in a geopandas DF.\n",
    "    It goes faster if smaller list goes first\n",
    "    \"\"\"\n",
    "    \n",
    "    # make arrays to fill\n",
    "    country_arr = []\n",
    "    city_arr = []\n",
    "    osm_type_arr = []\n",
    "    lat_arr = []\n",
    "    lon_arr = []\n",
    "    osm_id_arr = [] \n",
    "    FID_arr = [] \n",
    "    poly_geom_arr = []\n",
    "    #point_geom_arr = []\n",
    "    \n",
    "    for index_point_buffer, row_point_buffer in point_buffer.iterrows():\n",
    "        for index_poly_raster, row_poly_raster in poly_raster.iterrows():\n",
    "            if row_point_buffer['geometry'].intersects(row_poly_raster['geometry']):\n",
    "                country = row_point_buffer['country']\n",
    "                city = row_point_buffer['city']\n",
    "                osm_type = row_point_buffer['type']\n",
    "                lat = row_point_buffer['lat']\n",
    "                lon = row_point_buffer['lon']\n",
    "                osm_id = row_point_buffer['osm_id']\n",
    "                poly_id = row_poly_raster['FID']\n",
    "                poly_geom = shape(mapping(row_poly_raster['geometry'])) # make polygon\n",
    "                #point_geom = row_point_buffer['old_geom']\n",
    "\n",
    "                country_arr.append((country))\n",
    "                city_arr.append((city))\n",
    "                osm_type_arr.append((osm_type))\n",
    "                lat_arr.append((lat))\n",
    "                lon_arr.append((lon))\n",
    "                osm_id_arr.append((osm_id))\n",
    "                FID_arr.append((poly_id))\n",
    "                poly_geom_arr.append((poly_geom))\n",
    "                #point_geom_arr.append((point_geom))\n",
    "    \n",
    "    # put results into a geopandas df\n",
    "    new_gpd_df = gpd.GeoDataFrame()\n",
    "    new_gpd_df['osm_id'] = osm_id_arr\n",
    "    new_gpd_df['FID'] = FID_arr\n",
    "    new_gpd_df['geometry'] = poly_geom_arr\n",
    "    new_gpd_df['country'] = country_arr           \n",
    "    new_gpd_df['city'] = city_arr\n",
    "    new_gpd_df['osm_type'] = osm_type\n",
    "    new_gpd_df['lat'] = lat_arr\n",
    "    new_gpd_df['lon'] = lon_arr\n",
    "    #new_gpd_df['point_geom'] = point_geom_arr\n",
    "    \n",
    "    \n",
    "    return new_gpd_df\n",
    "\n",
    "# Note 2018-11-30 update arr to gpd_df "
   ]
  },
  {
   "cell_type": "markdown",
   "metadata": {},
   "source": [
    "### Analysis"
   ]
  },
  {
   "cell_type": "code",
   "execution_count": 6,
   "metadata": {},
   "outputs": [],
   "source": [
    "# File Paths\n",
    "\n",
    "# data = ''\n",
    "temp_data = '../../temp_data/'\n",
    "osm_point_file = '20190114_osm_africa_cities.csv'"
   ]
  },
  {
   "cell_type": "code",
   "execution_count": 7,
   "metadata": {},
   "outputs": [
    {
     "name": "stdout",
     "output_type": "stream",
     "text": [
      "876\n"
     ]
    }
   ],
   "source": [
    "# Load OSM Points\n",
    "osm_point_gdf = load_points(temp_data+osm_point_file)\n",
    "print(len(osm_point_gdf))"
   ]
  },
  {
   "cell_type": "code",
   "execution_count": 8,
   "metadata": {},
   "outputs": [
    {
     "data": {
      "text/html": [
       "<div>\n",
       "<style scoped>\n",
       "    .dataframe tbody tr th:only-of-type {\n",
       "        vertical-align: middle;\n",
       "    }\n",
       "\n",
       "    .dataframe tbody tr th {\n",
       "        vertical-align: top;\n",
       "    }\n",
       "\n",
       "    .dataframe thead th {\n",
       "        text-align: right;\n",
       "    }\n",
       "</style>\n",
       "<table border=\"1\" class=\"dataframe\">\n",
       "  <thead>\n",
       "    <tr style=\"text-align: right;\">\n",
       "      <th></th>\n",
       "      <th>country</th>\n",
       "      <th>osm_id</th>\n",
       "      <th>city</th>\n",
       "      <th>lat</th>\n",
       "      <th>lon</th>\n",
       "      <th>geometry</th>\n",
       "    </tr>\n",
       "  </thead>\n",
       "  <tbody>\n",
       "    <tr>\n",
       "      <th>0</th>\n",
       "      <td>Algeria</td>\n",
       "      <td>27564946</td>\n",
       "      <td>Constantine</td>\n",
       "      <td>36.364519</td>\n",
       "      <td>6.608260</td>\n",
       "      <td>POINT (6.60826 36.364519)</td>\n",
       "    </tr>\n",
       "    <tr>\n",
       "      <th>1</th>\n",
       "      <td>Algeria</td>\n",
       "      <td>27565103</td>\n",
       "      <td>Oran</td>\n",
       "      <td>35.703275</td>\n",
       "      <td>-0.649298</td>\n",
       "      <td>POINT (-0.6492975999999999 35.7032751)</td>\n",
       "    </tr>\n",
       "    <tr>\n",
       "      <th>2</th>\n",
       "      <td>Algeria</td>\n",
       "      <td>253292160</td>\n",
       "      <td>Tizi Ouzou</td>\n",
       "      <td>36.713784</td>\n",
       "      <td>4.049392</td>\n",
       "      <td>POINT (4.0493919 36.7137843)</td>\n",
       "    </tr>\n",
       "    <tr>\n",
       "      <th>3</th>\n",
       "      <td>Algeria</td>\n",
       "      <td>262963217</td>\n",
       "      <td>El Oued</td>\n",
       "      <td>33.361177</td>\n",
       "      <td>6.860349</td>\n",
       "      <td>POINT (6.8603492 33.3611766)</td>\n",
       "    </tr>\n",
       "    <tr>\n",
       "      <th>4</th>\n",
       "      <td>Algeria</td>\n",
       "      <td>262964638</td>\n",
       "      <td>Touggourt</td>\n",
       "      <td>33.109897</td>\n",
       "      <td>6.066102</td>\n",
       "      <td>POINT (6.066102 33.1098968)</td>\n",
       "    </tr>\n",
       "    <tr>\n",
       "      <th>5</th>\n",
       "      <td>Algeria</td>\n",
       "      <td>264573224</td>\n",
       "      <td>Laghouat</td>\n",
       "      <td>33.806352</td>\n",
       "      <td>2.880862</td>\n",
       "      <td>POINT (2.8808616 33.8063518)</td>\n",
       "    </tr>\n",
       "  </tbody>\n",
       "</table>\n",
       "</div>"
      ],
      "text/plain": [
       "   country     osm_id         city        lat       lon  \\\n",
       "0  Algeria   27564946  Constantine  36.364519  6.608260   \n",
       "1  Algeria   27565103         Oran  35.703275 -0.649298   \n",
       "2  Algeria  253292160   Tizi Ouzou  36.713784  4.049392   \n",
       "3  Algeria  262963217      El Oued  33.361177  6.860349   \n",
       "4  Algeria  262964638    Touggourt  33.109897  6.066102   \n",
       "5  Algeria  264573224     Laghouat  33.806352  2.880862   \n",
       "\n",
       "                                 geometry  \n",
       "0               POINT (6.60826 36.364519)  \n",
       "1  POINT (-0.6492975999999999 35.7032751)  \n",
       "2            POINT (4.0493919 36.7137843)  \n",
       "3            POINT (6.8603492 33.3611766)  \n",
       "4             POINT (6.066102 33.1098968)  \n",
       "5            POINT (2.8808616 33.8063518)  "
      ]
     },
     "execution_count": 8,
     "metadata": {},
     "output_type": "execute_result"
    }
   ],
   "source": [
    "osm_point_gdf.head(6)"
   ]
  },
  {
   "cell_type": "code",
   "execution_count": 9,
   "metadata": {},
   "outputs": [
    {
     "data": {
      "text/html": [
       "<div>\n",
       "<style scoped>\n",
       "    .dataframe tbody tr th:only-of-type {\n",
       "        vertical-align: middle;\n",
       "    }\n",
       "\n",
       "    .dataframe tbody tr th {\n",
       "        vertical-align: top;\n",
       "    }\n",
       "\n",
       "    .dataframe thead th {\n",
       "        text-align: right;\n",
       "    }\n",
       "</style>\n",
       "<table border=\"1\" class=\"dataframe\">\n",
       "  <thead>\n",
       "    <tr style=\"text-align: right;\">\n",
       "      <th></th>\n",
       "      <th>country</th>\n",
       "      <th>osm_id</th>\n",
       "      <th>city</th>\n",
       "      <th>lat</th>\n",
       "      <th>lon</th>\n",
       "      <th>geometry</th>\n",
       "      <th>type</th>\n",
       "    </tr>\n",
       "  </thead>\n",
       "  <tbody>\n",
       "    <tr>\n",
       "      <th>0</th>\n",
       "      <td>Algeria</td>\n",
       "      <td>27564946</td>\n",
       "      <td>Constantine</td>\n",
       "      <td>36.364519</td>\n",
       "      <td>6.608260</td>\n",
       "      <td>POINT (6.60826 36.364519)</td>\n",
       "      <td>city</td>\n",
       "    </tr>\n",
       "    <tr>\n",
       "      <th>1</th>\n",
       "      <td>Algeria</td>\n",
       "      <td>27565103</td>\n",
       "      <td>Oran</td>\n",
       "      <td>35.703275</td>\n",
       "      <td>-0.649298</td>\n",
       "      <td>POINT (-0.6492975999999999 35.7032751)</td>\n",
       "      <td>city</td>\n",
       "    </tr>\n",
       "    <tr>\n",
       "      <th>2</th>\n",
       "      <td>Algeria</td>\n",
       "      <td>253292160</td>\n",
       "      <td>Tizi Ouzou</td>\n",
       "      <td>36.713784</td>\n",
       "      <td>4.049392</td>\n",
       "      <td>POINT (4.0493919 36.7137843)</td>\n",
       "      <td>city</td>\n",
       "    </tr>\n",
       "    <tr>\n",
       "      <th>3</th>\n",
       "      <td>Algeria</td>\n",
       "      <td>262963217</td>\n",
       "      <td>El Oued</td>\n",
       "      <td>33.361177</td>\n",
       "      <td>6.860349</td>\n",
       "      <td>POINT (6.8603492 33.3611766)</td>\n",
       "      <td>city</td>\n",
       "    </tr>\n",
       "    <tr>\n",
       "      <th>4</th>\n",
       "      <td>Algeria</td>\n",
       "      <td>262964638</td>\n",
       "      <td>Touggourt</td>\n",
       "      <td>33.109897</td>\n",
       "      <td>6.066102</td>\n",
       "      <td>POINT (6.066102 33.1098968)</td>\n",
       "      <td>city</td>\n",
       "    </tr>\n",
       "    <tr>\n",
       "      <th>5</th>\n",
       "      <td>Algeria</td>\n",
       "      <td>264573224</td>\n",
       "      <td>Laghouat</td>\n",
       "      <td>33.806352</td>\n",
       "      <td>2.880862</td>\n",
       "      <td>POINT (2.8808616 33.8063518)</td>\n",
       "      <td>city</td>\n",
       "    </tr>\n",
       "  </tbody>\n",
       "</table>\n",
       "</div>"
      ],
      "text/plain": [
       "   country     osm_id         city        lat       lon  \\\n",
       "0  Algeria   27564946  Constantine  36.364519  6.608260   \n",
       "1  Algeria   27565103         Oran  35.703275 -0.649298   \n",
       "2  Algeria  253292160   Tizi Ouzou  36.713784  4.049392   \n",
       "3  Algeria  262963217      El Oued  33.361177  6.860349   \n",
       "4  Algeria  262964638    Touggourt  33.109897  6.066102   \n",
       "5  Algeria  264573224     Laghouat  33.806352  2.880862   \n",
       "\n",
       "                                 geometry  type  \n",
       "0               POINT (6.60826 36.364519)  city  \n",
       "1  POINT (-0.6492975999999999 35.7032751)  city  \n",
       "2            POINT (4.0493919 36.7137843)  city  \n",
       "3            POINT (6.8603492 33.3611766)  city  \n",
       "4             POINT (6.066102 33.1098968)  city  \n",
       "5            POINT (2.8808616 33.8063518)  city  "
      ]
     },
     "execution_count": 9,
     "metadata": {},
     "output_type": "execute_result"
    }
   ],
   "source": [
    "# Add column for type: city or town\n",
    "osm_point_gdf['type'] = 'city'\n",
    "osm_point_gdf.head(6)"
   ]
  },
  {
   "cell_type": "code",
   "execution_count": 10,
   "metadata": {},
   "outputs": [
    {
     "data": {
      "text/plain": [
       "0.0022522522522522522"
      ]
     },
     "execution_count": 10,
     "metadata": {},
     "output_type": "execute_result"
    }
   ],
   "source": [
    "# AGU 2018-12-04 - radius set to ~250m at the equator \n",
    "\n",
    "radius = 250*1/(111*1000)\n",
    "radius"
   ]
  },
  {
   "cell_type": "code",
   "execution_count": 11,
   "metadata": {},
   "outputs": [],
   "source": [
    "osm_buffer_gdf = point_buffer(osm_point_gdf, radius)"
   ]
  },
  {
   "cell_type": "code",
   "execution_count": 12,
   "metadata": {},
   "outputs": [
    {
     "name": "stdout",
     "output_type": "stream",
     "text": [
      "876\n"
     ]
    }
   ],
   "source": [
    "print(len(osm_buffer_gdf))"
   ]
  },
  {
   "cell_type": "code",
   "execution_count": 13,
   "metadata": {
    "scrolled": true
   },
   "outputs": [
    {
     "data": {
      "text/html": [
       "<div>\n",
       "<style scoped>\n",
       "    .dataframe tbody tr th:only-of-type {\n",
       "        vertical-align: middle;\n",
       "    }\n",
       "\n",
       "    .dataframe tbody tr th {\n",
       "        vertical-align: top;\n",
       "    }\n",
       "\n",
       "    .dataframe thead th {\n",
       "        text-align: right;\n",
       "    }\n",
       "</style>\n",
       "<table border=\"1\" class=\"dataframe\">\n",
       "  <thead>\n",
       "    <tr style=\"text-align: right;\">\n",
       "      <th></th>\n",
       "      <th>country</th>\n",
       "      <th>osm_id</th>\n",
       "      <th>city</th>\n",
       "      <th>lat</th>\n",
       "      <th>lon</th>\n",
       "      <th>old_geom</th>\n",
       "      <th>type</th>\n",
       "      <th>geometry</th>\n",
       "    </tr>\n",
       "  </thead>\n",
       "  <tbody>\n",
       "    <tr>\n",
       "      <th>0</th>\n",
       "      <td>Algeria</td>\n",
       "      <td>27564946</td>\n",
       "      <td>Constantine</td>\n",
       "      <td>36.364519</td>\n",
       "      <td>6.608260</td>\n",
       "      <td>POINT (6.60826 36.364519)</td>\n",
       "      <td>city</td>\n",
       "      <td>POLYGON ((6.610512252252253 36.364519, 6.61050...</td>\n",
       "    </tr>\n",
       "    <tr>\n",
       "      <th>1</th>\n",
       "      <td>Algeria</td>\n",
       "      <td>27565103</td>\n",
       "      <td>Oran</td>\n",
       "      <td>35.703275</td>\n",
       "      <td>-0.649298</td>\n",
       "      <td>POINT (-0.6492975999999999 35.7032751)</td>\n",
       "      <td>city</td>\n",
       "      <td>POLYGON ((-0.6470453477477477 35.7032751, -0.6...</td>\n",
       "    </tr>\n",
       "    <tr>\n",
       "      <th>2</th>\n",
       "      <td>Algeria</td>\n",
       "      <td>253292160</td>\n",
       "      <td>Tizi Ouzou</td>\n",
       "      <td>36.713784</td>\n",
       "      <td>4.049392</td>\n",
       "      <td>POINT (4.0493919 36.7137843)</td>\n",
       "      <td>city</td>\n",
       "      <td>POLYGON ((4.051644152252252 36.7137843, 4.0516...</td>\n",
       "    </tr>\n",
       "    <tr>\n",
       "      <th>3</th>\n",
       "      <td>Algeria</td>\n",
       "      <td>262963217</td>\n",
       "      <td>El Oued</td>\n",
       "      <td>33.361177</td>\n",
       "      <td>6.860349</td>\n",
       "      <td>POINT (6.8603492 33.3611766)</td>\n",
       "      <td>city</td>\n",
       "      <td>POLYGON ((6.862601452252252 33.3611766, 6.8625...</td>\n",
       "    </tr>\n",
       "    <tr>\n",
       "      <th>4</th>\n",
       "      <td>Algeria</td>\n",
       "      <td>262964638</td>\n",
       "      <td>Touggourt</td>\n",
       "      <td>33.109897</td>\n",
       "      <td>6.066102</td>\n",
       "      <td>POINT (6.066102 33.1098968)</td>\n",
       "      <td>city</td>\n",
       "      <td>POLYGON ((6.068354252252252 33.1098968, 6.0683...</td>\n",
       "    </tr>\n",
       "    <tr>\n",
       "      <th>5</th>\n",
       "      <td>Algeria</td>\n",
       "      <td>264573224</td>\n",
       "      <td>Laghouat</td>\n",
       "      <td>33.806352</td>\n",
       "      <td>2.880862</td>\n",
       "      <td>POINT (2.8808616 33.8063518)</td>\n",
       "      <td>city</td>\n",
       "      <td>POLYGON ((2.883113852252253 33.8063518, 2.8831...</td>\n",
       "    </tr>\n",
       "  </tbody>\n",
       "</table>\n",
       "</div>"
      ],
      "text/plain": [
       "   country     osm_id         city        lat       lon  \\\n",
       "0  Algeria   27564946  Constantine  36.364519  6.608260   \n",
       "1  Algeria   27565103         Oran  35.703275 -0.649298   \n",
       "2  Algeria  253292160   Tizi Ouzou  36.713784  4.049392   \n",
       "3  Algeria  262963217      El Oued  33.361177  6.860349   \n",
       "4  Algeria  262964638    Touggourt  33.109897  6.066102   \n",
       "5  Algeria  264573224     Laghouat  33.806352  2.880862   \n",
       "\n",
       "                                 old_geom  type  \\\n",
       "0               POINT (6.60826 36.364519)  city   \n",
       "1  POINT (-0.6492975999999999 35.7032751)  city   \n",
       "2            POINT (4.0493919 36.7137843)  city   \n",
       "3            POINT (6.8603492 33.3611766)  city   \n",
       "4             POINT (6.066102 33.1098968)  city   \n",
       "5            POINT (2.8808616 33.8063518)  city   \n",
       "\n",
       "                                            geometry  \n",
       "0  POLYGON ((6.610512252252253 36.364519, 6.61050...  \n",
       "1  POLYGON ((-0.6470453477477477 35.7032751, -0.6...  \n",
       "2  POLYGON ((4.051644152252252 36.7137843, 4.0516...  \n",
       "3  POLYGON ((6.862601452252252 33.3611766, 6.8625...  \n",
       "4  POLYGON ((6.068354252252252 33.1098968, 6.0683...  \n",
       "5  POLYGON ((2.883113852252253 33.8063518, 2.8831...  "
      ]
     },
     "execution_count": 13,
     "metadata": {},
     "output_type": "execute_result"
    }
   ],
   "source": [
    "osm_buffer_gdf.head(6)"
   ]
  },
  {
   "cell_type": "code",
   "execution_count": 14,
   "metadata": {},
   "outputs": [
    {
     "data": {
      "text/html": [
       "<div>\n",
       "<style scoped>\n",
       "    .dataframe tbody tr th:only-of-type {\n",
       "        vertical-align: middle;\n",
       "    }\n",
       "\n",
       "    .dataframe tbody tr th {\n",
       "        vertical-align: top;\n",
       "    }\n",
       "\n",
       "    .dataframe thead th {\n",
       "        text-align: right;\n",
       "    }\n",
       "</style>\n",
       "<table border=\"1\" class=\"dataframe\">\n",
       "  <thead>\n",
       "    <tr style=\"text-align: right;\">\n",
       "      <th></th>\n",
       "      <th>country</th>\n",
       "      <th>osm_id</th>\n",
       "      <th>city</th>\n",
       "      <th>lat</th>\n",
       "      <th>lon</th>\n",
       "      <th>type</th>\n",
       "      <th>geometry</th>\n",
       "    </tr>\n",
       "  </thead>\n",
       "  <tbody>\n",
       "    <tr>\n",
       "      <th>0</th>\n",
       "      <td>Algeria</td>\n",
       "      <td>27564946</td>\n",
       "      <td>Constantine</td>\n",
       "      <td>36.364519</td>\n",
       "      <td>6.608260</td>\n",
       "      <td>city</td>\n",
       "      <td>POLYGON ((6.610512252252253 36.364519, 6.61050...</td>\n",
       "    </tr>\n",
       "    <tr>\n",
       "      <th>1</th>\n",
       "      <td>Algeria</td>\n",
       "      <td>27565103</td>\n",
       "      <td>Oran</td>\n",
       "      <td>35.703275</td>\n",
       "      <td>-0.649298</td>\n",
       "      <td>city</td>\n",
       "      <td>POLYGON ((-0.6470453477477477 35.7032751, -0.6...</td>\n",
       "    </tr>\n",
       "    <tr>\n",
       "      <th>2</th>\n",
       "      <td>Algeria</td>\n",
       "      <td>253292160</td>\n",
       "      <td>Tizi Ouzou</td>\n",
       "      <td>36.713784</td>\n",
       "      <td>4.049392</td>\n",
       "      <td>city</td>\n",
       "      <td>POLYGON ((4.051644152252252 36.7137843, 4.0516...</td>\n",
       "    </tr>\n",
       "    <tr>\n",
       "      <th>3</th>\n",
       "      <td>Algeria</td>\n",
       "      <td>262963217</td>\n",
       "      <td>El Oued</td>\n",
       "      <td>33.361177</td>\n",
       "      <td>6.860349</td>\n",
       "      <td>city</td>\n",
       "      <td>POLYGON ((6.862601452252252 33.3611766, 6.8625...</td>\n",
       "    </tr>\n",
       "    <tr>\n",
       "      <th>4</th>\n",
       "      <td>Algeria</td>\n",
       "      <td>262964638</td>\n",
       "      <td>Touggourt</td>\n",
       "      <td>33.109897</td>\n",
       "      <td>6.066102</td>\n",
       "      <td>city</td>\n",
       "      <td>POLYGON ((6.068354252252252 33.1098968, 6.0683...</td>\n",
       "    </tr>\n",
       "    <tr>\n",
       "      <th>5</th>\n",
       "      <td>Algeria</td>\n",
       "      <td>264573224</td>\n",
       "      <td>Laghouat</td>\n",
       "      <td>33.806352</td>\n",
       "      <td>2.880862</td>\n",
       "      <td>city</td>\n",
       "      <td>POLYGON ((2.883113852252253 33.8063518, 2.8831...</td>\n",
       "    </tr>\n",
       "  </tbody>\n",
       "</table>\n",
       "</div>"
      ],
      "text/plain": [
       "   country     osm_id         city        lat       lon  type  \\\n",
       "0  Algeria   27564946  Constantine  36.364519  6.608260  city   \n",
       "1  Algeria   27565103         Oran  35.703275 -0.649298  city   \n",
       "2  Algeria  253292160   Tizi Ouzou  36.713784  4.049392  city   \n",
       "3  Algeria  262963217      El Oued  33.361177  6.860349  city   \n",
       "4  Algeria  262964638    Touggourt  33.109897  6.066102  city   \n",
       "5  Algeria  264573224     Laghouat  33.806352  2.880862  city   \n",
       "\n",
       "                                            geometry  \n",
       "0  POLYGON ((6.610512252252253 36.364519, 6.61050...  \n",
       "1  POLYGON ((-0.6470453477477477 35.7032751, -0.6...  \n",
       "2  POLYGON ((4.051644152252252 36.7137843, 4.0516...  \n",
       "3  POLYGON ((6.862601452252252 33.3611766, 6.8625...  \n",
       "4  POLYGON ((6.068354252252252 33.1098968, 6.0683...  \n",
       "5  POLYGON ((2.883113852252253 33.8063518, 2.8831...  "
      ]
     },
     "execution_count": 14,
     "metadata": {},
     "output_type": "execute_result"
    }
   ],
   "source": [
    "osm_buffer_gdf = osm_buffer_gdf.drop(['old_geom'], axis=1)\n",
    "osm_buffer_gdf.head(6)"
   ]
  },
  {
   "cell_type": "code",
   "execution_count": 21,
   "metadata": {},
   "outputs": [
    {
     "name": "stdout",
     "output_type": "stream",
     "text": [
      "46074\n"
     ]
    }
   ],
   "source": [
    "# Load Polygon\n",
    "poly_raster_file = 'GHS_POP_GPW42015_GLOBE_R2015A_54009_1k_v1_0_Clip_1500c300.shp'\n",
    "raster_polygons = gpd.read_file(temp_data+poly_raster_file)\n",
    "print(len(raster_polygons))"
   ]
  },
  {
   "cell_type": "code",
   "execution_count": 22,
   "metadata": {},
   "outputs": [
    {
     "data": {
      "text/html": [
       "<div>\n",
       "<style scoped>\n",
       "    .dataframe tbody tr th:only-of-type {\n",
       "        vertical-align: middle;\n",
       "    }\n",
       "\n",
       "    .dataframe tbody tr th {\n",
       "        vertical-align: top;\n",
       "    }\n",
       "\n",
       "    .dataframe thead th {\n",
       "        text-align: right;\n",
       "    }\n",
       "</style>\n",
       "<table border=\"1\" class=\"dataframe\">\n",
       "  <thead>\n",
       "    <tr style=\"text-align: right;\">\n",
       "      <th></th>\n",
       "      <th>FID</th>\n",
       "      <th>geometry</th>\n",
       "    </tr>\n",
       "  </thead>\n",
       "  <tbody>\n",
       "    <tr>\n",
       "      <th>0</th>\n",
       "      <td>0</td>\n",
       "      <td>POLYGON ((1776405.452556 -4197970.538132, 1778...</td>\n",
       "    </tr>\n",
       "    <tr>\n",
       "      <th>1</th>\n",
       "      <td>1</td>\n",
       "      <td>POLYGON ((856405.452556 4490029.461868, 857405...</td>\n",
       "    </tr>\n",
       "    <tr>\n",
       "      <th>2</th>\n",
       "      <td>2</td>\n",
       "      <td>POLYGON ((1767405.452556 -4161970.538132, 1769...</td>\n",
       "    </tr>\n",
       "    <tr>\n",
       "      <th>3</th>\n",
       "      <td>3</td>\n",
       "      <td>POLYGON ((1717405.452556 -4175970.538132, 1718...</td>\n",
       "    </tr>\n",
       "    <tr>\n",
       "      <th>4</th>\n",
       "      <td>4</td>\n",
       "      <td>POLYGON ((1729405.452556 -4158970.538132, 1730...</td>\n",
       "    </tr>\n",
       "    <tr>\n",
       "      <th>5</th>\n",
       "      <td>5</td>\n",
       "      <td>POLYGON ((1703405.452556 -4154970.538132, 1708...</td>\n",
       "    </tr>\n",
       "  </tbody>\n",
       "</table>\n",
       "</div>"
      ],
      "text/plain": [
       "   FID                                           geometry\n",
       "0    0  POLYGON ((1776405.452556 -4197970.538132, 1778...\n",
       "1    1  POLYGON ((856405.452556 4490029.461868, 857405...\n",
       "2    2  POLYGON ((1767405.452556 -4161970.538132, 1769...\n",
       "3    3  POLYGON ((1717405.452556 -4175970.538132, 1718...\n",
       "4    4  POLYGON ((1729405.452556 -4158970.538132, 1730...\n",
       "5    5  POLYGON ((1703405.452556 -4154970.538132, 1708..."
      ]
     },
     "execution_count": 22,
     "metadata": {},
     "output_type": "execute_result"
    }
   ],
   "source": [
    "raster_polygons.head(6)"
   ]
  },
  {
   "cell_type": "code",
   "execution_count": 24,
   "metadata": {},
   "outputs": [],
   "source": [
    "raster_polygons.crs = {'ellps': 'WGS84',\n",
    " 'lon_0': 0,\n",
    " 'no_defs': True,\n",
    " 'proj': 'moll',\n",
    " 'units': 'm',\n",
    " 'x_0': 0,\n",
    " 'y_0': 0}"
   ]
  },
  {
   "cell_type": "code",
   "execution_count": null,
   "metadata": {},
   "outputs": [],
   "source": [
    "# {'ellps': 'WGS84',\n",
    "#  'lon_0': 0,\n",
    "#  'no_defs': True,\n",
    "#  'proj': 'moll',\n",
    "#  'units': 'm',\n",
    "#  'x_0': 0,\n",
    "#  'y_0': 0}"
   ]
  },
  {
   "cell_type": "code",
   "execution_count": null,
   "metadata": {},
   "outputs": [],
   "source": [
    "# For GHS make FID and reset crs\n",
    "# FID = list(range(len(raster_polygons)))\n",
    "# raster_polygons['DN'] = FID\n",
    "# raster_polygons.columns.values[0] = \"FID\""
   ]
  },
  {
   "cell_type": "code",
   "execution_count": 25,
   "metadata": {},
   "outputs": [],
   "source": [
    "raster_polygons_crs = raster_polygons.to_crs({'proj':'longlat', 'ellps':'WGS84', 'datum':'WGS84'})"
   ]
  },
  {
   "cell_type": "code",
   "execution_count": 27,
   "metadata": {},
   "outputs": [
    {
     "data": {
      "text/html": [
       "<div>\n",
       "<style scoped>\n",
       "    .dataframe tbody tr th:only-of-type {\n",
       "        vertical-align: middle;\n",
       "    }\n",
       "\n",
       "    .dataframe tbody tr th {\n",
       "        vertical-align: top;\n",
       "    }\n",
       "\n",
       "    .dataframe thead th {\n",
       "        text-align: right;\n",
       "    }\n",
       "</style>\n",
       "<table border=\"1\" class=\"dataframe\">\n",
       "  <thead>\n",
       "    <tr style=\"text-align: right;\">\n",
       "      <th></th>\n",
       "      <th>FID</th>\n",
       "      <th>geometry</th>\n",
       "    </tr>\n",
       "  </thead>\n",
       "  <tbody>\n",
       "    <tr>\n",
       "      <th>0</th>\n",
       "      <td>0</td>\n",
       "      <td>POLYGON ((20.02554510861832 -34.77980766795523...</td>\n",
       "    </tr>\n",
       "    <tr>\n",
       "      <th>1</th>\n",
       "      <td>1</td>\n",
       "      <td>POLYGON ((9.852422643144987 37.34058756990897,...</td>\n",
       "    </tr>\n",
       "    <tr>\n",
       "      <th>2</th>\n",
       "      <td>2</td>\n",
       "      <td>POLYGON ((19.87721487508657 -34.46627715636649...</td>\n",
       "    </tr>\n",
       "    <tr>\n",
       "      <th>3</th>\n",
       "      <td>3</td>\n",
       "      <td>POLYGON ((19.33251509633847 -34.5881527049174,...</td>\n",
       "    </tr>\n",
       "    <tr>\n",
       "      <th>4</th>\n",
       "      <td>4</td>\n",
       "      <td>POLYGON ((19.44605623645006 -34.44016969569522...</td>\n",
       "    </tr>\n",
       "    <tr>\n",
       "      <th>5</th>\n",
       "      <td>5</td>\n",
       "      <td>POLYGON ((19.14873348283236 -34.40536452690367...</td>\n",
       "    </tr>\n",
       "  </tbody>\n",
       "</table>\n",
       "</div>"
      ],
      "text/plain": [
       "   FID                                           geometry\n",
       "0    0  POLYGON ((20.02554510861832 -34.77980766795523...\n",
       "1    1  POLYGON ((9.852422643144987 37.34058756990897,...\n",
       "2    2  POLYGON ((19.87721487508657 -34.46627715636649...\n",
       "3    3  POLYGON ((19.33251509633847 -34.5881527049174,...\n",
       "4    4  POLYGON ((19.44605623645006 -34.44016969569522...\n",
       "5    5  POLYGON ((19.14873348283236 -34.40536452690367..."
      ]
     },
     "execution_count": 27,
     "metadata": {},
     "output_type": "execute_result"
    }
   ],
   "source": [
    "raster_polygons_crs.head(6)"
   ]
  },
  {
   "cell_type": "code",
   "execution_count": null,
   "metadata": {},
   "outputs": [],
   "source": [
    "# test\n",
    "\n",
    "# osm_sub = osm_buffer_gdf.iloc[0:100]\n",
    "# osm_sub.head(6)"
   ]
  },
  {
   "cell_type": "code",
   "execution_count": null,
   "metadata": {},
   "outputs": [],
   "source": [
    "# poly_sub = raster_polygons.iloc[0:1000]\n",
    "# poly_sub.head(6)"
   ]
  },
  {
   "cell_type": "code",
   "execution_count": null,
   "metadata": {},
   "outputs": [],
   "source": [
    "# subset test\n",
    "\n",
    "# import time\n",
    "# checkpoint = time.time()\n",
    "\n",
    "# test = poly_overlap(osm_sub, poly_sub)\n",
    "\n",
    "# print(\"elapsed time is: {}s\".format(time.time()-checkpoint))"
   ]
  },
  {
   "cell_type": "code",
   "execution_count": null,
   "metadata": {},
   "outputs": [],
   "source": [
    "# len(test)"
   ]
  },
  {
   "cell_type": "code",
   "execution_count": null,
   "metadata": {},
   "outputs": [],
   "source": [
    "# test"
   ]
  },
  {
   "cell_type": "code",
   "execution_count": 28,
   "metadata": {},
   "outputs": [
    {
     "name": "stdout",
     "output_type": "stream",
     "text": [
      "elapsed time is: 2639.496916294098s\n"
     ]
    }
   ],
   "source": [
    "# run poly_overlap\n",
    "\n",
    "import time\n",
    "checkpoint = time.time()\n",
    "\n",
    "poly_overlap_out = poly_overlap(osm_buffer_gdf, raster_polygons_crs)\n",
    "\n",
    "print(\"elapsed time is: {}s\".format(time.time()-checkpoint))"
   ]
  },
  {
   "cell_type": "code",
   "execution_count": 29,
   "metadata": {},
   "outputs": [
    {
     "name": "stdout",
     "output_type": "stream",
     "text": [
      "777\n"
     ]
    }
   ],
   "source": [
    "print(len(poly_overlap_out))"
   ]
  },
  {
   "cell_type": "code",
   "execution_count": null,
   "metadata": {},
   "outputs": [],
   "source": [
    "poly_overlap_out.head(6)"
   ]
  },
  {
   "cell_type": "code",
   "execution_count": 30,
   "metadata": {},
   "outputs": [],
   "source": [
    "poly_overlap_out.to_file(temp_data+'GHS_POP_GPW42015_GLOBE_R2015A_54009_1k_v1_0_Clip_1500c300_polyoverlap.shp', driver='ESRI Shapefile')"
   ]
  }
 ],
 "metadata": {
  "kernelspec": {
   "display_name": "Python [conda root]",
   "language": "python",
   "name": "conda-root-py"
  },
  "language_info": {
   "codemirror_mode": {
    "name": "ipython",
    "version": 3
   },
   "file_extension": ".py",
   "mimetype": "text/x-python",
   "name": "python",
   "nbconvert_exporter": "python",
   "pygments_lexer": "ipython3",
   "version": "3.6.4"
  }
 },
 "nbformat": 4,
 "nbformat_minor": 2
}
