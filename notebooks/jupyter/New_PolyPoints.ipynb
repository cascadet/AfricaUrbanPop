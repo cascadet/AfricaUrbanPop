{
 "cells": [
  {
   "cell_type": "markdown",
   "metadata": {},
   "source": [
    "# NoteBook To Check Point or Polygon Inside Polygon\n",
    "\n",
    "The objective of this notebook is to search a set of points or polygons for spatial overlap with a largerset\n",
    "\n",
    "By Cascsde Tuholske 2019-01-17\n",
    "\n",
    "#### Notes\n",
    "1. Points should be dialated to circles to prevent one falling just outside the larger polygon set (see Lusaka)"
   ]
  },
  {
   "cell_type": "markdown",
   "metadata": {},
   "source": [
    "### Depedencies"
   ]
  },
  {
   "cell_type": "code",
   "execution_count": 1,
   "metadata": {},
   "outputs": [],
   "source": [
    "import pandas as pd\n",
    "import geopandas as gpd\n",
    "from shapely.geometry import Point\n",
    "from shapely.geometry import mapping\n",
    "from shapely.geometry import Polygon\n",
    "from shapely.geometry import shape\n",
    "import ast\n",
    "from shapely.geometry import mapping\n",
    "import rasterio\n",
    "import copy"
   ]
  },
  {
   "cell_type": "markdown",
   "metadata": {},
   "source": [
    "### Functions"
   ]
  },
  {
   "cell_type": "code",
   "execution_count": 2,
   "metadata": {},
   "outputs": [],
   "source": [
    "def load_points (file):\n",
    "    \"\"\" This function loads a csv \n",
    "    of points and turns it into shapely points\"\"\"\n",
    "    df = pd.read_csv(file)\n",
    "\n",
    "    # creating a geometry column \n",
    "    geometry = [Point(xy) for xy in zip(df['lon'], df['lat'])]\n",
    "\n",
    "    # Coordinate reference system : WGS84\n",
    "    crs = {'init': 'epsg:4326'}\n",
    "\n",
    "    # Creating a Geographic data frame \n",
    "    point_gdf = gpd.GeoDataFrame(df, crs=crs, geometry=geometry)\n",
    "    \n",
    "    return point_gdf"
   ]
  },
  {
   "cell_type": "code",
   "execution_count": 3,
   "metadata": {},
   "outputs": [],
   "source": [
    "def point_buffer(gpd_df, raduis):\n",
    "    \"Function to make a shapely polygon buffer around a point\"\n",
    "   \n",
    "    # AGU 2018-12-04 - radius set to ~250m at the equator \n",
    "    #radius = 250*1/(111*1000)\n",
    "\n",
    "    # new_gpd_df = gpd.GeoDataFrame()\n",
    "    gpd_df.rename(columns={'geometry':'old_geom'}, inplace=True)\n",
    "    \n",
    "    arr = []\n",
    "    \n",
    "    for point in gpd_df['old_geom']:\n",
    "        buffer = point.buffer(radius)\n",
    "        arr.append((buffer))\n",
    "    \n",
    "    gpd_df['geometry'] = arr\n",
    "    \n",
    "    return gpd_df"
   ]
  },
  {
   "cell_type": "code",
   "execution_count": 4,
   "metadata": {},
   "outputs": [],
   "source": [
    "def poly_point (poly, point):\n",
    "    \"\"\"\n",
    "    This function will check if points are inside polygons if given two gpd dataframes with points and polygons\n",
    "    Returns point ids, point geometry, polygon index # and polygon geometry\n",
    "    \"\"\"\n",
    "    \n",
    "    out_arr = [] #return an array <<< ---------------- ASK RYAN IF BETTER DO USE DICT \n",
    "    \n",
    "    for index_point, row_point in point.iterrows():\n",
    "        for index_poly, row_poly in poly.iterrows():\n",
    "            if row_point['geometry'].within(row_poly['geometry']):\n",
    "                point_id = row_point['id']\n",
    "                point_geom = mapping(row_point['geometry']) # makes a dict w/ keys : type and cood\n",
    "                poly_id = index_poly\n",
    "                poly_geom = mapping(row_poly['geometry']) # makes a dict w/ keys : type and cood\n",
    "                \n",
    "                out_arr.append((point_id, \n",
    "                                point_geom, \n",
    "                                poly_id, \n",
    "                                poly_geom))\n",
    "\n",
    "    return out_arr\n",
    "\n",
    "# Note 2018-11-30 update arr to gpd_df "
   ]
  },
  {
   "cell_type": "code",
   "execution_count": 24,
   "metadata": {},
   "outputs": [],
   "source": [
    "def poly_overlap (point_buffer, poly_raster):\n",
    "    \"\"\"\n",
    "    This function will check if point buffers intersect with polygons \n",
    "    if given two gpd dataframes with point buffers and polygons\n",
    "    Returns point ids, point geometry, polygon index #, and polygon geometry in a geopandas DF.\n",
    "    It goes faster if smaller list goes first\n",
    "    \"\"\"\n",
    "    \n",
    "    # make arrays to fill\n",
    "    country_arr = []\n",
    "    city_arr = []\n",
    "    lat_arr = []\n",
    "    lon_arr = []\n",
    "    point_geom_arr = []\n",
    "    osm_id_arr = [] \n",
    "    FID_arr = [] \n",
    "    #poly_geom_arr = []\n",
    "    \n",
    "    for index_point_buffer, row_point_buffer in point_buffer.iterrows():\n",
    "        for index_poly_raster, row_poly_raster in poly_raster.iterrows():\n",
    "            if row_point_buffer['geometry'].intersects(row_poly_raster['geometry']):\n",
    "                country = row_point_buffer['country']\n",
    "                city = row_point_buffer['city']\n",
    "                lat = row_point_buffer['lat']\n",
    "                lon = row_point_buffer['lon']\n",
    "                point_geom = row_point_buffer['old_geom']\n",
    "                osm_id = row_point_buffer['osm_id']\n",
    "                poly_id = row_poly_raster['FID']\n",
    "                poly_geom = shape(mapping(row_poly_raster['geometry'])) # make polygon \n",
    "\n",
    "                country_arr.append((country))\n",
    "                city_arr.append((city))\n",
    "                lat_arr.append((lat))\n",
    "                lon_arr.append((lon))\n",
    "                point_geom_arr.append((point_geom))\n",
    "                osm_id_arr.append((osm_id))\n",
    "                FID_arr.append((poly_id))\n",
    "                #poly_geom_arr.append((poly_geom))\n",
    "    \n",
    "    # put results into a geopandas df\n",
    "    new_gpd_df = gpd.GeoDataFrame()\n",
    "    new_gpd_df['osm_id'] = osm_id_arr\n",
    "    new_gpd_df['FID'] = FID_arr\n",
    "    new_gpd_df['geometry'] = poly_geom_arr\n",
    "    new_gpd_df['country'] = country_arr           \n",
    "    new_gpd_df['city'] = city_arr\n",
    "    new_gpd_df['lat'] = lat_arr\n",
    "    new_gpd_df['lon'] = lon_arr\n",
    "    #new_gpd_df['point_geom'] = point_geom_arr\n",
    "    \n",
    "    \n",
    "    return new_gpd_df\n",
    "\n",
    "# Note 2018-11-30 update arr to gpd_df "
   ]
  },
  {
   "cell_type": "markdown",
   "metadata": {},
   "source": [
    "### Analysis"
   ]
  },
  {
   "cell_type": "code",
   "execution_count": 10,
   "metadata": {},
   "outputs": [],
   "source": [
    "# File Paths\n",
    "\n",
    "# data = ''\n",
    "temp_data = '../../temp_data/'\n",
    "osm_point_file = '20190114_osm_africa_cities.csv'\n",
    "poly_raster_file = 'AFR_PPP_2015_adj_v2_1500c300.shp'"
   ]
  },
  {
   "cell_type": "code",
   "execution_count": 11,
   "metadata": {},
   "outputs": [
    {
     "name": "stdout",
     "output_type": "stream",
     "text": [
      "   country     osm_id         city        lat       lon  \\\n",
      "0  Algeria   27564946  Constantine  36.364519  6.608260   \n",
      "1  Algeria   27565103         Oran  35.703275 -0.649298   \n",
      "2  Algeria  253292160   Tizi Ouzou  36.713784  4.049392   \n",
      "3  Algeria  262963217      El Oued  33.361177  6.860349   \n",
      "4  Algeria  262964638    Touggourt  33.109897  6.066102   \n",
      "5  Algeria  264573224     Laghouat  33.806352  2.880862   \n",
      "\n",
      "                                 geometry  \n",
      "0               POINT (6.60826 36.364519)  \n",
      "1  POINT (-0.6492975999999999 35.7032751)  \n",
      "2            POINT (4.0493919 36.7137843)  \n",
      "3            POINT (6.8603492 33.3611766)  \n",
      "4             POINT (6.066102 33.1098968)  \n",
      "5            POINT (2.8808616 33.8063518)  \n",
      "876\n"
     ]
    }
   ],
   "source": [
    "# Load OSM Points\n",
    "osm_point_gdf = load_points(temp_data+osm_point_file)\n",
    "print(osm_point_gdf.head(6))\n",
    "print(len(osm_point_gdf))"
   ]
  },
  {
   "cell_type": "code",
   "execution_count": 13,
   "metadata": {},
   "outputs": [
    {
     "data": {
      "text/html": [
       "<div>\n",
       "<style scoped>\n",
       "    .dataframe tbody tr th:only-of-type {\n",
       "        vertical-align: middle;\n",
       "    }\n",
       "\n",
       "    .dataframe tbody tr th {\n",
       "        vertical-align: top;\n",
       "    }\n",
       "\n",
       "    .dataframe thead th {\n",
       "        text-align: right;\n",
       "    }\n",
       "</style>\n",
       "<table border=\"1\" class=\"dataframe\">\n",
       "  <thead>\n",
       "    <tr style=\"text-align: right;\">\n",
       "      <th></th>\n",
       "      <th>country</th>\n",
       "      <th>osm_id</th>\n",
       "      <th>city</th>\n",
       "      <th>lat</th>\n",
       "      <th>lon</th>\n",
       "      <th>geometry</th>\n",
       "      <th>type</th>\n",
       "    </tr>\n",
       "  </thead>\n",
       "  <tbody>\n",
       "    <tr>\n",
       "      <th>0</th>\n",
       "      <td>Algeria</td>\n",
       "      <td>27564946</td>\n",
       "      <td>Constantine</td>\n",
       "      <td>36.364519</td>\n",
       "      <td>6.608260</td>\n",
       "      <td>POINT (6.60826 36.364519)</td>\n",
       "      <td>city</td>\n",
       "    </tr>\n",
       "    <tr>\n",
       "      <th>1</th>\n",
       "      <td>Algeria</td>\n",
       "      <td>27565103</td>\n",
       "      <td>Oran</td>\n",
       "      <td>35.703275</td>\n",
       "      <td>-0.649298</td>\n",
       "      <td>POINT (-0.6492975999999999 35.7032751)</td>\n",
       "      <td>city</td>\n",
       "    </tr>\n",
       "    <tr>\n",
       "      <th>2</th>\n",
       "      <td>Algeria</td>\n",
       "      <td>253292160</td>\n",
       "      <td>Tizi Ouzou</td>\n",
       "      <td>36.713784</td>\n",
       "      <td>4.049392</td>\n",
       "      <td>POINT (4.0493919 36.7137843)</td>\n",
       "      <td>city</td>\n",
       "    </tr>\n",
       "    <tr>\n",
       "      <th>3</th>\n",
       "      <td>Algeria</td>\n",
       "      <td>262963217</td>\n",
       "      <td>El Oued</td>\n",
       "      <td>33.361177</td>\n",
       "      <td>6.860349</td>\n",
       "      <td>POINT (6.8603492 33.3611766)</td>\n",
       "      <td>city</td>\n",
       "    </tr>\n",
       "    <tr>\n",
       "      <th>4</th>\n",
       "      <td>Algeria</td>\n",
       "      <td>262964638</td>\n",
       "      <td>Touggourt</td>\n",
       "      <td>33.109897</td>\n",
       "      <td>6.066102</td>\n",
       "      <td>POINT (6.066102 33.1098968)</td>\n",
       "      <td>city</td>\n",
       "    </tr>\n",
       "    <tr>\n",
       "      <th>5</th>\n",
       "      <td>Algeria</td>\n",
       "      <td>264573224</td>\n",
       "      <td>Laghouat</td>\n",
       "      <td>33.806352</td>\n",
       "      <td>2.880862</td>\n",
       "      <td>POINT (2.8808616 33.8063518)</td>\n",
       "      <td>city</td>\n",
       "    </tr>\n",
       "  </tbody>\n",
       "</table>\n",
       "</div>"
      ],
      "text/plain": [
       "   country     osm_id         city        lat       lon  \\\n",
       "0  Algeria   27564946  Constantine  36.364519  6.608260   \n",
       "1  Algeria   27565103         Oran  35.703275 -0.649298   \n",
       "2  Algeria  253292160   Tizi Ouzou  36.713784  4.049392   \n",
       "3  Algeria  262963217      El Oued  33.361177  6.860349   \n",
       "4  Algeria  262964638    Touggourt  33.109897  6.066102   \n",
       "5  Algeria  264573224     Laghouat  33.806352  2.880862   \n",
       "\n",
       "                                 geometry  type  \n",
       "0               POINT (6.60826 36.364519)  city  \n",
       "1  POINT (-0.6492975999999999 35.7032751)  city  \n",
       "2            POINT (4.0493919 36.7137843)  city  \n",
       "3            POINT (6.8603492 33.3611766)  city  \n",
       "4             POINT (6.066102 33.1098968)  city  \n",
       "5            POINT (2.8808616 33.8063518)  city  "
      ]
     },
     "execution_count": 13,
     "metadata": {},
     "output_type": "execute_result"
    }
   ],
   "source": [
    "# Add column for type: city or town\n",
    "osm_point_gdf['type'] = 'city' \n",
    "osm_point_gdf.head(6)"
   ]
  },
  {
   "cell_type": "code",
   "execution_count": 15,
   "metadata": {},
   "outputs": [
    {
     "data": {
      "text/plain": [
       "0.0022522522522522522"
      ]
     },
     "execution_count": 15,
     "metadata": {},
     "output_type": "execute_result"
    }
   ],
   "source": [
    "# AGU 2018-12-04 - radius set to ~250m at the equator \n",
    "\n",
    "radius = 250*1/(111*1000)\n",
    "radius"
   ]
  },
  {
   "cell_type": "code",
   "execution_count": 16,
   "metadata": {},
   "outputs": [],
   "source": [
    "osm_buffer_gdf = point_buffer(osm_point_gdf, radius)"
   ]
  },
  {
   "cell_type": "code",
   "execution_count": 17,
   "metadata": {},
   "outputs": [
    {
     "name": "stdout",
     "output_type": "stream",
     "text": [
      "876\n",
      "   country     osm_id         city        lat       lon  \\\n",
      "0  Algeria   27564946  Constantine  36.364519  6.608260   \n",
      "1  Algeria   27565103         Oran  35.703275 -0.649298   \n",
      "2  Algeria  253292160   Tizi Ouzou  36.713784  4.049392   \n",
      "3  Algeria  262963217      El Oued  33.361177  6.860349   \n",
      "4  Algeria  262964638    Touggourt  33.109897  6.066102   \n",
      "5  Algeria  264573224     Laghouat  33.806352  2.880862   \n",
      "\n",
      "                                 old_geom  type  \\\n",
      "0               POINT (6.60826 36.364519)  city   \n",
      "1  POINT (-0.6492975999999999 35.7032751)  city   \n",
      "2            POINT (4.0493919 36.7137843)  city   \n",
      "3            POINT (6.8603492 33.3611766)  city   \n",
      "4             POINT (6.066102 33.1098968)  city   \n",
      "5            POINT (2.8808616 33.8063518)  city   \n",
      "\n",
      "                                            geometry  \n",
      "0  POLYGON ((6.610512252252253 36.364519, 6.61050...  \n",
      "1  POLYGON ((-0.6470453477477477 35.7032751, -0.6...  \n",
      "2  POLYGON ((4.051644152252252 36.7137843, 4.0516...  \n",
      "3  POLYGON ((6.862601452252252 33.3611766, 6.8625...  \n",
      "4  POLYGON ((6.068354252252252 33.1098968, 6.0683...  \n",
      "5  POLYGON ((2.883113852252253 33.8063518, 2.8831...  \n"
     ]
    }
   ],
   "source": [
    "print(len(osm_buffer_gdf))"
   ]
  },
  {
   "cell_type": "code",
   "execution_count": null,
   "metadata": {},
   "outputs": [],
   "source": [
    "poly_overlap_out.head(6)"
   ]
  },
  {
   "cell_type": "code",
   "execution_count": 19,
   "metadata": {},
   "outputs": [
    {
     "name": "stdout",
     "output_type": "stream",
     "text": [
      "12429\n"
     ]
    }
   ],
   "source": [
    "# Load Polygon\n",
    "\n",
    "raster_polygons = gpd.read_file(temp_data+poly_raster_file)\n",
    "print(len(raster_polygons))"
   ]
  },
  {
   "cell_type": "code",
   "execution_count": null,
   "metadata": {},
   "outputs": [],
   "source": [
    "# run poly_overlap\n",
    "\n",
    "import time\n",
    "checkpoint = time.time()\n",
    "\n",
    "poly_overlap_out = poly_overlap(osm_buffer_gdf, raster_polygons)\n",
    "\n",
    "print(\"elapsed time is: {}s\".format(time.time()-checkpoint))"
   ]
  },
  {
   "cell_type": "code",
   "execution_count": null,
   "metadata": {},
   "outputs": [],
   "source": [
    "print(len(poly_overlap_out))"
   ]
  },
  {
   "cell_type": "code",
   "execution_count": null,
   "metadata": {},
   "outputs": [],
   "source": [
    "poly_overlap_out.head(6)"
   ]
  },
  {
   "cell_type": "code",
   "execution_count": null,
   "metadata": {},
   "outputs": [],
   "source": [
    "poly_overlap_out.to_file(temp_data+'.shp', driver='ESRI Shapefile')"
   ]
  }
 ],
 "metadata": {
  "kernelspec": {
   "display_name": "Python [conda root]",
   "language": "python",
   "name": "conda-root-py"
  },
  "language_info": {
   "codemirror_mode": {
    "name": "ipython",
    "version": 3
   },
   "file_extension": ".py",
   "mimetype": "text/x-python",
   "name": "python",
   "nbconvert_exporter": "python",
   "pygments_lexer": "ipython3",
   "version": "3.6.4"
  }
 },
 "nbformat": 4,
 "nbformat_minor": 2
}
