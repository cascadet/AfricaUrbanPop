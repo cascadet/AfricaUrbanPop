{
 "cells": [
  {
   "cell_type": "markdown",
   "metadata": {},
   "source": [
    "# Notebook to Clean Data\n",
    "\n",
    "20181206 - Cleaned 20181204 & 20181205 GRUMP and WP data for AGU\n",
    "20181205 = Used '20181206_osm_africa_cities.csv' to match osm IDs with pop"
   ]
  },
  {
   "cell_type": "code",
   "execution_count": 117,
   "metadata": {},
   "outputs": [],
   "source": [
    "import geopandas as gpd\n",
    "import pandas as pd\n",
    "import json\n",
    "from shapely.geometry import Point"
   ]
  },
  {
   "cell_type": "code",
   "execution_count": 96,
   "metadata": {},
   "outputs": [],
   "source": [
    "temp_data = '../../temp_data/'\n",
    "\n",
    "africa_cont = 'Africa.shp'\n",
    "africa_region = 'Africa_region.shp'\n",
    "pop_file = '20181205_GRUMP2015_zone_pop.csv'"
   ]
  },
  {
   "cell_type": "code",
   "execution_count": 103,
   "metadata": {},
   "outputs": [],
   "source": [
    "# Load Files\n",
    "africa_count_gdf = gpd.read_file(temp_data+africa_cont)\n",
    "africa_region_gdf = gpd.read_file(temp_data+africa_region)\n",
    "pop_df = pd.read_csv(temp_data+pop_file)"
   ]
  },
  {
   "cell_type": "code",
   "execution_count": 124,
   "metadata": {},
   "outputs": [
    {
     "data": {
      "text/plain": [
       "(362, 5)"
      ]
     },
     "execution_count": 124,
     "metadata": {},
     "output_type": "execute_result"
    }
   ],
   "source": [
    "pop_df.shape"
   ]
  },
  {
   "cell_type": "code",
   "execution_count": 114,
   "metadata": {},
   "outputs": [],
   "source": [
    "def load_points (file):\n",
    "    \"\"\" This function loads a csv of points and turns it into shapely points\"\"\"\n",
    "    df = pd.read_csv(file)\n",
    "\n",
    "    # creating a geometry column \n",
    "    geometry = [Point(xy) for xy in zip(df['lon'], df['lat'])]\n",
    "\n",
    "    # Coordinate reference system : WGS84\n",
    "    crs = {'init': 'epsg:4326'}\n",
    "\n",
    "    # Creating a Geographic data frame \n",
    "    point_gdf = gpd.GeoDataFrame(df, crs=crs, geometry=geometry)\n",
    "    \n",
    "    return point_gdf"
   ]
  },
  {
   "cell_type": "code",
   "execution_count": 120,
   "metadata": {},
   "outputs": [
    {
     "data": {
      "text/html": [
       "<div>\n",
       "<style scoped>\n",
       "    .dataframe tbody tr th:only-of-type {\n",
       "        vertical-align: middle;\n",
       "    }\n",
       "\n",
       "    .dataframe tbody tr th {\n",
       "        vertical-align: top;\n",
       "    }\n",
       "\n",
       "    .dataframe thead th {\n",
       "        text-align: right;\n",
       "    }\n",
       "</style>\n",
       "<table border=\"1\" class=\"dataframe\">\n",
       "  <thead>\n",
       "    <tr style=\"text-align: right;\">\n",
       "      <th></th>\n",
       "      <th>id</th>\n",
       "      <th>lat</th>\n",
       "      <th>lon</th>\n",
       "      <th>geometry</th>\n",
       "    </tr>\n",
       "  </thead>\n",
       "  <tbody>\n",
       "    <tr>\n",
       "      <th>0</th>\n",
       "      <td>27564946</td>\n",
       "      <td>36.364519</td>\n",
       "      <td>6.608260</td>\n",
       "      <td>POINT (6.60826 36.364519)</td>\n",
       "    </tr>\n",
       "    <tr>\n",
       "      <th>1</th>\n",
       "      <td>27565103</td>\n",
       "      <td>35.703275</td>\n",
       "      <td>-0.649298</td>\n",
       "      <td>POINT (-0.6492975999999999 35.7032751)</td>\n",
       "    </tr>\n",
       "    <tr>\n",
       "      <th>2</th>\n",
       "      <td>253292160</td>\n",
       "      <td>36.713784</td>\n",
       "      <td>4.049392</td>\n",
       "      <td>POINT (4.0493919 36.7137843)</td>\n",
       "    </tr>\n",
       "    <tr>\n",
       "      <th>3</th>\n",
       "      <td>262963217</td>\n",
       "      <td>33.361177</td>\n",
       "      <td>6.860349</td>\n",
       "      <td>POINT (6.8603492 33.3611766)</td>\n",
       "    </tr>\n",
       "    <tr>\n",
       "      <th>4</th>\n",
       "      <td>262964638</td>\n",
       "      <td>33.109897</td>\n",
       "      <td>6.066102</td>\n",
       "      <td>POINT (6.066102 33.1098968)</td>\n",
       "    </tr>\n",
       "    <tr>\n",
       "      <th>5</th>\n",
       "      <td>264573224</td>\n",
       "      <td>33.806352</td>\n",
       "      <td>2.880862</td>\n",
       "      <td>POINT (2.8808616 33.8063518)</td>\n",
       "    </tr>\n",
       "  </tbody>\n",
       "</table>\n",
       "</div>"
      ],
      "text/plain": [
       "          id        lat       lon                                geometry\n",
       "0   27564946  36.364519  6.608260               POINT (6.60826 36.364519)\n",
       "1   27565103  35.703275 -0.649298  POINT (-0.6492975999999999 35.7032751)\n",
       "2  253292160  36.713784  4.049392            POINT (4.0493919 36.7137843)\n",
       "3  262963217  33.361177  6.860349            POINT (6.8603492 33.3611766)\n",
       "4  262964638  33.109897  6.066102             POINT (6.066102 33.1098968)\n",
       "5  264573224  33.806352  2.880862            POINT (2.8808616 33.8063518)"
      ]
     },
     "execution_count": 120,
     "metadata": {},
     "output_type": "execute_result"
    }
   ],
   "source": [
    "osm_point_gdf = load_points(temp_data+'20181129_osm_africa_cities.csv')\n",
    "osm_point_gdf.head(6)"
   ]
  },
  {
   "cell_type": "code",
   "execution_count": 121,
   "metadata": {},
   "outputs": [
    {
     "data": {
      "text/html": [
       "<div>\n",
       "<style scoped>\n",
       "    .dataframe tbody tr th:only-of-type {\n",
       "        vertical-align: middle;\n",
       "    }\n",
       "\n",
       "    .dataframe tbody tr th {\n",
       "        vertical-align: top;\n",
       "    }\n",
       "\n",
       "    .dataframe thead th {\n",
       "        text-align: right;\n",
       "    }\n",
       "</style>\n",
       "<table border=\"1\" class=\"dataframe\">\n",
       "  <thead>\n",
       "    <tr style=\"text-align: right;\">\n",
       "      <th></th>\n",
       "      <th>id</th>\n",
       "      <th>lat</th>\n",
       "      <th>lon</th>\n",
       "      <th>geometry_x</th>\n",
       "      <th>Unnamed: 0</th>\n",
       "      <th>osm_id</th>\n",
       "      <th>FID</th>\n",
       "      <th>geometry_y</th>\n",
       "      <th>GRUMP2015_PopTot</th>\n",
       "    </tr>\n",
       "  </thead>\n",
       "  <tbody>\n",
       "    <tr>\n",
       "      <th>0</th>\n",
       "      <td>27564946</td>\n",
       "      <td>36.364519</td>\n",
       "      <td>6.608260</td>\n",
       "      <td>POINT (6.60826 36.364519)</td>\n",
       "      <td>0</td>\n",
       "      <td>27564946</td>\n",
       "      <td>301</td>\n",
       "      <td>POLYGON ((6.508333 36.475, 6.525 36.475, 6.525...</td>\n",
       "      <td>8.080542e+05</td>\n",
       "    </tr>\n",
       "    <tr>\n",
       "      <th>1</th>\n",
       "      <td>27565103</td>\n",
       "      <td>35.703275</td>\n",
       "      <td>-0.649298</td>\n",
       "      <td>POINT (-0.6492975999999999 35.7032751)</td>\n",
       "      <td>1</td>\n",
       "      <td>27565103</td>\n",
       "      <td>582</td>\n",
       "      <td>POLYGON ((-0.808333 35.775, -0.791667 35.775, ...</td>\n",
       "      <td>1.359337e+06</td>\n",
       "    </tr>\n",
       "    <tr>\n",
       "      <th>2</th>\n",
       "      <td>262963217</td>\n",
       "      <td>33.361177</td>\n",
       "      <td>6.860349</td>\n",
       "      <td>POINT (6.8603492 33.3611766)</td>\n",
       "      <td>2</td>\n",
       "      <td>262963217</td>\n",
       "      <td>1419</td>\n",
       "      <td>POLYGON ((6.883333 33.433333, 6.9 33.433333, 6...</td>\n",
       "      <td>1.580997e+05</td>\n",
       "    </tr>\n",
       "    <tr>\n",
       "      <th>3</th>\n",
       "      <td>288387133</td>\n",
       "      <td>36.733768</td>\n",
       "      <td>3.086179</td>\n",
       "      <td>POINT (3.0861789 36.7337682)</td>\n",
       "      <td>3</td>\n",
       "      <td>288387133</td>\n",
       "      <td>83</td>\n",
       "      <td>POLYGON ((3.008333 36.825, 3.016667 36.825, 3....</td>\n",
       "      <td>5.040620e+06</td>\n",
       "    </tr>\n",
       "    <tr>\n",
       "      <th>4</th>\n",
       "      <td>288417925</td>\n",
       "      <td>36.265344</td>\n",
       "      <td>2.766957</td>\n",
       "      <td>POINT (2.766957 36.265344)</td>\n",
       "      <td>4</td>\n",
       "      <td>288417925</td>\n",
       "      <td>338</td>\n",
       "      <td>POLYGON ((2.75 36.341667, 2.758333 36.341667, ...</td>\n",
       "      <td>1.494868e+05</td>\n",
       "    </tr>\n",
       "  </tbody>\n",
       "</table>\n",
       "</div>"
      ],
      "text/plain": [
       "          id        lat       lon                              geometry_x  \\\n",
       "0   27564946  36.364519  6.608260               POINT (6.60826 36.364519)   \n",
       "1   27565103  35.703275 -0.649298  POINT (-0.6492975999999999 35.7032751)   \n",
       "2  262963217  33.361177  6.860349            POINT (6.8603492 33.3611766)   \n",
       "3  288387133  36.733768  3.086179            POINT (3.0861789 36.7337682)   \n",
       "4  288417925  36.265344  2.766957              POINT (2.766957 36.265344)   \n",
       "\n",
       "   Unnamed: 0     osm_id   FID  \\\n",
       "0           0   27564946   301   \n",
       "1           1   27565103   582   \n",
       "2           2  262963217  1419   \n",
       "3           3  288387133    83   \n",
       "4           4  288417925   338   \n",
       "\n",
       "                                          geometry_y  GRUMP2015_PopTot  \n",
       "0  POLYGON ((6.508333 36.475, 6.525 36.475, 6.525...      8.080542e+05  \n",
       "1  POLYGON ((-0.808333 35.775, -0.791667 35.775, ...      1.359337e+06  \n",
       "2  POLYGON ((6.883333 33.433333, 6.9 33.433333, 6...      1.580997e+05  \n",
       "3  POLYGON ((3.008333 36.825, 3.016667 36.825, 3....      5.040620e+06  \n",
       "4  POLYGON ((2.75 36.341667, 2.758333 36.341667, ...      1.494868e+05  "
      ]
     },
     "execution_count": 121,
     "metadata": {},
     "output_type": "execute_result"
    }
   ],
   "source": [
    "merge_df = pd.merge(osm_point_gdf, pop_df, left_on = 'id', right_on = 'osm_id', how = 'inner')\n",
    "#merge_df = pd.merge(osm_df, pop_df[['FID', 'geometry', 'GRUMP2015_PopTot']], on = 'osm_id')\n",
    "merge_df.head()"
   ]
  },
  {
   "cell_type": "code",
   "execution_count": 122,
   "metadata": {},
   "outputs": [
    {
     "data": {
      "text/plain": [
       "(325, 9)"
      ]
     },
     "execution_count": 122,
     "metadata": {},
     "output_type": "execute_result"
    }
   ],
   "source": [
    "# merge_df = pd.merge(osm_df, pop_df[['osm_id','FID', 'geometry', 'GRUMP2015_PopTot']], on = 'osm_id')\n",
    "merge_df.shape"
   ]
  }
 ],
 "metadata": {
  "kernelspec": {
   "display_name": "Python [default]",
   "language": "python",
   "name": "python3"
  },
  "language_info": {
   "codemirror_mode": {
    "name": "ipython",
    "version": 3
   },
   "file_extension": ".py",
   "mimetype": "text/x-python",
   "name": "python",
   "nbconvert_exporter": "python",
   "pygments_lexer": "ipython3",
   "version": "3.6.4"
  }
 },
 "nbformat": 4,
 "nbformat_minor": 2
}
