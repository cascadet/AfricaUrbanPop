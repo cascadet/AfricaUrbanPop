{
 "cells": [
  {
   "cell_type": "markdown",
   "metadata": {},
   "source": [
    "# Notebook to Clean Data\n",
    "\n",
    "2019 - 01 - 21\n",
    "Notebook to clean final osm cities and towns\n",
    "1. merge files\n",
    "2. drop duplicates \n"
   ]
  },
  {
   "cell_type": "code",
   "execution_count": 1,
   "metadata": {},
   "outputs": [],
   "source": [
    "import geopandas as gpd\n",
    "import pandas as pd\n",
    "import json\n",
    "from shapely.geometry import Point"
   ]
  },
  {
   "cell_type": "code",
   "execution_count": 2,
   "metadata": {},
   "outputs": [],
   "source": [
    "temp_data = '../../temp_data/'\n",
    "\n",
    "city_file = 'AFR_PPP_2015_adj_v2_1500c300_polyoverlap.shp'\n",
    "town_file = 'AFR_PPP_2015_adj_v2_1500c300_polyoverlap_towns.shp'"
   ]
  },
  {
   "cell_type": "code",
   "execution_count": 3,
   "metadata": {},
   "outputs": [],
   "source": [
    "# Load Files\n",
    "city = gpd.read_file(temp_data+city_file)\n",
    "town = gpd.read_file(temp_data+town_file)\n"
   ]
  },
  {
   "cell_type": "code",
   "execution_count": 4,
   "metadata": {},
   "outputs": [
    {
     "name": "stdout",
     "output_type": "stream",
     "text": [
      "(700, 8)\n"
     ]
    },
    {
     "data": {
      "text/html": [
       "<div>\n",
       "<style scoped>\n",
       "    .dataframe tbody tr th:only-of-type {\n",
       "        vertical-align: middle;\n",
       "    }\n",
       "\n",
       "    .dataframe tbody tr th {\n",
       "        vertical-align: top;\n",
       "    }\n",
       "\n",
       "    .dataframe thead th {\n",
       "        text-align: right;\n",
       "    }\n",
       "</style>\n",
       "<table border=\"1\" class=\"dataframe\">\n",
       "  <thead>\n",
       "    <tr style=\"text-align: right;\">\n",
       "      <th></th>\n",
       "      <th>osm_id</th>\n",
       "      <th>FID</th>\n",
       "      <th>country</th>\n",
       "      <th>city</th>\n",
       "      <th>osm_type</th>\n",
       "      <th>lat</th>\n",
       "      <th>lon</th>\n",
       "      <th>geometry</th>\n",
       "    </tr>\n",
       "  </thead>\n",
       "  <tbody>\n",
       "    <tr>\n",
       "      <th>0</th>\n",
       "      <td>27564946</td>\n",
       "      <td>1065</td>\n",
       "      <td>Algeria</td>\n",
       "      <td>Constantine</td>\n",
       "      <td>city</td>\n",
       "      <td>36.364519</td>\n",
       "      <td>6.608260</td>\n",
       "      <td>POLYGON ((6.616249 36.474584, 6.649583 36.4745...</td>\n",
       "    </tr>\n",
       "    <tr>\n",
       "      <th>1</th>\n",
       "      <td>27565103</td>\n",
       "      <td>2174</td>\n",
       "      <td>Algeria</td>\n",
       "      <td>Oran</td>\n",
       "      <td>city</td>\n",
       "      <td>35.703275</td>\n",
       "      <td>-0.649298</td>\n",
       "      <td>POLYGON ((-0.808751 35.774584, -0.792084 35.77...</td>\n",
       "    </tr>\n",
       "    <tr>\n",
       "      <th>2</th>\n",
       "      <td>253292160</td>\n",
       "      <td>350</td>\n",
       "      <td>Algeria</td>\n",
       "      <td>Tizi Ouzou</td>\n",
       "      <td>city</td>\n",
       "      <td>36.713784</td>\n",
       "      <td>4.049392</td>\n",
       "      <td>POLYGON ((3.966249 36.774584, 3.982916 36.7745...</td>\n",
       "    </tr>\n",
       "    <tr>\n",
       "      <th>3</th>\n",
       "      <td>262963217</td>\n",
       "      <td>4347</td>\n",
       "      <td>Algeria</td>\n",
       "      <td>El Oued</td>\n",
       "      <td>city</td>\n",
       "      <td>33.361177</td>\n",
       "      <td>6.860349</td>\n",
       "      <td>POLYGON ((6.816249 33.424584, 6.841249 33.4245...</td>\n",
       "    </tr>\n",
       "    <tr>\n",
       "      <th>4</th>\n",
       "      <td>262964638</td>\n",
       "      <td>4437</td>\n",
       "      <td>Algeria</td>\n",
       "      <td>Touggourt</td>\n",
       "      <td>city</td>\n",
       "      <td>33.109897</td>\n",
       "      <td>6.066102</td>\n",
       "      <td>POLYGON ((6.066249 33.16625, 6.082916 33.16625...</td>\n",
       "    </tr>\n",
       "  </tbody>\n",
       "</table>\n",
       "</div>"
      ],
      "text/plain": [
       "      osm_id   FID  country         city osm_type        lat       lon  \\\n",
       "0   27564946  1065  Algeria  Constantine     city  36.364519  6.608260   \n",
       "1   27565103  2174  Algeria         Oran     city  35.703275 -0.649298   \n",
       "2  253292160   350  Algeria   Tizi Ouzou     city  36.713784  4.049392   \n",
       "3  262963217  4347  Algeria      El Oued     city  33.361177  6.860349   \n",
       "4  262964638  4437  Algeria    Touggourt     city  33.109897  6.066102   \n",
       "\n",
       "                                            geometry  \n",
       "0  POLYGON ((6.616249 36.474584, 6.649583 36.4745...  \n",
       "1  POLYGON ((-0.808751 35.774584, -0.792084 35.77...  \n",
       "2  POLYGON ((3.966249 36.774584, 3.982916 36.7745...  \n",
       "3  POLYGON ((6.816249 33.424584, 6.841249 33.4245...  \n",
       "4  POLYGON ((6.066249 33.16625, 6.082916 33.16625...  "
      ]
     },
     "execution_count": 4,
     "metadata": {},
     "output_type": "execute_result"
    }
   ],
   "source": [
    "print(city.shape)\n",
    "city.head()"
   ]
  },
  {
   "cell_type": "code",
   "execution_count": 5,
   "metadata": {},
   "outputs": [
    {
     "name": "stdout",
     "output_type": "stream",
     "text": [
      "(3154, 8)\n"
     ]
    },
    {
     "data": {
      "text/html": [
       "<div>\n",
       "<style scoped>\n",
       "    .dataframe tbody tr th:only-of-type {\n",
       "        vertical-align: middle;\n",
       "    }\n",
       "\n",
       "    .dataframe tbody tr th {\n",
       "        vertical-align: top;\n",
       "    }\n",
       "\n",
       "    .dataframe thead th {\n",
       "        text-align: right;\n",
       "    }\n",
       "</style>\n",
       "<table border=\"1\" class=\"dataframe\">\n",
       "  <thead>\n",
       "    <tr style=\"text-align: right;\">\n",
       "      <th></th>\n",
       "      <th>osm_id</th>\n",
       "      <th>FID</th>\n",
       "      <th>country</th>\n",
       "      <th>city</th>\n",
       "      <th>osm_type</th>\n",
       "      <th>lat</th>\n",
       "      <th>lon</th>\n",
       "      <th>geometry</th>\n",
       "    </tr>\n",
       "  </thead>\n",
       "  <tbody>\n",
       "    <tr>\n",
       "      <th>0</th>\n",
       "      <td>89369215</td>\n",
       "      <td>11918</td>\n",
       "      <td>Algeria</td>\n",
       "      <td>Tamanrasset</td>\n",
       "      <td>town</td>\n",
       "      <td>22.785454</td>\n",
       "      <td>5.532446</td>\n",
       "      <td>POLYGON ((5.499583 22.81625, 5.541249 22.81625...</td>\n",
       "    </tr>\n",
       "    <tr>\n",
       "      <th>1</th>\n",
       "      <td>89980948</td>\n",
       "      <td>10871</td>\n",
       "      <td>Algeria</td>\n",
       "      <td>In Salah</td>\n",
       "      <td>town</td>\n",
       "      <td>27.195033</td>\n",
       "      <td>2.482613</td>\n",
       "      <td>POLYGON ((2.474583 27.224584, 2.482916 27.2245...</td>\n",
       "    </tr>\n",
       "    <tr>\n",
       "      <th>2</th>\n",
       "      <td>252600742</td>\n",
       "      <td>242</td>\n",
       "      <td>Algeria</td>\n",
       "      <td>Boumerdès</td>\n",
       "      <td>town</td>\n",
       "      <td>36.758882</td>\n",
       "      <td>3.470596</td>\n",
       "      <td>POLYGON ((2.999583 36.824584, 3.016249 36.8245...</td>\n",
       "    </tr>\n",
       "    <tr>\n",
       "      <th>3</th>\n",
       "      <td>253167052</td>\n",
       "      <td>242</td>\n",
       "      <td>Algeria</td>\n",
       "      <td>Thenia</td>\n",
       "      <td>town</td>\n",
       "      <td>36.724986</td>\n",
       "      <td>3.556935</td>\n",
       "      <td>POLYGON ((2.999583 36.824584, 3.016249 36.8245...</td>\n",
       "    </tr>\n",
       "    <tr>\n",
       "      <th>4</th>\n",
       "      <td>253167208</td>\n",
       "      <td>242</td>\n",
       "      <td>Algeria</td>\n",
       "      <td>Zemmouri</td>\n",
       "      <td>town</td>\n",
       "      <td>36.786406</td>\n",
       "      <td>3.601221</td>\n",
       "      <td>POLYGON ((2.999583 36.824584, 3.016249 36.8245...</td>\n",
       "    </tr>\n",
       "  </tbody>\n",
       "</table>\n",
       "</div>"
      ],
      "text/plain": [
       "      osm_id    FID  country         city osm_type        lat       lon  \\\n",
       "0   89369215  11918  Algeria  Tamanrasset     town  22.785454  5.532446   \n",
       "1   89980948  10871  Algeria     In Salah     town  27.195033  2.482613   \n",
       "2  252600742    242  Algeria    Boumerdès     town  36.758882  3.470596   \n",
       "3  253167052    242  Algeria       Thenia     town  36.724986  3.556935   \n",
       "4  253167208    242  Algeria     Zemmouri     town  36.786406  3.601221   \n",
       "\n",
       "                                            geometry  \n",
       "0  POLYGON ((5.499583 22.81625, 5.541249 22.81625...  \n",
       "1  POLYGON ((2.474583 27.224584, 2.482916 27.2245...  \n",
       "2  POLYGON ((2.999583 36.824584, 3.016249 36.8245...  \n",
       "3  POLYGON ((2.999583 36.824584, 3.016249 36.8245...  \n",
       "4  POLYGON ((2.999583 36.824584, 3.016249 36.8245...  "
      ]
     },
     "execution_count": 5,
     "metadata": {},
     "output_type": "execute_result"
    }
   ],
   "source": [
    "print(town.shape)\n",
    "town.head()"
   ]
  },
  {
   "cell_type": "code",
   "execution_count": 6,
   "metadata": {},
   "outputs": [
    {
     "data": {
      "text/plain": [
       "(3854, 8)"
      ]
     },
     "execution_count": 6,
     "metadata": {},
     "output_type": "execute_result"
    }
   ],
   "source": [
    "urban_concat = pd.concat([town, city])\n",
    "urban_concat.shape"
   ]
  },
  {
   "cell_type": "code",
   "execution_count": 7,
   "metadata": {},
   "outputs": [],
   "source": [
    "urban_concat.to_file(temp_data+'AFR_PPP_2015_adj_v2_urbanmerge_test.shp', driver='ESRI Shapefile')"
   ]
  }
 ],
 "metadata": {
  "kernelspec": {
   "display_name": "Python [default]",
   "language": "python",
   "name": "python3"
  },
  "language_info": {
   "codemirror_mode": {
    "name": "ipython",
    "version": 3
   },
   "file_extension": ".py",
   "mimetype": "text/x-python",
   "name": "python",
   "nbconvert_exporter": "python",
   "pygments_lexer": "ipython3",
   "version": "3.6.4"
  }
 },
 "nbformat": 4,
 "nbformat_minor": 2
}
